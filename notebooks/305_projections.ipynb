{
 "cells": [
  {
   "cell_type": "markdown",
   "id": "0da08b15-c87b-4c6e-bd0d-4930a983fc0f",
   "metadata": {
    "editable": true,
    "slideshow": {
     "slide_type": ""
    },
    "tags": []
   },
   "source": [
    "# Data Projection"
   ]
  },
  {
   "cell_type": "markdown",
   "id": "5fe1da2e-1ff2-443e-9275-8906a0f53e1f",
   "metadata": {},
   "source": [
    "The Earth is curved, but spatial data is often represented as flat maps. Converting from 3D to 2D causes stretching and inaccuracies in measurements like distance and area. \n",
    "\n",
    "Projections help transform data into flat maps while minimizing distortions."
   ]
  },
  {
   "cell_type": "markdown",
   "id": "a2a853e6-ccb8-41bd-bb1a-d145c91c1006",
   "metadata": {},
   "source": [
    "```{figure} ../resources/23.png\n",
    ":width: 750px\n",
    ":name: figure-example\n",
    "\n",
    "Map projection (Source: [randpublishing](https://randpublishing.com/blog/ask-a-cartographer-what-are-some-of-the-coolest-or-most-unusual-map-projections-you-have-come-across/))\n",
    "````"
   ]
  },
  {
   "cell_type": "markdown",
   "id": "c4dcf234-1799-4416-9fb7-bb01f2599807",
   "metadata": {},
   "source": [
    "`````{admonition} CRS\n",
    ":class: tip\n",
    "\n",
    "**Coordinate Reference System (CRS)** is a system used to define the location of spatial objects on the Earth's surface.\n",
    "`````"
   ]
  },
  {
   "cell_type": "markdown",
   "id": "1f0e3268-257a-4b0a-b4c1-247282226c0a",
   "metadata": {},
   "source": [
    "`Geographic Coordinate Systems (GCS)`: Defines locations using latitude and longitude on a spherical model of the Earth (e.g., WGS84)."
   ]
  },
  {
   "cell_type": "markdown",
   "id": "e6405b15-f52a-443a-a3b9-96b3004eb43c",
   "metadata": {},
   "source": [
    "`Projected Coordinate Systems (PCS)`: Converts the curved surface into a flat map with a Cartesian coordinate system (e.g., UTM)."
   ]
  },
  {
   "cell_type": "markdown",
   "id": "130cfefd-bb21-4b7d-9fb3-33682554d3bc",
   "metadata": {},
   "source": [
    "```{figure} ../resources/24.png\n",
    ":width: 700px\n",
    ":name: figure-example\n",
    "\n",
    "Geographic Coordinate Systems VS Projected Coordinate Systems (Source: [Nature Data Newsletter](https://newsletter.cecil.earth/p/spatial-data-foundations-for-nature))\n",
    "````"
   ]
  },
  {
   "cell_type": "markdown",
   "id": "e9d9e17e-7c1c-4d8d-9a8e-faaa4b3213e2",
   "metadata": {},
   "source": [
    "`````{admonition} GCS VS PCS!\n",
    ":class: note\n",
    "\n",
    "Geographic Coordinate Systems **(GCS)**: Preserves shape over large areas but can distort distances and areas when flattened. Ideal for **global-scale mapping** where angular relationships matter.\n",
    "\n",
    "Projected Coordinate Systems **(PCS)**: Reduces distortions for specific regions but may distort shape or scale because flattening a curved surface causes stretching or compression, leading to shape alterations. It is best for **local or regional mapping** that requires accurate measurements.\n",
    "`````"
   ]
  },
  {
   "cell_type": "markdown",
   "id": "ed484b67-856d-4aa8-821a-bac9f5429871",
   "metadata": {},
   "source": [
    "Spatial relationships like joins and overlays cannot be performed correctly if datasets have different coordinate systems and need reprojecting."
   ]
  },
  {
   "cell_type": "markdown",
   "id": "f88bf70a-b096-45a4-9d48-4f6edcffa311",
   "metadata": {},
   "source": [
    "The reason is that they may not align correctly, which can misrepresent spatial relationships and result in incorrect matching and analysis."
   ]
  },
  {
   "cell_type": "markdown",
   "id": "354823cd-632e-49e2-ad84-d777260320d1",
   "metadata": {},
   "source": [
    "For this reason, the `geopandas` package is used. "
   ]
  },
  {
   "cell_type": "code",
   "execution_count": 8,
   "id": "8c38c4fd-6a68-45d7-bf29-bd8ffc2f6614",
   "metadata": {},
   "outputs": [],
   "source": [
    "from pathlib import Path\n",
    "import geopandas as gp\n",
    "\n",
    "base_path = Path.cwd().parents[0]\n",
    "INPUT = base_path / \"00_data\""
   ]
  },
  {
   "cell_type": "markdown",
   "id": "646f8c11-9060-4dc4-8f96-56b3034c8680",
   "metadata": {},
   "source": [
    "The path to the data is defined."
   ]
  },
  {
   "cell_type": "code",
   "execution_count": 9,
   "id": "a9a2e0a3-6bb3-493a-853a-fcd3cd4963da",
   "metadata": {},
   "outputs": [],
   "source": [
    "Data = gp.read_file(INPUT / \"LBM_2018_IS_DD_gdb\" / \"LBM_2018_IS_DD.gdb\")"
   ]
  },
  {
   "cell_type": "markdown",
   "id": "384ebca6-4058-48fb-a057-0fe57b2bb8f6",
   "metadata": {},
   "source": [
    "## Extracting CRS"
   ]
  },
  {
   "cell_type": "markdown",
   "id": "91bf32db-ad87-42ff-8ead-96080c6b0436",
   "metadata": {},
   "source": [
    "The current coordinate system of the data should be checked using `crs` method."
   ]
  },
  {
   "cell_type": "markdown",
   "id": "113f01d4-b01a-4385-b8da-8b633f94fd32",
   "metadata": {},
   "source": [
    "In the following example, which is for a projected coordinate system, the important information is:\n",
    " - `Coordinate System`: ETRS89/UTM Zone 33N, accurate for Central Europe (Area of Use)\n",
    " - `Coordinates`: E and N represent Easting (X) and Northing (Y) in cartesian CRS\n",
    " - `Unit of Measurements`: Meters"
   ]
  },
  {
   "cell_type": "markdown",
   "id": "249f9431-d854-41fa-b5e0-276519c0bf23",
   "metadata": {},
   "source": [
    "`````{admonition} EPSG code\n",
    ":class: caution \n",
    "\n",
    "The EPSG code is a unique identifier for Coordinate Reference Systems, including both Geographic and Projected. Each EPSG code defines a specific way to locate, measure, and project spatial data.\n",
    "\n",
    "The [EPSG.io from MapTiler](https://epsg.io/#google_vignette) includes the EPSG codes for all required locations.\n",
    "`````"
   ]
  },
  {
   "cell_type": "code",
   "execution_count": 10,
   "id": "7d101eda-33a7-459c-90dc-43794407abd0",
   "metadata": {},
   "outputs": [
    {
     "data": {
      "text/plain": [
       "<Projected CRS: EPSG:25833>\n",
       "Name: ETRS89 / UTM zone 33N\n",
       "Axis Info [cartesian]:\n",
       "- E[east]: Easting (metre)\n",
       "- N[north]: Northing (metre)\n",
       "Area of Use:\n",
       "- name: Europe between 12°E and 18°E: Austria; Croatia; Denmark - offshore and offshore; Germany - onshore and offshore; Italy - onshore and offshore; Norway including Svalbard - onshore and offshore.\n",
       "- bounds: (12.0, 34.79, 18.01, 84.01)\n",
       "Coordinate Operation:\n",
       "- name: UTM zone 33N\n",
       "- method: Transverse Mercator\n",
       "Datum: European Terrestrial Reference System 1989 ensemble\n",
       "- Ellipsoid: GRS 1980\n",
       "- Prime Meridian: Greenwich"
      ]
     },
     "execution_count": 10,
     "metadata": {},
     "output_type": "execute_result"
    }
   ],
   "source": [
    "Data.crs"
   ]
  },
  {
   "cell_type": "markdown",
   "id": "3679063c-de06-4e74-9b9d-71141226e33b",
   "metadata": {},
   "source": [
    "`````{admonition} Example for Geographical Coordinate System\n",
    ":class: tip, dropdown \n",
    "\n",
    "In the following figure, which is for a geographical coordinate system, the important information is:\n",
    " - `Coordinate System`: WGS 84, a global CRS, covers the entire Earth \n",
    " - `Coordinates`: Latitude and Longitude, representing Northing and Easting\n",
    " - `Unit of Measurements`: Degrees\n",
    "\n",
    "* It already mentioned that geographical coordinate systems are 3D. However, for visualization as a map, just the latitude and longitude are used without height (Z values), that is the reason that the output is labeled as **Geographic 2D CRS**.\n",
    "\n",
    "```{figure} ../resources/25.png\n",
    ":width: 700px\n",
    ":name: figure-example\n",
    "\n",
    "Example of a Geographic Coordinate System\n",
    "````\n",
    "`````"
   ]
  },
  {
   "cell_type": "markdown",
   "id": "8cba98a8-3bfe-4496-9b98-e5c23707e840",
   "metadata": {},
   "source": [
    "## Assigning CRS"
   ]
  },
  {
   "cell_type": "markdown",
   "id": "72c2a7cc-c8fd-41e5-aa0d-633dc603a588",
   "metadata": {},
   "source": [
    "If the `crs` output is `None`, it means the dataset has no assigned CRS, and it should be set manually using `set_crs` method.\n",
    "\n",
    "The correct CRS is mentioned in the metadata file."
   ]
  },
  {
   "cell_type": "code",
   "execution_count": 15,
   "id": "2ac1b033-382d-45ee-bb44-b999c340830c",
   "metadata": {},
   "outputs": [],
   "source": [
    "Data2 = Data.set_crs(\"EPSG:25833\")"
   ]
  },
  {
   "cell_type": "markdown",
   "id": "911f466c-1a1a-424d-88b2-1e27253d7b06",
   "metadata": {},
   "source": [
    "## Reprojecting Coordinates"
   ]
  },
  {
   "cell_type": "markdown",
   "id": "0b995d9b-e078-4126-bae9-c54c9f45e429",
   "metadata": {},
   "source": [
    "Finally, for transforming the coordinate system to the required coordinate system, known as Reprojection the `to_crs` method is used."
   ]
  },
  {
   "cell_type": "code",
   "execution_count": 16,
   "id": "e05af50e-19a1-4e0e-a7cb-10930ff10416",
   "metadata": {},
   "outputs": [],
   "source": [
    "Data3 = Data.to_crs(\"EPSG:3035\")"
   ]
  },
  {
   "cell_type": "code",
   "execution_count": 17,
   "id": "9fceb741-c394-40ee-af7d-5a22c537590e",
   "metadata": {},
   "outputs": [
    {
     "data": {
      "text/plain": [
       "<Projected CRS: EPSG:3035>\n",
       "Name: ETRS89-extended / LAEA Europe\n",
       "Axis Info [cartesian]:\n",
       "- Y[north]: Northing (metre)\n",
       "- X[east]: Easting (metre)\n",
       "Area of Use:\n",
       "- name: Europe - European Union (EU) countries and candidates. Europe - onshore and offshore: Albania; Andorra; Austria; Belgium; Bosnia and Herzegovina; Bulgaria; Croatia; Cyprus; Czechia; Denmark; Estonia; Faroe Islands; Finland; France; Germany; Gibraltar; Greece; Hungary; Iceland; Ireland; Italy; Kosovo; Latvia; Liechtenstein; Lithuania; Luxembourg; Malta; Monaco; Montenegro; Netherlands; North Macedonia; Norway including Svalbard and Jan Mayen; Poland; Portugal including Madeira and Azores; Romania; San Marino; Serbia; Slovakia; Slovenia; Spain including Canary Islands; Sweden; Switzerland; Türkiye (Turkey); United Kingdom (UK) including Channel Islands and Isle of Man; Vatican City State.\n",
       "- bounds: (-35.58, 24.6, 44.83, 84.73)\n",
       "Coordinate Operation:\n",
       "- name: Europe Equal Area 2001\n",
       "- method: Lambert Azimuthal Equal Area\n",
       "Datum: European Terrestrial Reference System 1989 ensemble\n",
       "- Ellipsoid: GRS 1980\n",
       "- Prime Meridian: Greenwich"
      ]
     },
     "execution_count": 17,
     "metadata": {},
     "output_type": "execute_result"
    }
   ],
   "source": [
    "Data3.crs"
   ]
  }
 ],
 "metadata": {
  "kernelspec": {
   "display_name": "worker_env",
   "language": "python",
   "name": "worker_env"
  },
  "language_info": {
   "codemirror_mode": {
    "name": "ipython",
    "version": 3
   },
   "file_extension": ".py",
   "mimetype": "text/x-python",
   "name": "python",
   "nbconvert_exporter": "python",
   "pygments_lexer": "ipython3",
   "version": "3.12.7"
  }
 },
 "nbformat": 4,
 "nbformat_minor": 5
}
