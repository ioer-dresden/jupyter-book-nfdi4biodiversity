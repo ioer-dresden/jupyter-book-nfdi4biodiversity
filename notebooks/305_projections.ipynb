{
 "cells": [
  {
   "cell_type": "markdown",
   "id": "0da08b15-c87b-4c6e-bd0d-4930a983fc0f",
   "metadata": {
    "editable": true,
    "slideshow": {
     "slide_type": ""
    },
    "tags": []
   },
   "source": [
    "# Projections in Spatial Analysis"
   ]
  },
  {
   "cell_type": "markdown",
   "id": "468ab5c9-e861-4b94-acdc-bb9e3d735606",
   "metadata": {},
   "source": [
    "Map projections transform the curved surface of the Earth into a flat map, minimizing distortions. \n",
    "\n",
    "Without projections, spatial data will be stretched and inaccurate in measurements."
   ]
  },
  {
   "cell_type": "markdown",
   "id": "a2a853e6-ccb8-41bd-bb1a-d145c91c1006",
   "metadata": {},
   "source": [
    "```{figure} ../resources/23.png\n",
    ":width: 500px\n",
    ":name: figure-example\n",
    "\n",
    "Map projection (Source: [randpublishing](https://randpublishing.com/blog/ask-a-cartographer-what-are-some-of-the-coolest-or-most-unusual-map-projections-you-have-come-across/))\n",
    "````"
   ]
  },
  {
   "cell_type": "markdown",
   "id": "c4dcf234-1799-4416-9fb7-bb01f2599807",
   "metadata": {},
   "source": [
    "Coordinate Reference System (CRS) is a system used to define the location of spatial objects on the Earth's surface."
   ]
  },
  {
   "cell_type": "markdown",
   "id": "1f0e3268-257a-4b0a-b4c1-247282226c0a",
   "metadata": {},
   "source": [
    "`Geographic Coordinate Systems (GCS)`: Defines locations using latitude and longitude on a spherical model of the Earth (e.g., WGS84).\n",
    "`Projected Coordinate Systems (PCS)`: Converts the curved surface into a flat map with a Cartesian coordinate system (e.g., UTM)."
   ]
  },
  {
   "cell_type": "markdown",
   "id": "130cfefd-bb21-4b7d-9fb3-33682554d3bc",
   "metadata": {},
   "source": [
    "```{figure} ../resources/24.png\n",
    ":width: 600px\n",
    ":name: figure-example\n",
    "\n",
    "Geographic Coordinate Systems VS Projected Coordinate Systems (Source: [Nature Data Newsletter](https://newsletter.cecil.earth/p/spatial-data-foundations-for-nature))\n",
    "````"
   ]
  },
  {
   "cell_type": "markdown",
   "id": "e9d9e17e-7c1c-4d8d-9a8e-faaa4b3213e2",
   "metadata": {},
   "source": [
    "`````{admonition} GCS VS PCS!\n",
    ":class: note\n",
    "\n",
    "Geographic Coordinate Systems **(GCS)**: Preserves shape over large areas but can distort distances and areas when flattened. Ideal for **global-scale mapping** where angular relationships matter.\n",
    "\n",
    "Projected Coordinate Systems **(PCS)**: Reduces distortions for specific regions but may distort shape or scale because flattening a curved surface causes stretching or compression, leading to shape alterations. It is best for **local or regional mapping** that requires accurate measurements.\n",
    "`````"
   ]
  },
  {
   "cell_type": "code",
   "execution_count": null,
   "id": "d0ce22ed-3fcc-45d6-8f28-8447d43ae633",
   "metadata": {},
   "outputs": [],
   "source": []
  }
 ],
 "metadata": {
  "kernelspec": {
   "display_name": "worker_env",
   "language": "python",
   "name": "worker_env"
  },
  "language_info": {
   "codemirror_mode": {
    "name": "ipython",
    "version": 3
   },
   "file_extension": ".py",
   "mimetype": "text/x-python",
   "name": "python",
   "nbconvert_exporter": "python",
   "pygments_lexer": "ipython3",
   "version": "3.12.7"
  }
 },
 "nbformat": 4,
 "nbformat_minor": 5
}
