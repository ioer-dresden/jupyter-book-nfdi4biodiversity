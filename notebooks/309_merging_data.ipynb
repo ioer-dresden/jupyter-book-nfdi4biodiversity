{
 "cells": [
  {
   "cell_type": "markdown",
   "id": "49e47b43-a4c6-4630-b79e-56eaa1ce4288",
   "metadata": {
    "editable": true,
    "slideshow": {
     "slide_type": ""
    },
    "tags": []
   },
   "source": [
    "# Merging data"
   ]
  },
  {
   "cell_type": "markdown",
   "id": "19c7c6db-3e31-4d8d-8c17-ab423ca6a59d",
   "metadata": {},
   "source": [
    "```{admonition} Summary\n",
    ":class: hint\n",
    "\n",
    "This section explains XY ways to merge geospatial data:\n",
    "\n",
    "- Merging similar datasets using the `concat()` function\n",
    "- Merging datasets by common attributes using the `merge()` function\n",
    "- Merging datasets based on spatial relationships using the `sjoin()` function\n",
    "...\n",
    "\n",
    "```"
   ]
  },
  {
   "cell_type": "markdown",
   "id": "f5be73f8-83ca-4703-a50c-69f88f81a455",
   "metadata": {},
   "source": [
    "## Merging similar datasets using `concat()`"
   ]
  },
  {
   "cell_type": "markdown",
   "id": "40cf8de0-0384-49b9-b950-76c5ef6c83a9",
   "metadata": {},
   "source": [
    "If the attributes of the input datasets are identical, they can be merged vertically using the `concat()` function in `pandas`."
   ]
  },
  {
   "cell_type": "markdown",
   "id": "a4d88bdc-f58f-4454-8608-bac48723e4a9",
   "metadata": {},
   "source": [
    "Import and load required libraries:"
   ]
  },
  {
   "cell_type": "code",
   "execution_count": 1,
   "id": "3f459f63-c45b-4a04-a767-66e53de1f0ae",
   "metadata": {
    "editable": true,
    "slideshow": {
     "slide_type": ""
    },
    "tags": []
   },
   "outputs": [],
   "source": [
    "from pathlib import Path\n",
    "import geopandas as gp\n",
    "import pandas as pd"
   ]
  },
  {
   "cell_type": "markdown",
   "id": "2b19d046-99c0-4f44-842d-bf118e3bce63",
   "metadata": {},
   "source": [
    "Define input and output paths:"
   ]
  },
  {
   "cell_type": "code",
   "execution_count": 2,
   "id": "38c2e0ee-05f8-41f2-94bd-e25c5cb680b1",
   "metadata": {
    "editable": true,
    "slideshow": {
     "slide_type": ""
    },
    "tags": []
   },
   "outputs": [],
   "source": [
    "INPUT = Path.cwd().parents[0] / \"00_data\"\n",
    "OUTPUT = Path.cwd().parents[0] / \"out\""
   ]
  },
  {
   "cell_type": "markdown",
   "id": "1bf03256-5d30-4136-b6d1-01d9d4f66796",
   "metadata": {
    "editable": true,
    "slideshow": {
     "slide_type": ""
    },
    "tags": []
   },
   "source": [
    "Load input datasets:"
   ]
  },
  {
   "cell_type": "code",
   "execution_count": 4,
   "id": "27d4e374-10d6-46ec-9ed0-d3e9bc29539b",
   "metadata": {
    "editable": true,
    "slideshow": {
     "slide_type": ""
    },
    "tags": []
   },
   "outputs": [],
   "source": [
    "layers_path = Path(INPUT / \"layers\")\n",
    "input_layer = gp.read_file(layers_path / \"border.shp\")\n",
    "second_layer = gp.read_file(layers_path / \"border.shp\")"
   ]
  },
  {
   "cell_type": "markdown",
   "id": "c4ccd721-5eb8-4309-92b3-290da99a7228",
   "metadata": {
    "editable": true,
    "slideshow": {
     "slide_type": ""
    },
    "tags": []
   },
   "source": [
    "The `concat()` function is used to concatenate the two layers. The `ignore_index` parameter determines whether a new index is created or if the original indexes are preserved.\n",
    "\n",
    "- `ignore_index=True` → Creates a new index for the features in the merged dataset.\n",
    "- `ignore_index=False` → Preserves original indexes (which may lead to duplicate indexes)."
   ]
  },
  {
   "cell_type": "code",
   "execution_count": 5,
   "id": "449478e1-3a5d-4370-b6dd-743f5674614e",
   "metadata": {
    "editable": true,
    "slideshow": {
     "slide_type": ""
    },
    "tags": []
   },
   "outputs": [],
   "source": [
    "merged_layer = pd.concat(\n",
    "    [input_layer, second_layer], \n",
    "    ignore_index=True)"
   ]
  },
  {
   "cell_type": "markdown",
   "id": "c3eff8e0-fe5b-4429-9137-b5a0d589431e",
   "metadata": {
    "editable": true,
    "slideshow": {
     "slide_type": ""
    },
    "tags": []
   },
   "source": [
    "Check the results: "
   ]
  },
  {
   "cell_type": "code",
   "execution_count": 6,
   "id": "e1507403-6afc-4208-93c9-5d0a933e416b",
   "metadata": {
    "editable": true,
    "slideshow": {
     "slide_type": ""
    },
    "tags": []
   },
   "outputs": [
    {
     "data": {
      "text/html": [
       "<div>\n",
       "<style scoped>\n",
       "    .dataframe tbody tr th:only-of-type {\n",
       "        vertical-align: middle;\n",
       "    }\n",
       "\n",
       "    .dataframe tbody tr th {\n",
       "        vertical-align: top;\n",
       "    }\n",
       "\n",
       "    .dataframe thead th {\n",
       "        text-align: right;\n",
       "    }\n",
       "</style>\n",
       "<table border=\"1\" class=\"dataframe\">\n",
       "  <thead>\n",
       "    <tr style=\"text-align: right;\">\n",
       "      <th></th>\n",
       "      <th>Id</th>\n",
       "      <th>geometry</th>\n",
       "    </tr>\n",
       "  </thead>\n",
       "  <tbody>\n",
       "    <tr>\n",
       "      <th>0</th>\n",
       "      <td>0</td>\n",
       "      <td>POLYGON ((405728.211 5659356.174, 405708.836 5...</td>\n",
       "    </tr>\n",
       "    <tr>\n",
       "      <th>1</th>\n",
       "      <td>0</td>\n",
       "      <td>POLYGON ((405728.211 5659356.174, 405708.836 5...</td>\n",
       "    </tr>\n",
       "  </tbody>\n",
       "</table>\n",
       "</div>"
      ],
      "text/plain": [
       "   Id                                           geometry\n",
       "0   0  POLYGON ((405728.211 5659356.174, 405708.836 5...\n",
       "1   0  POLYGON ((405728.211 5659356.174, 405708.836 5..."
      ]
     },
     "execution_count": 6,
     "metadata": {},
     "output_type": "execute_result"
    }
   ],
   "source": [
    "merged_layer"
   ]
  },
  {
   "cell_type": "markdown",
   "id": "6ba81fa1-c25c-47d2-87c5-1408ceeefa17",
   "metadata": {
    "editable": true,
    "slideshow": {
     "slide_type": ""
    },
    "tags": []
   },
   "source": [
    "## Merging based on common attributes using `merge()`"
   ]
  },
  {
   "cell_type": "markdown",
   "id": "0ef00119-a037-45c0-b950-055ed22a1aae",
   "metadata": {
    "editable": true,
    "slideshow": {
     "slide_type": ""
    },
    "tags": []
   },
   "source": [
    "If two datasets share a `common attribute`, they can be merged into one dataset horizontally. In this case, the output will include only rows with matching values in the common attribute. \n",
    "\n",
    "For example, if both datasets contain an `ID` column, only the rows with the **same ID** will be merged horizontally, combining all attributes for that ID. "
   ]
  },
  {
   "cell_type": "markdown",
   "id": "617ff96b-a231-46a4-8a89-6e86eb3df15f",
   "metadata": {
    "editable": true,
    "slideshow": {
     "slide_type": ""
    },
    "tags": []
   },
   "source": [
    "````{admonition} How the **how** parameter works in the **merge() function**\n",
    ":class: tip\n",
    "The `how` parameter controls how datasets are merged:\n",
    "- `inner`: The result includes only matching rows. Common attribute must be the same in both datasets from both datasets.\n",
    "- `outer`: The result  all rows from both datasets. Missing values are filled with `NaN`.\n",
    "- `left`: The result includes all rows from the first dataset and matching data from the second. Non-matching rows get `NaN`.\n",
    "- `right`: The result includes all rows from the second dataset and matching data from the first. Non-matching rows get `NaN`.\n",
    "\n",
    "For more information, check the the [GeoPandas documentation](https://geopandas.org/en/stable/docs/user_guide/mergingdata.html#attribute-joins).\n",
    "````"
   ]
  },
  {
   "cell_type": "markdown",
   "id": "aca77021-8ef4-46ba-88f3-7db195bcfa84",
   "metadata": {
    "editable": true,
    "slideshow": {
     "slide_type": ""
    },
    "tags": []
   },
   "source": [
    "```{dropdown} Examples how different **how** options affect merging with tables\n",
    "The following examples show how two datasets are merged, defined by the `how` parameter. \n",
    "\n",
    "**Dataset 1**:\n",
    "\n",
    "|ID  |Type  |\n",
    "|:---| ----:|\n",
    "|1   |     A|\n",
    "|3   |C     |\n",
    "|6   |D     |\n",
    "\n",
    "**Dataset 2**:\n",
    "\n",
    "|    ID  |   Time    |\n",
    "| :------| --------: |\n",
    "|    1   |  15 min   |\n",
    "|    3   |  16 min   |\n",
    "|    4   |  17 min   |\n",
    "\n",
    "- `inner`: Keeps only the rows with matching `ID` values in both datasets.\n",
    "\n",
    "|    ID  |  Type   |   Time   |\n",
    "| :------| ------- |--------: |\n",
    "|    1   |   A     |  15 min  |\n",
    "|    3   |   C     |  16 min  |\n",
    "\n",
    "- `outer`: Includes all rows from both datasets; missing values are filled with `NaN`.\n",
    "\n",
    "|    ID  |  Type   |   Time   |\n",
    "| :------| ------- |--------: |\n",
    "|    1   |   A     |  15 min  |\n",
    "|    3   |   C     |  16 min  |\n",
    "|    6   |   D     | **NaN**  |\n",
    "|    4   | **NaN** |  17 min  |\n",
    "\n",
    "- `left`: Keeps all rows from **Dataset 1** and adds matching values from **Dataset 2**; unmatched values get `NaN`.\n",
    "\n",
    "|    ID  |  Type   |   Time   |\n",
    "| :------| ------- |--------: |\n",
    "|    1   |   A     |  15 min  |\n",
    "|    3   |   C     |  16 min  |\n",
    "|    6   |   D     | **NaN**  |\n",
    "\n",
    "- `right`: Keeps all rows from **Dataset 2** and adds matching values from **Dataset 1**; unmatched values get `NaN`.\n",
    "\n",
    "|    ID  |  Type   |   Time   |\n",
    "| :------| ------- |--------: |\n",
    "|    1   |   A     |  15 min  |\n",
    "|    3   |   C     |  16 min  |\n",
    "|    4   | **NaN** |  17 min  |\n",
    "```"
   ]
  },
  {
   "cell_type": "markdown",
   "id": "c091f54f-9fbc-4398-aae6-ffb22896fcd3",
   "metadata": {
    "editable": true,
    "slideshow": {
     "slide_type": ""
    },
    "tags": []
   },
   "source": [
    "**Code example: Using the `merge()` function in Python**\n",
    "\n",
    "Load the datasets:"
   ]
  },
  {
   "cell_type": "code",
   "execution_count": 7,
   "id": "de22ff16-21c0-4e46-a971-d23a4ccc4318",
   "metadata": {
    "editable": true,
    "slideshow": {
     "slide_type": ""
    },
    "tags": []
   },
   "outputs": [],
   "source": [
    "input_layer = gp.read_file(layers_path / \"border.shp\")\n",
    "second_layer = gp.read_file(layers_path / \"border.shp\")"
   ]
  },
  {
   "cell_type": "markdown",
   "id": "5eb9f94d-0fc9-4448-8daa-f741309254f8",
   "metadata": {},
   "source": [
    "Merge using the `merge()` function:"
   ]
  },
  {
   "cell_type": "code",
   "execution_count": 8,
   "id": "4e7371eb-b6f3-4f3f-acd2-a0ac191b46a4",
   "metadata": {
    "editable": true,
    "slideshow": {
     "slide_type": ""
    },
    "tags": []
   },
   "outputs": [],
   "source": [
    "merged_layer = input_layer.merge(\n",
    "    second_layer, \n",
    "    on='Id',     # on - defines the similarity attribute.\n",
    "    how='inner') # how - controls how datasets are merged."
   ]
  },
  {
   "cell_type": "markdown",
   "id": "7b7c5ca3-e866-4a95-8837-319d75809649",
   "metadata": {
    "editable": true,
    "slideshow": {
     "slide_type": ""
    },
    "tags": []
   },
   "source": []
  },
  {
   "cell_type": "markdown",
   "id": "8e6c6b0d-32af-4e10-9262-d74c2f44ccc8",
   "metadata": {
    "editable": true,
    "slideshow": {
     "slide_type": ""
    },
    "tags": []
   },
   "source": [
    "Then check the result with the `print` function:"
   ]
  },
  {
   "cell_type": "code",
   "execution_count": 9,
   "id": "3c6e08b3-878e-44ca-b53e-79d7abd97593",
   "metadata": {
    "editable": true,
    "slideshow": {
     "slide_type": ""
    },
    "tags": []
   },
   "outputs": [
    {
     "data": {
      "text/html": [
       "<div>\n",
       "<style scoped>\n",
       "    .dataframe tbody tr th:only-of-type {\n",
       "        vertical-align: middle;\n",
       "    }\n",
       "\n",
       "    .dataframe tbody tr th {\n",
       "        vertical-align: top;\n",
       "    }\n",
       "\n",
       "    .dataframe thead th {\n",
       "        text-align: right;\n",
       "    }\n",
       "</style>\n",
       "<table border=\"1\" class=\"dataframe\">\n",
       "  <thead>\n",
       "    <tr style=\"text-align: right;\">\n",
       "      <th></th>\n",
       "      <th>Id</th>\n",
       "      <th>geometry_x</th>\n",
       "      <th>geometry_y</th>\n",
       "    </tr>\n",
       "  </thead>\n",
       "  <tbody>\n",
       "    <tr>\n",
       "      <th>0</th>\n",
       "      <td>0</td>\n",
       "      <td>POLYGON ((405728.211 5659356.174, 405708.836 5...</td>\n",
       "      <td>POLYGON ((405728.211 5659356.174, 405708.836 5...</td>\n",
       "    </tr>\n",
       "  </tbody>\n",
       "</table>\n",
       "</div>"
      ],
      "text/plain": [
       "   Id                                         geometry_x  \\\n",
       "0   0  POLYGON ((405728.211 5659356.174, 405708.836 5...   \n",
       "\n",
       "                                          geometry_y  \n",
       "0  POLYGON ((405728.211 5659356.174, 405708.836 5...  "
      ]
     },
     "execution_count": 9,
     "metadata": {},
     "output_type": "execute_result"
    }
   ],
   "source": [
    "merged_layer"
   ]
  },
  {
   "cell_type": "markdown",
   "id": "164291e5-66c3-48b2-b040-23f0aa680193",
   "metadata": {
    "editable": true,
    "slideshow": {
     "slide_type": ""
    },
    "tags": []
   },
   "source": [
    "```{admonition} Handling duplicate column names\n",
    ":class: note\n",
    "If both datasets have columns with the same name (other than the common attribute), GeoPandas adds suffixes `_x` and `_y` by default.\n",
    "\n",
    "**Example**: If both datasets contain a column named area, the merged dataset will have area_x (from the first dataset) and area_y (from the second dataset).\n",
    "```"
   ]
  },
  {
   "cell_type": "markdown",
   "id": "36aa5c0c-a7bc-450c-956b-8f7815ac3ca2",
   "metadata": {},
   "source": [
    "### Customizing suffixes"
   ]
  },
  {
   "cell_type": "markdown",
   "id": "9818fc17-0296-4cb5-a827-5554475ec5c2",
   "metadata": {},
   "source": [
    "To rename these suffixes within the `merge()` function, use the `suffixes` parameter:"
   ]
  },
  {
   "cell_type": "code",
   "execution_count": 10,
   "id": "4713a45b-fd5f-437a-9e21-7aceb06240aa",
   "metadata": {
    "editable": true,
    "slideshow": {
     "slide_type": ""
    },
    "tags": []
   },
   "outputs": [],
   "source": [
    "merged_layer = input_layer.merge(\n",
    "    second_layer,\n",
    "    on='Id',\n",
    "    how='inner',\n",
    "    suffixes=('_inputlayer', '_2ndlayer')) # rename suffixes"
   ]
  },
  {
   "cell_type": "markdown",
   "id": "64dd04e1-79bb-4d08-a492-ee71202b06ba",
   "metadata": {
    "editable": true,
    "slideshow": {
     "slide_type": ""
    },
    "tags": []
   },
   "source": [
    "Check the result with the `print` function:"
   ]
  },
  {
   "cell_type": "code",
   "execution_count": 13,
   "id": "743b2c3e-1147-46da-9eba-6cf650911ba3",
   "metadata": {
    "editable": true,
    "slideshow": {
     "slide_type": ""
    },
    "tags": []
   },
   "outputs": [
    {
     "data": {
      "text/html": [
       "<div>\n",
       "<style scoped>\n",
       "    .dataframe tbody tr th:only-of-type {\n",
       "        vertical-align: middle;\n",
       "    }\n",
       "\n",
       "    .dataframe tbody tr th {\n",
       "        vertical-align: top;\n",
       "    }\n",
       "\n",
       "    .dataframe thead th {\n",
       "        text-align: right;\n",
       "    }\n",
       "</style>\n",
       "<table border=\"1\" class=\"dataframe\">\n",
       "  <thead>\n",
       "    <tr style=\"text-align: right;\">\n",
       "      <th></th>\n",
       "      <th>0</th>\n",
       "    </tr>\n",
       "  </thead>\n",
       "  <tbody>\n",
       "    <tr>\n",
       "      <th>Id</th>\n",
       "      <td>0</td>\n",
       "    </tr>\n",
       "    <tr>\n",
       "      <th>geometry_inputlayer</th>\n",
       "      <td>POLYGON ((405728.2110448944 5659356.17364894, ...</td>\n",
       "    </tr>\n",
       "    <tr>\n",
       "      <th>geometry_2ndlayer</th>\n",
       "      <td>POLYGON ((405728.2110448944 5659356.17364894, ...</td>\n",
       "    </tr>\n",
       "  </tbody>\n",
       "</table>\n",
       "</div>"
      ],
      "text/plain": [
       "                                                                     0\n",
       "Id                                                                   0\n",
       "geometry_inputlayer  POLYGON ((405728.2110448944 5659356.17364894, ...\n",
       "geometry_2ndlayer    POLYGON ((405728.2110448944 5659356.17364894, ..."
      ]
     },
     "execution_count": 13,
     "metadata": {},
     "output_type": "execute_result"
    }
   ],
   "source": [
    "merged_layer.T"
   ]
  },
  {
   "cell_type": "markdown",
   "id": "d93e3a33-d7d0-4b4d-a579-1e5b506ed0b3",
   "metadata": {},
   "source": [
    "```{admonition} **Merging only selected attributes**\n",
    ":class: tip, dropdown\n",
    "By default, merging includes all attributes from both datasets. However, you can specify only the required attribute.\n",
    "\n",
    "To define the specific attributes for the merge process, these attributes are defined in double brackets `[[ ]]`. The \"common\" attribute (`on` parameter), **must** be defined in both layers.\n",
    "\n",
    "Note:\n",
    "- Use double brackets `[[ ]]` to preserve the tabular format (GeoDataFrame).\n",
    "- Using single brackets `[ ]` creates a series of data, which is not in tabular format (GeoDataFrame) and makes an error with operating the `merge()` function.\n",
    "```"
   ]
  },
  {
   "cell_type": "markdown",
   "id": "e198d652-8c08-4264-ad6e-3cef914347c4",
   "metadata": {},
   "source": [
    "Example: Merging only the attributes `Id` and `geometry`"
   ]
  },
  {
   "cell_type": "code",
   "execution_count": 23,
   "id": "dec4f6cd-a3bf-4b53-8ea6-6d9d27f9a392",
   "metadata": {
    "editable": true,
    "slideshow": {
     "slide_type": ""
    },
    "tags": []
   },
   "outputs": [
    {
     "data": {
      "text/html": [
       "<div>\n",
       "<style scoped>\n",
       "    .dataframe tbody tr th:only-of-type {\n",
       "        vertical-align: middle;\n",
       "    }\n",
       "\n",
       "    .dataframe tbody tr th {\n",
       "        vertical-align: top;\n",
       "    }\n",
       "\n",
       "    .dataframe thead th {\n",
       "        text-align: right;\n",
       "    }\n",
       "</style>\n",
       "<table border=\"1\" class=\"dataframe\">\n",
       "  <thead>\n",
       "    <tr style=\"text-align: right;\">\n",
       "      <th></th>\n",
       "      <th>Id</th>\n",
       "      <th>geometry</th>\n",
       "    </tr>\n",
       "  </thead>\n",
       "  <tbody>\n",
       "    <tr>\n",
       "      <th>0</th>\n",
       "      <td>0</td>\n",
       "      <td>POLYGON ((405728.211 5659356.174, 405708.836 5...</td>\n",
       "    </tr>\n",
       "  </tbody>\n",
       "</table>\n",
       "</div>"
      ],
      "text/plain": [
       "   Id                                           geometry\n",
       "0   0  POLYGON ((405728.211 5659356.174, 405708.836 5..."
      ]
     },
     "execution_count": 23,
     "metadata": {},
     "output_type": "execute_result"
    }
   ],
   "source": [
    "merged_layer = input_layer[['Id']].merge(\n",
    "    second_layer[['Id','geometry']],\n",
    "    on='Id',\n",
    "    how='inner')\n",
    "merged_layer # Check the result"
   ]
  },
  {
   "cell_type": "markdown",
   "id": "2c5e0fb4-5160-4ca0-8e20-692e321cc2f2",
   "metadata": {
    "editable": true,
    "slideshow": {
     "slide_type": ""
    },
    "tags": []
   },
   "source": [
    "## Merging datasets based on spatial relationships using `sjoin()`"
   ]
  },
  {
   "cell_type": "markdown",
   "id": "1ffcb1e8-e447-4388-a1bc-947cf98c87f4",
   "metadata": {},
   "source": [
    "Another way to merge datasets is by using spatial relationships instead of common attributes. The `sjoin()` function can be used to join two datasets based on their spatial relationships. \n",
    "\n",
    "Key parameters:\n",
    "- `predicate` - Defines the type of spatial relationship.\n",
    "- `how` - Specifies how the layers are combined."
   ]
  },
  {
   "cell_type": "markdown",
   "id": "8bf9ecf5-b14d-4a74-9e0c-8a49a83b0e62",
   "metadata": {},
   "source": [
    "````{admonition} Available operations with the **predicate** parameter\n",
    ":class: tip\n",
    "\n",
    "The following list explains available operations:\n",
    "- `contains`: Object A **completely** encloses object B (no boundary touch).\n",
    "- `covers`: Object A **completely** contains object B (boundaries may touch).\n",
    "- `within`: Object A is **completely** inside object B (no boundary touch).\n",
    "- `covered_by`: Object A is **completely** within object B (boundaries may touch).\n",
    "- `touches`: Objects A and B meet **only** at boundaries.\n",
    "- `overlaps`: Objects A and B share an area.\n",
    "- `crosses`: Objects A and B intersect at discrete points.\n",
    "- `intersects`: Object A and B touch, cross or share an area.\n",
    "\n",
    "```{figure} ../resources/13.png\n",
    ":height: 200px\n",
    ":name: figure-example\n",
    "\n",
    "Available operations with the **predicate** parameter\n",
    "```\n",
    "\n",
    "Check the [ArcGIS documentation](https://desktop.arcgis.com/en/arcmap/latest/extensions/data-reviewer/types-of-spatial-relationships-that-can-be-validated.htm#GUID-B8BCA279-A7D9-422D-90B6-414B11350D1A) to learn more about spatial relationships.\n",
    "````"
   ]
  },
  {
   "cell_type": "markdown",
   "id": "fb5a0f03-3031-4ade-a31d-4dcc7922ed57",
   "metadata": {},
   "source": [
    "````{admonition} Available operations with the **how** parameter\n",
    ":class: tip\n",
    "\n",
    "The `how` parameter determines how the two datasets are merged:\n",
    "\n",
    "- `left`: keeps all records from the left dataset (first dataset) and adds matching records from the right dataset. The index comes from the left dataset.\n",
    "- `right`: Keeps all records from the right dataset (second dataset) and adds matching records from the left dataset. The index comes from the right dataset.\n",
    "- `inner`: Keeps only matching records from both datasets (where spatial conditions are met). The index comes from the right dataset.\n",
    "\n",
    "Check [GeoPandas documentation](https://geopandas.org/en/stable/docs/reference/api/geopandas.sjoin.html) to learn more about  `sjoin()` function. \n",
    "\n",
    "````\n"
   ]
  },
  {
   "cell_type": "markdown",
   "id": "80827e65-163b-4504-8be3-7a8d9b58f6ff",
   "metadata": {},
   "source": [
    "```{admonition} Handling duplicate column names\n",
    ":class: note, dropdown\n",
    "\n",
    "If both datasets have columns with the same name, GeoPandas automatically assigns suffixes (`_left` and `_right`) to distinguish them.\n",
    "To customize these suffixes, use:\n",
    "\n",
    "- `lsuffix`: Defines a suffix for the left dataset.\n",
    "- `rsuffix`: Defines a suffix for the right dataset.\n",
    "\n",
    "```"
   ]
  },
  {
   "cell_type": "markdown",
   "id": "7748aa0a-0319-47ba-91d3-fd69f2ea29d5",
   "metadata": {},
   "source": [
    "**Code example: Using the `sjoin()` function in Python**\n",
    "\n",
    "Import and load required libraries:"
   ]
  },
  {
   "cell_type": "code",
   "execution_count": null,
   "id": "388e2939-a3f5-4c5c-8f9a-bfbfc62a9ecc",
   "metadata": {},
   "outputs": [],
   "source": [
    "from pathlib import Path\n",
    "import geopandas as gp\n",
    "import pandas as pd"
   ]
  },
  {
   "cell_type": "markdown",
   "id": "8ae0b557-9549-4ffb-83fa-0c3d587c04bb",
   "metadata": {
    "editable": true,
    "slideshow": {
     "slide_type": ""
    },
    "tags": []
   },
   "source": [
    "Load the datasets:"
   ]
  },
  {
   "cell_type": "code",
   "execution_count": 25,
   "id": "0486e781-9203-4a12-8e7c-2ee6bba7e571",
   "metadata": {
    "editable": true,
    "slideshow": {
     "slide_type": ""
    },
    "tags": []
   },
   "outputs": [],
   "source": [
    "input_layer = gp.read_file (OUTPUT / \"clipped.shp\")\n",
    "join_layer = gp.read_file(INPUT / \"layers\" / \"border.shp\")"
   ]
  },
  {
   "cell_type": "code",
   "execution_count": 26,
   "id": "ed70dcd9-9b3f-4b76-a6dc-7355289b69c2",
   "metadata": {
    "editable": true,
    "slideshow": {
     "slide_type": ""
    },
    "tags": []
   },
   "outputs": [],
   "source": [
    "intersected = input_layer.sjoin(\n",
    "    join_layer, \n",
    "    predicate='intersects', \n",
    "    how='left')"
   ]
  },
  {
   "cell_type": "markdown",
   "id": "08d8dcfa-0c89-48fd-a6c4-a0f7da6561f6",
   "metadata": {
    "editable": true,
    "slideshow": {
     "slide_type": ""
    },
    "tags": []
   },
   "source": [
    "The result is printed using the `print` function."
   ]
  },
  {
   "cell_type": "code",
   "execution_count": 28,
   "id": "51169d9b-79c9-47b5-8c84-b04b2a8a4613",
   "metadata": {
    "editable": true,
    "slideshow": {
     "slide_type": ""
    },
    "tags": []
   },
   "outputs": [
    {
     "data": {
      "text/plain": [
       "['KS_IS',\n",
       " 'CLC_st1',\n",
       " 'CLC18',\n",
       " 'CLC',\n",
       " 'Biotpkt201',\n",
       " 'Shape_Leng',\n",
       " 'Shape_Area',\n",
       " 'geometry',\n",
       " 'index_right',\n",
       " 'Id']"
      ]
     },
     "execution_count": 28,
     "metadata": {},
     "output_type": "execute_result"
    }
   ],
   "source": [
    "list(intersected.columns)"
   ]
  },
  {
   "cell_type": "code",
   "execution_count": 30,
   "id": "fa6d5f2d-c56e-4987-b486-6e464af61c7d",
   "metadata": {
    "editable": true,
    "slideshow": {
     "slide_type": ""
    },
    "tags": []
   },
   "outputs": [
    {
     "data": {
      "text/html": [
       "<div>\n",
       "<style scoped>\n",
       "    .dataframe tbody tr th:only-of-type {\n",
       "        vertical-align: middle;\n",
       "    }\n",
       "\n",
       "    .dataframe tbody tr th {\n",
       "        vertical-align: top;\n",
       "    }\n",
       "\n",
       "    .dataframe thead th {\n",
       "        text-align: right;\n",
       "    }\n",
       "</style>\n",
       "<table border=\"1\" class=\"dataframe\">\n",
       "  <thead>\n",
       "    <tr style=\"text-align: right;\">\n",
       "      <th></th>\n",
       "      <th>KS_IS</th>\n",
       "      <th>CLC_st1</th>\n",
       "      <th>CLC18</th>\n",
       "      <th>CLC</th>\n",
       "      <th>Biotpkt201</th>\n",
       "      <th>Shape_Leng</th>\n",
       "      <th>Shape_Area</th>\n",
       "      <th>geometry</th>\n",
       "      <th>index_right</th>\n",
       "      <th>Id</th>\n",
       "    </tr>\n",
       "  </thead>\n",
       "  <tbody>\n",
       "    <tr>\n",
       "      <th>0</th>\n",
       "      <td>SV</td>\n",
       "      <td>122</td>\n",
       "      <td>None</td>\n",
       "      <td>NaN</td>\n",
       "      <td>5.271487</td>\n",
       "      <td>487783.286284</td>\n",
       "      <td>2.869516e+06</td>\n",
       "      <td>POLYGON ((401808.569 5661532.707, 401859.892 5...</td>\n",
       "      <td>0</td>\n",
       "      <td>0</td>\n",
       "    </tr>\n",
       "    <tr>\n",
       "      <th>1</th>\n",
       "      <td>None</td>\n",
       "      <td>231</td>\n",
       "      <td>231</td>\n",
       "      <td>231.0</td>\n",
       "      <td>10.981298</td>\n",
       "      <td>1385.654150</td>\n",
       "      <td>1.235155e+04</td>\n",
       "      <td>POLYGON ((403104.213 5657996.304, 403105.003 5...</td>\n",
       "      <td>0</td>\n",
       "      <td>0</td>\n",
       "    </tr>\n",
       "    <tr>\n",
       "      <th>2</th>\n",
       "      <td>None</td>\n",
       "      <td>231</td>\n",
       "      <td>231</td>\n",
       "      <td>231.0</td>\n",
       "      <td>10.981298</td>\n",
       "      <td>2978.763179</td>\n",
       "      <td>4.237039e+04</td>\n",
       "      <td>POLYGON ((403076.477 5658033.218, 403036.719 5...</td>\n",
       "      <td>0</td>\n",
       "      <td>0</td>\n",
       "    </tr>\n",
       "  </tbody>\n",
       "</table>\n",
       "</div>"
      ],
      "text/plain": [
       "  KS_IS CLC_st1 CLC18    CLC  Biotpkt201     Shape_Leng    Shape_Area  \\\n",
       "0    SV     122  None    NaN    5.271487  487783.286284  2.869516e+06   \n",
       "1  None     231   231  231.0   10.981298    1385.654150  1.235155e+04   \n",
       "2  None     231   231  231.0   10.981298    2978.763179  4.237039e+04   \n",
       "\n",
       "                                            geometry  index_right  Id  \n",
       "0  POLYGON ((401808.569 5661532.707, 401859.892 5...            0   0  \n",
       "1  POLYGON ((403104.213 5657996.304, 403105.003 5...            0   0  \n",
       "2  POLYGON ((403076.477 5658033.218, 403036.719 5...            0   0  "
      ]
     },
     "execution_count": 30,
     "metadata": {},
     "output_type": "execute_result"
    }
   ],
   "source": [
    "intersected.head(3)"
   ]
  },
  {
   "cell_type": "markdown",
   "id": "6a6b226e-ad75-4743-a6c4-343a6c6caf89",
   "metadata": {
    "editable": true,
    "slideshow": {
     "slide_type": ""
    },
    "tags": []
   },
   "source": [
    "```{admonition} **Suffixes in Spatial Join**\n",
    ":class: tip, dropdown\n",
    "These suffixes are the default names for the indexes, which are also customizable. Using the `lsuffix` parameter for the input layer (left GeoDataFrame) and the `rsuffix` parameter for the second layer (right GeoDataFrame), the suffixes can be customized separately. It is only necessary to define the suffixes of interest in the `lsuffix` or `rsuffix` parameters.\n",
    "```"
   ]
  },
  {
   "cell_type": "markdown",
   "id": "7a40a244-40de-4219-b7bd-b8a075f27747",
   "metadata": {
    "editable": true,
    "slideshow": {
     "slide_type": ""
    },
    "tags": []
   },
   "source": [
    "In the following example as the type of join is `inner` and by default, the values from the second layer will be join to the first layer, the indexes will be from the second layer (right layer), So the `rsuffix` customized."
   ]
  },
  {
   "cell_type": "code",
   "execution_count": 32,
   "id": "fedc6c04-b355-46ba-b5af-ff9385d72dbe",
   "metadata": {
    "editable": true,
    "slideshow": {
     "slide_type": ""
    },
    "tags": []
   },
   "outputs": [
    {
     "data": {
      "text/plain": [
       "['KS_IS',\n",
       " 'CLC_st1',\n",
       " 'CLC18',\n",
       " 'CLC',\n",
       " 'Biotpkt201',\n",
       " 'Shape_Leng',\n",
       " 'Shape_Area',\n",
       " 'geometry',\n",
       " 'index__border',\n",
       " 'Id']"
      ]
     },
     "execution_count": 32,
     "metadata": {},
     "output_type": "execute_result"
    }
   ],
   "source": [
    "intersects_result = input_layer.sjoin(\n",
    "    join_layer, \n",
    "    predicate='intersects', \n",
    "    how='inner', \n",
    "    rsuffix='_border')\n",
    "list(intersects_result.columns)"
   ]
  },
  {
   "cell_type": "markdown",
   "id": "09c5b1f9-79ef-4a4b-a68f-8175848b0f9e",
   "metadata": {
    "editable": true,
    "slideshow": {
     "slide_type": ""
    },
    "tags": []
   },
   "source": [
    "It is also possible to define the interested columns from the available columns of both datasets to have in the spatial join output, these columns are defined in the double brackets `[[`. "
   ]
  },
  {
   "cell_type": "markdown",
   "id": "e0542b85-e2de-4554-aaa9-b43ba9062425",
   "metadata": {},
   "source": [
    "```{admonition} **Geometry Importance in Spatial Join**\n",
    ":class: warning, dropdown\n",
    "Since the spatial join is based on the geometry of the features, the `geometry` attribute **must** be defined among selected columns in both layers.\n",
    "```"
   ]
  },
  {
   "cell_type": "code",
   "execution_count": 33,
   "id": "d3140bd8-5118-431a-a5d3-29ab03ba408f",
   "metadata": {
    "editable": true,
    "slideshow": {
     "slide_type": ""
    },
    "tags": []
   },
   "outputs": [
    {
     "data": {
      "text/plain": [
       "['index_left', 'KS_IS', 'CLC', 'Id', 'geometry']"
      ]
     },
     "execution_count": 33,
     "metadata": {},
     "output_type": "execute_result"
    }
   ],
   "source": [
    "intersects_result = input_layer[['KS_IS', 'CLC','geometry']] \\\n",
    "    .sjoin(\n",
    "        join_layer[['Id','geometry']],\n",
    "        predicate='intersects', how='right')\n",
    "\n",
    "list(intersects_result.columns)"
   ]
  },
  {
   "cell_type": "markdown",
   "id": "0ad97035-a54e-44f1-beeb-063e1cd49320",
   "metadata": {
    "editable": true,
    "slideshow": {
     "slide_type": ""
    },
    "tags": []
   },
   "source": [
    "The second way of spatial joining is to use the `gp.sjoin()` function from geopandas. The parameters are exactly the same as the first method, the only difference is that both datasets are called inside the function, which is how functions generally work."
   ]
  },
  {
   "cell_type": "code",
   "execution_count": 34,
   "id": "de0f98f9-c36c-4051-916d-c15af1e7d2c2",
   "metadata": {
    "editable": true,
    "slideshow": {
     "slide_type": ""
    },
    "tags": []
   },
   "outputs": [
    {
     "data": {
      "text/plain": [
       "['index__left',\n",
       " 'KS_IS',\n",
       " 'CLC_st1',\n",
       " 'CLC18',\n",
       " 'CLC',\n",
       " 'Biotpkt201',\n",
       " 'Shape_Leng',\n",
       " 'Shape_Area',\n",
       " 'Id',\n",
       " 'geometry']"
      ]
     },
     "execution_count": 34,
     "metadata": {},
     "output_type": "execute_result"
    }
   ],
   "source": [
    "intersects_result= gp.sjoin(\n",
    "    input_layer, join_layer, \n",
    "    how='right',\n",
    "    predicate='intersects', \n",
    "    lsuffix='_left')\n",
    "list(intersects_result.columns)"
   ]
  },
  {
   "cell_type": "markdown",
   "id": "3cc46e3d-6c06-4e6f-8d78-ca95ed675992",
   "metadata": {
    "editable": true,
    "slideshow": {
     "slide_type": ""
    },
    "tags": []
   },
   "source": [
    "Here also it is possible to define specific columns in the double brackets `[[`  to take part in the operation. As it is spatial join, the `geometry` attribute **must** be defined in both layers."
   ]
  },
  {
   "cell_type": "code",
   "execution_count": 35,
   "id": "3dc7c8dc-e357-46d3-929d-67fe391cc1c0",
   "metadata": {
    "editable": true,
    "slideshow": {
     "slide_type": ""
    },
    "tags": []
   },
   "outputs": [
    {
     "data": {
      "text/plain": [
       "['index__left', 'KS_IS', 'CLC', 'Id', 'geometry']"
      ]
     },
     "execution_count": 35,
     "metadata": {},
     "output_type": "execute_result"
    }
   ],
   "source": [
    "intersects_result= gp.sjoin(\n",
    "    input_layer[['KS_IS', 'CLC','geometry']],\n",
    "    join_layer[['Id','geometry']],\n",
    "    how='right', \n",
    "    predicate='intersects', \n",
    "    lsuffix='_left')\n",
    "list(intersects_result.columns)"
   ]
  },
  {
   "cell_type": "code",
   "execution_count": null,
   "id": "b41d2cc0-f44e-49f0-bb17-f55d45d19286",
   "metadata": {
    "editable": true,
    "slideshow": {
     "slide_type": ""
    },
    "tags": []
   },
   "outputs": [],
   "source": []
  }
 ],
 "metadata": {
  "kernelspec": {
   "display_name": "worker_env",
   "language": "python",
   "name": "worker_env"
  },
  "language_info": {
   "codemirror_mode": {
    "name": "ipython",
    "version": 3
   },
   "file_extension": ".py",
   "mimetype": "text/x-python",
   "name": "python",
   "nbconvert_exporter": "python",
   "pygments_lexer": "ipython3",
   "version": "3.12.7"
  }
 },
 "nbformat": 4,
 "nbformat_minor": 5
}
