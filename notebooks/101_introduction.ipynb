{
 "cells": [
  {
   "cell_type": "markdown",
   "id": "33b9a30c-e95d-42f9-8dab-349fb6d008ee",
   "metadata": {},
   "source": [
    "# Welcome 🎉"
   ]
  },
  {
   "cell_type": "markdown",
   "id": "3b6b557c-9121-4250-9a30-2ed6ebdf3d24",
   "metadata": {},
   "source": [
    "## Introduction\n",
    "\n",
    "This book provides the methods, techniques, and tools for data-driven research using spatial and biodiversity data. \n",
    "\n",
    "Our goal is to promote open science by providing accessible, reproducible workflows, analysis tools, and training materials that anyone can use and adapt. Through this book, we aim to increase collaboration, improve methodological transparency, and empower researchers to explore and innovate with our shared data and resources. Whether you’re looking for insights, examples or hands-on tutorials, this knowledge base provides a robust starting point for a wide range of research needs in biodiversity and ecological sustainability science.\n",
    "Our training materials, utilizing Jupyter Notebooks, will focus on key considerations when handling spatial data and explore possibilities for linking biodiversity data.\n",
    "\n",
    "This project will provide valuable resources for scientists at various stages of their careers, enhancing their ability to manage and utilize spatial data effectively. By focusing on interdisciplinary applicability and practical training, our materials will fill a critical gap in current RDM education."
   ]
  },
  {
   "cell_type": "markdown",
   "id": "c1d1c1f9-3198-4c8a-b43b-e515be3f001f",
   "metadata": {},
   "source": [
    "## Contents of the resource:"
   ]
  },
  {
   "cell_type": "markdown",
   "id": "e3f95d91-8206-430d-802a-d8b68b1a15c3",
   "metadata": {},
   "source": [
    "- Fundamental spatial data aspects: Projections, spatial and temporal scales, and data formats.\n",
    "- Practical examples: Selected case studies demonstrating how spatial data can be analyzed and enriched with biodiversity data.\n",
    "- Research Data Management aspects: data licenses, and source attribution, FAIR principles (Findable, Accessible, Interoperable, Reusable).\n",
    "- Publication standards: Emphasis on publishing spatial data according to appropriate metadata standards and quality.\n",
    "- Data provenance: Ensuring complete documentation and traceability of the origin, quality, and processing steps of data, which is vital for achieving FAIR data standards.\n"
   ]
  },
  {
   "cell_type": "markdown",
   "id": "3d5b7925-422f-4fd6-a487-25bebf466dc9",
   "metadata": {},
   "source": [
    "## Target groups"
   ]
  },
  {
   "cell_type": "markdown",
   "id": "345034fa-1ebb-42c8-bdb5-567943625de6",
   "metadata": {},
   "source": [
    "B. Sc. Students, M. Sc. Students, PhD Student, Researchers"
   ]
  },
  {
   "cell_type": "markdown",
   "id": "dbb6d9a3-72b8-49cd-a8e8-7a30c1db0cf9",
   "metadata": {},
   "source": [
    "## Prerequisites for the target group\n",
    "\n",
    "Basic understanding of research data management principles and Python is beneficial but not required. Participants will need access to a computer with internet connectivity and the ability to run Jupyter Notebooks."
   ]
  },
  {
   "cell_type": "markdown",
   "id": "f82e01f6-cbf0-489f-be07-bb2c88090afd",
   "metadata": {},
   "source": [
    "## Metainformation about the course"
   ]
  },
  {
   "cell_type": "markdown",
   "id": "053d6da2-7e61-420a-8b54-9343065eba1b",
   "metadata": {},
   "source": [
    "```{admonition} See also\n",
    ":class: seealso\n",
    "See the Jupyter Notebook guide on how to install the notebook and its dependencies.\n",
    "```\n"
   ]
  },
  {
   "cell_type": "markdown",
   "id": "98b0ad51-f225-4b01-8ad8-1f4dfb15e438",
   "metadata": {},
   "source": [
    "- Formats/teaching methods: The training materials will be provided primarily through Jupyter Notebooks, which offer an interactive, hands-on learning experience.\n",
    "- Material Language: English\n",
    "- Prerequisites for target groups: Basic understanding of research data management principles is beneficial but not required. Participants will need access to a computer with internet connectivity and the ability to run Jupyter Notebooks.\n"
   ]
  },
  {
   "cell_type": "markdown",
   "id": "f07823fa-622b-4bae-b457-4661b4c7301a",
   "metadata": {},
   "source": [
    "This project is a collaboration between the [IOER](https://www.ioer.de/) and [NFDI4Biodiversity](https://www.nfdi4biodiversity.org/en/).\n",
    "\n",
    "\n",
    "March 2025\n",
    "\n"
   ]
  },
  {
   "cell_type": "markdown",
   "id": "3a7014a7-0b71-4126-9449-166e3fbfa225",
   "metadata": {},
   "source": [
    "### Authors, date, guidance for citation "
   ]
  },
  {
   "cell_type": "markdown",
   "id": "73648127-dfab-474d-b1e0-378a1c48594f",
   "metadata": {},
   "source": [
    "### Logo (IÖR FDZ & NFDI4Bio)"
   ]
  },
  {
   "cell_type": "markdown",
   "id": "8f93cd0b-1168-4301-8849-08351c4313d9",
   "metadata": {},
   "source": [
    "<div class=\"fig-no-shadow\" style=\"text-align: center;\">\n",
    "    <img src=\"../_static/images/ioer-rdc.svg\" width=\"300\" style=\"display: inline-block\">\n",
    "    <img src=\"https://www.nfdi4biodiversity.org/documents/18/NFDI_4_Biodiversity___Logo_Positiv_Kopie.png\" width=\"400\" style=\"display: inline-block; margin-right: 20px;\">\n",
    "</div>\n"
   ]
  },
  {
   "cell_type": "code",
   "execution_count": null,
   "id": "28eb7545-4342-4d5f-be80-3392e6e039a1",
   "metadata": {},
   "outputs": [],
   "source": []
  }
 ],
 "metadata": {
  "kernelspec": {
   "display_name": "worker_env",
   "language": "python",
   "name": "worker_env"
  },
  "language_info": {
   "codemirror_mode": {
    "name": "ipython",
    "version": 3
   },
   "file_extension": ".py",
   "mimetype": "text/x-python",
   "name": "python",
   "nbconvert_exporter": "python",
   "pygments_lexer": "ipython3",
   "version": "3.12.7"
  }
 },
 "nbformat": 4,
 "nbformat_minor": 5
}
