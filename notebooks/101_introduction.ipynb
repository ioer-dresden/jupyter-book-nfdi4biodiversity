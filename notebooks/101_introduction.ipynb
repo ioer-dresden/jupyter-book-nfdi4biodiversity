{
 "cells": [
  {
   "cell_type": "markdown",
   "id": "33b9a30c-e95d-42f9-8dab-349fb6d008ee",
   "metadata": {},
   "source": [
    "# Welcome 🎉"
   ]
  },
  {
   "cell_type": "markdown",
   "id": "3b6b557c-9121-4250-9a30-2ed6ebdf3d24",
   "metadata": {},
   "source": [
    "## Course objective"
   ]
  },
  {
   "cell_type": "markdown",
   "id": "a8990eb8-7a4f-4e89-9fc0-d0cf1b2c78d1",
   "metadata": {},
   "source": [
    "The objective of this notebook is to provide training materials for spatial data. To enhance research data management (RDM), there is a pressing need for specialized training materials and datasets. These resources will offer practical guidance on RDM and serve as templates for researchers' own data. Our training materials, utilizing Jupyter Notebooks, will focus on key considerations when handling spatial data and explore possibilities for linking biodiversity data.\n",
    "\n",
    "Effective RDM is crucial for ensuring the accuracy, reliability, and reproducibility of research findings. However, many researchers lack comprehensive training in managing spatial data. This project addresses this gap by providing targeted training materials that offer practical, hands-on experience with these types of data. \n",
    "\n",
    "\n",
    "This project will provide valuable resources for scientists at various stages of their careers, enhancing their ability to manage and utilize spatial data effectively. By focusing on interdisciplinary applicability and practical training, our materials will fill a critical gap in current RDM education."
   ]
  },
  {
   "cell_type": "markdown",
   "id": "c1d1c1f9-3198-4c8a-b43b-e515be3f001f",
   "metadata": {},
   "source": [
    "## Contents of the resource:"
   ]
  },
  {
   "cell_type": "markdown",
   "id": "e3f95d91-8206-430d-802a-d8b68b1a15c3",
   "metadata": {},
   "source": [
    "- Fundamental spatial data aspects: Projections, spatial and temporal scales, and data formats (e.g., raster and vector data).\n",
    "- Research Data Management aspects: data licenses, and source attribution, FAIR principles (Findable, Accessible, Interoperable, Reusable).\n",
    "- Publication standards: Emphasis on publishing spatial data according to appropriate metadata standards and quality.\n",
    "- Practical examples: Selected case studies demonstrating how spatial data can be analyzed and enriched with additional research data.\n",
    "- Data provenance: Ensuring complete documentation and traceability of the origin, quality, and processing steps of data, which is vital for achieving FAIR data standards.\n"
   ]
  },
  {
   "cell_type": "markdown",
   "id": "9022b759-e436-46be-b240-040703ba9ebe",
   "metadata": {},
   "source": [
    "## Estimated time for this course"
   ]
  },
  {
   "cell_type": "markdown",
   "id": "7f23bac8-0c0a-46a5-bb6c-08c53dd9f96e",
   "metadata": {},
   "source": [
    "## Chapter overview"
   ]
  },
  {
   "cell_type": "markdown",
   "id": "3d5b7925-422f-4fd6-a487-25bebf466dc9",
   "metadata": {},
   "source": [
    "## target groups"
   ]
  },
  {
   "cell_type": "markdown",
   "id": "345034fa-1ebb-42c8-bdb5-567943625de6",
   "metadata": {},
   "source": [
    "B. Sc. Students, M. Sc. Students, PhD Student, Researchers"
   ]
  },
  {
   "cell_type": "markdown",
   "id": "dbb6d9a3-72b8-49cd-a8e8-7a30c1db0cf9",
   "metadata": {},
   "source": [
    "## Prerequisites for the target group"
   ]
  },
  {
   "cell_type": "markdown",
   "id": "f82e01f6-cbf0-489f-be07-bb2c88090afd",
   "metadata": {},
   "source": [
    "## Metainformation about the course"
   ]
  },
  {
   "cell_type": "markdown",
   "id": "98b0ad51-f225-4b01-8ad8-1f4dfb15e438",
   "metadata": {},
   "source": [
    "- Formats/teaching methods: The training materials will be provided primarily through Jupyter Notebooks, which offer an interactive, hands-on learning experience.\n",
    "- Material Language: English\n",
    "- Prerequisites for target groups: Basic understanding of research data management principles is beneficial but not required. Participants will need access to a computer with internet connectivity and the ability to run Jupyter Notebooks.\n"
   ]
  },
  {
   "cell_type": "markdown",
   "id": "3a7014a7-0b71-4126-9449-166e3fbfa225",
   "metadata": {},
   "source": [
    "### Authors, date, guidance for citation "
   ]
  },
  {
   "cell_type": "markdown",
   "id": "f07823fa-622b-4bae-b457-4661b4c7301a",
   "metadata": {},
   "source": [
    " This project is a collaboration between the [IOER](https://www.ioer.de/) and [NFDI4Biodiversity](https://www.nfdi4biodiversity.org/en/).\n",
    "\n",
    " <span style=\"font-size:25px; color:navy\"><strong>\n",
    "March 2025\n",
    "</strong></span>\n"
   ]
  },
  {
   "cell_type": "markdown",
   "id": "73648127-dfab-474d-b1e0-378a1c48594f",
   "metadata": {},
   "source": [
    "### Logo (IÖR FDZ & NFDI4Bio)"
   ]
  },
  {
   "cell_type": "markdown",
   "id": "8f93cd0b-1168-4301-8849-08351c4313d9",
   "metadata": {},
   "source": [
    "<div style=\"text-align: center;\">\n",
    "    <img src=\"../_static/images/ioer-rdc.svg\" width=\"300\" style=\"display: inline-block\">\n",
    "    <img src=\"https://www.nfdi4biodiversity.org/documents/18/NFDI_4_Biodiversity___Logo_Positiv_Kopie.png\" width=\"400\" style=\"display: inline-block; margin-right: 20px;\">\n",
    "</div>\n"
   ]
  }
 ],
 "metadata": {
  "kernelspec": {
   "display_name": "worker_env",
   "language": "python",
   "name": "worker_env"
  },
  "language_info": {
   "codemirror_mode": {
    "name": "ipython",
    "version": 3
   },
   "file_extension": ".py",
   "mimetype": "text/x-python",
   "name": "python",
   "nbconvert_exporter": "python",
   "pygments_lexer": "ipython3",
   "version": "3.12.7"
  }
 },
 "nbformat": 4,
 "nbformat_minor": 5
}
