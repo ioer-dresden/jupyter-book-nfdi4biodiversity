{
 "cells": [
  {
   "cell_type": "markdown",
   "id": "33b9a30c-e95d-42f9-8dab-349fb6d008ee",
   "metadata": {},
   "source": [
    "# Welcome 🎉"
   ]
  },
  {
   "cell_type": "markdown",
   "id": "3b6b557c-9121-4250-9a30-2ed6ebdf3d24",
   "metadata": {},
   "source": [
    "### Introduction\n",
    "\n",
    "Welcome to this guide on spatial and biodiversity data! \n",
    "This book is designed to help students, researchers, scientists, and enthusiasts get started with data-driven research in these exciting fields. Whether you’re a beginner or an experienced data scientist, this book provides you with the tools, techniques, and workflows to explore, analyse, and innovate using spatial and biodiversity data."
   ]
  },
  {
   "cell_type": "markdown",
   "id": "e3f95d91-8206-430d-802a-d8b68b1a15c3",
   "metadata": {},
   "source": [
    "### Content\n",
    "Our goal is to promote open science by providing:\n",
    "- **Reproducible codes and workflows** for spatial and biodiversity data analysis.\n",
    "- **Hands-on tutorials** using Jupyter Notebooks.\n",
    "- **Powerful tools** to explore data and enhance methodological transparency.\n",
    "- **Practical insights** to foster collaboration and empower researchers to solve pressing challenges in biodiversity and ecological sustainability science.\n",
    "\n",
    "This knowledge base is your robust starting point for understanding and leveraging shared data and resources. Whether you're here to gain insights, explore code examples, or dive into hands-on exercises, this book is tailored to meet a wide range of research needs."
   ]
  },
  {
   "cell_type": "markdown",
   "id": "345034fa-1ebb-42c8-bdb5-567943625de6",
   "metadata": {},
   "source": [
    "### Who can use this Jupyter Book?\n",
    "This book is suitable for:\n",
    "- **Students, scientists and researchers** at various career stages.\n",
    "- **Python beginners** who want to explore spatial and biodiversity data.\n",
    "- **Experienced Python users** looking to refine their skills in these domains.\n"
   ]
  },
  {
   "cell_type": "markdown",
   "id": "dbb6d9a3-72b8-49cd-a8e8-7a30c1db0cf9",
   "metadata": {},
   "source": [
    "### Prerequisites\n",
    "\n",
    "Basic understanding of Python is beneficial but not required. Participants will need access to a computer with internet connectivity and the ability to run Jupyter Notebooks."
   ]
  },
  {
   "cell_type": "markdown",
   "id": "f82e01f6-cbf0-489f-be07-bb2c88090afd",
   "metadata": {},
   "source": [
    "### About the Project\n",
    "\n",
    "This project is a collaboration between the [IOER](https://www.ioer.de/) and [NFDI4Biodiversity](https://www.nfdi4biodiversity.org/en/), combining expertise in spatial data analysis and biodiversity research. It reflects our shared commitment to open science, collaboration, and providing researchers with practical tools for ecological and biodiversity studies."
   ]
  },
  {
   "cell_type": "markdown",
   "id": "98b0ad51-f225-4b01-8ad8-1f4dfb15e438",
   "metadata": {},
   "source": [
    "- Formats/teaching methods: The training materials will be provided primarily through Jupyter Notebooks, which offer an interactive, hands-on learning experience.\n",
    "- Material Language: English\n",
    "- Prerequisites for target groups: Basic understanding of research data management principles is beneficial but not required. Participants will need access to a computer with internet connectivity and the ability to run Jupyter Notebooks.\n"
   ]
  },
  {
   "cell_type": "markdown",
   "id": "3a7014a7-0b71-4126-9449-166e3fbfa225",
   "metadata": {},
   "source": [
    "### Recommended citation\n",
    "\n",
    "To acknowledge this resource, please cite the Jupyter Book as follows:\n",
    "\n",
    "authors, title, publication date, DOI"
   ]
  },
  {
   "cell_type": "markdown",
   "id": "f07823fa-622b-4bae-b457-4661b4c7301a",
   "metadata": {},
   "source": [
    "**Publication Date**: March 2025"
   ]
  },
  {
   "cell_type": "markdown",
   "id": "053d6da2-7e61-420a-8b54-9343065eba1b",
   "metadata": {},
   "source": [
    "```{admonition} See also\n",
    ":class: seealso\n",
    "See the Jupyter Notebook guide on how to install the notebook and its dependencies.\n",
    "```\n"
   ]
  },
  {
   "cell_type": "markdown",
   "id": "8f93cd0b-1168-4301-8849-08351c4313d9",
   "metadata": {},
   "source": [
    "<div class=\"fig-no-shadow\" style=\"text-align: center;\">\n",
    "    <img src=\"../_static/images/ioer-rdc.svg\" width=\"300\" style=\"display: inline-block\">\n",
    "    <img src=\"https://www.nfdi4biodiversity.org/documents/18/NFDI_4_Biodiversity___Logo_Positiv_Kopie.png\" width=\"400\" style=\"display: inline-block; margin-right: 20px;\">\n",
    "</div>\n"
   ]
  },
  {
   "cell_type": "code",
   "execution_count": null,
   "id": "28eb7545-4342-4d5f-be80-3392e6e039a1",
   "metadata": {},
   "outputs": [],
   "source": []
  },
  {
   "cell_type": "code",
   "execution_count": null,
   "id": "53a4c45d-a294-45d8-a176-56b6fc836cfd",
   "metadata": {},
   "outputs": [],
   "source": []
  }
 ],
 "metadata": {
  "kernelspec": {
   "display_name": "worker_env",
   "language": "python",
   "name": "worker_env"
  },
  "language_info": {
   "codemirror_mode": {
    "name": "ipython",
    "version": 3
   },
   "file_extension": ".py",
   "mimetype": "text/x-python",
   "name": "python",
   "nbconvert_exporter": "python",
   "pygments_lexer": "ipython3",
   "version": "3.12.7"
  }
 },
 "nbformat": 4,
 "nbformat_minor": 5
}
