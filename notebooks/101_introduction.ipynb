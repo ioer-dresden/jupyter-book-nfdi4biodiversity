{
 "cells": [
  {
   "cell_type": "markdown",
   "id": "33b9a30c-e95d-42f9-8dab-349fb6d008ee",
   "metadata": {},
   "source": [
    "# Exploring Spatial and Biodiversity Data with Python and Jupyter Notebook"
   ]
  },
  {
   "cell_type": "markdown",
   "id": "3b6b557c-9121-4250-9a30-2ed6ebdf3d24",
   "metadata": {},
   "source": [
    "### Introduction\n",
    "\n",
    "Welcome to this guide on spatial and biodiversity data! 🎉\n",
    "\n",
    "This book is designed to help students, researchers, scientists, and enthusiasts get started with data-driven research in these exciting fields. Whether you’re a beginner or an experienced data scientist, this book provides you with the tools, techniques, and workflows to explore, analyse, and innovate using spatial and biodiversity data."
   ]
  },
  {
   "cell_type": "markdown",
   "id": "e3f95d91-8206-430d-802a-d8b68b1a15c3",
   "metadata": {},
   "source": [
    "### Content\n",
    "Our goal is to promote open science by providing:\n",
    "- **Reproducible codes and workflows** for spatial and biodiversity data analysis.\n",
    "- **Hands-on tutorials** using Jupyter Notebooks.\n",
    "- **Powerful tools** to explore data and enhance methodological transparency.\n",
    "\n",
    "\n",
    "This knowledge base is your robust starting point for understanding and leveraging shared data and resources. Whether you're here to gain insights, explore code examples, or dive into hands-on exercises, this book is tailored to meet a wide range of research needs."
   ]
  },
  {
   "cell_type": "markdown",
   "id": "345034fa-1ebb-42c8-bdb5-567943625de6",
   "metadata": {},
   "source": [
    "### Who can use this Jupyter Book?\n",
    "This book is suitable for:\n",
    "- **Students, scientists and researchers** at various career stages.\n",
    "- **Python beginners** who want to explore spatial and biodiversity data.\n",
    "- **Experienced Python users** looking to refine their skills in these domains.\n"
   ]
  },
  {
   "cell_type": "markdown",
   "id": "dbb6d9a3-72b8-49cd-a8e8-7a30c1db0cf9",
   "metadata": {},
   "source": [
    "### Prerequisites\n",
    "A basic understanding of Python is beneficial but not required. Participants will need access to a computer with internet connectivity and the ability to run Jupyter Notebooks."
   ]
  },
  {
   "cell_type": "markdown",
   "id": "cbd94a3b-b5f4-4379-a089-313a49588f8a",
   "metadata": {},
   "source": [
    "### How to use this book\n",
    "This Jupyter Book is designed to be flexible and adaptable to your needs. Whether you’re just getting started or working on a specific project, you can use this book in the following ways: Feel free to use the individual code snippets as inspiration or building blocks for your projects. You can also reuse the complete workflows provided in this book to streamline your research process or to jumpstart your analysis."
   ]
  },
  {
   "cell_type": "markdown",
   "id": "f82e01f6-cbf0-489f-be07-bb2c88090afd",
   "metadata": {},
   "source": [
    "### About the Project\n",
    "\n",
    "This project is a collaboration between the [Leibniz Institute of Ecological Urban and Regional Development](https://www.ioer.de/en/) (IOER) and [NFDI4Biodiversity](https://www.nfdi4biodiversity.org/en/), combining expertise in spatial data analysis and biodiversity research. It reflects our shared commitment to open science, collaboration, and providing researchers with practical tools for ecological and biodiversity studies."
   ]
  },
  {
   "cell_type": "markdown",
   "id": "e706eb03-5cc7-45d8-a040-823e5dd48479",
   "metadata": {},
   "source": [
    "### License and citation\n",
    "\n",
    "The instructional material of this Jupyter Book is made available under the [Creative Commons Attribution 4.0 International](https://spdx.org/licenses/CC-BY-4.0.html) (CC-BY-4.0) license.\n",
    "This includes all text and drawings unless otherwise noted.\n",
    "\n",
    "Except where otherwise noted, the codes provided by this Jupyter Book are made available under the [MIT license](https://spdx.org/licenses/MIT.html). "
   ]
  },
  {
   "cell_type": "markdown",
   "id": "6f8c610e-9b3b-4a1b-9e16-5135ae07d59c",
   "metadata": {},
   "source": [
    " ```{admonition} Recommended citation\n",
    ":class: attention\n",
    "Dworczyk, Claudia; Dunkel, Alexander; Rafiei, Fatemeh (2025): Exploring Spatial and Biodiversity Data with Python and Jupyter Notebook. URL. DOI.\n",
    "```\n",
    "\n"
   ]
  },
  {
   "cell_type": "markdown",
   "id": "f07823fa-622b-4bae-b457-4661b4c7301a",
   "metadata": {},
   "source": [
    "**Publication Date**: March 2025"
   ]
  },
  {
   "cell_type": "markdown",
   "id": "8f93cd0b-1168-4301-8849-08351c4313d9",
   "metadata": {},
   "source": [
    "<div class=\"fig-no-shadow\" style=\"text-align: center;\">\n",
    "    <img src=\"../_static/images/ioer-rdc.svg\" width=\"300\" style=\"display: inline-block\">\n",
    "    <img src=\"https://www.nfdi4biodiversity.org/documents/18/NFDI_4_Biodiversity___Logo_Positiv_Kopie.png\" width=\"400\" style=\"display: inline-block; margin-right: 20px;\">\n",
    "</div>\n"
   ]
  },
  {
   "cell_type": "code",
   "execution_count": null,
   "id": "c49d9f1d-9861-4954-89ea-c1c69a81b79e",
   "metadata": {},
   "outputs": [],
   "source": []
  }
 ],
 "metadata": {
  "kernelspec": {
   "display_name": "worker_env",
   "language": "python",
   "name": "worker_env"
  },
  "language_info": {
   "codemirror_mode": {
    "name": "ipython",
    "version": 3
   },
   "file_extension": ".py",
   "mimetype": "text/x-python",
   "name": "python",
   "nbconvert_exporter": "python",
   "pygments_lexer": "ipython3",
   "version": "3.12.7"
  }
 },
 "nbformat": 4,
 "nbformat_minor": 5
}
