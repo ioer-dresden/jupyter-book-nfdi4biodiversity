{
 "cells": [
  {
   "cell_type": "markdown",
   "id": "d1b03c7c-ecef-4cf5-8bf9-16a444c97242",
   "metadata": {
    "editable": true,
    "slideshow": {
     "slide_type": ""
    },
    "tags": []
   },
   "source": [
    "# Data Analysis \n",
    "\n",
    "- expain how to integrate external (NFDI) with internal (IOER) data"
   ]
  },
  {
   "cell_type": "code",
   "execution_count": null,
   "id": "0927458d-dfec-48ce-88e8-1cc9e925b93d",
   "metadata": {},
   "outputs": [],
   "source": []
  }
 ],
 "metadata": {
  "kernelspec": {
   "display_name": "Python 3 (ipykernel)",
   "language": "python",
   "name": "python3"
  },
  "language_info": {
   "codemirror_mode": {
    "name": "ipython",
    "version": 3
   },
   "file_extension": ".py",
   "mimetype": "text/x-python",
   "name": "python",
   "nbconvert_exporter": "python",
   "pygments_lexer": "ipython3",
   "version": "3.12.7"
  }
 },
 "nbformat": 4,
 "nbformat_minor": 5
}
