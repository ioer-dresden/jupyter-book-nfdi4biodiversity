{
 "cells": [
  {
   "cell_type": "markdown",
   "id": "b06fb7e5-c138-4964-a770-5c033bea9f06",
   "metadata": {},
   "source": [
    "# Selecting and filtering spatial data\n"
   ]
  },
  {
   "cell_type": "markdown",
   "id": "3b124819-544c-4a2d-b798-0b5026604022",
   "metadata": {},
   "source": [
    "After loading the data based on the tutorial in Data Retrival section, it is needed to do the analysis on the data but when the data is huge the processing with jupyter will take more time or sometimes the result will not be visualized. So the data could be limited to small parts by selecting the data of interest."
   ]
  },
  {
   "cell_type": "markdown",
   "id": "c5a88b56-1579-4f7f-9ce4-bb7e3df380f4",
   "metadata": {},
   "source": [
    "In the first step based on the definition in the previous parts, the headers (attributes) of the data will be called."
   ]
  },
  {
   "cell_type": "code",
   "execution_count": null,
   "id": "2ba03ceb-80b2-46b2-81ff-9f0c2ad0164a",
   "metadata": {},
   "outputs": [],
   "source": [
    "print(gdf.columns)"
   ]
  },
  {
   "cell_type": "markdown",
   "id": "c719fe5c-0583-408b-9ff4-2edb5c0cfa25",
   "metadata": {},
   "source": [
    "It is also possible to have information about the format of each attribute, it is important when the attribute will be called, for example if it is numbers in object (string) format or in other numeric formats such as Double."
   ]
  },
  {
   "cell_type": "code",
   "execution_count": null,
   "id": "512efd9a-9467-4003-82c8-bae735eb3ddc",
   "metadata": {},
   "outputs": [],
   "source": [
    "print(gdf.dtypes)"
   ]
  },
  {
   "cell_type": "markdown",
   "id": "49909dfc-28ab-49d7-bd5d-8860c3fd0317",
   "metadata": {},
   "source": [
    "For each attribute the values could be repetitive or unique.\n",
    "\n",
    "**ex:** In a building dataset for a city, the usage of the buildings could be defined as unique values of residential or non-residential but the area of the buildings \n",
    "          could be different or some buildings have the same area.  "
   ]
  },
  {
   "cell_type": "markdown",
   "id": "8c965d60-c845-45bf-a964-eeb620843d77",
   "metadata": {},
   "source": [
    "For finding these patterns in the values the term unique could be used, by defining the interested attribute in this example \"KS_IS\", the unique values in this attribute will be visualized."
   ]
  },
  {
   "cell_type": "code",
   "execution_count": null,
   "id": "b951eef9-e747-498d-93b0-754f2963da04",
   "metadata": {},
   "outputs": [],
   "source": [
    "unique_groups = gdf['KS_IS'].unique()\n",
    "print(unique_groups)"
   ]
  },
  {
   "cell_type": "markdown",
   "id": "51435382-3623-4703-9860-7e34f4e6f4ae",
   "metadata": {},
   "source": [
    "Then it is possible to count that how many times a unique value repeated. \"group by\" group the features based on the uniqe values and \"size\" calculates the number of features in each group. The output is sorted, based on the unique values."
   ]
  },
  {
   "cell_type": "code",
   "execution_count": null,
   "id": "91b5e6a6-f7a0-438a-8d32-a7d60a12f9a5",
   "metadata": {},
   "outputs": [],
   "source": [
    "groupcounts = gdf.groupby('KS_IS').size()\n",
    "print(groupcounts)"
   ]
  },
  {
   "cell_type": "markdown",
   "id": "a03a3ae1-7f4b-4605-b7c4-75687351e0df",
   "metadata": {},
   "source": [
    "It is also possible to count the frequency of the unique values using \"value_counts\". In this case the output will be sorted descending based on the frequency counts. "
   ]
  },
  {
   "cell_type": "code",
   "execution_count": null,
   "id": "a9014c5a-d839-44fc-ab5b-97605ca65c1b",
   "metadata": {},
   "outputs": [],
   "source": [
    "groupcounts= gdf[\"KS_IS\"].value_counts()\n",
    "print(groupcounts)"
   ]
  },
  {
   "cell_type": "markdown",
   "id": "5bf1e8d3-7812-4df2-8009-65fded991570",
   "metadata": {},
   "source": [
    "If among long group of unique values the number of features for one spesific group needed it is possible to call it like like a value for a key in dictionary: "
   ]
  },
  {
   "cell_type": "code",
   "execution_count": null,
   "id": "22f709fb-365f-48b7-9a36-d6a6093be627",
   "metadata": {},
   "outputs": [],
   "source": [
    "sv_count = groupcounts['SV']\n",
    "print (sv_count)"
   ]
  },
  {
   "cell_type": "markdown",
   "id": "d5e20f1a-120b-4eae-8c99-4b23dcd753e6",
   "metadata": {},
   "source": [
    ":::{note}\n",
    "Here the importance of the format of the attributes that was mentioned in the begining of this chapter, will be specified: \n",
    ":::"
   ]
  },
  {
   "cell_type": "markdown",
   "id": "770965a9-750f-454f-b282-22ef5440662c",
   "metadata": {},
   "source": [
    "The unique values for both attributes of \"CLC_st1\" and \"Biotpkt2018\" are numbers, but the format of the first one is object (string) and the other is float. The way for calling them based on their format is available in the next cells: "
   ]
  },
  {
   "cell_type": "markdown",
   "id": "c753a6d6-090c-4c71-ada1-67f78e0afd87",
   "metadata": {},
   "source": [
    "- **String format**"
   ]
  },
  {
   "cell_type": "code",
   "execution_count": null,
   "id": "d8e25e50-5367-48e9-b8d1-3ff94120893e",
   "metadata": {},
   "outputs": [],
   "source": [
    "group_1 = gdf.groupby('CLC_st1').size()\n",
    "print(group_1)"
   ]
  },
  {
   "cell_type": "code",
   "execution_count": null,
   "id": "50d7bb00-daa9-4c19-be83-bcc8c8deb9fe",
   "metadata": {},
   "outputs": [],
   "source": [
    "count = group_1['141']\n",
    "print (count)"
   ]
  },
  {
   "cell_type": "markdown",
   "id": "7dc03131-4793-42e5-96b3-0fb9aa0ead0d",
   "metadata": {},
   "source": [
    "- **Float format**"
   ]
  },
  {
   "cell_type": "code",
   "execution_count": null,
   "id": "0d4de373-db4c-41d1-839e-e1a1e264490c",
   "metadata": {},
   "outputs": [],
   "source": [
    "group_2 = gdf.groupby('Biotpkt2018').size()\n",
    "print(group_2)"
   ]
  },
  {
   "cell_type": "code",
   "execution_count": null,
   "id": "14c427e4-fa07-46e1-8a39-d5025e13819e",
   "metadata": {},
   "outputs": [],
   "source": [
    "count2 = group_2[1.000000]\n",
    "print (count2)"
   ]
  },
  {
   "cell_type": "markdown",
   "id": "83920c34-7b02-495e-bb72-5c1854787cf9",
   "metadata": {},
   "source": [
    "```{note}\n",
    "Sometimes because of the precision of the float format, the value that is in the \"groupby\" or \"value_counts\" is not exactly the same as the value in data frame. In this case if that value is called directly an error will be appeared.\n",
    "```{glue:figure} \n",
    ":doc: ../resources/14.png\n",
    "```"
   ]
  },
  {
   "cell_type": "markdown",
   "id": "ceb279b7-22f1-46ce-bc88-7acd3b2ccd1a",
   "metadata": {},
   "source": [
    "```{note}\n",
    "Sometimes because of the precision of the float format, the value that is in the \"groupby\" or \"value_counts\" is not exactly the same as the value in data frame. In this case if that value is called directly an error will be appeared.\n",
    "```{glue:figure} ../resources/14.png\n",
    "```"
   ]
  },
  {
   "cell_type": "markdown",
   "id": "91c83c38-ae71-4758-9c28-8c99ac635cd7",
   "metadata": {},
   "source": [
    "After getting familiar with the data attributes and uniqe values for the features, the required features could be selected:"
   ]
  },
  {
   "cell_type": "markdown",
   "id": "c5a50bd3-7774-46e2-9550-0eeca664601a",
   "metadata": {},
   "source": [
    "If just features with one specific value is needed, the value directly called:"
   ]
  },
  {
   "cell_type": "markdown",
   "id": "ce7e3a40-4b71-4ea5-90e7-2a94e2a2508b",
   "metadata": {},
   "source": [
    "- String format"
   ]
  },
  {
   "cell_type": "code",
   "execution_count": null,
   "id": "7e2f9358-22bf-4dee-b35b-f7cd49ec71d3",
   "metadata": {},
   "outputs": [],
   "source": [
    "filtered_data=gdf[gdf['KS_IS'] == 'FG']\n",
    "print(filtered_data)"
   ]
  },
  {
   "cell_type": "code",
   "execution_count": null,
   "id": "3c492812-207d-4204-b741-e9f616a8341c",
   "metadata": {},
   "outputs": [],
   "source": [
    "filtered_data=gdf[gdf['CLC_st1'] == '133']\n",
    "print(filtered_data)"
   ]
  },
  {
   "cell_type": "markdown",
   "id": "61369821-0ebc-4858-a064-07c46e8726d3",
   "metadata": {},
   "source": [
    "- Float format"
   ]
  },
  {
   "cell_type": "code",
   "execution_count": null,
   "id": "476c4578-5099-450e-a774-2c39fef42c2e",
   "metadata": {},
   "outputs": [],
   "source": [
    "filtered_data=gdf[gdf['Biotpkt2018'] == 1.000000]\n",
    "print(filtered_data)"
   ]
  },
  {
   "cell_type": "markdown",
   "id": "89d68c33-6714-4104-b85a-3610fa7366be",
   "metadata": {},
   "source": [
    "```{note}\n",
    "As it mentioned in the previous note, for the float values because of the precision sometimes it shows the empty data frame (means there is no feature with this value), while in the \"groupby\" or \"value_counts\" it shows some features exist with this values.\n",
    "```{glue} sorted_means_fig\n",
    ":doc: ../resources/15.png\n",
    "```"
   ]
  },
  {
   "cell_type": "code",
   "execution_count": null,
   "id": "17166de4-c464-4e04-b4a7-13f17c7cab0e",
   "metadata": {},
   "outputs": [],
   "source": [
    "filtered_data=gdf[gdf['Biotpkt2018'] == 18.055116]\n",
    "print(filtered_data)"
   ]
  },
  {
   "cell_type": "markdown",
   "id": "cc3489d8-3c60-41e7-b13d-939f14388bdb",
   "metadata": {},
   "source": [
    "If features with more than one specific value is needed, the values called as a list:"
   ]
  },
  {
   "cell_type": "code",
   "execution_count": null,
   "id": "8c5d63a1-59be-47f0-8374-de28724ed20c",
   "metadata": {},
   "outputs": [],
   "source": [
    "filtered_data = gdf[gdf['CLC_st1'].isin(['133', '321', '411'])]\n",
    "print(filtered_data)"
   ]
  },
  {
   "cell_type": "markdown",
   "id": "e738c6f1-8060-4fd7-a983-8cfa0eb3437f",
   "metadata": {},
   "source": [
    "Also it is possible to get familiar with the range of the data for numeric values such as area."
   ]
  },
  {
   "cell_type": "markdown",
   "id": "63d0609f-dc80-43ed-9e1d-3e02f0974a80",
   "metadata": {},
   "source": [
    "For finding the minimum and maximum values of the features the following code uses."
   ]
  },
  {
   "cell_type": "code",
   "execution_count": null,
   "id": "a1621b2a-deb6-4a6d-a7e9-139037404a69",
   "metadata": {},
   "outputs": [],
   "source": [
    "min_value = gdf['Shape_Area'].min()\n",
    "max_value = gdf['Shape_Area'].max()\n",
    "print (\"minimum:\", min_value)\n",
    "print (\"maximum:\", max_value)"
   ]
  },
  {
   "cell_type": "markdown",
   "id": "9b88a3cf-a184-4cdb-8484-5edcbb130680",
   "metadata": {},
   "source": [
    "Now after getting information about the attributes of features and values assigned to them it is possible to make decision which part of data is interested."
   ]
  },
  {
   "cell_type": "markdown",
   "id": "c9b61605-6694-44e1-8cda-86a7233b6668",
   "metadata": {},
   "source": [
    "For example it is decided to just work with the features having areas less than 1000."
   ]
  },
  {
   "cell_type": "markdown",
   "id": "6c99519f-9b65-472c-bedb-511651851c98",
   "metadata": {},
   "source": [
    "First the filter defined for the attribute containing the area."
   ]
  },
  {
   "cell_type": "code",
   "execution_count": null,
   "id": "895f9b73-09ef-4e6d-9bb9-4d7300453adc",
   "metadata": {},
   "outputs": [],
   "source": [
    "filter_db = gdf[gdf['Shape_Area'] < 1000]"
   ]
  },
  {
   "cell_type": "markdown",
   "id": "8dd5d59d-681c-47f6-8eff-3604dfa4024d",
   "metadata": {},
   "source": [
    "And then it is just needed to plot it."
   ]
  },
  {
   "cell_type": "code",
   "execution_count": null,
   "id": "90ea9b70-50a1-4369-a59d-537cefe6b7a0",
   "metadata": {},
   "outputs": [],
   "source": [
    "filter_db.plot()\n",
    "plt.title(\"Dresden - Shapes with Area < 1000\")\n",
    "plt.show()\n"
   ]
  },
  {
   "cell_type": "code",
   "execution_count": 13,
   "id": "e4c6efeb-7424-448c-9d72-ac05a1cbc3c5",
   "metadata": {},
   "outputs": [],
   "source": [
    "# plt.figure(figsize=(50, 50), dpi=500)  not working"
   ]
  },
  {
   "cell_type": "markdown",
   "id": "02d89755-7e66-49c0-a914-07bbe0fef86b",
   "metadata": {},
   "source": [
    "It is also possible to have a widget to interactively visualize the interested part of the data."
   ]
  },
  {
   "cell_type": "markdown",
   "id": "742436f7-b0be-4830-9018-5104500ccc1c",
   "metadata": {},
   "source": [
    "For this reason the library ipywidgets and the function interact from that library imported."
   ]
  },
  {
   "cell_type": "code",
   "execution_count": null,
   "id": "439e268a-a5ac-43df-b195-29a08a2c876e",
   "metadata": {},
   "outputs": [],
   "source": [
    "import ipywidgets as widgets\n",
    "from ipywidgets import interact"
   ]
  },
  {
   "cell_type": "markdown",
   "id": "ad6356ac-530e-413f-918c-bb382c645bd5",
   "metadata": {},
   "source": [
    "Then a function defined using \"def\" for displaying the features in the interested range."
   ]
  },
  {
   "cell_type": "code",
   "execution_count": 15,
   "id": "def7294c-6170-4fb3-9146-8146cecb593d",
   "metadata": {},
   "outputs": [],
   "source": [
    "def ShapeArea(value):\n",
    "    filtered_gdf = gdf[gdf['Shape_Area'] <= value]\n",
    "    \n",
    "    filtered_gdf.plot()"
   ]
  },
  {
   "cell_type": "markdown",
   "id": "9cc9542c-5559-486d-a1f9-8feedcb6d415",
   "metadata": {},
   "source": [
    "The interactive part is using the slider for visualize some parts in the interested range.\n",
    "\n",
    "In the following codes the \"interact\" is the function creating the slider by linking to the function which is defined by the user \"ShapeArea\", ShapeArea is the name of the function which is defined and the values are defined as the lowest and highest areas with the intervals of 0.1. In the second line the maximum value assigned to the area of 10000 to limit the data and by moving the slider the range of visualization also changes."
   ]
  },
  {
   "cell_type": "code",
   "execution_count": null,
   "id": "c4adf1ae-f053-49a3-8562-b189d44f0bfb",
   "metadata": {},
   "outputs": [],
   "source": [
    "#interact(shape_area, value=widgets.FloatSlider(min=min_value, max=max_value, step=0.1));\n",
    "interact(ShapeArea, value=widgets.FloatSlider(min=min_value, max=10000, step=0.1));"
   ]
  },
  {
   "cell_type": "code",
   "execution_count": null,
   "id": "0927458d-dfec-48ce-88e8-1cc9e925b93d",
   "metadata": {},
   "outputs": [],
   "source": []
  }
 ],
 "metadata": {
  "kernelspec": {
   "display_name": "Python 3 (ipykernel)",
   "language": "python",
   "name": "python3"
  },
  "language_info": {
   "codemirror_mode": {
    "name": "ipython",
    "version": 3
   },
   "file_extension": ".py",
   "mimetype": "text/x-python",
   "name": "python",
   "nbconvert_exporter": "python",
   "pygments_lexer": "ipython3",
   "version": "3.12.7"
  }
 },
 "nbformat": 4,
 "nbformat_minor": 5
}
