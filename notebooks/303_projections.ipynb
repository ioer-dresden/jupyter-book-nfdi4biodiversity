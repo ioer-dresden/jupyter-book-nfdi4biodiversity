{
 "cells": [
  {
   "cell_type": "markdown",
   "id": "0da08b15-c87b-4c6e-bd0d-4930a983fc0f",
   "metadata": {
    "editable": true,
    "slideshow": {
     "slide_type": ""
    },
    "tags": []
   },
   "source": [
    "# Data Projection"
   ]
  },
  {
   "cell_type": "markdown",
   "id": "5fe1da2e-1ff2-443e-9275-8906a0f53e1f",
   "metadata": {},
   "source": [
    "The Earth is curved, but spatial data is often represented as flat maps. Converting from 3D to 2D causes stretching and inaccuracies in measurements like distance and area. \n",
    "\n",
    "Projections help transform data into flat maps while minimizing distortions."
   ]
  },
  {
   "cell_type": "markdown",
   "id": "8f56e4c4-ff5b-4917-b828-e739f6725bc3",
   "metadata": {},
   "source": [
    "```{figure} https://upload.wikimedia.org/wikipedia/commons/thumb/2/22/Usgs_map_miller_cylindrical.PNG/450px-Usgs_map_miller_cylindrical.PNG\n",
    ":width: 900px\n",
    ":name: figure-example\n",
    "\n",
    "Map projection (Source: [wikipedia](https://en.wikipedia.org/wiki/Map_projection#/media/File:Usgs_map_miller_cylindrical.PNG))\n",
    "````\n"
   ]
  },
  {
   "cell_type": "markdown",
   "id": "693d7f6f-0c09-490c-8c94-5f48db83cec6",
   "metadata": {},
   "source": [
    "```{figure} ../resources/26.png\n",
    ":width: 900px\n",
    ":name: figure-example\n",
    "\n",
    "Map projection (Source: [wikipedia](https://en.wikipedia.org/wiki/Map_projection#/media/File:Usgs_map_miller_cylindrical.PNG))\n",
    "````\n"
   ]
  },
  {
   "cell_type": "markdown",
   "id": "c4dcf234-1799-4416-9fb7-bb01f2599807",
   "metadata": {},
   "source": [
    "`````{admonition} CRS\n",
    ":class: attention\n",
    "\n",
    "**Coordinate Reference System (CRS)** is a system used to define the location of spatial objects on the Earth's surface.\n",
    "`````"
   ]
  },
  {
   "cell_type": "markdown",
   "id": "1f0e3268-257a-4b0a-b4c1-247282226c0a",
   "metadata": {},
   "source": [
    "`Geographic Coordinate Systems (GCS)`: Defines locations using latitude and longitude on a spherical model of the Earth (e.g., WGS84)."
   ]
  },
  {
   "cell_type": "markdown",
   "id": "e6405b15-f52a-443a-a3b9-96b3004eb43c",
   "metadata": {},
   "source": [
    "`Projected Coordinate Systems (PCS)`: Converts the curved surface into a flat map with a Cartesian coordinate system (e.g., UTM)."
   ]
  },
  {
   "cell_type": "markdown",
   "id": "a7a55f63-e028-4526-95df-79dc08539de6",
   "metadata": {},
   "source": [
    "```{figure} https://www.esri.com/arcgis-blog/wp-content/uploads/2022/02/grid2.png\n",
    "\n",
    ":width: 700px\n",
    ":name: figure-example\n",
    "\n",
    "Geographic Coordinate Systems VS Projected Coordinate Systems (Source: [Nature Data Newsletter](https://newsletter.cecil.earth/p/spatial-data-foundations-for-nature))\n"
   ]
  },
  {
   "cell_type": "markdown",
   "id": "e9d9e17e-7c1c-4d8d-9a8e-faaa4b3213e2",
   "metadata": {},
   "source": [
    "`````{admonition} GCS VS PCS!\n",
    ":class: note\n",
    "\n",
    "Geographic Coordinate Systems **(GCS)**: Preserves shape over large areas but can distort distances and areas when flattened. Ideal for **global-scale mapping** where angular relationships matter.\n",
    "\n",
    "Projected Coordinate Systems **(PCS)**: Reduces distortions for specific regions but may distort shape or scale because flattening a curved surface causes stretching or compression, leading to shape alterations. It is best for **local or regional mapping** that requires accurate measurements.\n",
    "`````"
   ]
  },
  {
   "cell_type": "markdown",
   "id": "ed484b67-856d-4aa8-821a-bac9f5429871",
   "metadata": {},
   "source": [
    "Spatial relationships like joins and overlays cannot be performed correctly if datasets have different coordinate systems and need reprojecting."
   ]
  },
  {
   "cell_type": "markdown",
   "id": "f88bf70a-b096-45a4-9d48-4f6edcffa311",
   "metadata": {},
   "source": [
    "The reason is that they may not align correctly, which can misrepresent spatial relationships and result in incorrect matching and analysis."
   ]
  },
  {
   "cell_type": "markdown",
   "id": "354823cd-632e-49e2-ad84-d777260320d1",
   "metadata": {},
   "source": [
    "For this reason, the `geopandas` package is used. "
   ]
  },
  {
   "cell_type": "code",
   "execution_count": 1,
   "id": "8c38c4fd-6a68-45d7-bf29-bd8ffc2f6614",
   "metadata": {
    "editable": true,
    "slideshow": {
     "slide_type": ""
    },
    "tags": []
   },
   "outputs": [],
   "source": [
    "from pathlib import Path\n",
    "import geopandas as gp\n",
    "\n",
    "INPUT = Path.cwd().parents[0] / \"00_data\"\n",
    "gdb_path = INPUT / \"Biotopwerte_Dresden_2018.gdb\""
   ]
  },
  {
   "cell_type": "markdown",
   "id": "646f8c11-9060-4dc4-8f96-56b3034c8680",
   "metadata": {
    "editable": true,
    "slideshow": {
     "slide_type": ""
    },
    "tags": []
   },
   "source": [
    "The path to the data is defined."
   ]
  },
  {
   "cell_type": "code",
   "execution_count": 2,
   "id": "a9a2e0a3-6bb3-493a-853a-fcd3cd4963da",
   "metadata": {
    "editable": true,
    "slideshow": {
     "slide_type": ""
    },
    "tags": []
   },
   "outputs": [],
   "source": [
    "input_data = gp.read_file(gdb_path, layer=\"Biotopwerte_Dresden_2018\")"
   ]
  },
  {
   "cell_type": "markdown",
   "id": "384ebca6-4058-48fb-a057-0fe57b2bb8f6",
   "metadata": {
    "editable": true,
    "slideshow": {
     "slide_type": ""
    },
    "tags": []
   },
   "source": [
    "## Extracting CRS"
   ]
  },
  {
   "cell_type": "markdown",
   "id": "91bf32db-ad87-42ff-8ead-96080c6b0436",
   "metadata": {
    "editable": true,
    "slideshow": {
     "slide_type": ""
    },
    "tags": []
   },
   "source": [
    "The current coordinate system of the data should be checked using `crs` method."
   ]
  },
  {
   "cell_type": "markdown",
   "id": "113f01d4-b01a-4385-b8da-8b633f94fd32",
   "metadata": {
    "editable": true,
    "slideshow": {
     "slide_type": ""
    },
    "tags": []
   },
   "source": [
    "In the following example, which is for a projected coordinate system, the important information is:\n",
    " - `Coordinate System`: ETRS89/UTM Zone 33N, accurate for Central Europe (Area of Use)\n",
    " - `Coordinates`: E and N represent Easting (X) and Northing (Y) in cartesian CRS\n",
    " - `Unit of Measurements`: Meters"
   ]
  },
  {
   "cell_type": "markdown",
   "id": "249f9431-d854-41fa-b5e0-276519c0bf23",
   "metadata": {
    "editable": true,
    "slideshow": {
     "slide_type": ""
    },
    "tags": []
   },
   "source": [
    "`````{admonition} EPSG code\n",
    ":class: caution \n",
    "\n",
    "The EPSG code is a unique identifier for Coordinate Reference Systems, including both Geographic and Projected. Each EPSG code defines a specific way to locate, measure, and project spatial data.\n",
    "\n",
    "The [EPSG.io from MapTiler](https://epsg.io/#google_vignette) includes the EPSG codes for all required locations.\n",
    "`````"
   ]
  },
  {
   "cell_type": "code",
   "execution_count": 3,
   "id": "7d101eda-33a7-459c-90dc-43794407abd0",
   "metadata": {
    "editable": true,
    "slideshow": {
     "slide_type": ""
    },
    "tags": []
   },
   "outputs": [
    {
     "data": {
      "text/plain": [
       "<Projected CRS: EPSG:25833>\n",
       "Name: ETRS89 / UTM zone 33N\n",
       "Axis Info [cartesian]:\n",
       "- E[east]: Easting (metre)\n",
       "- N[north]: Northing (metre)\n",
       "Area of Use:\n",
       "- name: Europe between 12°E and 18°E: Austria; Denmark - offshore and offshore; Germany - onshore and offshore; Norway including Svalbard - onshore and offshore.\n",
       "- bounds: (12.0, 46.4, 18.01, 84.42)\n",
       "Coordinate Operation:\n",
       "- name: UTM zone 33N\n",
       "- method: Transverse Mercator\n",
       "Datum: European Terrestrial Reference System 1989 ensemble\n",
       "- Ellipsoid: GRS 1980\n",
       "- Prime Meridian: Greenwich"
      ]
     },
     "execution_count": 3,
     "metadata": {},
     "output_type": "execute_result"
    }
   ],
   "source": [
    "input_data.crs"
   ]
  },
  {
   "cell_type": "markdown",
   "id": "3679063c-de06-4e74-9b9d-71141226e33b",
   "metadata": {
    "editable": true,
    "slideshow": {
     "slide_type": ""
    },
    "tags": []
   },
   "source": [
    "`````{admonition} Example for Geographical Coordinate System\n",
    ":class: danger, dropdown \n",
    "\n",
    "In the following figure, which is for a geographical coordinate system, the important information is:\n",
    " - `Coordinate System`: WGS 84, a global CRS, covers the entire Earth \n",
    " - `Coordinates`: Latitude and Longitude, representing Northing and Easting\n",
    " - `Unit of Measurements`: Degrees\n",
    "\n",
    "* It already mentioned that geographical coordinate systems are 3D. However, for visualization as a map, just the latitude and longitude are used without height (Z values), that is the reason that the output is labeled as **Geographic 2D CRS**.\n",
    "\n",
    "```{figure} ../resources/25.png\n",
    ":width: 700px\n",
    ":name: figure-example\n",
    "\n",
    "Example of a Geographic Coordinate System\n",
    "````\n",
    "`````"
   ]
  },
  {
   "cell_type": "markdown",
   "id": "8cba98a8-3bfe-4496-9b98-e5c23707e840",
   "metadata": {
    "editable": true,
    "slideshow": {
     "slide_type": ""
    },
    "tags": []
   },
   "source": [
    "## Assigning CRS"
   ]
  },
  {
   "cell_type": "markdown",
   "id": "72c2a7cc-c8fd-41e5-aa0d-633dc603a588",
   "metadata": {
    "editable": true,
    "slideshow": {
     "slide_type": ""
    },
    "tags": []
   },
   "source": [
    "If the `crs` output is `None`, it means the dataset has no assigned CRS, and it should be set manually using `set_crs` method.\n",
    "\n",
    "The correct CRS is mentioned in the metadata file."
   ]
  },
  {
   "cell_type": "code",
   "execution_count": 4,
   "id": "2ac1b033-382d-45ee-bb44-b999c340830c",
   "metadata": {
    "editable": true,
    "slideshow": {
     "slide_type": ""
    },
    "tags": []
   },
   "outputs": [],
   "source": [
    "Data = input_data.set_crs(\"EPSG:25833\")"
   ]
  },
  {
   "cell_type": "markdown",
   "id": "911f466c-1a1a-424d-88b2-1e27253d7b06",
   "metadata": {
    "editable": true,
    "slideshow": {
     "slide_type": ""
    },
    "tags": []
   },
   "source": [
    "## Reprojecting Coordinates"
   ]
  },
  {
   "cell_type": "markdown",
   "id": "0b995d9b-e078-4126-bae9-c54c9f45e429",
   "metadata": {
    "editable": true,
    "slideshow": {
     "slide_type": ""
    },
    "tags": []
   },
   "source": [
    "Finally, for transforming the coordinate system to the required coordinate system, known as `Reprojection`, the `to_crs` method is used in 2 ways:"
   ]
  },
  {
   "cell_type": "markdown",
   "id": "f0eb7af9-8d4c-4c3d-9fd3-e7d49c1424d1",
   "metadata": {
    "editable": true,
    "slideshow": {
     "slide_type": ""
    },
    "tags": []
   },
   "source": [
    "- **Using EPSG code**"
   ]
  },
  {
   "cell_type": "markdown",
   "id": "bd58a578-f4f3-45a0-bfea-06791ed5168b",
   "metadata": {
    "editable": true,
    "slideshow": {
     "slide_type": ""
    },
    "tags": []
   },
   "source": [
    "Defining the EPSG as an string:"
   ]
  },
  {
   "cell_type": "code",
   "execution_count": 5,
   "id": "e05af50e-19a1-4e0e-a7cb-10930ff10416",
   "metadata": {
    "editable": true,
    "slideshow": {
     "slide_type": ""
    },
    "tags": []
   },
   "outputs": [],
   "source": [
    "Data_2 = input_data.to_crs(\"EPSG:3035\")"
   ]
  },
  {
   "cell_type": "code",
   "execution_count": 6,
   "id": "9fceb741-c394-40ee-af7d-5a22c537590e",
   "metadata": {
    "editable": true,
    "slideshow": {
     "slide_type": ""
    },
    "tags": []
   },
   "outputs": [
    {
     "data": {
      "text/plain": [
       "<Projected CRS: EPSG:3035>\n",
       "Name: ETRS89-extended / LAEA Europe\n",
       "Axis Info [cartesian]:\n",
       "- Y[north]: Northing (metre)\n",
       "- X[east]: Easting (metre)\n",
       "Area of Use:\n",
       "- name: Europe - European Union (EU) countries and candidates. Europe - onshore and offshore: Albania; Andorra; Austria; Belgium; Bosnia and Herzegovina; Bulgaria; Croatia; Cyprus; Czechia; Denmark; Estonia; Faroe Islands; Finland; France; Germany; Gibraltar; Greece; Hungary; Iceland; Ireland; Italy; Kosovo; Latvia; Liechtenstein; Lithuania; Luxembourg; Malta; Monaco; Montenegro; Netherlands; North Macedonia; Norway including Svalbard and Jan Mayen; Poland; Portugal including Madeira and Azores; Romania; San Marino; Serbia; Slovakia; Slovenia; Spain including Canary Islands; Sweden; Switzerland; Türkiye (Turkey); United Kingdom (UK) including Channel Islands and Isle of Man; Vatican City State.\n",
       "- bounds: (-35.58, 24.6, 44.83, 84.73)\n",
       "Coordinate Operation:\n",
       "- name: Europe Equal Area 2001\n",
       "- method: Lambert Azimuthal Equal Area\n",
       "Datum: European Terrestrial Reference System 1989 ensemble\n",
       "- Ellipsoid: GRS 1980\n",
       "- Prime Meridian: Greenwich"
      ]
     },
     "execution_count": 6,
     "metadata": {},
     "output_type": "execute_result"
    }
   ],
   "source": [
    "Data_2.crs"
   ]
  },
  {
   "cell_type": "markdown",
   "id": "2d1feb3a-6ea9-44bd-8269-7fe3b6efd7a2",
   "metadata": {
    "editable": true,
    "slideshow": {
     "slide_type": ""
    },
    "tags": []
   },
   "source": [
    "Defining the EPSG as an integer:"
   ]
  },
  {
   "cell_type": "code",
   "execution_count": 7,
   "id": "e737041e-63e5-4bb6-aff1-ea17b484a16a",
   "metadata": {
    "editable": true,
    "slideshow": {
     "slide_type": ""
    },
    "tags": []
   },
   "outputs": [],
   "source": [
    "Data_3 = input_data.to_crs(epsg=3035)"
   ]
  },
  {
   "cell_type": "code",
   "execution_count": 8,
   "id": "70a9dcba-9f1d-40c4-9d44-85d61132df20",
   "metadata": {
    "editable": true,
    "slideshow": {
     "slide_type": ""
    },
    "tags": []
   },
   "outputs": [
    {
     "data": {
      "text/plain": [
       "<Projected CRS: EPSG:3035>\n",
       "Name: ETRS89-extended / LAEA Europe\n",
       "Axis Info [cartesian]:\n",
       "- Y[north]: Northing (metre)\n",
       "- X[east]: Easting (metre)\n",
       "Area of Use:\n",
       "- name: Europe - European Union (EU) countries and candidates. Europe - onshore and offshore: Albania; Andorra; Austria; Belgium; Bosnia and Herzegovina; Bulgaria; Croatia; Cyprus; Czechia; Denmark; Estonia; Faroe Islands; Finland; France; Germany; Gibraltar; Greece; Hungary; Iceland; Ireland; Italy; Kosovo; Latvia; Liechtenstein; Lithuania; Luxembourg; Malta; Monaco; Montenegro; Netherlands; North Macedonia; Norway including Svalbard and Jan Mayen; Poland; Portugal including Madeira and Azores; Romania; San Marino; Serbia; Slovakia; Slovenia; Spain including Canary Islands; Sweden; Switzerland; Türkiye (Turkey); United Kingdom (UK) including Channel Islands and Isle of Man; Vatican City State.\n",
       "- bounds: (-35.58, 24.6, 44.83, 84.73)\n",
       "Coordinate Operation:\n",
       "- name: Europe Equal Area 2001\n",
       "- method: Lambert Azimuthal Equal Area\n",
       "Datum: European Terrestrial Reference System 1989 ensemble\n",
       "- Ellipsoid: GRS 1980\n",
       "- Prime Meridian: Greenwich"
      ]
     },
     "execution_count": 8,
     "metadata": {},
     "output_type": "execute_result"
    }
   ],
   "source": [
    "Data_3.crs"
   ]
  },
  {
   "cell_type": "markdown",
   "id": "46f6c6aa-2fa1-47c7-aa72-47be7abc3d40",
   "metadata": {
    "editable": true,
    "slideshow": {
     "slide_type": ""
    },
    "tags": []
   },
   "source": [
    "- **Matching another layer’s coordinate system** "
   ]
  },
  {
   "cell_type": "markdown",
   "id": "a9ecc9ab-8246-4eaf-b296-c45678f8b813",
   "metadata": {},
   "source": [
    "In the following example the output of the previous code which has the CRS of LAEA Europe, **transforms** to the CRS of the **input_data** which has the CRS of UTM zone 33N. "
   ]
  },
  {
   "cell_type": "code",
   "execution_count": 9,
   "id": "afd0c315-969a-431f-af76-a2fa2b073154",
   "metadata": {
    "editable": true,
    "slideshow": {
     "slide_type": ""
    },
    "tags": []
   },
   "outputs": [],
   "source": [
    "Data_4 = Data_3.to_crs(input_data.crs)"
   ]
  },
  {
   "cell_type": "code",
   "execution_count": 10,
   "id": "c6265b84-1e97-4e34-b94d-62119ae87a4b",
   "metadata": {
    "editable": true,
    "slideshow": {
     "slide_type": ""
    },
    "tags": []
   },
   "outputs": [
    {
     "data": {
      "text/plain": [
       "<Projected CRS: EPSG:25833>\n",
       "Name: ETRS89 / UTM zone 33N\n",
       "Axis Info [cartesian]:\n",
       "- E[east]: Easting (metre)\n",
       "- N[north]: Northing (metre)\n",
       "Area of Use:\n",
       "- name: Europe between 12°E and 18°E: Austria; Denmark - offshore and offshore; Germany - onshore and offshore; Norway including Svalbard - onshore and offshore.\n",
       "- bounds: (12.0, 46.4, 18.01, 84.42)\n",
       "Coordinate Operation:\n",
       "- name: UTM zone 33N\n",
       "- method: Transverse Mercator\n",
       "Datum: European Terrestrial Reference System 1989 ensemble\n",
       "- Ellipsoid: GRS 1980\n",
       "- Prime Meridian: Greenwich"
      ]
     },
     "execution_count": 10,
     "metadata": {},
     "output_type": "execute_result"
    }
   ],
   "source": [
    "Data_4.crs"
   ]
  }
 ],
 "metadata": {
  "kernelspec": {
   "display_name": "worker_env",
   "language": "python",
   "name": "worker_env"
  },
  "language_info": {
   "codemirror_mode": {
    "name": "ipython",
    "version": 3
   },
   "file_extension": ".py",
   "mimetype": "text/x-python",
   "name": "python",
   "nbconvert_exporter": "python",
   "pygments_lexer": "ipython3",
   "version": "3.11.6"
  }
 },
 "nbformat": 4,
 "nbformat_minor": 5
}
