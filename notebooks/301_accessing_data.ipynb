{
 "cells": [
  {
   "cell_type": "code",
   "execution_count": 19,
   "id": "3d26397f-817c-448d-a24d-aa133de9a2a9",
   "metadata": {
    "editable": true,
    "slideshow": {
     "slide_type": ""
    },
    "tags": [
     "remove-cell"
    ]
   },
   "outputs": [
    {
     "name": "stdout",
     "output_type": "stream",
     "text": [
      "/usr/bin/sh: 1: ../py/modules/pkginstall.sh: Permission denied\n"
     ]
    }
   ],
   "source": [
    "# owslib is needed for the WFS query\n",
    "!../py/modules/pkginstall.sh \"owslib\""
   ]
  },
  {
   "cell_type": "markdown",
   "id": "0da08b15-c87b-4c6e-bd0d-4930a983fc0f",
   "metadata": {
    "editable": true,
    "slideshow": {
     "slide_type": ""
    },
    "tags": []
   },
   "source": [
    "# Accessing Data"
   ]
  },
  {
   "cell_type": "markdown",
   "id": "1422bd6b-502b-4760-9a76-6649bacbdf62",
   "metadata": {
    "editable": true,
    "slideshow": {
     "slide_type": ""
    },
    "tags": []
   },
   "source": [
    "```{admonition} Summary\n",
    ":class: hint\n",
    "\n",
    "This section explains four ways to access data: \n",
    "\n",
    "- Local files\n",
    "- API\n",
    "- Web Coverage Service (WCS)\n",
    "- Web Feature Service (WFS)\n",
    "\n",
    "```"
   ]
  },
  {
   "cell_type": "markdown",
   "id": "d2983892-8864-420d-ac3c-db7802cc0201",
   "metadata": {
    "editable": true,
    "slideshow": {
     "slide_type": ""
    },
    "tags": []
   },
   "source": [
    "## Local files\n",
    "Data is often stored in a file on your computer. However, depending on where you are running Python - whether on your own computer or in an online platform like JupyterLab - \n",
    "\n",
    "`local` storage could refer to your computer's hard drive, a remote server, or a cloud service.\n",
    "\n",
    "You can access the data with a relative or absolute path. "
   ]
  },
  {
   "cell_type": "markdown",
   "id": "1fe731da-931a-44db-b3e2-b0318189fd70",
   "metadata": {
    "editable": true,
    "slideshow": {
     "slide_type": ""
    },
    "tags": []
   },
   "source": [
    "### Local file path\n",
    "When specifying a local file path in Python, there are three common formats:\n",
    "\n",
    "- Double backslashes (`\\\\`) → `\"C:\\\\Users\\\\file.json\"`\n",
    "- Raw string (prefix with `r`) → `r\"C:\\Users\\file.json\"`\n",
    "- Forward slashes (`/`) → `r\"C:/Users/file.json\"`"
   ]
  },
  {
   "cell_type": "markdown",
   "id": "bd6b4bc7-c6f4-46f7-a961-0898fe60a9bd",
   "metadata": {
    "editable": true,
    "slideshow": {
     "slide_type": ""
    },
    "tags": []
   },
   "source": [
    "`````{admonition} Note\n",
    ":class: note\n",
    "In Python, single backslashes (`\\`) are treated as [escape characters](https://en.wikipedia.org/wiki/Escape_character), which is why using double backslashes (`\\\\`) or a raw string (`r\"\"`) is necessary to avoid errors.\n",
    "`````"
   ]
  },
  {
   "cell_type": "markdown",
   "id": "60051fc8-1c7f-499f-9135-61266f0bde33",
   "metadata": {
    "editable": true,
    "slideshow": {
     "slide_type": ""
    },
    "tags": []
   },
   "source": [
    "`````{admonition} Use Python's pathlib\n",
    ":class: tip\n",
    "Use Python's [pathlib](https://docs.python.org/3/library/pathlib.html) to write code that works on any operating system, whether it's Windows, Mac, or Linux. This module simplifies file and folder management by providing a consistent, structured approach. By using pathlib, your code becomes more portable, allowing colleagues on different systems to run it without path modification and reproduce your results.\n",
    "`````"
   ]
  },
  {
   "cell_type": "markdown",
   "id": "b0c3f827-be48-4db3-8bd5-ea904c378c97",
   "metadata": {
    "editable": true,
    "slideshow": {
     "slide_type": ""
    },
    "tags": []
   },
   "source": [
    "Here is a example how the code with `pathlib` can look like:"
   ]
  },
  {
   "cell_type": "code",
   "execution_count": 20,
   "id": "25d7d60a-7e4e-4829-af53-1d47e7ccf9f0",
   "metadata": {
    "editable": true,
    "slideshow": {
     "slide_type": ""
    },
    "tags": []
   },
   "outputs": [],
   "source": [
    "from pathlib import Path\n",
    "\n",
    "base_path = Path.cwd().parents[0]\n",
    "INPUT = base_path / \"00_data\" # refers to the folder path named \"00_data\"\n",
    "INPUT.mkdir(exist_ok=True) # creates the \"00_data\" folder if it doesn't already exist.\n"
   ]
  },
  {
   "cell_type": "markdown",
   "id": "752d8920-687a-46c5-a8bb-60bd449fa77a",
   "metadata": {
    "editable": true,
    "slideshow": {
     "slide_type": ""
    },
    "tags": []
   },
   "source": [
    "Explainations:\n",
    "- `Path.cwd()` → Gets the current working directory (cwd), which is the folder where your Jupyter Notebook or Python script is running.\n",
    "- `.parents[0]` → moves one level up from the current working directory."
   ]
  },
  {
   "cell_type": "markdown",
   "id": "65fec420-e390-4d56-9192-5a622176349b",
   "metadata": {
    "editable": true,
    "slideshow": {
     "slide_type": ""
    },
    "tags": []
   },
   "source": [
    "### Defining parameters at the beginning of a Jupyter Notebook\n",
    "\n",
    "It is a good idea to define parameters at the beginning of a Jupyter Notebook (typically in the first few code cells), using CAPITAL LETTER to make them easily identifiable."
   ]
  },
  {
   "cell_type": "markdown",
   "id": "9ddbbda8-b455-454e-bcf2-0fcf4494e421",
   "metadata": {
    "editable": true,
    "slideshow": {
     "slide_type": ""
    },
    "tags": []
   },
   "source": [
    "`````{admonition} \n",
    ":class: danger\n",
    "In Python, variables written in all CAPITAL LETTERS are commonly referred to as constants. Learn more here: [Python Constants: Improve Your Code's Maintainability](https://realpython.com/python-constants/).\n",
    "\n",
    "**Why should I use constants?**\n",
    "\n",
    "Using constants in a Python script or Jupyter Notebook helps to:\n",
    "\n",
    "- Reuse frequently used variables that should not change.\n",
    "- Make key parameters easy to find and modify.\n",
    "- Follows a common Python naming convention.\n",
    "`````"
   ]
  },
  {
   "cell_type": "markdown",
   "id": "a959e1e2-63c4-43ca-958d-d180d24db66d",
   "metadata": {
    "editable": true,
    "slideshow": {
     "slide_type": ""
    },
    "tags": []
   },
   "source": [
    "### Example of using constants and pathlip "
   ]
  },
  {
   "cell_type": "code",
   "execution_count": 21,
   "id": "0f69f611-974e-4656-ae5d-fcf139517ef0",
   "metadata": {
    "editable": true,
    "slideshow": {
     "slide_type": ""
    },
    "tags": []
   },
   "outputs": [],
   "source": [
    "from pathlib import Path\n",
    "\n",
    "# Defining constants at the top of the notebook\n",
    "\n",
    "base_path = Path.cwd().parents[0]  # Moves one level up from the notebook / folder\n",
    "OUTPUT = base_path / \"out\"         # Directory for saving figures, reports, etc.\n",
    "WORK_DIR = base_path / \"tmp\"       # Working directory"
   ]
  },
  {
   "cell_type": "code",
   "execution_count": 22,
   "id": "acd030b1-039e-4100-bc31-114049fc2b5a",
   "metadata": {
    "editable": true,
    "slideshow": {
     "slide_type": ""
    },
    "tags": []
   },
   "outputs": [],
   "source": [
    "current_path = Path.cwd()\n",
    "mydata = current_path.parents[0] / \"00_data\" / \"LBM2018IS_DD.json\""
   ]
  },
  {
   "cell_type": "markdown",
   "id": "a342bd10-3e1d-42ee-8798-ce5c31294476",
   "metadata": {
    "editable": true,
    "slideshow": {
     "slide_type": ""
    },
    "tags": []
   },
   "source": [
    "Since we defined `INPUT` already above, this can be shortened."
   ]
  },
  {
   "cell_type": "code",
   "execution_count": 23,
   "id": "ee7a9124-f4e7-44f7-8fca-eaf7188b1a5f",
   "metadata": {
    "editable": true,
    "slideshow": {
     "slide_type": ""
    },
    "tags": []
   },
   "outputs": [],
   "source": [
    "mydata = INPUT / \"LBM2018IS_DD.json\""
   ]
  },
  {
   "cell_type": "markdown",
   "id": "3e90b426-68f1-42ca-a5c0-ed98866cfb83",
   "metadata": {
    "editable": true,
    "slideshow": {
     "slide_type": ""
    },
    "tags": []
   },
   "source": [
    "Compare an example for an absolute path in Windows:\n",
    "```python\n",
    "file_path = Path(\"C:/Users/files/LBM2018IS_DD.json\")\n",
    "```"
   ]
  },
  {
   "cell_type": "markdown",
   "id": "d3fcc785-8607-410b-b0bd-51d18be34557",
   "metadata": {
    "editable": true,
    "slideshow": {
     "slide_type": ""
    },
    "tags": []
   },
   "source": [
    " ⚠️ Add image with file path"
   ]
  },
  {
   "cell_type": "markdown",
   "id": "311b72ad-1f37-4f3d-82a1-ed7d8b048882",
   "metadata": {
    "editable": true,
    "slideshow": {
     "slide_type": ""
    },
    "tags": []
   },
   "source": [
    "`````{admonition} pathlib not always supported\n",
    ":class: note\n",
    "Some older Python packages do not support paths from pathlib. For these cases, convert the pathlib object to a string first (e.g. `str(mydata)`).\n",
    "`````"
   ]
  },
  {
   "cell_type": "markdown",
   "id": "475dfafd-0238-421c-8a5f-dc099d0d10d9",
   "metadata": {
    "editable": true,
    "slideshow": {
     "slide_type": ""
    },
    "tags": []
   },
   "source": [
    "⚠️ Some information about the functions is missing. I do not understand, what it's the goal of the functions, why should I use it. \n",
    "-> Maybe also more useful to add in another chapter, and not under Accessing Data. "
   ]
  },
  {
   "cell_type": "markdown",
   "id": "93c6eaea-394d-41e7-8213-e9b20cbf9d33",
   "metadata": {
    "editable": true,
    "slideshow": {
     "slide_type": ""
    },
    "tags": []
   },
   "source": [
    "There are some convenient functions available. For instance, to get the size:"
   ]
  },
  {
   "cell_type": "code",
   "execution_count": 24,
   "id": "53c56c66-a8f6-4af6-b934-8338a60db1c7",
   "metadata": {
    "editable": true,
    "slideshow": {
     "slide_type": ""
    },
    "tags": []
   },
   "outputs": [
    {
     "data": {
      "text/plain": [
       "84024118"
      ]
     },
     "execution_count": 24,
     "metadata": {},
     "output_type": "execute_result"
    }
   ],
   "source": [
    "size = mydata.stat().st_size\n",
    "size"
   ]
  },
  {
   "cell_type": "markdown",
   "id": "3fcf672a-82eb-4428-8b18-2935c85592fb",
   "metadata": {
    "editable": true,
    "slideshow": {
     "slide_type": ""
    },
    "tags": []
   },
   "source": [
    "Convert it to Megabyte, and format to showing two decimals by using f-strings.\n"
   ]
  },
  {
   "cell_type": "code",
   "execution_count": 25,
   "id": "6974642a-27bd-424a-91ad-296acff19888",
   "metadata": {
    "editable": true,
    "slideshow": {
     "slide_type": ""
    },
    "tags": []
   },
   "outputs": [
    {
     "name": "stdout",
     "output_type": "stream",
     "text": [
      "80.13 MB\n"
     ]
    }
   ],
   "source": [
    "size_gb = size / 1024 / 1024\n",
    "print(f'{size_gb:.2f} MB')"
   ]
  },
  {
   "cell_type": "markdown",
   "id": "6c692353-e950-44ef-804d-c8f984ea143d",
   "metadata": {
    "editable": true,
    "slideshow": {
     "slide_type": ""
    },
    "tags": []
   },
   "source": [
    "If you do not know whether a variable is a string or a pathlib object, use the jupyter `?`.\n"
   ]
  },
  {
   "cell_type": "code",
   "execution_count": 26,
   "id": "b6bad61a-0b7e-4aab-8ce3-e8d8e7f569d0",
   "metadata": {
    "editable": true,
    "slideshow": {
     "slide_type": ""
    },
    "tags": [
     "hide-output"
    ]
   },
   "outputs": [
    {
     "data": {
      "text/plain": [
       "\u001b[31mType:\u001b[39m        PosixPath\n",
       "\u001b[31mString form:\u001b[39m /home/jovyan/work/jupyter-book-nfdi4biodiversity/00_data/LBM2018IS_DD.json\n",
       "\u001b[31mFile:\u001b[39m        /opt/conda/envs/worker_env/lib/python3.11/pathlib.py\n",
       "\u001b[31mDocstring:\u001b[39m  \n",
       "Path subclass for non-Windows systems.\n",
       "\n",
       "On a POSIX system, instantiating a Path should return this object."
      ]
     },
     "metadata": {},
     "output_type": "display_data"
    }
   ],
   "source": [
    "?mydata"
   ]
  },
  {
   "cell_type": "code",
   "execution_count": null,
   "id": "d424f48d-7b41-4f73-98cc-f66f499a9806",
   "metadata": {
    "editable": true,
    "slideshow": {
     "slide_type": ""
    },
    "tags": []
   },
   "outputs": [],
   "source": []
  },
  {
   "cell_type": "markdown",
   "id": "fecdfc68-1ec2-4166-b3a2-79dd356c27fd",
   "metadata": {
    "editable": true,
    "slideshow": {
     "slide_type": ""
    },
    "tags": []
   },
   "source": [
    "## Application Programming Interface (API)\n"
   ]
  },
  {
   "cell_type": "markdown",
   "id": "75062439-b179-4fbe-8829-42831e3cbb22",
   "metadata": {
    "editable": true,
    "slideshow": {
     "slide_type": ""
    },
    "tags": []
   },
   "source": [
    "For retriving data from an API the package `request` is needed."
   ]
  },
  {
   "cell_type": "code",
   "execution_count": 27,
   "id": "269ea23f-365a-48f7-b8eb-f53a9e0d3b7a",
   "metadata": {
    "editable": true,
    "slideshow": {
     "slide_type": ""
    },
    "tags": []
   },
   "outputs": [],
   "source": [
    "import requests"
   ]
  },
  {
   "cell_type": "markdown",
   "id": "5e1d455f-c42c-4d67-bdc8-bc09f4c14cc0",
   "metadata": {
    "editable": true,
    "slideshow": {
     "slide_type": ""
    },
    "tags": []
   },
   "source": [
    "Then the path including the URL string is imported."
   ]
  },
  {
   "cell_type": "code",
   "execution_count": 9,
   "id": "5fe2d43e-a37d-4bc5-a9d9-4e49261ba6ea",
   "metadata": {
    "editable": true,
    "slideshow": {
     "slide_type": ""
    },
    "tags": []
   },
   "outputs": [],
   "source": [
    "path=\"http://dataverse-test.ioer.de:8080/api/access/datafile/344\""
   ]
  },
  {
   "cell_type": "markdown",
   "id": "9c7e9ce5-dc35-42b9-97d0-5ace8f3ac361",
   "metadata": {
    "editable": true,
    "slideshow": {
     "slide_type": ""
    },
    "tags": []
   },
   "source": [
    "Then using the GET method a request send to the path to access the data from the server. "
   ]
  },
  {
   "cell_type": "code",
   "execution_count": null,
   "id": "50cb6b58-2c2c-4532-a0a1-3cbbea69eb88",
   "metadata": {
    "editable": true,
    "slideshow": {
     "slide_type": ""
    },
    "tags": []
   },
   "outputs": [],
   "source": [
    "response = requests.get(path)"
   ]
  },
  {
   "cell_type": "markdown",
   "id": "cb865875-f496-49b1-b831-09eb6930da7e",
   "metadata": {
    "editable": true,
    "slideshow": {
     "slide_type": ""
    },
    "tags": []
   },
   "source": [
    "Based on the format of the data in the API, the response should be converted. To findout the response format, check the `Content Type`."
   ]
  },
  {
   "cell_type": "code",
   "execution_count": null,
   "id": "787b358b-ef43-4503-b368-4dfec52403c4",
   "metadata": {
    "editable": true,
    "slideshow": {
     "slide_type": ""
    },
    "tags": []
   },
   "outputs": [],
   "source": [
    "print(response.headers[\"Content-Type\"])"
   ]
  },
  {
   "cell_type": "markdown",
   "id": "acc27946-4ac8-4687-a1ed-575480039536",
   "metadata": {
    "editable": true,
    "slideshow": {
     "slide_type": ""
    },
    "tags": []
   },
   "source": [
    "In the following example, it converts the response of JSON format to a Python data structures and the data stored in a data variable `api_data`"
   ]
  },
  {
   "cell_type": "code",
   "execution_count": null,
   "id": "16df2a1c-db94-4bc1-a060-3691915f1df7",
   "metadata": {
    "editable": true,
    "slideshow": {
     "slide_type": ""
    },
    "tags": []
   },
   "outputs": [],
   "source": [
    "api_data = response.json()"
   ]
  },
  {
   "cell_type": "markdown",
   "id": "6f0513b9-5556-4478-a10c-0aff9c799b90",
   "metadata": {
    "editable": true,
    "slideshow": {
     "slide_type": ""
    },
    "tags": []
   },
   "source": [
    "## Web Feature Service (WFS)\n"
   ]
  },
  {
   "cell_type": "markdown",
   "id": "8817153b-922d-44ce-a9ec-37cf833c9bf9",
   "metadata": {
    "editable": true,
    "slideshow": {
     "slide_type": ""
    },
    "tags": []
   },
   "source": [
    "Web Feature Service (WFS) data is often available from official government units. One example is the [Dresden Opendata Portal](https://opendata.dresden.de/). For instance, the WFS for Stadtteile (city districts) can be found [here](https://opendata.dresden.de/informationsportal/?open=1&result=493101D03C794E9C99CD8B2BAC194FEC#app/mainpage////).\n",
    "\n",
    "Below, we show how to query this data in Python."
   ]
  },
  {
   "cell_type": "markdown",
   "id": "a7c160f9-9341-4061-a109-416c9c1cfb55",
   "metadata": {
    "editable": true,
    "slideshow": {
     "slide_type": ""
    },
    "tags": []
   },
   "source": [
    "Load the dependencies first."
   ]
  },
  {
   "cell_type": "code",
   "execution_count": 28,
   "id": "c46ae581-ed1e-4da7-ae6e-58988560a0bd",
   "metadata": {
    "editable": true,
    "slideshow": {
     "slide_type": ""
    },
    "tags": []
   },
   "outputs": [
    {
     "ename": "ModuleNotFoundError",
     "evalue": "No module named 'owslib'",
     "output_type": "error",
     "traceback": [
      "\u001b[31m---------------------------------------------------------------------------\u001b[39m",
      "\u001b[31mModuleNotFoundError\u001b[39m                       Traceback (most recent call last)",
      "\u001b[36mCell\u001b[39m\u001b[36m \u001b[39m\u001b[32mIn[28]\u001b[39m\u001b[32m, line 8\u001b[39m\n\u001b[32m      6\u001b[39m \u001b[38;5;28;01mimport\u001b[39;00m\u001b[38;5;250m \u001b[39m\u001b[34;01mpandas\u001b[39;00m\u001b[38;5;250m \u001b[39m\u001b[38;5;28;01mas\u001b[39;00m\u001b[38;5;250m \u001b[39m\u001b[34;01mpd\u001b[39;00m\n\u001b[32m      7\u001b[39m \u001b[38;5;28;01mimport\u001b[39;00m\u001b[38;5;250m \u001b[39m\u001b[34;01mrequests\u001b[39;00m\n\u001b[32m----> \u001b[39m\u001b[32m8\u001b[39m \u001b[38;5;28;01mfrom\u001b[39;00m\u001b[38;5;250m \u001b[39m\u001b[34;01mowslib\u001b[39;00m\u001b[34;01m.\u001b[39;00m\u001b[34;01mwfs\u001b[39;00m\u001b[38;5;250m \u001b[39m\u001b[38;5;28;01mimport\u001b[39;00m WebFeatureService\n\u001b[32m      9\u001b[39m \u001b[38;5;28;01mimport\u001b[39;00m\u001b[38;5;250m \u001b[39m\u001b[34;01mmatplotlib\u001b[39;00m\u001b[34;01m.\u001b[39;00m\u001b[34;01mpyplot\u001b[39;00m\u001b[38;5;250m \u001b[39m\u001b[38;5;28;01mas\u001b[39;00m\u001b[38;5;250m \u001b[39m\u001b[34;01mplt\u001b[39;00m\n",
      "\u001b[31mModuleNotFoundError\u001b[39m: No module named 'owslib'"
     ]
    }
   ],
   "source": [
    "from io import BytesIO\n",
    "from urllib.parse import urlencode\n",
    "# packages:\n",
    "import contextily as cx\n",
    "import geopandas as gp\n",
    "import pandas as pd\n",
    "import requests\n",
    "from owslib.wfs import WebFeatureService\n",
    "import matplotlib.pyplot as plt"
   ]
  },
  {
   "cell_type": "markdown",
   "id": "da23d35b-af97-4ce5-ac16-54f887196624",
   "metadata": {
    "editable": true,
    "slideshow": {
     "slide_type": ""
    },
    "tags": []
   },
   "source": [
    "Before accessing the data, the layer name is required. To extract the layer name, the node-id should be defined which is mentioned in the [WFS URL](https://kommisdd.dresden.de/net3/public/ogcsl.ashx?nodeid=188&service=wfs&request=getcapabilities)."
   ]
  },
  {
   "cell_type": "code",
   "execution_count": null,
   "id": "c252e454-22f7-47a9-99d1-4b5f357bd7fc",
   "metadata": {
    "editable": true,
    "slideshow": {
     "slide_type": ""
    },
    "tags": []
   },
   "outputs": [],
   "source": [
    "topics_dd = \"https://kommisdd.dresden.de/net3/public/ogcsl.ashx\"\n",
    "\n",
    "params = {\n",
    "    #\"nodeid\": 1108,\n",
    "    \"nodeid\": 188,\n",
    "    \"service\": \"wcs\",\n",
    "}\n",
    "wfs_url = f\"{topics_dd}?{urlencode(params)}\"\n",
    "\n",
    "wfs = WebFeatureService(url=wfs_url, version='2.0.0')"
   ]
  },
  {
   "cell_type": "markdown",
   "id": "770f029a-f07b-47ce-a053-c58bfd6e40c7",
   "metadata": {
    "editable": true,
    "slideshow": {
     "slide_type": ""
    },
    "tags": []
   },
   "source": [
    "Turn the response into a DataFrame (for better display, if many layers are returned), and display available layer-names. In our case, there is only one."
   ]
  },
  {
   "cell_type": "code",
   "execution_count": null,
   "id": "55d69ee6-9635-4c10-a480-e873cdd9fb0b",
   "metadata": {
    "editable": true,
    "slideshow": {
     "slide_type": ""
    },
    "tags": []
   },
   "outputs": [],
   "source": [
    "pd.DataFrame(wfs.contents.keys())"
   ]
  },
  {
   "cell_type": "markdown",
   "id": "43290b15-f49c-42a1-8424-d1b63c7e97cd",
   "metadata": {
    "editable": true,
    "slideshow": {
     "slide_type": ""
    },
    "tags": []
   },
   "source": [
    "To get the first layer name directly the [0] is used."
   ]
  },
  {
   "cell_type": "code",
   "execution_count": 13,
   "id": "1ea9d4d7-7a60-49f8-a145-4e590d40fe92",
   "metadata": {
    "editable": true,
    "slideshow": {
     "slide_type": ""
    },
    "tags": []
   },
   "outputs": [
    {
     "ename": "NameError",
     "evalue": "name 'wfs' is not defined",
     "output_type": "error",
     "traceback": [
      "\u001b[31m---------------------------------------------------------------------------\u001b[39m",
      "\u001b[31mNameError\u001b[39m                                 Traceback (most recent call last)",
      "\u001b[36mCell\u001b[39m\u001b[36m \u001b[39m\u001b[32mIn[13]\u001b[39m\u001b[32m, line 1\u001b[39m\n\u001b[32m----> \u001b[39m\u001b[32m1\u001b[39m layer_name = \u001b[38;5;28mlist\u001b[39m(\u001b[43mwfs\u001b[49m.contents.keys())[\u001b[32m0\u001b[39m]\n",
      "\u001b[31mNameError\u001b[39m: name 'wfs' is not defined"
     ]
    }
   ],
   "source": [
    "layer_name = list(wfs.contents.keys())[0]"
   ]
  },
  {
   "cell_type": "markdown",
   "id": "fe223edb-ca10-42c5-b7de-801b47ac12d3",
   "metadata": {
    "editable": true,
    "slideshow": {
     "slide_type": ""
    },
    "tags": []
   },
   "source": [
    "Next, a function is written to request features for the layer, using the `requests` library. \n",
    "\n",
    "This will also turn features into a Geopandas GeoDataFrame, which is a suitable spatial data format in Python."
   ]
  },
  {
   "cell_type": "code",
   "execution_count": 14,
   "id": "02781396-8c04-48db-a38f-c7eea10a4303",
   "metadata": {
    "editable": true,
    "slideshow": {
     "slide_type": ""
    },
    "tags": []
   },
   "outputs": [
    {
     "ename": "NameError",
     "evalue": "name 'layer_name' is not defined",
     "output_type": "error",
     "traceback": [
      "\u001b[31m---------------------------------------------------------------------------\u001b[39m",
      "\u001b[31mNameError\u001b[39m                                 Traceback (most recent call last)",
      "\u001b[36mCell\u001b[39m\u001b[36m \u001b[39m\u001b[32mIn[14]\u001b[39m\u001b[32m, line 14\u001b[39m\n\u001b[32m     11\u001b[39m        \u001b[38;5;28;01mraise\u001b[39;00m \u001b[38;5;167;01mException\u001b[39;00m(\u001b[33mf\u001b[39m\u001b[33m\"\u001b[39m\u001b[33mError fetching data: \u001b[39m\u001b[38;5;132;01m{\u001b[39;00mresponse.status_code\u001b[38;5;132;01m}\u001b[39;00m\u001b[33m \u001b[39m\u001b[38;5;132;01m{\u001b[39;00mresponse.text\u001b[38;5;132;01m}\u001b[39;00m\u001b[33m\"\u001b[39m)\n\u001b[32m     12\u001b[39m     \u001b[38;5;28;01mreturn\u001b[39;00m gp.read_file(BytesIO(response.content))\n\u001b[32m---> \u001b[39m\u001b[32m14\u001b[39m gdf = wfs2gp(\u001b[43mlayer_name\u001b[49m, wfs_url)\n",
      "\u001b[31mNameError\u001b[39m: name 'layer_name' is not defined"
     ]
    }
   ],
   "source": [
    "def wfs2gp(layer_name, url):\n",
    "    \"\"\"Request a WFS feature layer (layer_name) and turn into GeoDataFrame\"\"\"\n",
    "    params = {\n",
    "        'service': 'WFS',\n",
    "        'version': '2.0.0',\n",
    "        'request': 'GetFeature',\n",
    "        'TYPENAMES': layer_name,\n",
    "    }\n",
    "    response = requests.get(url, params=params)\n",
    "    if response.status_code != 200:\n",
    "       raise Exception(f\"Error fetching data: {response.status_code} {response.text}\")\n",
    "    return gp.read_file(BytesIO(response.content))\n",
    "\n",
    "gdf = wfs2gp(layer_name, wfs_url)"
   ]
  },
  {
   "cell_type": "markdown",
   "id": "1eb64ad0-f12f-4ed2-9030-826bbb9d7426",
   "metadata": {
    "editable": true,
    "slideshow": {
     "slide_type": ""
    },
    "tags": []
   },
   "source": [
    "Have a peek at the returned data."
   ]
  },
  {
   "cell_type": "code",
   "execution_count": 15,
   "id": "7b396fec-23d5-40c5-acc0-82443a814de2",
   "metadata": {
    "editable": true,
    "slideshow": {
     "slide_type": ""
    },
    "tags": []
   },
   "outputs": [
    {
     "ename": "NameError",
     "evalue": "name 'gdf' is not defined",
     "output_type": "error",
     "traceback": [
      "\u001b[31m---------------------------------------------------------------------------\u001b[39m",
      "\u001b[31mNameError\u001b[39m                                 Traceback (most recent call last)",
      "\u001b[36mCell\u001b[39m\u001b[36m \u001b[39m\u001b[32mIn[15]\u001b[39m\u001b[32m, line 1\u001b[39m\n\u001b[32m----> \u001b[39m\u001b[32m1\u001b[39m \u001b[43mgdf\u001b[49m.head(\u001b[32m2\u001b[39m)\n",
      "\u001b[31mNameError\u001b[39m: name 'gdf' is not defined"
     ]
    }
   ],
   "source": [
    "gdf.head(2)"
   ]
  },
  {
   "cell_type": "markdown",
   "id": "e86ae972-8868-4a23-bd44-82ddbf5d6c8a",
   "metadata": {
    "editable": true,
    "slideshow": {
     "slide_type": ""
    },
    "tags": []
   },
   "source": [
    "... and plot a map which is explained in [Creating Maps Chapter](https://stag.training.fdz.ioer.info/notebooks/305_mapping.html#creating-maps)."
   ]
  },
  {
   "cell_type": "code",
   "execution_count": 16,
   "id": "f44b6d0b-69d3-4626-910a-92361c577e19",
   "metadata": {
    "editable": true,
    "slideshow": {
     "slide_type": ""
    },
    "tags": [
     "hide-input"
    ]
   },
   "outputs": [
    {
     "ename": "NameError",
     "evalue": "name 'gdf' is not defined",
     "output_type": "error",
     "traceback": [
      "\u001b[31m---------------------------------------------------------------------------\u001b[39m",
      "\u001b[31mNameError\u001b[39m                                 Traceback (most recent call last)",
      "\u001b[36mCell\u001b[39m\u001b[36m \u001b[39m\u001b[32mIn[16]\u001b[39m\u001b[32m, line 3\u001b[39m\n\u001b[32m      1\u001b[39m CRS_PROJ = \u001b[33m\"\u001b[39m\u001b[33mepsg:3857\u001b[39m\u001b[33m\"\u001b[39m\n\u001b[32m----> \u001b[39m\u001b[32m3\u001b[39m \u001b[43mgdf\u001b[49m.to_crs(CRS_PROJ, inplace=\u001b[38;5;28;01mTrue\u001b[39;00m)\n\u001b[32m      4\u001b[39m fig, ax = plt.subplots(figsize=(\u001b[32m3\u001b[39m, \u001b[32m7\u001b[39m), dpi=\u001b[32m200\u001b[39m)\n\u001b[32m      5\u001b[39m ax = gdf.plot(\n\u001b[32m      6\u001b[39m     ax=ax,\n\u001b[32m      7\u001b[39m     alpha=\u001b[32m0.8\u001b[39m,\n\u001b[32m   (...)\u001b[39m\u001b[32m     10\u001b[39m     facecolor=\u001b[33m\"\u001b[39m\u001b[33mred\u001b[39m\u001b[33m\"\u001b[39m,\n\u001b[32m     11\u001b[39m     markersize=\u001b[32m300\u001b[39m)\n",
      "\u001b[31mNameError\u001b[39m: name 'gdf' is not defined"
     ]
    }
   ],
   "source": [
    "CRS_PROJ = \"epsg:3857\"\n",
    "\n",
    "gdf.to_crs(CRS_PROJ, inplace=True)\n",
    "fig, ax = plt.subplots(figsize=(3, 7), dpi=200)\n",
    "ax = gdf.plot(\n",
    "    ax=ax,\n",
    "    alpha=0.8,\n",
    "    linewidth=1,\n",
    "    edgecolor=\"white\",\n",
    "    facecolor=\"red\",\n",
    "    markersize=300)\n",
    "cx.add_basemap(\n",
    "    ax, alpha=0.5,\n",
    "    source=cx.providers.CartoDB.Voyager,\n",
    "    attribution_size=5)\n",
    "ax.set_title(\"Dresden City Districts, Data Source: Amt für Geodaten und Kataster Dresden\")\n",
    "# turn of axes display\n",
    "ax.set_axis_off()"
   ]
  },
  {
   "cell_type": "markdown",
   "id": "5cb7cab6-861c-40e1-b4dc-23f12363c5b6",
   "metadata": {
    "editable": true,
    "slideshow": {
     "slide_type": ""
    },
    "tags": []
   },
   "source": [
    "```{admonition} Query a different nodeid!\n",
    ":class: dropdown, attention\n",
    "You can replace \"nodeid\" with any other WFS Data Source from the Dresden Opendata Portal. Update the nodeid and re-run the code above to see the different data rendered.\n",
    "```"
   ]
  },
  {
   "cell_type": "markdown",
   "id": "d4e4a011-6956-4e60-8b01-8f7f8ef5a6e2",
   "metadata": {
    "editable": true,
    "slideshow": {
     "slide_type": ""
    },
    "tags": []
   },
   "source": [
    "## Web Coverage Service (WCS) "
   ]
  },
  {
   "cell_type": "markdown",
   "id": "cedad444-134e-49a6-a850-24f2546aff60",
   "metadata": {
    "editable": true,
    "slideshow": {
     "slide_type": ""
    },
    "tags": []
   },
   "source": [
    "````{admonition} Biodiversity area indicator\n",
    ":class: tip, dropdown\n",
    "\n",
    "In Germany, there is a wide variety of different habitats, also known as biotopes. These biotopes can be of natural origin, such as those found in marine and coastal areas, inland waters, terrestrial and semi-terrestrial zones, as well as mountainous regions like the Alps. However, there are also near-natural biotopes that arise due to technical or infrastructural conditions, such as small green spaces and open areas in urban environments.\n",
    "\n",
    "Due to their specific characteristics, these biotopes can be categorized into different biotope types based on uniform and distinguishable criteria.\n",
    "\n",
    "The biodiversity indicator assesses the quality and diversity of biotope types as habitats for various species. This evaluation is carried out using biotope value points ranging from 0-27, which are in accordance with the [German Federal Compensation Regulation](https://www.bmuv.de/themen/naturschutz/gebietsschutz-und-vernetzung/ueberblick-gebietsschutz-und-vernetzung). These points are combined with spatial land cover data and intermittently available specialized data on the state of ecosystems. This data combination enables a comparative assessment of Germany’s ecosystem inventory in terms of both area and quality.\n",
    "\n",
    "By applying biotope value points, a monetary valuation can also be conducted. This valuation is based on the average costs associated with the creation, development, and maintenance of higher-value biotopes.\n",
    "\n",
    "For more information, see description on the [IOER FDZ website](https://ioer-fdz.de/en/germanys-ecosystems/ecosystem-services/biodiversity-area-indicator)\n",
    "\n",
    "```{admonition} Recommended citation\n",
    ":class: attention\n",
    "\n",
    "Syrbe, Ralf-Uwe, 2025, \"Biotopwerte Dresden 2018\", https://doi.org/10.82617/ioer-fdz/HPXYJD, ioerDATA, V1 \n",
    "```\n",
    "\n",
    "````"
   ]
  },
  {
   "cell_type": "markdown",
   "id": "cf55a731-8e7c-40a1-8376-7beead83e9c0",
   "metadata": {
    "editable": true,
    "slideshow": {
     "slide_type": ""
    },
    "tags": []
   },
   "source": [
    "````{admonition} access a ZIP file from a remote server\n",
    ":class: , dropdown\n",
    "\n",
    "To extract a ZIP file from a remote server: First, a local working directory is created. Then, using (_importing_) a method `tools.get_zip_extract()` that has been prepared for this book, the data is downloaded from a remote source.\n",
    "\n",
    "\n",
    "from pathlib import Path\n",
    "\n",
    "base_path = Path.cwd().parents[0]\n",
    "INPUT = base_path / \"00_data\"\n",
    "INPUT.mkdir(exist_ok=True)\n",
    "\n",
    "import sys\n",
    "\n",
    "module_path = str(base_path / \"py\")\n",
    "if module_path not in sys.path:\n",
    "    sys.path.append(module_path)\n",
    "from modules import tools\n",
    "\n",
    "sample_data_url = 'https://datashare.tu-dresden.de/s/KEL6bZMn6GegEW4/download'\n",
    "\n",
    "tools.get_zip_extract(\n",
    "    uri_filename=sample_data_url,\n",
    "    output_path=INPUT,\n",
    "    write_intermediate=True)\n",
    "\n",
    " `````{admonition} Upload data\n",
    ":class: danger\n",
    "\n",
    "If you want to work with data stored on your local computer, but your jupyter service runs somewhere else, use drag & drop to add data to Jupyter. The left explorer view is comparable to Windows Explorer.\n",
    "`````\n",
    "````"
   ]
  }
 ],
 "metadata": {
  "kernelspec": {
   "display_name": "worker_env",
   "language": "python",
   "name": "worker_env"
  },
  "language_info": {
   "codemirror_mode": {
    "name": "ipython",
    "version": 3
   },
   "file_extension": ".py",
   "mimetype": "text/x-python",
   "name": "python",
   "nbconvert_exporter": "python",
   "pygments_lexer": "ipython3",
   "version": "3.11.6"
  }
 },
 "nbformat": 4,
 "nbformat_minor": 5
}
