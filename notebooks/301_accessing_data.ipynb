{
 "cells": [
  {
   "cell_type": "markdown",
   "id": "0da08b15-c87b-4c6e-bd0d-4930a983fc0f",
   "metadata": {
    "editable": true,
    "slideshow": {
     "slide_type": ""
    },
    "tags": []
   },
   "source": [
    "# Adding data to the Notebook\n"
   ]
  },
  {
   "cell_type": "markdown",
   "id": "a68ba8db-c499-419a-a6e9-2c579f4ef538",
   "metadata": {
    "editable": true,
    "jp-MarkdownHeadingCollapsed": true,
    "slideshow": {
     "slide_type": ""
    },
    "tags": [
     "hide-cell"
    ]
   },
   "source": [
    "## Preparations"
   ]
  },
  {
   "cell_type": "markdown",
   "id": "9bab5e7c-eac7-425d-b9fa-6094bffcff08",
   "metadata": {},
   "source": [
    "Get the working data for this section. First, create a local working directory."
   ]
  },
  {
   "cell_type": "code",
   "execution_count": 16,
   "id": "59cdd44b-6e28-4b25-b0d1-03105e08829a",
   "metadata": {},
   "outputs": [],
   "source": [
    "from pathlib import Path\n",
    "\n",
    "base_path = Path.cwd().parents[0]\n",
    "INPUT = base_path / \"00_data\"\n",
    "INPUT.mkdir(exist_ok=True)"
   ]
  },
  {
   "cell_type": "markdown",
   "id": "00b8ccbb-0b4f-401a-aa3f-0c05b12289bb",
   "metadata": {},
   "source": [
    "Download the data from remote. We are using (_importing_) a method `tools.get_zip_extract()` that has been prepared for this book to fetch remote data."
   ]
  },
  {
   "cell_type": "code",
   "execution_count": 17,
   "id": "3690ffd0-38e2-4657-8b01-ac2a0ecd0e94",
   "metadata": {},
   "outputs": [],
   "source": [
    "import sys\n",
    "\n",
    "module_path = str(base_path / \"py\")\n",
    "if module_path not in sys.path:\n",
    "    sys.path.append(module_path)\n",
    "from modules import tools"
   ]
  },
  {
   "cell_type": "code",
   "execution_count": 18,
   "id": "d3711b7b-d59d-4f6d-80d5-42bb50abf8fd",
   "metadata": {},
   "outputs": [],
   "source": [
    "sample_data_url = 'https://datashare.tu-dresden.de/s/KEL6bZMn6GegEW4/download'"
   ]
  },
  {
   "cell_type": "code",
   "execution_count": 21,
   "id": "efa88c38-a808-4149-9d8f-8e54b2a61884",
   "metadata": {},
   "outputs": [
    {
     "name": "stdout",
     "output_type": "stream",
     "text": [
      "Loaded 81.17 MB of 81.18 (100%)..\n",
      "Extracting zip..\n",
      "Retrieved download, extracted size: 109.24 MB\n"
     ]
    }
   ],
   "source": [
    "tools.get_zip_extract(\n",
    "    uri_filename=sample_data_url,\n",
    "    output_path=INPUT,\n",
    "    write_intermediate=True)"
   ]
  },
  {
   "cell_type": "markdown",
   "id": "5d051855-b4dd-4c54-9525-a96fffc7a9b9",
   "metadata": {},
   "source": [
    "## Working with folders and paths\n",
    "\n",
    "Define parameters at the top of the notebook, written in CAPITAL LETTERS.\n",
    "\n",
    "This will allow:\n",
    "- to reuse repeatedly used variables across the notebook\n",
    "- help readers identify the important parameters that will change or affect outputs"
   ]
  },
  {
   "cell_type": "code",
   "execution_count": 22,
   "id": "7e604f26-c885-46c1-a888-157ec186b563",
   "metadata": {},
   "outputs": [],
   "source": [
    "from pathlib import Path"
   ]
  },
  {
   "cell_type": "markdown",
   "id": "dddeda98-7943-404f-a606-eda34cd0dafc",
   "metadata": {},
   "source": [
    "Example for referencing repeatedly used directories."
   ]
  },
  {
   "cell_type": "code",
   "execution_count": 23,
   "id": "33a6459f-e954-4c9e-b931-db27a14fc1d6",
   "metadata": {
    "editable": true,
    "slideshow": {
     "slide_type": ""
    },
    "tags": []
   },
   "outputs": [],
   "source": [
    "OUTPUT = Path.cwd().parents[0] / \"out\"       # output directory for figures (etc.)\n",
    "WORK_DIR = Path.cwd().parents[0] / \"tmp\"     # Working directory"
   ]
  },
  {
   "cell_type": "markdown",
   "id": "5886a3c9-80d4-4ca0-a11d-e8afcca226e5",
   "metadata": {},
   "source": [
    "## Access local data"
   ]
  },
  {
   "cell_type": "markdown",
   "id": "453b2dc6-b944-4de2-9606-510bc61d9cdd",
   "metadata": {},
   "source": [
    "For accessing data, based on the format of the data different libraries and procedures can be used."
   ]
  },
  {
   "cell_type": "markdown",
   "id": "dd65ab55-1ff8-48b1-add7-c0aaee52e7cd",
   "metadata": {},
   "source": [
    "`````{admonition} Local?\n",
    ":class: note\n",
    "_Local_ here means from where you started your Jupyter Lab - it can be your server, your local drive, or any cloud service.\n",
    "`````"
   ]
  },
  {
   "cell_type": "markdown",
   "id": "ab20503e-c1cd-4f11-991a-ae35aefcc5ac",
   "metadata": {},
   "source": [
    "`````{admonition} Upload data\n",
    ":class: tip\n",
    "If you want to work with data stored on your local computer, but your jupyter service runs somewhere else, use drag & drop to add data to Jupyter. The left explorer view is is comparable to Windows Explorer.\n",
    "`````"
   ]
  },
  {
   "cell_type": "markdown",
   "id": "6c0743cb-44ff-406e-9093-12aa8bc23134",
   "metadata": {},
   "source": [
    "## Path conventions"
   ]
  },
  {
   "cell_type": "markdown",
   "id": "31566503-f7ff-4545-91b5-5f166ff81bd2",
   "metadata": {},
   "source": [
    "Paths can be formatted differently in Python, depending on the Operating System used."
   ]
  },
  {
   "cell_type": "markdown",
   "id": "fa1a0024-e2c3-4468-a221-c9658cbb3083",
   "metadata": {},
   "source": [
    "- Two common formats for path are:\n",
    "\n",
    "  1. Use double backslashes (\\\\): &nbsp;&nbsp;&nbsp;&nbsp;&nbsp;&nbsp;&nbsp;&nbsp;&nbsp;&nbsp;&nbsp;&nbsp;&nbsp;&nbsp;  **ex:**  \"C:\\\\Users\\\\file.json\"\n",
    "\n",
    "\n",
    "  2. Prefix the string with \"r\":  &nbsp;&nbsp;&nbsp;&nbsp;&nbsp;&nbsp;&nbsp;&nbsp;&nbsp;&nbsp;&nbsp;&nbsp;&nbsp;&nbsp;&nbsp;&nbsp;&nbsp;&nbsp;   **ex:**  r\"C:\\Users\\file.json\"\n",
    "\n",
    "`````{admonition} backslashes (`\\`)\n",
    ":class: note\n",
    "The backslashes (\\) in the file path interpreted as escape characters in Python strings. \n",
    "`````"
   ]
  },
  {
   "cell_type": "markdown",
   "id": "0893a797-763b-40e8-9e82-3064f051b3a7",
   "metadata": {},
   "source": [
    "`````{admonition} ToDo: Comment from Alex...\n",
    ":class: tip\n",
    "Use Python's [pathlib](https://docs.python.org/3/library/pathlib.html), to write code that is independent of the operating system used (Windows, MAC, or Linux). This allows colleagues **working** in other systems to directly use your code and reproduce your results.\n",
    "`````\n",
    "\n",
    "```python\n",
    "from pathlib import Path\n",
    "```\n",
    "\n",
    "Relative from the current working directory:"
   ]
  },
  {
   "cell_type": "code",
   "execution_count": 25,
   "id": "9d73197f-4781-49a8-8888-9be99791f157",
   "metadata": {},
   "outputs": [],
   "source": [
    "current_path = Path.cwd()\n",
    "mydata = current_path.parents[0] / \"00_data\" / \"LBM2018IS_DD.json\""
   ]
  },
  {
   "cell_type": "markdown",
   "id": "a07eb7e7-c5c7-48de-a5b1-108faaf4127e",
   "metadata": {},
   "source": [
    "Since we defined `INPUT` already above, this can be shortened."
   ]
  },
  {
   "cell_type": "code",
   "execution_count": 26,
   "id": "edb0e151-d103-4abc-b471-d7302392f4b9",
   "metadata": {},
   "outputs": [],
   "source": [
    "mydata = INPUT / \"LBM2018IS_DD.json\""
   ]
  },
  {
   "cell_type": "markdown",
   "id": "a450a2f6-8803-4fcd-b521-d71606d5f8fe",
   "metadata": {},
   "source": [
    "Compare an example for an absolute path (Windows):\n",
    "```python\n",
    "file_path = Path(\"C:\\\\Users\\\\Fatem\\\\files\\\\LBM2018IS_DD.json\")\n",
    "```"
   ]
  },
  {
   "cell_type": "markdown",
   "id": "fb6b9dc3-1954-417f-8e7d-4f8e5197d35f",
   "metadata": {},
   "source": [
    "Afterwards, continue working with the data in Python."
   ]
  },
  {
   "cell_type": "markdown",
   "id": "41a4d557-b880-4bbb-b749-0fe378928f4b",
   "metadata": {},
   "source": [
    "`````{admonition} pathlib not always supported\n",
    ":class: note\n",
    "Some older Python packages do not support paths from pathlib. For these cases, convert the pathlib object to a string first (e.g. `str(mydata)`).\n",
    "`````"
   ]
  },
  {
   "cell_type": "markdown",
   "id": "c2a385af-6e8b-412c-a49c-b3d5042e45b4",
   "metadata": {},
   "source": [
    "There are some convenient functions available. For instance, to get the size:"
   ]
  },
  {
   "cell_type": "code",
   "execution_count": 37,
   "id": "53c56c66-a8f6-4af6-b934-8338a60db1c7",
   "metadata": {},
   "outputs": [
    {
     "data": {
      "text/plain": [
       "84024118"
      ]
     },
     "execution_count": 37,
     "metadata": {},
     "output_type": "execute_result"
    }
   ],
   "source": [
    "size = mydata.stat().st_size\n",
    "size"
   ]
  },
  {
   "cell_type": "markdown",
   "id": "6ccbd19f-16c8-43c9-926a-820806832d7e",
   "metadata": {},
   "source": [
    "Convert it to Megabyte, and format to showing two decimals by using [f-strings](https://docs.python.org/3/reference/lexical_analysis.html#f-strings)."
   ]
  },
  {
   "cell_type": "code",
   "execution_count": 45,
   "id": "6974642a-27bd-424a-91ad-296acff19888",
   "metadata": {},
   "outputs": [
    {
     "name": "stdout",
     "output_type": "stream",
     "text": [
      "80.13 MB\n"
     ]
    }
   ],
   "source": [
    "size_gb = size / 1024 / 1024\n",
    "print(f'{size_gb:.2f} MB')"
   ]
  },
  {
   "cell_type": "markdown",
   "id": "e0bdd9c7-f6cb-4c8a-8cbf-f3b0c14c5b93",
   "metadata": {},
   "source": [
    "If you do not know whether a variable is a string or a pathlib object, use the jupyter `?`."
   ]
  },
  {
   "cell_type": "code",
   "execution_count": 47,
   "id": "b6bad61a-0b7e-4aab-8ce3-e8d8e7f569d0",
   "metadata": {},
   "outputs": [
    {
     "data": {
      "text/plain": [
       "\u001b[0;31mType:\u001b[0m        PosixPath\n",
       "\u001b[0;31mString form:\u001b[0m /home/jovyan/work/nfdi4biodiversity/00_data/LBM2018IS_DD.json\n",
       "\u001b[0;31mFile:\u001b[0m        /opt/conda/envs/worker_env/lib/python3.12/pathlib.py\n",
       "\u001b[0;31mDocstring:\u001b[0m  \n",
       "Path subclass for non-Windows systems.\n",
       "\n",
       "On a POSIX system, instantiating a Path should return this object."
      ]
     },
     "metadata": {},
     "output_type": "display_data"
    }
   ],
   "source": [
    "?mydata"
   ]
  },
  {
   "cell_type": "markdown",
   "id": "fecdfc68-1ec2-4166-b3a2-79dd356c27fd",
   "metadata": {},
   "source": [
    "### Access data via API \n"
   ]
  },
  {
   "cell_type": "markdown",
   "id": "75062439-b179-4fbe-8829-42831e3cbb22",
   "metadata": {},
   "source": [
    "For retriving data from an API the package `request` is needed."
   ]
  },
  {
   "cell_type": "code",
   "execution_count": 30,
   "id": "269ea23f-365a-48f7-b8eb-f53a9e0d3b7a",
   "metadata": {},
   "outputs": [],
   "source": [
    "import requests"
   ]
  },
  {
   "cell_type": "markdown",
   "id": "5e1d455f-c42c-4d67-bdc8-bc09f4c14cc0",
   "metadata": {},
   "source": [
    "Then the path including the URL string is imported."
   ]
  },
  {
   "cell_type": "code",
   "execution_count": 31,
   "id": "5fe2d43e-a37d-4bc5-a9d9-4e49261ba6ea",
   "metadata": {},
   "outputs": [],
   "source": [
    "path=\"http://dataverse-test.ioer.de:8080/api/access/datafile/344\""
   ]
  },
  {
   "cell_type": "markdown",
   "id": "9c7e9ce5-dc35-42b9-97d0-5ace8f3ac361",
   "metadata": {},
   "source": [
    "Then using the GET method a request send to the path to access the data from the server. "
   ]
  },
  {
   "cell_type": "code",
   "execution_count": 32,
   "id": "99471929-24d7-4474-a3de-dfb0869ce649",
   "metadata": {},
   "outputs": [],
   "source": [
    "response = requests.get(path)"
   ]
  },
  {
   "cell_type": "markdown",
   "id": "acc27946-4ac8-4687-a1ed-575480039536",
   "metadata": {},
   "source": [
    "Then based on the format of the data in the API, the response should be converted. In the following example, it converts the JSON format to a dictionary and the data stored in the data variable."
   ]
  },
  {
   "cell_type": "code",
   "execution_count": 113,
   "id": "16df2a1c-db94-4bc1-a060-3691915f1df7",
   "metadata": {},
   "outputs": [],
   "source": [
    "api_data = response.json()"
   ]
  },
  {
   "cell_type": "markdown",
   "id": "6f0513b9-5556-4478-a10c-0aff9c799b90",
   "metadata": {},
   "source": [
    "### Access WFS data\n"
   ]
  },
  {
   "cell_type": "code",
   "execution_count": null,
   "id": "25d7a84b-ac1d-42c2-b5eb-1ad43eca5202",
   "metadata": {},
   "outputs": [],
   "source": []
  }
 ],
 "metadata": {
  "kernelspec": {
   "display_name": "worker_env",
   "language": "python",
   "name": "worker_env"
  },
  "language_info": {
   "codemirror_mode": {
    "name": "ipython",
    "version": 3
   },
   "file_extension": ".py",
   "mimetype": "text/x-python",
   "name": "python",
   "nbconvert_exporter": "python",
   "pygments_lexer": "ipython3",
   "version": "3.12.7"
  }
 },
 "nbformat": 4,
 "nbformat_minor": 5
}
