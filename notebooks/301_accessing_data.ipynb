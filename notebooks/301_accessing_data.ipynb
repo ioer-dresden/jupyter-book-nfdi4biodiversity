{
 "cells": [
  {
   "cell_type": "markdown",
   "id": "0da08b15-c87b-4c6e-bd0d-4930a983fc0f",
   "metadata": {
    "editable": true,
    "slideshow": {
     "slide_type": ""
    },
    "tags": []
   },
   "source": [
    "# Accessing data"
   ]
  },
  {
   "cell_type": "markdown",
   "id": "1422bd6b-502b-4760-9a76-6649bacbdf62",
   "metadata": {},
   "source": [
    "```{admonition} Summary\n",
    ":class: hint\n",
    "\n",
    "Python has many open-source libraries for accessing and importing data into your environment. \n",
    "This chapter explains 3 basic ways to add data in Python and thus in your Jupyter Notebook\n",
    "- Local files\n",
    "- API\n",
    "- WFS\n",
    "\n",
    "Note: If you want to learn more about other ways to access data in Python, please have a look here (add LINK)\n",
    "```"
   ]
  },
  {
   "cell_type": "markdown",
   "id": "d2983892-8864-420d-ac3c-db7802cc0201",
   "metadata": {},
   "source": [
    "## Local files 📁\n",
    "Data is often stored in a file on your computer. However, depending on where you are running Python - whether on your own computer or in an online platform like JupyterLab - 'local' storage could refer to your computer's hard drive, a remote server, or a cloud service.\n",
    "\n",
    "You can access the data with a relative or absolute path. \n"
   ]
  },
  {
   "cell_type": "markdown",
   "id": "ab20503e-c1cd-4f11-991a-ae35aefcc5ac",
   "metadata": {},
   "source": [
    " ⚠️ Please check - are the following explainations only valid for local file paths on the computer?"
   ]
  },
  {
   "cell_type": "markdown",
   "id": "1fe731da-931a-44db-b3e2-b0318189fd70",
   "metadata": {},
   "source": [
    "### Local file path\n",
    "When specifying a file path in Python, there are three common formats:\n",
    "\n",
    "- Double backslashes (`\\\\`) → `\"C:\\\\Users\\\\file.json\"`\n",
    "- Raw string (prefix with `r`) → `r\"C:\\Users\\file.json\"`\n",
    "- Forward slashes (`/`) → `r\"C:/Users/file.json\"`\n",
    "\n",
    "`````{admonition} Note\n",
    ":class: note\n",
    "In Python, single backslashes (`\\`) are treated as [escape characters](https://en.wikipedia.org/wiki/Escape_character), which is why using double backslashes (`\\\\`) or a raw string (`r\"\"`) is necessary to avoid errors.\n",
    "`````\n",
    "\n",
    "`````{admonition} Use Python's pathlib\n",
    ":class: tip\n",
    "Use Python's [pathlib](https://docs.python.org/3/library/pathlib.html) to write code that works on any operating system, whether it's Windows, Mac, or Linux. This module simplifies file and folder management by providing a consistent, structured approach. By using pathlib, your code becomes more portable, allowing colleagues on different systems to run it without modification and reproduce your results.\"\n",
    "`````"
   ]
  },
  {
   "cell_type": "code",
   "execution_count": 1,
   "id": "25d7d60a-7e4e-4829-af53-1d47e7ccf9f0",
   "metadata": {},
   "outputs": [],
   "source": [
    "from pathlib import Path\n",
    "\n",
    "base_path = Path.cwd().parents[0]\n",
    "# Path.cwd() gets the current working directory (cwd), \n",
    "# meaning the folder where the Jupyter Notebook or Python script is running.\n",
    "# .parents[0] moves one level up from the current working directory.\n",
    "\n",
    "INPUT = base_path / \"00_data\" # refers to the folder path named \"00_data\"\n",
    "INPUT.mkdir(exist_ok=True) # creates the \"00_data\" folder if it doesn't already exist.\n"
   ]
  },
  {
   "cell_type": "markdown",
   "id": "65fec420-e390-4d56-9192-5a622176349b",
   "metadata": {},
   "source": [
    "### Defining parameters at the beginning of a Jupyter Notebook\n",
    "\n",
    "It is a good idea to define parameters at the beginning of a Jupyter Notebook (typically in the first few code cells), using CAPITAL LETTER to make them easily identifiable.\n",
    "\n",
    "\n",
    "`````{admonition} \n",
    ":class: tip\n",
    "In Python, variables written in all CAPITAL LETTERS are commonly referred to as constants. Learn more here: [Python Constants: Improve Your Code's Maintainability](https://realpython.com/python-constants/).\n",
    "\n",
    "**Why should I use constants?**\n",
    "\n",
    "Using constants in a Python script or Jupyter Notebook helps to:\n",
    "\n",
    "- Reuse frequently used variables that should not change.\n",
    "- Make key parameters easy to find and modify.\n",
    "- Follows a common Python naming convention.\n",
    "`````"
   ]
  },
  {
   "cell_type": "markdown",
   "id": "a959e1e2-63c4-43ca-958d-d180d24db66d",
   "metadata": {},
   "source": [
    "### Example of using constants and pathlip "
   ]
  },
  {
   "cell_type": "code",
   "execution_count": null,
   "id": "0f69f611-974e-4656-ae5d-fcf139517ef0",
   "metadata": {},
   "outputs": [],
   "source": [
    "from pathlib import Path\n",
    "\n",
    "# Defining constants at the top of the notebook\n",
    "\n",
    "base_path = Path.cwd().parents[0]  # Moves one level up from the notebook / folder\n",
    "OUTPUT = base_path / \"out\"         # Directory for saving figures, reports, etc.\n",
    "WORK_DIR = base_path / \"tmp\"       # Working directory"
   ]
  },
  {
   "cell_type": "markdown",
   "id": "74357eb9-1086-4af2-8925-ce6f5f520fec",
   "metadata": {},
   "source": [
    " ⚠️ I do not understand why base_path is not in CAPITAL LETTERS?"
   ]
  },
  {
   "cell_type": "code",
   "execution_count": null,
   "id": "acd030b1-039e-4100-bc31-114049fc2b5a",
   "metadata": {},
   "outputs": [],
   "source": [
    "current_path = Path.cwd()\n",
    "mydata = current_path.parents[0] / \"00_data\" / \"LBM2018IS_DD.json\""
   ]
  },
  {
   "cell_type": "markdown",
   "id": "a342bd10-3e1d-42ee-8798-ce5c31294476",
   "metadata": {},
   "source": [
    "Since we defined `INPUT` already above, this can be shortened."
   ]
  },
  {
   "cell_type": "code",
   "execution_count": 2,
   "id": "ee7a9124-f4e7-44f7-8fca-eaf7188b1a5f",
   "metadata": {},
   "outputs": [],
   "source": [
    "mydata = INPUT / \"LBM2018IS_DD.json\""
   ]
  },
  {
   "cell_type": "markdown",
   "id": "3e90b426-68f1-42ca-a5c0-ed98866cfb83",
   "metadata": {},
   "source": [
    "Compare an example for an absolute path in Windows:\n",
    "```python\n",
    "file_path = Path(\"C:\\\\Users\\\\Fatem\\\\files\\\\LBM2018IS_DD.json\")\n",
    "```"
   ]
  },
  {
   "cell_type": "markdown",
   "id": "d3fcc785-8607-410b-b0bd-51d18be34557",
   "metadata": {},
   "source": [
    " ⚠️ In this example, the file \"00_data\" is missing. "
   ]
  },
  {
   "cell_type": "markdown",
   "id": "311b72ad-1f37-4f3d-82a1-ed7d8b048882",
   "metadata": {},
   "source": [
    "`````{admonition} pathlib not always supported\n",
    ":class: note\n",
    "Some older Python packages do not support paths from pathlib. For these cases, convert the pathlib object to a string first (e.g. `str(mydata)`).\n",
    "`````"
   ]
  },
  {
   "cell_type": "markdown",
   "id": "93c6eaea-394d-41e7-8213-e9b20cbf9d33",
   "metadata": {},
   "source": [
    "There are some convenient functions available. For instance, to get the size:"
   ]
  },
  {
   "cell_type": "code",
   "execution_count": 37,
   "id": "53c56c66-a8f6-4af6-b934-8338a60db1c7",
   "metadata": {},
   "outputs": [
    {
     "data": {
      "text/plain": [
       "84024118"
      ]
     },
     "execution_count": 37,
     "metadata": {},
     "output_type": "execute_result"
    }
   ],
   "source": [
    "size = mydata.stat().st_size\n",
    "size"
   ]
  },
  {
   "cell_type": "markdown",
   "id": "3fcf672a-82eb-4428-8b18-2935c85592fb",
   "metadata": {},
   "source": [
    "Convert it to Megabyte, and format to showing two decimals by using f-strings.\n"
   ]
  },
  {
   "cell_type": "code",
   "execution_count": 45,
   "id": "6974642a-27bd-424a-91ad-296acff19888",
   "metadata": {},
   "outputs": [
    {
     "name": "stdout",
     "output_type": "stream",
     "text": [
      "80.13 MB\n"
     ]
    }
   ],
   "source": [
    "size_gb = size / 1024 / 1024\n",
    "print(f'{size_gb:.2f} MB')"
   ]
  },
  {
   "cell_type": "markdown",
   "id": "6c692353-e950-44ef-804d-c8f984ea143d",
   "metadata": {},
   "source": [
    "If you do not know whether a variable is a string or a pathlib object, use the jupyter `?`.\n"
   ]
  },
  {
   "cell_type": "code",
   "execution_count": 47,
   "id": "b6bad61a-0b7e-4aab-8ce3-e8d8e7f569d0",
   "metadata": {
    "editable": true,
    "slideshow": {
     "slide_type": ""
    },
    "tags": [
     "hide-output"
    ]
   },
   "outputs": [
    {
     "data": {
      "text/plain": [
       "\u001b[0;31mType:\u001b[0m        PosixPath\n",
       "\u001b[0;31mString form:\u001b[0m /home/jovyan/work/nfdi4biodiversity/00_data/LBM2018IS_DD.json\n",
       "\u001b[0;31mFile:\u001b[0m        /opt/conda/envs/worker_env/lib/python3.12/pathlib.py\n",
       "\u001b[0;31mDocstring:\u001b[0m  \n",
       "Path subclass for non-Windows systems.\n",
       "\n",
       "On a POSIX system, instantiating a Path should return this object."
      ]
     },
     "metadata": {},
     "output_type": "display_data"
    }
   ],
   "source": [
    "?mydata"
   ]
  },
  {
   "cell_type": "markdown",
   "id": "a68ba8db-c499-419a-a6e9-2c579f4ef538",
   "metadata": {
    "editable": true,
    "slideshow": {
     "slide_type": ""
    },
    "tags": [
     "hide-cell"
    ]
   },
   "source": [
    "## Old paths"
   ]
  },
  {
   "cell_type": "markdown",
   "id": "9bab5e7c-eac7-425d-b9fa-6094bffcff08",
   "metadata": {
    "editable": true,
    "slideshow": {
     "slide_type": ""
    },
    "tags": []
   },
   "source": [
    "Before we can start, we need to get the working data for this section. First, create a local working directory."
   ]
  },
  {
   "cell_type": "code",
   "execution_count": 16,
   "id": "59cdd44b-6e28-4b25-b0d1-03105e08829a",
   "metadata": {
    "editable": true,
    "slideshow": {
     "slide_type": ""
    },
    "tags": [
     "hide-cell"
    ]
   },
   "outputs": [],
   "source": [
    "from pathlib import Path\n",
    "\n",
    "base_path = Path.cwd().parents[0]\n",
    "INPUT = base_path / \"00_data\"\n",
    "INPUT.mkdir(exist_ok=True)"
   ]
  },
  {
   "cell_type": "markdown",
   "id": "00b8ccbb-0b4f-401a-aa3f-0c05b12289bb",
   "metadata": {
    "editable": true,
    "slideshow": {
     "slide_type": ""
    },
    "tags": [
     "hide-cell"
    ]
   },
   "source": [
    "Download the data from remote. We are using (_importing_) a method `tools.get_zip_extract()` that has been prepared for this book to fetch remote data."
   ]
  },
  {
   "cell_type": "code",
   "execution_count": 21,
   "id": "efa88c38-a808-4149-9d8f-8e54b2a61884",
   "metadata": {
    "editable": true,
    "slideshow": {
     "slide_type": ""
    },
    "tags": [
     "hide-cell"
    ]
   },
   "outputs": [
    {
     "name": "stdout",
     "output_type": "stream",
     "text": [
      "Loaded 81.17 MB of 81.18 (100%)..\n",
      "Extracting zip..\n",
      "Retrieved download, extracted size: 109.24 MB\n"
     ]
    }
   ],
   "source": [
    "import sys\n",
    "\n",
    "module_path = str(base_path / \"py\")\n",
    "if module_path not in sys.path:\n",
    "    sys.path.append(module_path)\n",
    "from modules import tools\n",
    "\n",
    "sample_data_url = 'https://datashare.tu-dresden.de/s/KEL6bZMn6GegEW4/download'\n",
    "\n",
    "tools.get_zip_extract(\n",
    "    uri_filename=sample_data_url,\n",
    "    output_path=INPUT,\n",
    "    write_intermediate=True)"
   ]
  },
  {
   "cell_type": "markdown",
   "id": "596b083e-b8dc-494c-8742-1505f693443f",
   "metadata": {},
   "source": [
    "⚠️ Is this too complicated if readers do not have the module `tools.get_zip_extract()`"
   ]
  },
  {
   "cell_type": "markdown",
   "id": "ae4b69a9-2f15-4b87-a992-a9503002c0e1",
   "metadata": {},
   "source": [
    " `````{admonition} Upload data\n",
    ":class: tip\n",
    "If you want to work with data stored on your local computer, but your jupyter service runs somewhere else, use drag & drop to add data to Jupyter. The left explorer view is is comparable to Windows Explorer.\n",
    "`````"
   ]
  },
  {
   "cell_type": "markdown",
   "id": "14eeceb3-cc9a-4d30-b08d-fa41f5ab11c8",
   "metadata": {},
   "source": [
    " ⚠️ I do not understand the upload data tip"
   ]
  },
  {
   "cell_type": "markdown",
   "id": "fecdfc68-1ec2-4166-b3a2-79dd356c27fd",
   "metadata": {},
   "source": [
    "## API\n"
   ]
  },
  {
   "cell_type": "markdown",
   "id": "75062439-b179-4fbe-8829-42831e3cbb22",
   "metadata": {},
   "source": [
    "For retriving data from an API the package `request` is needed."
   ]
  },
  {
   "cell_type": "code",
   "execution_count": 2,
   "id": "269ea23f-365a-48f7-b8eb-f53a9e0d3b7a",
   "metadata": {},
   "outputs": [],
   "source": [
    "import requests"
   ]
  },
  {
   "cell_type": "markdown",
   "id": "5e1d455f-c42c-4d67-bdc8-bc09f4c14cc0",
   "metadata": {},
   "source": [
    "Then the path including the URL string is imported."
   ]
  },
  {
   "cell_type": "code",
   "execution_count": 3,
   "id": "5fe2d43e-a37d-4bc5-a9d9-4e49261ba6ea",
   "metadata": {},
   "outputs": [],
   "source": [
    "path=\"http://dataverse-test.ioer.de:8080/api/access/datafile/344\""
   ]
  },
  {
   "cell_type": "markdown",
   "id": "9c7e9ce5-dc35-42b9-97d0-5ace8f3ac361",
   "metadata": {},
   "source": [
    "Then using the GET method a request send to the path to access the data from the server. "
   ]
  },
  {
   "cell_type": "code",
   "execution_count": null,
   "id": "50cb6b58-2c2c-4532-a0a1-3cbbea69eb88",
   "metadata": {},
   "outputs": [],
   "source": [
    "response = requests.get(path)"
   ]
  },
  {
   "cell_type": "markdown",
   "id": "cb865875-f496-49b1-b831-09eb6930da7e",
   "metadata": {},
   "source": [
    "Based on the format of the data in the API, the response should be converted. To findout the response format, check the `Content Type`."
   ]
  },
  {
   "cell_type": "code",
   "execution_count": null,
   "id": "787b358b-ef43-4503-b368-4dfec52403c4",
   "metadata": {},
   "outputs": [],
   "source": [
    "print(response.headers[\"Content-Type\"])"
   ]
  },
  {
   "cell_type": "markdown",
   "id": "acc27946-4ac8-4687-a1ed-575480039536",
   "metadata": {},
   "source": [
    "In the following example, it converts the response of JSON format to a Python data structures and the data stored in a data variable `api_data`"
   ]
  },
  {
   "cell_type": "code",
   "execution_count": 113,
   "id": "16df2a1c-db94-4bc1-a060-3691915f1df7",
   "metadata": {},
   "outputs": [],
   "source": [
    "api_data = response.json()"
   ]
  },
  {
   "cell_type": "markdown",
   "id": "6f0513b9-5556-4478-a10c-0aff9c799b90",
   "metadata": {},
   "source": [
    "### Access WFS data\n"
   ]
  }
 ],
 "metadata": {
  "kernelspec": {
   "display_name": "worker_env",
   "language": "python",
   "name": "worker_env"
  },
  "language_info": {
   "codemirror_mode": {
    "name": "ipython",
    "version": 3
   },
   "file_extension": ".py",
   "mimetype": "text/x-python",
   "name": "python",
   "nbconvert_exporter": "python",
   "pygments_lexer": "ipython3",
   "version": "3.12.7"
  }
 },
 "nbformat": 4,
 "nbformat_minor": 5
}
