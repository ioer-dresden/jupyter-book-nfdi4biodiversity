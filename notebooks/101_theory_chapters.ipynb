{
 "cells": [
  {
   "cell_type": "markdown",
   "id": "a17e5308-3a00-42ae-84a2-acdb678f7e7e",
   "metadata": {},
   "source": [
    "# Theory chapters "
   ]
  },
  {
   "cell_type": "markdown",
   "id": "579ddf3b-7341-46a7-aa84-7b4163d91acd",
   "metadata": {},
   "source": [
    "```{admonition} Why we are doing this? What is the motivation of these training materials?\n",
    ":class: tip\n",
    "At the IOER we are committed to the principles of open, reproducible, accessible and transparent science. To this end, documenting and sharing the code we use to process data and generate figures and results is critical. By using tools such as [JupyterLab](https://jupyter.org/), we enable others to reproduce our results and workflows. We also use this framework ([Jupyter Book] (https://jupyterbook.org/en/stable/intro.html)) to document our own application programming interfaces (APIs), so that others (you!) can copy code snippets to access our data.\n",
    "```"
   ]
  },
  {
   "cell_type": "markdown",
   "id": "27752c54-9116-4e94-bd54-4294e1cc2266",
   "metadata": {},
   "source": [
    "```{admonition} Summary\n",
    ":class: note\n",
    "- The **FAIR principles** provide guidelines to make data **Findable**, **Accessible**, **Interoperable**, and **Reusable**, ensuring data is well-organized, machine-readable, and optimized for reuse across disciplines.\n",
    "- **Data provenance** refers to the documentation of the origin, history, and data processing.\n",
    "- **Metadata** is information that describes and organizes data, enabling easier discovery and use.\n",
    "- A **license** defines the permissions, restrictions, and terms under which data or software can be used, shared, and modified.\n",
    "```"
   ]
  },
  {
   "cell_type": "markdown",
   "id": "386fac77-8157-476c-85a7-0f83eda51af0",
   "metadata": {},
   "source": [
    "## **FAIR principles**\n",
    "\n",
    "The **F**indable **A**cessible **I**nteroperable **R**eusable (**FAIR**) principles *([Wilkinson et al., 2016](https://doi.org/10.1038/sdata.2016.18))* are the culmination of more than 20 years of agreements and discussions within industry and academia to address the critical issue of managing the most crucial asset of any research activities, namely the **DATA**.\n",
    "\n",
    "The FAIR principles listed below follow the [Go FAIR initiative](https://www.go-fair.org/fair-principles/)\n",
    "\n",
    "**Findable**\n",
    "The first step in (re)using data is to find them. Metadata and data should be easy for both humans and computers to find. Machine-readable metadata plays a crucial role in enabling the automatic discovery of datasets and services. \n",
    "\n",
    "- **[F1](https://www.go-fair.org/fair-principles/f1-meta-data-assigned-globally-unique-persistent-identifiers/)** (Meta)data are assigned a globally unique and persistent identifier\n",
    "\n",
    "- **[F2](https://www.go-fair.org/fair-principles/f2-data-described-rich-metadata/)** Data are described with rich metadata (defined by R1 below)\n",
    "\n",
    "- **[F3](https://www.go-fair.org/fair-principles/f3-metadata-clearly-explicitly-include-identifier-data-describe/)** (Meta)data clearly and explicitly include the identifier of the data they describe\n",
    "\n",
    "- **[F4](https://www.go-fair.org/fair-principles/f4-metadata-registered-indexed-searchable-resource/)** (Meta)data are registered or indexed in a searchable resource** F1: (Meta) data are assigned globally unique and persistent identifiers\n",
    "\n",
    "**Accessible**\n",
    "Once users have found the required data, they need to understand how to access it. This involves determining whether the data is openly available or requires authentication and authorization, such as login credentials. Users must know the methods for retrieving the data, whether through direct downloads, APIs, or repositories. Finally, it is essential to consider any restrictions or conditions on access.\n",
    "\n",
    "- **[A1](https://www.go-fair.org/fair-principles/metadata-retrievable-identifier-standardised-communication-protocol/)** (Meta)data are retrievable by their identifier using a standardised communications protocol\n",
    "    - **[A1.1](https://www.go-fair.org/fair-principles/a1-1-protocol-open-free-universally-implementable/).** The protocol is open, free and universally implementable\n",
    "    - **[A1.2](https://www.go-fair.org/fair-principles/a1-2-protocol-allows-authentication-authorisation-required/).** The protocol allows for an authentication and authorisation procedure where necessary\n",
    "- **[A2](https://www.go-fair.org/fair-principles/a2-metadata-accessible-even-data-no-longer-available/)** (Meta)data is accessible, even when the data are no longer available\n",
    "\n",
    "**Interoperable**\n",
    "The data usually needs to be integrated with other data. In addition, the data needs to interoperate with applications or workflows for analysis, storage, and processing.\n",
    "\n",
    "- **[I1](https://www.go-fair.org/fair-principles/i1-metadata-use-formal-accessible-shared-broadly-applicable-language-knowledge-representation/)** (Meta)data use a formal, accessible, shared, and broadly applicable language for knowledge representation.\n",
    "\n",
    "- **[I2](https://www.go-fair.org/fair-principles/i2-metadata-use-vocabularies-follow-fair-principles/)** (Meta)data use vocabularies that follow FAIR principles\n",
    "\n",
    "- **[I3](https://www.go-fair.org/fair-principles/i3-metadata-include-qualified-references-metadata/)** (Meta)data include qualified references to other (meta)data\n",
    "\n",
    "**Reusable**\n",
    "The ultimate goal of FAIR is to optimise data reuse. To achieve this, metadata and data should be well-described to be replicated and/or combined in different settings.\n",
    "\n",
    "- **[R1](https://www.go-fair.org/fair-principles/r1-metadata-richly-described-plurality-accurate-relevant-attributes/)** (Meta)data are richly described with accurate and relevant attributes.\n",
    "    - **[R1.1](https://www.go-fair.org/fair-principles/r1-1-metadata-released-clear-accessible-data-usage-license/)** (Meta)data are released with a clear and accessible data usage license.\n",
    "    - **[R1.2](https://www.go-fair.org/fair-principles/r1-2-metadata-associated-detailed-provenance/)** (Meta)data are associated with detailed provenance.\n",
    "    - **[R1.3](https://www.go-fair.org/fair-principles/r1-3-metadata-meet-domain-relevant-community-standards/)** (Meta)data meet domain-relevant community standards."
   ]
  },
  {
   "cell_type": "markdown",
   "id": "294a2632-4527-49ac-9a3f-78310cfacbbf",
   "metadata": {},
   "source": [
    "## **Data Provenance** \n",
    "In scientific research, ensuring reproducibility remains a cornerstone of the scientific method. Reproducibility allows other researchers to verify findings by following the same methodology, reanalyzing data, and obtaining consistent results. In Data Science, it is fundamental to provide **transparent documentation, well-structured metadata, standardized workflows, and detailed <mark>provenance tracking</mark>** to capture every step of data processing and analysis. \n",
    "Unlike workflows, which serve as structured guidelines, **provenance** functions more like a detailed logbook by systematically recording every step to generate a specific result. This allows researchers to trace, review, and even replicate the exact process that led to a particular outcome, ensuring its validity ([Henzen et al., 2013](https://doi.org/10.1007/978-3-319-00615-4_8)).\n",
    "\n",
    "For example, in typical geoscience research, provenance can include the:\n",
    "\n",
    "- **Data source:** raw measurements, original vector and raster data, ground control data\n",
    "- **Pre-processing Methods:** Reprojection of the geodata; Clipping the dataset to the bounds of a specific study area; Data cleaning (e.g., removing clouds or irrelevant features)\n",
    "- **Data processing and analysis** Transformations applied include filtering, aggregation, resampling, joining, and/or model design with relative statistical analysis.\n",
    "- **Model or statical parameters** with relative functions and code used in computations\n",
    "- **The final output** and how it was generated \n",
    "  \n",
    "`````{tip}\n",
    ":class: tip\n",
    "**A Jupyter Notebook** is an excellent tool for maintaining provenance in computational research. It records the entire workflow and provides a detailed logbook of all the data processing and analysis steps. Moreover, a Juper Notebook allows easy annotations to describe each step, improving clarity and documentation.\n",
    "\n",
    "\n",
    "`````"
   ]
  },
  {
   "cell_type": "markdown",
   "id": "40dbe85b-b806-4b05-8113-d328eb1c5a72",
   "metadata": {},
   "source": [
    "## **Metadata (MD):** *\"Data About Data\"*\n",
    "\n",
    "Metadata (MD) is often described as \"data about data.\" It provides <mark>**structured information**</mark> about research data, enabling better organization, discovery, and context of datasets.  \n",
    "\n",
    "### Why Is Metadata Important?\n",
    "Metadata plays a crucial role because it:  \n",
    "- **Enhancing discoverability:** Well-documented metadata allows researchers to find relevant datasets quickly (*e.g. by using keywords in their search*).  \n",
    "- **Ensuring Data Interoperability:** Standardized metadata enhances searchability and data integration by providing consistent descriptors (*e.g., using controlled vocabularies and standardized keywords for geospatial data*). It also facilitates the **collection and processing** of datasets across different platforms (*e.g. in the case of geospatial data, by adopting Open Geospatial Consortium (OGC) standard services (such as WMS, WFS, or WCS) allows seamless data retrieval and processing across various software and systems, including R, Python, QGIS, ArcGIS, and web-based GIS applications*). By ensuring metadata consistency (*e.g., uniformly defining coordinate reference systems, spatial extent, and thematic attributes*), interoperability is significantly improved, enabling researchers and analysts to integrate datasets from diverse sources efficiently.\n",
    "- **Improving data reproducibility:** By providing details about how data was collected and processed (*e.g., by adding related links to the original data source, pre-processing algorithms, analysis-ready data, post-processing algorithms, replication packages and any related documentation such as data or software description article*).  \n",
    "- **Facilitating long-term data usability and fit for purpose:** Metadata includes essential details such as data format, provenance/lineage, licensing, and links to other resources supporting research data's long-term sustainability and usability.  \n",
    "- **Promoting proper Attribution, Credits, and Citations:** Metadata elements like Creator and License ensure creators hold copyright and can, therefore, be appropriately credited for their work while defining the usage condition for sharing and reusability.  \n",
    "\n",
    "### What Does “Structured Metadata” Mean?  \n",
    "Metadata is considered structured because it follows a defined format with specific elements that describe various aspects of the data. \n",
    "The metadata descriptors vary depending on the application domain, as different application domains require specialized descriptors to represent their data accurately. \n",
    "To address these differences, metadata standards have been developed to define and organize metadata descriptors based on their intended use. \n",
    "These standards are generally classified into two categories:\n",
    "- **General-Purpose Metadata Standards** are designed for broad applicability across multiple disciplines, providing a standardized way to describe datasets regardless of the domain.\n",
    "- **Domain-Specific Metadata Standards** – Tailored to specific fields, incorporating specialized descriptors relevant to particular types of data, such as geospatial information, biomedical research, or social sciences\n",
    "### Metadata Standards  \n",
    "To ensure consistency and usability, metadata often follows established standards such as:  \n",
    "[<mark>**The DataCite**</mark> is a widely used <mark>**general-purpose**</mark> metadata schema](https://doi.org/10.14454/mzv1-5b55) for describing digital resources. It is generally designed for general research datasets across all disciplines and focuses on citation, discovery, and persistent identification.\n",
    "\n",
    "Common metadata elements include:  \n",
    "- **Title:** The name of the dataset or research work.  \n",
    "- **Creator:** The individual(s) or organization(s) responsible for generating the data.  \n",
    "- **Abstract:** A summary of the dataset’s content and purpose.  \n",
    "- **Keywords:** Terms that help categorize and index the data for easier retrieval.  \n",
    "- **Format:** The file type or structure of the dataset (e.g., CSV, PDF, XML).  \n",
    "- **Subject:** The broader topic or discipline related to the data.  \n",
    "- **Persistent Identifier (PID):** A unique identifier (such as a DOI) ensures the dataset remains accessible over time.  \n",
    "- **License:** The terms of use specifying how the data can be shared and reused.  \n",
    "- **Provenance/Lineage:** Information on the origin and history of the dataset, including how it was created and modified.  \n",
    "\n",
    "[<mark>**The ISO 19115:** </mark> Is a <mark>**domain-specific**</mark> metadata standard tailored specifically for **geodata**](https://www.iso.org/standard/53798.html), providing  further and extensive details on spatial, temporal, and thematic aspects of datasets such as:\n",
    "\n",
    "- **Spatial Reference Information:** Coordinate Reference System (CRS), Projection details, Spatial resolution (scale, ground sampling distance)\n",
    "- **Temporal Extent:** Period covered by the data, Frequency of updates (e.g., daily, annually)\n",
    "- **Detailed Lineage and Data Provenance:** Source data origin (e.g., satellite imagery, field surveys), Data processing history (e.g., transformations, filtering, aggregation), Quality control procedures applied\n",
    "- **Data Quality:** Positional accuracy (spatial precision), Logical consistency (topological and attribute correctness), Completeness (missing data, coverage gaps)\n",
    "- **Geospatial Feature and Attribute Information:** Vector feature types (e.g., points, lines, polygons), Raster properties (resolution, pixel size, band information), Thematic classification (e.g., land cover categories)\n",
    "- **Geospatial Services:** Web services (e.g., WMS, WFS, WCS from OGC)\n",
    "\n",
    "Please [refer to the user guide of the National Agricultural Library (NAL)](https://geodata.nal.usda.gov/geonetwork/doc/geodata/NAL_UserGuide/19115_content/index.html) of the United States for a better explanation of the ISO 19115 metadata elements. "
   ]
  },
  {
   "cell_type": "markdown",
   "id": "ce0cac23-6fdb-490c-b206-29ae855d3d90",
   "metadata": {},
   "source": [
    "## Intellectual Property and Licence\n",
    "\n",
    "**Intellectual Property (IP)** refers to creations of the mind, such as writing an article, a report, drafting a presentation or a workflow, writing software, etc.. \n",
    "**Intellectual Property Rights (IPR)** are the legal tools that protect these creations, granting the owner control over their use and distribution.\n",
    "\n",
    "In the context of research, copyright is the most common form of IPR. It automatically protects original works such as articles, datasets, software, and reports, ensuring that others cannot use or distribute them without permission.\n",
    "\n",
    "A license is often applied to clarify how a work can be used. A **license specifies the conditions under which others may access, modify, or share the research output**. \n",
    "or example, open licenses, such as Creative Commons (CC) or open-source software licenses, enable wider dissemination while still defining permitted uses."
   ]
  },
  {
   "cell_type": "markdown",
   "id": "7ad94559-446d-495f-9fd8-d40b1067bb89",
   "metadata": {},
   "source": [
    "`````{tip}\n",
    ":class: tip\n",
    "**Creative Common license**\n",
    "\n",
    "-  **CC0** https://creativecommons.org/publicdomain/zero/1.0/\n",
    "-  **CC-BY-4.0** https://creativecommons.org/licenses/by/4.0/\n",
    "-  **CC-BY-SA-4.0** https://creativecommons.org/licenses/by-sa/4.0/\n",
    "-  **CC-BY-NC-4.0** https://creativecommons.org/licenses/by-nc/4.0\n",
    "-  **CC-BY-ND-4.0** https://creativecommons.org/licenses/by-nd/4.0/\n",
    "-  **CC-BY-NC-SA-4.0** https://creativecommons.org/licenses/by-nc-sa/4.0/\n",
    "-  **CC-BY-NC-ND-4.0** https://creativecommons.org/licenses/by-nc-nd/4.0/\n",
    "\n",
    "\n",
    "\n",
    "**Open Source Software / Code Licenses**\n",
    "\n",
    "- COPYLEFT* **GPLv3** https://www.gnu.org/licenses/gpl-3.0-standalone.html It requires developers to license any modified versions under the same terms as the original version (*Copyleft is a sort of share-alike license*).\n",
    "- PERMISSIVE* **MIT** https://opensource.org/license/mit (*These allow developers to use the original software in any project they want without licensing any changed versions under the original terms*).\n",
    "`````"
   ]
  },
  {
   "cell_type": "code",
   "execution_count": null,
   "id": "90f5d118-ef9a-48c4-9b0f-9093201e9ed8",
   "metadata": {},
   "outputs": [],
   "source": []
  },
  {
   "cell_type": "code",
   "execution_count": null,
   "id": "336cf537-a4c7-4bfd-b400-07ccd4c756fe",
   "metadata": {},
   "outputs": [],
   "source": []
  },
  {
   "cell_type": "code",
   "execution_count": null,
   "id": "30e516ff-c908-46b7-85c0-bbdc1005fab0",
   "metadata": {},
   "outputs": [],
   "source": []
  }
 ],
 "metadata": {
  "kernelspec": {
   "display_name": "worker_env",
   "language": "python",
   "name": "worker_env"
  },
  "language_info": {
   "codemirror_mode": {
    "name": "ipython",
    "version": 3
   },
   "file_extension": ".py",
   "mimetype": "text/x-python",
   "name": "python",
   "nbconvert_exporter": "python",
   "pygments_lexer": "ipython3",
   "version": "3.11.6"
  }
 },
 "nbformat": 4,
 "nbformat_minor": 5
}
