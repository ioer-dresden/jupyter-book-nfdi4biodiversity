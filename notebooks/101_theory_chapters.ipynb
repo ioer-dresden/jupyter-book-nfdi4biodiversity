{
 "cells": [
  {
   "cell_type": "markdown",
   "id": "a17e5308-3a00-42ae-84a2-acdb678f7e7e",
   "metadata": {},
   "source": [
    "# Theory chapters "
   ]
  },
  {
   "cell_type": "markdown",
   "id": "27752c54-9116-4e94-bd54-4294e1cc2266",
   "metadata": {},
   "source": [
    "```{admonition} Summary\n",
    ":class: hint\n",
    "- The **FAIR principles** provide guidelines to make data **Findable**, **Accessible**, **Interoperable**, and **Reusable**, ensuring data is well-organized, machine-readable, and optimized for reuse across disciplines.\n",
    "- **Data provenance** refers to the documentation of the origin, history, and data processing.\n",
    "- **Metadata** is information that describes and organizes data, enabling easier discovery and use.\n",
    "- A **license** defines the permissions, restrictions, and terms under which data or software can be used, shared, and modified.\n",
    "```"
   ]
  },
  {
   "cell_type": "markdown",
   "id": "386fac77-8157-476c-85a7-0f83eda51af0",
   "metadata": {},
   "source": [
    "## FAIR principles"
   ]
  },
  {
   "cell_type": "markdown",
   "id": "294a2632-4527-49ac-9a3f-78310cfacbbf",
   "metadata": {},
   "source": [
    "## **Data Provenance** \n",
    "In scientific research, ensuring reproducibility remains a cornerstone of the scientific method. Reproducibility allows other researchers to verify findings by following the same methodology, reanalyzing data, and obtaining consistent results. In Data Science, it is fundamental to provide **transparent documentation, well-structured metadata, standardized workflows, and detailed <mark>provenance tracking</mark>** to capture every step of data processing and analysis. \n",
    "Unlike workflows, which serve as structured guidelines, **provenance** functions more like a detailed logbook by systematically recording every step to generate a specific result. This allows researchers to trace, review, and even replicate the exact process that led to a particular outcome, ensuring its validity.\n",
    "\n",
    "For example, in typical geoscience research, provenance can include the:\n",
    "\n",
    "- **Data source:** raw measurements, original vector and raster data, ground control data\n",
    "- **Pre-processing Methods:** Reprojection of the geodata; Clipping the dataset to the bounds of a specific study area; Data cleaning (e.g., removing clouds or irrelevant features)\n",
    "- **Data processing and analysis** Transformations applied include filtering, aggregation, resampling, joining, and/or model design with relative statistical analysis.\n",
    "- **Model or statical parameters** with relative functions and code used in computations\n",
    "- **The final output** and how it was generated\n",
    "\n",
    "\n",
    "**A Jupyter Notebook** is an excellent tool for maintaining provenance in computational research. It records the entire workflow and provides a detailed logbook of all the data processing and analysis steps. Moreover, a Juper Notebook allows easy annotations to describe each step, improving clarity and documentation.\n",
    " "
   ]
  },
  {
   "cell_type": "markdown",
   "id": "40dbe85b-b806-4b05-8113-d328eb1c5a72",
   "metadata": {},
   "source": [
    "## **Metadata (MD):** *\"Data About Data\"*\n",
    "\n",
    "Metadata (MD) is often described as \"data about data.\" It provides <mark>**structured information**</mark> about research data, enabling better organization, discovery, and context of datasets.  \n",
    "\n",
    "### Why Is Metadata Important?\n",
    "Metadata plays a crucial role because it:  \n",
    "- **Enhancing discoverability:** Well-documented metadata allows researchers to find relevant datasets quickly (*e.g. by using keywords in their search*).  \n",
    "- **Ensuring Data Interoperability:** Standardized metadata enhances searchability and data integration by providing consistent descriptors (*e.g., using controlled vocabularies and standardized keywords for geospatial data*). It also facilitates the **collection and processing** of datasets across different platforms (*e.g. in the case of geospatial data, by adopting Open Geospatial Consortium (OGC) standard services (such as WMS, WFS, or WCS) allows seamless data retrieval and processing across various software and systems, including R, Python, QGIS, ArcGIS, and web-based GIS applications*). By ensuring metadata consistency (*e.g., uniformly defining coordinate reference systems, spatial extent, and thematic attributes*), interoperability is significantly improved, enabling researchers and analysts to integrate datasets from diverse sources efficiently.\n",
    "- **Improving data reproducibility:** By providing details about how data was collected and processed (*e.g., by adding related links to the original data source, pre-processing algorithms, analysis-ready data, post-processing algorithms, replication packages and any related documentation such as data or software description article*).  \n",
    "- **Facilitating long-term data usability and fit for purpose:** Metadata includes essential details such as data format, provenance/lineage, licensing, and links to other resources supporting research data's long-term sustainability and usability.  \n",
    "- **Promoting proper Attribution, Credits, and Citations:** Metadata elements like Creator and License ensure creators hold copyright and can, therefore, be appropriately credited for their work while defining the usage condition for sharing and reusability.  \n",
    "\n",
    "### What Does “Structured Metadata” Mean?  \n",
    "Metadata is considered structured because it follows a defined format with specific elements that describe various aspects of the data. \n",
    "The metadata descriptors vary depending on the application domain, as different application domains require specialized descriptors to represent their data accurately. \n",
    "To address these differences, metadata standards have been developed to define and organize metadata descriptors based on their intended use. \n",
    "These standards are generally classified into two categories:\n",
    "- **General-Purpose Metadata Standards** are designed for broad applicability across multiple disciplines, providing a standardized way to describe datasets regardless of the domain.\n",
    "- **Domain-Specific Metadata Standards** – Tailored to specific fields, incorporating specialized descriptors relevant to particular types of data, such as geospatial information, biomedical research, or social sciences\n",
    "### Metadata Standards  \n",
    "To ensure consistency and usability, metadata often follows established standards such as:  \n",
    "<mark>**The DataCite**</mark> is a widely used **general-purpose** metadata scheme for describing digital resources. It is generally designed for general research datasets across all disciplines and focuses on citation, discovery, and persistent identification.\n",
    "\n",
    "Common metadata elements include:  \n",
    "- **Title:** The name of the dataset or research work.  \n",
    "- **Creator:** The individual(s) or organization(s) responsible for generating the data.  \n",
    "- **Abstract:** A summary of the dataset’s content and purpose.  \n",
    "- **Keywords:** Terms that help categorize and index the data for easier retrieval.  \n",
    "- **Format:** The file type or structure of the dataset (e.g., CSV, PDF, XML).  \n",
    "- **Subject:** The broader topic or discipline related to the data.  \n",
    "- **Persistent Identifier (PID):** A unique identifier (such as a DOI) ensures the dataset remains accessible over time.  \n",
    "- **License:** The terms of use specifying how the data can be shared and reused.  \n",
    "- **Provenance/Lineage:** Information on the origin and history of the dataset, including how it was created and modified.  \n",
    "\n",
    "<mark>**The ISO 19115:** </mark> Is a **domain-specific** metadata standard tailored specifically for **geodata**, providing  further and extensive details on spatial, temporal, and thematic aspects of datasets such as:\n",
    "\n",
    "- **Spatial Reference Information:** Coordinate Reference System (CRS), Projection details, Spatial resolution (scale, ground sampling distance)\n",
    "- **Temporal Extent:** Period covered by the data, Frequency of updates (e.g., daily, annually)\n",
    "- **Detailed Lineage and Data Provenance:** Source data origin (e.g., satellite imagery, field surveys), Data processing history (e.g., transformations, filtering, aggregation), Quality control procedures applied\n",
    "- **Data Quality:** Positional accuracy (spatial precision), Logical consistency (topological and attribute correctness), Completeness (missing data, coverage gaps)\n",
    "- **Geospatial Feature and Attribute Information:** Vector feature types (e.g., points, lines, polygons), Raster properties (resolution, pixel size, band information), Thematic classification (e.g., land cover categories)\n",
    "- **Geospatial Services:** Web services (e.g., WMS, WFS, WCS from OGC)"
   ]
  },
  {
   "cell_type": "markdown",
   "id": "ce0cac23-6fdb-490c-b206-29ae855d3d90",
   "metadata": {},
   "source": [
    "## Licences \n"
   ]
  }
 ],
 "metadata": {
  "kernelspec": {
   "display_name": "worker_env",
   "language": "python",
   "name": "worker_env"
  },
  "language_info": {
   "codemirror_mode": {
    "name": "ipython",
    "version": 3
   },
   "file_extension": ".py",
   "mimetype": "text/x-python",
   "name": "python",
   "nbconvert_exporter": "python",
   "pygments_lexer": "ipython3",
   "version": "3.12.7"
  }
 },
 "nbformat": 4,
 "nbformat_minor": 5
}
