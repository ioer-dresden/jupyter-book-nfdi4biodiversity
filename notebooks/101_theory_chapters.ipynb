{
 "cells": [
  {
   "cell_type": "markdown",
   "id": "a17e5308-3a00-42ae-84a2-acdb678f7e7e",
   "metadata": {},
   "source": [
    "# Theory chapters "
   ]
  },
  {
   "cell_type": "markdown",
   "id": "27752c54-9116-4e94-bd54-4294e1cc2266",
   "metadata": {},
   "source": [
    "```{admonition} Summary\n",
    ":class: hint\n",
    "- The **FAIR principles** provide guidelines to make data **Findable**, **Accessible**, **Interoperable**, and **Reusable**, ensuring data is well-organized, machine-readable, and optimized for reuse across disciplines.\n",
    "- **Data provenance** refers to the documentation of the origin, history, and data processing.\n",
    "- **Metadata** is information that describes and organizes data, enabling easier discovery and use.\n",
    "- A **license** defines the permissions, restrictions, and terms under which data or software can be used, shared, and modified.\n",
    "```"
   ]
  },
  {
   "cell_type": "markdown",
   "id": "386fac77-8157-476c-85a7-0f83eda51af0",
   "metadata": {},
   "source": [
    "## FAIR principles"
   ]
  },
  {
   "cell_type": "markdown",
   "id": "294a2632-4527-49ac-9a3f-78310cfacbbf",
   "metadata": {},
   "source": [
    "## Data Provenance "
   ]
  },
  {
   "cell_type": "markdown",
   "id": "40dbe85b-b806-4b05-8113-d328eb1c5a72",
   "metadata": {},
   "source": [
    "## Metadata\n"
   ]
  },
  {
   "cell_type": "markdown",
   "id": "ce0cac23-6fdb-490c-b206-29ae855d3d90",
   "metadata": {},
   "source": [
    "## Licences \n"
   ]
  },
  {
   "cell_type": "code",
   "execution_count": null,
   "id": "720a1eb8-b18a-4047-97ed-4ce039897ecb",
   "metadata": {},
   "outputs": [],
   "source": []
  }
 ],
 "metadata": {
  "kernelspec": {
   "display_name": "worker_env",
   "language": "python",
   "name": "worker_env"
  },
  "language_info": {
   "codemirror_mode": {
    "name": "ipython",
    "version": 3
   },
   "file_extension": ".py",
   "mimetype": "text/x-python",
   "name": "python",
   "nbconvert_exporter": "python",
   "pygments_lexer": "ipython3",
   "version": "3.12.7"
  }
 },
 "nbformat": 4,
 "nbformat_minor": 5
}
