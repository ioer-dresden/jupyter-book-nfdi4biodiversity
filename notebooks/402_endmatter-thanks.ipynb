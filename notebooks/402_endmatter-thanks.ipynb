{
 "cells": [
  {
   "cell_type": "markdown",
   "id": "1e56dec8-23db-4708-a7e2-27cbf09701f2",
   "metadata": {
    "editable": true,
    "slideshow": {
     "slide_type": ""
    },
    "tags": []
   },
   "source": [
    "# Thank you\n"
   ]
  },
  {
   "cell_type": "markdown",
   "id": "294073ff-42a3-4de1-aa38-18a57c9cee1d",
   "metadata": {
    "editable": true,
    "slideshow": {
     "slide_type": ""
    },
    "tags": []
   },
   "source": [
    "ToDo: Thank contributors to this jupyter book. Mention future goals. Highlight work in progress. Provide contact details."
   ]
  },
  {
   "cell_type": "code",
   "execution_count": null,
   "id": "91493091-c005-4d8c-82e9-7b446d75d1e7",
   "metadata": {},
   "outputs": [],
   "source": []
  }
 ],
 "metadata": {
  "kernelspec": {
   "display_name": "Python 3 (ipykernel)",
   "language": "python",
   "name": "python3"
  },
  "language_info": {
   "codemirror_mode": {
    "name": "ipython",
    "version": 3
   },
   "file_extension": ".py",
   "mimetype": "text/x-python",
   "name": "python",
   "nbconvert_exporter": "python",
   "pygments_lexer": "ipython3",
   "version": "3.12.7"
  }
 },
 "nbformat": 4,
 "nbformat_minor": 5
}
