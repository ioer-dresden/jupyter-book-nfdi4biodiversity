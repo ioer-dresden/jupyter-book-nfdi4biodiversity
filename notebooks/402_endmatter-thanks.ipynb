{
 "cells": [
  {
   "cell_type": "markdown",
   "id": "1e56dec8-23db-4708-a7e2-27cbf09701f2",
   "metadata": {
    "editable": true,
    "slideshow": {
     "slide_type": ""
    },
    "tags": []
   },
   "source": [
    "# Thank you!\n",
    "ToDo: Thank contributors to this jupyter book. <br>\n",
    "Mention future goals. <br>\n",
    "Highlight work in progress. Provide contact details.</p>"
   ]
  },
  {
   "cell_type": "markdown",
   "id": "1aed1be7-debb-4d79-bc0c-1230a4ee0c75",
   "metadata": {},
   "source": [
    "## Contact "
   ]
  },
  {
   "cell_type": "markdown",
   "id": "0701cbce-b9b5-4d5c-adef-46221af54bdc",
   "metadata": {},
   "source": [
    "[Leibniz-Institut für ökologische Raumentwicklung](https://www.ioer.de/) <br>\n",
    "IOER Research Data Centre (IOER RDC) <br>\n",
    "Weberplatz 1, 01217 Dresden\n",
    "\n",
    "URL: [https://ioer-fdz.de/en](https://ioer-fdz.de/en) <br>\n",
    "E-Mail: fdz@ioer.de\n"
   ]
  },
  {
   "cell_type": "markdown",
   "id": "d54d376a-decb-43b3-a652-b3190c3bccb5",
   "metadata": {},
   "source": [
    "### Contact persons\n",
    "\n",
    "Dr. Claudia Dworczyk <br>\n",
    "c.dworczyk@ioer.de <br>\n",
    "phone +49 351 4679 280\n",
    "\n",
    "Dr. Alexander Dunkel <br>\n",
    "a.dunkel@ioer.de <br>\n",
    "phone +49 351 4679 148"
   ]
  },
  {
   "cell_type": "code",
   "execution_count": null,
   "id": "30ef6ae0-7073-4319-baec-e9b2e8ab13f3",
   "metadata": {},
   "outputs": [],
   "source": []
  }
 ],
 "metadata": {
  "kernelspec": {
   "display_name": "Python 3 (ipykernel)",
   "language": "python",
   "name": "python3"
  },
  "language_info": {
   "codemirror_mode": {
    "name": "ipython",
    "version": 3
   },
   "file_extension": ".py",
   "mimetype": "text/x-python",
   "name": "python",
   "nbconvert_exporter": "python",
   "pygments_lexer": "ipython3",
   "version": "3.12.7"
  }
 },
 "nbformat": 4,
 "nbformat_minor": 5
}
