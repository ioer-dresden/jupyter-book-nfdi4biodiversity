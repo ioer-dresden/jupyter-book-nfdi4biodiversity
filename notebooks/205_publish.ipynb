{
 "cells": [
  {
   "cell_type": "markdown",
   "id": "5d7a6e6c-07d1-4531-92c0-b9e43c8bbaaf",
   "metadata": {
    "editable": true,
    "slideshow": {
     "slide_type": ""
    },
    "tags": []
   },
   "source": [
    "# Publishing\n",
    "\n",
    "Publishing your results can mean several things:\n",
    "- writing a manuscript and submitting the results to a journal for (double-blind) peer review\n",
    "- creating a data publication, ideally submitted with your text manuscript, for data transparency & reproducibility\n",
    "- publish your git repository, making it available for others to find and read your notebooks\n",
    "\n",
    "We provide a short step-by-step guide on how to publish Jupyter notebooks together with the generated visuals and output as a data publication."
   ]
  },
  {
   "cell_type": "markdown",
   "id": "4b727357-12d4-454d-a9eb-13e0a58d281f",
   "metadata": {
    "editable": true,
    "slideshow": {
     "slide_type": ""
    },
    "tags": []
   },
   "source": [
    "## Publish data\n",
    "\n",
    "### Make a release version\n",
    "\n",
    "When you are finished with your work, e.g. before submitting your manuscript for the first round of review, create a git release for your notebook repository and give it a version number:\n",
    "```bash\n",
    "git tag -a v1.0.0 -m \"Major release before submitting to Journal\"\n",
    "git push --tags\n",
    "```\n",
    "\n",
    "```{hint}\n",
    "This adds a marker to your Git repository that can be easily found and referenced at any later stage. If you submit a minor or major revision at a later date, add another version tag to describe your progress.\n",
    "```"
   ]
  },
  {
   "cell_type": "markdown",
   "id": "dd3cb13e-f803-41f1-99a1-35745261cda3",
   "metadata": {
    "editable": true,
    "slideshow": {
     "slide_type": ""
    },
    "tags": []
   },
   "source": [
    "## Create HTML versions of all your notebooks"
   ]
  },
  {
   "cell_type": "markdown",
   "id": "9eeaf151-1f47-4b7d-918e-dbbaece88298",
   "metadata": {
    "editable": true,
    "slideshow": {
     "slide_type": ""
    },
    "tags": []
   },
   "source": [
    "This is an optional step, but recommended because reviewers may not have Jupyter Lab to open your `*.ipynb` notebooks. By converting notebooks to HTML format, you can archive any code together with the generated visuals. You can convert notebooks directly in Jupyter with the below command:"
   ]
  },
  {
   "cell_type": "code",
   "execution_count": 1,
   "id": "2addccf4-58d4-49fe-8fab-d5fe93e57474",
   "metadata": {
    "editable": true,
    "slideshow": {
     "slide_type": ""
    },
    "tags": []
   },
   "outputs": [
    {
     "name": "stdout",
     "output_type": "stream",
     "text": [
      "[NbConvertApp] Converting notebook ./205_publish.ipynb to html_toc\n",
      "[NbConvertApp] Writing 284729 bytes to ../out/205_publish.html\n"
     ]
    }
   ],
   "source": [
    "!jupyter nbconvert --to html_toc \\\n",
    "    --output-dir=../out/ ./205_publish.ipynb \\\n",
    "    --template=../nbconvert.tpl \\\n",
    "    --ExtractOutputPreprocessor.enabled=False"
   ]
  },
  {
   "cell_type": "markdown",
   "id": "2c058d98-7f20-42ae-a13f-0ac9b7a33d58",
   "metadata": {
    "editable": true,
    "slideshow": {
     "slide_type": ""
    },
    "tags": []
   },
   "source": [
    "```{admonition} Add conversion command at the end of every notebook\n",
    ":class: hint\n",
    "It is a good idea to add this command to every notebook, so it is run after every notebook change.\n",
    "```"
   ]
  },
  {
   "cell_type": "markdown",
   "id": "608d61da-4a32-4658-ba08-e26227aa08e9",
   "metadata": {
    "editable": true,
    "slideshow": {
     "slide_type": ""
    },
    "tags": []
   },
   "source": [
    "### Create a zip file with all your output data\n",
    "\n",
    "When you have exported all notebook HTMLs and Figures, create a ZIP file that includes all your data, notebooks, HTMLs and figures. Again, you can directly create this ZIP file in Jupyter, based on the latest git-version that we created above."
   ]
  },
  {
   "cell_type": "code",
   "execution_count": 4,
   "id": "f8dec315-1c76-4748-ae35-2e0098eba6cb",
   "metadata": {
    "editable": true,
    "slideshow": {
     "slide_type": ""
    },
    "tags": []
   },
   "outputs": [
    {
     "name": "stdout",
     "output_type": "stream",
     "text": [
      "\n",
      "WARNING: No more files\n",
      "jupytext.toml\n",
      "\n"
     ]
    }
   ],
   "source": [
    "!cd .. && git config --system --add safe.directory '*' \\\n",
    "    && RELEASE_VERSION=$(git describe --tags --abbrev=0) \\\n",
    "    && 7z a -tzip -mx=9 out/release_$RELEASE_VERSION.zip \\\n",
    "    py/* out/* resources/* notebooks/*.ipynb \\\n",
    "    CHANGELOG.md README.md jupytext.toml nbconvert.tpl conf.json pyproject.toml \\\n",
    "    -x!py/__pycache__ -x!py/modules/__pycache__ -x!py/modules/.ipynb_checkpoints \\\n",
    "    -y > /dev/null"
   ]
  },
  {
   "cell_type": "code",
   "execution_count": 5,
   "id": "e385a90f-cf5e-4a79-9059-421003e7a7ed",
   "metadata": {
    "editable": true,
    "slideshow": {
     "slide_type": ""
    },
    "tags": []
   },
   "outputs": [
    {
     "name": "stdout",
     "output_type": "stream",
     "text": [
      "-rw-r--r-- 1 root 1002 56M Mar 24 09:15 ../out/release_v0.6.1.zip\n"
     ]
    }
   ],
   "source": [
    "!RELEASE_VERSION=$(git describe --tags --abbrev=0) && ls -alh ../out/release_$RELEASE_VERSION.zip"
   ]
  },
  {
   "cell_type": "markdown",
   "id": "13aadb20-5f8f-4ec4-a7f6-131ffc6e346b",
   "metadata": {
    "editable": true,
    "slideshow": {
     "slide_type": ""
    },
    "tags": []
   },
   "source": [
    "```{figure} ../resources/download.png\n",
    ":name: download-figure\n",
    "\n",
    "In the Explorer on the left, right click and select 'download'.\n",
    "```"
   ]
  },
  {
   "cell_type": "markdown",
   "id": "b722e4d2-1c20-4006-b4c3-9e6efbbed655",
   "metadata": {
    "editable": true,
    "slideshow": {
     "slide_type": ""
    },
    "tags": []
   },
   "source": [
    "### ioerDATA\n",
    "\n",
    "With this file you are ready to upload your data to a data repository and create a DOI so that it can be properly archived, cited and referenced.\n",
    "\n",
    "The ioerDATA is one such repository. It is available to all IOER collaborators at [https://data.fdz.ioer.de](https://data.fdz.ioer.de)."
   ]
  },
  {
   "cell_type": "markdown",
   "id": "7019716a-8482-4aee-8df4-ff1d3deb67f6",
   "metadata": {
    "editable": true,
    "slideshow": {
     "slide_type": ""
    },
    "tags": []
   },
   "source": [
    "```{hint} See the ioerDATA documentation\n",
    "If you are an IOER colleague, have a look at the (internal) ioerDATA documentation at [https://docs.fdz.ioer.info/documentation/ioerdata/](https://docs.fdz.ioer.info/documentation/ioerdata/).\n",
    "```"
   ]
  },
  {
   "cell_type": "markdown",
   "id": "5af30291-22ac-4872-b3a8-5b55169f1cec",
   "metadata": {
    "editable": true,
    "slideshow": {
     "slide_type": ""
    },
    "tags": []
   },
   "source": [
    "Other data repositories include [Zenodo](https://zenodo.org/)."
   ]
  },
  {
   "cell_type": "markdown",
   "id": "17470595-29cb-4d24-bdd5-c09195b87a09",
   "metadata": {
    "editable": true,
    "slideshow": {
     "slide_type": ""
    },
    "tags": []
   },
   "source": [
    "## Publishing code\n",
    "\n",
    "In addition to a data repository, you can make your git repository available through (for example) Gitlab or Github. If you are in the middle of peer review, you may want to temporarily remove or redact any names.\n",
    "\n",
    "```{hint} Using Github pages\n",
    "You can configure Github to publish your HTML converted notebooks to Github Pages at github.io. See the [Quickstart for GitHub Pages](https://docs.github.com/en/pages/quickstart).\n",
    "```\n",
    "\n",
    "✨ Then, spread the love! 💖 Share your notebook links with others on social media 📢, in communities 🤝, and beyond! 🚀"
   ]
  },
  {
   "cell_type": "code",
   "execution_count": null,
   "id": "0703ca41-0453-4339-8da4-58c2f3906f6f",
   "metadata": {
    "editable": true,
    "slideshow": {
     "slide_type": ""
    },
    "tags": []
   },
   "outputs": [],
   "source": []
  }
 ],
 "metadata": {
  "kernelspec": {
   "display_name": "worker_env",
   "language": "python",
   "name": "worker_env"
  },
  "language_info": {
   "codemirror_mode": {
    "name": "ipython",
    "version": 3
   },
   "file_extension": ".py",
   "mimetype": "text/x-python",
   "name": "python",
   "nbconvert_exporter": "python",
   "pygments_lexer": "ipython3",
   "version": "3.11.6"
  }
 },
 "nbformat": 4,
 "nbformat_minor": 5
}
