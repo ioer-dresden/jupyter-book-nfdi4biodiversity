{
 "cells": [
  {
   "cell_type": "markdown",
   "id": "5d7a6e6c-07d1-4531-92c0-b9e43c8bbaaf",
   "metadata": {},
   "source": [
    "# Publishing\n"
   ]
  },
  {
   "cell_type": "markdown",
   "id": "4b727357-12d4-454d-a9eb-13e0a58d281f",
   "metadata": {},
   "source": [
    "## Publish data\n"
   ]
  },
  {
   "cell_type": "markdown",
   "id": "b722e4d2-1c20-4006-b4c3-9e6efbbed655",
   "metadata": {},
   "source": [
    "### ioerDATA\n"
   ]
  },
  {
   "cell_type": "markdown",
   "id": "1513119d-aaa0-4bfa-ad24-e084553c9fa2",
   "metadata": {},
   "source": [
    "### LAND (?)\n"
   ]
  },
  {
   "cell_type": "markdown",
   "id": "17470595-29cb-4d24-bdd5-c09195b87a09",
   "metadata": {},
   "source": [
    "## Publish Code\n"
   ]
  },
  {
   "cell_type": "markdown",
   "id": "72f009cd-f0da-412e-b9e3-f3e04bea8917",
   "metadata": {},
   "source": [
    "### Github\n",
    "\n",
    "\n",
    "\n"
   ]
  },
  {
   "cell_type": "markdown",
   "id": "fbe230dd-b5d8-40c7-8a4b-1937d75dfd74",
   "metadata": {},
   "source": [
    "### LAND (?)\n"
   ]
  },
  {
   "cell_type": "markdown",
   "id": "9cec001c-6695-403e-8485-3310a95b78ef",
   "metadata": {},
   "source": [
    "### HTLM\n"
   ]
  }
 ],
 "metadata": {
  "kernelspec": {
   "display_name": "worker_env",
   "language": "python",
   "name": "worker_env"
  },
  "language_info": {
   "codemirror_mode": {
    "name": "ipython",
    "version": 3
   },
   "file_extension": ".py",
   "mimetype": "text/x-python",
   "name": "python",
   "nbconvert_exporter": "python",
   "pygments_lexer": "ipython3",
   "version": "3.12.7"
  }
 },
 "nbformat": 4,
 "nbformat_minor": 5
}
