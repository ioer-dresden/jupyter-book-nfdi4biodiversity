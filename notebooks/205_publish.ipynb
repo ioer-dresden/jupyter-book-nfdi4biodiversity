{
 "cells": [
  {
   "cell_type": "markdown",
   "id": "5d7a6e6c-07d1-4531-92c0-b9e43c8bbaaf",
   "metadata": {
    "editable": true,
    "slideshow": {
     "slide_type": ""
    },
    "tags": []
   },
   "source": [
    "# Publishing\n",
    "\n",
    "Publishing your results can mean several things:\n",
    "- writing a manuscript and submitting the results to a journal for (double-blind) peer review\n",
    "- creating a data publication, ideally submitted with your text manuscript, for data transparency & reproducibility\n",
    "- publish your git repository, making it available for others to find and read your notebooks\n",
    "\n",
    "We provide a short step-by-step guide on how to publish Jupyter notebooks together with the generated visuals and output as a data publication."
   ]
  },
  {
   "cell_type": "markdown",
   "id": "4b727357-12d4-454d-a9eb-13e0a58d281f",
   "metadata": {
    "editable": true,
    "slideshow": {
     "slide_type": ""
    },
    "tags": []
   },
   "source": [
    "## Publish data\n",
    "\n",
    "### Make a release version\n",
    "\n",
    "When you are finished with your work, e.g. before submitting your manuscript for the first round of review, create a git release for your notebook repository and give it a version number:\n",
    "```bash\n",
    "git tag -a v1.0.0 -m \"Major release before submitting to Journal\"\n",
    "git push --tags\n",
    "```\n",
    "\n",
    "```{hint}\n",
    "This adds a marker to your Git repository that can be easily found and referenced at any later stage. If you submit a minor or major revision at a later date, add another version tag to describe your progress.\n",
    "```\n",
    "\n",
    "After pushing your tag to Github or Gitlab, you can (and should!) create a **Release** from it, where you can attach data and other output information. Releases can be [cited with (e.g.) Zenodo or ioerDATA](#ioerdata).\n",
    "\n",
    "```{figure} ../resources/release.png\n",
    ":name: gitlab-release\n",
    "\n",
    "A release from our [Gitlab repository](https://gitlab.hrz.tu-chemnitz.de/ioer/fdz/jupyter-book-nfdi4biodiversity/-/releases) based on the version <code>v0.6.5</code>-tag of the training materials.\n",
    "````\n"
   ]
  },
  {
   "cell_type": "markdown",
   "id": "dd3cb13e-f803-41f1-99a1-35745261cda3",
   "metadata": {
    "editable": true,
    "slideshow": {
     "slide_type": ""
    },
    "tags": []
   },
   "source": [
    "## Create HTML versions of all your notebooks"
   ]
  },
  {
   "cell_type": "markdown",
   "id": "9eeaf151-1f47-4b7d-918e-dbbaece88298",
   "metadata": {
    "editable": true,
    "slideshow": {
     "slide_type": ""
    },
    "tags": []
   },
   "source": [
    "This is an optional step, but recommended because reviewers may not have Jupyter Lab to open your `*.ipynb` notebooks. By converting notebooks to HTML format, you can archive any code together with the generated visuals. You can convert notebooks directly in Jupyter with the below command:"
   ]
  },
  {
   "cell_type": "code",
   "execution_count": 1,
   "id": "2addccf4-58d4-49fe-8fab-d5fe93e57474",
   "metadata": {
    "editable": true,
    "slideshow": {
     "slide_type": ""
    },
    "tags": []
   },
   "outputs": [
    {
     "name": "stdout",
     "output_type": "stream",
     "text": [
      "[NbConvertApp] Converting notebook ./205_publish.ipynb to html_toc\n",
      "[NbConvertApp] Writing 306783 bytes to ../out/205_publish.html\n"
     ]
    }
   ],
   "source": [
    "!jupyter nbconvert --to html_toc \\\n",
    "    --output-dir=../out/ ./205_publish.ipynb \\\n",
    "    --template=../nbconvert.tpl \\\n",
    "    --ExtractOutputPreprocessor.enabled=False"
   ]
  },
  {
   "cell_type": "markdown",
   "id": "2c058d98-7f20-42ae-a13f-0ac9b7a33d58",
   "metadata": {
    "editable": true,
    "slideshow": {
     "slide_type": ""
    },
    "tags": []
   },
   "source": [
    "```{admonition} Add conversion command at the end of every notebook\n",
    ":class: hint\n",
    "It is a good idea to add this command to every notebook, so it is run after every notebook change.\n",
    "```"
   ]
  },
  {
   "cell_type": "markdown",
   "id": "8f5f17eb-7ac2-4f6c-84b5-884a4622327f",
   "metadata": {
    "editable": true,
    "slideshow": {
     "slide_type": ""
    },
    "tags": []
   },
   "source": [
    "```{admonition} Attach the static HTML files to your publication\n",
    ":class: note\n",
    "These HTML versions of the notebooks are ideal for attaching directly to your publications as Supplementary Materials (SM). They are like a portable archive version that contains your documentation, code and output graphics at the time of publication. This is the most important information and should be attached directly to your paper. This also helps reviewers to have a look at your workflow if they do not want to run the notebooks themselves.\n",
    "\n",
    "In addition to these HTML files, the original notebook files (<kbd>\\*.ipynb</kbd>) and accompanying data should be made available in a proper data publication, which we show below.\n",
    "```"
   ]
  },
  {
   "cell_type": "markdown",
   "id": "608d61da-4a32-4658-ba08-e26227aa08e9",
   "metadata": {
    "editable": true,
    "slideshow": {
     "slide_type": ""
    },
    "tags": []
   },
   "source": [
    "## Create a zip file with all your output data\n",
    "\n",
    "When you have exported all notebook HTMLs and Figures, create a ZIP file that includes all your data, notebooks, HTMLs and figures. Again, you can directly create this ZIP file in Jupyter, based on the latest git-version that we created above."
   ]
  },
  {
   "cell_type": "markdown",
   "id": "47d96e07-e696-470f-b971-c939a60292aa",
   "metadata": {
    "editable": true,
    "slideshow": {
     "slide_type": ""
    },
    "tags": []
   },
   "source": [
    "Remove any previous releases.\n",
    "\n",
    "- `!rm ../out/*.zip`: clean up from any previous releases. The `!` indicates that this is a `bash` command, not Python."
   ]
  },
  {
   "cell_type": "code",
   "execution_count": 2,
   "id": "a0a515b1-5564-4a88-9fcc-505dd28c6d3a",
   "metadata": {
    "editable": true,
    "slideshow": {
     "slide_type": ""
    },
    "tags": [
     "remove_output"
    ]
   },
   "outputs": [
    {
     "name": "stdout",
     "output_type": "stream",
     "text": [
      "rm: cannot remove '../out/*.zip': No such file or directory\n"
     ]
    }
   ],
   "source": [
    "!rm ../out/*.zip"
   ]
  },
  {
   "cell_type": "markdown",
   "id": "bf66aaf7-9404-4cae-95be-445495c82cae",
   "metadata": {
    "editable": true,
    "slideshow": {
     "slide_type": ""
    },
    "tags": []
   },
   "source": [
    "Create a new release `*.zip`.\n",
    "\n",
    "- `git config --system --add safe.directory '*'` makes sure that we are not asked to confirm different user owners in our repository\n",
    "- `RELEASE_VERSION=$(git describe --tags --abbrev=0)` gets the latest version tag from git\n",
    "- `7z a -tzip -mx=9 out/release_$RELEASE_VERSION.zip` compresses all files to a file with the version in the name\n",
    "- With `py/* out/* resources/* notebooks/*.ipynb` (etc.) we explicitly select the folders that we want to include in the release. Note that we explicitly _include_ the `00_data/` directory, which is not committed to the git repository itself (due to the `.gitignore` file)\n",
    "- at the end, we exclude a number of temporary files that we do not need to archive (`-x!py/__pycache__ -x!py/modules/__pycache__` etc.)\n",
    "- and we turn off any output logging by piping to `/dev/null`"
   ]
  },
  {
   "cell_type": "code",
   "execution_count": 3,
   "id": "f8dec315-1c76-4748-ae35-2e0098eba6cb",
   "metadata": {
    "editable": true,
    "slideshow": {
     "slide_type": ""
    },
    "tags": []
   },
   "outputs": [
    {
     "name": "stdout",
     "output_type": "stream",
     "text": [
      "CPU times: user 461 ms, sys: 83.2 ms, total: 544 ms\n",
      "Wall time: 1min 4s\n"
     ]
    }
   ],
   "source": [
    "%%time\n",
    "!cd .. && git config --system --add safe.directory '*' \\\n",
    "    && RELEASE_VERSION=$(git describe --tags --abbrev=0) \\\n",
    "    && 7z a -tzip -mx=9 out/release_$RELEASE_VERSION.zip \\\n",
    "    py/* out/* resources/* *.bib notebooks/*.ipynb 00_data/* \\\n",
    "    *.md *.yml *.ipynb nbconvert.tpl conf.json pyproject.toml \\\n",
    "    -x!py/__pycache__ -x!py/modules/__pycache__ -x!py/modules/.ipynb_checkpoints \\\n",
    "    -y > /dev/null"
   ]
  },
  {
   "cell_type": "markdown",
   "id": "4f9cc602-af88-4314-85d9-c0119475a960",
   "metadata": {},
   "source": [
    "```{admonition} <code>%%time</code>\n",
    ":class: hint\n",
    "Above, we activate the IPython `%%time` cell magic, to measure execution time of the cell. See [Built-in magic commands](https://ipython.readthedocs.io/en/stable/interactive/magics.html).\n",
    "```"
   ]
  },
  {
   "cell_type": "code",
   "execution_count": 4,
   "id": "e385a90f-cf5e-4a79-9059-421003e7a7ed",
   "metadata": {
    "editable": true,
    "slideshow": {
     "slide_type": ""
    },
    "tags": []
   },
   "outputs": [
    {
     "name": "stdout",
     "output_type": "stream",
     "text": [
      "-rw-r--r-- 1 root 1002 150M Apr  4 06:23 ../out/release_v1.2.0.zip\n"
     ]
    }
   ],
   "source": [
    "!RELEASE_VERSION=$(git describe --tags --abbrev=0) \\\n",
    "    && ls -alh ../out/release_$RELEASE_VERSION.zip"
   ]
  },
  {
   "cell_type": "markdown",
   "id": "13aadb20-5f8f-4ec4-a7f6-131ffc6e346b",
   "metadata": {
    "editable": true,
    "slideshow": {
     "slide_type": ""
    },
    "tags": []
   },
   "source": [
    "```{figure} ../resources/download.png\n",
    ":name: download-figure\n",
    "\n",
    "In the Explorer on the left, right click and select <kbd>download</kbd>. Archive this replication package with your data repository of choice.\n",
    "```"
   ]
  },
  {
   "cell_type": "markdown",
   "id": "a951abab-6834-48e0-851b-6a7b5879ab7d",
   "metadata": {
    "editable": true,
    "slideshow": {
     "slide_type": ""
    },
    "tags": []
   },
   "source": [
    "## List the directory file tree"
   ]
  },
  {
   "cell_type": "markdown",
   "id": "84a7b2d8-2e5f-4353-b67a-45813e02bcb0",
   "metadata": {
    "editable": true,
    "slideshow": {
     "slide_type": ""
    },
    "tags": []
   },
   "source": [
    "Before uploading data to a repository, it is useful to print a file tree of your current working directory. This will help others to understand how your files were organised at the time of execution. For example, you may have forgotten to add a data file to the repository which is in a folder which is also excluded with the `.gitignore` file. Without being transparent about where these files were and how they were named at the time of build, it would be impossible to reproduce your work."
   ]
  },
  {
   "cell_type": "markdown",
   "id": "c6b54a9d-e27c-4563-aa49-0b31847de330",
   "metadata": {},
   "source": [
    "There are several ways to do this. For example, you could create a file tree using a Jupyter cell and the bash command `!tree --prune -I \"_build|tmp\"`. This would output a tree of files, but exclude the `_build` and `tmp` directories, which only contain temporary files."
   ]
  },
  {
   "cell_type": "markdown",
   "id": "ff3ee6f6-303f-4fe2-bd6c-aa2ecd0a0b61",
   "metadata": {},
   "source": [
    "As an alternative, we wrote a Python method that does something similar, but with more formatting options."
   ]
  },
  {
   "cell_type": "code",
   "execution_count": 4,
   "id": "fcbbf1d7-7848-4b73-bf3f-8a408c750a3a",
   "metadata": {},
   "outputs": [],
   "source": [
    "import sys\n",
    "from pathlib import Path\n",
    "\n",
    "module_path = str(Path.cwd().parents[0] / \"py\")\n",
    "if module_path not in sys.path:\n",
    "    sys.path.append(module_path)\n",
    "from modules import tools"
   ]
  },
  {
   "cell_type": "code",
   "execution_count": 5,
   "id": "d45efd33-9abd-4193-aff7-6ce7c974a20d",
   "metadata": {},
   "outputs": [
    {
     "data": {
      "text/html": [
       "\n",
       "    <div>\n",
       "        <details><summary style='cursor: pointer;'><kbd>Directory file tree</kbd></summary>\n",
       "        <pre><code>├── .pandoc<br>│   ├── favicon-16x16.png<br>│   ├── favicon-32x32.png<br>│   ├── puppeteer-config.json<br>│   ├── readme.css<br>│   └── readme.html<br>├── 00_archive<br>│   └── training_material_V2.ipynb<br>├── 00_data<br>│   ├── Biotopwert.lyr<br>│   ├── Biotopwert_Biodiversität.zip<br>│   ├── Biotopwerte Dresden 2018 Readme .txt<br>│   ├── Biotopwerte_Dresden_2018.gdb<br>│   │   ├── gdb<br>│   │   └── timestamps<br>│   ├── Biotopwerte_Dresden_2018.gdb.zip<br>│   ├── Biotopwerte_Dresden_2028.geojson<br>│   ├── layers<br>│   │   ├── border.cpg<br>│   │   ├── border.dbf<br>│   │   ├── border.prj<br>│   │   ├── border.sbn<br>│   │   ├── border.sbx<br>│   │   ├── border.shp<br>│   │   ├── border.shp.xml<br>│   │   ├── border.shx<br>│   │   ├── jupyter<br>│   │   │   ├── .backups<br>│   │   │   ├── GpMessages<br>│   │   │   │   ├── 1062902488399400<br>│   │   │   │   ├── 182157637116700<br>│   │   │   │   ├── 182728101830000<br>│   │   │   │   ├── 781516502908100<br>│   │   │   │   ├── 781545702196000<br>│   │   │   │   ├── 781567889799900<br>│   │   │   │   ├── 784050473243400<br>│   │   │   │   └── 784070609910900<br>│   │   │   ├── ImportLog<br>│   │   │   │   └── 99ef2fccf7924127a137f258376d7cf5_Import.xml<br>│   │   │   ├── Index<br>│   │   │   │   └── jupyter_index<br>│   │   │   │       ├── Connections<br>│   │   │   │       ├── jupyter<br>│   │   │   │       │   ├── _0.cfe<br>│   │   │   │       │   ├── _0.cfs<br>│   │   │   │       │   ├── _0.si<br>│   │   │   │       │   ├── _0_1.del<br>│   │   │   │       │   ├── _1.cfe<br>│   │   │   │       │   ├── _1.cfs<br>│   │   │   │       │   ├── _1.si<br>│   │   │   │       │   ├── segments.gen<br>│   │   │   │       │   └── segments_2<br>│   │   │   │       └── Thumbnail<br>│   │   │   │           ├── -990349529.jpg<br>│   │   │   │           └── indx<br>│   │   │   ├── jupyter.aprx<br>│   │   │   ├── jupyter.atbx<br>│   │   │   └── jupyter.gdb<br>│   │   │       ├── gdb<br>│   │   │       └── timestamps<br>│   │   └── output<br>│   │       ├── clipped.cpg<br>│   │       ├── clipped.dbf<br>│   │       ├── clipped.prj<br>│   │       ├── clipped.shp<br>│   │       ├── clipped.shx<br>│   │       ├── clipped_layer.csv<br>│   │       └── clipped_layer_with_geometry.csv<br>│   ├── LBM2018_IS_DD_shp.zip<br>│   ├── LBM2018IS_DD.json<br>│   ├── LBM_2018_IS_DD.gdb.zip<br>│   ├── LBM_2018_IS_DD_gdb<br>│   │   └── LBM_2018_IS_DD.gdb<br>│   │       ├── gdb<br>│   │       └── timestamps<br>│   └── MANIFEST.TXT<br>├── _static<br>│   ├── custom.css<br>│   ├── images<br>│   │   ├── FDZ-Logo_EN_RGB-clr_bg-sol_mgn-full_h200px_web.svg<br>│   │   ├── FDZ-Logo_EN_RGB-wht_bg-tra_mgn-full_h200px_web.svg<br>│   │   ├── header.svg<br>│   │   ├── jupyter.svg<br>│   │   ├── NFDI_4_Biodiversity___Logo_Negativ_Kopie.png<br>│   │   └── NFDI_4_Biodiversity___Logo_Positiv_Kopie.png<br>│   ├── inter<br>│   │   ├── Inter-Black.woff2<br>│   │   ├── Inter-BlackItalic.woff2<br>│   │   ├── Inter-Bold.woff2<br>│   │   ├── Inter-BoldItalic.woff2<br>│   │   ├── Inter-ExtraBold.woff2<br>│   │   ├── Inter-ExtraBoldItalic.woff2<br>│   │   ├── Inter-ExtraLight.woff2<br>│   │   ├── Inter-ExtraLightItalic.woff2<br>│   │   ├── Inter-Italic.woff2<br>│   │   ├── Inter-Light.woff2<br>│   │   ├── Inter-LightItalic.woff2<br>│   │   ├── Inter-Medium.woff2<br>│   │   ├── Inter-MediumItalic.woff2<br>│   │   ├── Inter-Regular.woff2<br>│   │   ├── Inter-SemiBold.woff2<br>│   │   ├── Inter-SemiBoldItalic.woff2<br>│   │   ├── Inter-Thin.woff2<br>│   │   ├── Inter-ThinItalic.woff2<br>│   │   ├── inter.css<br>│   │   ├── InterDisplay-Black.woff2<br>│   │   ├── InterDisplay-BlackItalic.woff2<br>│   │   ├── InterDisplay-Bold.woff2<br>│   │   ├── InterDisplay-BoldItalic.woff2<br>│   │   ├── InterDisplay-ExtraBold.woff2<br>│   │   ├── InterDisplay-ExtraBoldItalic.woff2<br>│   │   ├── InterDisplay-ExtraLight.woff2<br>│   │   ├── InterDisplay-ExtraLightItalic.woff2<br>│   │   ├── InterDisplay-Italic.woff2<br>│   │   ├── InterDisplay-Light.woff2<br>│   │   ├── InterDisplay-LightItalic.woff2<br>│   │   ├── InterDisplay-Medium.woff2<br>│   │   ├── InterDisplay-MediumItalic.woff2<br>│   │   ├── InterDisplay-Regular.woff2<br>│   │   ├── InterDisplay-SemiBold.woff2<br>│   │   ├── InterDisplay-SemiBoldItalic.woff2<br>│   │   ├── InterDisplay-Thin.woff2<br>│   │   ├── InterDisplay-ThinItalic.woff2<br>│   │   ├── InterVariable-Italic.woff2<br>│   │   └── InterVariable.woff2<br>│   └── videos<br>│       ├── 20.mp4<br>│       └── recording_2025-02-06_155828.mp4<br>├── notebooks<br>│   ├── .gitkeep<br>│   ├── 00_toc.ipynb<br>│   ├── 00_toc.md<br>│   ├── 101_theory_chapters.ipynb<br>│   ├── 102_jupyter_notebooks.ipynb<br>│   ├── 201_example_introduction.ipynb<br>│   ├── 202_data_retrieval_gbif.ipynb<br>│   ├── 203_data_retrieval_monitor.ipynb<br>│   ├── 204_analysis.ipynb<br>│   ├── 205_publish.ipynb<br>│   ├── 301_accessing_data.ipynb<br>│   ├── 302_file_formats.ipynb<br>│   ├── 303_projections.ipynb<br>│   ├── 304_selecting_and_filtering.ipynb<br>│   ├── 305_mapping.ipynb<br>│   ├── 306_spatial_clipping.ipynb<br>│   ├── 307_merging_data.ipynb<br>│   ├── 308_spatial_overlays.ipynb<br>│   ├── 309_buffering.ipynb<br>│   ├── 310_statistics.ipynb<br>│   ├── 401_endmatter-thanks.ipynb<br>│   ├── 501_milvus_maps.ipynb<br>│   └── 502_geosocialmedia.ipynb<br>├── out<br>│   ├── 205_publish.html<br>│   ├── biodiversity_dresden.svg<br>│   ├── clipped.cpg<br>│   ├── clipped.dbf<br>│   ├── clipped.gdb<br>│   │   ├── gdb<br>│   │   └── timestamps<br>│   ├── clipped.gpkg<br>│   ├── clipped.prj<br>│   ├── clipped.shp<br>│   ├── clipped.shx<br>│   ├── clipped_dataset.csv<br>│   ├── clipped_layer.csv<br>│   ├── geoviews_map.html<br>│   ├── graph.png<br>│   ├── graph.svg<br>│   ├── header.png<br>│   ├── header.svg<br>│   ├── occurrences_query.csv<br>│   ├── occurrences_query_bak.csv<br>│   ├── S12RG_2023_200m.tiff<br>│   ├── saxony.gpkg<br>│   └── saxony_S12RG_2023_200m.tif<br>├── py<br>│   └── modules<br>│       ├── pkginstall.sh<br>│       └── tools.py<br>├── resources<br>│   ├── 01_edit_files.gif<br>│   ├── 02_git_extension.gif<br>│   ├── 03_stage_changes.gif<br>│   ├── 04_commit_message.gif<br>│   ├── 05_pull_changes.gif<br>│   ├── 06_push_changes.gif<br>│   ├── 07_ci_pipeline.webp<br>│   ├── 08_observe_changes.gif<br>│   ├── 094_Verdichtung.jpg<br>│   ├── 1.png<br>│   ├── 10.png<br>│   ├── 11.png<br>│   ├── 13.png<br>│   ├── 14.png<br>│   ├── 14_.png<br>│   ├── 15.png<br>│   ├── 15_.png<br>│   ├── 16.png<br>│   ├── 18.png<br>│   ├── 19.png<br>│   ├── 2.png<br>│   ├── 21.png<br>│   ├── 22-2.png<br>│   ├── 22.png<br>│   ├── 23.png<br>│   ├── 24.png<br>│   ├── 25.png<br>│   ├── 26.png<br>│   ├── 3.png<br>│   ├── 4.png<br>│   ├── 5.png<br>│   ├── 6.png<br>│   ├── 7.png<br>│   ├── 8.png<br>│   ├── 9.png<br>│   ├── admonition.webp<br>│   ├── cover_image.jpg<br>│   ├── download.png<br>│   ├── gbif_api_reference.png<br>│   ├── geosocial_patterns_de.png<br>│   ├── hide-tag.webp<br>│   ├── html<br>│   │   └── geoviews_map.html<br>│   ├── linguee.webp<br>│   ├── monitor.webp<br>│   ├── release.png<br>│   └── terminal.jpg<br>├── tests<br>│   └── link-check.sh<br>├── .env<br>├── .gitignore<br>├── .gitlab-ci.yml<br>├── .version<br>├── _config.yml<br>├── _toc.yml<br>├── CHANGELOG.md<br>├── conf.json<br>├── conf.py<br>├── CONTRIBUTING.md<br>├── favicon.ico<br>├── intro.ipynb<br>├── LICENSE.md<br>├── logo.svg<br>├── nbconvert.tpl<br>├── pyproject.toml<br>├── README.md<br>└── references.bib<br>\n",
       "30 directories, 218 files<br>.</code></pre>\n",
       "        </details>\n",
       "    </div>      \n",
       "    "
      ],
      "text/plain": [
       "<IPython.core.display.HTML object>"
      ]
     },
     "execution_count": 5,
     "metadata": {},
     "output_type": "execute_result"
    }
   ],
   "source": [
    "ignore_files_folders = [\"_build\", \"tmp\", \"et-book\"]\n",
    "ignore_match = [\"*.gdbtabl*\", \"*a0000000*\"]\n",
    "tools.tree(\n",
    "    Path.cwd().parents[0],\n",
    "    ignore_files_folders=ignore_files_folders, ignore_match=ignore_match)"
   ]
  },
  {
   "cell_type": "markdown",
   "id": "18f15f2b-2fef-4245-882b-d9ca412261f5",
   "metadata": {
    "editable": true,
    "slideshow": {
     "slide_type": ""
    },
    "tags": []
   },
   "source": [
    "- `Path.cwd().parents[0]` specifies the origin directory for the tree, which is the base path of our repository\n",
    "- `ignore_files_folders` is a list of full folder or file names that should not be listed\n",
    "- `ignore_match` is a list of wildcard patterns that can be used to exclude a wider range of files, such as most of the proprietary ESRI files in `*.gdb` folders."
   ]
  },
  {
   "cell_type": "markdown",
   "id": "81630eca-200b-4da6-ac53-65195ef2ed4c",
   "metadata": {
    "editable": true,
    "slideshow": {
     "slide_type": ""
    },
    "tags": []
   },
   "source": [
    "`````````{admonition} Use this file list in the <kbd>README.md</kbd> of your ioerDATA upload below\n",
    ":class: hint, dropdown\n",
    "Most scientific repositories will ask you to provide a list of files and descriptions. The directory tree returned by the above command can be used as a starting point. There are different ways of doing this. Often you will be asked to fill in a template with many fields. This can be tedious and time consuming, especially if you already have everything documented in Git, notebooks (etc). **In this particular case**, _where you already have most of the information you need_, it may be valid to consult an LLM to prepare the bulk of the metadata collection for you.\n",
    "\n",
    "```{admonition} Caution. Check your organisation's policy on the use of AI.\n",
    ":class: attention\n",
    "The suggestions below must be checked against your organisation's policy on the use of AI. You will also need to review any information returned by the AI tool.\n",
    "```\n",
    "\n",
    "For our data upload, we needed to fill out [the README.md template]() for ioerDATA (internal only). To pre-collect all the relevant information, we used the prompt below.\n",
    "\n",
    "``````\n",
    "I am preparing an upload to a scientific data repository that will generate a DOI for a Gitlab repository on \"IOER Jupyter-Book NFDI4Biodiversity training materials\".\n",
    "We call this a \"replication package\" because it contains everything needed to reproduce the work so that it can be archived and cited appropriately.\n",
    "\n",
    "During this upload, I am asked to fill in a README.md template with lots of fields and descriptions. I would like you to help me fill this out as well as possible.\n",
    "\n",
    "First I will give you some information about the project, then I will give you the draft README.md template to fill in.\n",
    "\n",
    "This is the directory structure:\n",
    "```\n",
    ".\n",
    "├── out\n",
    "│   ├── graph.svg\n",
    "│   ├── clipped.shp\n",
    "│   ├── occurrences_query_bak.csv\n",
    "│   ├── biodiversity_dresden.svg\n",
    "│   ├── clipped.shx\n",
    "│   ├── geoviews_map.html\n",
    "│   ├── clipped_dataset.csv\n",
    "│   ├── S12RG_2023_200m.tiff\n",
    "│   ├── header.svg\n",
    "│   ├── saxony.gpkg\n",
    "│   ├── clipped.dbf\n",
    "│   ├── saxony_S12RG_2023_200m.tif\n",
    "│   ├── clipped.gdb\n",
    "│   │   ├── timestamps\n",
    "│   │   └── gdb\n",
    "│   ├── clipped.gpkg\n",
    "│   ├── graph.png\n",
    "│   ├── 205_publish.html\n",
    "│   ├── header.png\n",
    "│   ├── release_v1.0.0.zip\n",
    "│   ├── clipped_layer.csv\n",
    "│   ├── clipped.prj\n",
    "│   ├── occurrences_query.csv\n",
    "│   └── clipped.cpg\n",
    "├── py\n",
    "│   └── modules\n",
    "│       ├── tools.py\n",
    "│       └── pkginstall.sh\n",
    "├── .env\n",
    "├── nbconvert.tpl\n",
    "├── README.md\n",
    "├── .pandoc\n",
    "│   ├── readme.css\n",
    "│   ├── favicon-32x32.png\n",
    "│   ├── favicon-16x16.png\n",
    "│   ├── readme.html\n",
    "│   └── puppeteer-config.json\n",
    "├── notebooks\n",
    "│   ├── 501_milvus_maps.ipynb\n",
    "│   ├── 201_example_introduction.ipynb\n",
    "│   ├── 308_spatial_overlays.ipynb\n",
    "│   ├── 204_analysis.ipynb\n",
    "│   ├── 307_merging_data.ipynb\n",
    "│   ├── 203_data_retrieval_monitor.ipynb\n",
    "│   ├── 502_geosocialmedia.ipynb\n",
    "│   ├── 304_selecting_and_filtering.ipynb\n",
    "│   ├── 301_accessing_data.ipynb\n",
    "│   ├── 00_toc.ipynb\n",
    "│   ├── 310_statistics.ipynb\n",
    "│   ├── 205_publish.ipynb\n",
    "│   ├── 303_projections.ipynb\n",
    "│   ├── 305_mapping.ipynb\n",
    "│   ├── 101_theory_chapters.ipynb\n",
    "│   ├── 306_spatial_clipping.ipynb\n",
    "│   ├── 302_file_formats.ipynb\n",
    "│   ├── 00_toc.md\n",
    "│   ├── 401_endmatter-thanks.ipynb\n",
    "│   ├── .gitkeep\n",
    "│   ├── 102_jupyter_notebooks.ipynb\n",
    "│   ├── 202_data_retrieval_gbif.ipynb\n",
    "│   └── 309_buffering.ipynb\n",
    "├── favicon.ico\n",
    "├── pyproject.toml\n",
    "├── .gitignore\n",
    "├── resources\n",
    "│   ├── 04_commit_message.gif\n",
    "│   ├── 14_.png\n",
    "│   ├── 02_git_extension.gif\n",
    "│   ├── 7.png\n",
    "│   ├── 22-2.png\n",
    "│   ├── 08_observe_changes.gif\n",
    "│   ├── 13.png\n",
    "│   ├── 26.png\n",
    "│   ├── gbif_api_reference.png\n",
    "│   ├── 6.png\n",
    "│   ├── 24.png\n",
    "│   ├── 23.png\n",
    "│   ├── 16.png\n",
    "│   ├── 21.png\n",
    "│   ├── geosocial_patterns_de.png\n",
    "│   ├── cover_image.jpg\n",
    "│   ├── 06_push_changes.gif\n",
    "│   ├── 094_Verdichtung.jpg\n",
    "│   ├── 3.png\n",
    "│   ├── 15.png\n",
    "│   ├── 25.png\n",
    "│   ├── 19.png\n",
    "│   ├── 10.png\n",
    "│   ├── 18.png\n",
    "│   ├── html\n",
    "│   │   └── geoviews_map.html\n",
    "│   ├── 01_edit_files.gif\n",
    "│   ├── linguee.webp\n",
    "│   ├── 05_pull_changes.gif\n",
    "│   ├── 1.png\n",
    "│   ├── 4.png\n",
    "│   ├── terminal.jpg\n",
    "│   ├── 8.png\n",
    "│   ├── admonition.webp\n",
    "│   ├── 03_stage_changes.gif\n",
    "│   ├── 5.png\n",
    "│   ├── 15_.png\n",
    "│   ├── release.png\n",
    "│   ├── 2.png\n",
    "│   ├── 14.png\n",
    "│   ├── 07_ci_pipeline.webp\n",
    "│   ├── 9.png\n",
    "│   ├── monitor.webp\n",
    "│   ├── hide-tag.webp\n",
    "│   ├── 11.png\n",
    "│   ├── 22.png\n",
    "│   └── download.png\n",
    "├── .gitlab-ci.yml\n",
    "├── _static\n",
    "│   ├── videos\n",
    "│   │   ├── 20.mp4\n",
    "│   │   └── recording_2025-02-06_155828.mp4\n",
    "│   ├── custom.css\n",
    "│   ├── images\n",
    "│   │   ├── NFDI_4_Biodiversity___Logo_Positiv_Kopie.png\n",
    "│   │   ├── FDZ-Logo_EN_RGB-wht_bg-tra_mgn-full_h200px_web.svg\n",
    "│   │   ├── header.svg\n",
    "│   │   ├── jupyter.svg\n",
    "│   │   ├── NFDI_4_Biodiversity___Logo_Negativ_Kopie.png\n",
    "│   │   └── FDZ-Logo_EN_RGB-clr_bg-sol_mgn-full_h200px_web.svg\n",
    "│   └── inter\n",
    "│       ├── Inter-ExtraLightItalic.woff2\n",
    "│       ├── InterDisplay-MediumItalic.woff2\n",
    "│       ├── inter.css\n",
    "│       ├── InterDisplay-ExtraBold.woff2\n",
    "│       ├── InterDisplay-Regular.woff2\n",
    "│       ├── Inter-Italic.woff2\n",
    "│       ├── Inter-Bold.woff2\n",
    "│       ├── InterDisplay-BoldItalic.woff2\n",
    "│       ├── InterDisplay-ExtraLightItalic.woff2\n",
    "│       ├── Inter-ExtraLight.woff2\n",
    "│       ├── Inter-Medium.woff2\n",
    "│       ├── InterDisplay-Thin.woff2\n",
    "│       ├── InterVariable-Italic.woff2\n",
    "│       ├── InterDisplay-Bold.woff2\n",
    "│       ├── Inter-Light.woff2\n",
    "│       ├── Inter-LightItalic.woff2\n",
    "│       ├── Inter-ExtraBold.woff2\n",
    "│       ├── Inter-MediumItalic.woff2\n",
    "│       ├── Inter-Black.woff2\n",
    "│       ├── InterDisplay-BlackItalic.woff2\n",
    "│       ├── InterDisplay-SemiBoldItalic.woff2\n",
    "│       ├── InterDisplay-Light.woff2\n",
    "│       ├── InterDisplay-Medium.woff2\n",
    "│       ├── Inter-SemiBold.woff2\n",
    "│       ├── InterDisplay-LightItalic.woff2\n",
    "│       ├── InterVariable.woff2\n",
    "│       ├── Inter-SemiBoldItalic.woff2\n",
    "│       ├── Inter-BlackItalic.woff2\n",
    "│       ├── InterDisplay-ExtraBoldItalic.woff2\n",
    "│       ├── InterDisplay-Italic.woff2\n",
    "│       ├── Inter-BoldItalic.woff2\n",
    "│       ├── Inter-ExtraBoldItalic.woff2\n",
    "│       ├── Inter-Thin.woff2\n",
    "│       ├── Inter-ThinItalic.woff2\n",
    "│       ├── InterDisplay-ExtraLight.woff2\n",
    "│       ├── Inter-Regular.woff2\n",
    "│       ├── InterDisplay-ThinItalic.woff2\n",
    "│       ├── InterDisplay-SemiBold.woff2\n",
    "│       └── InterDisplay-Black.woff2\n",
    "├── CHANGELOG.md\n",
    "├── logo.svg\n",
    "├── _toc.yml\n",
    "├── LICENSE.md\n",
    "├── _config.yml\n",
    "├── references.bib\n",
    "├── 00_data\n",
    "│   ├── MANIFEST.TXT\n",
    "│   ├── Biotopwert_Biodiversität.zip\n",
    "│   ├── Biotopwerte_Dresden_2028.geojson\n",
    "│   ├── LBM2018IS_DD.json\n",
    "│   ├── LBM2018_IS_DD_shp.zip\n",
    "│   ├── Biotopwerte_Dresden_2018.gdb.zip\n",
    "│   ├── LBM_2018_IS_DD_gdb\n",
    "│   │   └── LBM_2018_IS_DD.gdb\n",
    "│   │       ├── timestamps\n",
    "│   │       └── gdb\n",
    "│   ├── LBM_2018_IS_DD.gdb.zip\n",
    "│   ├── Biotopwerte Dresden 2018 Readme .txt\n",
    "│   ├── Biotopwert.lyr\n",
    "│   ├── Biotopwerte_Dresden_2018.gdb\n",
    "│   │   ├── timestamps\n",
    "│   │   └── gdb\n",
    "│   └── layers\n",
    "│       ├── border.sbx\n",
    "│       ├── border.dbf\n",
    "│       ├── border.sbn\n",
    "│       ├── border.shp.xml\n",
    "│       ├── border.prj\n",
    "│       ├── border.shx\n",
    "│       ├── output\n",
    "│       │   ├── clipped.shp\n",
    "│       │   ├── clipped_layer_with_geometry.csv\n",
    "│       │   ├── clipped.shx\n",
    "│       │   ├── clipped.dbf\n",
    "│       │   ├── clipped_layer.csv\n",
    "│       │   ├── clipped.prj\n",
    "│       │   └── clipped.cpg\n",
    "│       ├── jupyter\n",
    "│       │   ├── jupyter.aprx\n",
    "│       │   ├── jupyter.atbx\n",
    "│       │   ├── ImportLog\n",
    "│       │   │   └── 99ef2fccf7924127a137f258376d7cf5_Import.xml\n",
    "│       │   ├── Index\n",
    "│       │   │   └── jupyter_index\n",
    "│       │   │       ├── Thumbnail\n",
    "│       │   │       │   ├── indx\n",
    "│       │   │       │   └── -990349529.jpg\n",
    "│       │   │       ├── jupyter\n",
    "│       │   │       │   ├── _1.cfe\n",
    "│       │   │       │   ├── _0.cfs\n",
    "│       │   │       │   ├── _1.si\n",
    "│       │   │       │   ├── _0.cfe\n",
    "│       │   │       │   ├── segments.gen\n",
    "│       │   │       │   ├── segments_2\n",
    "│       │   │       │   ├── _1.cfs\n",
    "│       │   │       │   ├── _0.si\n",
    "│       │   │       │   └── _0_1.del\n",
    "│       │   │       └── Connections\n",
    "│       │   ├── jupyter.gdb\n",
    "│       │   │   ├── timestamps\n",
    "│       │   │   └── gdb\n",
    "│       │   ├── GpMessages\n",
    "│       │   │   ├── 781516502908100\n",
    "│       │   │   ├── 1062902488399400\n",
    "│       │   │   ├── 781545702196000\n",
    "│       │   │   ├── 182157637116700\n",
    "│       │   │   ├── 182728101830000\n",
    "│       │   │   ├── 784050473243400\n",
    "│       │   │   ├── 781567889799900\n",
    "│       │   │   └── 784070609910900\n",
    "│       │   └── .backups\n",
    "│       ├── border.shp\n",
    "│       └── border.cpg\n",
    "├── conf.json\n",
    "├── CONTRIBUTING.md\n",
    "├── intro.ipynb\n",
    "├── 00_archive\n",
    "│   └── training_material_V2.ipynb\n",
    "├── tests\n",
    "│   └── link-check.sh\n",
    "├── conf.py\n",
    "└── .version\n",
    "```\n",
    "\n",
    "This includes the CI&CD pipeline configuration (.gitlab-ci.yml) which converts Jupyter Notebooks (*.ipynb files) to Markdown and then via Myst to a static HTML website which is published at https://training.fdz.ioer.info/. You can read this website if you need more information, or you can access the Github repository at https://github.com/ioer-dresden/jupyter-book-nfdi4biodiversity.\n",
    "\n",
    "This is the current README.md:\n",
    "```\n",
    "# Replication Package: IOER Jupyter-Book NFDI4Biodiversity training materials\n",
    "\n",
    "## General Information\n",
    "\n",
    "- **Description:** \n",
    "    - `EN`: This is the archive replication package for the IOER Jupyter-Book NFDI4Biodiversity \n",
    "      training materials, available at https://training.fdz.ioer.info/ and in the git repository \n",
    "      https://gitlab.hrz.tu-chemnitz.de/ioer/fdz/jupyter-book-nfdi4biodiversity. The Jupyter \n",
    "      Book is designed to help students, researchers, scientists and enthusiasts get started \n",
    "      with data-driven research and good scientific practices for data handling and publication. \n",
    "      In particular, the Jupyter Book focuses on the use case of accessing biodiversity \n",
    "      data from the GBIF Application Programming Interface (API) and merging it with data \n",
    "      from the IOER Monitor API for spatial analysis and visualisation.\n",
    "    - `DE`: Dies ist das Archiv-Replikationspaket für das IÖR Jupyter-Buch NFDI4Biodiversity, \n",
    "      das unter https://training.fdz.ioer.info/ und im Git-Repository \n",
    "      https://gitlab.hrz.tu-chemnitz.de/ioer/fdz/jupyter-book-nfdi4biodiversity \n",
    "      verfügbar ist. Das Jupyter-Buch soll Studenten, Forschern, Wissenschaftlern und Enthusiasten \n",
    "      den Einstieg in die datengesteuerte Forschung und gute wissenschaftliche Praktiken \n",
    "      für die Datenverarbeitung und -veröffentlichung erleichtern. Das Jupyter-Buch konzentriert \n",
    "      sich insbesondere auf den Anwendungsfall des Zugriffs auf Biodiversitätsdaten aus \n",
    "      der GBIF-Anwendungsprogrammierschnittstelle (API) und deren Zusammenführung mit Daten \n",
    "      aus der IÖR-Monitor-API zur räumlichen Analyse und Visualisierung.\n",
    "\n",
    "- **Authors:** Claudia Dworczyk, Fatemeh Rafiei, Alexander Dunkel, Leibniz Institute of Ecological Urban and Regional Development, fdz@ioer.de\n",
    "- **Contributors:** Ralf-Uwe Syrbe (Funding Application, Project Coordination, Review), Stefano Della Chiesa (Input on Theory chapters, FAIR principles, Data Provenance)\n",
    "- **Data Actuality & Collection Date:** 2025-04-02\n",
    "- **Spatial extent:** Saxony (Focus), Germany\n",
    "- **Language:** English\n",
    "- **Related Datasets:**\n",
    "  - IOER Monitor Data Layer `S12RG` for the year 2023\n",
    "\n",
    "\n",
    "## Data and File Overview\n",
    "\n",
    "- **File Inventory:**\n",
    "  - `00_data`:\n",
    "    - base data files from the IOER Monitor and other spatial data\n",
    "  - `notebooks`:\n",
    "    - Jupyter notebooks `*.ipynb` files with interactive codebooks\n",
    "  - `out`:\n",
    "    - result files generated with Jupyter notebooks\n",
    "  - `py`:\n",
    "    - additional python modules used in notebooks\n",
    "  - `resources`:\n",
    "    - static resources (Figures, HTML conversion of notebooks) used in the training materials\n",
    "- **Versioning:**\n",
    "  - The repository is versioned with [python-semantic-release](https://python-semantic-release.readthedocs.io/en/latest/)\n",
    "  - This is the `1.0.0` release\n",
    "\n",
    "- **File Relationships:**\n",
    "  - All code is contained in notebooks\n",
    "  - Data is accessed from APIs (GBIF, IOER Monitor)\n",
    "  - If you want to replicate the environments itself, have a look at the instructions to use the [Carto-Lab Docker](https://training.fdz.ioer.info/notebooks/102_jupyter_notebooks.html#carto-lab-docker)\n",
    "  - For the `1.0.0` release of the training materials, we use [Carto-Lab Docker Version 0.26.1](https://cartolab.theplink.org/)\n",
    "- **Additional Materials:**\n",
    "  - A public mirror of the repository is published under [https://github.com/ioer-dresden/jupyter-book-nfdi4biodiversity](https://github.com/ioer-dresden/jupyter-book-nfdi4biodiversity)\n",
    "\n",
    "## Data-Specific Information\n",
    "\n",
    "_For each primary data file (e.g., datasets), provide:_\n",
    "\n",
    "### Filename \n",
    "\n",
    "[Name of the file]  \n",
    "\n",
    "- **Description:**  \n",
    "  - [Summary of the file's content and purpose]  \n",
    "- **Variables:**\n",
    "  - [List of variables/columns with definitions and units]\n",
    "- **Missing Data:**\n",
    "  - [Codes or symbols used to denote missing data]\n",
    "- **Specialized Formats:**\n",
    "  - [Information on any unique formats or abbreviations used]\n",
    "\n",
    "\n",
    "## Methodological Information\n",
    "\n",
    "- **Data Collection Methods:**\n",
    "  - [Describe procedures, protocols, and instruments used]\n",
    "- **Data Processing:**\n",
    "  - [Outline steps for data cleaning, transformation, and analysis]\n",
    "- **Software and Tools:**\n",
    "  - [Specify software, including versions and configurations, required to access or analyze the data]\n",
    "- **Quality Assurance:**\n",
    "  - [Detail measures taken to ensure data quality and integrity]\n",
    "- **Standards and Calibration:**\n",
    "  - [Provide information on any standards or calibration processes applied]\n",
    "- **Environmental or Experimental Conditions:**\n",
    "  - [Note any specific conditions under which data was collected]\n",
    "\n",
    "\n",
    "## Access and Usage Information\n",
    "\n",
    "- **Licensing:**\n",
    "  - [Specify the license under which the data is released]\n",
    "- **Access Restrictions:**\n",
    "  - [Detail any limitations on data access or use]\n",
    "- **Recommended Citation**\n",
    "\n",
    "\n",
    "## Acknowledgments\n",
    "- **Funding Sources:** [Details of funding bodies supporting the research]\n",
    "- [Recognize individuals, institutions, or organizations that contributed to the project or dataset]\n",
    "\n",
    "\n",
    "### Contact Information\n",
    "\n",
    "- **Primary Contact:**\n",
    "  - [Name, Institution, Email Address]\n",
    "- **Secondary Contact:**\n",
    "  - [Alternative contact details, if applicable]\n",
    "\n",
    "\n",
    "### Additional Notes\n",
    "- [Any other pertinent information that doesn't fit into the above categories]\n",
    "\n",
    "```\n",
    "``````\n",
    "\n",
    "\n",
    "This was the answer that was produced by the LLM.\n",
    "\n",
    "``````\n",
    "Okay, I can help you fill out this README.md template based on the information provided about your \"IOER Jupyter-Book NFDI4Biodiversity training materials\" repository.\n",
    "\n",
    "Here is the completed README.md template:\n",
    "\n",
    "# Replication Package: IOER Jupyter-Book NFDI4Biodiversity training materials\n",
    "\n",
    "## General Information\n",
    "\n",
    "-   **Description:**\n",
    "    -   `EN`: This is the archive replication package for the IOER Jupyter-Book NFDI4Biodiversity training materials, available at https://training.fdz.ioer.info/ and developed in the git repository https://gitlab.hrz.tu-chemnitz.de/ioer/fdz/jupyter-book-nfdi4biodiversity. The Jupyter Book is designed to help students, researchers, scientists and enthusiasts get started with data-driven research and good scientific practices for data handling and publication using Python and Jupyter notebooks. In particular, the Jupyter Book focuses on the use case of accessing biodiversity data from the GBIF Application Programming Interface (API) and merging it with spatial environmental data from the IOER Monitor API for spatial analysis and visualisation. This package contains the source code, example data, generated outputs (as of the archival date), and configuration files necessary to reproduce the training materials website and the analyses presented within the notebooks.\n",
    "    -   `DE`: Dies ist das Archiv-Replikationspaket für das IÖR Jupyter-Buch NFDI4Biodiversity Schulungsmaterial, das unter https://training.fdz.ioer.info/ verfügbar ist und im Git-Repository https://gitlab.hrz.tu-chemnitz.de/ioer/fdz/jupyter-book-nfdi4biodiversity entwickelt wurde. Das Jupyter-Buch soll Studenten, Forschern, Wissenschaftlern und Enthusiasten den Einstieg in die datengesteuerte Forschung und gute wissenschaftliche Praktiken für die Datenverarbeitung und -veröffentlichung mittels Python und Jupyter Notebooks erleichtern. Das Jupyter-Buch konzentriert sich insbesondere auf den Anwendungsfall des Zugriffs auf Biodiversitätsdaten aus der GBIF-Anwendungsprogrammierschnittstelle (API) und deren Zusammenführung mit räumlichen Umweltdaten aus der IÖR-Monitor-API zur räumlichen Analyse und Visualisierung. Dieses Paket enthält den Quellcode, Beispieldaten, generierte Ergebnisse (Stand des Archivierungsdatums) und Konfigurationsdateien, die notwendig sind, um die Website der Schulungsmaterialien und die in den Notebooks dargestellten Analysen zu reproduzieren.\n",
    "\n",
    "-   **Authors:** Claudia Dworczyk, Fatemeh Rafiei, Alexander Dunkel; Leibniz Institute of Ecological Urban and Regional Development (IOER), Research Data Centre (FDZ), fdz@ioer.de\n",
    "-   **Contributors:** Ralf-Uwe Syrbe (Funding Application, Project Coordination, Review), Stefano Della Chiesa (Input on Theory chapters, FAIR principles, Data Provenance)\n",
    "-   **Date of Archive Snapshot / Data Actuality:** 2025-04-02 (Note: Data retrieved from APIs like GBIF is dynamic; the results in the `out` directory reflect queries run around this date. Example base data in `00_data` has varying actuality dates.)\n",
    "-   **Spatial extent:** Saxony (Focus), Germany\n",
    "-   **Language:** English (Primary language of notebooks and materials), German (Description provided)\n",
    "-   **Related Datasets:**\n",
    "    -   IOER Monitor Data Layer `S12RG` (Degree of sealing) for the year 2023 (used as an example). Data accessed via IOER Monitor API.\n",
    "    -   GBIF Occurrence Data (accessed dynamically via GBIF API within notebooks).\n",
    "    -   Biotopwertdaten Dresden 2018 (Example data provided by Landeshauptstadt Dresden, Umweltamt).\n",
    "    -   Verwaltungsgrenzen Sachsen (Example data, Bundesamt für Kartographie und Geodäsie).\n",
    "\n",
    "## Data and File Overview\n",
    "\n",
    "-   **File Inventory:**\n",
    "    -   `notebooks/`: Contains the core content as Jupyter Notebook (`.ipynb`) files. These include theoretical explanations and practical coding exercises.\n",
    "    -   `00_data/`: Contains example base data files used in some notebooks, such as administrative boundaries (`layers/border.*`), Biotope data for Dresden (`Biotopwerte_Dresden_2018.*`, `LBM2018IS_DD.*`), and associated metadata/manifests.\n",
    "    -   `out/`: Contains example output files generated by running the code in the Jupyter notebooks (e.g., CSV files with queried data, GeoPackages/Shapefiles with processed spatial data, figures, HTML maps). These represent results from a specific run at the time of archival.\n",
    "    -   `py/modules/`: Contains auxiliary Python scripts (`.py`) with helper functions used within the notebooks to promote modularity. Includes `pkginstall.sh` for specific package handling.\n",
    "    -   `resources/`: Contains static image files (`.png`, `.gif`, `.webp`, `.jpg`) and other resources embedded within the notebooks or used in the documentation.\n",
    "    -   `_static/`: Contains static assets (CSS, fonts, images, videos) specifically for building the Jupyter Book HTML website output.\n",
    "    -   `_config.yml`, `_toc.yml`: Configuration files for the Jupyter Book build process, defining structure and metadata.\n",
    "    -   `pyproject.toml`: Defines Python project dependencies for reproducibility.\n",
    "    -   `.gitlab-ci.yml`: Configuration file for the GitLab CI/CD pipeline, automating the build and deployment of the Jupyter Book website.\n",
    "    -   `LICENSE.md`: Contains the license information for the repository content.\n",
    "    -   `README.md`: This file, providing an overview of the replication package.\n",
    "    -   `CONTRIBUTING.md`: Guidelines for contributing to the project.\n",
    "    -   `CHANGELOG.md`: Records changes across different versions.\n",
    "    -   Other configuration files (`.gitignore`, `.env`, `nbconvert.tpl`, etc.) supporting development and execution.\n",
    "\n",
    "-   **Versioning:**\n",
    "    -   The repository uses Git for version control.\n",
    "    -   Semantic Versioning is applied, managed with [python-semantic-release](https://python-semantic-release.readthedocs.io/en/latest/).\n",
    "    -   This replication package corresponds to **Version 1.0.0**.\n",
    "\n",
    "-   **File Relationships:**\n",
    "    -   The Jupyter notebooks in `notebooks/` are the primary source files containing both text and executable code.\n",
    "    -   Notebooks read input data primarily from external APIs (GBIF, IOER Monitor) or from example files in `00_data/`.\n",
    "    -   Running the code cells within the notebooks generates the output files found in `out/`.\n",
    "    -   Helper functions from `py/modules/` are imported and used within the notebooks.\n",
    "    -   The `.gitlab-ci.yml` script uses Jupyter Book (`_config.yml`, `_toc.yml`) to convert notebooks into an HTML website, using assets from `_static/` and `resources/`.\n",
    "    -   `pyproject.toml` lists the Python libraries required to execute the notebooks.\n",
    "\n",
    "-   **Additional Materials:**\n",
    "    -   The live, rendered version of these training materials is available at: [https://training.fdz.ioer.info/](https://training.fdz.ioer.info/)\n",
    "    -   A public mirror of the development repository is available on GitHub: [https://github.com/ioer-dresden/jupyter-book-nfdi4biodiversity](https://github.com/ioer-dresden/jupyter-book-nfdi4biodiversity)\n",
    "\n",
    "## Data-Specific Information\n",
    "\n",
    "This repository primarily contains code and educational text. Data is either used as examples, generated by the code, or accessed dynamically.\n",
    "\n",
    "### Example Input Data (subset in `00_data/`)\n",
    "\n",
    "-   **File(s):** `00_data/Biotopwerte_Dresden_2018.*`, `00_data/LBM2018IS_DD.*`, `00_data/layers/border.*` (various formats: GeoJSON, Shapefile, GDB, Zip archives)\n",
    "    -   **Description:** Geospatial data used in specific notebooks as examples for spatial analysis tasks. Includes biotope data for Dresden (Source: Landeshauptstadt Dresden, Umweltamt) and administrative boundaries for Saxony (Source: BKG). These serve as static examples for demonstrating geoprocessing techniques.\n",
    "    -   **Variables:** Refer to the original data source documentation (e.g., `Biotopwerte Dresden 2018 Readme .txt`) or explore interactively within the relevant notebooks (e.g., using GeoPandas). Variables typically include geometry, identifiers, and thematic attributes (e.g., biotope type, administrative codes).\n",
    "    -   **Missing Data:** Depends on the original data source conventions. Typically represented as `null`, `NaN`, or specific codes as documented by the provider.\n",
    "    -   **Specialized Formats:** Uses standard geospatial formats (Shapefile, GeoPackage, GeoJSON) and ESRI File Geodatabase (.gdb).\n",
    "\n",
    "### Generated Output Data (subset in `out/`)\n",
    "\n",
    "-   **File(s):** `out/occurrences_query.csv`, `out/clipped.gpkg`, `out/geoviews_map.html`, `out/graph.png`, etc.\n",
    "    -   **Description:** These files are the *results* of executing the code within the Jupyter notebooks. They represent data retrieved from APIs (e.g., GBIF occurrences), spatially processed data (e.g., clipped layers), or visualizations (maps, plots). They serve as examples of the output produced by the workflows taught. **Note:** These files will be overwritten or regenerated if the notebooks are executed again.\n",
    "    -   **Variables:** Defined by the specific operations within the notebooks. E.g., `occurrences_query.csv` contains columns from the GBIF API response; `clipped.gpkg` contains geospatial features resulting from clipping operations. Details are best understood by examining the code in the generating notebook.\n",
    "    -   **Missing Data:** Handled within the Python code (often as `NaN` in Pandas/GeoPandas DataFrames).\n",
    "    -   **Specialized Formats:** Standard formats like CSV, GeoPackage, Shapefile, PNG, SVG, HTML.\n",
    "\n",
    "### Dynamically Accessed Data (via APIs)\n",
    "\n",
    "-   **Description:** A core part of the training involves accessing data programmatically from external APIs:\n",
    "    -   **GBIF API:** Used to query and download species occurrence data.\n",
    "    -   **IOER Monitor API:** Used to access spatial indicators for Germany (e.g., land use, demographic data).\n",
    "    -   The specific data retrieved depends on the parameters used in the API calls within the notebooks (e.g., species name, geographic area, indicator ID, time period). This data is typically processed in memory or saved to files in the `out/` directory during notebook execution.\n",
    "\n",
    "## Methodological Information\n",
    "\n",
    "-   **Data Collection Methods:**\n",
    "    -   The methodology demonstrated involves programmatic data retrieval via REST APIs (GBIF, IOER Monitor) using HTTP requests, typically managed by Python libraries (`requests`, `httpx`).\n",
    "    -   Selection criteria (spatial bounding boxes, temporal ranges, specific taxa, indicator IDs) are defined within the Python code.\n",
    "    -   Example static datasets (e.g., Dresden Biotope data, Saxony boundaries) were obtained from relevant authorities (City of Dresden Environmental Agency, BKG) and are included for demonstration purposes.\n",
    "\n",
    "-   **Data Processing:**\n",
    "    -   The notebooks demonstrate a range of data processing and analysis techniques using Python libraries, primarily:\n",
    "        -   **Data Loading/Handling:** Pandas (tabular data), GeoPandas (geospatial vector data), Rasterio (geospatial raster data - implicitly via GeoPandas or for direct use), Xarray (potential for multi-dimensional raster data).\n",
    "        -   **Data Cleaning/Manipulation:** Filtering dataframes, handling missing values, data type conversions, joining/merging datasets (attribute joins, spatial joins).\n",
    "        -   **Geospatial Analysis:** Coordinate reference system (CRS) management and reprojection, spatial filtering, clipping, buffering, spatial overlays (intersection, union), zonal statistics.\n",
    "        -   **Visualization:** Creating static maps (Matplotlib, GeoPandas plot), interactive maps (Folium, GeoViews/HvPlot), and statistical plots (Matplotlib, Seaborn).\n",
    "    -   Code is organised into Jupyter Notebooks for interactive execution and explanation, with reusable functions placed in `py/modules/`.\n",
    "\n",
    "-   **Software and Tools:**\n",
    "    -   **Primary Language:** Python 3 (see `pyproject.toml` for specific dependencies and version constraints).\n",
    "    -   **Environment:** Jupyter Notebook / Jupyter Lab for interactive development and execution.\n",
    "    -   **Key Python Libraries:** `jupyter-book`, `pandas`, `geopandas`, `requests`, `matplotlib`, `seaborn`, `folium`, `geoviews`, `hvplot`, `rasterio`, `shapely`, `pyproj`, `xarray` (check `pyproject.toml` for the full list and versions).\n",
    "    -   **Recommended Execution Environment:** The training materials are developed and tested using the **[Carto-Lab Docker Environment](https://cartolab.theplink.org/)**, specifically **Version 0.26.1** for the `1.0.0` release of these materials. Instructions are provided in the materials: [Carto-Lab Docker Setup](https://training.fdz.ioer.info/notebooks/102_jupyter_notebooks.html#carto-lab-docker). This ensures all dependencies and system libraries are correctly configured.\n",
    "    -   **Website Generation:** Jupyter Book.\n",
    "    -   **Version Control:** Git, GitLab / GitHub.\n",
    "    -   **CI/CD:** GitLab CI.\n",
    "\n",
    "-   **Quality Assurance:**\n",
    "    -   Version control (Git) is used for tracking changes and collaboration.\n",
    "    -   Code is developed and tested interactively within Jupyter notebooks.\n",
    "    -   Modular code is encouraged through the use of helper functions in `py/modules/`.\n",
    "    -   The GitLab CI pipeline automatically builds the Jupyter Book website upon code changes, providing a basic check for build integrity.\n",
    "    -   The use of a defined Docker environment (Carto-Lab) promotes reproducibility.\n",
    "    -   Code includes comments and explanatory text within the notebooks.\n",
    "\n",
    "-   **Standards and Calibration:**\n",
    "    -   Uses standard data formats (CSV, GeoJSON, GeoPackage, Shapefile, TIFF/COG).\n",
    "    -   Interacts with standard web APIs (REST).\n",
    "    -   Follows common practices for geospatial data handling, including explicit CRS management (using EPSG codes) and transformations.\n",
    "\n",
    "-   **Environmental or Experimental Conditions:**\n",
    "    -   Not applicable for lab experiments. However, users should be aware that:\n",
    "        -   Data retrieved from external APIs (GBIF, IOER Monitor) is dynamic and may change over time. Results generated by re-running the notebooks may differ from the example outputs provided in the `out/` directory.\n",
    "        -   API availability and potential changes in API structure or terms of service can affect code execution.\n",
    "        -   Performance may vary based on the user's hardware and internet connection speed, especially for large data downloads or complex computations.\n",
    "\n",
    "## Access and Usage Information\n",
    "\n",
    "-   **Licensing:**\n",
    "    -   The content of this repository (code, text, notebooks) is licensed under the terms specified in the `LICENSE.md` file. Please refer to it for details. *(Self-check: Ensure LICENSE.md exists and contains a standard open license like MIT, CC-BY-4.0, or Apache 2.0)*.\n",
    "    -   Data accessed from external sources (GBIF, IOER Monitor, City of Dresden) is subject to the licensing terms of the respective providers. Users must ensure compliance with those terms.\n",
    "\n",
    "-   **Access Restrictions:**\n",
    "    -   The content of this repository is publicly accessible.\n",
    "    -   Accessing external APIs (GBIF, IOER Monitor) may be subject to rate limits, require user registration (especially for large GBIF downloads), or have specific terms of service that users must adhere to.\n",
    "\n",
    "-   **Recommended Citation:**\n",
    "    > Dworczyk, C., Rafiei, F., & Dunkel, A. (2025). *Replication Package: IOER Jupyter-Book NFDI4Biodiversity training materials* (Version 1.0.0) [Data set]. Leibniz Institute of Ecological Urban and Regional Development (IOER). [DOI will be provided here by the archive]\n",
    "\n",
    "    *Please replace \"[DOI will be provided here by the archive]\" with the actual DOI assigned upon publication.*\n",
    "\n",
    "## Acknowledgments\n",
    "\n",
    "-   **Funding Sources:** This work was developed within the context of the NFDI4Biodiversity consortium, funded by the German Research Foundation (DFG, project number 441926495). Development was carried out at the Leibniz Institute of Ecological Urban and Regional Development (IOER).\n",
    "-   **Acknowledgments:** We thank the providers of the data accessed and used as examples, including the Global Biodiversity Information Facility (GBIF), the data providers contributing to the IOER Monitor, the Landeshauptstadt Dresden (Umweltamt) for the Biotope data, and the Bundesamt für Kartographie und Geodäsie (BKG) for administrative boundaries. We also acknowledge the developers of the open-source software libraries and tools (Python, Jupyter, Pandas, GeoPandas, etc.) that made this work possible. Thanks to Ralf-Uwe Syrbe and Stefano Della Chiesa for their valuable contributions.\n",
    "\n",
    "### Contact Information\n",
    "\n",
    "-   **Primary Contact:**\n",
    "    -   Research Data Centre (FDZ), Leibniz Institute of Ecological Urban and Regional Development (IOER)\n",
    "    -   Email: fdz@ioer.de\n",
    "-   **Secondary Contact:**\n",
    "    -   Alexander Dunkel, Leibniz Institute of Ecological Urban and Regional Development (IOER)\n",
    "    -   Email: a.dunkel@ioer.de (for specific technical inquiries)\n",
    "\n",
    "### Additional Notes\n",
    "\n",
    "-   This repository serves as a snapshot (\"Replication Package\") of the training materials at version 1.0.0. For the latest version and ongoing development, please refer to the GitLab repository and the live website.\n",
    "-   The primary purpose is educational, demonstrating workflows for accessing, processing, and visualizing biodiversity and spatial environmental data.\n",
    "-   Users intending to replicate the results should ideally use the recommended Carto-Lab Docker environment to ensure compatibility. Be aware that results from dynamic API calls may differ from the archived examples.\n",
    "\n",
    "\n",
    "Key changes and considerations:\n",
    "\n",
    "Clarity on \"Replication Package\": Emphasized that this package contains the source to reproduce the training materials website and the analyses within, not just raw data.\n",
    "\n",
    "File Inventory: Provided more detail on the purpose of key configuration files (_config.yml, _toc.yml, pyproject.toml, .gitlab-ci.yml) and folders (_static).\n",
    "\n",
    "Data-Specific Information: Structured this section to distinguish between example input data (00_data), generated output data (out), and dynamically accessed data (APIs), which is crucial for understanding what's static vs. what's generated/fetched.\n",
    "\n",
    "Methodological Information: Focused on the methods taught and the tools used within the notebooks. Highlighted the key Python libraries and strongly recommended the Carto-Lab Docker environment for reproducibility.\n",
    "\n",
    "Software: Explicitly listed key libraries and the recommended Docker environment version.\n",
    "\n",
    "Access and Usage: Added a placeholder for the DOI and noted the need to check the LICENSE.md file. Also clarified potential access restrictions related to external APIs.\n",
    "\n",
    "Acknowledgments: Added acknowledgment of NFDI4Biodiversity funding (inferred from the name) and data/software providers.\n",
    "\n",
    "Contact: Provided both the general RDC email and a potential secondary contact for technical questions.\n",
    "\n",
    "General Refinements: Improved flow, added detail where needed, and ensured consistency. Used Markdown formatting effectively.\n",
    "\n",
    "Remember to replace [DOI will be provided here by the archive] with the actual DOI once you receive it from the data archive. You should also double-check the LICENSE.md file to ensure the statement about licensing is accurate.\n",
    "``````\n",
    "\n",
    "Compare this output with the final, manually curated version of the README.md that was published in ioerDATA (Dworczyk et al. 2025{cite:p}`dworczyk_replication_2025`).\n",
    "\n",
    "`````````"
   ]
  },
  {
   "cell_type": "markdown",
   "id": "b722e4d2-1c20-4006-b4c3-9e6efbbed655",
   "metadata": {
    "editable": true,
    "slideshow": {
     "slide_type": ""
    },
    "tags": []
   },
   "source": [
    "## ioerDATA\n",
    "\n",
    "With this file you are ready to upload your data to a data repository and create a DOI so that it can be properly archived, cited and referenced.\n",
    "\n",
    "The ioerDATA is one such repository. It is available to all IOER collaborators at [https://data.fdz.ioer.de](https://data.fdz.ioer.de)."
   ]
  },
  {
   "cell_type": "markdown",
   "id": "7019716a-8482-4aee-8df4-ff1d3deb67f6",
   "metadata": {
    "editable": true,
    "slideshow": {
     "slide_type": ""
    },
    "tags": []
   },
   "source": [
    "```{admonition} See the ioerDATA documentation\n",
    ":class: hint\n",
    "If you are an IOER colleague, have a look at the (internal) ioerDATA documentation at [https://docs.fdz.ioer.info/documentation/ioerdata/](https://docs.fdz.ioer.info/documentation/ioerdata/).\n",
    "```"
   ]
  },
  {
   "cell_type": "markdown",
   "id": "5af30291-22ac-4872-b3a8-5b55169f1cec",
   "metadata": {
    "editable": true,
    "slideshow": {
     "slide_type": ""
    },
    "tags": []
   },
   "source": [
    "Other data repositories include [Zenodo](https://zenodo.org/)."
   ]
  },
  {
   "cell_type": "markdown",
   "id": "383d79af-52e7-4b9b-9115-5c0f466ad1b7",
   "metadata": {
    "editable": true,
    "slideshow": {
     "slide_type": ""
    },
    "tags": []
   },
   "source": [
    "See the data publication for this work by Dworczyk et al. 2025{cite:p}`dworczyk_replication_2025`."
   ]
  },
  {
   "cell_type": "markdown",
   "id": "17470595-29cb-4d24-bdd5-c09195b87a09",
   "metadata": {
    "editable": true,
    "slideshow": {
     "slide_type": ""
    },
    "tags": []
   },
   "source": [
    "## Publishing code\n",
    "\n",
    "In addition to a data repository, you can (and should!) make your git repository available through (for example) Gitlab or Github. If you are in the middle of peer review, you may want to temporarily remove or redact any names.\n",
    "\n",
    "```{admonition} Using Github pages\n",
    ":class: hint\n",
    "You can configure Github to publish your HTML converted notebooks to Github Pages at github.io. See the [Quickstart for GitHub Pages](https://docs.github.com/en/pages/quickstart).\n",
    "```\n",
    "\n",
    "✨ Then, spread the love! 💖 Share your notebook links with others on social media 📢, in communities 🤝, and beyond! 🚀"
   ]
  },
  {
   "cell_type": "markdown",
   "id": "57cf8e2a-52ed-4e21-bfd5-695a797855a0",
   "metadata": {
    "editable": true,
    "slideshow": {
     "slide_type": ""
    },
    "tags": []
   },
   "source": [
    "## References\n",
    "\n",
    "```{bibliography}\n",
    ":style: unsrt\n",
    ":filter: docname in docnames\n",
    "```"
   ]
  },
  {
   "cell_type": "code",
   "execution_count": null,
   "id": "0703ca41-0453-4339-8da4-58c2f3906f6f",
   "metadata": {
    "editable": true,
    "slideshow": {
     "slide_type": ""
    },
    "tags": []
   },
   "outputs": [],
   "source": []
  }
 ],
 "metadata": {
  "kernelspec": {
   "display_name": "worker_env",
   "language": "python",
   "name": "worker_env"
  },
  "language_info": {
   "codemirror_mode": {
    "name": "ipython",
    "version": 3
   },
   "file_extension": ".py",
   "mimetype": "text/x-python",
   "name": "python",
   "nbconvert_exporter": "python",
   "pygments_lexer": "ipython3",
   "version": "3.11.6"
  }
 },
 "nbformat": 4,
 "nbformat_minor": 5
}
