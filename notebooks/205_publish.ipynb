{
 "cells": [
  {
   "cell_type": "markdown",
   "id": "5d7a6e6c-07d1-4531-92c0-b9e43c8bbaaf",
   "metadata": {
    "editable": true,
    "slideshow": {
     "slide_type": ""
    },
    "tags": []
   },
   "source": [
    "# Publishing\n",
    "\n",
    "Publishing your results can mean several things:\n",
    "- writing a manuscript and submitting the results to a journal for (double-blind) peer review\n",
    "- creating a data publication, ideally submitted with your text manuscript, for data transparency & reproducibility\n",
    "- publish your git repository, making it available for others to find and read your notebooks\n",
    "\n",
    "We provide a short step-by-step guide on how to publish Jupyter notebooks together with the generated visuals and output as a data publication."
   ]
  },
  {
   "cell_type": "markdown",
   "id": "4b727357-12d4-454d-a9eb-13e0a58d281f",
   "metadata": {
    "editable": true,
    "slideshow": {
     "slide_type": ""
    },
    "tags": []
   },
   "source": [
    "## Publish data\n",
    "\n",
    "### Make a release version\n",
    "\n",
    "When you are finished with your work, e.g. before submitting your manuscript for the first round of review, create a git release for your notebook repository and give it a version number:\n",
    "```bash\n",
    "git tag -a v1.0.0 -m \"Major release before submitting to Journal\"\n",
    "git push --tags\n",
    "```\n",
    "\n",
    "```{hint}\n",
    "This adds a marker to your Git repository that can be easily found and referenced at any later stage. If you submit a minor or major revision at a later date, add another version tag to describe your progress.\n",
    "```\n",
    "\n",
    "After pushing your tag to Github or Gitlab, you can (and should!) create a **Release** from it, where you can attach data and other output information. Releases can be [cited with (e.g.) Zenodo or ioerDATA](#ioerdata).\n",
    "\n",
    "```{figure} ../resources/release.png\n",
    ":name: gitlab-release\n",
    "\n",
    "A release from our [Gitlab repository](https://gitlab.hrz.tu-chemnitz.de/ioer/fdz/jupyter-book-nfdi4biodiversity/-/releases) based on the version <code>v0.6.5</code>-tag of the training materials.\n",
    "````\n"
   ]
  },
  {
   "cell_type": "markdown",
   "id": "dd3cb13e-f803-41f1-99a1-35745261cda3",
   "metadata": {
    "editable": true,
    "slideshow": {
     "slide_type": ""
    },
    "tags": []
   },
   "source": [
    "## Create HTML versions of all your notebooks"
   ]
  },
  {
   "cell_type": "markdown",
   "id": "9eeaf151-1f47-4b7d-918e-dbbaece88298",
   "metadata": {
    "editable": true,
    "slideshow": {
     "slide_type": ""
    },
    "tags": []
   },
   "source": [
    "This is an optional step, but recommended because reviewers may not have Jupyter Lab to open your `*.ipynb` notebooks. By converting notebooks to HTML format, you can archive any code together with the generated visuals. You can convert notebooks directly in Jupyter with the below command:"
   ]
  },
  {
   "cell_type": "code",
   "execution_count": 1,
   "id": "2addccf4-58d4-49fe-8fab-d5fe93e57474",
   "metadata": {
    "editable": true,
    "slideshow": {
     "slide_type": ""
    },
    "tags": []
   },
   "outputs": [
    {
     "name": "stdout",
     "output_type": "stream",
     "text": [
      "[NbConvertApp] Converting notebook ./205_publish.ipynb to html_toc\n",
      "[NbConvertApp] Writing 306783 bytes to ../out/205_publish.html\n"
     ]
    }
   ],
   "source": [
    "!jupyter nbconvert --to html_toc \\\n",
    "    --output-dir=../out/ ./205_publish.ipynb \\\n",
    "    --template=../nbconvert.tpl \\\n",
    "    --ExtractOutputPreprocessor.enabled=False"
   ]
  },
  {
   "cell_type": "markdown",
   "id": "2c058d98-7f20-42ae-a13f-0ac9b7a33d58",
   "metadata": {
    "editable": true,
    "slideshow": {
     "slide_type": ""
    },
    "tags": []
   },
   "source": [
    "```{admonition} Add conversion command at the end of every notebook\n",
    ":class: hint\n",
    "It is a good idea to add this command to every notebook, so it is run after every notebook change.\n",
    "```"
   ]
  },
  {
   "cell_type": "markdown",
   "id": "8f5f17eb-7ac2-4f6c-84b5-884a4622327f",
   "metadata": {
    "editable": true,
    "slideshow": {
     "slide_type": ""
    },
    "tags": []
   },
   "source": [
    "```{admonition} Attach the static HTML files to your publication\n",
    ":class: note\n",
    "These HTML versions of the notebooks are ideal for attaching directly to your publications as Supplementary Materials (SM). They are like a portable archive version that contains your documentation, code and output graphics at the time of publication. This is the most important information and should be attached directly to your paper. This also helps reviewers to have a look at your workflow if they do not want to run the notebooks themselves.\n",
    "\n",
    "In addition to these HTML files, the original notebook files (<kbd>\\*.ipynb</kbd>) and accompanying data should be made available in a proper data publication, which we show below.\n",
    "```"
   ]
  },
  {
   "cell_type": "markdown",
   "id": "608d61da-4a32-4658-ba08-e26227aa08e9",
   "metadata": {
    "editable": true,
    "slideshow": {
     "slide_type": ""
    },
    "tags": []
   },
   "source": [
    "### Create a zip file with all your output data\n",
    "\n",
    "When you have exported all notebook HTMLs and Figures, create a ZIP file that includes all your data, notebooks, HTMLs and figures. Again, you can directly create this ZIP file in Jupyter, based on the latest git-version that we created above."
   ]
  },
  {
   "cell_type": "markdown",
   "id": "47d96e07-e696-470f-b971-c939a60292aa",
   "metadata": {
    "editable": true,
    "slideshow": {
     "slide_type": ""
    },
    "tags": []
   },
   "source": [
    "Remove any previous releases.\n",
    "\n",
    "- `!rm ../out/*.zip`: clean up from any previous releases. The `!` indicates that this is a `bash` command, not Python."
   ]
  },
  {
   "cell_type": "code",
   "execution_count": 2,
   "id": "a0a515b1-5564-4a88-9fcc-505dd28c6d3a",
   "metadata": {
    "editable": true,
    "slideshow": {
     "slide_type": ""
    },
    "tags": [
     "remove_output"
    ]
   },
   "outputs": [
    {
     "name": "stdout",
     "output_type": "stream",
     "text": [
      "rm: cannot remove '../out/*.zip': No such file or directory\n"
     ]
    }
   ],
   "source": [
    "!rm ../out/*.zip"
   ]
  },
  {
   "cell_type": "markdown",
   "id": "bf66aaf7-9404-4cae-95be-445495c82cae",
   "metadata": {
    "editable": true,
    "slideshow": {
     "slide_type": ""
    },
    "tags": []
   },
   "source": [
    "Create a new release `*.zip`.\n",
    "\n",
    "- `git config --system --add safe.directory '*'` makes sure that we are not asked to confirm different user owners in our repository\n",
    "- `RELEASE_VERSION=$(git describe --tags --abbrev=0)` gets the latest version tag from git\n",
    "- `7z a -tzip -mx=9 out/release_$RELEASE_VERSION.zip` compresses all files to a file with the version in the name\n",
    "- With `py/* out/* resources/* notebooks/*.ipynb` (etc.) we explicitly select the folders that we want to include in the release. Note that we explicitly _include_ the `00_data/` directory, which is not committed to the git repository itself (due to the `.gitignore` file)\n",
    "- at the end, we exclude a number of temporary files that we do not need to archive (`-x!py/__pycache__ -x!py/modules/__pycache__` etc.)\n",
    "- and we turn off any output logging by piping to `/dev/null`"
   ]
  },
  {
   "cell_type": "code",
   "execution_count": 3,
   "id": "f8dec315-1c76-4748-ae35-2e0098eba6cb",
   "metadata": {
    "editable": true,
    "slideshow": {
     "slide_type": ""
    },
    "tags": []
   },
   "outputs": [
    {
     "name": "stdout",
     "output_type": "stream",
     "text": [
      "CPU times: user 461 ms, sys: 83.2 ms, total: 544 ms\n",
      "Wall time: 1min 4s\n"
     ]
    }
   ],
   "source": [
    "%%time\n",
    "!cd .. && git config --system --add safe.directory '*' \\\n",
    "    && RELEASE_VERSION=$(git describe --tags --abbrev=0) \\\n",
    "    && 7z a -tzip -mx=9 out/release_$RELEASE_VERSION.zip \\\n",
    "    py/* out/* resources/* *.bib notebooks/*.ipynb 00_data/* \\\n",
    "    *.md *.yml *.ipynb nbconvert.tpl conf.json pyproject.toml \\\n",
    "    -x!py/__pycache__ -x!py/modules/__pycache__ -x!py/modules/.ipynb_checkpoints \\\n",
    "    -y > /dev/null"
   ]
  },
  {
   "cell_type": "markdown",
   "id": "4f9cc602-af88-4314-85d9-c0119475a960",
   "metadata": {},
   "source": [
    "```{admonition} <code>%%time</code>\n",
    ":class: hint\n",
    "Above, we activate the IPython `%%time` cell magic, to measure execution time of the cell. See [Built-in magic commands](https://ipython.readthedocs.io/en/stable/interactive/magics.html).\n",
    "```"
   ]
  },
  {
   "cell_type": "code",
   "execution_count": 4,
   "id": "e385a90f-cf5e-4a79-9059-421003e7a7ed",
   "metadata": {
    "editable": true,
    "slideshow": {
     "slide_type": ""
    },
    "tags": []
   },
   "outputs": [
    {
     "name": "stdout",
     "output_type": "stream",
     "text": [
      "-rw-r--r-- 1 root 1002 150M Apr  4 06:23 ../out/release_v1.2.0.zip\n"
     ]
    }
   ],
   "source": [
    "!RELEASE_VERSION=$(git describe --tags --abbrev=0) \\\n",
    "    && ls -alh ../out/release_$RELEASE_VERSION.zip"
   ]
  },
  {
   "cell_type": "markdown",
   "id": "13aadb20-5f8f-4ec4-a7f6-131ffc6e346b",
   "metadata": {
    "editable": true,
    "slideshow": {
     "slide_type": ""
    },
    "tags": []
   },
   "source": [
    "```{figure} ../resources/download.png\n",
    ":name: download-figure\n",
    "\n",
    "In the Explorer on the left, right click and select <kbd>download</kbd>. Archive this replication package with your data repository of choice.\n",
    "```"
   ]
  },
  {
   "cell_type": "markdown",
   "id": "a951abab-6834-48e0-851b-6a7b5879ab7d",
   "metadata": {},
   "source": [
    "### List the directory file tree"
   ]
  },
  {
   "cell_type": "markdown",
   "id": "84a7b2d8-2e5f-4353-b67a-45813e02bcb0",
   "metadata": {},
   "source": [
    "Before uploading data to a repository, it is useful to print a file tree of your current working directory. This will help others to understand how your files were organised at the time of execution. For example, you may have forgotten to add a data file to the repository which is in a folder which is also excluded with the `.gitignore` file. Without being transparent about where these files were and how they were named at the time of build, it would be impossible to reproduce your work."
   ]
  },
  {
   "cell_type": "markdown",
   "id": "c6b54a9d-e27c-4563-aa49-0b31847de330",
   "metadata": {},
   "source": [
    "There are several ways to do this. For example, you could create a file tree using a Jupyter cell and the bash command `!tree --prune -I \"_build|tmp\"`. This would output a tree of files, but exclude the `_build` and `tmp` directories, which only contain temporary files."
   ]
  },
  {
   "cell_type": "markdown",
   "id": "ff3ee6f6-303f-4fe2-bd6c-aa2ecd0a0b61",
   "metadata": {},
   "source": [
    "As an alternative, we wrote a Python method that does something similar, but with more formatting options."
   ]
  },
  {
   "cell_type": "code",
   "execution_count": 4,
   "id": "fcbbf1d7-7848-4b73-bf3f-8a408c750a3a",
   "metadata": {},
   "outputs": [],
   "source": [
    "import sys\n",
    "from pathlib import Path\n",
    "\n",
    "module_path = str(Path.cwd().parents[0] / \"py\")\n",
    "if module_path not in sys.path:\n",
    "    sys.path.append(module_path)\n",
    "from modules import tools"
   ]
  },
  {
   "cell_type": "code",
   "execution_count": 5,
   "id": "d45efd33-9abd-4193-aff7-6ce7c974a20d",
   "metadata": {},
   "outputs": [
    {
     "data": {
      "text/html": [
       "\n",
       "    <div>\n",
       "        <details><summary style='cursor: pointer;'><kbd>Directory file tree</kbd></summary>\n",
       "        <pre><code>├── .pandoc<br>│   ├── favicon-16x16.png<br>│   ├── favicon-32x32.png<br>│   ├── puppeteer-config.json<br>│   ├── readme.css<br>│   └── readme.html<br>├── 00_archive<br>│   └── training_material_V2.ipynb<br>├── 00_data<br>│   ├── Biotopwert.lyr<br>│   ├── Biotopwert_Biodiversität.zip<br>│   ├── Biotopwerte Dresden 2018 Readme .txt<br>│   ├── Biotopwerte_Dresden_2018.gdb<br>│   │   ├── gdb<br>│   │   └── timestamps<br>│   ├── Biotopwerte_Dresden_2018.gdb.zip<br>│   ├── Biotopwerte_Dresden_2028.geojson<br>│   ├── layers<br>│   │   ├── border.cpg<br>│   │   ├── border.dbf<br>│   │   ├── border.prj<br>│   │   ├── border.sbn<br>│   │   ├── border.sbx<br>│   │   ├── border.shp<br>│   │   ├── border.shp.xml<br>│   │   ├── border.shx<br>│   │   ├── jupyter<br>│   │   │   ├── .backups<br>│   │   │   ├── GpMessages<br>│   │   │   │   ├── 1062902488399400<br>│   │   │   │   ├── 182157637116700<br>│   │   │   │   ├── 182728101830000<br>│   │   │   │   ├── 781516502908100<br>│   │   │   │   ├── 781545702196000<br>│   │   │   │   ├── 781567889799900<br>│   │   │   │   ├── 784050473243400<br>│   │   │   │   └── 784070609910900<br>│   │   │   ├── ImportLog<br>│   │   │   │   └── 99ef2fccf7924127a137f258376d7cf5_Import.xml<br>│   │   │   ├── Index<br>│   │   │   │   └── jupyter_index<br>│   │   │   │       ├── Connections<br>│   │   │   │       ├── jupyter<br>│   │   │   │       │   ├── _0.cfe<br>│   │   │   │       │   ├── _0.cfs<br>│   │   │   │       │   ├── _0.si<br>│   │   │   │       │   ├── _0_1.del<br>│   │   │   │       │   ├── _1.cfe<br>│   │   │   │       │   ├── _1.cfs<br>│   │   │   │       │   ├── _1.si<br>│   │   │   │       │   ├── segments.gen<br>│   │   │   │       │   └── segments_2<br>│   │   │   │       └── Thumbnail<br>│   │   │   │           ├── -990349529.jpg<br>│   │   │   │           └── indx<br>│   │   │   ├── jupyter.aprx<br>│   │   │   ├── jupyter.atbx<br>│   │   │   └── jupyter.gdb<br>│   │   │       ├── gdb<br>│   │   │       └── timestamps<br>│   │   └── output<br>│   │       ├── clipped.cpg<br>│   │       ├── clipped.dbf<br>│   │       ├── clipped.prj<br>│   │       ├── clipped.shp<br>│   │       ├── clipped.shx<br>│   │       ├── clipped_layer.csv<br>│   │       └── clipped_layer_with_geometry.csv<br>│   ├── LBM2018_IS_DD_shp.zip<br>│   ├── LBM2018IS_DD.json<br>│   ├── LBM_2018_IS_DD.gdb.zip<br>│   ├── LBM_2018_IS_DD_gdb<br>│   │   └── LBM_2018_IS_DD.gdb<br>│   │       ├── gdb<br>│   │       └── timestamps<br>│   └── MANIFEST.TXT<br>├── _static<br>│   ├── custom.css<br>│   ├── images<br>│   │   ├── FDZ-Logo_EN_RGB-clr_bg-sol_mgn-full_h200px_web.svg<br>│   │   ├── FDZ-Logo_EN_RGB-wht_bg-tra_mgn-full_h200px_web.svg<br>│   │   ├── header.svg<br>│   │   ├── jupyter.svg<br>│   │   ├── NFDI_4_Biodiversity___Logo_Negativ_Kopie.png<br>│   │   └── NFDI_4_Biodiversity___Logo_Positiv_Kopie.png<br>│   ├── inter<br>│   │   ├── Inter-Black.woff2<br>│   │   ├── Inter-BlackItalic.woff2<br>│   │   ├── Inter-Bold.woff2<br>│   │   ├── Inter-BoldItalic.woff2<br>│   │   ├── Inter-ExtraBold.woff2<br>│   │   ├── Inter-ExtraBoldItalic.woff2<br>│   │   ├── Inter-ExtraLight.woff2<br>│   │   ├── Inter-ExtraLightItalic.woff2<br>│   │   ├── Inter-Italic.woff2<br>│   │   ├── Inter-Light.woff2<br>│   │   ├── Inter-LightItalic.woff2<br>│   │   ├── Inter-Medium.woff2<br>│   │   ├── Inter-MediumItalic.woff2<br>│   │   ├── Inter-Regular.woff2<br>│   │   ├── Inter-SemiBold.woff2<br>│   │   ├── Inter-SemiBoldItalic.woff2<br>│   │   ├── Inter-Thin.woff2<br>│   │   ├── Inter-ThinItalic.woff2<br>│   │   ├── inter.css<br>│   │   ├── InterDisplay-Black.woff2<br>│   │   ├── InterDisplay-BlackItalic.woff2<br>│   │   ├── InterDisplay-Bold.woff2<br>│   │   ├── InterDisplay-BoldItalic.woff2<br>│   │   ├── InterDisplay-ExtraBold.woff2<br>│   │   ├── InterDisplay-ExtraBoldItalic.woff2<br>│   │   ├── InterDisplay-ExtraLight.woff2<br>│   │   ├── InterDisplay-ExtraLightItalic.woff2<br>│   │   ├── InterDisplay-Italic.woff2<br>│   │   ├── InterDisplay-Light.woff2<br>│   │   ├── InterDisplay-LightItalic.woff2<br>│   │   ├── InterDisplay-Medium.woff2<br>│   │   ├── InterDisplay-MediumItalic.woff2<br>│   │   ├── InterDisplay-Regular.woff2<br>│   │   ├── InterDisplay-SemiBold.woff2<br>│   │   ├── InterDisplay-SemiBoldItalic.woff2<br>│   │   ├── InterDisplay-Thin.woff2<br>│   │   ├── InterDisplay-ThinItalic.woff2<br>│   │   ├── InterVariable-Italic.woff2<br>│   │   └── InterVariable.woff2<br>│   └── videos<br>│       ├── 20.mp4<br>│       └── recording_2025-02-06_155828.mp4<br>├── notebooks<br>│   ├── .gitkeep<br>│   ├── 00_toc.ipynb<br>│   ├── 00_toc.md<br>│   ├── 101_theory_chapters.ipynb<br>│   ├── 102_jupyter_notebooks.ipynb<br>│   ├── 201_example_introduction.ipynb<br>│   ├── 202_data_retrieval_gbif.ipynb<br>│   ├── 203_data_retrieval_monitor.ipynb<br>│   ├── 204_analysis.ipynb<br>│   ├── 205_publish.ipynb<br>│   ├── 301_accessing_data.ipynb<br>│   ├── 302_file_formats.ipynb<br>│   ├── 303_projections.ipynb<br>│   ├── 304_selecting_and_filtering.ipynb<br>│   ├── 305_mapping.ipynb<br>│   ├── 306_spatial_clipping.ipynb<br>│   ├── 307_merging_data.ipynb<br>│   ├── 308_spatial_overlays.ipynb<br>│   ├── 309_buffering.ipynb<br>│   ├── 310_statistics.ipynb<br>│   ├── 401_endmatter-thanks.ipynb<br>│   ├── 501_milvus_maps.ipynb<br>│   └── 502_geosocialmedia.ipynb<br>├── out<br>│   ├── 205_publish.html<br>│   ├── biodiversity_dresden.svg<br>│   ├── clipped.cpg<br>│   ├── clipped.dbf<br>│   ├── clipped.gdb<br>│   │   ├── gdb<br>│   │   └── timestamps<br>│   ├── clipped.gpkg<br>│   ├── clipped.prj<br>│   ├── clipped.shp<br>│   ├── clipped.shx<br>│   ├── clipped_dataset.csv<br>│   ├── clipped_layer.csv<br>│   ├── geoviews_map.html<br>│   ├── graph.png<br>│   ├── graph.svg<br>│   ├── header.png<br>│   ├── header.svg<br>│   ├── occurrences_query.csv<br>│   ├── occurrences_query_bak.csv<br>│   ├── S12RG_2023_200m.tiff<br>│   ├── saxony.gpkg<br>│   └── saxony_S12RG_2023_200m.tif<br>├── py<br>│   └── modules<br>│       ├── pkginstall.sh<br>│       └── tools.py<br>├── resources<br>│   ├── 01_edit_files.gif<br>│   ├── 02_git_extension.gif<br>│   ├── 03_stage_changes.gif<br>│   ├── 04_commit_message.gif<br>│   ├── 05_pull_changes.gif<br>│   ├── 06_push_changes.gif<br>│   ├── 07_ci_pipeline.webp<br>│   ├── 08_observe_changes.gif<br>│   ├── 094_Verdichtung.jpg<br>│   ├── 1.png<br>│   ├── 10.png<br>│   ├── 11.png<br>│   ├── 13.png<br>│   ├── 14.png<br>│   ├── 14_.png<br>│   ├── 15.png<br>│   ├── 15_.png<br>│   ├── 16.png<br>│   ├── 18.png<br>│   ├── 19.png<br>│   ├── 2.png<br>│   ├── 21.png<br>│   ├── 22-2.png<br>│   ├── 22.png<br>│   ├── 23.png<br>│   ├── 24.png<br>│   ├── 25.png<br>│   ├── 26.png<br>│   ├── 3.png<br>│   ├── 4.png<br>│   ├── 5.png<br>│   ├── 6.png<br>│   ├── 7.png<br>│   ├── 8.png<br>│   ├── 9.png<br>│   ├── admonition.webp<br>│   ├── cover_image.jpg<br>│   ├── download.png<br>│   ├── gbif_api_reference.png<br>│   ├── geosocial_patterns_de.png<br>│   ├── hide-tag.webp<br>│   ├── html<br>│   │   └── geoviews_map.html<br>│   ├── linguee.webp<br>│   ├── monitor.webp<br>│   ├── release.png<br>│   └── terminal.jpg<br>├── tests<br>│   └── link-check.sh<br>├── .env<br>├── .gitignore<br>├── .gitlab-ci.yml<br>├── .version<br>├── _config.yml<br>├── _toc.yml<br>├── CHANGELOG.md<br>├── conf.json<br>├── conf.py<br>├── CONTRIBUTING.md<br>├── favicon.ico<br>├── intro.ipynb<br>├── LICENSE.md<br>├── logo.svg<br>├── nbconvert.tpl<br>├── pyproject.toml<br>├── README.md<br>└── references.bib<br>\n",
       "30 directories, 218 files<br>.</code></pre>\n",
       "        </details>\n",
       "    </div>      \n",
       "    "
      ],
      "text/plain": [
       "<IPython.core.display.HTML object>"
      ]
     },
     "execution_count": 5,
     "metadata": {},
     "output_type": "execute_result"
    }
   ],
   "source": [
    "ignore_files_folders = [\"_build\", \"tmp\", \"et-book\"]\n",
    "ignore_match = [\"*.gdbtabl*\", \"*a0000000*\"]\n",
    "tools.tree(\n",
    "    Path.cwd().parents[0],\n",
    "    ignore_files_folders=ignore_files_folders, ignore_match=ignore_match)"
   ]
  },
  {
   "cell_type": "markdown",
   "id": "18f15f2b-2fef-4245-882b-d9ca412261f5",
   "metadata": {
    "editable": true,
    "slideshow": {
     "slide_type": ""
    },
    "tags": []
   },
   "source": [
    "- `Path.cwd().parents[0]` specifies the origin directory for the tree, which is the base path of our repository\n",
    "- `ignore_files_folders` is a list of full folder or file names that should not be listed\n",
    "- `ignore_match` is a list of wildcard patterns that can be used to exclude a wider range of files, such as most of the proprietary ESRI files in `*.gdb` folders."
   ]
  },
  {
   "cell_type": "markdown",
   "id": "81630eca-200b-4da6-ac53-65195ef2ed4c",
   "metadata": {},
   "source": [
    "```{admonition} Use this file list in the <kbd>README.md</kbd> of your ioerDATA upload below\n",
    ":class: hint\n",
    "In most scientific data repositories you will be asked to provide a list of files and descriptions. The directory tree returned by the above command can be used as a starting point.\n",
    "```"
   ]
  },
  {
   "cell_type": "markdown",
   "id": "b722e4d2-1c20-4006-b4c3-9e6efbbed655",
   "metadata": {
    "editable": true,
    "slideshow": {
     "slide_type": ""
    },
    "tags": []
   },
   "source": [
    "### ioerDATA\n",
    "\n",
    "With this file you are ready to upload your data to a data repository and create a DOI so that it can be properly archived, cited and referenced.\n",
    "\n",
    "The ioerDATA is one such repository. It is available to all IOER collaborators at [https://data.fdz.ioer.de](https://data.fdz.ioer.de)."
   ]
  },
  {
   "cell_type": "markdown",
   "id": "7019716a-8482-4aee-8df4-ff1d3deb67f6",
   "metadata": {
    "editable": true,
    "slideshow": {
     "slide_type": ""
    },
    "tags": []
   },
   "source": [
    "```{admonition} See the ioerDATA documentation\n",
    ":class: hint\n",
    "If you are an IOER colleague, have a look at the (internal) ioerDATA documentation at [https://docs.fdz.ioer.info/documentation/ioerdata/](https://docs.fdz.ioer.info/documentation/ioerdata/).\n",
    "```"
   ]
  },
  {
   "cell_type": "markdown",
   "id": "5af30291-22ac-4872-b3a8-5b55169f1cec",
   "metadata": {
    "editable": true,
    "slideshow": {
     "slide_type": ""
    },
    "tags": []
   },
   "source": [
    "Other data repositories include [Zenodo](https://zenodo.org/)."
   ]
  },
  {
   "cell_type": "markdown",
   "id": "17470595-29cb-4d24-bdd5-c09195b87a09",
   "metadata": {
    "editable": true,
    "slideshow": {
     "slide_type": ""
    },
    "tags": []
   },
   "source": [
    "## Publishing code\n",
    "\n",
    "In addition to a data repository, you can (and should!) make your git repository available through (for example) Gitlab or Github. If you are in the middle of peer review, you may want to temporarily remove or redact any names.\n",
    "\n",
    "```{admonition} Using Github pages\n",
    ":class: hint\n",
    "You can configure Github to publish your HTML converted notebooks to Github Pages at github.io. See the [Quickstart for GitHub Pages](https://docs.github.com/en/pages/quickstart).\n",
    "```\n",
    "\n",
    "✨ Then, spread the love! 💖 Share your notebook links with others on social media 📢, in communities 🤝, and beyond! 🚀"
   ]
  },
  {
   "cell_type": "code",
   "execution_count": null,
   "id": "0703ca41-0453-4339-8da4-58c2f3906f6f",
   "metadata": {
    "editable": true,
    "slideshow": {
     "slide_type": ""
    },
    "tags": []
   },
   "outputs": [],
   "source": []
  }
 ],
 "metadata": {
  "kernelspec": {
   "display_name": "worker_env",
   "language": "python",
   "name": "worker_env"
  },
  "language_info": {
   "codemirror_mode": {
    "name": "ipython",
    "version": 3
   },
   "file_extension": ".py",
   "mimetype": "text/x-python",
   "name": "python",
   "nbconvert_exporter": "python",
   "pygments_lexer": "ipython3",
   "version": "3.11.6"
  }
 },
 "nbformat": 4,
 "nbformat_minor": 5
}
