{
 "cells": [
  {
   "cell_type": "markdown",
   "id": "db723a9c-6215-4a30-b393-c40b791808e1",
   "metadata": {},
   "source": [
    "# Buffering data"
   ]
  },
  {
   "cell_type": "markdown",
   "id": "f0f244ea-8b22-44f2-aa05-2b55416d5df8",
   "metadata": {},
   "source": [
    "In some analysis it is needed to find the influence of a feature in the surrounding areas, in this situation the buffer operation will help."
   ]
  },
  {
   "cell_type": "markdown",
   "id": "8efd4f20-ea68-427b-89f1-a789f9d02827",
   "metadata": {},
   "source": [
    "For creating buffers first of all the package geopandas added."
   ]
  },
  {
   "cell_type": "code",
   "execution_count": null,
   "id": "d0702dca-a279-4789-b7e5-324fd7cf4a0b",
   "metadata": {},
   "outputs": [],
   "source": [
    "import geopandas as gp"
   ]
  },
  {
   "cell_type": "markdown",
   "id": "6200d271-cc08-4368-a696-cbb4339b776f",
   "metadata": {},
   "source": [
    "Then the input data loaded:"
   ]
  },
  {
   "cell_type": "code",
   "execution_count": null,
   "id": "2c507e79-197a-4eb1-a0fd-9fe4ea90623f",
   "metadata": {},
   "outputs": [],
   "source": [
    "input_layer = gp.read_file(r\"C:\\Users\\Fatem\\files\\layers\\output\\clipped.shp\")[:5]"
   ]
  },
  {
   "cell_type": "markdown",
   "id": "9957c95d-11e9-410b-8dc2-a9474ce67e29",
   "metadata": {},
   "source": [
    "As the buffer operation will change the input layer, a copy of the input layer is created."
   ]
  },
  {
   "cell_type": "code",
   "execution_count": null,
   "id": "a7933494-dc72-4f6a-8b16-61d7e3fcdca2",
   "metadata": {},
   "outputs": [],
   "source": [
    "buffer_layer = input_layer.copy()"
   ]
  },
  {
   "cell_type": "markdown",
   "id": "be348737-17e1-4f32-ae61-c32575834e87",
   "metadata": {},
   "source": [
    "Using the buffer method, the buffers are created by changing the geometry of the input layer.The value which is defined inside the buffer method is the size of the buffer and its unit depends on the coordinate system of the layer."
   ]
  },
  {
   "cell_type": "markdown",
   "id": "252a90c3-cd79-46b6-b9a8-b75803183a58",
   "metadata": {},
   "source": [
    "```{note} \n",
    "The unit of the Coordinate Reference System **WGS 84** (EPSG Code:4326) is **Degrees**.\n",
    "The unit of the Coordinate Reference System **ETRS89 / UTM Zone 32N** (EPSG Code:25832) is **Meters**.\n",
    "```"
   ]
  },
  {
   "cell_type": "code",
   "execution_count": null,
   "id": "83b08fb4-59fd-4824-b6e7-a38a48c139f4",
   "metadata": {},
   "outputs": [],
   "source": [
    "buffer_layer['geometry'] = input_layer['geometry'].buffer(20)"
   ]
  },
  {
   "cell_type": "markdown",
   "id": "28cae5df-26ee-4b57-9053-1e06e872dc24",
   "metadata": {},
   "source": [
    "The result visualized using the plot function. The `ax` parameter in the plot function which refers to Axes object, overlay multiple plots in a map. For having a better visualization using the `alpha` parameter (ranges between 0 (completely transparent) to 1), the transparency of the layers controlled."
   ]
  },
  {
   "cell_type": "code",
   "execution_count": null,
   "id": "985d91ed-cfa9-409b-b96d-3994971940d0",
   "metadata": {},
   "outputs": [],
   "source": [
    "original= input_layer.plot(color='black', alpha=1)\n",
    "\n",
    "buffer_layer.plot(ax=original, color='blue', alpha=0.5)\n"
   ]
  },
  {
   "cell_type": "markdown",
   "id": "7daf1498-e936-4f94-a233-361681e3ef34",
   "metadata": {},
   "source": [
    "If the layers printed, the nember of the rows (features) before and after the buffer operation are the same. It shows that the overlapping features are not dissolved:"
   ]
  },
  {
   "cell_type": "markdown",
   "id": "6e011d87-9a86-4af2-b5f9-9ddcc0c6256e",
   "metadata": {},
   "source": [
    "print(input_layer)\n",
    "print(buffer_layer)"
   ]
  },
  {
   "cell_type": "markdown",
   "id": "a3dc3abb-3d82-4411-96a6-25e7ea86992c",
   "metadata": {},
   "source": [
    "For dissolving all the buffers together, the function \"dissolve\" used:"
   ]
  },
  {
   "cell_type": "code",
   "execution_count": null,
   "id": "3ce46334-336e-4845-9511-2a0bdd51bbd0",
   "metadata": {},
   "outputs": [],
   "source": [
    "dissolved_buffer = buffer_layer.dissolve()\n",
    "print(dissolved_buffer)"
   ]
  },
  {
   "cell_type": "markdown",
   "id": "9b2a515b-1c78-49f2-8af4-eb0c049182ba",
   "metadata": {},
   "source": [
    "In case just the dissolving of overlapping buffers are required, first the overlapping areas identified:"
   ]
  },
  {
   "cell_type": "code",
   "execution_count": null,
   "id": "24cb9a7e-ab59-4250-bcd4-595fdb68b9e3",
   "metadata": {},
   "outputs": [],
   "source": [
    "overlapping_buffers = gp.sjoin(buffer_layer[['geometry']], buffer_layer[['CLC18','geometry']], how=\"inner\", predicate=\"intersects\")\n",
    "print(overlapping_buffers)\n",
    "overlapping_buffers.plot()"
   ]
  },
  {
   "cell_type": "markdown",
   "id": "720cb954-9054-471f-95a0-0881ae3f3dc4",
   "metadata": {},
   "source": [
    "Then the dissolving operation will be done to just have the dissolve of the overlapping buffers."
   ]
  },
  {
   "cell_type": "code",
   "execution_count": null,
   "id": "ca87c99e-0d18-4ea4-9d52-38639e47b1f6",
   "metadata": {},
   "outputs": [],
   "source": [
    "dissolving_buffer = overlapping_buffers.dissolve()\n",
    "print(dissolving_buffer)"
   ]
  },
  {
   "cell_type": "markdown",
   "id": "932687a5-aa64-4983-a3ae-fa16fc329b35",
   "metadata": {},
   "source": [
    "In addition to the `distance` parameter that shows the size of the buffer, there are other parameters that help in processing and visualization of the output. \n",
    "\n",
    "`resolution` is a parameter that defines the number of segments used to create a quarter-circle. The larger values for this parameter cause slower processing.\n",
    "\n",
    "`cap_style`defines the shape of the end of the buffer, which is mostly used for line features. \n",
    "- cap_style = **1** defines **Round** shape.\n",
    "- cap_style = **2** defines **Flat** shape.\n",
    "- cap_style = **3** defines **Square** shape.\n",
    "\n",
    "`join_style` defines the shape of the corner and edges in the buffers.\n",
    "- join_style = **1** defines **Round** shape.\n",
    "- join_style = **2** defines **Mitre** shape.\n",
    "- join_style = **3** defines **Bevel** shape."
   ]
  },
  {
   "cell_type": "markdown",
   "id": "897cb12f-48da-4579-8fd3-93eae2fcd4c8",
   "metadata": {},
   "source": [
    "```{admonition} \n",
    "For more information about the output of these values see this [figure](https://geopandas.org/en/stable/_images/buffer.png) from the GeoPandas website.\n",
    "```"
   ]
  },
  {
   "cell_type": "code",
   "execution_count": null,
   "id": "95558e29-e68a-475d-a01e-8b10bdf5371d",
   "metadata": {},
   "outputs": [],
   "source": [
    "buffer_layer['geometry'] = input_layer['geometry'].buffer(distance=20, resolution=8, cap_style=2, join_style=3)"
   ]
  },
  {
   "cell_type": "code",
   "execution_count": null,
   "id": "38074f4a-04e1-4070-86dd-2c07b8620c74",
   "metadata": {},
   "outputs": [],
   "source": [
    "buffer_layer.plot()"
   ]
  }
 ],
 "metadata": {
  "kernelspec": {
   "display_name": "Python 3 (ipykernel)",
   "language": "python",
   "name": "python3"
  },
  "language_info": {
   "codemirror_mode": {
    "name": "ipython",
    "version": 3
   },
   "file_extension": ".py",
   "mimetype": "text/x-python",
   "name": "python",
   "nbconvert_exporter": "python",
   "pygments_lexer": "ipython3",
   "version": "3.12.7"
  }
 },
 "nbformat": 4,
 "nbformat_minor": 5
}
