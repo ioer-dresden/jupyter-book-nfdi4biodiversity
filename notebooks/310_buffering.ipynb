{
 "cells": [
  {
   "cell_type": "markdown",
   "id": "db723a9c-6215-4a30-b393-c40b791808e1",
   "metadata": {
    "editable": true,
    "slideshow": {
     "slide_type": ""
    },
    "tags": []
   },
   "source": [
    "# Buffering data"
   ]
  },
  {
   "cell_type": "markdown",
   "id": "f0f244ea-8b22-44f2-aa05-2b55416d5df8",
   "metadata": {
    "editable": true,
    "slideshow": {
     "slide_type": ""
    },
    "tags": []
   },
   "source": [
    "In some analysis it is necessary to find the influence of a feature in the surrounding areas, in this situation the `buffer` operation will help."
   ]
  },
  {
   "cell_type": "markdown",
   "id": "8efd4f20-ea68-427b-89f1-a789f9d02827",
   "metadata": {
    "editable": true,
    "slideshow": {
     "slide_type": ""
    },
    "tags": []
   },
   "source": [
    "To create buffers, first add the `geopandas` package."
   ]
  },
  {
   "cell_type": "code",
   "execution_count": 5,
   "id": "d0702dca-a279-4789-b7e5-324fd7cf4a0b",
   "metadata": {
    "editable": true,
    "slideshow": {
     "slide_type": ""
    },
    "tags": []
   },
   "outputs": [],
   "source": [
    "from pathlib import Path\n",
    "import geopandas as gp\n",
    "import matplotlib.pyplot as plt\n",
    "import matplotlib.patches as mpatches\n",
    "\n",
    "base_path = Path.cwd().parents[0]\n",
    "INPUT = base_path / \"00_data\"\n",
    "OUTPUT = base_path / \"out\""
   ]
  },
  {
   "cell_type": "markdown",
   "id": "6200d271-cc08-4368-a696-cbb4339b776f",
   "metadata": {
    "editable": true,
    "slideshow": {
     "slide_type": ""
    },
    "tags": []
   },
   "source": [
    "The input data is then loaded:"
   ]
  },
  {
   "cell_type": "code",
   "execution_count": 6,
   "id": "2c507e79-197a-4eb1-a0fd-9fe4ea90623f",
   "metadata": {
    "editable": true,
    "slideshow": {
     "slide_type": ""
    },
    "tags": []
   },
   "outputs": [],
   "source": [
    "input_layer = gp.read_file(OUTPUT / \"clipped.shp\")[20:22]"
   ]
  },
  {
   "cell_type": "markdown",
   "id": "9957c95d-11e9-410b-8dc2-a9474ce67e29",
   "metadata": {
    "editable": true,
    "slideshow": {
     "slide_type": ""
    },
    "tags": []
   },
   "source": [
    "`````{admonition}  \n",
    ":class: danger\n",
    "Since the input layer will be modified by the buffer operation, a copy of the input layer will be created.\n",
    "`````\n"
   ]
  },
  {
   "cell_type": "code",
   "execution_count": 7,
   "id": "a7933494-dc72-4f6a-8b16-61d7e3fcdca2",
   "metadata": {
    "editable": true,
    "slideshow": {
     "slide_type": ""
    },
    "tags": []
   },
   "outputs": [],
   "source": [
    "buffer_layer = input_layer.copy()"
   ]
  },
  {
   "cell_type": "markdown",
   "id": "0fd20000-ef6b-46c6-83de-b557f5f93fd2",
   "metadata": {
    "editable": true,
    "slideshow": {
     "slide_type": ""
    },
    "tags": []
   },
   "source": [
    "## Non-Overlapping Buffers"
   ]
  },
  {
   "cell_type": "markdown",
   "id": "be348737-17e1-4f32-ae61-c32575834e87",
   "metadata": {
    "editable": true,
    "slideshow": {
     "slide_type": ""
    },
    "tags": []
   },
   "source": [
    "Using the `buffer` method, buffers are created by modifying the geometry of the input layer. The value defined within the buffer method is the size of the buffer and its unit depends on the coordinate system of the layer."
   ]
  },
  {
   "cell_type": "markdown",
   "id": "252a90c3-cd79-46b6-b9a8-b75803183a58",
   "metadata": {
    "editable": true,
    "slideshow": {
     "slide_type": ""
    },
    "tags": []
   },
   "source": [
    "```{admonition} **Example of Units**\n",
    ":class: note, dropdown\n",
    "- WGS 84 (EPSG Code:4326): **Degrees**.\n",
    "- ETRS89 / UTM Zone 32N (EPSG Code:25832): **Meters**.\n",
    "```"
   ]
  },
  {
   "cell_type": "code",
   "execution_count": 8,
   "id": "83b08fb4-59fd-4824-b6e7-a38a48c139f4",
   "metadata": {
    "editable": true,
    "slideshow": {
     "slide_type": ""
    },
    "tags": []
   },
   "outputs": [],
   "source": [
    "buffer_layer['geometry'] = buffer_layer['geometry'].buffer(8)"
   ]
  },
  {
   "cell_type": "markdown",
   "id": "28cae5df-26ee-4b57-9053-1e06e872dc24",
   "metadata": {
    "editable": true,
    "slideshow": {
     "slide_type": ""
    },
    "tags": []
   },
   "source": [
    "The original layer and the result of the buffer is visualized using the parameters in the `plot` function: \n",
    "- `ax`: Overlays multiple plots on a map.\n",
    "- `alpha`: Controls the transparency of the layers for better visualization. (ranges from 1 to 0 (fully transparent)) "
   ]
  },
  {
   "cell_type": "markdown",
   "id": "688123c3-b9fa-4579-adef-e9dddee4d228",
   "metadata": {
    "editable": true,
    "slideshow": {
     "slide_type": ""
    },
    "tags": []
   },
   "source": [
    "```{figure} ../resources/16.png\n",
    ":width: 250px\n",
    ":name: figure-example\n",
    "\n",
    "Controlling transparency by `alpha` parameter in `plot` function\n",
    "````\n"
   ]
  },
  {
   "cell_type": "markdown",
   "id": "99828f0f-684f-4784-806f-375d83cdf391",
   "metadata": {},
   "source": [
    "Also, the `Patch` function in `matplotlib`, creates a colored patch that can be used as a legend entry in a plot."
   ]
  },
  {
   "cell_type": "markdown",
   "id": "f1037d2d-d513-4193-b6d6-ec73421fcd3a",
   "metadata": {},
   "source": [
    "- `color`: sets the color of the patch\n",
    "- `label`: specifies the lable of that color in the legend"
   ]
  },
  {
   "cell_type": "markdown",
   "id": "6284769c-c144-431f-89a7-19fd76fc7cd9",
   "metadata": {},
   "source": [
    "Then `legend` function in `Matplotlib` adds the legend to a plot."
   ]
  },
  {
   "cell_type": "markdown",
   "id": "d69ee078-c773-4c43-91fa-f54ded533cce",
   "metadata": {},
   "source": [
    "- `handles`: list of objects in the legend\n",
    "- `loc`: specifies the location of the legend within the plot (lower left/right, upper left/right, center, lower/upper center)"
   ]
  },
  {
   "cell_type": "code",
   "execution_count": 9,
   "id": "985d91ed-cfa9-409b-b96d-3994971940d0",
   "metadata": {
    "editable": true,
    "slideshow": {
     "slide_type": ""
    },
    "tags": []
   },
   "outputs": [
    {
     "data": {
      "image/png": "[encoded data removed]",
      "text/plain": [
       "<Figure size 640x480 with 1 Axes>"
      ]
     },
     "metadata": {},
     "output_type": "display_data"
    }
   ],
   "source": [
    "ax = input_layer.plot(color='red', alpha=1)\n",
    "buffer_layer.plot(ax=ax, color='purple', alpha=0.5)\n",
    "\n",
    "input_patch = mpatches.Patch(color='red', label='Original Layer')\n",
    "buffer_patch = mpatches.Patch(color='purple', alpha=0.5, label='Buffered Layer')\n",
    "\n",
    "ax.legend(handles=[input_patch, buffer_patch], loc='upper left')\n",
    "\n",
    "ax.set_title(\"Original Layer and Non-Overlapping Buffers\")\n",
    "ax.set_axis_off()"
   ]
  },
  {
   "cell_type": "markdown",
   "id": "e78a07ca-b300-4121-aa65-24745ffe74a5",
   "metadata": {},
   "source": []
  },
  {
   "cell_type": "markdown",
   "id": "37bdc037-c8a8-46ff-ab4a-5057ded43cb5",
   "metadata": {
    "editable": true,
    "slideshow": {
     "slide_type": ""
    },
    "tags": []
   },
   "source": [
    "The geometry column can be checked both before and after the `buffer` operation to observe the changes."
   ]
  },
  {
   "cell_type": "code",
   "execution_count": 10,
   "id": "22d3ea90-644c-403e-9244-097996f9a5be",
   "metadata": {
    "editable": true,
    "slideshow": {
     "slide_type": ""
    },
    "tags": [
     "hide-output"
    ]
   },
   "outputs": [
    {
     "data": {
      "text/html": [
       "<div>\n",
       "<style scoped>\n",
       "    .dataframe tbody tr th:only-of-type {\n",
       "        vertical-align: middle;\n",
       "    }\n",
       "\n",
       "    .dataframe tbody tr th {\n",
       "        vertical-align: top;\n",
       "    }\n",
       "\n",
       "    .dataframe thead th {\n",
       "        text-align: right;\n",
       "    }\n",
       "</style>\n",
       "<table border=\"1\" class=\"dataframe\">\n",
       "  <thead>\n",
       "    <tr style=\"text-align: right;\">\n",
       "      <th></th>\n",
       "      <th>KS_IS</th>\n",
       "      <th>CLC_st1</th>\n",
       "      <th>CLC18</th>\n",
       "      <th>CLC</th>\n",
       "      <th>Biotpkt201</th>\n",
       "      <th>Shape_Leng</th>\n",
       "      <th>Shape_Area</th>\n",
       "      <th>geometry</th>\n",
       "    </tr>\n",
       "  </thead>\n",
       "  <tbody>\n",
       "    <tr>\n",
       "      <th>20</th>\n",
       "      <td>None</td>\n",
       "      <td>121</td>\n",
       "      <td>121</td>\n",
       "      <td>121.0</td>\n",
       "      <td>2.303538</td>\n",
       "      <td>463.517895</td>\n",
       "      <td>12562.667236</td>\n",
       "      <td>POLYGON ((404542.292 5658252.886, 404589.39 56...</td>\n",
       "    </tr>\n",
       "    <tr>\n",
       "      <th>21</th>\n",
       "      <td>None</td>\n",
       "      <td>112</td>\n",
       "      <td>112</td>\n",
       "      <td>112.0</td>\n",
       "      <td>6.600000</td>\n",
       "      <td>627.668797</td>\n",
       "      <td>17563.689623</td>\n",
       "      <td>POLYGON ((404694.541 5658301.527, 404689.477 5...</td>\n",
       "    </tr>\n",
       "  </tbody>\n",
       "</table>\n",
       "</div>"
      ],
      "text/plain": [
       "   KS_IS CLC_st1 CLC18    CLC  Biotpkt201  Shape_Leng    Shape_Area  \\\n",
       "20  None     121   121  121.0    2.303538  463.517895  12562.667236   \n",
       "21  None     112   112  112.0    6.600000  627.668797  17563.689623   \n",
       "\n",
       "                                             geometry  \n",
       "20  POLYGON ((404542.292 5658252.886, 404589.39 56...  \n",
       "21  POLYGON ((404694.541 5658301.527, 404689.477 5...  "
      ]
     },
     "execution_count": 10,
     "metadata": {},
     "output_type": "execute_result"
    }
   ],
   "source": [
    "input_layer.head(3)"
   ]
  },
  {
   "cell_type": "code",
   "execution_count": 11,
   "id": "6ad2d84e-fa0c-4859-9a04-0232a2e95ea9",
   "metadata": {
    "editable": true,
    "slideshow": {
     "slide_type": ""
    },
    "tags": [
     "hide-output"
    ]
   },
   "outputs": [
    {
     "data": {
      "text/html": [
       "<div>\n",
       "<style scoped>\n",
       "    .dataframe tbody tr th:only-of-type {\n",
       "        vertical-align: middle;\n",
       "    }\n",
       "\n",
       "    .dataframe tbody tr th {\n",
       "        vertical-align: top;\n",
       "    }\n",
       "\n",
       "    .dataframe thead th {\n",
       "        text-align: right;\n",
       "    }\n",
       "</style>\n",
       "<table border=\"1\" class=\"dataframe\">\n",
       "  <thead>\n",
       "    <tr style=\"text-align: right;\">\n",
       "      <th></th>\n",
       "      <th>KS_IS</th>\n",
       "      <th>CLC_st1</th>\n",
       "      <th>CLC18</th>\n",
       "      <th>CLC</th>\n",
       "      <th>Biotpkt201</th>\n",
       "      <th>Shape_Leng</th>\n",
       "      <th>Shape_Area</th>\n",
       "      <th>geometry</th>\n",
       "    </tr>\n",
       "  </thead>\n",
       "  <tbody>\n",
       "    <tr>\n",
       "      <th>20</th>\n",
       "      <td>None</td>\n",
       "      <td>121</td>\n",
       "      <td>121</td>\n",
       "      <td>121.0</td>\n",
       "      <td>2.303538</td>\n",
       "      <td>463.517895</td>\n",
       "      <td>12562.667236</td>\n",
       "      <td>POLYGON ((404532.805 5658256.02, 404532.911 56...</td>\n",
       "    </tr>\n",
       "    <tr>\n",
       "      <th>21</th>\n",
       "      <td>None</td>\n",
       "      <td>112</td>\n",
       "      <td>112</td>\n",
       "      <td>112.0</td>\n",
       "      <td>6.600000</td>\n",
       "      <td>627.668797</td>\n",
       "      <td>17563.689623</td>\n",
       "      <td>POLYGON ((404697.402 5658269.062, 404696.786 5...</td>\n",
       "    </tr>\n",
       "  </tbody>\n",
       "</table>\n",
       "</div>"
      ],
      "text/plain": [
       "   KS_IS CLC_st1 CLC18    CLC  Biotpkt201  Shape_Leng    Shape_Area  \\\n",
       "20  None     121   121  121.0    2.303538  463.517895  12562.667236   \n",
       "21  None     112   112  112.0    6.600000  627.668797  17563.689623   \n",
       "\n",
       "                                             geometry  \n",
       "20  POLYGON ((404532.805 5658256.02, 404532.911 56...  \n",
       "21  POLYGON ((404697.402 5658269.062, 404696.786 5...  "
      ]
     },
     "execution_count": 11,
     "metadata": {},
     "output_type": "execute_result"
    }
   ],
   "source": [
    "buffer_layer.head(3)"
   ]
  },
  {
   "cell_type": "markdown",
   "id": "2137bdfa-290a-49ea-a1ea-2d3ddc3cd2cc",
   "metadata": {
    "editable": true,
    "slideshow": {
     "slide_type": ""
    },
    "tags": []
   },
   "source": [
    "## Overlapping Buffers"
   ]
  },
  {
   "cell_type": "markdown",
   "id": "7daf1498-e936-4f94-a233-361681e3ef34",
   "metadata": {
    "editable": true,
    "slideshow": {
     "slide_type": ""
    },
    "tags": []
   },
   "source": [
    "When the layers are printed after `buffer` operation, the number of features remains the same. This indicates the buffer operation creates an individual buffer for each feature, rather than merging overlapping areas."
   ]
  },
  {
   "cell_type": "code",
   "execution_count": 12,
   "id": "69c67806-5e13-4632-b963-aebcc9badd9c",
   "metadata": {
    "editable": true,
    "slideshow": {
     "slide_type": ""
    },
    "tags": []
   },
   "outputs": [
    {
     "data": {
      "text/plain": [
       "(2, 8)"
      ]
     },
     "execution_count": 12,
     "metadata": {},
     "output_type": "execute_result"
    }
   ],
   "source": [
    "input_layer.shape"
   ]
  },
  {
   "cell_type": "code",
   "execution_count": 13,
   "id": "dc44fe4b-6c99-484c-9b86-2e566fd8cbb3",
   "metadata": {
    "editable": true,
    "slideshow": {
     "slide_type": ""
    },
    "tags": []
   },
   "outputs": [
    {
     "data": {
      "text/plain": [
       "(2, 8)"
      ]
     },
     "execution_count": 13,
     "metadata": {},
     "output_type": "execute_result"
    }
   ],
   "source": [
    "buffer_layer.shape"
   ]
  },
  {
   "cell_type": "markdown",
   "id": "a3dc3abb-3d82-4411-96a6-25e7ea86992c",
   "metadata": {
    "editable": true,
    "slideshow": {
     "slide_type": ""
    },
    "tags": []
   },
   "source": [
    "The `dissolve` function can merge all the buffers at once, creates a single feature from the whole dataset:"
   ]
  },
  {
   "cell_type": "code",
   "execution_count": 14,
   "id": "3ce46334-336e-4845-9511-2a0bdd51bbd0",
   "metadata": {
    "editable": true,
    "slideshow": {
     "slide_type": ""
    },
    "tags": []
   },
   "outputs": [
    {
     "data": {
      "text/html": [
       "<div>\n",
       "<style scoped>\n",
       "    .dataframe tbody tr th:only-of-type {\n",
       "        vertical-align: middle;\n",
       "    }\n",
       "\n",
       "    .dataframe tbody tr th {\n",
       "        vertical-align: top;\n",
       "    }\n",
       "\n",
       "    .dataframe thead th {\n",
       "        text-align: right;\n",
       "    }\n",
       "</style>\n",
       "<table border=\"1\" class=\"dataframe\">\n",
       "  <thead>\n",
       "    <tr style=\"text-align: right;\">\n",
       "      <th></th>\n",
       "      <th>geometry</th>\n",
       "      <th>KS_IS</th>\n",
       "      <th>CLC_st1</th>\n",
       "      <th>CLC18</th>\n",
       "      <th>CLC</th>\n",
       "      <th>Biotpkt201</th>\n",
       "      <th>Shape_Leng</th>\n",
       "      <th>Shape_Area</th>\n",
       "    </tr>\n",
       "  </thead>\n",
       "  <tbody>\n",
       "    <tr>\n",
       "      <th>0</th>\n",
       "      <td>POLYGON ((404532.911 5658256.301, 404533.259 5...</td>\n",
       "      <td>None</td>\n",
       "      <td>121</td>\n",
       "      <td>121</td>\n",
       "      <td>121.0</td>\n",
       "      <td>2.303538</td>\n",
       "      <td>463.517895</td>\n",
       "      <td>12562.667236</td>\n",
       "    </tr>\n",
       "  </tbody>\n",
       "</table>\n",
       "</div>"
      ],
      "text/plain": [
       "                                            geometry KS_IS CLC_st1 CLC18  \\\n",
       "0  POLYGON ((404532.911 5658256.301, 404533.259 5...  None     121   121   \n",
       "\n",
       "     CLC  Biotpkt201  Shape_Leng    Shape_Area  \n",
       "0  121.0    2.303538  463.517895  12562.667236  "
      ]
     },
     "execution_count": 14,
     "metadata": {},
     "output_type": "execute_result"
    }
   ],
   "source": [
    "dissolved_buffer = buffer_layer.dissolve()\n",
    "dissolved_buffer"
   ]
  },
  {
   "cell_type": "markdown",
   "id": "9b2a515b-1c78-49f2-8af4-eb0c049182ba",
   "metadata": {
    "editable": true,
    "slideshow": {
     "slide_type": ""
    },
    "tags": []
   },
   "source": [
    "If `only` the merging of `intersected buffers` is required, the overlapping areas need to be identified first. "
   ]
  },
  {
   "cell_type": "markdown",
   "id": "aa0f67e6-0b63-460c-b08f-8589e931f4a5",
   "metadata": {
    "editable": true,
    "slideshow": {
     "slide_type": ""
    },
    "tags": []
   },
   "source": [
    "This can be done by overlaying the layer with itself to find the areas where the buffers intersect:"
   ]
  },
  {
   "cell_type": "markdown",
   "id": "1b6e681d-74e3-46d2-94a1-76ac9c921ea6",
   "metadata": {
    "editable": true,
    "slideshow": {
     "slide_type": ""
    },
    "tags": []
   },
   "source": [
    "```{admonition} \n",
    ":class: note\n",
    "- By using `how='inner'`, only the intersecting features will be included in the output.\n",
    "```"
   ]
  },
  {
   "cell_type": "code",
   "execution_count": 15,
   "id": "24cb9a7e-ab59-4250-bcd4-595fdb68b9e3",
   "metadata": {
    "editable": true,
    "slideshow": {
     "slide_type": ""
    },
    "tags": [
     "hide-output"
    ]
   },
   "outputs": [
    {
     "data": {
      "text/html": [
       "<div>\n",
       "<style scoped>\n",
       "    .dataframe tbody tr th:only-of-type {\n",
       "        vertical-align: middle;\n",
       "    }\n",
       "\n",
       "    .dataframe tbody tr th {\n",
       "        vertical-align: top;\n",
       "    }\n",
       "\n",
       "    .dataframe thead th {\n",
       "        text-align: right;\n",
       "    }\n",
       "</style>\n",
       "<table border=\"1\" class=\"dataframe\">\n",
       "  <thead>\n",
       "    <tr style=\"text-align: right;\">\n",
       "      <th></th>\n",
       "      <th>KS_IS</th>\n",
       "      <th>CLC_st1</th>\n",
       "      <th>CLC18_left</th>\n",
       "      <th>CLC</th>\n",
       "      <th>Biotpkt201</th>\n",
       "      <th>Shape_Leng</th>\n",
       "      <th>Shape_Area</th>\n",
       "      <th>geometry</th>\n",
       "      <th>index_right</th>\n",
       "      <th>CLC18_right</th>\n",
       "    </tr>\n",
       "  </thead>\n",
       "  <tbody>\n",
       "    <tr>\n",
       "      <th>20</th>\n",
       "      <td>None</td>\n",
       "      <td>121</td>\n",
       "      <td>121</td>\n",
       "      <td>121.0</td>\n",
       "      <td>2.303538</td>\n",
       "      <td>463.517895</td>\n",
       "      <td>12562.667236</td>\n",
       "      <td>POLYGON ((404532.805 5658256.02, 404532.911 56...</td>\n",
       "      <td>20</td>\n",
       "      <td>121</td>\n",
       "    </tr>\n",
       "    <tr>\n",
       "      <th>20</th>\n",
       "      <td>None</td>\n",
       "      <td>121</td>\n",
       "      <td>121</td>\n",
       "      <td>121.0</td>\n",
       "      <td>2.303538</td>\n",
       "      <td>463.517895</td>\n",
       "      <td>12562.667236</td>\n",
       "      <td>POLYGON ((404532.805 5658256.02, 404532.911 56...</td>\n",
       "      <td>21</td>\n",
       "      <td>112</td>\n",
       "    </tr>\n",
       "    <tr>\n",
       "      <th>21</th>\n",
       "      <td>None</td>\n",
       "      <td>112</td>\n",
       "      <td>112</td>\n",
       "      <td>112.0</td>\n",
       "      <td>6.600000</td>\n",
       "      <td>627.668797</td>\n",
       "      <td>17563.689623</td>\n",
       "      <td>POLYGON ((404697.402 5658269.062, 404696.786 5...</td>\n",
       "      <td>20</td>\n",
       "      <td>121</td>\n",
       "    </tr>\n",
       "    <tr>\n",
       "      <th>21</th>\n",
       "      <td>None</td>\n",
       "      <td>112</td>\n",
       "      <td>112</td>\n",
       "      <td>112.0</td>\n",
       "      <td>6.600000</td>\n",
       "      <td>627.668797</td>\n",
       "      <td>17563.689623</td>\n",
       "      <td>POLYGON ((404697.402 5658269.062, 404696.786 5...</td>\n",
       "      <td>21</td>\n",
       "      <td>112</td>\n",
       "    </tr>\n",
       "  </tbody>\n",
       "</table>\n",
       "</div>"
      ],
      "text/plain": [
       "   KS_IS CLC_st1 CLC18_left    CLC  Biotpkt201  Shape_Leng    Shape_Area  \\\n",
       "20  None     121        121  121.0    2.303538  463.517895  12562.667236   \n",
       "20  None     121        121  121.0    2.303538  463.517895  12562.667236   \n",
       "21  None     112        112  112.0    6.600000  627.668797  17563.689623   \n",
       "21  None     112        112  112.0    6.600000  627.668797  17563.689623   \n",
       "\n",
       "                                             geometry  index_right CLC18_right  \n",
       "20  POLYGON ((404532.805 5658256.02, 404532.911 56...           20         121  \n",
       "20  POLYGON ((404532.805 5658256.02, 404532.911 56...           21         112  \n",
       "21  POLYGON ((404697.402 5658269.062, 404696.786 5...           20         121  \n",
       "21  POLYGON ((404697.402 5658269.062, 404696.786 5...           21         112  "
      ]
     },
     "execution_count": 15,
     "metadata": {},
     "output_type": "execute_result"
    }
   ],
   "source": [
    "intersected_buffers = gp.sjoin(\n",
    "    buffer_layer, \n",
    "    buffer_layer[['CLC18','geometry']], \n",
    "    how=\"inner\", \n",
    "    predicate=\"intersects\")\n",
    "intersected_buffers.head(5)"
   ]
  },
  {
   "cell_type": "code",
   "execution_count": 16,
   "id": "9dcf7a93-4cca-4ad7-88bb-9793955ec803",
   "metadata": {
    "editable": true,
    "slideshow": {
     "slide_type": ""
    },
    "tags": []
   },
   "outputs": [
    {
     "data": {
      "image/png": "[encoded data removed]",
      "text/plain": [
       "<Figure size 640x480 with 1 Axes>"
      ]
     },
     "metadata": {},
     "output_type": "display_data"
    }
   ],
   "source": [
    "ax = intersected_buffers.plot(alpha= 0.1)\n",
    "ax.set_title(\"Intersected Buffers\")\n",
    "ax.set_axis_off()"
   ]
  },
  {
   "cell_type": "markdown",
   "id": "720cb954-9054-471f-95a0-0881ae3f3dc4",
   "metadata": {
    "editable": true,
    "slideshow": {
     "slide_type": ""
    },
    "tags": []
   },
   "source": [
    "Then the `dissolve` operation is performed to merge **only the intersected buffers**."
   ]
  },
  {
   "cell_type": "code",
   "execution_count": 20,
   "id": "ca87c99e-0d18-4ea4-9d52-38639e47b1f6",
   "metadata": {
    "editable": true,
    "slideshow": {
     "slide_type": ""
    },
    "tags": []
   },
   "outputs": [
    {
     "data": {
      "text/html": [
       "<div>\n",
       "<style scoped>\n",
       "    .dataframe tbody tr th:only-of-type {\n",
       "        vertical-align: middle;\n",
       "    }\n",
       "\n",
       "    .dataframe tbody tr th {\n",
       "        vertical-align: top;\n",
       "    }\n",
       "\n",
       "    .dataframe thead th {\n",
       "        text-align: right;\n",
       "    }\n",
       "</style>\n",
       "<table border=\"1\" class=\"dataframe\">\n",
       "  <thead>\n",
       "    <tr style=\"text-align: right;\">\n",
       "      <th></th>\n",
       "      <th>geometry</th>\n",
       "      <th>KS_IS</th>\n",
       "      <th>CLC_st1</th>\n",
       "      <th>CLC18_left</th>\n",
       "      <th>CLC</th>\n",
       "      <th>Biotpkt201</th>\n",
       "      <th>Shape_Leng</th>\n",
       "      <th>Shape_Area</th>\n",
       "      <th>index_right</th>\n",
       "      <th>CLC18_right</th>\n",
       "    </tr>\n",
       "  </thead>\n",
       "  <tbody>\n",
       "    <tr>\n",
       "      <th>0</th>\n",
       "      <td>POLYGON ((404533.259 5658257.01, 404533.675 56...</td>\n",
       "      <td>None</td>\n",
       "      <td>121</td>\n",
       "      <td>121</td>\n",
       "      <td>121.0</td>\n",
       "      <td>2.303538</td>\n",
       "      <td>463.517895</td>\n",
       "      <td>12562.667236</td>\n",
       "      <td>20</td>\n",
       "      <td>121</td>\n",
       "    </tr>\n",
       "  </tbody>\n",
       "</table>\n",
       "</div>"
      ],
      "text/plain": [
       "                                            geometry KS_IS CLC_st1 CLC18_left  \\\n",
       "0  POLYGON ((404533.259 5658257.01, 404533.675 56...  None     121        121   \n",
       "\n",
       "     CLC  Biotpkt201  Shape_Leng    Shape_Area  index_right CLC18_right  \n",
       "0  121.0    2.303538  463.517895  12562.667236           20         121  "
      ]
     },
     "execution_count": 20,
     "metadata": {},
     "output_type": "execute_result"
    }
   ],
   "source": [
    "dissolving_buffer = intersected_buffers.dissolve()\n",
    "dissolving_buffer"
   ]
  },
  {
   "cell_type": "code",
   "execution_count": 21,
   "id": "0f2f6680-5bab-4da7-bbf3-1b502dbcb977",
   "metadata": {},
   "outputs": [
    {
     "data": {
      "image/png": "[encoded data removed]",
      "text/plain": [
       "<Figure size 640x480 with 1 Axes>"
      ]
     },
     "metadata": {},
     "output_type": "display_data"
    }
   ],
   "source": [
    "ax = dissolving_buffer.plot(alpha= 0.1)\n",
    "ax.set_title('Overlapping Buffers')\n",
    "ax.set_axis_off()"
   ]
  },
  {
   "cell_type": "code",
   "execution_count": 22,
   "id": "e30d4612-5059-48c2-b2de-a6c4c465cc96",
   "metadata": {},
   "outputs": [
    {
     "data": {
      "image/png": "[encoded data removed]",
      "text/plain": [
       "<Figure size 640x480 with 1 Axes>"
      ]
     },
     "metadata": {},
     "output_type": "display_data"
    }
   ],
   "source": [
    "ax = input_layer.plot(color='red', alpha=1)\n",
    "dissolving_buffer.plot(ax=ax, color='purple', alpha=0.5)\n",
    "\n",
    "input_patch = mpatches.Patch(color='red', label='Original Layer')\n",
    "buffer_patch = mpatches.Patch(color='purple', alpha=0.5, label='Buffered Layer')\n",
    "\n",
    "ax.legend(handles=[input_patch, buffer_patch], loc='upper left')\n",
    "\n",
    "ax.set_title(\"Original Layer and Overlapping Buffers\")\n",
    "ax.set_axis_off()"
   ]
  },
  {
   "cell_type": "markdown",
   "id": "22542b80-2457-4c6a-a837-db1a7a308742",
   "metadata": {},
   "source": [
    "For comparison:"
   ]
  },
  {
   "cell_type": "markdown",
   "id": "c9361ab4-b6fa-47cb-b935-afffa074ad60",
   "metadata": {
    "editable": true,
    "slideshow": {
     "slide_type": ""
    },
    "tags": []
   },
   "source": [
    "```{figure} ../resources/18.png\n",
    ":height: 200px\n",
    ":name: figure-example\n",
    "\n",
    "Non-Overlapping VS Overlapping Buffers\n",
    "````"
   ]
  },
  {
   "cell_type": "markdown",
   "id": "932687a5-aa64-4983-a3ae-fa16fc329b35",
   "metadata": {
    "editable": true,
    "slideshow": {
     "slide_type": ""
    },
    "tags": []
   },
   "source": [
    "```{admonition} **Buffer Parameters**\n",
    ":class: tip, dropdown\n",
    "In addition to the `distance` parameter, which indicates the size of the buffer, there are other parameters that help in processing and visualizing the output. \n",
    "\n",
    "`resolution` is a parameter that defines the number of segments used to create a quarter circle. The larger values for this parameter cause slower processing.\n",
    "\n",
    "`cap_style`defines the shape of the end of the buffer, which is mostly used for line features. \n",
    "- cap_style = **1** defines **Round** shape.\n",
    "- cap_style = **2** defines **Flat** shape.\n",
    "- cap_style = **3** defines **Square** shape.\n",
    "\n",
    "`join_style` defines the shape of the corner and edges in the buffers.\n",
    "- join_style = **1** defines **Round** shape.\n",
    "- join_style = **2** defines **Mitre** shape.\n",
    "- join_style = **3** defines **Bevel** shape.\n",
    "```"
   ]
  },
  {
   "cell_type": "markdown",
   "id": "4c2a2cf5-ff4d-417f-9b96-8e9cd0e98be0",
   "metadata": {
    "editable": true,
    "slideshow": {
     "slide_type": ""
    },
    "tags": []
   },
   "source": [
    "```{figure} https://geopandas.org/en/stable/_images/buffer.png\n",
    ":height: 500px\n",
    ":name: figure-example\n",
    "\n",
    "Visualization of Buffer Parameters (Source: [GeoPandas website](https://geopandas.org/en/stable/_images/buffer.png)).\n",
    "```"
   ]
  },
  {
   "cell_type": "code",
   "execution_count": 23,
   "id": "da7e2866-7470-4dd6-bd81-42b4d6ca111a",
   "metadata": {
    "editable": true,
    "slideshow": {
     "slide_type": ""
    },
    "tags": []
   },
   "outputs": [],
   "source": [
    "input_layer = gp.read_file(OUTPUT / \"clipped.shp\")[:1]\n",
    "buffer_layer = input_layer.copy()"
   ]
  },
  {
   "cell_type": "markdown",
   "id": "ef6cf1b4-89bd-439f-8e69-e55d00949aff",
   "metadata": {
    "editable": true,
    "slideshow": {
     "slide_type": ""
    },
    "tags": []
   },
   "source": [
    "The following code creates a buffer of:\n",
    "- 20 (The unit depends on the CRS),\n",
    "- with a resolution of 8,\n",
    "- round ends,\n",
    "- and beveled corners."
   ]
  },
  {
   "cell_type": "code",
   "execution_count": 24,
   "id": "95558e29-e68a-475d-a01e-8b10bdf5371d",
   "metadata": {
    "editable": true,
    "slideshow": {
     "slide_type": ""
    },
    "tags": []
   },
   "outputs": [],
   "source": [
    "buffer_layer['geometry'] = input_layer['geometry'].buffer(\n",
    "    distance=20, \n",
    "    resolution=8, \n",
    "    cap_style=2, \n",
    "    join_style=3)"
   ]
  },
  {
   "cell_type": "code",
   "execution_count": 25,
   "id": "38074f4a-04e1-4070-86dd-2c07b8620c74",
   "metadata": {
    "editable": true,
    "slideshow": {
     "slide_type": ""
    },
    "tags": []
   },
   "outputs": [
    {
     "data": {
      "image/png": "[encoded data removed]",
      "text/plain": [
       "<Figure size 640x480 with 1 Axes>"
      ]
     },
     "metadata": {},
     "output_type": "display_data"
    }
   ],
   "source": [
    "ax = buffer_layer.plot(color='red')\n",
    "ax.set_title(\"Buffered & Dissolved Layer\")\n",
    "ax.set_axis_off()"
   ]
  },
  {
   "cell_type": "markdown",
   "id": "70e997d3-59bf-4981-9e4e-8ae30fdc35ea",
   "metadata": {
    "editable": true,
    "slideshow": {
     "slide_type": ""
    },
    "tags": []
   },
   "source": [
    "## Negative buffer"
   ]
  },
  {
   "cell_type": "markdown",
   "id": "a82dfa85-44d1-4b0a-9719-c079dd15cf03",
   "metadata": {
    "editable": true,
    "slideshow": {
     "slide_type": ""
    },
    "tags": []
   },
   "source": [
    "Sometimes a feature is so large that it affects the analysis. In such cases, a negative buffer is defined to reduce the impact of the feature itself."
   ]
  },
  {
   "cell_type": "markdown",
   "id": "37d7c5f7-cfb8-42c3-8914-72d1b868613e",
   "metadata": {
    "editable": true,
    "slideshow": {
     "slide_type": ""
    },
    "tags": []
   },
   "source": [
    "The desired feature or dataset is loaded first."
   ]
  },
  {
   "cell_type": "code",
   "execution_count": 26,
   "id": "cd3cd41d-7e57-4c57-97a0-577762f0ad42",
   "metadata": {
    "editable": true,
    "slideshow": {
     "slide_type": ""
    },
    "tags": []
   },
   "outputs": [],
   "source": [
    "First_layer = gp.read_file(OUTPUT / \"clipped.shp\")[1:2]\n",
    "copy_layer = First_layer.copy()"
   ]
  },
  {
   "cell_type": "markdown",
   "id": "93d2da94-dbb4-425a-97dc-d66c66c24812",
   "metadata": {
    "editable": true,
    "slideshow": {
     "slide_type": ""
    },
    "tags": []
   },
   "source": [
    "In this case, simply define a negative value for the `distance` parameter, instead of a positive value."
   ]
  },
  {
   "cell_type": "code",
   "execution_count": 27,
   "id": "c4916134-3887-4ca3-bb48-8f7c4cc90c4d",
   "metadata": {
    "editable": true,
    "slideshow": {
     "slide_type": ""
    },
    "tags": []
   },
   "outputs": [],
   "source": [
    "copy_layer['geometry'] = copy_layer['geometry'].buffer(distance= -4) "
   ]
  },
  {
   "cell_type": "code",
   "execution_count": 28,
   "id": "c460533f-03a6-4a73-9991-d4bab537d201",
   "metadata": {
    "editable": true,
    "slideshow": {
     "slide_type": ""
    },
    "tags": []
   },
   "outputs": [
    {
     "data": {
      "image/png": "[encoded data removed]",
      "text/plain": [
       "<Figure size 640x480 with 1 Axes>"
      ]
     },
     "metadata": {},
     "output_type": "display_data"
    }
   ],
   "source": [
    "ax = First_layer.plot(color='yellow', alpha=1)\n",
    "copy_layer.plot(ax=ax, color='orange', alpha=0.5)\n",
    "\n",
    "input_patch = mpatches.Patch(color='yellow', label='Input Layer')\n",
    "buffer_patch = mpatches.Patch(color='orange', alpha=0.5, label='Buffered Layer')\n",
    "\n",
    "ax.legend(handles=[input_patch, buffer_patch], loc='upper left')\n",
    "\n",
    "ax.set_title(\"Buffered Layer\")\n",
    "ax.set_axis_off()"
   ]
  },
  {
   "cell_type": "markdown",
   "id": "6fd53ade-a18d-4320-a281-4e763d9a0d96",
   "metadata": {
    "editable": true,
    "slideshow": {
     "slide_type": ""
    },
    "tags": []
   },
   "source": [
    "## Multi-Ring Buffers"
   ]
  },
  {
   "cell_type": "markdown",
   "id": "a90cfef5-6991-41c7-a8c8-132253995267",
   "metadata": {
    "editable": true,
    "slideshow": {
     "slide_type": ""
    },
    "tags": []
   },
   "source": [
    "To analyze the effect of a feature at different distances, it can be helpful to create concentric buffer zones (multi-ring buffers) around the feature."
   ]
  },
  {
   "cell_type": "markdown",
   "id": "3bb1f55c-d843-415b-8625-d836639f9b16",
   "metadata": {
    "editable": true,
    "slideshow": {
     "slide_type": ""
    },
    "tags": []
   },
   "source": [
    "As these buffers needed to combine the `pandas` library should be imported. "
   ]
  },
  {
   "cell_type": "code",
   "execution_count": 29,
   "id": "f9480202-059d-43a8-8c14-60cdc1a36575",
   "metadata": {
    "editable": true,
    "slideshow": {
     "slide_type": ""
    },
    "tags": []
   },
   "outputs": [],
   "source": [
    "import pandas as pd"
   ]
  },
  {
   "cell_type": "markdown",
   "id": "254b6817-4b03-4771-8916-a6c05834f4f0",
   "metadata": {
    "editable": true,
    "slideshow": {
     "slide_type": ""
    },
    "tags": []
   },
   "source": [
    "The data is loaded."
   ]
  },
  {
   "cell_type": "code",
   "execution_count": 30,
   "id": "d98b74ae-a2bf-473a-bf92-08c19ad5a9c1",
   "metadata": {
    "editable": true,
    "slideshow": {
     "slide_type": ""
    },
    "tags": []
   },
   "outputs": [],
   "source": [
    "First_layer = gp.read_file(OUTPUT / \"clipped.shp\")[2:3]\n",
    "copied_layer = First_layer.copy()"
   ]
  },
  {
   "cell_type": "markdown",
   "id": "b94cfa55-f962-4cb8-b7e1-f252e4c23c22",
   "metadata": {
    "editable": true,
    "slideshow": {
     "slide_type": ""
    },
    "tags": []
   },
   "source": [
    "The buffer distances are defined as a list."
   ]
  },
  {
   "cell_type": "code",
   "execution_count": 31,
   "id": "50518b87-791e-483f-a99d-60fb8d4d756b",
   "metadata": {
    "editable": true,
    "slideshow": {
     "slide_type": ""
    },
    "tags": []
   },
   "outputs": [],
   "source": [
    "distances = [ -0.2, 4, 10] "
   ]
  },
  {
   "cell_type": "markdown",
   "id": "e22ed700-4f09-4004-903c-351ecd7ce704",
   "metadata": {
    "editable": true,
    "slideshow": {
     "slide_type": ""
    },
    "tags": []
   },
   "source": [
    "An empty list is created for containing the buffers for the defined distances."
   ]
  },
  {
   "cell_type": "code",
   "execution_count": 32,
   "id": "c0dda421-d160-4607-9fb9-186da4744888",
   "metadata": {
    "editable": true,
    "slideshow": {
     "slide_type": ""
    },
    "tags": []
   },
   "outputs": [],
   "source": [
    "buffer_data = []"
   ]
  },
  {
   "cell_type": "markdown",
   "id": "6b4d23e1-db6a-4630-b24d-27284e939a9c",
   "metadata": {
    "editable": true,
    "slideshow": {
     "slide_type": ""
    },
    "tags": []
   },
   "source": [
    "A `for loop` is used to generate buffers around each feature in the dataset. "
   ]
  },
  {
   "cell_type": "markdown",
   "id": "8ddc8632-7e4f-496f-9a24-b2888c8daf21",
   "metadata": {
    "editable": true,
    "slideshow": {
     "slide_type": ""
    },
    "tags": []
   },
   "source": [
    "Then both the distances and the geometry of buffers store in the empty list that already created."
   ]
  },
  {
   "cell_type": "code",
   "execution_count": 33,
   "id": "351c0116-f9b1-4137-892b-a95341d63f35",
   "metadata": {
    "editable": true,
    "slideshow": {
     "slide_type": ""
    },
    "tags": []
   },
   "outputs": [],
   "source": [
    "for items in distances:\n",
    "    buffered_geom = copied_layer.geometry.buffer(items)\n",
    "    for geom in buffered_geom:\n",
    "        buffer_data.append({'geometry': geom, 'distance': items})"
   ]
  },
  {
   "cell_type": "markdown",
   "id": "d9f089a0-81ce-45c0-8f66-e137a5ac7c04",
   "metadata": {
    "editable": true,
    "slideshow": {
     "slide_type": ""
    },
    "tags": []
   },
   "source": [
    "Then the list converts to a GeoDataFrame."
   ]
  },
  {
   "cell_type": "code",
   "execution_count": 34,
   "id": "a6c781ae-6899-4e97-9f5c-da6b360c2f0a",
   "metadata": {
    "editable": true,
    "slideshow": {
     "slide_type": ""
    },
    "tags": []
   },
   "outputs": [],
   "source": [
    "buffers = gp.GeoDataFrame(buffer_data)"
   ]
  },
  {
   "cell_type": "code",
   "execution_count": 35,
   "id": "c4e0ed13-3870-4451-abe3-e5cf1632b592",
   "metadata": {
    "editable": true,
    "slideshow": {
     "slide_type": ""
    },
    "tags": []
   },
   "outputs": [
    {
     "name": "stdout",
     "output_type": "stream",
     "text": [
      "                                            geometry  distance\n",
      "0  POLYGON ((402993.661 5658109.321, 402994.216 5...      -0.2\n",
      "1  POLYGON ((402989.932 5658106.707, 402989.542 5...       4.0\n",
      "2  POLYGON ((402983.705 5658107.102, 402983.679 5...      10.0\n"
     ]
    }
   ],
   "source": [
    "print (buffers)"
   ]
  },
  {
   "cell_type": "markdown",
   "id": "6bf40249-a8b2-4965-be2b-16f88d980364",
   "metadata": {
    "editable": true,
    "slideshow": {
     "slide_type": ""
    },
    "tags": []
   },
   "source": [
    "All the buffers can then be plotted together in the same window:"
   ]
  },
  {
   "cell_type": "markdown",
   "id": "ddd8b795-0906-404d-8812-9e8649a0687c",
   "metadata": {
    "editable": true,
    "slideshow": {
     "slide_type": ""
    },
    "tags": []
   },
   "source": [
    "First, a separate layer is created for each buffer distance by selecting the corresponding distance variable."
   ]
  },
  {
   "cell_type": "code",
   "execution_count": 36,
   "id": "1bb657f4-f3bc-4cf1-95b4-4bfc66023d6f",
   "metadata": {
    "editable": true,
    "slideshow": {
     "slide_type": ""
    },
    "tags": []
   },
   "outputs": [],
   "source": [
    "buffers_2 = buffers[buffers['distance'] == -0.2]\n",
    "buffers_4 = buffers[buffers['distance'] == 4]\n",
    "buffers_10 = buffers[buffers['distance'] == 10]"
   ]
  },
  {
   "cell_type": "markdown",
   "id": "143c8a36-6064-435c-af67-efc487712932",
   "metadata": {
    "editable": true,
    "slideshow": {
     "slide_type": ""
    },
    "tags": []
   },
   "source": [
    "Then as already mentioned in this section, using the `ax` parameter the layers overlay for visualization."
   ]
  },
  {
   "cell_type": "code",
   "execution_count": 37,
   "id": "62196ea2-23a5-44a0-a06c-ddedb1ff773c",
   "metadata": {
    "editable": true,
    "slideshow": {
     "slide_type": ""
    },
    "tags": []
   },
   "outputs": [
    {
     "data": {
      "image/png": "[encoded data removed]",
      "text/plain": [
       "<Figure size 640x480 with 1 Axes>"
      ]
     },
     "metadata": {},
     "output_type": "display_data"
    }
   ],
   "source": [
    "ax = buffers_10.plot(color='yellow', label='Buffer of 10')\n",
    "buffers_4.plot(ax=ax, color='red', alpha= 0.9,label='Buffer of 4')\n",
    "buffers_2.plot(ax=ax, color='orange', alpha= 0.8,label='Negative Buffer of 0.2')\n",
    "\n",
    "#legend\n",
    "legend_handles = [\n",
    "    mpatches.Patch(color='yellow', label='Buffer of 10'),\n",
    "    mpatches.Patch(color='red', label='Buffer of 4'),\n",
    "    mpatches.Patch(color='orange', label='Negative Buffer of 0.2')\n",
    "\n",
    "]\n",
    "ax.set_axis_off()  \n",
    "plt.title(\"Multi-Ring Buffers Layer\")\n",
    "plt.legend(handles=legend_handles)\n",
    "plt.show()\n"
   ]
  },
  {
   "cell_type": "markdown",
   "id": "7641c5a9-b2ef-4f9f-9474-1b62b6182af3",
   "metadata": {
    "editable": true,
    "slideshow": {
     "slide_type": ""
    },
    "tags": []
   },
   "source": [
    "Also to be able to compare the created buffers for each feature, radio button can be helpful."
   ]
  },
  {
   "cell_type": "markdown",
   "id": "7049d6c9-fb50-47a0-bd23-ef5e001c191c",
   "metadata": {},
   "source": [
    "For this reason, the `ipywidgets` library and `interactive` function added allow the creation of an interactive widget for comparing."
   ]
  },
  {
   "cell_type": "code",
   "execution_count": 38,
   "id": "96359a5a-5baf-4746-8319-dc386c3735e9",
   "metadata": {},
   "outputs": [],
   "source": [
    "import ipywidgets as w\n",
    "from ipywidgets import interactive"
   ]
  },
  {
   "cell_type": "markdown",
   "id": "0a11ffcc-0a2c-4622-8f63-297b0e4f0b13",
   "metadata": {},
   "source": [
    "The `RadioButtons` function then used to create the radio buttons for the user to select from. "
   ]
  },
  {
   "cell_type": "markdown",
   "id": "b80d523a-7a80-4a3c-96c9-12997d37dcf3",
   "metadata": {},
   "source": [
    "- `value`: Default selected value\n",
    "- `options`: Options for radio buttons\n",
    "- `description`: Title for the button lists "
   ]
  },
  {
   "cell_type": "code",
   "execution_count": 39,
   "id": "14f3d062-bdfc-4a06-8792-a1538c3ade1f",
   "metadata": {},
   "outputs": [],
   "source": [
    "radiobutton = w.RadioButtons(\n",
    "    value= -0.2,                    \n",
    "    options=[10, 4, -0.2],       \n",
    "    description=\"Buffer Distance\",\n",
    ")"
   ]
  },
  {
   "cell_type": "markdown",
   "id": "6b2ed935-3886-4255-8fa9-6cd7b7f38675",
   "metadata": {},
   "source": [
    "Then, a function is defined that plots the selected buffer layer based on the button selected in the radio buttons. "
   ]
  },
  {
   "cell_type": "markdown",
   "id": "83b426ee-3978-467b-ba1a-cc52c032cc12",
   "metadata": {},
   "source": [
    "Then, using the `interactive` function, the function and the widget are linked."
   ]
  },
  {
   "cell_type": "markdown",
   "id": "0affb561-460f-4a96-9e69-f73defa9f54e",
   "metadata": {},
   "source": [
    "interactive(function_name, parameter1=widget1, parameter2=widget2, ...)\n",
    "\n",
    "**ex:** interactive_plot = interactive(plot_layers, radiobutton= radiobutton)\n",
    "\n",
    "- first radiobutton: parameter which has been called in the plot_layers function\n",
    "- second radiobutton: radiobutton widget that already created to select\n"
   ]
  },
  {
   "cell_type": "code",
   "execution_count": null,
   "id": "28384b8a-2d22-47a7-9b51-b64243982a72",
   "metadata": {},
   "outputs": [],
   "source": [
    "def plot_layers(radiobutton):\n",
    "    fig, ax = plt.subplots()\n",
    "\n",
    "    copied_layer.plot(ax=ax, edgecolor='black', facecolor='none', linewidth=2, alpha=1)\n",
    "\n",
    "    if radiobutton == 10:\n",
    "        buffers_10.plot(ax=ax, color='red', alpha=0.5)\n",
    "    elif radiobutton == 4:\n",
    "        buffers_4.plot(ax=ax, color='yellow', alpha=0.5)\n",
    "    elif radiobutton == -0.2:\n",
    "        buffers_2.plot(ax=ax, color='orange', alpha=0.5)\n",
    "\n",
    "    legend_handles = [\n",
    "    mpatches.Patch(edgecolor='black', facecolor='none', label='Original Layer'),\n",
    "    mpatches.Patch(color='red', label='Buffer of 10'),\n",
    "    mpatches.Patch(color='yellow', label='Buffer of 4'),\n",
    "    mpatches.Patch(color='orange', label='Negative Buffer of 0.2')]\n",
    "    plt.legend(handles=legend_handles)\n",
    "\n",
    "    ax.set_title(\"Original Layer with Buffers\")\n",
    "    ax.set_axis_off()\n",
    "\n",
    "    plt.show()\n",
    "\n",
    "interactive_plot = interactive(plot_layers, radiobutton= radiobutton)\n",
    "\n",
    "display(interactive_plot)"
   ]
  },
  {
   "cell_type": "code",
   "execution_count": null,
   "id": "65b83d71-d446-4038-957c-fb87bed717e2",
   "metadata": {},
   "outputs": [],
   "source": []
  }
 ],
 "metadata": {
  "kernelspec": {
   "display_name": "worker_env",
   "language": "python",
   "name": "worker_env"
  },
  "language_info": {
   "codemirror_mode": {
    "name": "ipython",
    "version": 3
   },
   "file_extension": ".py",
   "mimetype": "text/x-python",
   "name": "python",
   "nbconvert_exporter": "python",
   "pygments_lexer": "ipython3",
   "version": "3.12.7"
  }
 },
 "nbformat": 4,
 "nbformat_minor": 5
}
