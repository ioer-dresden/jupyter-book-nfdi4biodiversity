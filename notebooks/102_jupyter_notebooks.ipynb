{
 "cells": [
  {
   "cell_type": "markdown",
   "id": "bb1b5b7f",
   "metadata": {},
   "source": [
    "# Setup & Getting familiar with Jupyter"
   ]
  },
  {
   "cell_type": "markdown",
   "id": "7d5a0bb8-0605-4443-87ef-b096a3c0ae9f",
   "metadata": {},
   "source": [
    "```{admonition} Summary\n",
    ":class: hint\n",
    "This chapter provides a brief introduction to the key components of the Jupyter. For a more detailed information, please see [jupyter.org](https://docs.jupyter.org/en/latest/).\n",
    "```"
   ]
  },
  {
   "cell_type": "markdown",
   "id": "4cf105cc",
   "metadata": {},
   "source": [
    "**Jupyter** is a software that includes various tools for interactive computing. \n",
    "These training materials are built using **Jupyter Notebooks**, which are interactive documents that combine explanations, code, and outputs in one place. The notebooks were created using **JupyterLab**, which is a web-based development environment that provides an integrated workspace for notebooks, text editors, terminals, and more. To make navigation easier, individual notebooks have been structured into a **Jupyter Book**, which organizes the content into chapters and pages.\n",
    "\n",
    "Learn more about [Jupyter Notebook](https://jupyter-notebook.readthedocs.io/en/latest/), [JupyterLab](https://jupyterlab.readthedocs.io/en/stable/getting_started/overview.html) and [Jupyter Book](https://jupyterbook.org/en/stable/intro.html)."
   ]
  },
  {
   "cell_type": "markdown",
   "id": "86aca1e8-af4b-4d94-a278-8a0156bccbe7",
   "metadata": {},
   "source": [
    "### How to use the Notebooks?\n",
    "\n",
    "The notebooks can be used in several ways:\n",
    "\n",
    "- **As a source of information**: Use the notebooks as a source of information by reading the main chapters and skipping sections that involve Python specifics.\n",
    "- **For code snippets**: Browse through the chapters and select and copy relevant code snippets to use in your own projects.\n",
    "- **Interactively**: Run the Jupyter Notebooks to explore and experiment  with the workflows, trying out the code and modifying it for your needs."
   ]
  },
  {
   "cell_type": "markdown",
   "id": "77dbb4b9-386f-4687-934a-6e0fb5c1e690",
   "metadata": {},
   "source": [
    "### How to copy code snippets?\n",
    "The page is organized into sections called ‘cells,’ which may include text explanations, images, or code.\n",
    "\n",
    "To copy a code snippet, click the copy icon in the top-right corner of the code cell."
   ]
  },
  {
   "cell_type": "code",
   "execution_count": 2,
   "id": "cd581d0b-0d0c-49c1-b7a6-d7e658793502",
   "metadata": {},
   "outputs": [],
   "source": [
    "# See the button on the top-right cordner to copy this text"
   ]
  },
  {
   "cell_type": "markdown",
   "id": "dbbb4d1f-f503-4451-b8a8-b6bb77821abb",
   "metadata": {},
   "source": [
    "`````{tip}\n",
    ":class: tip\n",
    "In Jupyter Notebooks, text cells use Markdown, a simple markup language for formatting notes, documents, presentations, and websites. Markdown works across all operating systems and is converted to HTML for display in web browsers.\n",
    "\n",
    "Learn more about using [Markdown](https://www.markdownguide.org/getting-started/).\n",
    "`````"
   ]
  },
  {
   "cell_type": "markdown",
   "id": "10e830a5-71de-42b8-86e5-7099b4a820aa",
   "metadata": {},
   "source": [
    "### How to run the training materials interactively?"
   ]
  },
  {
   "cell_type": "markdown",
   "id": "79659edd-dc9e-4ad1-bdf5-a78d23fb8ef3",
   "metadata": {},
   "source": [
    "Installing JupyterLab is relatively easy:"
   ]
  },
  {
   "cell_type": "markdown",
   "id": "92ff21dd-6872-4768-9ffd-d262c173fb4f",
   "metadata": {},
   "source": [
    "```bash\n",
    "pip install jupyterlab\n",
    "jupyter lab # run jupyterlab\n",
    "```"
   ]
  },
  {
   "cell_type": "markdown",
   "id": "fb037db2-4f5a-437d-affc-d996b5ca1985",
   "metadata": {
    "editable": true,
    "slideshow": {
     "slide_type": ""
    },
    "tags": []
   },
   "source": [
    "However, from there, Python package management, version conflicts, dependency issues and many other challenges can make it very difficult for beginnings to reproduce the outputs we show here. You have different options that we explain below."
   ]
  },
  {
   "cell_type": "markdown",
   "id": "d21b8c5d-8583-4999-808f-a0bc950c3e2e",
   "metadata": {},
   "source": [
    "#### Carto-Lab Docker"
   ]
  },
  {
   "cell_type": "markdown",
   "id": "e9be08be-bf89-4046-8f58-a055036c6c13",
   "metadata": {
    "editable": true,
    "slideshow": {
     "slide_type": ""
    },
    "tags": []
   },
   "source": [
    "To ensure full reproducibility of the training materials, we use a prepared system environment called [Carto-Lab Docker](https://cartolab.theplink.org/).\n",
    "\n",
    "Carto-Lab Docker includes\n",
    "- Jupyter Lab \n",
    "- A Python environment with major cartographic packages pre-installed \n",
    "- The base system (Linux) \n",
    "\n",
    "All these components are packaged in a Docker container, which is **versioned** and made available through a registry. The version number allows you to pull the correct archive container to run these notebooks. Below we show the version of Carto-Lab Docker used:"
   ]
  },
  {
   "cell_type": "code",
   "execution_count": 5,
   "id": "68172feb-5787-4cf6-a2ec-82fca5330b6e",
   "metadata": {
    "editable": true,
    "jupyter": {
     "source_hidden": true
    },
    "slideshow": {
     "slide_type": ""
    },
    "tags": [
     "remove-input"
    ]
   },
   "outputs": [
    {
     "data": {
      "text/markdown": [
       "Last updated: Mar-21-2025, [Carto-Lab Docker](https://gitlab.vgiscience.de/lbsn/tools/jupyterlab) Version 0.26.1"
      ],
      "text/plain": [
       "<IPython.core.display.Markdown object>"
      ]
     },
     "execution_count": 5,
     "metadata": {},
     "output_type": "execute_result"
    }
   ],
   "source": [
    "from IPython.display import Markdown as md\n",
    "from datetime import date\n",
    "\n",
    "today = date.today()\n",
    "with open('/.version', 'r') as file: app_version = file.read().split(\"'\")[1]\n",
    "md(f\"Last updated: {today.strftime('%b-%d-%Y')}, [Carto-Lab Docker](https://gitlab.vgiscience.de/lbsn/tools/jupyterlab) Version {app_version}\")"
   ]
  },
  {
   "cell_type": "markdown",
   "id": "28dcdb90-d60d-4b87-968c-c533ed29eb51",
   "metadata": {
    "editable": true,
    "slideshow": {
     "slide_type": ""
    },
    "tags": []
   },
   "source": [
    "`````{admonition} See the Carto-Lab Docker docs for installation instructions\n",
    ":class: dropdown, hint\n",
    "\n",
    "This is from the [Carto-Lab Docker docs](https://cartolab.theplink.org/docker/).\n",
    "                                              \n",
    "```bash\n",
    "git clone https://gitlab.vgiscience.de/lbsn/tools/jupyterlab.git\n",
    "cd jupyterlab\n",
    "cp .env.example .env\n",
    "nano .env\n",
    "# Enter the Carto-Lab Docker version you want to use\n",
    "# TAG=v0.26.1\n",
    "docker network create lbsn-network\n",
    "docker-compose pull && docker-compose up -d\n",
    "```\n",
    "`````"
   ]
  },
  {
   "cell_type": "markdown",
   "id": "4ab21c57-954d-463c-bb68-2dc5fb607900",
   "metadata": {
    "editable": true,
    "slideshow": {
     "slide_type": ""
    },
    "tags": []
   },
   "source": [
    "```{admonition} We only guarantee reproducibility with Carto-Lab Docker\n",
    ":class: attention\n",
    "Due to the wide variety of systems, operating systems (Windows, Linux, Mac), software versions and changing environments, we can only guarantee complete reproducibility with the exact Carto-Lab Docker version shown above. You may still be lucky if you use some of the alternatives we show you below.\n",
    "\n",
    "In general, we recommend to avoid Windows under any circumstances. If you are working in Windows, a better alternative is either to use Windows Subsystem for Linux (WSL) or to run these notebooks in the cloud somewhere (ask your IT/Admin). For instance, Carto-Lab Docker can also be run in the cloud.\n",
    "```"
   ]
  },
  {
   "cell_type": "markdown",
   "id": "06a8bfb0-671c-412b-b385-ec0e0de8a6b7",
   "metadata": {
    "editable": true,
    "slideshow": {
     "slide_type": ""
    },
    "tags": []
   },
   "source": [
    "### Installing dependencies individually"
   ]
  },
  {
   "cell_type": "markdown",
   "id": "ba6eabbe",
   "metadata": {
    "editable": true,
    "slideshow": {
     "slide_type": ""
    },
    "tags": []
   },
   "source": [
    "### Basic key commands \n",
    "\n",
    "- <kbd>SHIFT + ENTER</kbd> → Run the current cell and go to the next\n",
    "- <kbd>CTRL + ENTER</kbd> → Run multiple selected cells\n",
    "- <kbd>CTRL + X</kbd> → Cut selected cells\n",
    "- <kbd>d d (press d twice)</kbd> → Delete selected cells\n"
   ]
  },
  {
   "cell_type": "markdown",
   "id": "842d2c11",
   "metadata": {},
   "source": [
    "## How to install packages and libraries in JupyterLab"
   ]
  },
  {
   "cell_type": "markdown",
   "id": "dab127cc",
   "metadata": {},
   "source": [
    "For installing the new packages in the JupyterLab a new Launcher tab needed."
   ]
  },
  {
   "cell_type": "markdown",
   "id": "56f16724",
   "metadata": {},
   "source": [
    "Launcher tab opens by default when you start JupyterLab, otherwise you can open it by going to the menu bar and selecting File and then New Launcher :"
   ]
  },
  {
   "cell_type": "markdown",
   "id": "fb2cde97",
   "metadata": {},
   "source": [
    "![../resources/4.png](../resources/4.png)"
   ]
  },
  {
   "cell_type": "markdown",
   "id": "68463d4d",
   "metadata": {},
   "source": [
    "Also it is accessible by pressing the `+` sign, if you already have a notebook opened :"
   ]
  },
  {
   "cell_type": "markdown",
   "id": "5ba0be28",
   "metadata": {},
   "source": [
    "![../resources/1.png](../resources/1.png)"
   ]
  },
  {
   "cell_type": "markdown",
   "id": "6af08bf4",
   "metadata": {},
   "source": [
    "In the Launcher tab, click on Terminal to open a new terminal window:"
   ]
  },
  {
   "cell_type": "markdown",
   "id": "ebde72a2",
   "metadata": {},
   "source": [
    "![../resources/2.png](../resources/2.png)"
   ]
  },
  {
   "cell_type": "markdown",
   "id": "ea3f1b29",
   "metadata": {},
   "source": [
    "In the terminal window, you might see the current directory activated as a prompt like the following figure:"
   ]
  },
  {
   "cell_type": "markdown",
   "id": "224f1be1",
   "metadata": {},
   "source": [
    "![../resources/3.png](../resources/3.png)"
   ]
  },
  {
   "cell_type": "markdown",
   "id": "17eaff9c",
   "metadata": {},
   "source": [
    "The pip commands can be used to install packages. To install a package, use the \"pip install\" keyword followed by the \"package name\":\n",
    "- **Example:**     pip install pandas :"
   ]
  },
  {
   "cell_type": "markdown",
   "id": "5b0e91b6",
   "metadata": {},
   "source": [
    "![../resources/5.png](../resources/5.png)"
   ]
  },
  {
   "cell_type": "markdown",
   "id": "361952a0",
   "metadata": {},
   "source": [
    "Installation is complete by indicating a message whether the installation was successful and the command prompt appears again, to enter new commands :"
   ]
  },
  {
   "cell_type": "markdown",
   "id": "cda1bf5c",
   "metadata": {},
   "source": [
    "![../resources/6.png](../resources/6.png)"
   ]
  },
  {
   "cell_type": "markdown",
   "id": "de9ed5a0",
   "metadata": {},
   "source": [
    "## How to import Packages and Libraries"
   ]
  },
  {
   "cell_type": "markdown",
   "id": "48bdafa7",
   "metadata": {},
   "source": [
    "After successfully installing the package, you need to import it in your notebook to be able to use their functions."
   ]
  },
  {
   "cell_type": "markdown",
   "id": "f14a0dc9",
   "metadata": {},
   "source": [
    "Create a new code cell where you can write your statements. To import a package, use the \"import\" keyword followed by the \"package name\". \n",
    "- **Example:** import pandas\n",
    "\n",
    "Or to make it easier to call during coding use an alias :\n",
    "\n",
    "- **Example:** import pandas as pd\n"
   ]
  },
  {
   "cell_type": "markdown",
   "id": "a3ae5cc6",
   "metadata": {},
   "source": [
    "![../resources/7.png](../resources/7.png)"
   ]
  },
  {
   "cell_type": "markdown",
   "id": "2bc2abb9",
   "metadata": {},
   "source": [
    "This cell is not showing any output unless the package or library not installed successfully :"
   ]
  },
  {
   "cell_type": "markdown",
   "id": "11aff1a2",
   "metadata": {},
   "source": [
    "![../resources/8.png](../resources/8.png)"
   ]
  },
  {
   "cell_type": "markdown",
   "id": "cd6da249",
   "metadata": {},
   "source": [
    "If the installation was successful but still the issue persists, it could be due to using the wrong environment or kernel."
   ]
  },
  {
   "cell_type": "markdown",
   "id": "a9d83e3c",
   "metadata": {},
   "source": [
    "- Wrong Environment: Package or Library is not installed in the current environment:\n",
    "  \n",
    "  **Solution:** Activate the correct environment, then restart Jupyter.\n",
    "\n"
   ]
  },
  {
   "cell_type": "markdown",
   "id": "973d8099",
   "metadata": {},
   "source": [
    "- Wrong Kernel: Package or Library is not installed in the selected Jupyter kernel.\n",
    "\n",
    "  **Solution:** Switch to the correct kernel via the upper-right menu in Jupyter.\n",
    " \n",
    "  \n"
   ]
  },
  {
   "cell_type": "markdown",
   "id": "1b062dd8",
   "metadata": {},
   "source": [
    "![../resources/9.png](../resources/9.png)"
   ]
  },
  {
   "cell_type": "code",
   "execution_count": null,
   "id": "00f1845d",
   "metadata": {},
   "outputs": [],
   "source": []
  }
 ],
 "metadata": {
  "kernelspec": {
   "display_name": "worker_env",
   "language": "python",
   "name": "worker_env"
  },
  "language_info": {
   "codemirror_mode": {
    "name": "ipython",
    "version": 3
   },
   "file_extension": ".py",
   "mimetype": "text/x-python",
   "name": "python",
   "nbconvert_exporter": "python",
   "pygments_lexer": "ipython3",
   "version": "3.11.6"
  }
 },
 "nbformat": 4,
 "nbformat_minor": 5
}
