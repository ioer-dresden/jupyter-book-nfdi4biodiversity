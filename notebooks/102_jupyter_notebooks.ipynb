{
 "cells": [
  {
   "cell_type": "markdown",
   "id": "bb1b5b7f",
   "metadata": {
    "editable": true,
    "slideshow": {
     "slide_type": ""
    },
    "tags": []
   },
   "source": [
    "# Setup & Getting familiar with Jupyter"
   ]
  },
  {
   "cell_type": "markdown",
   "id": "7d5a0bb8-0605-4443-87ef-b096a3c0ae9f",
   "metadata": {},
   "source": [
    "```{admonition} Summary\n",
    ":class: hint\n",
    "This chapter provides a brief introduction to the key components of the Jupyter. For a more detailed information, please see [jupyter.org](https://docs.jupyter.org/en/latest/).\n",
    "```"
   ]
  },
  {
   "cell_type": "markdown",
   "id": "4cf105cc",
   "metadata": {},
   "source": [
    "**Jupyter** is a software that includes various tools for interactive computing. \n",
    "These training materials are built using **Jupyter Notebooks**, which are interactive documents that combine explanations, code, and outputs in one place. The notebooks were created using **JupyterLab**, which is a web-based development environment that provides an integrated workspace for notebooks, text editors, terminals, and more. To make navigation easier, individual notebooks have been structured into a **Jupyter Book**, which organizes the content into chapters and pages.\n",
    "\n",
    "Learn more about [Jupyter Notebook](https://jupyter-notebook.readthedocs.io/en/latest/), [JupyterLab](https://jupyterlab.readthedocs.io/en/stable/getting_started/overview.html) and [Jupyter Book](https://jupyterbook.org/en/stable/intro.html)."
   ]
  },
  {
   "cell_type": "markdown",
   "id": "86aca1e8-af4b-4d94-a278-8a0156bccbe7",
   "metadata": {},
   "source": [
    "### How to use the Notebooks?\n",
    "\n",
    "The notebooks can be used in several ways:\n",
    "\n",
    "- **As a source of information**: Use the notebooks as a source of information by reading the main chapters and skipping sections that involve Python specifics.\n",
    "- **For code snippets**: Browse through the chapters and select and copy relevant code snippets to use in your own projects.\n",
    "- **Interactively**: Run the Jupyter Notebooks to explore and experiment  with the workflows, trying out the code and modifying it for your needs."
   ]
  },
  {
   "cell_type": "markdown",
   "id": "77dbb4b9-386f-4687-934a-6e0fb5c1e690",
   "metadata": {},
   "source": [
    "### How to copy code snippets?\n",
    "The page is organized into sections called ‘cells,’ which may include text explanations, images, or code.\n",
    "\n",
    "To copy a code snippet, click the copy icon in the top-right corner of the code cell."
   ]
  },
  {
   "cell_type": "code",
   "execution_count": 2,
   "id": "cd581d0b-0d0c-49c1-b7a6-d7e658793502",
   "metadata": {
    "editable": true,
    "slideshow": {
     "slide_type": ""
    },
    "tags": []
   },
   "outputs": [],
   "source": [
    "# See the copy button on the right corner when you hover over this text."
   ]
  },
  {
   "cell_type": "markdown",
   "id": "dbbb4d1f-f503-4451-b8a8-b6bb77821abb",
   "metadata": {},
   "source": [
    "`````{tip}\n",
    ":class: tip\n",
    "In Jupyter Notebooks, text cells use Markdown, a simple markup language for formatting notes, documents, presentations, and websites. Markdown works across all operating systems and is converted to HTML for display in web browsers.\n",
    "\n",
    "Learn more about using [Markdown](https://www.markdownguide.org/getting-started/).\n",
    "`````"
   ]
  },
  {
   "cell_type": "markdown",
   "id": "10e830a5-71de-42b8-86e5-7099b4a820aa",
   "metadata": {
    "editable": true,
    "slideshow": {
     "slide_type": ""
    },
    "tags": []
   },
   "source": [
    "### How to run the training materials interactively?"
   ]
  },
  {
   "cell_type": "markdown",
   "id": "548e3e67-ba85-4a97-8e65-84d12aeaa88f",
   "metadata": {
    "editable": true,
    "slideshow": {
     "slide_type": ""
    },
    "tags": []
   },
   "source": [
    "In Python, \"dependencies\" typically refer to **packages** and **libraries** that the code needs to work properly. Packages and libraries are collections of pre-written code that help you perform various tasks more easily. Each package or library is designed for a specific purpose, such as visualising data.\n",
    "\n",
    "To successfully run the workflows in these notebooks, you must have the required packages or libraries installed. The first software that is needed is **JupyterLab**."
   ]
  },
  {
   "cell_type": "markdown",
   "id": "dc923190-1ba9-4600-a881-d23ff071e8a6",
   "metadata": {
    "editable": true,
    "slideshow": {
     "slide_type": ""
    },
    "tags": []
   },
   "source": [
    "```{admonition} Not familiar with Python packages or libraries?\n",
    ":class: dropdown, seealso\n",
    "The [Python Standard Library Documentation](https://docs.python.org/3/library/index.html) and the lists below provide selected standard library modules as well as third-party packages and libraries.\n",
    "\n",
    "<details>\n",
    "<summary><strong>Selected standard library modules (pre-installed with Python)</strong></summary>\n",
    "    \n",
    "- [csv](https://docs.python.org/3/library/csv.html):                CSV file reading and writing\n",
    "- [sys](https://docs.python.org/3/library/sys.html):                System-specific parameters and functions\n",
    "- [pathlib](https://docs.python.org/3/library/pathlib.html): Object-oriented filesystem paths\n",
    "- [collections](https://docs.python.org/3/library/collections.html): Container datatypes\n",
    "- [typing](https://docs.python.org/3/library/typing.html): Support for type hints\n",
    "- [os](https://docs.python.org/3/library/os.html): Miscellaneous operating system interfaces\n",
    "      \n",
    "</details>\n",
    "\n",
    "<details>\n",
    "<summary><strong>Selected third-party packages and libaries (require installation)</strong></summary> \n",
    "    \n",
    "- [requests](https://pypi.org/project/requests/): Simplifies making HTTP requests, allowing users to easily send and receive data from web APIs\n",
    "- [shapely](https://shapely.readthedocs.io/en/latest/manual.html): Geometric operations and spatial queries\n",
    "- [numpy](https://numpy.org/): Numerical computing and array operations\n",
    "- [holoviews](https://holoviews.org/): High-level data visualization framework\n",
    "- [geoviews](https://geoviews.org/): Geographic data visualizations for HoloViews\n",
    "- [geopandas](https://geopandas.org): Geospatial data manipulation using pandas.\n",
    "- [pyproj](https://pypi.org/project/pyproj/): Cartographic projections and coordinate transformations library\n",
    "- [cartopy](https://github.com/SciTools/cartopy): Drawing maps for data analysis and visualisation\n",
    "- [bokeh](https://github.com/bokeh/bokeh): Interactive web-based visualizations with JavaScript integration.\n",
    "- [matplotlib](https://matplotlib.org/): Plotting and data visualization library\n",
    "- [ggplot2](https://ggplot2.tidyverse.org/): System for declaratively creating graphics\n",
    "  \n",
    "</details>\n",
    "\n",
    "```"
   ]
  },
  {
   "cell_type": "markdown",
   "id": "79659edd-dc9e-4ad1-bdf5-a78d23fb8ef3",
   "metadata": {
    "editable": true,
    "slideshow": {
     "slide_type": ""
    },
    "tags": []
   },
   "source": [
    "Installing JupyterLab is relatively easy:"
   ]
  },
  {
   "cell_type": "markdown",
   "id": "92ff21dd-6872-4768-9ffd-d262c173fb4f",
   "metadata": {},
   "source": [
    "```bash\n",
    "pip install jupyterlab\n",
    "jupyter lab # run jupyterlab\n",
    "```"
   ]
  },
  {
   "cell_type": "markdown",
   "id": "fb037db2-4f5a-437d-affc-d996b5ca1985",
   "metadata": {
    "editable": true,
    "slideshow": {
     "slide_type": ""
    },
    "tags": []
   },
   "source": [
    "However, from there, Python package management, version conflicts, dependency issues and many other challenges can make it very difficult for beginnings to reproduce the outputs we show here. You have different options that we explain below."
   ]
  },
  {
   "cell_type": "markdown",
   "id": "d21b8c5d-8583-4999-808f-a0bc950c3e2e",
   "metadata": {},
   "source": [
    "#### Carto-Lab Docker"
   ]
  },
  {
   "cell_type": "markdown",
   "id": "e9be08be-bf89-4046-8f58-a055036c6c13",
   "metadata": {
    "editable": true,
    "slideshow": {
     "slide_type": ""
    },
    "tags": []
   },
   "source": [
    "To ensure full reproducibility of the training materials, we use a prepared system environment called [Carto-Lab Docker](https://cartolab.theplink.org/).\n",
    "\n",
    "Carto-Lab Docker includes\n",
    "- Jupyter Lab \n",
    "- A Python environment with major cartographic packages pre-installed \n",
    "- The base system (Linux) \n",
    "\n",
    "All these components are packaged in a Docker container, which is **versioned** and made available through a registry. The version number allows you to pull the correct archive container to run these notebooks. Below we show the version of Carto-Lab Docker used:"
   ]
  },
  {
   "cell_type": "code",
   "execution_count": 5,
   "id": "68172feb-5787-4cf6-a2ec-82fca5330b6e",
   "metadata": {
    "editable": true,
    "jupyter": {
     "source_hidden": true
    },
    "slideshow": {
     "slide_type": ""
    },
    "tags": [
     "remove-input"
    ]
   },
   "outputs": [
    {
     "data": {
      "text/markdown": [
       "Last updated: Mar-21-2025, [Carto-Lab Docker](https://gitlab.vgiscience.de/lbsn/tools/jupyterlab) Version 0.26.1"
      ],
      "text/plain": [
       "<IPython.core.display.Markdown object>"
      ]
     },
     "execution_count": 5,
     "metadata": {},
     "output_type": "execute_result"
    }
   ],
   "source": [
    "from IPython.display import Markdown as md\n",
    "from datetime import date\n",
    "\n",
    "today = date.today()\n",
    "with open('/.version', 'r') as file: app_version = file.read().split(\"'\")[1]\n",
    "md(f\"Last updated: {today.strftime('%b-%d-%Y')}, [Carto-Lab Docker](https://gitlab.vgiscience.de/lbsn/tools/jupyterlab) Version {app_version}\")"
   ]
  },
  {
   "cell_type": "markdown",
   "id": "28dcdb90-d60d-4b87-968c-c533ed29eb51",
   "metadata": {
    "editable": true,
    "slideshow": {
     "slide_type": ""
    },
    "tags": []
   },
   "source": [
    "`````{admonition} See the Carto-Lab Docker docs for installation instructions\n",
    ":class: dropdown, hint\n",
    "\n",
    "This is from the [Carto-Lab Docker docs](https://cartolab.theplink.org/docker/).\n",
    "                                              \n",
    "```bash\n",
    "git clone https://gitlab.vgiscience.de/lbsn/tools/jupyterlab.git\n",
    "cd jupyterlab\n",
    "cp .env.example .env\n",
    "nano .env\n",
    "# Enter the Carto-Lab Docker version you want to use\n",
    "# TAG=v0.26.1\n",
    "docker network create lbsn-network\n",
    "docker-compose pull && docker-compose up -d\n",
    "```\n",
    "`````"
   ]
  },
  {
   "cell_type": "markdown",
   "id": "4ab21c57-954d-463c-bb68-2dc5fb607900",
   "metadata": {
    "editable": true,
    "slideshow": {
     "slide_type": ""
    },
    "tags": []
   },
   "source": [
    "```{admonition} We only guarantee reproducibility with Carto-Lab Docker\n",
    ":class: attention\n",
    "Due to the wide variety of possible setups, operating systems (Windows, Linux, Mac), software versions and changing environments, we can only guarantee complete reproducibility with the exact Carto-Lab Docker version shown above. You may still be lucky if you use some of the alternatives we show you below.\n",
    "\n",
    "In general, we recommend to avoid Windows under any circumstances. If you are working in Windows, a better alternative is either to use Windows Subsystem for Linux (WSL) or to run these notebooks in the cloud somewhere (ask your IT/Admin). For instance, Carto-Lab Docker can also be run in the cloud.\n",
    "```"
   ]
  },
  {
   "cell_type": "markdown",
   "id": "1831449b-daf3-478a-80ca-e35555e330b6",
   "metadata": {},
   "source": [
    "### Clone the training materials"
   ]
  },
  {
   "cell_type": "markdown",
   "id": "7edbde3a-2e0a-4d20-b9e8-faf20bd1775e",
   "metadata": {},
   "source": [
    "In order to use the training materials, the repository must be cloned. Open a terminal and type the following command:"
   ]
  },
  {
   "cell_type": "markdown",
   "id": "3586eb17-c233-4eb7-a15d-a54a63e79538",
   "metadata": {},
   "source": [
    "```bash\n",
    "git clone https://gitlab.hrz.tu-chemnitz.de/ioer/fdz/jupyter-book-nfdi4biodiversity.git\n",
    "```"
   ]
  },
  {
   "cell_type": "markdown",
   "id": "531146b4-0dc5-4437-999a-b6b329927263",
   "metadata": {},
   "source": [
    "``````{admonition} Use of the Jupyter erminal\n",
    ":class: hint\n",
    "You can use the terminal that is provided by Jupyter. At your Jupyter Dashboard, click the following Icon:\n",
    "```{figure} ../resources/terminal.jpg\n",
    ":name: terminal-icon\n",
    "\n",
    "This is the terminal icon.\n",
    "```\n",
    "Afterwards, type:\n",
    "```bash\n",
    "cd /home/jovyan/work/\n",
    "git clone https://gitlab.hrz.tu-chemnitz.de/ioer/fdz/jupyter-book-nfdi4biodiversity.git\n",
    "```\n",
    "\n",
    "- `/home/jovyan/work/` is the path to the default home folder in Jupyter. The home folder is the folder you are seeing in the Explorer on the right side when logged in to Jupyter.\n",
    "``````"
   ]
  },
  {
   "cell_type": "markdown",
   "id": "ba6eabbe",
   "metadata": {
    "editable": true,
    "slideshow": {
     "slide_type": ""
    },
    "tags": []
   },
   "source": [
    "### Jupyterlab: Basic key commands \n",
    "\n",
    "After these steps, you are ready to go. You can find the individual notebooks of the training materials in the subfolder `notebooks/`.\n",
    "\n",
    "These are the most important key commands, to get you started.\n",
    "\n",
    "- <kbd>SHIFT + ENTER</kbd> → Run the current cell and go to the next\n",
    "- <kbd>CTRL + ENTER</kbd> → Run multiple selected cells\n",
    "- <kbd>CTRL + X</kbd> → Cut selected cells\n",
    "- <kbd>d d (press d twice)</kbd> → Delete selected cells\n"
   ]
  },
  {
   "cell_type": "markdown",
   "id": "06a8bfb0-671c-412b-b385-ec0e0de8a6b7",
   "metadata": {
    "editable": true,
    "slideshow": {
     "slide_type": ""
    },
    "tags": []
   },
   "source": [
    "### Installing dependencies individually\n",
    "\n",
    "You can also install the packages individually:\n",
    "1. Install all packages for all notebooks in a single environment (harder, but less work)\n",
    "2. or install all packages for each notebook into a separate environment (easier, but more work)"
   ]
  },
  {
   "cell_type": "markdown",
   "id": "68616cde-7f63-4f90-b058-189ac754e08a",
   "metadata": {
    "editable": true,
    "slideshow": {
     "slide_type": ""
    },
    "tags": []
   },
   "source": [
    "For **Option 1**, you can start with the [environment.yml](https://gitlab.vgiscience.de/lbsn/tools/jupyterlab/-/blob/master-latest/environment_default.yml?ref_type=heads) from Carto-Lab Docker and install the environment manually with:\n",
    "```bash\n",
    "conda env create -f environment.yaml\n",
    "```\n",
    "\n",
    "Afterwards, you must install jupyterlab into the above environment manually with:\n",
    "```bash\n",
    "conda activate worker_env\n",
    "conda install -c conda-forge jupyterlab\n",
    "```"
   ]
  },
  {
   "cell_type": "markdown",
   "id": "75c3de2e-3dde-4aca-9939-56ed604ecf72",
   "metadata": {
    "editable": true,
    "slideshow": {
     "slide_type": ""
    },
    "tags": []
   },
   "source": [
    "For **Option 2**, we we provide a summary of the packages used and the specific versions at the end of each notebook chapter,\n",
    "\n",
    "Example:"
   ]
  },
  {
   "cell_type": "code",
   "execution_count": 9,
   "id": "e33a25ad-4631-4216-a88e-892e3df12d0a",
   "metadata": {
    "editable": true,
    "jupyter": {
     "source_hidden": true
    },
    "slideshow": {
     "slide_type": ""
    },
    "tags": [
     "remove-input"
    ]
   },
   "outputs": [
    {
     "data": {
      "text/html": [
       "\n",
       "        <details><summary style=\"cursor: pointer;\">List of package versions used in this notebook</summary>\n",
       "        <table border=\"1\" class=\"dataframe\">\n",
       "  <thead>\n",
       "    <tr style=\"text-align: right;\">\n",
       "      <th>package</th>\n",
       "      <th>python</th>\n",
       "      <th>dask</th>\n",
       "      <th>datashader</th>\n",
       "      <th>geopandas</th>\n",
       "      <th>matplotlib</th>\n",
       "      <th>pandas</th>\n",
       "    </tr>\n",
       "  </thead>\n",
       "  <tbody>\n",
       "    <tr>\n",
       "      <th>version</th>\n",
       "      <td>3.11.6</td>\n",
       "      <td>2024.12.1</td>\n",
       "      <td>0.17.0</td>\n",
       "      <td>0.14.4</td>\n",
       "      <td>3.10.1</td>\n",
       "      <td>2.2.3</td>\n",
       "    </tr>\n",
       "  </tbody>\n",
       "</table>\n",
       "        </details>\n",
       "        "
      ],
      "text/plain": [
       "<IPython.core.display.HTML object>"
      ]
     },
     "metadata": {},
     "output_type": "display_data"
    }
   ],
   "source": [
    "import sys\n",
    "from pathlib import Path\n",
    "\n",
    "module_path = str(Path.cwd().parents[0] / \"py\")\n",
    "if module_path not in sys.path:\n",
    "    sys.path.append(module_path)\n",
    "from modules import tools\n",
    "\n",
    "root_packages = [\n",
    "    'python', 'geopandas', 'pandas', 'matplotlib', 'dask', 'datashader']\n",
    "tools.package_report(root_packages)"
   ]
  },
  {
   "cell_type": "markdown",
   "id": "223b1898-b4dd-4442-90f6-9a2e71de562f",
   "metadata": {},
   "source": [
    "To install the above packages, use e.g.:\n",
    "```bash\n",
    "pip install python==3.11.6 dask==2024.12.1 datashader==0.17.0 geopandas==0.14.4 matplotlib==3.10.1 pandas==2.2.3\n",
    "```"
   ]
  },
  {
   "cell_type": "markdown",
   "id": "842d2c11",
   "metadata": {
    "editable": true,
    "slideshow": {
     "slide_type": ""
    },
    "tags": []
   },
   "source": [
    "## Temporary package installs"
   ]
  },
  {
   "cell_type": "markdown",
   "id": "dab127cc",
   "metadata": {
    "editable": true,
    "slideshow": {
     "slide_type": ""
    },
    "tags": []
   },
   "source": [
    "Sometimes, a default environment exists that already includes many packages. Only some new packages need to be installed for certain notebooks. In these cases, it can be _Ok_ to install packages temporarily directly from within Jupyter. \n",
    "\n",
    "```{admonition} Example notebook\n",
    ":class: hint\n",
    "We do this, for example, for `owslib` in our workflow in [Data Retrieval: IOER Monitor](203_data_retrieval_monitor): The Carto-Lab Docker environment does not contain this package and we only need it once to query the IOER Monitor API.\n",
    "```"
   ]
  },
  {
   "cell_type": "markdown",
   "id": "271d9881-48dd-4f13-bee5-1120d46ff5a3",
   "metadata": {
    "editable": true,
    "slideshow": {
     "slide_type": ""
    },
    "tags": []
   },
   "source": [
    "You can install packages temporarily by issuing bash commands directly in a code cell with a `!`-prefix."
   ]
  },
  {
   "cell_type": "markdown",
   "id": "a4a173d2-66d9-472b-b792-b09a78bb66b2",
   "metadata": {
    "editable": true,
    "slideshow": {
     "slide_type": ""
    },
    "tags": []
   },
   "source": [
    "```bash\n",
    "!pip install owslib\n",
    "```"
   ]
  },
  {
   "cell_type": "markdown",
   "id": "991aef47-207e-4c7b-9f99-b039d4cb1e69",
   "metadata": {
    "editable": true,
    "slideshow": {
     "slide_type": ""
    },
    "tags": []
   },
   "source": [
    "We have written a little helper script that comes with the training materials that also checks if the package is already installed."
   ]
  },
  {
   "cell_type": "code",
   "execution_count": 10,
   "id": "487f7cab-f8df-4d20-8a44-7fca8a431bff",
   "metadata": {
    "editable": true,
    "slideshow": {
     "slide_type": ""
    },
    "tags": [
     "remove-input"
    ]
   },
   "outputs": [
    {
     "data": {
      "text/markdown": [
       "<details style='cursor: pointer;'><summary>Have a look at <code>pkginstall.sh</code></summary>\n",
       "\n",
       "```Python\n",
       "\n",
       "#!/bin/bash\n",
       "\n",
       "################################################################################\n",
       "#\n",
       "# Shell script to install python packages for Carto-Lab Docker base environment \"worker_env\"\n",
       "# - provide list of package names as string, separated by space character\n",
       "# - will check folder exists before installation, to reduce processing time\n",
       "# - will output version of installed packages afterwards\n",
       "#\n",
       "################################################################################\n",
       "\n",
       "# Exit as soon as a command fails\n",
       "set -e\n",
       "\n",
       "# Accessing an empty variable will yield an error\n",
       "set -u\n",
       "\n",
       "WORKER_PATH=\"/opt/conda/envs/worker_env/bin/python\"\n",
       "PACKAGE_PATH=\"/opt/conda/envs/worker_env/lib/python3.9/site-packages/\"\n",
       "\n",
       "pkgs=( $1 )\n",
       "for i in \"${!pkgs[@]}\"; do\n",
       "    if [ ! -d \"${PACKAGE_PATH}${pkgs[i]}\" ]\n",
       "    then\n",
       "        /opt/conda/envs/worker_env/bin/python -m pip install \"${pkgs[i]}\" >&- 2>&-\n",
       "        pkgversion=$(/opt/conda/envs/worker_env/bin/python -c \"import ${pkgs[i]//-/_};print(${pkgs[i]//-/_}.__version__);\")\n",
       "        echo \"Installed ${pkgs[i]} ${pkgversion}.\"\n",
       "        continue\n",
       "    else\n",
       "        echo \"${pkgs[i]} already installed.\"\n",
       "    fi\n",
       "done\n",
       "\n",
       "\n",
       "```\n",
       "\n",
       "</details>"
      ],
      "text/plain": [
       "<IPython.core.display.Markdown object>"
      ]
     },
     "metadata": {},
     "output_type": "display_data"
    }
   ],
   "source": [
    "tools.display_file(Path.cwd().parents[0] / 'py' / 'modules' / 'pkginstall.sh')"
   ]
  },
  {
   "cell_type": "markdown",
   "id": "079f7a9b-d675-4c44-82ac-af07ec350947",
   "metadata": {
    "editable": true,
    "slideshow": {
     "slide_type": ""
    },
    "tags": []
   },
   "source": [
    "```{note}\n",
    "This script only works in Carto-Lab Docker, as you can use a different kernel environment name with a different path.\n",
    "```"
   ]
  },
  {
   "cell_type": "markdown",
   "id": "de9ed5a0",
   "metadata": {
    "editable": true,
    "slideshow": {
     "slide_type": ""
    },
    "tags": []
   },
   "source": [
    "## How to import Packages and Libraries"
   ]
  },
  {
   "cell_type": "markdown",
   "id": "48bdafa7",
   "metadata": {},
   "source": [
    "After successfully installing the package, you need to import it in your notebook to be able to use their functions."
   ]
  },
  {
   "cell_type": "markdown",
   "id": "f14a0dc9",
   "metadata": {},
   "source": [
    "Create a new code cell where you can write your statements. To import a package, use the \"import\" keyword followed by the \"package name\". \n",
    "- **Example:** import pandas\n",
    "\n",
    "Or to make it easier to call during coding use an alias :\n",
    "\n",
    "- **Example:** import pandas as pd\n"
   ]
  },
  {
   "cell_type": "markdown",
   "id": "a3ae5cc6",
   "metadata": {},
   "source": [
    "![../resources/7.png](../resources/7.png)"
   ]
  },
  {
   "cell_type": "markdown",
   "id": "2bc2abb9",
   "metadata": {},
   "source": [
    "This cell is not showing any output unless the package or library not installed successfully :"
   ]
  },
  {
   "cell_type": "markdown",
   "id": "11aff1a2",
   "metadata": {},
   "source": [
    "![../resources/8.png](../resources/8.png)"
   ]
  },
  {
   "cell_type": "markdown",
   "id": "cd6da249",
   "metadata": {},
   "source": [
    "If the installation was successful but still the issue persists, it could be due to using the wrong environment or kernel."
   ]
  },
  {
   "cell_type": "markdown",
   "id": "a9d83e3c",
   "metadata": {},
   "source": [
    "- Wrong Environment: Package or Library is not installed in the current environment:\n",
    "  \n",
    "  **Solution:** Activate the correct environment, then restart Jupyter.\n",
    "\n"
   ]
  },
  {
   "cell_type": "markdown",
   "id": "973d8099",
   "metadata": {},
   "source": [
    "- Wrong Kernel: Package or Library is not installed in the selected Jupyter kernel.\n",
    "\n",
    "  **Solution:** Switch to the correct kernel via the upper-right menu in Jupyter.\n",
    " \n",
    "  \n"
   ]
  },
  {
   "cell_type": "markdown",
   "id": "1b062dd8",
   "metadata": {},
   "source": [
    "![../resources/9.png](../resources/9.png)"
   ]
  },
  {
   "cell_type": "code",
   "execution_count": null,
   "id": "00f1845d",
   "metadata": {},
   "outputs": [],
   "source": []
  }
 ],
 "metadata": {
  "kernelspec": {
   "display_name": "worker_env",
   "language": "python",
   "name": "worker_env"
  },
  "language_info": {
   "codemirror_mode": {
    "name": "ipython",
    "version": 3
   },
   "file_extension": ".py",
   "mimetype": "text/x-python",
   "name": "python",
   "nbconvert_exporter": "python",
   "pygments_lexer": "ipython3",
   "version": "3.11.6"
  }
 },
 "nbformat": 4,
 "nbformat_minor": 5
}
