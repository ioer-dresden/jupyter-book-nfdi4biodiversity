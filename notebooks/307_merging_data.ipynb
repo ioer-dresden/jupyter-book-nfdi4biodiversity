{
 "cells": [
  {
   "cell_type": "markdown",
   "id": "49e47b43-a4c6-4630-b79e-56eaa1ce4288",
   "metadata": {
    "editable": true,
    "slideshow": {
     "slide_type": ""
    },
    "tags": []
   },
   "source": [
    "# Merging Data"
   ]
  },
  {
   "cell_type": "markdown",
   "id": "19c7c6db-3e31-4d8d-8c17-ab423ca6a59d",
   "metadata": {},
   "source": [
    "```{admonition} Summary\n",
    ":class: hint\n",
    "\n",
    "This section explains three ways to merge geospatial data:\n",
    "\n",
    "- Merging similar datasets using the `concat()` function\n",
    "- Merging datasets by common attributes using the `merge()` function\n",
    "- Merging datasets based on spatial relationships using the `sjoin()` function\n",
    "\n",
    "\n",
    "```"
   ]
  },
  {
   "cell_type": "markdown",
   "id": "f5be73f8-83ca-4703-a50c-69f88f81a455",
   "metadata": {},
   "source": [
    "## Merging similar datasets using `concat()`"
   ]
  },
  {
   "cell_type": "markdown",
   "id": "40cf8de0-0384-49b9-b950-76c5ef6c83a9",
   "metadata": {},
   "source": [
    "If the attributes of the input datasets are identical, they can be merged vertically using the `concat()` function in `pandas`."
   ]
  },
  {
   "cell_type": "markdown",
   "id": "a4d88bdc-f58f-4454-8608-bac48723e4a9",
   "metadata": {},
   "source": [
    "Import and load required libraries:"
   ]
  },
  {
   "cell_type": "code",
   "execution_count": 14,
   "id": "3f459f63-c45b-4a04-a767-66e53de1f0ae",
   "metadata": {
    "editable": true,
    "slideshow": {
     "slide_type": ""
    },
    "tags": []
   },
   "outputs": [],
   "source": [
    "from pathlib import Path\n",
    "import geopandas as gp\n",
    "import pandas as pd"
   ]
  },
  {
   "cell_type": "markdown",
   "id": "2b19d046-99c0-4f44-842d-bf118e3bce63",
   "metadata": {},
   "source": [
    "Define input and output paths:"
   ]
  },
  {
   "cell_type": "code",
   "execution_count": 15,
   "id": "38c2e0ee-05f8-41f2-94bd-e25c5cb680b1",
   "metadata": {
    "editable": true,
    "slideshow": {
     "slide_type": ""
    },
    "tags": []
   },
   "outputs": [],
   "source": [
    "INPUT = Path.cwd().parents[0] / \"00_data\"\n",
    "OUTPUT = Path.cwd().parents[0] / \"out\""
   ]
  },
  {
   "cell_type": "markdown",
   "id": "1bf03256-5d30-4136-b6d1-01d9d4f66796",
   "metadata": {
    "editable": true,
    "slideshow": {
     "slide_type": ""
    },
    "tags": []
   },
   "source": [
    "Load input datasets:"
   ]
  },
  {
   "cell_type": "code",
   "execution_count": 16,
   "id": "27d4e374-10d6-46ec-9ed0-d3e9bc29539b",
   "metadata": {
    "editable": true,
    "slideshow": {
     "slide_type": ""
    },
    "tags": []
   },
   "outputs": [],
   "source": [
    "gdb_path = INPUT / \"Biotopwerte_Dresden_2018.gdb\"\n",
    "input_data = gp.read_file(gdb_path, layer=\"Biotopwerte_Dresden_2018\")[:1]\n",
    "second_data = gp.read_file(gdb_path, layer=\"Biotopwerte_Dresden_2018\")[1:2]"
   ]
  },
  {
   "cell_type": "markdown",
   "id": "c4ccd721-5eb8-4309-92b3-290da99a7228",
   "metadata": {
    "editable": true,
    "slideshow": {
     "slide_type": ""
    },
    "tags": []
   },
   "source": [
    "The `concat()` function is used to concatenate two datasets. The `ignore_index` parameter determines whether a new index is created or if the original indexes are preserved.\n",
    "\n",
    "- `ignore_index=True` → Creates a new index for the features in the merged dataset.\n",
    "- `ignore_index=False` → Preserves original indexes (which may lead to duplicate indexes)."
   ]
  },
  {
   "cell_type": "code",
   "execution_count": 17,
   "id": "449478e1-3a5d-4370-b6dd-743f5674614e",
   "metadata": {
    "editable": true,
    "slideshow": {
     "slide_type": ""
    },
    "tags": []
   },
   "outputs": [],
   "source": [
    "merged_dataset = pd.concat(\n",
    "    [input_data, second_data], \n",
    "    ignore_index=True)"
   ]
  },
  {
   "cell_type": "markdown",
   "id": "c3eff8e0-fe5b-4429-9137-b5a0d589431e",
   "metadata": {
    "editable": true,
    "slideshow": {
     "slide_type": ""
    },
    "tags": []
   },
   "source": [
    "Check the results: "
   ]
  },
  {
   "cell_type": "code",
   "execution_count": 18,
   "id": "e1507403-6afc-4208-93c9-5d0a933e416b",
   "metadata": {
    "editable": true,
    "slideshow": {
     "slide_type": ""
    },
    "tags": []
   },
   "outputs": [
    {
     "data": {
      "text/html": [
       "<div>\n",
       "<style scoped>\n",
       "    .dataframe tbody tr th:only-of-type {\n",
       "        vertical-align: middle;\n",
       "    }\n",
       "\n",
       "    .dataframe tbody tr th {\n",
       "        vertical-align: top;\n",
       "    }\n",
       "\n",
       "    .dataframe thead th {\n",
       "        text-align: right;\n",
       "    }\n",
       "</style>\n",
       "<table border=\"1\" class=\"dataframe\">\n",
       "  <thead>\n",
       "    <tr style=\"text-align: right;\">\n",
       "      <th></th>\n",
       "      <th>CLC_st1</th>\n",
       "      <th>Biotpkt2018</th>\n",
       "      <th>Shape_Length</th>\n",
       "      <th>Shape_Area</th>\n",
       "      <th>geometry</th>\n",
       "    </tr>\n",
       "  </thead>\n",
       "  <tbody>\n",
       "    <tr>\n",
       "      <th>0</th>\n",
       "      <td>122</td>\n",
       "      <td>5.271487</td>\n",
       "      <td>210.523801</td>\n",
       "      <td>3371.947771</td>\n",
       "      <td>MULTIPOLYGON (((415775.635 5650481.473, 415776...</td>\n",
       "    </tr>\n",
       "    <tr>\n",
       "      <th>1</th>\n",
       "      <td>122</td>\n",
       "      <td>5.271487</td>\n",
       "      <td>31.935928</td>\n",
       "      <td>50.075513</td>\n",
       "      <td>MULTIPOLYGON (((417850.525 5650376.330, 417846...</td>\n",
       "    </tr>\n",
       "  </tbody>\n",
       "</table>\n",
       "</div>"
      ],
      "text/plain": [
       "  CLC_st1  Biotpkt2018  Shape_Length   Shape_Area  \\\n",
       "0     122     5.271487    210.523801  3371.947771   \n",
       "1     122     5.271487     31.935928    50.075513   \n",
       "\n",
       "                                            geometry  \n",
       "0  MULTIPOLYGON (((415775.635 5650481.473, 415776...  \n",
       "1  MULTIPOLYGON (((417850.525 5650376.330, 417846...  "
      ]
     },
     "execution_count": 18,
     "metadata": {},
     "output_type": "execute_result"
    }
   ],
   "source": [
    "merged_dataset"
   ]
  },
  {
   "cell_type": "markdown",
   "id": "6ba81fa1-c25c-47d2-87c5-1408ceeefa17",
   "metadata": {
    "editable": true,
    "slideshow": {
     "slide_type": ""
    },
    "tags": []
   },
   "source": [
    "## Merging based on common attributes using `merge()`"
   ]
  },
  {
   "cell_type": "markdown",
   "id": "0ef00119-a037-45c0-b950-055ed22a1aae",
   "metadata": {
    "editable": true,
    "slideshow": {
     "slide_type": ""
    },
    "tags": []
   },
   "source": [
    "If two datasets share a `common attribute`, they can be merged into one dataset horizontally. In this case, the output will include only rows with matching values in the common attribute. \n",
    "\n",
    "For example, if both datasets contain an `ID` column, only the rows with the **same ID** will be merged horizontally, combining all attributes for that ID. "
   ]
  },
  {
   "cell_type": "markdown",
   "id": "617ff96b-a231-46a4-8a89-6e86eb3df15f",
   "metadata": {
    "editable": true,
    "slideshow": {
     "slide_type": ""
    },
    "tags": []
   },
   "source": [
    "````{admonition} How the **how** parameter works in the **merge() function**\n",
    ":class: attention\n",
    "The `how` parameter controls how datasets are merged:\n",
    "- `inner`: The result includes only matching rows. Common attribute must be the same in both datasets from both datasets.\n",
    "- `outer`: The result  all rows from both datasets. Missing values are filled with `NaN`.\n",
    "- `left`: The result includes all rows from the first dataset and matching data from the second. Non-matching rows get `NaN`.\n",
    "- `right`: The result includes all rows from the second dataset and matching data from the first. Non-matching rows get `NaN`.\n",
    "\n",
    "For more information, check the the [GeoPandas documentation](https://geopandas.org/en/stable/docs/user_guide/mergingdata.html#attribute-joins).\n",
    "````"
   ]
  },
  {
   "cell_type": "markdown",
   "id": "aca77021-8ef4-46ba-88f3-7db195bcfa84",
   "metadata": {
    "editable": true,
    "slideshow": {
     "slide_type": ""
    },
    "tags": []
   },
   "source": [
    "```{dropdown} Examples how different **how** options affect merging with tables\n",
    "The following examples show how two datasets are merged, defined by the `how` parameter. \n",
    "\n",
    "**Dataset 1**:\n",
    "\n",
    "|ID  |Type  |\n",
    "|:---| ----:|\n",
    "|1   |     A|\n",
    "|3   |C     |\n",
    "|6   |D     |\n",
    "\n",
    "**Dataset 2**:\n",
    "\n",
    "|    ID  |   Time    |\n",
    "| :------| --------: |\n",
    "|    1   |  15 min   |\n",
    "|    3   |  16 min   |\n",
    "|    4   |  17 min   |\n",
    "\n",
    "- `inner`: Keeps only the rows with matching `ID` values in both datasets.\n",
    "\n",
    "|    ID  |  Type   |   Time   |\n",
    "| :------| ------- |--------: |\n",
    "|    1   |   A     |  15 min  |\n",
    "|    3   |   C     |  16 min  |\n",
    "\n",
    "- `outer`: Includes all rows from both datasets; missing values are filled with `NaN`.\n",
    "\n",
    "|    ID  |  Type   |   Time   |\n",
    "| :------| ------- |--------: |\n",
    "|    1   |   A     |  15 min  |\n",
    "|    3   |   C     |  16 min  |\n",
    "|    6   |   D     | **NaN**  |\n",
    "|    4   | **NaN** |  17 min  |\n",
    "\n",
    "- `left`: Keeps all rows from **Dataset 1** and adds matching values from **Dataset 2**; unmatched values get `NaN`.\n",
    "\n",
    "|    ID  |  Type   |   Time   |\n",
    "| :------| ------- |--------: |\n",
    "|    1   |   A     |  15 min  |\n",
    "|    3   |   C     |  16 min  |\n",
    "|    6   |   D     | **NaN**  |\n",
    "\n",
    "- `right`: Keeps all rows from **Dataset 2** and adds matching values from **Dataset 1**; unmatched values get `NaN`.\n",
    "\n",
    "|    ID  |  Type   |   Time   |\n",
    "| :------| ------- |--------: |\n",
    "|    1   |   A     |  15 min  |\n",
    "|    3   |   C     |  16 min  |\n",
    "|    4   | **NaN** |  17 min  |\n",
    "```"
   ]
  },
  {
   "cell_type": "markdown",
   "id": "ce33d136-583a-43d3-9052-24396a240d74",
   "metadata": {},
   "source": [
    "**Code example: Using the `merge()` function in Python**"
   ]
  },
  {
   "cell_type": "markdown",
   "id": "051f568c-d447-4dc2-95ae-a9346c391b2c",
   "metadata": {},
   "source": [
    "- **If the common attribute (column) has the same name in both datasets:**"
   ]
  },
  {
   "cell_type": "markdown",
   "id": "5eb9f94d-0fc9-4448-8daa-f741309254f8",
   "metadata": {},
   "source": [
    "Merge based on the column `CLC_st1` which is common in both datasets:\n",
    "\n",
    "- `on`: Defines the similarity attribute.\n",
    "- `how`: Controls how datasets are merged."
   ]
  },
  {
   "cell_type": "code",
   "execution_count": 19,
   "id": "4e7371eb-b6f3-4f3f-acd2-a0ac191b46a4",
   "metadata": {
    "editable": true,
    "slideshow": {
     "slide_type": ""
    },
    "tags": []
   },
   "outputs": [],
   "source": [
    "merged_dataset = input_data.merge(\n",
    "    second_data, \n",
    "    on='CLC_st1',     \n",
    "    how='inner')       "
   ]
  },
  {
   "cell_type": "markdown",
   "id": "8e6c6b0d-32af-4e10-9262-d74c2f44ccc8",
   "metadata": {
    "editable": true,
    "slideshow": {
     "slide_type": ""
    },
    "tags": []
   },
   "source": [
    "Then check the result with the `print` function:"
   ]
  },
  {
   "cell_type": "code",
   "execution_count": 20,
   "id": "3c6e08b3-878e-44ca-b53e-79d7abd97593",
   "metadata": {
    "editable": true,
    "slideshow": {
     "slide_type": ""
    },
    "tags": []
   },
   "outputs": [
    {
     "data": {
      "text/html": [
       "<div>\n",
       "<style scoped>\n",
       "    .dataframe tbody tr th:only-of-type {\n",
       "        vertical-align: middle;\n",
       "    }\n",
       "\n",
       "    .dataframe tbody tr th {\n",
       "        vertical-align: top;\n",
       "    }\n",
       "\n",
       "    .dataframe thead th {\n",
       "        text-align: right;\n",
       "    }\n",
       "</style>\n",
       "<table border=\"1\" class=\"dataframe\">\n",
       "  <thead>\n",
       "    <tr style=\"text-align: right;\">\n",
       "      <th></th>\n",
       "      <th>0</th>\n",
       "    </tr>\n",
       "  </thead>\n",
       "  <tbody>\n",
       "    <tr>\n",
       "      <th>CLC_st1</th>\n",
       "      <td>122</td>\n",
       "    </tr>\n",
       "    <tr>\n",
       "      <th>Biotpkt2018_x</th>\n",
       "      <td>5.271487</td>\n",
       "    </tr>\n",
       "    <tr>\n",
       "      <th>Shape_Length_x</th>\n",
       "      <td>210.523801</td>\n",
       "    </tr>\n",
       "    <tr>\n",
       "      <th>Shape_Area_x</th>\n",
       "      <td>3371.947771</td>\n",
       "    </tr>\n",
       "    <tr>\n",
       "      <th>geometry_x</th>\n",
       "      <td>MULTIPOLYGON (((415775.6353000002 5650481.4728...</td>\n",
       "    </tr>\n",
       "    <tr>\n",
       "      <th>Biotpkt2018_y</th>\n",
       "      <td>5.271487</td>\n",
       "    </tr>\n",
       "    <tr>\n",
       "      <th>Shape_Length_y</th>\n",
       "      <td>31.935928</td>\n",
       "    </tr>\n",
       "    <tr>\n",
       "      <th>Shape_Area_y</th>\n",
       "      <td>50.075513</td>\n",
       "    </tr>\n",
       "    <tr>\n",
       "      <th>geometry_y</th>\n",
       "      <td>MULTIPOLYGON (((417850.5251000002 5650376.3303...</td>\n",
       "    </tr>\n",
       "  </tbody>\n",
       "</table>\n",
       "</div>"
      ],
      "text/plain": [
       "                                                                0\n",
       "CLC_st1                                                       122\n",
       "Biotpkt2018_x                                            5.271487\n",
       "Shape_Length_x                                         210.523801\n",
       "Shape_Area_x                                          3371.947771\n",
       "geometry_x      MULTIPOLYGON (((415775.6353000002 5650481.4728...\n",
       "Biotpkt2018_y                                            5.271487\n",
       "Shape_Length_y                                          31.935928\n",
       "Shape_Area_y                                            50.075513\n",
       "geometry_y      MULTIPOLYGON (((417850.5251000002 5650376.3303..."
      ]
     },
     "execution_count": 20,
     "metadata": {},
     "output_type": "execute_result"
    }
   ],
   "source": [
    "merged_dataset.T"
   ]
  },
  {
   "cell_type": "markdown",
   "id": "164291e5-66c3-48b2-b040-23f0aa680193",
   "metadata": {
    "editable": true,
    "slideshow": {
     "slide_type": ""
    },
    "tags": []
   },
   "source": [
    "```{admonition} Handling duplicate column names\n",
    ":class: note\n",
    "If both datasets have columns with the same name (other than the common attribute), GeoPandas adds suffixes `_x` and `_y` by default.\n",
    "\n",
    "**Example**: If both datasets contain a column named area, the merged dataset will have area_x (from the first dataset) and area_y (from the second dataset).\n",
    "```"
   ]
  },
  {
   "cell_type": "markdown",
   "id": "36aa5c0c-a7bc-450c-956b-8f7815ac3ca2",
   "metadata": {},
   "source": [
    "### Customizing suffixes"
   ]
  },
  {
   "cell_type": "markdown",
   "id": "9818fc17-0296-4cb5-a827-5554475ec5c2",
   "metadata": {},
   "source": [
    "To rename these suffixes within the `merge()` function, use the `suffixes` parameter:"
   ]
  },
  {
   "cell_type": "markdown",
   "id": "8602417c-f82a-45b3-9dab-192a8cbb3486",
   "metadata": {},
   "source": [
    "In the example, `FIRST` added to the first dataset and `SECOND` added to the second dataset. "
   ]
  },
  {
   "cell_type": "code",
   "execution_count": 24,
   "id": "4713a45b-fd5f-437a-9e21-7aceb06240aa",
   "metadata": {
    "editable": true,
    "slideshow": {
     "slide_type": ""
    },
    "tags": []
   },
   "outputs": [],
   "source": [
    "merged_dataset = input_data.merge(\n",
    "    second_data,\n",
    "    on='CLC_st1',\n",
    "    how='inner',\n",
    "    suffixes=('_FIRST', '_SECOND')) # rename suffixes"
   ]
  },
  {
   "cell_type": "markdown",
   "id": "64dd04e1-79bb-4d08-a492-ee71202b06ba",
   "metadata": {
    "editable": true,
    "slideshow": {
     "slide_type": ""
    },
    "tags": []
   },
   "source": [
    "Check the result with the `print` function:"
   ]
  },
  {
   "cell_type": "code",
   "execution_count": 25,
   "id": "743b2c3e-1147-46da-9eba-6cf650911ba3",
   "metadata": {
    "editable": true,
    "slideshow": {
     "slide_type": ""
    },
    "tags": []
   },
   "outputs": [
    {
     "data": {
      "text/html": [
       "<div>\n",
       "<style scoped>\n",
       "    .dataframe tbody tr th:only-of-type {\n",
       "        vertical-align: middle;\n",
       "    }\n",
       "\n",
       "    .dataframe tbody tr th {\n",
       "        vertical-align: top;\n",
       "    }\n",
       "\n",
       "    .dataframe thead th {\n",
       "        text-align: right;\n",
       "    }\n",
       "</style>\n",
       "<table border=\"1\" class=\"dataframe\">\n",
       "  <thead>\n",
       "    <tr style=\"text-align: right;\">\n",
       "      <th></th>\n",
       "      <th>0</th>\n",
       "    </tr>\n",
       "  </thead>\n",
       "  <tbody>\n",
       "    <tr>\n",
       "      <th>CLC_st1</th>\n",
       "      <td>122</td>\n",
       "    </tr>\n",
       "    <tr>\n",
       "      <th>Biotpkt2018_FIRST</th>\n",
       "      <td>5.271487</td>\n",
       "    </tr>\n",
       "    <tr>\n",
       "      <th>Shape_Length_FIRST</th>\n",
       "      <td>210.523801</td>\n",
       "    </tr>\n",
       "    <tr>\n",
       "      <th>Shape_Area_FIRST</th>\n",
       "      <td>3371.947771</td>\n",
       "    </tr>\n",
       "    <tr>\n",
       "      <th>geometry_FIRST</th>\n",
       "      <td>MULTIPOLYGON (((415775.6353000002 5650481.4728...</td>\n",
       "    </tr>\n",
       "    <tr>\n",
       "      <th>Biotpkt2018_SECOND</th>\n",
       "      <td>5.271487</td>\n",
       "    </tr>\n",
       "    <tr>\n",
       "      <th>Shape_Length_SECOND</th>\n",
       "      <td>31.935928</td>\n",
       "    </tr>\n",
       "    <tr>\n",
       "      <th>Shape_Area_SECOND</th>\n",
       "      <td>50.075513</td>\n",
       "    </tr>\n",
       "    <tr>\n",
       "      <th>geometry_SECOND</th>\n",
       "      <td>MULTIPOLYGON (((417850.5251000002 5650376.3303...</td>\n",
       "    </tr>\n",
       "  </tbody>\n",
       "</table>\n",
       "</div>"
      ],
      "text/plain": [
       "                                                                     0\n",
       "CLC_st1                                                            122\n",
       "Biotpkt2018_FIRST                                             5.271487\n",
       "Shape_Length_FIRST                                          210.523801\n",
       "Shape_Area_FIRST                                           3371.947771\n",
       "geometry_FIRST       MULTIPOLYGON (((415775.6353000002 5650481.4728...\n",
       "Biotpkt2018_SECOND                                            5.271487\n",
       "Shape_Length_SECOND                                          31.935928\n",
       "Shape_Area_SECOND                                            50.075513\n",
       "geometry_SECOND      MULTIPOLYGON (((417850.5251000002 5650376.3303..."
      ]
     },
     "execution_count": 25,
     "metadata": {},
     "output_type": "execute_result"
    }
   ],
   "source": [
    "merged_dataset.T"
   ]
  },
  {
   "cell_type": "markdown",
   "id": "d93e3a33-d7d0-4b4d-a579-1e5b506ed0b3",
   "metadata": {},
   "source": [
    "```{admonition} **Merging only selected attributes**\n",
    ":class: caution, dropdown\n",
    "By default, merging includes all attributes from both datasets. However, you can specify only the required attribute.\n",
    "\n",
    "To select the specific attributes (columns) for any process, these attributes are defined in double brackets `[[ ]]`. The \"common\" attribute (`on` parameter), **must** be defined in both datasets.\n",
    "\n",
    "Note:\n",
    "- Use double brackets `[[ ]]` to preserve the tabular format (GeoDataFrame).\n",
    "- Using single brackets `[ ]` creates a series of data, which is not in tabular format (GeoDataFrame) and makes an error with operating the `merge()` function.\n",
    "```"
   ]
  },
  {
   "cell_type": "markdown",
   "id": "e198d652-8c08-4264-ad6e-3cef914347c4",
   "metadata": {},
   "source": [
    "The following output includes only the `CLC_st1` column, which is the common column in both datasets and `geometry` column of the second dataset."
   ]
  },
  {
   "cell_type": "code",
   "execution_count": 27,
   "id": "dec4f6cd-a3bf-4b53-8ea6-6d9d27f9a392",
   "metadata": {
    "editable": true,
    "slideshow": {
     "slide_type": ""
    },
    "tags": []
   },
   "outputs": [
    {
     "data": {
      "text/html": [
       "<div>\n",
       "<style scoped>\n",
       "    .dataframe tbody tr th:only-of-type {\n",
       "        vertical-align: middle;\n",
       "    }\n",
       "\n",
       "    .dataframe tbody tr th {\n",
       "        vertical-align: top;\n",
       "    }\n",
       "\n",
       "    .dataframe thead th {\n",
       "        text-align: right;\n",
       "    }\n",
       "</style>\n",
       "<table border=\"1\" class=\"dataframe\">\n",
       "  <thead>\n",
       "    <tr style=\"text-align: right;\">\n",
       "      <th></th>\n",
       "      <th>CLC_st1</th>\n",
       "      <th>geometry</th>\n",
       "    </tr>\n",
       "  </thead>\n",
       "  <tbody>\n",
       "    <tr>\n",
       "      <th>0</th>\n",
       "      <td>122</td>\n",
       "      <td>MULTIPOLYGON (((417850.525 5650376.330, 417846...</td>\n",
       "    </tr>\n",
       "  </tbody>\n",
       "</table>\n",
       "</div>"
      ],
      "text/plain": [
       "  CLC_st1                                           geometry\n",
       "0     122  MULTIPOLYGON (((417850.525 5650376.330, 417846..."
      ]
     },
     "execution_count": 27,
     "metadata": {},
     "output_type": "execute_result"
    }
   ],
   "source": [
    "merged_dataset = input_data[['CLC_st1']].merge(\n",
    "    second_data[['CLC_st1','geometry']],\n",
    "    on='CLC_st1',\n",
    "    how='inner')\n",
    "merged_dataset # Check the result"
   ]
  },
  {
   "cell_type": "markdown",
   "id": "2f1a163b-fd5f-406a-b4c1-f89421bbf015",
   "metadata": {},
   "source": [
    "- **If the common attribute (column) has different names in both datasets:**"
   ]
  },
  {
   "cell_type": "markdown",
   "id": "42a7f544-c8d2-4140-b1fc-1475163789ac",
   "metadata": {},
   "source": [
    "Load the datasets:"
   ]
  },
  {
   "cell_type": "code",
   "execution_count": 28,
   "id": "82abddf1-93e8-4267-9b10-d5a22db261a3",
   "metadata": {},
   "outputs": [],
   "source": [
    "input_data = gp.read_file(INPUT / \"Biotopwerte_Dresden_2018.gdb\")\n",
    "second_data = gp.read_file(INPUT / \"clc_legend.csv\")"
   ]
  },
  {
   "cell_type": "markdown",
   "id": "f1801459-0907-42bb-a1e0-1422012646a6",
   "metadata": {},
   "source": [
    "Check the columns:"
   ]
  },
  {
   "cell_type": "markdown",
   "id": "08cd75ed-73bb-4a3f-9c52-4e46d0be5308",
   "metadata": {},
   "source": [
    "The output shows that both datasets include the CLC code but with different names: \n",
    "- `CLC_st1` in the first dataset\n",
    "- `CLC_CODE` in the second dataset "
   ]
  },
  {
   "cell_type": "code",
   "execution_count": 33,
   "id": "f8b1d903-6ded-4fc6-b0a4-c52adc467b6d",
   "metadata": {},
   "outputs": [
    {
     "data": {
      "text/plain": [
       "Index(['CLC_st1', 'Biotpkt2018', 'Shape_Length', 'Shape_Area', 'geometry'], dtype='object')"
      ]
     },
     "execution_count": 33,
     "metadata": {},
     "output_type": "execute_result"
    }
   ],
   "source": [
    "input_data.columns"
   ]
  },
  {
   "cell_type": "code",
   "execution_count": 34,
   "id": "71bac05a-2589-4ce7-81a2-84a681630d5b",
   "metadata": {},
   "outputs": [
    {
     "data": {
      "text/plain": [
       "Index(['GRID_CODE', 'CLC_CODE', 'LABEL3', 'RGB', 'geometry'], dtype='object')"
      ]
     },
     "execution_count": 34,
     "metadata": {},
     "output_type": "execute_result"
    }
   ],
   "source": [
    "second_data.columns"
   ]
  },
  {
   "cell_type": "markdown",
   "id": "3392f809-a190-455b-8a77-0de4f0374c60",
   "metadata": {},
   "source": [
    "Merge using the `merge()` function:"
   ]
  },
  {
   "cell_type": "markdown",
   "id": "24f3104c-efc6-44e4-86e9-7302e48b2b11",
   "metadata": {},
   "source": [
    "In the example below, the [CLC codes](https://stag.training.fdz.ioer.info/notebooks/304_selecting_and_filtering.html#id1) in the input dataset are labaled using the `LABEL3` column in the second dataset. "
   ]
  },
  {
   "cell_type": "code",
   "execution_count": 36,
   "id": "42337224-0a02-4db1-9226-4926cf2abf56",
   "metadata": {},
   "outputs": [
    {
     "data": {
      "text/html": [
       "<div>\n",
       "<style scoped>\n",
       "    .dataframe tbody tr th:only-of-type {\n",
       "        vertical-align: middle;\n",
       "    }\n",
       "\n",
       "    .dataframe tbody tr th {\n",
       "        vertical-align: top;\n",
       "    }\n",
       "\n",
       "    .dataframe thead th {\n",
       "        text-align: right;\n",
       "    }\n",
       "</style>\n",
       "<table border=\"1\" class=\"dataframe\">\n",
       "  <thead>\n",
       "    <tr style=\"text-align: right;\">\n",
       "      <th></th>\n",
       "      <th>CLC_st1</th>\n",
       "      <th>Biotpkt2018</th>\n",
       "      <th>Shape_Length</th>\n",
       "      <th>Shape_Area</th>\n",
       "      <th>geometry</th>\n",
       "      <th>CLC_CODE</th>\n",
       "      <th>LABEL3</th>\n",
       "    </tr>\n",
       "  </thead>\n",
       "  <tbody>\n",
       "    <tr>\n",
       "      <th>0</th>\n",
       "      <td>122</td>\n",
       "      <td>5.271487</td>\n",
       "      <td>210.523801</td>\n",
       "      <td>3371.947771</td>\n",
       "      <td>MULTIPOLYGON (((415775.635 5650481.473, 415776...</td>\n",
       "      <td>122</td>\n",
       "      <td>Road and rail networks and associated land</td>\n",
       "    </tr>\n",
       "    <tr>\n",
       "      <th>1</th>\n",
       "      <td>122</td>\n",
       "      <td>5.271487</td>\n",
       "      <td>31.935928</td>\n",
       "      <td>50.075513</td>\n",
       "      <td>MULTIPOLYGON (((417850.525 5650376.330, 417846...</td>\n",
       "      <td>122</td>\n",
       "      <td>Road and rail networks and associated land</td>\n",
       "    </tr>\n",
       "    <tr>\n",
       "      <th>2</th>\n",
       "      <td>122</td>\n",
       "      <td>5.271487</td>\n",
       "      <td>810.640513</td>\n",
       "      <td>1543.310127</td>\n",
       "      <td>MULTIPOLYGON (((417886.917 5650544.364, 417909...</td>\n",
       "      <td>122</td>\n",
       "      <td>Road and rail networks and associated land</td>\n",
       "    </tr>\n",
       "    <tr>\n",
       "      <th>3</th>\n",
       "      <td>122</td>\n",
       "      <td>5.271487</td>\n",
       "      <td>24.509066</td>\n",
       "      <td>36.443441</td>\n",
       "      <td>MULTIPOLYGON (((423453.146 5650332.060, 423453...</td>\n",
       "      <td>122</td>\n",
       "      <td>Road and rail networks and associated land</td>\n",
       "    </tr>\n",
       "    <tr>\n",
       "      <th>4</th>\n",
       "      <td>122</td>\n",
       "      <td>5.271487</td>\n",
       "      <td>29.937138</td>\n",
       "      <td>40.494155</td>\n",
       "      <td>MULTIPOLYGON (((417331.434 5650889.039, 417330...</td>\n",
       "      <td>122</td>\n",
       "      <td>Road and rail networks and associated land</td>\n",
       "    </tr>\n",
       "    <tr>\n",
       "      <th>...</th>\n",
       "      <td>...</td>\n",
       "      <td>...</td>\n",
       "      <td>...</td>\n",
       "      <td>...</td>\n",
       "      <td>...</td>\n",
       "      <td>...</td>\n",
       "      <td>...</td>\n",
       "    </tr>\n",
       "    <tr>\n",
       "      <th>33918</th>\n",
       "      <td>124</td>\n",
       "      <td>8.000000</td>\n",
       "      <td>9.072443</td>\n",
       "      <td>4.947409</td>\n",
       "      <td>MULTIPOLYGON (((414814.645 5666810.533, 414814...</td>\n",
       "      <td>124</td>\n",
       "      <td>Airports</td>\n",
       "    </tr>\n",
       "    <tr>\n",
       "      <th>33919</th>\n",
       "      <td>124</td>\n",
       "      <td>8.000000</td>\n",
       "      <td>1369.670301</td>\n",
       "      <td>63201.087919</td>\n",
       "      <td>MULTIPOLYGON (((414791.962 5666543.765, 414803...</td>\n",
       "      <td>124</td>\n",
       "      <td>Airports</td>\n",
       "    </tr>\n",
       "    <tr>\n",
       "      <th>33920</th>\n",
       "      <td>124</td>\n",
       "      <td>8.000000</td>\n",
       "      <td>395.094767</td>\n",
       "      <td>708.068118</td>\n",
       "      <td>MULTIPOLYGON (((415006.509 5666816.796, 415004...</td>\n",
       "      <td>124</td>\n",
       "      <td>Airports</td>\n",
       "    </tr>\n",
       "    <tr>\n",
       "      <th>33921</th>\n",
       "      <td>231</td>\n",
       "      <td>10.981298</td>\n",
       "      <td>110.373766</td>\n",
       "      <td>99.282910</td>\n",
       "      <td>MULTIPOLYGON (((417478.532 5665012.465, 417477...</td>\n",
       "      <td>231</td>\n",
       "      <td>Pastures</td>\n",
       "    </tr>\n",
       "    <tr>\n",
       "      <th>33922</th>\n",
       "      <td>231</td>\n",
       "      <td>10.981298</td>\n",
       "      <td>1401.832280</td>\n",
       "      <td>38939.551849</td>\n",
       "      <td>MULTIPOLYGON (((417482.897 5665014.048, 417475...</td>\n",
       "      <td>231</td>\n",
       "      <td>Pastures</td>\n",
       "    </tr>\n",
       "  </tbody>\n",
       "</table>\n",
       "<p>33923 rows × 7 columns</p>\n",
       "</div>"
      ],
      "text/plain": [
       "      CLC_st1  Biotpkt2018  Shape_Length    Shape_Area  \\\n",
       "0         122     5.271487    210.523801   3371.947771   \n",
       "1         122     5.271487     31.935928     50.075513   \n",
       "2         122     5.271487    810.640513   1543.310127   \n",
       "3         122     5.271487     24.509066     36.443441   \n",
       "4         122     5.271487     29.937138     40.494155   \n",
       "...       ...          ...           ...           ...   \n",
       "33918     124     8.000000      9.072443      4.947409   \n",
       "33919     124     8.000000   1369.670301  63201.087919   \n",
       "33920     124     8.000000    395.094767    708.068118   \n",
       "33921     231    10.981298    110.373766     99.282910   \n",
       "33922     231    10.981298   1401.832280  38939.551849   \n",
       "\n",
       "                                                geometry CLC_CODE  \\\n",
       "0      MULTIPOLYGON (((415775.635 5650481.473, 415776...      122   \n",
       "1      MULTIPOLYGON (((417850.525 5650376.330, 417846...      122   \n",
       "2      MULTIPOLYGON (((417886.917 5650544.364, 417909...      122   \n",
       "3      MULTIPOLYGON (((423453.146 5650332.060, 423453...      122   \n",
       "4      MULTIPOLYGON (((417331.434 5650889.039, 417330...      122   \n",
       "...                                                  ...      ...   \n",
       "33918  MULTIPOLYGON (((414814.645 5666810.533, 414814...      124   \n",
       "33919  MULTIPOLYGON (((414791.962 5666543.765, 414803...      124   \n",
       "33920  MULTIPOLYGON (((415006.509 5666816.796, 415004...      124   \n",
       "33921  MULTIPOLYGON (((417478.532 5665012.465, 417477...      231   \n",
       "33922  MULTIPOLYGON (((417482.897 5665014.048, 417475...      231   \n",
       "\n",
       "                                           LABEL3  \n",
       "0      Road and rail networks and associated land  \n",
       "1      Road and rail networks and associated land  \n",
       "2      Road and rail networks and associated land  \n",
       "3      Road and rail networks and associated land  \n",
       "4      Road and rail networks and associated land  \n",
       "...                                           ...  \n",
       "33918                                    Airports  \n",
       "33919                                    Airports  \n",
       "33920                                    Airports  \n",
       "33921                                    Pastures  \n",
       "33922                                    Pastures  \n",
       "\n",
       "[33923 rows x 7 columns]"
      ]
     },
     "execution_count": 36,
     "metadata": {},
     "output_type": "execute_result"
    }
   ],
   "source": [
    "merged_dataset = input_data.merge(\n",
    "    second_data[[\"CLC_CODE\", \"LABEL3\"]],\n",
    "    left_on ='CLC_st1',\n",
    "    right_on ='CLC_CODE',\n",
    "    how ='inner')\n",
    "\n",
    "merged_dataset # Check the result"
   ]
  },
  {
   "cell_type": "markdown",
   "id": "2c5e0fb4-5160-4ca0-8e20-692e321cc2f2",
   "metadata": {
    "editable": true,
    "slideshow": {
     "slide_type": ""
    },
    "tags": []
   },
   "source": [
    "## Merging datasets based on spatial relationships using `sjoin()`"
   ]
  },
  {
   "cell_type": "markdown",
   "id": "1ffcb1e8-e447-4388-a1bc-947cf98c87f4",
   "metadata": {},
   "source": [
    "Another way to merge datasets is by using spatial relationships instead of common attributes. "
   ]
  },
  {
   "cell_type": "markdown",
   "id": "f7ad7885-75ee-4857-a054-84c74d219ff6",
   "metadata": {},
   "source": [
    "The `sjoin()` function can be used to join two datasets based on their spatial relationships. \n",
    "\n",
    "Key parameters:\n",
    "- `predicate` - Defines the type of spatial relationship.\n",
    "- `how` - Specifies how the datasets are combined."
   ]
  },
  {
   "cell_type": "markdown",
   "id": "8bf9ecf5-b14d-4a74-9e0c-8a49a83b0e62",
   "metadata": {},
   "source": [
    "````{admonition} Available operations with the **predicate** parameter\n",
    ":class: tip\n",
    "\n",
    "The following list explains available operations:\n",
    "- `contains`: Object A **completely** encloses object B (no boundary touch).\n",
    "- `covers`: Object A **completely** contains object B (boundaries may touch).\n",
    "- `within`: Object A is **completely** inside object B (no boundary touch).\n",
    "- `covered_by`: Object A is **completely** within object B (boundaries may touch).\n",
    "- `touches`: Objects A and B meet **only** at boundaries.\n",
    "- `overlaps`: Objects A and B share an area.\n",
    "- `crosses`: Objects A and B intersect at discrete points.\n",
    "- `intersects`: Object A and B touch, cross or share an area.\n",
    "\n",
    "```{figure} ../resources/13.png\n",
    ":height: 200px\n",
    ":name: figure-example\n",
    "\n",
    "Available operations with the **predicate** parameter\n",
    "```\n",
    "\n",
    "Check the [ArcGIS documentation](https://desktop.arcgis.com/en/arcmap/latest/extensions/data-reviewer/types-of-spatial-relationships-that-can-be-validated.htm#GUID-B8BCA279-A7D9-422D-90B6-414B11350D1A) to learn more about spatial relationships.\n",
    "````"
   ]
  },
  {
   "cell_type": "markdown",
   "id": "fb5a0f03-3031-4ade-a31d-4dcc7922ed57",
   "metadata": {},
   "source": [
    "````{admonition} Available operations with the **how** parameter\n",
    ":class: danger\n",
    "\n",
    "The `how` parameter determines how the two datasets are merged:\n",
    "\n",
    "- `left`: keeps all records from the left dataset (first dataset) and adds matching records from the right dataset. The index comes from the left dataset.\n",
    "- `right`: Keeps all records from the right dataset (second dataset) and adds matching records from the left dataset. The index comes from the right dataset.\n",
    "- `inner`: Keeps only matching records from both datasets (where spatial conditions are met). The index comes from the right dataset.\n",
    "\n",
    "Check [GeoPandas documentation](https://geopandas.org/en/stable/docs/reference/api/geopandas.sjoin.html) to learn more about  `sjoin()` function. \n",
    "\n",
    "````\n"
   ]
  },
  {
   "cell_type": "markdown",
   "id": "80827e65-163b-4504-8be3-7a8d9b58f6ff",
   "metadata": {},
   "source": [
    "```{admonition} Handling duplicate column names\n",
    ":class: note, dropdown\n",
    "\n",
    "If both datasets have columns with the same name, GeoPandas automatically assigns suffixes (`_left` and `_right`) to distinguish them.\n",
    "To customize these suffixes, use:\n",
    "\n",
    "- `lsuffix`: Defines a suffix for the left dataset.\n",
    "- `rsuffix`: Defines a suffix for the right dataset.\n",
    "\n",
    "```"
   ]
  },
  {
   "cell_type": "markdown",
   "id": "7748aa0a-0319-47ba-91d3-fd69f2ea29d5",
   "metadata": {},
   "source": [
    "**Code example: Using the `sjoin()` function in Python**\n",
    "\n",
    "Import and load required libraries:"
   ]
  },
  {
   "cell_type": "code",
   "execution_count": 130,
   "id": "388e2939-a3f5-4c5c-8f9a-bfbfc62a9ecc",
   "metadata": {},
   "outputs": [],
   "source": [
    "from pathlib import Path\n",
    "import geopandas as gp\n",
    "import pandas as pd"
   ]
  },
  {
   "cell_type": "markdown",
   "id": "8ae0b557-9549-4ffb-83fa-0c3d587c04bb",
   "metadata": {
    "editable": true,
    "slideshow": {
     "slide_type": ""
    },
    "tags": []
   },
   "source": [
    "Load the input and join datasets:"
   ]
  },
  {
   "cell_type": "code",
   "execution_count": 131,
   "id": "0486e781-9203-4a12-8e7c-2ee6bba7e571",
   "metadata": {
    "editable": true,
    "slideshow": {
     "slide_type": ""
    },
    "tags": []
   },
   "outputs": [],
   "source": [
    "input_data = gp.read_file(gdb_path, layer=\"Biotopwerte_Dresden_2018\")"
   ]
  },
  {
   "cell_type": "code",
   "execution_count": 132,
   "id": "d2c24369-d8cc-402c-bcaf-57ad38539991",
   "metadata": {},
   "outputs": [],
   "source": [
    "# District data from the Dresden portal Already mentioned in the Clipping Data chapter\n",
    "import requests\n",
    "geojson_url = \"https://kommisdd.dresden.de/net4/public/ogcapi/collections/L137/items\"\n",
    "response = requests.get(geojson_url)\n",
    "if response.status_code == 200:\n",
    "    join_data = gp.read_file(geojson_url) \n",
    "    join_data= join_data[join_data['id'] == '99']\n",
    "\n",
    "else:\n",
    "    print(\"Error:\", response.text)"
   ]
  },
  {
   "cell_type": "markdown",
   "id": "c0c6f976-7a1b-417d-b7e1-ec07ed23f4cb",
   "metadata": {},
   "source": [
    "Set the same coordinate system:"
   ]
  },
  {
   "cell_type": "code",
   "execution_count": 133,
   "id": "26ff9c8c-aa36-4a8f-8c44-7c6bd07b6aa5",
   "metadata": {},
   "outputs": [],
   "source": [
    "join_data =join_data.to_crs(input_data.crs)"
   ]
  },
  {
   "cell_type": "markdown",
   "id": "14fee5c2-bc79-4c34-bae6-2be6b54108a1",
   "metadata": {},
   "source": [
    "Perform a spatial join with `sjoin()` function and default suffixes:"
   ]
  },
  {
   "cell_type": "markdown",
   "id": "b1e9964c-98a8-4f05-a29e-236e4f80cbda",
   "metadata": {},
   "source": [
    "The output includes the land cover and biodiversity values for the id 99 which is related to the the Altfranken/Gompitz area in Dresden."
   ]
  },
  {
   "cell_type": "code",
   "execution_count": 134,
   "id": "ed70dcd9-9b3f-4b76-a6dc-7355289b69c2",
   "metadata": {
    "editable": true,
    "slideshow": {
     "slide_type": ""
    },
    "tags": []
   },
   "outputs": [],
   "source": [
    "join_result = input_data.sjoin(\n",
    "    join_data, \n",
    "    predicate='intersects', \n",
    "    how='inner')"
   ]
  },
  {
   "cell_type": "markdown",
   "id": "08d8dcfa-0c89-48fd-a6c4-a0f7da6561f6",
   "metadata": {
    "editable": true,
    "slideshow": {
     "slide_type": ""
    },
    "tags": []
   },
   "source": [
    "Check the columns in the output:"
   ]
  },
  {
   "cell_type": "code",
   "execution_count": 135,
   "id": "51169d9b-79c9-47b5-8c84-b04b2a8a4613",
   "metadata": {
    "editable": true,
    "slideshow": {
     "slide_type": ""
    },
    "tags": []
   },
   "outputs": [
    {
     "data": {
      "text/plain": [
       "['CLC_st1',\n",
       " 'Biotpkt2018',\n",
       " 'Shape_Length',\n",
       " 'Shape_Area',\n",
       " 'geometry',\n",
       " 'index_right',\n",
       " 'id',\n",
       " 'bez',\n",
       " 'bez_lang',\n",
       " 'flaeche_km2',\n",
       " 'sst',\n",
       " 'sst_klar',\n",
       " 'historie',\n",
       " 'aend']"
      ]
     },
     "execution_count": 135,
     "metadata": {},
     "output_type": "execute_result"
    }
   ],
   "source": [
    "list(join_result.columns)"
   ]
  },
  {
   "cell_type": "markdown",
   "id": "e9e3b5ca-bce1-45f6-9343-0b6d4e2408e9",
   "metadata": {},
   "source": [
    "Display the first 3 rows:"
   ]
  },
  {
   "cell_type": "code",
   "execution_count": 136,
   "id": "fa6d5f2d-c56e-4987-b486-6e464af61c7d",
   "metadata": {
    "editable": true,
    "slideshow": {
     "slide_type": ""
    },
    "tags": []
   },
   "outputs": [
    {
     "data": {
      "text/html": [
       "<div>\n",
       "<style scoped>\n",
       "    .dataframe tbody tr th:only-of-type {\n",
       "        vertical-align: middle;\n",
       "    }\n",
       "\n",
       "    .dataframe tbody tr th {\n",
       "        vertical-align: top;\n",
       "    }\n",
       "\n",
       "    .dataframe thead th {\n",
       "        text-align: right;\n",
       "    }\n",
       "</style>\n",
       "<table border=\"1\" class=\"dataframe\">\n",
       "  <thead>\n",
       "    <tr style=\"text-align: right;\">\n",
       "      <th></th>\n",
       "      <th>CLC_st1</th>\n",
       "      <th>Biotpkt2018</th>\n",
       "      <th>Shape_Length</th>\n",
       "      <th>Shape_Area</th>\n",
       "      <th>geometry</th>\n",
       "      <th>index_right</th>\n",
       "      <th>id</th>\n",
       "      <th>bez</th>\n",
       "      <th>bez_lang</th>\n",
       "      <th>flaeche_km2</th>\n",
       "      <th>sst</th>\n",
       "      <th>sst_klar</th>\n",
       "      <th>historie</th>\n",
       "      <th>aend</th>\n",
       "    </tr>\n",
       "  </thead>\n",
       "  <tbody>\n",
       "    <tr>\n",
       "      <th>204</th>\n",
       "      <td>122</td>\n",
       "      <td>5.271487</td>\n",
       "      <td>487783.286284</td>\n",
       "      <td>2.869516e+06</td>\n",
       "      <td>MULTIPOLYGON (((401752.251 5661561.055, 401808...</td>\n",
       "      <td>14</td>\n",
       "      <td>99</td>\n",
       "      <td>Altfranken/Gompitz</td>\n",
       "      <td>Altfranken/Gompitz mit Ockerwitz, Pennrich, Ro...</td>\n",
       "      <td>13.0048</td>\n",
       "      <td>None</td>\n",
       "      <td>None</td>\n",
       "      <td>akt</td>\n",
       "      <td>01.08.2024 00:00:00</td>\n",
       "    </tr>\n",
       "    <tr>\n",
       "      <th>261</th>\n",
       "      <td>122</td>\n",
       "      <td>5.271487</td>\n",
       "      <td>1765.048621</td>\n",
       "      <td>6.984237e+03</td>\n",
       "      <td>MULTIPOLYGON (((406601.829 5652484.777, 406604...</td>\n",
       "      <td>14</td>\n",
       "      <td>99</td>\n",
       "      <td>Altfranken/Gompitz</td>\n",
       "      <td>Altfranken/Gompitz mit Ockerwitz, Pennrich, Ro...</td>\n",
       "      <td>13.0048</td>\n",
       "      <td>None</td>\n",
       "      <td>None</td>\n",
       "      <td>akt</td>\n",
       "      <td>01.08.2024 00:00:00</td>\n",
       "    </tr>\n",
       "    <tr>\n",
       "      <th>270</th>\n",
       "      <td>122</td>\n",
       "      <td>5.271487</td>\n",
       "      <td>720.099258</td>\n",
       "      <td>2.558749e+03</td>\n",
       "      <td>MULTIPOLYGON (((402096.709 5654422.947, 402077...</td>\n",
       "      <td>14</td>\n",
       "      <td>99</td>\n",
       "      <td>Altfranken/Gompitz</td>\n",
       "      <td>Altfranken/Gompitz mit Ockerwitz, Pennrich, Ro...</td>\n",
       "      <td>13.0048</td>\n",
       "      <td>None</td>\n",
       "      <td>None</td>\n",
       "      <td>akt</td>\n",
       "      <td>01.08.2024 00:00:00</td>\n",
       "    </tr>\n",
       "  </tbody>\n",
       "</table>\n",
       "</div>"
      ],
      "text/plain": [
       "    CLC_st1  Biotpkt2018   Shape_Length    Shape_Area  \\\n",
       "204     122     5.271487  487783.286284  2.869516e+06   \n",
       "261     122     5.271487    1765.048621  6.984237e+03   \n",
       "270     122     5.271487     720.099258  2.558749e+03   \n",
       "\n",
       "                                              geometry  index_right  id  \\\n",
       "204  MULTIPOLYGON (((401752.251 5661561.055, 401808...           14  99   \n",
       "261  MULTIPOLYGON (((406601.829 5652484.777, 406604...           14  99   \n",
       "270  MULTIPOLYGON (((402096.709 5654422.947, 402077...           14  99   \n",
       "\n",
       "                    bez                                           bez_lang  \\\n",
       "204  Altfranken/Gompitz  Altfranken/Gompitz mit Ockerwitz, Pennrich, Ro...   \n",
       "261  Altfranken/Gompitz  Altfranken/Gompitz mit Ockerwitz, Pennrich, Ro...   \n",
       "270  Altfranken/Gompitz  Altfranken/Gompitz mit Ockerwitz, Pennrich, Ro...   \n",
       "\n",
       "     flaeche_km2   sst sst_klar historie                 aend  \n",
       "204      13.0048  None     None      akt  01.08.2024 00:00:00  \n",
       "261      13.0048  None     None      akt  01.08.2024 00:00:00  \n",
       "270      13.0048  None     None      akt  01.08.2024 00:00:00  "
      ]
     },
     "execution_count": 136,
     "metadata": {},
     "output_type": "execute_result"
    }
   ],
   "source": [
    "join_result.head(3)"
   ]
  },
  {
   "cell_type": "markdown",
   "id": "6a6b226e-ad75-4743-a6c4-343a6c6caf89",
   "metadata": {
    "editable": true,
    "slideshow": {
     "slide_type": ""
    },
    "tags": []
   },
   "source": [
    "Perform a spatial join with `sjoin()` function and customizing suffixes:"
   ]
  },
  {
   "cell_type": "code",
   "execution_count": 137,
   "id": "fedc6c04-b355-46ba-b5af-ff9385d72dbe",
   "metadata": {
    "editable": true,
    "slideshow": {
     "slide_type": ""
    },
    "tags": []
   },
   "outputs": [
    {
     "data": {
      "text/plain": [
       "['CLC_st1',\n",
       " 'Biotpkt2018',\n",
       " 'Shape_Length',\n",
       " 'Shape_Area',\n",
       " 'geometry',\n",
       " 'index__border',\n",
       " 'id',\n",
       " 'bez',\n",
       " 'bez_lang',\n",
       " 'flaeche_km2',\n",
       " 'sst',\n",
       " 'sst_klar',\n",
       " 'historie',\n",
       " 'aend']"
      ]
     },
     "execution_count": 137,
     "metadata": {},
     "output_type": "execute_result"
    }
   ],
   "source": [
    "join_result = input_data.sjoin(\n",
    "    join_data, \n",
    "    predicate='intersects', \n",
    "    how='inner', \n",
    "    rsuffix='_border') # Defines a suffix for the right dataset\n",
    "list(join_result.columns) # Checks the columns in the output"
   ]
  },
  {
   "cell_type": "markdown",
   "id": "09c5b1f9-79ef-4a4b-a68f-8175848b0f9e",
   "metadata": {
    "editable": true,
    "slideshow": {
     "slide_type": ""
    },
    "tags": []
   },
   "source": [
    "- Selecting specific columns\n",
    "\n",
    "Instead of including all attributes from both datasets, you can specify which columns should be included in the spatial join by using double brackets `[[ ]]`. \n",
    "\n",
    "Since the spatial join involves geometry attributes, the `geometry` attribute **must** be defined among selected columns in both datasets."
   ]
  },
  {
   "cell_type": "code",
   "execution_count": 139,
   "id": "d3140bd8-5118-431a-a5d3-29ab03ba408f",
   "metadata": {
    "editable": true,
    "slideshow": {
     "slide_type": ""
    },
    "tags": []
   },
   "outputs": [
    {
     "data": {
      "text/plain": [
       "['index_left', 'CLC_st1', 'id', 'geometry']"
      ]
     },
     "execution_count": 139,
     "metadata": {},
     "output_type": "execute_result"
    }
   ],
   "source": [
    "join_result = input_data[['CLC_st1','geometry']] \\\n",
    "    .sjoin(\n",
    "        join_data[['id','geometry']],\n",
    "        predicate='intersects', how='right')\n",
    "\n",
    "list(join_result.columns)"
   ]
  },
  {
   "cell_type": "markdown",
   "id": "0ad97035-a54e-44f1-beeb-063e1cd49320",
   "metadata": {
    "editable": true,
    "slideshow": {
     "slide_type": ""
    },
    "tags": []
   },
   "source": [
    "**Using the `gp.sjoin()` function**\n",
    "\n",
    "Another way of spatial joining is to use the `gp.sjoin()` function from GeoPandas. The key parameters are exactly the same as in the `sjoin()` function, the only difference is that both datasets are passed as arguments inside the function, which is how functions generally work in Python."
   ]
  },
  {
   "cell_type": "code",
   "execution_count": 140,
   "id": "c3f92640-410c-46be-a17d-129aeaa14ab2",
   "metadata": {},
   "outputs": [
    {
     "data": {
      "text/plain": [
       "['index__left',\n",
       " 'CLC_st1',\n",
       " 'Biotpkt2018',\n",
       " 'Shape_Length',\n",
       " 'Shape_Area',\n",
       " 'id',\n",
       " 'bez',\n",
       " 'bez_lang',\n",
       " 'flaeche_km2',\n",
       " 'sst',\n",
       " 'sst_klar',\n",
       " 'historie',\n",
       " 'aend',\n",
       " 'geometry']"
      ]
     },
     "execution_count": 140,
     "metadata": {},
     "output_type": "execute_result"
    }
   ],
   "source": [
    "joined_result= gp.sjoin(\n",
    "    input_data, # First dataset / left dataset\n",
    "    join_data, # Second dataset / right dataset\n",
    "    how='right',\n",
    "    predicate='intersects', \n",
    "    lsuffix='_left')\n",
    "list(joined_result.columns)"
   ]
  },
  {
   "cell_type": "markdown",
   "id": "3cc46e3d-6c06-4e6f-8d78-ca95ed675992",
   "metadata": {
    "editable": true,
    "slideshow": {
     "slide_type": ""
    },
    "tags": []
   },
   "source": [
    "- Selecting specific columns"
   ]
  },
  {
   "cell_type": "code",
   "execution_count": 141,
   "id": "3dc7c8dc-e357-46d3-929d-67fe391cc1c0",
   "metadata": {
    "editable": true,
    "slideshow": {
     "slide_type": ""
    },
    "tags": []
   },
   "outputs": [
    {
     "data": {
      "text/plain": [
       "['index__left', 'CLC_st1', 'id', 'geometry']"
      ]
     },
     "execution_count": 141,
     "metadata": {},
     "output_type": "execute_result"
    }
   ],
   "source": [
    "joined_result= gp.sjoin(\n",
    "    input_data[['CLC_st1','geometry']],\n",
    "    join_data[['id','geometry']],\n",
    "    how='right', \n",
    "    predicate='intersects', \n",
    "    lsuffix='_left')\n",
    "list(joined_result.columns)"
   ]
  }
 ],
 "metadata": {
  "kernelspec": {
   "display_name": "worker_env",
   "language": "python",
   "name": "worker_env"
  },
  "language_info": {
   "codemirror_mode": {
    "name": "ipython",
    "version": 3
   },
   "file_extension": ".py",
   "mimetype": "text/x-python",
   "name": "python",
   "nbconvert_exporter": "python",
   "pygments_lexer": "ipython3",
   "version": "3.11.6"
  }
 },
 "nbformat": 4,
 "nbformat_minor": 5
}
