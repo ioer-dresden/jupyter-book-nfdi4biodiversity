{
 "cells": [
  {
   "cell_type": "markdown",
   "id": "pending-italy",
   "metadata": {
    "editable": true,
    "slideshow": {
     "slide_type": ""
    },
    "tags": []
   },
   "source": [
    "# Table of Contents\n",
    "\n",
    "- [Preface](../intro)\n",
    "\n",
    "## Part I: Introduction\n",
    "\n",
    "- [Welcome](01_introduction)\n",
    "- [Theory chapters](02_theory_chapters)\n",
    "- [Getting familiar with Jupyter Notebook](03_jupyter_notebooks)\n",
    "\n",
    "## Part II: Workflow\n",
    "\n",
    "- [A data example from the IOER-RDC Dataverse](04_example_introduction)\n",
    "- [Adding data to the Notebook](05_data_retrieval)\n",
    "- [Working with Data / Data Analysis](06_analysis)\n",
    "- [Visualization](07_visualizing)\n",
    "- [Publishing](07_visualizing)\n",
    "\n",
    "## Part III: Further Reading\n",
    "\n",
    "- [Links for more information](09_spatial_inequality)\n",
    "- [Thank You](09_endmatter-thanks)\n",
    "\n",
    "## Datasets\n",
    "\n",
    "- [Maps for Milvus milvus](10_milvus_maps)\n",
    "- [Exploration of geosocial patterns (Germany)](11_geosocialmedia)\n",
    "\n",
    "- [References](references)"
   ]
  },
  {
   "cell_type": "code",
   "execution_count": null,
   "id": "965165b1-9aec-4deb-9f16-bf8733cb8f92",
   "metadata": {},
   "outputs": [],
   "source": []
  }
 ],
 "metadata": {
  "jupytext": {
   "formats": "ipynb,md"
  },
  "kernelspec": {
   "display_name": "Python 3 (ipykernel)",
   "language": "python",
   "name": "python3"
  },
  "language_info": {
   "codemirror_mode": {
    "name": "ipython",
    "version": 3
   },
   "file_extension": ".py",
   "mimetype": "text/x-python",
   "name": "python",
   "nbconvert_exporter": "python",
   "pygments_lexer": "ipython3",
   "version": "3.12.7"
  }
 },
 "nbformat": 4,
 "nbformat_minor": 5
}
