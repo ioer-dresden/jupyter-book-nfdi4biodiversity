{
 "cells": [
  {
   "cell_type": "markdown",
   "id": "pending-italy",
   "metadata": {
    "editable": true,
    "slideshow": {
     "slide_type": ""
    },
    "tags": []
   },
   "source": [
    "# Table of Contents\n",
    "\n",
    "- [Preface](../intro)\n",
    "\n",
    "## Part I: Introduction\n",
    "\n",
    "- [Theory chapters](101_theory_chapters)\n",
    "- [Setup & Getting familiar with Jupyter](102_jupyter_notebooks)\n",
    "\n",
    "## Part II: Workflow\n",
    "\n",
    "- [Exploring spatial and biodiversity data](201_example_introduction)\n",
    "- [Data Retrieval: GBIF & LAND](202_data_retrieval_gbif)\n",
    "- [Data Retrieval: IOER Monitor](203_data_retrieval_monitor)\n",
    "- [Data Analysis & Visualization](204_analysis)\n",
    "- [Publishing](205_publish)\n",
    "\n",
    "## Part III: Reference documentation\n",
    "\n",
    "- [Accessing Data](301_accessing_data)\n",
    "- [File formats](302_file_formats)\n",
    "- [Projections](303_projections)\n",
    "- [Selecting and filtering](304_selecting_and_filtering)\n",
    "- [Creating maps](305_mapping)\n",
    "- [Spatial clipping](306_spatial_clipping)\n",
    "- [Merging data](307_merging_data)\n",
    "- [Spatial overlays](308_spatial_overlays)\n",
    "- [Buffering](309_buffering)\n",
    "- [Statistics](310_statistics)\n",
    "\n",
    "## Further Reading\n",
    "\n",
    "- [Thank You](401_endmatter-thanks)\n",
    "\n",
    "## Datasets\n",
    "\n",
    "- [Maps for Milvus milvus](10_milvus_maps)\n",
    "- [Exploration of geosocial patterns (Germany)](11_geosocialmedia)\n",
    "\n",
    "## Developers\n",
    "\n",
    "- [Contributing](../CONTRIBUTING)\n",
    "- [Changelog](../CHANGELOG)"
   ]
  },
  {
   "cell_type": "code",
   "execution_count": null,
   "id": "965165b1-9aec-4deb-9f16-bf8733cb8f92",
   "metadata": {},
   "outputs": [],
   "source": []
  }
 ],
 "metadata": {
  "jupytext": {
   "formats": "ipynb,md"
  },
  "kernelspec": {
   "display_name": "Python 3 (ipykernel)",
   "language": "python",
   "name": "python3"
  },
  "language_info": {
   "codemirror_mode": {
    "name": "ipython",
    "version": 3
   },
   "file_extension": ".py",
   "mimetype": "text/x-python",
   "name": "python",
   "nbconvert_exporter": "python",
   "pygments_lexer": "ipython3",
   "version": "3.12.9"
  }
 },
 "nbformat": 4,
 "nbformat_minor": 5
}
