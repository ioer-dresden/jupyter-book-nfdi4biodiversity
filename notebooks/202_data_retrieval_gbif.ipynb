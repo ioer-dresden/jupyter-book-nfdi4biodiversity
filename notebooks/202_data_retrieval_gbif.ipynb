{
 "cells": [
  {
   "cell_type": "code",
   "execution_count": 1,
   "id": "61fe5d69-16d4-4a42-a1b2-a467549cc772",
   "metadata": {
    "editable": true,
    "slideshow": {
     "slide_type": ""
    },
    "tags": [
     "remove-cell"
    ]
   },
   "outputs": [
    {
     "name": "stdout",
     "output_type": "stream",
     "text": [
      "Installed myst-nb 1.2.0.\n",
      "Installed owslib 0.32.1.\n"
     ]
    }
   ],
   "source": [
    "# this is needed for the \"glue\" directive used in this notebook\n",
    "# owslib is needed for the WCS query\n",
    "!../py/modules/pkginstall.sh \"myst-nb owslib\""
   ]
  },
  {
   "cell_type": "markdown",
   "id": "0da08b15-c87b-4c6e-bd0d-4930a983fc0f",
   "metadata": {
    "editable": true,
    "slideshow": {
     "slide_type": ""
    },
    "tags": []
   },
   "source": [
    "# Data Retrieval: GBIF"
   ]
  },
  {
   "cell_type": "markdown",
   "id": "5adaafeb-e998-41aa-8593-cbb6b7512e88",
   "metadata": {},
   "source": [
    "```{admonition} Summary\n",
    ":class: hint\n",
    "In this and the following section, we will retrieve data from LAND and IOER Monitor and then use intersection and aggregation methods to create an integrated visualization.\n",
    "\n",
    "The section describes, how to\n",
    "- Load dependencies\n",
    "- Define Parameters\n",
    "- Use the NFDI Occurrence Query\n",
    "- Test query for a few observations\n",
    "- Prepare query for saxony\n",
    "- Use IÖR-Monitor WCS Query\n",
    "- Define parameters\n",
    "```"
   ]
  },
  {
   "cell_type": "markdown",
   "id": "1aaa25e5-e162-4b4b-bf2d-f83759ec9771",
   "metadata": {},
   "source": [
    "Both IOER Monitor and LAND provide standardized ways to access data. LAND provides a [RESTful Application Programming Interface (API)](https://techdocs.gbif.org/en/openapi/), the IOER Monitor allows to query spatial raster data as a [Web Coverage Service (WCS)](https://de.wikipedia.org/wiki/Web_Coverage_Service) and vector data as [Web Feature Service (WFS)](https://en.wikipedia.org/wiki/Web_Feature_Service)."
   ]
  },
  {
   "cell_type": "markdown",
   "id": "1d1bcdf8-a8ce-4587-8228-a0e398549cf2",
   "metadata": {
    "editable": true,
    "slideshow": {
     "slide_type": ""
    },
    "tags": []
   },
   "source": [
    "## Load dependencies\n",
    "\n",
    "In Python, \"dependencies\" typically refer to **packages** and **libraries** that the code needs to function correctly. Packages and libraries are collections of pre-written code that help you to perform various tasks more easily. Each package or library are designed for a specific purpose, such as visualising data.\n",
    "To run the workflows of this notebook sucessfully, you need to have the required packages or library installed on your computer."
   ]
  },
  {
   "cell_type": "markdown",
   "id": "e22b9e85-227c-41de-85a6-22f5e13ba55e",
   "metadata": {},
   "source": [
    "```{dropdown} Not familiar with Python packages or libraries?\n",
    "The [Python Standard Library Documentation](https://docs.python.org/3/library/index.html) and the lists below provide selected standard library modules as well as third-party packages and libraries.\n",
    "\n",
    "<details>\n",
    "<summary><strong>Selected standard library modules (pre-installed with Python)</strong></summary>\n",
    "    \n",
    "- [csv](https://docs.python.org/3/library/csv.html):                CSV file reading and writing\n",
    "- [sys](https://docs.python.org/3/library/sys.html):                System-specific parameters and functions\n",
    "- [pathlib](https://docs.python.org/3/library/pathlib.html): Object-oriented filesystem paths\n",
    "- [collections](https://docs.python.org/3/library/collections.html): Container datatypes\n",
    "- [typing](https://docs.python.org/3/library/typing.html): Support for type hints\n",
    "- [os](https://docs.python.org/3/library/os.html): Miscellaneous operating system interfaces\n",
    "      \n",
    "</details>\n",
    "\n",
    "<details>\n",
    "<summary><strong>Selected third-party packages and libaries (require installation)</strong></summary> \n",
    "    \n",
    "- [requests](https://pypi.org/project/requests/): Simplifies making HTTP requests, allowing users to easily send and receive data from web APIs\n",
    "- [shapely](https://shapely.readthedocs.io/en/latest/manual.html): Geometric operations and spatial queries\n",
    "- [numpy](https://numpy.org/): Numerical computing and array operations\n",
    "- [holoviews](https://holoviews.org/): High-level data visualization framework\n",
    "- [geoviews](https://geoviews.org/): Geographic data visualizations for HoloViews\n",
    "- [geopandas](https://geopandas.org): Geospatial data manipulation using pandas.\n",
    "- [pyproj](https://pypi.org/project/pyproj/): Cartographic projections and coordinate transformations library\n",
    "- [cartopy](https://github.com/SciTools/cartopy): Drawing maps for data analysis and visualisation\n",
    "- [bokeh](https://github.com/bokeh/bokeh): Interactive web-based visualizations with JavaScript integration.\n",
    "- [matplotlib](https://matplotlib.org/): Plotting and data visualization library\n",
    "- [ggplot2](https://ggplot2.tidyverse.org/): System for declaratively creating graphics\n",
    "  \n",
    "</details>\n",
    "\n",
    "`````"
   ]
  },
  {
   "cell_type": "markdown",
   "id": "02a86e30-57c5-4a51-bf74-4a89d93057da",
   "metadata": {
    "editable": true,
    "slideshow": {
     "slide_type": ""
    },
    "tags": []
   },
   "source": [
    "```{admonition} Tip: Choosing the right Python package\n",
    ":class: dropdown, tip\n",
    "Finding the right Python packages can be daunting. Before getting started, it's helpful to review available libraries and compare alternatives.\n",
    "\n",
    "**Example**: \n",
    "For RESTful APIs, the go-to package in Python is the `requests` library. We have already used this library in the [previous section](201_example_introduction). However, for WCS queries in Python, it's important to explore available alternatives. For example, a quick web search may lead us to [GemGIS](https://gemgis.readthedocs.io/), a package that provides a routine for querying WCS. Looking at its [documentation](https://gemgis.readthedocs.io/en/stable/getting_started/tutorial/21_working_with_web_coverage_services.html), we see that GemGIS relies on [OWSLib](https://github.com/geopython/OWSLib). With OWSLib we can query WCS directly in a Jupyter notebook. Web searches can also reveal useful examples, such as the  [ISIRC SoilGrids notebooks](https://www.isric.org/web-coverage-services-wcs) or the [NASAMAAP documentation](https://docs.maap-project.org/en/stable/technical_tutorials/access/edav_wcs_data.html).\n",
    "```"
   ]
  },
  {
   "cell_type": "markdown",
   "id": "55fb1bea-445c-422c-b1d2-6698136fe5ba",
   "metadata": {},
   "source": [
    "Before using a package or library, you must first install it (if it’s not already installed) and then import it at the beginning of your code. This follows a common Python convention, keeping the main logic separate from setup and  “boilerplate” code. \n",
    "\n",
    "Check how we structured and loaded dependencies:"
   ]
  },
  {
   "cell_type": "code",
   "execution_count": 2,
   "id": "48acf457-9703-4b3a-9b94-a7f34ef79fd6",
   "metadata": {
    "editable": true,
    "slideshow": {
     "slide_type": ""
    },
    "tags": [
     "hide-input"
    ]
   },
   "outputs": [],
   "source": [
    "# Standard library imports\n",
    "import json\n",
    "import os\n",
    "import sys\n",
    "import io\n",
    "from pathlib import Path\n",
    "\n",
    "# Third-party imports\n",
    "import requests\n",
    "import geopandas as gp\n",
    "import pandas as pd\n",
    "import geoviews as gv\n",
    "import holoviews as hv\n",
    "import matplotlib.pyplot as plt\n",
    "import shapely\n",
    "from cartopy import crs as ccrs\n",
    "from shapely.geometry import Point, Polygon\n",
    "from shapely.wkt import dumps\n",
    "from IPython.display import display, Markdown\n",
    "import contextily as cx"
   ]
  },
  {
   "cell_type": "markdown",
   "id": "e31716b9-d262-46b9-a822-a930dbc78f5a",
   "metadata": {},
   "source": [
    "For reproducibility, it is also a good idea to print the versions of important packages. Below, we load a mobule called `tools` that includes a method (`packages_report`) that will display currently used package versions as a table in the notebook. These version numbers are archived along with the code when the notebook is converted to HTML."
   ]
  },
  {
   "cell_type": "code",
   "execution_count": 3,
   "id": "4a17cdc6-340d-49fe-a9d2-eb7ff8c01fe3",
   "metadata": {
    "editable": true,
    "slideshow": {
     "slide_type": ""
    },
    "tags": []
   },
   "outputs": [],
   "source": [
    "base_path = Path.cwd().parents[0]\n",
    "module_path = str(base_path / \"py\")\n",
    "if module_path not in sys.path:\n",
    "    sys.path.append(module_path)\n",
    "from modules import tools"
   ]
  },
  {
   "cell_type": "code",
   "execution_count": 4,
   "id": "5ffff6a2-4396-4668-9837-0da35408b12c",
   "metadata": {
    "editable": true,
    "slideshow": {
     "slide_type": ""
    },
    "tags": [
     "remove-input"
    ]
   },
   "outputs": [
    {
     "data": {
      "text/html": [
       "\n",
       "        <details><summary style=\"cursor: pointer;\">List of package versions used in this notebook</summary>\n",
       "        <table border=\"1\" class=\"dataframe\">\n",
       "  <thead>\n",
       "    <tr style=\"text-align: right;\">\n",
       "      <th>package</th>\n",
       "      <th>python</th>\n",
       "      <th>Cartopy</th>\n",
       "      <th>OWSLib</th>\n",
       "      <th>bokeh</th>\n",
       "      <th>contextily</th>\n",
       "      <th>geopandas</th>\n",
       "      <th>geoviews</th>\n",
       "      <th>holoviews</th>\n",
       "      <th>ipython</th>\n",
       "      <th>matplotlib</th>\n",
       "    </tr>\n",
       "  </thead>\n",
       "  <tbody>\n",
       "    <tr>\n",
       "      <th>version</th>\n",
       "      <td>3.11.6</td>\n",
       "      <td>0.24.0</td>\n",
       "      <td>0.32.1</td>\n",
       "      <td>3.6.3</td>\n",
       "      <td>1.6.2</td>\n",
       "      <td>0.14.4</td>\n",
       "      <td>1.14.0</td>\n",
       "      <td>1.20.1</td>\n",
       "      <td>9.0.0</td>\n",
       "      <td>3.10.1</td>\n",
       "    </tr>\n",
       "  </tbody>\n",
       "</table><table border=\"1\" class=\"dataframe\">\n",
       "  <thead>\n",
       "    <tr style=\"text-align: right;\">\n",
       "      <th>package</th>\n",
       "      <th>pandas</th>\n",
       "      <th>pyproj</th>\n",
       "      <th>rasterio</th>\n",
       "      <th>requests</th>\n",
       "      <th>shapely</th>\n",
       "    </tr>\n",
       "  </thead>\n",
       "  <tbody>\n",
       "    <tr>\n",
       "      <th>version</th>\n",
       "      <td>2.2.3</td>\n",
       "      <td>3.6.0</td>\n",
       "      <td>1.3.7</td>\n",
       "      <td>2.32.3</td>\n",
       "      <td>2.0.1</td>\n",
       "    </tr>\n",
       "  </tbody>\n",
       "</table>\n",
       "        </details>\n",
       "        "
      ],
      "text/plain": [
       "<IPython.core.display.HTML object>"
      ]
     },
     "metadata": {},
     "output_type": "display_data"
    }
   ],
   "source": [
    "root_packages = [\n",
    "    'python', 'requests', 'contextily', 'geoviews', 'holoviews',\n",
    "    'rasterio', 'geopandas', 'cartopy', 'matplotlib', 'shapely',\n",
    "    'bokeh','pyproj', 'ipython', 'owslib', 'pandas']\n",
    "tools.package_report(root_packages)"
   ]
  },
  {
   "cell_type": "markdown",
   "id": "8e2b3b3b-49a8-4026-8b62-4b442f768e01",
   "metadata": {
    "editable": true,
    "slideshow": {
     "slide_type": ""
    },
    "tags": []
   },
   "source": [
    "## Load tools\n",
    "\n",
    "To simplify the code in this workflow, we use a set of helper tools. The following code snippet load some methods as `tools` that we have stored in `py/modules/tools.py` to improve reusability."
   ]
  },
  {
   "cell_type": "code",
   "execution_count": 5,
   "id": "3340477f-7981-45ce-b30d-f649f626f257",
   "metadata": {
    "editable": true,
    "slideshow": {
     "slide_type": ""
    },
    "tags": []
   },
   "outputs": [],
   "source": [
    "module_path = str(Path.cwd().parents[0] / \"py\")\n",
    "if module_path not in sys.path:\n",
    "    sys.path.append(module_path)\n",
    "from modules import tools"
   ]
  },
  {
   "cell_type": "code",
   "execution_count": 6,
   "id": "6e219560-9655-4064-bd83-bf92f38933ea",
   "metadata": {
    "editable": true,
    "slideshow": {
     "slide_type": ""
    },
    "tags": [
     "remove-input"
    ]
   },
   "outputs": [
    {
     "data": {
      "text/markdown": [
       "<details style='cursor: pointer;'><summary>Have a look at <code>tools.py</code></summary>\n",
       "\n",
       "```Python\n",
       "\n",
       "\"\"\" A number of helper tools to reduce code in the training materials\n",
       "\n",
       "    Source: https://gitlab.hrz.tu-chemnitz.de/s7398234--tu-dresden.de/base_modules/\n",
       "\"\"\"\n",
       "import os\n",
       "import io\n",
       "import csv\n",
       "import numpy as np\n",
       "import warnings\n",
       "import requests\n",
       "import pandas as pd\n",
       "import geopandas as gp\n",
       "import zipfile\n",
       "import shutil\n",
       "import pkg_resources\n",
       "import platform\n",
       "import fnmatch\n",
       "import matplotlib.pyplot as plt\n",
       "import base64\n",
       "import geoviews as gv\n",
       "import textwrap\n",
       "import mapclassify as mc\n",
       "from PIL import Image\n",
       "from cartopy import crs\n",
       "from itertools import islice\n",
       "from pathlib import Path\n",
       "from collections import namedtuple\n",
       "from IPython.display import clear_output\n",
       "from typing import List, Optional, Dict, Tuple\n",
       "from IPython.display import HTML, display\n",
       "from IPython.display import Markdown as md\n",
       "from datetime import date\n",
       "from adjustText import adjust_text\n",
       "from matplotlib.font_manager import FontProperties\n",
       "from matplotlib import font_manager\n",
       "from pyproj import Transformer\n",
       "from urllib.parse import urlparse\n",
       "\n",
       "OUTPUT = Path.cwd().parents[0] / \"out\"\n",
       "\n",
       "class DbConn(object):\n",
       "\n",
       "    def __init__(self, db_conn):\n",
       "        self.db_conn = db_conn\n",
       "\n",
       "    def query(self, sql_query: str) -> pd.DataFrame:\n",
       "        \"\"\"Execute Calculation SQL Query with pandas\"\"\"\n",
       "        with warnings.catch_warnings():\n",
       "            # ignore warning for non-SQLAlchemy Connecton\n",
       "            # see github.com/pandas-dev/pandas/issues/45660\n",
       "            warnings.simplefilter('ignore', UserWarning)\n",
       "            # create pandas DataFrame from database query\n",
       "            df = pd.read_sql_query(sql_query, self.db_conn)\n",
       "        return df\n",
       "\n",
       "    def close(self):\n",
       "        self.db_conn.close()\n",
       "\n",
       "def classify_data(values: np.ndarray, scheme: str):\n",
       "    \"\"\"Classify data (value series) and return classes,\n",
       "       bounds, and colormap\n",
       "       \n",
       "    Args:\n",
       "        grid: A geopandas geodataframe with metric column to classify\n",
       "        metric: The metric column to classify values\n",
       "        scheme: The classification scheme to use.\n",
       "        mask_nonsignificant: If True, removes non-significant values\n",
       "            before classifying\n",
       "        mask_negative: Only consider positive values.\n",
       "        mask_positive: Only consider negative values.\n",
       "        cmap_name: The colormap to use.\n",
       "        return_cmap: if False, returns list instead of mpl.ListedColormap\n",
       "        store_classes: Update classes in original grid (_cat column). If\n",
       "            not set, no modifications will be made to grid.\n",
       "        \n",
       "    Adapted from:\n",
       "        https://stackoverflow.com/a/58160985/4556479\n",
       "    See available colormaps:\n",
       "        http://holoviews.org/user_guide/Colormaps.html\n",
       "    See available classification schemes:\n",
       "        https://pysal.org/mapclassify/api.html\n",
       "        \n",
       "    Notes: some classification schemes (e.g. HeadTailBreaks)\n",
       "        do not support specifying the number of classes returned\n",
       "        construct optional kwargs with k == number of classes\n",
       "    \"\"\"\n",
       "    optional_kwargs = {\"k\":7}\n",
       "    if scheme == \"HeadTailBreaks\":\n",
       "        optional_kwargs = {}\n",
       "    scheme_breaks = mc.classify(\n",
       "        y=values, scheme=scheme, **optional_kwargs)\n",
       "    return scheme_breaks\n",
       "\n",
       "def display_file(file_path: Path, formatting: str = 'Python', summary_txt: str = 'Have a look at '):\n",
       "    \"\"\"Load a file and display as Markdown formatted details-summary code-block\"\"\"\n",
       "    txt = f\"<details style='cursor: pointer;'><summary>{summary_txt}<code>{file_path.name}</code></summary>\\n\\n```{formatting}\\n\\n\"\n",
       "    txt += open(file_path, 'r').read() \n",
       "    txt += \"\\n\\n```\\n\\n</details>\"\n",
       "    display(md(txt))\n",
       "\n",
       "def print_link(url: str, hashtag: str):\n",
       "    \"\"\"Format HTML link with hashtag\"\"\"\n",
       "    return f\"\"\"\n",
       "        <div class=\"alert alert-warning\" role=\"alert\" style=\"color: black;\">\n",
       "            <strong>Open the following link in a new browser tab and have a look at the content:</strong>\n",
       "            <br>\n",
       "            <a href=\"{url}\">Instagram: {hashtag} feed (json)</a>\n",
       "        </div>\n",
       "        \"\"\"\n",
       "\n",
       "FileStat = namedtuple('File_stat', 'name, size, records')\n",
       "\n",
       "def get_file_stats(name: str, file: Path) -> Tuple[str, str, str]:\n",
       "    \"\"\"Get number of records and size of CSV file\"\"\"\n",
       "    num_lines = f'{sum(1 for line in open(file)):,}'\n",
       "    size = file.stat().st_size\n",
       "    size_gb = size/(1024*1024*1024)\n",
       "    size_format = f'{size_gb:.2f} GB'\n",
       "    size_mb = None\n",
       "    if size_gb < 1:\n",
       "        size_mb = size/(1024*1024)\n",
       "        size_format = f'{size_mb:.2f} MB'\n",
       "    if size_mb and size_mb < 1:\n",
       "        size_kb = size/(1024)\n",
       "        size_format = f'{size_kb:.2f} KB'\n",
       "    return FileStat(name, size_format, num_lines)\n",
       "\n",
       "def display_file_stats(filelist: Dict[str, Path]):\n",
       "    \"\"\"Display CSV \"\"\"\n",
       "    df = pd.DataFrame(\n",
       "        data=[\n",
       "            get_file_stats(name, file) for name, file in filelist.items() if file.exists()\n",
       "            ]).transpose()\n",
       "    header = df.iloc[0]\n",
       "    df = df[1:]\n",
       "    df.columns = header\n",
       "    display(df.style.background_gradient(cmap='viridis'))\n",
       "\n",
       "def get_sample_url(use_base: bool = None):\n",
       "    \"\"\"Retrieve sample json url from .env\"\"\"\n",
       "    if use_base is None:\n",
       "        use_base = True\n",
       "    try:\n",
       "        from dotenv import load_dotenv\n",
       "    except ImportError:\n",
       "        load_dotenv = None \n",
       "\n",
       "    if load_dotenv:\n",
       "        load_dotenv(Path.cwd().parents[0] / '.env', override=True)\n",
       "    else:\n",
       "        print(\"dotenv package not found, could not load .env\")\n",
       "    SAMPLE_URL = os.getenv(\"SAMPLE_URL\")\n",
       "    if SAMPLE_URL is None:\n",
       "        raise ValueError(\n",
       "            f\"Environment file \"\n",
       "            f\"{Path.cwd().parents[0] / '.env'} not found\")\n",
       "    if use_base:\n",
       "        SAMPLE_URL = f'{BASE_URL}{SAMPLE_URL}'\n",
       "    return SAMPLE_URL\n",
       "\n",
       "def return_total(headers: Dict[str, str]):\n",
       "    \"\"\"Return total length from requests header\"\"\"\n",
       "    if not headers:\n",
       "        return \n",
       "    total_length = headers.get('content-length')\n",
       "    if not total_length:\n",
       "        return\n",
       "    try:\n",
       "        total_length = int(total_length)\n",
       "    except:\n",
       "        total_length = None\n",
       "    return total_length\n",
       "    \n",
       "def stream_progress(total_length: int, loaded: int):\n",
       "    \"\"\"Stream progress report\"\"\"\n",
       "    clear_output(wait=True)            \n",
       "    perc_str = \"\"\n",
       "    if total_length:\n",
       "        total = total_length/1000000\n",
       "        perc = loaded/(total/100)\n",
       "        perc_str = f\"of {total:.2f} ({perc:.0f}%)\"\n",
       "    print(\n",
       "        f\"Loaded {loaded:.2f} MB \"\n",
       "        f\"{perc_str}..\")\n",
       "\n",
       "def stream_progress_basic(total: int, loaded: int):\n",
       "    \"\"\"Stream progress report\"\"\"\n",
       "    clear_output(wait=True)            \n",
       "    perc_str = \"\"\n",
       "    if total:\n",
       "        perc = loaded/(total/100)\n",
       "        perc_str = f\"of {total:.0f} ({perc:.0f}%)\"\n",
       "    print(\n",
       "        f\"Processed {loaded:.0f} \"\n",
       "        f\"{perc_str}..\")\n",
       "\n",
       "def get_stream_file(url: str, path: Path):\n",
       "    \"\"\"Download file from url and save to path\"\"\"\n",
       "    chunk_size = 8192\n",
       "    with requests.get(url, stream=True) as r:\n",
       "        r.raise_for_status()\n",
       "        total_length = return_total(r.headers)\n",
       "        with open(path, 'wb') as f:\n",
       "            for ix, chunk in enumerate(r.iter_content(chunk_size=chunk_size)): \n",
       "                f.write(chunk)\n",
       "                loaded = (ix*chunk_size)/1000000\n",
       "                if (ix % 100 == 0):\n",
       "                    stream_progress(\n",
       "                        total_length, loaded)\n",
       "            stream_progress(\n",
       "                total_length, loaded)\n",
       "                        \n",
       "def get_stream_bytes(url: str):\n",
       "    \"\"\"Stream file from url to bytes object (in-memory)\"\"\"\n",
       "    chunk_size = 8192\n",
       "    content = bytes()\n",
       "    with requests.get(url, stream=True) as r:\n",
       "        r.raise_for_status()\n",
       "        total_length = return_total(r.headers)\n",
       "        for ix, chunk in enumerate(r.iter_content(\n",
       "                chunk_size=chunk_size)): \n",
       "            content += bytes(chunk)\n",
       "            loaded = (ix*chunk_size)/1000000\n",
       "            if (ix % 100 == 0):\n",
       "                stream_progress(\n",
       "                    total_length, loaded)\n",
       "    stream_progress(\n",
       "        total_length, loaded)\n",
       "    return content\n",
       "                        \n",
       "def highlight_row(s, color):\n",
       "    return f'background-color: {color}'\n",
       "\n",
       "def display_header_stats(\n",
       "        df: pd.DataFrame, metric_cols: List[str], base_cols: List[str]):\n",
       "    \"\"\"Display header stats for CSV files\"\"\"\n",
       "    pd.options.mode.chained_assignment = None\n",
       "    # bg color metric cols\n",
       "    for col in metric_cols:\n",
       "        df.loc[df.index, col] = df[col].str[:25]\n",
       "    styler = df.style\n",
       "    styler.applymap(\n",
       "        lambda x: highlight_row(x, color='#FFF8DC'), \n",
       "        subset=pd.IndexSlice[:, metric_cols])\n",
       "    # bg color base cols\n",
       "    styler.applymap(\n",
       "        lambda x: highlight_row(x, color='#8FBC8F'), \n",
       "        subset=pd.IndexSlice[:, base_cols])\n",
       "    # bg color index cols (multi-index)\n",
       "    css = []\n",
       "    for ix, __ in enumerate(df.index.names):\n",
       "        idx = df.index.get_level_values(ix)\n",
       "        css.extend([{\n",
       "            'selector': f'.row{i}.level{ix}',\n",
       "            'props': [('background-color', '#8FBC8F')]}\n",
       "                for i,v in enumerate(idx)])\n",
       "    styler.set_table_styles(css)\n",
       "    display(styler)\n",
       "\n",
       "def get_folder_size(folder: Path):\n",
       "    \"\"\"Return size of all files in folder in MegaBytes\"\"\"\n",
       "    if not folder.exists():\n",
       "        raise Warning(\n",
       "            f\"Folder {folder} does not exist\")\n",
       "        return\n",
       "    size_mb = 0\n",
       "    for file in folder.glob('*'):\n",
       "        size_mb += file.stat().st_size / (1024*1024)\n",
       "    return size_mb\n",
       "\n",
       "def get_zip_extract(\n",
       "    output_path: Path, \n",
       "    uri: str = None, filename: str = None, uri_filename: str = None,\n",
       "    create_path: bool = True, skip_exists: bool = True,\n",
       "    report: bool = True, filter_files: List[str] = None,\n",
       "    write_intermediate: bool = None):\n",
       "    \"\"\"Get Zip file and extract to output_path.\n",
       "    Create Path if not exists.\"\"\"\n",
       "    if uri is None or filename is None:\n",
       "        if uri_filename is None:\n",
       "            raise ValueError(\"Either specify uri and filename or the complete url (uri_filename)\")\n",
       "        url_prs = urlparse(uri_filename)\n",
       "        filename = os.path.basename(url_prs.path)\n",
       "        uri = f\"{url_prs.scheme}://{url_prs.netloc}{os.path.dirname(url_prs.path)}/\"\n",
       "    if write_intermediate is None:\n",
       "        write_intermediate = False\n",
       "    if create_path:\n",
       "        output_path.mkdir(\n",
       "            exist_ok=True)\n",
       "    if skip_exists and Path(\n",
       "        output_path / Path(filename).with_suffix('')).exists():\n",
       "        # check if folder exists \n",
       "        # remove .zip suffix from filename first\n",
       "        if report:\n",
       "            print(\"File already exists.. skipping download..\")\n",
       "        return\n",
       "    if write_intermediate:\n",
       "        out_file = output_path / filename\n",
       "        get_stream_file(f'{uri}{filename}', out_file)\n",
       "        z = zipfile.ZipFile(out_file)\n",
       "    else:\n",
       "        content = get_stream_bytes(\n",
       "            f'{uri}{filename}')\n",
       "        z = zipfile.ZipFile(io.BytesIO(content))\n",
       "    print(\"Extracting zip..\")\n",
       "    if filter_files:\n",
       "        file_names = z.namelist()\n",
       "        for filename in file_names:\n",
       "            if filename in filter_files:\n",
       "                z.extract(filename, output_path)\n",
       "    else:\n",
       "        z.extractall(output_path)\n",
       "    if write_intermediate:\n",
       "        if out_file.is_file():\n",
       "            out_file.unlink()\n",
       "    if report:\n",
       "        raw_size_mb = get_folder_size(output_path)\n",
       "        print(\n",
       "            f\"Retrieved {filename}, \"\n",
       "            f\"extracted size: {raw_size_mb:.2f} MB\")\n",
       "\n",
       "def zip_dir(path: Path, zip_file_path: Path):\n",
       "    \"\"\"Zip all contents of path to zip_file. Will not recurse subfolders.\"\"\"\n",
       "    files_to_zip = [\n",
       "        file for file in path.glob('*') if file.is_file()]\n",
       "    with zipfile.ZipFile(\n",
       "        zip_file_path, 'w', zipfile.ZIP_DEFLATED) as zip_f:\n",
       "        for file in files_to_zip:\n",
       "            zip_f.write(file, file.name)\n",
       "\n",
       "def drop_cols_except(\n",
       "        df: pd.DataFrame, columns_keep: List[str], inplace: bool = None) -> Optional[pd.DataFrame]:\n",
       "    \"\"\"Drop all columns from DataFrame except those specified in columns_keep\n",
       "    \"\"\"\n",
       "    cols_to_drop = df.columns.difference(columns_keep)\n",
       "    if inplace is None:\n",
       "        # by default, drop with inplace=True\n",
       "        df.drop(\n",
       "            cols_to_drop, axis=1, inplace=True)\n",
       "        return\n",
       "    return df.drop(cols_to_drop, axis=1, inplace=False)\n",
       "        \n",
       "    \n",
       "def clean_folder(path: Path):\n",
       "    \"\"\"Remove folder, warn if recursive\"\"\"\n",
       "    if not path.is_dir():\n",
       "        print(f\"{path} is not a directory\")\n",
       "        return\n",
       "    raw_size_mb = get_folder_size(path)\n",
       "    contents = [content for content in path.glob('*')]\n",
       "    answer = input(\n",
       "        f\"Removing {path.stem} with \"\n",
       "        f\"{len(contents)} files / {raw_size_mb:.0f} MB ? \"\n",
       "        f\"Type 'y' or 'yes'\")\n",
       "    if answer not in [\"y\", \"yes\"]:\n",
       "        print(\"Cancel.\")\n",
       "        return\n",
       "    for content in contents:\n",
       "        if content.is_file():\n",
       "            content.unlink()\n",
       "            continue\n",
       "        try:\n",
       "            content.rmdir()\n",
       "        except:\n",
       "            raise Warning(\n",
       "                f\"{content.name} contains subdirs. \"\n",
       "                f\"Cancelling operation..\")\n",
       "            return\n",
       "    path.rmdir()\n",
       "\n",
       "def clean_folders(paths: List[Path]):\n",
       "    \"\"\"Clean list of folders (depth: 2)\"\"\"\n",
       "    for path in paths:\n",
       "        clean_folder(path)\n",
       "    print(\n",
       "        \"Done. Thank you. \"\n",
       "        \"Do not forget to shut down your notebook server \"\n",
       "        \"(File > Shut Down), once you are finished with \"\n",
       "        \"the last notebook.\")\n",
       "\n",
       "def chunks(lst, n):\n",
       "    \"\"\"Yield successive n-sized chunks from lst.\"\"\"\n",
       "    for i in range(0, len(lst), n):\n",
       "        yield lst[i:i + n]\n",
       "\n",
       "def package_report(root_packages: List[str], python_version = True):\n",
       "    \"\"\"Report package versions for root_packages entries\"\"\"\n",
       "    root_packages.sort(reverse=True)\n",
       "    root_packages_list = []\n",
       "    if python_version:\n",
       "        pyv = platform.python_version()\n",
       "        root_packages_list.append([\"python\", pyv])\n",
       "    for m in pkg_resources.working_set:\n",
       "        if m.project_name.lower() in root_packages:\n",
       "            root_packages_list.append([m.project_name, m.version])\n",
       "    html_tables = ''\n",
       "    for chunk in chunks(root_packages_list, 10):\n",
       "        # get table HTML\n",
       "        html_tables += pd.DataFrame(\n",
       "                    chunk,\n",
       "                    columns=[\"package\", \"version\"]\n",
       "                ).set_index(\"package\").transpose().to_html()\n",
       "    display(HTML(\n",
       "        f'''\n",
       "        <details><summary style=\"cursor: pointer;\">List of package versions used in this notebook</summary>\n",
       "        {html_tables}\n",
       "        </details>\n",
       "        '''\n",
       "        ))\n",
       "\n",
       "def tree(dir_path: Path, level: int=-1, limit_to_directories: bool=False,\n",
       "         length_limit: int=1000, ignore_files_folders=None, ignore_match=None):\n",
       "    \"\"\"Given a directory Path object print a visual tree structure\n",
       "    Source: https://stackoverflow.com/a/59109706/4556479\n",
       "    \"\"\"\n",
       "    dir_path = Path(dir_path) # accept string coerceable to Path\n",
       "    files = 0\n",
       "    directories = 0\n",
       "    space =  '    '\n",
       "    branch = '│   '\n",
       "    # pointers:\n",
       "    tee =    '├── '\n",
       "    last =   '└── '\n",
       "    print_list = []\n",
       "    always_ignore_files_folders = [\".git\", \".ipynb_checkpoints\", \"__pycache__\", \"__init__.py\", \"*.bak\"]\n",
       "    if ignore_files_folders is None:\n",
       "        ignore_files_folders = always_ignore_files_folders\n",
       "    else:\n",
       "        ignore_files_folders += always_ignore_files_folders\n",
       "    if ignore_match is None:\n",
       "        ignore_match = [\"_*\", \"*.pyc\", \"*.bak\"] \n",
       "    def inner(dir_path: Path, prefix: str='', level=-1):\n",
       "        nonlocal files, directories\n",
       "        if not level: \n",
       "            return # 0, stop iterating\n",
       "        if limit_to_directories:\n",
       "            contents = [d for d in dir_path.iterdir() if\n",
       "                        d.name not in ignore_files_folders]\n",
       "        else: \n",
       "            contents = [d for d in dir_path.iterdir()\n",
       "                        if d.name not in ignore_files_folders and\n",
       "                        not any(fnmatch.fnmatch(d, pat) for pat in ignore_match)]\n",
       "        # print(f'{contents[1].name})\n",
       "        pointers = [tee] * (len(contents) - 1) + [last]\n",
       "        for pointer, path in zip(pointers, contents):\n",
       "            if path.is_dir():\n",
       "                yield prefix + pointer + path.name\n",
       "                directories += 1\n",
       "                extension = branch if pointer == tee else space \n",
       "                yield from inner(path, prefix=prefix+extension, level=level-1)\n",
       "            elif not limit_to_directories:\n",
       "                yield prefix + pointer + path.name\n",
       "                files += 1\n",
       "    print_list.append(\".\")\n",
       "    iterator = inner(dir_path, level=level)\n",
       "    for line in islice(iterator, length_limit):\n",
       "        print_list.append(line)\n",
       "    if next(iterator, None):\n",
       "        print_list.append(f'... length_limit, {length_limit}, reached, counted:')\n",
       "    print_list.append(f'\\n{directories} directories' + (f', {files} files' if files else ''))\n",
       "    br = \"<br>\"\n",
       "    return HTML(f\"\"\"\n",
       "        <div>\n",
       "            <details><summary style='cursor: pointer;'>Directory file tree</summary>\n",
       "            <pre><code>{\"<br>\".join(print_list)}\n",
       "            </pre></code>\n",
       "            </details>\n",
       "        </div>      \n",
       "        \"\"\")\n",
       "\n",
       "def record_preview_hll(file: Path, num: int = 0):\n",
       "    \"\"\"Get record preview for hll data\"\"\"\n",
       "    with open(file, 'r', encoding=\"utf-8\") as file_handle:\n",
       "        post_reader = csv.DictReader(\n",
       "                    file_handle,\n",
       "                    delimiter=',',\n",
       "                    quotechar='\"',\n",
       "                    quoting=csv.QUOTE_MINIMAL)\n",
       "        for ix, hll_record in enumerate(post_reader):\n",
       "            hll_record = get_hll_record(hll_record, strip=True)\n",
       "            # convert to df for display\n",
       "            display(pd.DataFrame(data=[hll_record]).rename_axis(\n",
       "                f\"Record {ix}\", axis=1).transpose().style.background_gradient(cmap='viridis'))\n",
       "            # stop iteration after x records\n",
       "            if ix >= num:\n",
       "                break\n",
       "\n",
       "HllRecord = namedtuple('Hll_record', 'latitude, longitude, user_hll, post_hll, date_hll')\n",
       "HllOriginRecord = namedtuple('HllOrigin_record', 'origin_id, latitude, longitude, user_hll, post_hll, date_hll')\n",
       "\n",
       "def strip_item(item, strip: bool):\n",
       "    if item is None:\n",
       "        return\n",
       "    if not strip:\n",
       "        return item\n",
       "    if len(item) > 120:\n",
       "        item = item[:120] + '..'\n",
       "    return item\n",
       "\n",
       "def get_hll_record(record, strip: bool = None):\n",
       "    \"\"\"Concatenate topic info from post columns\"\"\"\n",
       "\n",
       "    origin_id = record.get('origin_id')\n",
       "    latitude = record.get('latitude')\n",
       "    longitude = record.get('longitude')\n",
       "    cols = ['user_hll', 'post_hll', 'date_hll']\n",
       "    col_vals = []\n",
       "    for col in cols:\n",
       "        col_val = record.get('user_hll')\n",
       "        col_vals.append(strip_item(record.get(col), strip))\n",
       "    if not origin_id is None:\n",
       "        return HllOriginRecord(origin_id, latitude, longitude, *col_vals)\n",
       "    return HllRecord(latitude, longitude, *col_vals)\n",
       "\n",
       "def hll_series_cardinality(\n",
       "    hll_series: pd.Series, db_conn: DbConn,) -> pd.Series:\n",
       "    \"\"\"HLL cardinality estimation from a series of hll sets\n",
       "\n",
       "    Args:\n",
       "        hll_series: Indexed series of hll sets. \n",
       "    \"\"\"\n",
       "    # create list of hll values for pSQL\n",
       "    hll_values_list = \",\".join(\n",
       "        [f\"({ix}::int,'{hll_item}'::hll)\" \n",
       "         for ix, hll_item\n",
       "         in enumerate(hll_series.values.tolist())])\n",
       "    # Compilation of SQL query\n",
       "    return_col = hll_series.name\n",
       "    db_query = f\"\"\"\n",
       "        SELECT s.ix,\n",
       "               hll_cardinality(s.hll_set)::int AS {return_col}\n",
       "        FROM (\n",
       "            VALUES {hll_values_list}\n",
       "            ) s(ix, hll_set)\n",
       "        ORDER BY ix ASC\n",
       "        \"\"\"\n",
       "    df = db_conn.query(db_query)\n",
       "    # to merge values back to grouped dataframe,\n",
       "    # first reset index to ascending integers\n",
       "    # matching those of the returned df;\n",
       "    # this will turn series_grouped into a DataFrame;\n",
       "    # the previous index will still exist in column 'index'\n",
       "    df_series = hll_series.reset_index()\n",
       "    # drop hll sets not needed anymore\n",
       "    df_series.drop(columns=[hll_series.name], inplace=True)\n",
       "    # append hll_cardinality counts \n",
       "    # using matching ascending integer indexes\n",
       "    df_series.loc[df.index, return_col] = df[return_col].values\n",
       "    # set index back to original multiindex\n",
       "    df_series.set_index(hll_series.index.names, inplace=True)\n",
       "    # return as series\n",
       "    return df_series[return_col].astype(np.int64)\n",
       "\n",
       "def union_hll_series(\n",
       "    hll_series: pd.Series, db_conn: DbConn, cardinality: bool = True, multiindex: bool = None) -> pd.Series:\n",
       "    \"\"\"HLL Union and (optional) cardinality estimation from series of hll sets\n",
       "    based on group by composite index.\n",
       "\n",
       "        Args:\n",
       "        hll_series: Indexed series (bins) of hll sets. \n",
       "        cardinality: If True, returns cardinality (counts). Otherwise,\n",
       "            the unioned hll set will be returned.\n",
       "        multiindex: Specify, whether Series is indexed with a multiindex (a composite index)\n",
       "            \n",
       "    The method will combine all groups of hll sets first,\n",
       "        in a single SQL command. Union of hll-sets belonging \n",
       "        to the same group (bin) and (optionally) returning the cardinality \n",
       "        (the estimated count) per group will be done in postgres.\n",
       "    \n",
       "    By utilizing Postgres´ GROUP BY (instead of, e.g. doing \n",
       "        the group with numpy), it is possible to reduce the number\n",
       "        of SQL calls to a single run, which saves overhead \n",
       "        (establishing the db connection, initializing the SQL query \n",
       "        etc.). Also note that ascending integers are used for groups,\n",
       "        instead of their full original bin-ids, which also reduces\n",
       "        transfer time.\n",
       "    \n",
       "    cardinality = True should be used when calculating counts in\n",
       "        a single pass.\n",
       "        \n",
       "    cardinality = False should be used when incrementally union\n",
       "        of hll sets is required, e.g. due to size of input data.\n",
       "        In the last run, set to cardinality = True.\n",
       "    \"\"\"\n",
       "    # group all hll-sets per index (bin-id)\n",
       "    series_grouped = hll_series.groupby(\n",
       "        hll_series.index).apply(list)\n",
       "    # From grouped hll-sets,\n",
       "    # construct a single SQL Value list;\n",
       "    # if the following nested list comprehension\n",
       "    # doesn't make sense to you, have a look at\n",
       "    # spapas.github.io/2016/04/27/python-nested-list-comprehensions/\n",
       "    # with a decription on how to 'unnest'\n",
       "    # nested list comprehensions to regular for-loops\n",
       "    hll_values_list = \",\".join(\n",
       "        [f\"({ix}::int,'{hll_item}'::hll)\" \n",
       "         for ix, hll_items\n",
       "         in enumerate(series_grouped.values.tolist())\n",
       "         for hll_item in hll_items])\n",
       "    # Compilation of SQL query,\n",
       "    # depending on whether to return the cardinality\n",
       "    # of unioned hll or the unioned hll\n",
       "    return_col = \"hll_union\"\n",
       "    hll_calc_pre = \"\"\n",
       "    hll_calc_tail = \"AS hll_union\"\n",
       "    if cardinality:\n",
       "        # add sql syntax for cardinality \n",
       "        # estimation\n",
       "        # (get count distinct from hll)\n",
       "        return_col = \"hll_cardinality\"\n",
       "        hll_calc_pre = \"hll_cardinality(\"\n",
       "        hll_calc_tail = \")::int\"\n",
       "    db_query = f\"\"\"\n",
       "        SELECT sq.{return_col} FROM (\n",
       "            SELECT s.group_ix,\n",
       "                   {hll_calc_pre}\n",
       "                   hll_union_agg(s.hll_set)\n",
       "                   {hll_calc_tail}\n",
       "            FROM (\n",
       "                VALUES {hll_values_list}\n",
       "                ) s(group_ix, hll_set)\n",
       "            GROUP BY group_ix\n",
       "            ORDER BY group_ix ASC) sq\n",
       "        \"\"\"\n",
       "    df = db_conn.query(db_query)\n",
       "    # to merge values back to grouped dataframe,\n",
       "    # first reset index to ascending integers\n",
       "    # matching those of the returned df;\n",
       "    # this will turn series_grouped into a DataFrame;\n",
       "    # the previous index will still exist in column 'index'\n",
       "    df_grouped = series_grouped.reset_index()\n",
       "    # drop hll sets not needed anymore\n",
       "    df_grouped.drop(columns=[hll_series.name], inplace=True)\n",
       "    # append hll_cardinality counts \n",
       "    # using matching ascending integer indexes\n",
       "    df_grouped.loc[df.index, return_col] = df[return_col].values\n",
       "    # set index back to original bin-ids\n",
       "    if multiindex:\n",
       "        df_grouped.index = pd.MultiIndex.from_tuples(\n",
       "            df_grouped[\"index\"], names=hll_series.index.names)\n",
       "    else:\n",
       "        # set index from column named \"index\",\n",
       "        # the original composite-inex, stored as tuples\n",
       "        df_grouped.set_index(hll_series.index.names, inplace=True)\n",
       "    series = df_grouped[return_col]\n",
       "    if cardinality:\n",
       "         return series.astype(np.int64)\n",
       "    return series\n",
       "\n",
       "def check_table_exists(\n",
       "        db_conn: DbConn, table_name: str, schema: str = None) -> bool:\n",
       "    \"\"\"Check if a table exists or not, using db_conn and table_name\"\"\"\n",
       "    if not schema:\n",
       "        schema = 'mviews'\n",
       "    sql_query = f\"\"\"\n",
       "    SELECT EXISTS (\n",
       "       SELECT FROM information_schema.tables \n",
       "       WHERE  table_schema = '{schema}'\n",
       "       AND    table_name   = '{table_name}'\n",
       "       );\n",
       "    \"\"\"\n",
       "    result = db_conn.query(sql_query)\n",
       "    return result[\"exists\"][0]\n",
       "\n",
       "def get_shapes(\n",
       "        reference: str, shape_dir: Path,\n",
       "        clean_cols: Optional[bool] = None, normalize_cols: Optional[bool] = None,\n",
       "        set_index: Optional[bool] = None, project_wgs84: Optional[bool] = None) -> gp.GeoDataFrame:\n",
       "    \"\"\"Custom method to get frequently used shapes (DE Bundesländer, US States)\n",
       "    and return a geopandas.GeoDataFrame (WGS1984)\n",
       "\n",
       "    reference: str - \"us\" and \"de\" are currently supported\n",
       "    clean_cols: will remove all columns except geometry and state-reference. Defaults to True.\n",
       "    normalize_cols: will rename columns to sane defaults. Defaults to True.\n",
       "    set_index: will set state-reference as index column. Defaults to True.\n",
       "    project_wgs84: Project shapes to WGS1984. Defaults to True.\n",
       "    \"\"\"\n",
       "    if clean_cols is None:\n",
       "        clean_cols = True\n",
       "    if normalize_cols is None:\n",
       "        normalize_cols = True\n",
       "    if set_index is None:\n",
       "        set_index = True\n",
       "    if project_wgs84 is None:\n",
       "        project_wgs84 = True\n",
       "    target_name = \"state\"\n",
       "    if reference == \"us\":\n",
       "        source_zip = \"https://www2.census.gov/geo/tiger/GENZ2018/shp/\"\n",
       "        filename = \"cb_2018_us_state_5m.zip\"\n",
       "        shapes_name = \"cb_2018_us_state_5m.shp\"\n",
       "        col_name = \"NAME\"\n",
       "    elif reference == \"de\":\n",
       "        source_zip = \"https://daten.gdz.bkg.bund.de/produkte/vg/vg2500/aktuell/\"\n",
       "        filename = \"vg2500_12-31.utm32s.shape.zip\"\n",
       "        shapes_name = \"vg2500_12-31.utm32s.shape/vg2500/VG2500_LAN.shp\"\n",
       "        col_name = \"GEN\"\n",
       "    elif reference == \"world\":\n",
       "        source_zip = \"https://naciscdn.org/naturalearth/110m/cultural/\"\n",
       "        filename = \"ne_110m_admin_0_countries.zip\"\n",
       "        shapes_name = \"ne_110m_admin_0_countries.shp\"\n",
       "        col_name = \"SOVEREIGNT\"\n",
       "        target_name = \"country\"\n",
       "    # create  temporary storage folder, if not exists already\n",
       "    shape_dir.mkdir(exist_ok=True)\n",
       "    # test if file already downloaded\n",
       "    if not (shape_dir / shapes_name).exists():\n",
       "        get_zip_extract(\n",
       "            uri=source_zip, filename=filename, output_path=shape_dir)\n",
       "    else:\n",
       "        print(\"Already exists\")\n",
       "    shapes = gp.read_file(shape_dir / shapes_name)\n",
       "    if clean_cols:\n",
       "        drop_cols_except(df=shapes, columns_keep=[\"geometry\", col_name])\n",
       "    if normalize_cols:\n",
       "        shapes.rename(columns={col_name: target_name}, inplace=True)\n",
       "        col_name = target_name\n",
       "    if set_index:\n",
       "        shapes.set_index(col_name, inplace=True)\n",
       "    if project_wgs84:\n",
       "        shapes.to_crs(\"EPSG:4326\", inplace=True)\n",
       "    return shapes\n",
       "\n",
       "def annotate_locations(\n",
       "    ax, gdf: gp.GeoDataFrame, label_off: List[Tuple[int,int]],\n",
       "    label_rad: List[float], text_col: str, coords: str = None, coords_col: str = None,\n",
       "    arrow_col: str = None, arrowstyle: str = None, fontsize: str = None):\n",
       "    \"\"\"Annotate map based on a list of locations\n",
       "    \n",
       "    Example values:\n",
       "    label_off = {\n",
       "        \"San Francisco\":(5500000, 1000000),\n",
       "        \"Berlin\":(4500000, 1000000),\n",
       "        \"Cabo Verde\":(4500000, -1000000)}\n",
       "    label_rad = {\n",
       "        \"San Francisco\":0.1,\n",
       "        \"Berlin\":0.5,\n",
       "        \"Cabo Verde\":-0.3}\n",
       "    \"\"\"\n",
       "    \n",
       "    if arrow_col is None:\n",
       "        arrow_col = 'red'\n",
       "    if arrowstyle is None:\n",
       "        arrowstyle = '->'    \n",
       "    xy_coords = coords \n",
       "    for idx, row in gdf.iterrows():\n",
       "        # print(row)\n",
       "        if coords_col:\n",
       "            xy_coords = row[coords_col]\n",
       "        elif coords is None:\n",
       "            xy_coords = (row.geometry.centroid.x, row.geometry.centroid.y)\n",
       "        ax.annotate(\n",
       "            text=row[text_col], \n",
       "            xy=xy_coords,\n",
       "            fontsize=fontsize,\n",
       "            xytext=np.subtract(xy_coords, label_off.get(row[text_col])),\n",
       "            horizontalalignment='left',\n",
       "            arrowprops=dict(\n",
       "                arrowstyle=arrowstyle, \n",
       "                connectionstyle=f'arc3,rad={label_rad.get(row[text_col])}',\n",
       "                color=arrow_col))\n",
       "\n",
       "def annotate_locations_fit(\n",
       "    ax, gdf: gp.GeoDataFrame, text_col: str, coords: str = None, coords_col: str = None,\n",
       "    arrow_col: str = None, arrowstyle: str = None, fontsize: int = None, font_path: str = None):\n",
       "    \"\"\"Annotate map based on a list of locations and auto-fit to prevent overlap\n",
       "    \n",
       "    Example values:\n",
       "    label_off = {\n",
       "        \"San Francisco\":(5500000, 1000000),\n",
       "        \"Berlin\":(4500000, 1000000),\n",
       "        \"Cabo Verde\":(4500000, -1000000)}\n",
       "    label_rad = {\n",
       "        \"San Francisco\":0.1,\n",
       "        \"Berlin\":0.5,\n",
       "        \"Cabo Verde\":-0.3}\n",
       "    \"\"\"\n",
       "    if fontsize is None:\n",
       "        fontsize = 8\n",
       "    font_prop = None\n",
       "    if not font_path is None:\n",
       "        font_manager.fontManager.addfont(font_path)\n",
       "        font_prop = font_manager.FontProperties(fname=font_path)\n",
       "    if arrow_col is None:\n",
       "        arrow_col = 'red'\n",
       "    if arrowstyle is None:\n",
       "        arrowstyle = '->'    \n",
       "    xy_coords = coords\n",
       "    texts = []\n",
       "    for idx, row in gdf.iterrows():\n",
       "            texts.append(\n",
       "                plt.text(\n",
       "                    s='\\n'.join(textwrap.wrap(\n",
       "                        row[text_col], 18, break_long_words=True)),\n",
       "                    x=row.geometry.centroid.x,\n",
       "                    y=row.geometry.centroid.y,\n",
       "                    horizontalalignment='center',\n",
       "                    fontsize=fontsize,\n",
       "                    fontproperties=font_prop,\n",
       "                    bbox=dict(\n",
       "                        boxstyle='round,pad=0.5',\n",
       "                        fc='white',\n",
       "                        alpha=0.5)))\n",
       "    with warnings.catch_warnings():\n",
       "        warnings.filterwarnings(\"ignore\", category=UserWarning)        \n",
       "        adjust_text(\n",
       "            texts, autoalign='y', ax=ax,\n",
       "            arrowprops=dict(\n",
       "                arrowstyle=\"simple, head_length=2, head_width=2, tail_width=.2\",\n",
       "                color='black', lw=0.5, alpha=0.2, mutation_scale=4, \n",
       "                connectionstyle=f'arc3,rad=-0.3'))\n",
       "        \n",
       "def save_fig(\n",
       "        fig: plt.Figure, output: Path, name: str, formats: List[str] = ['PNG', 'svg']):\n",
       "    \"\"\"Save matplotlib figure to standard folders and file types\"\"\"\n",
       "    (output / \"figures\").mkdir(exist_ok=True)\n",
       "    (output / \"svg\").mkdir(exist_ok=True)\n",
       "    if 'PNG' in formats:\n",
       "        fig.savefig(\n",
       "            output / \"figures\" / f\"{name}.png\", dpi=300, format='PNG',\n",
       "            bbox_inches='tight', pad_inches=1, facecolor=\"white\")\n",
       "    if 'svg' in formats:\n",
       "        fig.savefig(\n",
       "            output / \"svg\" / f\"{name}.svg\", format='svg',\n",
       "            bbox_inches='tight', pad_inches=1, facecolor=\"white\")\n",
       "\n",
       "def apply_formatting(col, hex_colors):\n",
       "    \"\"\"Apply background-colors to pandas columns\"\"\"\n",
       "    for hex_color in hex_colors:\n",
       "        if col.name == hex_color:\n",
       "            return [f'background-color: {hex_color}' for c in col.values]\n",
       "\n",
       "def apply_formatting_num(col, hex_colors, as_id_list):\n",
       "    \"\"\"Apply background-colors to pandas columns (id variant)\"\"\"\n",
       "    for ix, id in enumerate(as_id_list):\n",
       "        if col.name == id:\n",
       "            return [f'background-color: {hex_colors[ix]}' for c in col.values]\n",
       "        \n",
       "def display_hex_colors(hex_colors: List[str], as_id: bool = None):\n",
       "    \"\"\"Visualize a list of hex colors using pandas. Use\n",
       "    as_id=True to output a table with equal-width cols, useful for legends\"\"\"\n",
       "    df = pd.DataFrame(hex_colors).T\n",
       "    if as_id:\n",
       "        as_id_list = [f'{x:05d}' for x in list(range(0, len(hex_colors)))]\n",
       "        df.columns = as_id_list\n",
       "    else:\n",
       "        df.columns = hex_colors\n",
       "    df.iloc[0,0:len(hex_colors)] = \"\"\n",
       "    if as_id:\n",
       "        display(df.style.apply(lambda x: apply_formatting_num(x, hex_colors, as_id_list)))\n",
       "        return\n",
       "    display(df.style.apply(lambda x: apply_formatting(x, hex_colors)))\n",
       "    \n",
       "def display_debug_dict(debug_dict, transposed: bool = None):\n",
       "    \"\"\"Display dict with debug values as (optionally) transposed table\"\"\"\n",
       "    \n",
       "    if transposed is None:\n",
       "        transposed = True\n",
       "    df = pd.DataFrame(debug_dict, index=[0])\n",
       "    if transposed:\n",
       "        pd.set_option('display.max_colwidth', None)\n",
       "        display(df.T)\n",
       "        # set back to default\n",
       "        pd.set_option('display.max_colwidth', 50)\n",
       "    else:\n",
       "        pd.set_option('display.max_columns', None)\n",
       "        display(df)\n",
       "        pd.set_option('display.max_columns', 10)\n",
       "    \n",
       "    \n",
       "def is_nan(x):\n",
       "    return (x is np.nan or x != x)\n",
       "\n",
       "def series_to_point(\n",
       "        points: gp.GeoSeries, crs=crs.Mollweide(), \n",
       "        mod_x: Optional[int] = 0, mod_y: Optional[int] = 0) -> gv.Points:\n",
       "    \"\"\"Convert a Geopandas Geoseries of points to a Geoviews Points layer\"\"\"\n",
       "    return gv.Points(\n",
       "        [(point.x+mod_x, point.y+mod_y) for point in points.geometry], crs=crs)\n",
       "\n",
       "def series_to_label(points: gp.GeoSeries, crs=crs.Mollweide()) -> List[gv.Text]:\n",
       "    \"\"\"Convert a Geopandas Geoseries of points to a list of Geoviews Text label layers\"\"\"\n",
       "    return [gv.Text(point.x+300000, point.y+300000, str(i+1), crs=crs) for i, point in enumerate(points.geometry)]\n",
       "\n",
       "def _svg_to_pdf(filename: Path, out_dir: Optional[Path] = None):\n",
       "    \"\"\"Convert a svg on disk to a pdf using cairosvg\"\"\"\n",
       "    if out_dir is None:\n",
       "        out_dir = filename.parents[0]\n",
       "    if svg2pdf is None:\n",
       "        raise ImportError(\"Please install cairosvg for svg2pdf\")\n",
       "    svg2pdf(file_obj=open(\n",
       "        filename, \"rb\"), write_to=str(out_dir / f'{filename.stem}.pdf'))\n",
       "\n",
       "def svg_to_pdf_chromium(filename: Path,  out_dir: Optional[Path] = None):\n",
       "    \"\"\"Convert a svg on disk to a pdf using Selenium and Chromedriver\"\"\"\n",
       "    import json\n",
       "    from selenium import webdriver\n",
       "    from selenium.webdriver.chrome.service import Service\n",
       "    from webdriver_manager.chrome import ChromeDriverManager\n",
       "\n",
       "    if out_dir is None:\n",
       "        out_dir = filename.parents[0]\n",
       "        \n",
       "    service = Service(ChromeDriverManager().install())\n",
       "    chrome_options = webdriver.ChromeOptions()\n",
       "    chrome_options.add_argument('--kiosk-printing')\n",
       "    chrome_options.add_argument('--headless')\n",
       "    chrome_options.add_argument('--disable-gpu')\n",
       "    chrome_options.add_argument(\"--no-sandbox\")\n",
       "    chrome_options.add_argument(\"--window-size=2000x2000\")\n",
       "    chrome_options.add_argument('--disable-dev-shm-usage')\n",
       "\n",
       "    webdriver_chrome = webdriver.Chrome(service=service, options=chrome_options)\n",
       "    webdriver_chrome.get(f'file://{filename}')\n",
       "\n",
       "    pdf = webdriver_chrome.execute_cdp_cmd(\n",
       "        \"Page.printToPDF\", {\n",
       "            \"paperWidth\": 8.3,\n",
       "            \"paperHeight\": 11.7,\n",
       "            \"printBackground\": True, \n",
       "            'landscape': True,\n",
       "            'displayHeaderFooter': False,\n",
       "            'scale': 0.75\n",
       "            })\n",
       "    \n",
       "    webdriver_chrome.close()\n",
       "    \n",
       "    with open(out_dir / f'{filename.stem}.pdf', \"wb\") as f:\n",
       "        f.write(base64.b64decode(pdf['data']))\n",
       "    \n",
       "def convert_svg_pdf(in_dir: Path,  out_dir: Optional[Path] = None):\n",
       "    \"\"\"Convert all svg in in_dir to a pdf using Selenium and Chromedriver\"\"\"\n",
       "    \n",
       "    if out_dir is None:\n",
       "        out_dir = in_dir\n",
       "    out_dir.mkdir(exist_ok=True)\n",
       "    files_folders = Path(in_dir).glob('*.svg')\n",
       "    files_svg = [x for x in files_folders if x.is_file()]\n",
       "    for cnt, file in enumerate(files_svg):\n",
       "        svg_to_pdf_chromium(\n",
       "            filename=file, out_dir=out_dir)\n",
       "        clear_output(wait=True)\n",
       "        print(f\"Processed {cnt+1} of {len(files_svg)} files..\")\n",
       "\n",
       "def min_max_lim(min_v: int, max_v: int, centroid, orig_centroid):\n",
       "    if np.isinf(centroid):\n",
       "        if orig_centroid < 0:\n",
       "            return min_v\n",
       "        if orig_centroid > 0:\n",
       "            return max_v\n",
       "    return centroid\n",
       "\n",
       "def image_grid(imgs: List[Path], resize: Optional[Tuple[int, int]] = None, figsize: Optional[Tuple[int, int]] = None):\n",
       "    \"\"\"Load and show images in a grid from a list of paths\"\"\"\n",
       "    count = len(imgs)\n",
       "    if figsize is None:\n",
       "        figsize = (11, 18)\n",
       "    plt.figure(figsize=figsize)\n",
       "    if resize is None:\n",
       "        resize = (150, 150)\n",
       "    for ix, path in enumerate(imgs):\n",
       "        i = Image.open(path)\n",
       "        i = i.resize(resize)\n",
       "        plt.subplots_adjust(bottom=0.3, right=0.8, top=0.5)\n",
       "        ax = plt.subplot(3, 5, ix + 1)\n",
       "        ax.axis('off')\n",
       "        plt.imshow(i)\n",
       "\n",
       "\n",
       "def project_point(\n",
       "        crs_in: str, crs_out: str, point: Tuple[float, float] = None, \n",
       "        points: List[Tuple[float, float]] = None):\n",
       "    \"\"\"Project a single or multiple points given two CRS\"\"\"\n",
       "    if not point is None:\n",
       "        points = [point]\n",
       "    transformer = Transformer.from_crs(crs_in, crs_out, always_xy=True)\n",
       "    if not point is None:\n",
       "        return transformer.itransform(point)\n",
       "    points_proj = []\n",
       "    for pt in transformer.itransform(points):\n",
       "        points_proj.append(pt)\n",
       "    return points_proj\n",
       "\n",
       "\n",
       "Bbox = Tuple[float, float, float, float]\n",
       "\n",
       "\n",
       "def project_bounds(\n",
       "        bbox: Bbox, crs_in: str, crs_out: str) -> Bbox:\n",
       "    \"\"\"Project Bounding Box to new coordinate system\"\"\"\n",
       "    west, south, east, north = bbox\n",
       "    points = [(west, south), (west, north), (east, north),  (east, south)]\n",
       "    points_proj = project_point(crs_in=crs_in, crs_out=crs_out, points=points)\n",
       "    west, south, east, north = points_proj[0][0], points_proj[3][1], \\\n",
       "        points_proj[2][0], points_proj[1][1]\n",
       "    return (west, south, east, north)\n",
       "\n",
       "\n",
       "def get_cmap(n, name='hsv'):\n",
       "    '''Returns a function that maps each index in 0, 1, ..., n-1 to a distinct \n",
       "    RGB color; the keyword argument name must be a standard mpl colormap name.'''\n",
       "    return plt.cm.get_cmap(name, n)\n",
       "\n",
       "\n",
       "def create_paths(\n",
       "        output: str = OUTPUT,\n",
       "        subfolders: List[str] = [\n",
       "            \"html\", \"pickles\", \"csv\", \"figures\", \"svg\", \"pdf\"]):\n",
       "    \"\"\"Create subfolder for results to be stored\"\"\"\n",
       "    output.mkdir(exist_ok=True)\n",
       "    for subfolder in subfolders:\n",
       "        Path(OUTPUT / f'{subfolder}').mkdir(exist_ok=True)\n",
       "\n",
       "\n",
       "```\n",
       "\n",
       "</details>"
      ],
      "text/plain": [
       "<IPython.core.display.Markdown object>"
      ]
     },
     "metadata": {},
     "output_type": "display_data"
    }
   ],
   "source": [
    "tools.display_file(Path.cwd().parents[0] / 'py' / 'modules' / 'tools.py')"
   ]
  },
  {
   "cell_type": "markdown",
   "id": "5608d69a-f6e8-4226-a7fd-d690da6be894",
   "metadata": {
    "editable": true,
    "slideshow": {
     "slide_type": ""
    },
    "tags": []
   },
   "source": [
    "## Define parameters\n",
    "\n",
    "To make Jupyter Notebooks easier to use and share, important parameters affecting processing are defined at the top and written in CAPITAL LETTERS ([a common Python convention](https://peps.python.org/pep-0008/)). \n",
    "\n",
    "In this notebook, we define two key parameters:\n",
    "- The `SPECIES` we want to study\n",
    "- The GBIF dataset key, we use the base [GBIF Backbone Taxonomy](https://www.gbif.org/dataset/d7dddbf4-2cf0-4f39-9b2a-bb099caae36c) dataset\n",
    "- The spatial `FOCUS_STATE` under analysis "
   ]
  },
  {
   "cell_type": "markdown",
   "id": "1f482f27-7804-4133-9e36-b5d1142b8ff3",
   "metadata": {},
   "source": [
    "```{admonition} Citation\n",
    ":class: note\n",
    "The way of downloading GBIF data and the choice of GBIF dataset(s) define how we need to cite the authors of these datasets. Have a look at the [GBIF citation guidelines](https://www.gbif.org/citation-guidelines). Since we only use a single Dataset (the base Taxonomy), this can be cites as follows:\n",
    "\n",
    "> Passer domesticus (Linnaeus, 1758) in GBIF Secretariat (2023). GBIF Backbone Taxonomy. Checklist dataset https://doi.org/10.15468/39omei accessed via GBIF.org on 2025-03-06.\n",
    "\n",
    "```"
   ]
  },
  {
   "cell_type": "code",
   "execution_count": 39,
   "id": "2eee71e2-928b-4637-a9dc-71836b9ee76a",
   "metadata": {
    "editable": true,
    "slideshow": {
     "slide_type": ""
    },
    "tags": []
   },
   "outputs": [],
   "source": [
    "# Common name of the species for which we query occurrence data \n",
    "SPECIES = \"English Sparrow\"\n",
    "# GBIF Dataset key\n",
    "GBIF_DATASET_KEY = \"d7dddbf4-2cf0-4f39-9b2a-bb099caae36c\"\n",
    "# Region used to clip LAND species observations and IOER Monitor data\n",
    "FOCUS_STATE = \"Sachsen\""
   ]
  },
  {
   "cell_type": "markdown",
   "id": "9e790621-377a-4ae1-b357-3197ad080ae9",
   "metadata": {
    "editable": true,
    "slideshow": {
     "slide_type": ""
    },
    "tags": []
   },
   "source": [
    "```{admonition} Select a different state!\n",
    ":class: dropdown, attention\n",
    "You can replace \"Sachsen\" with another German state (e.g., \"Brandenburg\") in the parameter definition above. This selection will be used later to retrieve and clip data for the chosen region.\n",
    "```"
   ]
  },
  {
   "cell_type": "markdown",
   "id": "9862d578-70f7-4c58-a166-afbee10ec7c2",
   "metadata": {
    "editable": true,
    "slideshow": {
     "slide_type": ""
    },
    "tags": []
   },
   "source": [
    "## LAND/GBIF Species Occurrence Query"
   ]
  },
  {
   "cell_type": "markdown",
   "id": "d3c53286-f702-4e27-aab2-9936670bf094",
   "metadata": {},
   "source": [
    "```{figure} https://techdocs.gbif.org/en/data-processing/_images/data-processing.png\n",
    ":name: gbif-graphic\n",
    ":figclass: fig-no-shadow\n",
    "\n",
    "GBIF Data Processing Documentation (https://techdocs.gbif.org/en/data-processing/).\n",
    "```"
   ]
  },
  {
   "cell_type": "markdown",
   "id": "2527bf71-5a27-4126-bad8-f6c797f12b08",
   "metadata": {},
   "source": [
    "The LAND Species observations can be previewd on a geo viewer at [LAND Occurrence Search](https://land.gbif.de/occurrence/search/).\n",
    "\n",
    "To view results for *Passer domesticus* (English Sparrow), you can use the search function or click  on this [link](https://land.gbif.de/occurrence/search/?taxonKey=5231190&view=MAP). Another option is to use the taxon key `taxonKey=5231190`, which we identified in the [previous section](content:references:nub-id).\n",
    "\n",
    "Since LAND relies on the GBIF API, we can also access the same data programmatically, as demonstrated in the following sections."
   ]
  },
  {
   "cell_type": "markdown",
   "id": "801716ae-065e-479c-b9db-d1a9c30cc2af",
   "metadata": {
    "editable": true,
    "slideshow": {
     "slide_type": ""
    },
    "tags": []
   },
   "source": [
    "```{admonition} GBIF Occurrence API\n",
    ":class: tip, dropdown\n",
    "[GBIF Occurrence API](https://techdocs.gbif.org/en/openapi/v1/occurrence#/Searching%20occurrences/searchOccurrence) allows users to test queries directly in a web browser. It is part of the [GBIF API Reference documentation](https://techdocs.gbif.org/en/openapi/), which is organized into several sections for easy navigation.\n",
    "```"
   ]
  },
  {
   "cell_type": "markdown",
   "id": "87a671e8-9f6c-4604-ac30-3b099773f6bd",
   "metadata": {},
   "source": [
    "### Test the LAND/GBIF Species Occurrence Query with few observations"
   ]
  },
  {
   "cell_type": "markdown",
   "id": "808dd855-e27e-485a-9a10-cdf6c498a44e",
   "metadata": {
    "editable": true,
    "slideshow": {
     "slide_type": ""
    },
    "tags": []
   },
   "source": [
    "Get the taxon key for the `SPECIES` parameter that the user defined in the code snippet above."
   ]
  },
  {
   "cell_type": "code",
   "execution_count": 8,
   "id": "93b8b20f-b241-4635-bbaf-e62f6eebf5bc",
   "metadata": {
    "editable": true,
    "slideshow": {
     "slide_type": ""
    },
    "tags": []
   },
   "outputs": [
    {
     "data": {
      "text/plain": [
       "5231190"
      ]
     },
     "execution_count": 8,
     "metadata": {},
     "output_type": "execute_result"
    }
   ],
   "source": [
    "query_url = f'https://api.gbif.org/v1/species/search?q={SPECIES}&datasetKey={GBIF_DATASET_KEY}'\n",
    "response = requests.get(url=query_url)\n",
    "json_data = json.loads(response.text)\n",
    "nub_key = json_data[\"results\"][0]['nubKey']\n",
    "nub_key"
   ]
  },
  {
   "cell_type": "markdown",
   "id": "d0bd7e3f-eb2f-4897-87dc-c9e9597a6ff7",
   "metadata": {
    "editable": true,
    "slideshow": {
     "slide_type": ""
    },
    "tags": []
   },
   "source": [
    "The taxon key for *Passer domesticus* (English Sparrow) is referenced above in the API response as `nubKey`. Since GBIF refers to this as `taxonKey`, we rename it for consistency. For more details, see the [GBIF taxonomic keys](https://discourse.gbif.org/t/understanding-gbif-taxonomic-keys-usagekey-taxonkey-specieskey/3045). For the first test query, we set a limit of 10 observations of occurrence.\n"
   ]
  },
  {
   "cell_type": "code",
   "execution_count": 9,
   "id": "625919dd-6ac6-463d-bd01-577b3a39bd1d",
   "metadata": {
    "editable": true,
    "slideshow": {
     "slide_type": ""
    },
    "tags": []
   },
   "outputs": [],
   "source": [
    "taxon_key = nub_key\n",
    "continent = \"europe\"\n",
    "limit = 10\n",
    "query_url = f\"https://api.gbif.org/v1/occurrence/search\" \\\n",
    "    f\"?taxonKey={taxon_key}&limit={limit}&continent={continent}\""
   ]
  },
  {
   "cell_type": "code",
   "execution_count": 10,
   "id": "d9c19e84-1cf2-4044-b737-a030680b713e",
   "metadata": {
    "editable": true,
    "slideshow": {
     "slide_type": ""
    },
    "tags": []
   },
   "outputs": [
    {
     "data": {
      "text/plain": [
       "200"
      ]
     },
     "execution_count": 10,
     "metadata": {},
     "output_type": "execute_result"
    }
   ],
   "source": [
    "response = requests.get(\n",
    "    url=query_url)\n",
    "response.status_code"
   ]
  },
  {
   "cell_type": "markdown",
   "id": "3d276851-043c-43ff-8815-15bf21aa4b1d",
   "metadata": {
    "editable": true,
    "slideshow": {
     "slide_type": ""
    },
    "tags": []
   },
   "source": [
    "Check the `status_code`. `200` Means: _Ok_\n",
    "\n",
    "```{admonition} Some more HTML status codes that may be encountered\n",
    ":class: dropdown, hint\n",
    "\n",
    "| HTML Status Code | Message/Meaning       |\n",
    "| ---------------- | --------------------- |\n",
    "| 200              | OK                    |\n",
    "| 400              | Bad request           |\n",
    "| 403              | Forbidden             |\n",
    "| 429              | Too Many Requests     |\n",
    "| 500              | Internal Server Error |\n",
    "| 503              | Service Unavailable   |\n",
    "| 504              | Gateway Timeout       |\n",
    "\n",
    "```"
   ]
  },
  {
   "cell_type": "markdown",
   "id": "42ecbc68-4e7c-46e4-bef9-f0115a3f38f5",
   "metadata": {
    "editable": true,
    "slideshow": {
     "slide_type": ""
    },
    "tags": []
   },
   "source": [
    "To check the returned data, access the `.text` field and use the `json` library to parse it."
   ]
  },
  {
   "cell_type": "code",
   "execution_count": 11,
   "id": "f5bce549-f561-426e-b80f-0bfae886f083",
   "metadata": {
    "editable": true,
    "slideshow": {
     "slide_type": ""
    },
    "tags": []
   },
   "outputs": [],
   "source": [
    "json_text = response.text"
   ]
  },
  {
   "cell_type": "code",
   "execution_count": 12,
   "id": "6f5e75c5-d261-465f-aa00-766ad718fbca",
   "metadata": {
    "editable": true,
    "slideshow": {
     "slide_type": ""
    },
    "tags": [
     "hide-output"
    ]
   },
   "outputs": [
    {
     "name": "stdout",
     "output_type": "stream",
     "text": [
      "{\n",
      "  \"offset\": 0,\n",
      "  \"limit\": 10,\n",
      "  \"endOfRecords\": false,\n",
      "  \"count\": 5971707,\n",
      "  \"results\": [\n",
      "    {\n",
      "      \"key\": 5055542312,\n",
      "      \"datasetKey\": \"aa6c5ee6-d4d7-4a65-a04f-379cffbf4842\",\n",
      "      \"publishingOrgKey\": \"2754e9c0-0e43-4f65-968a-6f16b9c378ce\",\n",
      "      \"installationKey\": \"dcceb601-2fb0-49dc-9cd2-7c00056f2b2c\",\n",
      "      \"hostingOrganizationKey\": \"2754e9c0-0e43-4f65-968a-6f16b9c378ce\",\n",
      "      \"publishingCountry\": \"DE\",\n",
      "      \"protocol\": \"BIOCASE\",\n",
      "      \"lastCrawled\": \"2025-02-27T21:43:47.705+00:00\",\n",
      "      \"lastParsed\": \"2025-02-27T22:20:11.700+00:00\",\n",
      "      \"crawlId\": 335,\n",
      "      \"extensions\": {},\n",
      "      \"basisOfRecord\": \"HUMAN_OBSERVATION\",\n",
      "      \"occurrenceStatus\": \"PRESENT\",\n",
      "      \"taxonKey\": 5231190,\n",
      "      \"kingdomKey\": 1,\n",
      "      \"phylumKey\": 44,\n",
      "      \"classKey\": 212,\n",
      "      \"orderKey\": 729,\n",
      "      \"familyKey\": 5264,\n",
      "      \"genusKey\": 2492321,\n",
      "      \"speciesKey\": 5231190,\n",
      "      \"acceptedTaxonKey\": 5231190,\n",
      "      \"scientificName\": \"Passer domesticus (Linnaeus, 1758)\",\n",
      "      \"acceptedScient\n"
     ]
    }
   ],
   "source": [
    "json_data = json.loads(json_text)\n",
    "print(json.dumps(json_data, indent=2)[0:1000])"
   ]
  },
  {
   "cell_type": "markdown",
   "id": "a0508b2d-86f3-4e16-b8e7-8ea96c4c27d2",
   "metadata": {
    "editable": true,
    "slideshow": {
     "slide_type": ""
    },
    "tags": []
   },
   "source": [
    "We can also apply a validity check by comparing how many results have been returned. Since we specified a limit of `10` in our original query, we expect that `10` observations of occurrence are also returned."
   ]
  },
  {
   "cell_type": "code",
   "execution_count": 13,
   "id": "483804b1-e2d8-4e77-bb45-3b8b1e18e1f3",
   "metadata": {
    "editable": true,
    "slideshow": {
     "slide_type": ""
    },
    "tags": []
   },
   "outputs": [
    {
     "data": {
      "text/plain": [
       "10"
      ]
     },
     "execution_count": 13,
     "metadata": {},
     "output_type": "execute_result"
    }
   ],
   "source": [
    "len(json_data[\"results\"])"
   ]
  },
  {
   "cell_type": "markdown",
   "id": "90454eba-fd33-495f-952a-eb7a4fba941d",
   "metadata": {
    "editable": true,
    "slideshow": {
     "slide_type": ""
    },
    "tags": []
   },
   "source": [
    "Let's have a look at the first element. We can see that there are two entries used as a spatial reference:\n",
    "```\n",
    "'decimalLatitude': 41.99907,\n",
    "'decimalLongitude': -8.17893,\n",
    "```"
   ]
  },
  {
   "cell_type": "code",
   "execution_count": 14,
   "id": "835a1a80-4b4c-44db-9c5a-e270e050b5f1",
   "metadata": {
    "editable": true,
    "slideshow": {
     "slide_type": ""
    },
    "tags": [
     "hide-output"
    ]
   },
   "outputs": [
    {
     "data": {
      "text/plain": [
       "{'key': 5055542312,\n",
       " 'datasetKey': 'aa6c5ee6-d4d7-4a65-a04f-379cffbf4842',\n",
       " 'publishingOrgKey': '2754e9c0-0e43-4f65-968a-6f16b9c378ce',\n",
       " 'installationKey': 'dcceb601-2fb0-49dc-9cd2-7c00056f2b2c',\n",
       " 'hostingOrganizationKey': '2754e9c0-0e43-4f65-968a-6f16b9c378ce',\n",
       " 'publishingCountry': 'DE',\n",
       " 'protocol': 'BIOCASE',\n",
       " 'lastCrawled': '2025-02-27T21:43:47.705+00:00',\n",
       " 'lastParsed': '2025-02-27T22:20:11.700+00:00',\n",
       " 'crawlId': 335,\n",
       " 'extensions': {},\n",
       " 'basisOfRecord': 'HUMAN_OBSERVATION',\n",
       " 'occurrenceStatus': 'PRESENT',\n",
       " 'taxonKey': 5231190,\n",
       " 'kingdomKey': 1,\n",
       " 'phylumKey': 44,\n",
       " 'classKey': 212,\n",
       " 'orderKey': 729,\n",
       " 'familyKey': 5264,\n",
       " 'genusKey': 2492321,\n",
       " 'speciesKey': 5231190,\n",
       " 'acceptedTaxonKey': 5231190,\n",
       " 'scientificName': 'Passer domesticus (Linnaeus, 1758)',\n",
       " 'acceptedScientificName': 'Passer domesticus (Linnaeus, 1758)',\n",
       " 'kingdom': 'Animalia',\n",
       " 'phylum': 'Chordata',\n",
       " 'order': 'Passeriformes',\n",
       " 'family': 'Passeridae',\n",
       " 'genus': 'Passer',\n",
       " 'species': 'Passer domesticus',\n",
       " 'genericName': 'Passer',\n",
       " 'specificEpithet': 'domesticus',\n",
       " 'taxonRank': 'SPECIES',\n",
       " 'taxonomicStatus': 'ACCEPTED',\n",
       " 'iucnRedListCategory': 'LC',\n",
       " 'dateIdentified': '2025-01-19T17:44:00',\n",
       " 'decimalLatitude': 49.053037,\n",
       " 'decimalLongitude': 7.952648,\n",
       " 'coordinateUncertaintyInMeters': 5.0,\n",
       " 'continent': 'EUROPE',\n",
       " 'gadm': {'level0': {'gid': 'DEU', 'name': 'Germany'},\n",
       "  'level1': {'gid': 'DEU.11_1', 'name': 'Rheinland-Pfalz'},\n",
       "  'level2': {'gid': 'DEU.11.29_1', 'name': 'Südliche Weinstraße'},\n",
       "  'level3': {'gid': 'DEU.11.29.2_1', 'name': 'Bad Bergzabern'}},\n",
       " 'year': 2025,\n",
       " 'month': 1,\n",
       " 'day': 19,\n",
       " 'eventDate': '2025-01-19',\n",
       " 'startDayOfYear': 19,\n",
       " 'endDayOfYear': 19,\n",
       " 'issues': ['COUNTRY_DERIVED_FROM_COORDINATES',\n",
       "  'CONTINENT_DERIVED_FROM_COORDINATES'],\n",
       " 'lastInterpreted': '2025-02-27T22:20:11.700+00:00',\n",
       " 'references': 'https://artenfinder.net/api/v2/sichtbeobachtungen/55183747?format=xml',\n",
       " 'license': 'http://creativecommons.org/publicdomain/zero/1.0/legalcode',\n",
       " 'isSequenced': False,\n",
       " 'identifiers': [{'identifier': '034c17fd-bed7-5938-be48-32205f9efc3e'}],\n",
       " 'media': [],\n",
       " 'facts': [],\n",
       " 'relations': [],\n",
       " 'isInCluster': False,\n",
       " 'geodeticDatum': 'WGS84',\n",
       " 'class': 'Aves',\n",
       " 'countryCode': 'DE',\n",
       " 'recordedByIDs': [],\n",
       " 'identifiedByIDs': [],\n",
       " 'gbifRegion': 'EUROPE',\n",
       " 'country': 'Germany',\n",
       " 'publishedByGbifRegion': 'EUROPE',\n",
       " 'identifier': '034c17fd-bed7-5938-be48-32205f9efc3e',\n",
       " 'catalogNumber': '034c17fd-bed7-5938-be48-32205f9efc3e',\n",
       " 'institutionCode': 'https://artenfinder.net',\n",
       " 'collectionCode': 'artenfinder',\n",
       " 'gbifID': '5055542312',\n",
       " 'occurrenceID': '034c17fd-bed7-5938-be48-32205f9efc3e'}"
      ]
     },
     "execution_count": 14,
     "metadata": {},
     "output_type": "execute_result"
    }
   ],
   "source": [
    "json_data[\"results\"][0]"
   ]
  },
  {
   "cell_type": "markdown",
   "id": "d1ccfc1c-8123-46d9-a9e0-4c1a4dcd9b99",
   "metadata": {
    "editable": true,
    "slideshow": {
     "slide_type": ""
    },
    "tags": []
   },
   "source": [
    "We want to create a map to preview the 10 results. For this, we first need to extract the coordinates from all results. We can use a [list comprehension](https://docs.python.org/3.8/tutorial/datastructures.html#list-comprehensions)."
   ]
  },
  {
   "cell_type": "code",
   "execution_count": 15,
   "id": "2db3a41d-acc3-4711-872c-b29208f05702",
   "metadata": {
    "editable": true,
    "slideshow": {
     "slide_type": ""
    },
    "tags": []
   },
   "outputs": [
    {
     "data": {
      "text/plain": [
       "[(7.952648, 49.053037),\n",
       " (7.952648, 49.053037),\n",
       " (38.15295, 57.89685),\n",
       " (12.524302, 55.814936),\n",
       " (7.683096, 49.472482),\n",
       " (7.683096, 49.472491),\n",
       " (37.576989, 55.573367),\n",
       " (7.952648, 49.053037),\n",
       " (7.952648, 49.053037),\n",
       " (37.564828, 55.743503)]"
      ]
     },
     "execution_count": 15,
     "metadata": {},
     "output_type": "execute_result"
    }
   ],
   "source": [
    "coordinates = [\n",
    "    (obs['decimalLongitude'], obs['decimalLatitude'])\n",
    "    for obs in json_data[\"results\"]]\n",
    "coordinates"
   ]
  },
  {
   "cell_type": "markdown",
   "id": "e964cf4b-a28d-4731-ab58-3f41fd11a9b6",
   "metadata": {
    "editable": true,
    "slideshow": {
     "slide_type": ""
    },
    "tags": []
   },
   "source": [
    "Aftwerwards, we turn coordinates into a [GeoDataFrame](303_mapping). This requires [specifying a projection](304_projections).\n",
    "\n",
    "1. Convert the list of coordinates into shapely Point objects\n",
    "2. Create a GeoDataFrame\n",
    "3. Set a Coordinate Reference System (CRS), we know this is WGS84 (EPSG:4326)"
   ]
  },
  {
   "cell_type": "code",
   "execution_count": 16,
   "id": "ade4c26b-7273-4700-a482-bdd8cc43e3ae",
   "metadata": {
    "editable": true,
    "slideshow": {
     "slide_type": ""
    },
    "tags": []
   },
   "outputs": [
    {
     "data": {
      "text/html": [
       "<div>\n",
       "<style scoped>\n",
       "    .dataframe tbody tr th:only-of-type {\n",
       "        vertical-align: middle;\n",
       "    }\n",
       "\n",
       "    .dataframe tbody tr th {\n",
       "        vertical-align: top;\n",
       "    }\n",
       "\n",
       "    .dataframe thead th {\n",
       "        text-align: right;\n",
       "    }\n",
       "</style>\n",
       "<table border=\"1\" class=\"dataframe\">\n",
       "  <thead>\n",
       "    <tr style=\"text-align: right;\">\n",
       "      <th></th>\n",
       "      <th>geometry</th>\n",
       "    </tr>\n",
       "  </thead>\n",
       "  <tbody>\n",
       "    <tr>\n",
       "      <th>0</th>\n",
       "      <td>POINT (7.95265 49.05304)</td>\n",
       "    </tr>\n",
       "    <tr>\n",
       "      <th>1</th>\n",
       "      <td>POINT (7.95265 49.05304)</td>\n",
       "    </tr>\n",
       "    <tr>\n",
       "      <th>2</th>\n",
       "      <td>POINT (38.15295 57.89685)</td>\n",
       "    </tr>\n",
       "    <tr>\n",
       "      <th>3</th>\n",
       "      <td>POINT (12.52430 55.81494)</td>\n",
       "    </tr>\n",
       "    <tr>\n",
       "      <th>4</th>\n",
       "      <td>POINT (7.68310 49.47248)</td>\n",
       "    </tr>\n",
       "    <tr>\n",
       "      <th>5</th>\n",
       "      <td>POINT (7.68310 49.47249)</td>\n",
       "    </tr>\n",
       "    <tr>\n",
       "      <th>6</th>\n",
       "      <td>POINT (37.57699 55.57337)</td>\n",
       "    </tr>\n",
       "    <tr>\n",
       "      <th>7</th>\n",
       "      <td>POINT (7.95265 49.05304)</td>\n",
       "    </tr>\n",
       "    <tr>\n",
       "      <th>8</th>\n",
       "      <td>POINT (7.95265 49.05304)</td>\n",
       "    </tr>\n",
       "    <tr>\n",
       "      <th>9</th>\n",
       "      <td>POINT (37.56483 55.74350)</td>\n",
       "    </tr>\n",
       "  </tbody>\n",
       "</table>\n",
       "</div>"
      ],
      "text/plain": [
       "                    geometry\n",
       "0   POINT (7.95265 49.05304)\n",
       "1   POINT (7.95265 49.05304)\n",
       "2  POINT (38.15295 57.89685)\n",
       "3  POINT (12.52430 55.81494)\n",
       "4   POINT (7.68310 49.47248)\n",
       "5   POINT (7.68310 49.47249)\n",
       "6  POINT (37.57699 55.57337)\n",
       "7   POINT (7.95265 49.05304)\n",
       "8   POINT (7.95265 49.05304)\n",
       "9  POINT (37.56483 55.74350)"
      ]
     },
     "execution_count": 16,
     "metadata": {},
     "output_type": "execute_result"
    }
   ],
   "source": [
    "geometry = [Point(x, y) for x, y in coordinates]\n",
    "gdf = gp.GeoDataFrame(geometry=geometry)\n",
    "gdf.set_crs(epsg=4326, inplace=True)"
   ]
  },
  {
   "cell_type": "markdown",
   "id": "2a033f6c-5204-4a5d-87f3-2c3f13bd8c13",
   "metadata": {
    "editable": true,
    "slideshow": {
     "slide_type": ""
    },
    "tags": []
   },
   "source": [
    "```{admonition} Multiple observations at the same coordinate\n",
    ":class: dropdown, hint\n",
    "Note that multiple observations are reported from the same coordinates above. This is common and expected with such data, as scientists or volunteers may report several observations from the same location.\n",
    "```"
   ]
  },
  {
   "cell_type": "markdown",
   "id": "44db6aeb-110c-4dd6-adb1-2ed836a69d7f",
   "metadata": {
    "editable": true,
    "slideshow": {
     "slide_type": ""
    },
    "tags": []
   },
   "source": [
    "Now, we like to preview the observations on a map. We use following steps: \n",
    "\n",
    "1. Project to a suitable worldwide coordinate system (Mollweide)\n",
    "2. Project to the Web Mercator Projection, with the [EPSG key `3857`](https://epsg.io/3857). This is the common projection used in online maps like Google Maps or OpenStreetMap, and it works well with tile-based map layers.\n",
    "3. Use the Python package [contextily](https://contextily.readthedocs.io/en/latest/) to produce a static map. This package will help us add background map tiles from CartoDB, which provide map imagery behind the data points we plot."
   ]
  },
  {
   "cell_type": "code",
   "execution_count": 17,
   "id": "05bece0e-fd01-4aa3-be76-bd9719bdab67",
   "metadata": {
    "editable": true,
    "slideshow": {
     "slide_type": ""
    },
    "tags": []
   },
   "outputs": [
    {
     "data": {
      "image/png": "[encoded data removed]",
      "text/plain": [
       "<Figure size 1000x1500 with 1 Axes>"
      ]
     },
     "metadata": {},
     "output_type": "display_data"
    }
   ],
   "source": [
    "CRS_PROJ = \"epsg:3857\"\n",
    "\n",
    "gdf.to_crs(CRS_PROJ, inplace=True)\n",
    "ax = gdf.plot(\n",
    "    figsize=(10, 15),\n",
    "    alpha=0.8,\n",
    "    linewidth=4,\n",
    "    edgecolor=\"white\",\n",
    "    facecolor=\"red\",\n",
    "    markersize=300)\n",
    "cx.add_basemap(\n",
    "    ax, alpha=0.5,\n",
    "    source=cx.providers.CartoDB.Voyager)\n",
    "# turn of axes display\n",
    "ax.set_axis_off()"
   ]
  },
  {
   "cell_type": "markdown",
   "id": "81ae1cce-7e58-4838-8ff2-d8a10c4ba50c",
   "metadata": {
    "editable": true,
    "slideshow": {
     "slide_type": ""
    },
    "tags": []
   },
   "source": [
    "### Preparing the query for observations in the the focus regions (Saxony)"
   ]
  },
  {
   "cell_type": "markdown",
   "id": "3dea6db8-071d-4d9a-82fc-f7444d39aea9",
   "metadata": {
    "editable": true,
    "slideshow": {
     "slide_type": ""
    },
    "tags": []
   },
   "source": [
    "Next, we will refine our test query into a structured method that loops through the GBIF API and saves the results as a CSV for further processing. The GBIF Occurrence API has some limits, which we need to keep in mind:\n",
    "\n",
    "- Each query can return a maximum of `300` results.\n",
    "- The total number of results for unauthenticated queries is `100,000`. For larger datasets, it is recommended to use other access methods, such as the GBIF asynchronous download service.\n",
    "\n",
    "```{admonition} How do we know the API limits?\n",
    ":class: dropdown, tip\n",
    "We found this out by looking at [the GBIF Occurrence API documentation](https://techdocs.gbif.org/en/openapi/v1/occurrence#/Searching%20occurrences).\n",
    "```\n",
    "Furthermore: \n",
    "- We **limit our query to focus region (Saxony)** using a geospatial bounding box.\n",
    "- We **store the results as a CSV**, which it a widely used, accessible and portable data format. Feel free to use other data types, such as [Python DataFrame pickles](https://pandas.pydata.org/docs/reference/api/pandas.DataFrame.to_pickle.html)."
   ]
  },
  {
   "cell_type": "markdown",
   "id": "0c07ec35-547a-4bb0-aff4-7ff4025d2761",
   "metadata": {
    "editable": true,
    "slideshow": {
     "slide_type": ""
    },
    "tags": []
   },
   "source": [
    "Before running the query, we need to **define the spatial parameter** to restrict the results to Saxony. \n",
    "\n",
    "The [GBIF Occurrence API](https://techdocs.gbif.org/en/openapi/v1/occurrence#/Searching%20occurrences/searchOccurrence) provides a `geometry` parameter that accepts a Well-Known Text (WKT) geometry format. Further, we need to create a bounding box with `4` corners for the state of Saxony. \n",
    "To create a bounding box for Saxony, we load a pre-defined method stored in `py/modules/tools.py` for reusability. This method encodes the steps to download and unpack the latest [VG2500 administrative boundaries ](https://gdz.bkg.bund.de/index.php/default/verwaltungsgebiete-1-2-500-000-stand-31-12-vg2500-12-31.html) from the German Federal Agency for Cartography and Geodesy (BKG)."
   ]
  },
  {
   "cell_type": "markdown",
   "id": "5a8b41da-bd15-44b2-b11f-85f1481180b6",
   "metadata": {
    "editable": true,
    "slideshow": {
     "slide_type": ""
    },
    "tags": []
   },
   "source": [
    "Load world countries geometry from the [BKG](https://daten.gdz.bkg.bund.de/produkte/vg/vg2500/aktuell/) and highlight the focus state (Saxony). "
   ]
  },
  {
   "cell_type": "code",
   "execution_count": 18,
   "id": "150dba80-564d-47fa-aa68-3950afe62d19",
   "metadata": {
    "editable": true,
    "slideshow": {
     "slide_type": ""
    },
    "tags": []
   },
   "outputs": [
    {
     "name": "stdout",
     "output_type": "stream",
     "text": [
      "Already exists\n"
     ]
    }
   ],
   "source": [
    "WORK_DIR = Path.cwd().parents[0] / \"tmp\"    # Working directory\n",
    "WORK_DIR.mkdir(exist_ok=True)               # Create if not exists\n",
    "de_shapes = tools.get_shapes(\n",
    "    \"de\", shape_dir=WORK_DIR / \"shapes\")    # Load World geometry\n",
    "de_shapes.to_crs(CRS_PROJ, inplace=True)    # Project to Web Mercator\n",
    "sachsen = de_shapes[                        # select shape for the \n",
    "    de_shapes.index == FOCUS_STATE]         # focus state (Saxony)"
   ]
  },
  {
   "cell_type": "code",
   "execution_count": 19,
   "id": "78c2ff79-fe15-4caa-98f8-e3fca00c6040",
   "metadata": {
    "editable": true,
    "slideshow": {
     "slide_type": ""
    },
    "tags": []
   },
   "outputs": [
    {
     "data": {
      "image/png": "[encoded data removed]",
      "text/plain": [
       "<Figure size 200x400 with 1 Axes>"
      ]
     },
     "metadata": {},
     "output_type": "display_data"
    }
   ],
   "source": [
    "plt_kwags = {\n",
    "    \"color\": 'none',\n",
    "    \"edgecolor\": 'black',\n",
    "    \"linewidth\": 0.2,\n",
    "    \"figsize\": (2, 4),\n",
    "}\n",
    "ax = de_shapes.plot(**plt_kwags)\n",
    "plt_kwags[\"color\"] = \"red\"\n",
    "ax = sachsen.plot(ax=ax, **plt_kwags)\n",
    "ax.set_axis_off()"
   ]
  },
  {
   "cell_type": "markdown",
   "id": "ca015a18-c9c9-4c0c-8dba-d0c2a488a873",
   "metadata": {},
   "source": [
    "Project the shapefile to `epsg:3035` and save it to disk for later use."
   ]
  },
  {
   "cell_type": "code",
   "execution_count": 20,
   "id": "58dcb1ec-1074-4404-a06d-549622bab201",
   "metadata": {},
   "outputs": [],
   "source": [
    "OUTPUT = base_path / \"out\"\n",
    "sachsen_proj = sachsen.to_crs(\"epsg:3035\")\n",
    "sachsen_proj.to_file(OUTPUT / 'saxony.gpkg')"
   ]
  },
  {
   "cell_type": "markdown",
   "id": "4e6afe97-00e5-4128-966e-c6b5cdeff30b",
   "metadata": {
    "editable": true,
    "slideshow": {
     "slide_type": ""
    },
    "tags": []
   },
   "source": [
    "- Get the bounding box from Saxony’s shape:\n",
    "    - First, project it to to WGS 1984 (`epsg:4326`) since the API query requires coordinates in Decimal Degrees.\n",
    "    - Use the [`.bounds` property of the GeoDataFrame](https://geopandas.org/en/stable/docs/reference/api/geopandas.GeoDataFrame.html) to get the bounding box.\n",
    "    - Retrieve individual coordinates using the [`.values` property](https://pandas.pydata.org/docs/reference/api/pandas.DataFrame.values.html). \n",
    "    - Apply the [`.squeeze()` function](https://pandas.pydata.org/docs/reference/api/pandas.DataFrame.squeeze.html#pandas.DataFrame.squeeze) to reduce the array dimensions; in other words, it produces a simple list so we can access the `4` corners of the bounding box more easily.\n",
    "\n",
    "(content:references:glue-example)="
   ]
  },
  {
   "cell_type": "code",
   "execution_count": 21,
   "id": "b6bbc27a-72dc-4a2a-b3d3-44b30d0dc033",
   "metadata": {
    "editable": true,
    "slideshow": {
     "slide_type": ""
    },
    "tags": []
   },
   "outputs": [],
   "source": [
    "bbox_sachsen = sachsen.to_crs(\"epsg:4326\").bounds.values.squeeze()\n",
    "minx, miny = bbox_sachsen[0], bbox_sachsen[1]\n",
    "maxx, maxy = bbox_sachsen[2], bbox_sachsen[3]"
   ]
  },
  {
   "cell_type": "code",
   "execution_count": 22,
   "id": "7f5c3b18-37f5-43c1-be49-44952bc4a9ca",
   "metadata": {
    "editable": true,
    "slideshow": {
     "slide_type": ""
    },
    "tags": [
     "remove-cell"
    ]
   },
   "outputs": [
    {
     "data": {
      "text/markdown": [
       "\n",
       "    [[11.87230817 50.17154199 15.03774334 51.6831409 ]]\n",
       "    "
      ],
      "text/plain": [
       "<IPython.core.display.Markdown object>"
      ]
     },
     "metadata": {
      "scrapbook": {
       "mime_prefix": "",
       "name": "bounds_before"
      }
     },
     "output_type": "display_data"
    },
    {
     "data": {
      "text/markdown": [
       "\n",
       "     [11.87230817 50.17154199 15.03774334 51.6831409 ]\n",
       "    "
      ],
      "text/plain": [
       "<IPython.core.display.Markdown object>"
      ]
     },
     "metadata": {
      "scrapbook": {
       "mime_prefix": "",
       "name": "bounds_after"
      }
     },
     "output_type": "display_data"
    }
   ],
   "source": [
    "from myst_nb import glue\n",
    "bounds_before = sachsen.to_crs(\"epsg:4326\").bounds.values\n",
    "glue(\"bounds_before\", Markdown(\n",
    "    f\"\"\"\n",
    "    {bounds_before}\n",
    "    \"\"\"))\n",
    "bounds_after = bbox_sachsen\n",
    "glue(\"bounds_after\", Markdown(\n",
    "    f\"\"\"\n",
    "     {bounds_after}\n",
    "    \"\"\"))"
   ]
  },
  {
   "cell_type": "markdown",
   "id": "0550d86e-cdcc-4b44-a249-ab8ca01f3e98",
   "metadata": {
    "editable": true,
    "slideshow": {
     "slide_type": ""
    },
    "tags": []
   },
   "source": [
    "````{admonition} Inspect & compare values\n",
    ":class: dropdown, tip\n",
    "It is easy to inspect values in Jupyter to better understand value and format transformations.\n",
    "\n",
    "This is `sachsen.bounds.values`:\n",
    "\n",
    "```{glue:md} bounds_before\n",
    ":format: myst\n",
    "```\n",
    "\n",
    ".. and this is the result after `squeeze()` was applied:\n",
    "\n",
    "```{glue:md} bounds_after\n",
    ":format: myst\n",
    "```\n",
    "\n",
    "````"
   ]
  },
  {
   "cell_type": "markdown",
   "id": "5b738d0f-0090-4f9e-b339-39f906188e3f",
   "metadata": {
    "editable": true,
    "slideshow": {
     "slide_type": ""
    },
    "tags": []
   },
   "source": [
    "Convert the bounding box into a Well-Known Text (WKT) polygon with four corners. According to the GBIF API documentation, the polygon must be ordered in a specific way:\n",
    "\n",
    "> Polygons must have anticlockwise ordering of points. (A clockwise polygon represents the opposite area: the Earth's surface with a 'hole' in it. Such queries are not supported.)"
   ]
  },
  {
   "cell_type": "code",
   "execution_count": 23,
   "id": "277cdd54-a3a1-42e3-835d-cd12a2aafcd0",
   "metadata": {
    "editable": true,
    "slideshow": {
     "slide_type": ""
    },
    "tags": []
   },
   "outputs": [
    {
     "name": "stdout",
     "output_type": "stream",
     "text": [
      "Polygon WKT: POLYGON ((11.8723081681852403 50.1715419912565537, 15.0377433372033398 50.1715419912565537, 15.0377433372033398 51.6831409000992821, 11.8723081681852403 51.6831409000992821, 11.8723081681852403 50.1715419912565537))\n"
     ]
    }
   ],
   "source": [
    "polygon = Polygon([\n",
    "    (minx, miny),  # Bottom-left\n",
    "    (minx, maxy),  # Top-left\n",
    "    (maxx, maxy),  # Top-right\n",
    "    (maxx, miny),  # Bottom-right\n",
    "    (minx, miny)   # Close the polygon\n",
    "])\n",
    "\n",
    "# Convert the polygon to WKT format\n",
    "polygon_ordered = shapely.geometry.polygon.orient(Polygon(polygon), 1.0)\n",
    "polygon_wkt = dumps(polygon_ordered)\n",
    "\n",
    "print(\"Polygon WKT:\", polygon_wkt)"
   ]
  },
  {
   "cell_type": "markdown",
   "id": "63f082de-c347-4128-9980-48a9dd5193e1",
   "metadata": {
    "editable": true,
    "slideshow": {
     "slide_type": ""
    },
    "tags": []
   },
   "source": [
    "````{admonition} Simpler ways to generate Well-Known Text (WKT)\n",
    ":class: dropdown, tip\n",
    "There are simpler ways to create the Well-Known Text (WKT)\n",
    "- [GeoDataFrame.to_wkt()](https://geopandas.org/en/stable/docs/reference/api/geopandas.GeoDataFrame.to_wkt.html).\n",
    "- Look up the bounding box for Saxony using tools like [bboxfinder.com](http://bboxfinder.com/#50.324633,12.101440,51.237875,15.295715).\n",
    "- We could also have used the original shape of Saxony instead of its bounding box. However, complex polygons increase query time, which is why we did not use the original border of Saxony.\n",
    "\n",
    "The motivation for calculating the bounding box within the Jupyter Notebook using BKG data is to fully _parametrize_ data retrieval.  This makes the Jupyter Notebook easily reusable for other regions. To query a different state, simply set `FOCUS_STATE` to the desired state, and all subsequent steps will adjust automatically.\n",
    "````"
   ]
  },
  {
   "cell_type": "markdown",
   "id": "cd52ded1-bd21-411e-adc9-d96ba49ebe29",
   "metadata": {
    "editable": true,
    "slideshow": {
     "slide_type": ""
    },
    "tags": []
   },
   "source": [
    "The final step is to write a method to request data in _chunks_ from the API. We start by defining our parameters in a dictionary, including the  previously calculated bounding box."
   ]
  },
  {
   "cell_type": "code",
   "execution_count": 24,
   "id": "131459d6-e8d7-484c-8299-aa6653db896d",
   "metadata": {
    "editable": true,
    "slideshow": {
     "slide_type": ""
    },
    "tags": []
   },
   "outputs": [],
   "source": [
    "query_url = \"https://api.gbif.org/v1/occurrence/search\"\n",
    "limit = 300\n",
    "params = {\n",
    "    \"taxon_key\": taxon_key,\n",
    "    \"continent\": continent,\n",
    "    \"limit\": limit,\n",
    "    \"geometry\": polygon_wkt,\n",
    "    \"offset\": 0,\n",
    "    }"
   ]
  },
  {
   "cell_type": "code",
   "execution_count": 25,
   "id": "7e31cdf8-06d1-4e6e-a200-4d24deef74e1",
   "metadata": {
    "editable": true,
    "slideshow": {
     "slide_type": ""
    },
    "tags": []
   },
   "outputs": [
    {
     "name": "stdout",
     "output_type": "stream",
     "text": [
      "https://api.gbif.org/v1/occurrence/search?taxon_key=5231190&continent=europe&limit=300&geometry=POLYGON+%28%2811.8723081681852403+50.1715419912565537%2C+15.0377433372033398+50.1715419912565537%2C+15.0377433372033398+51.6831409000992821%2C+11.8723081681852403+51.6831409000992821%2C+11.8723081681852403+50.1715419912565537%29%29&offset=0\n"
     ]
    },
    {
     "data": {
      "text/plain": [
       "200"
      ]
     },
     "execution_count": 25,
     "metadata": {},
     "output_type": "execute_result"
    }
   ],
   "source": [
    "response = requests.get(\n",
    "        url=query_url, params=params)\n",
    "print(response.url)\n",
    "response.status_code"
   ]
  },
  {
   "cell_type": "code",
   "execution_count": 26,
   "id": "26ea8d95-e0a5-4705-a6b1-9e88df50c594",
   "metadata": {
    "editable": true,
    "slideshow": {
     "slide_type": ""
    },
    "tags": [
     "remove-cell"
    ]
   },
   "outputs": [],
   "source": [
    "map_url = 'https://www.gbif.org/occurrence/map'\n",
    "r = requests.Request('GET', map_url, params=params)\n",
    "pr = r.prepare()"
   ]
  },
  {
   "cell_type": "code",
   "execution_count": 27,
   "id": "95250239-4ca0-45a6-b352-981d48039268",
   "metadata": {
    "editable": true,
    "slideshow": {
     "slide_type": ""
    },
    "tags": [
     "remove-input"
    ]
   },
   "outputs": [
    {
     "data": {
      "text/markdown": [
       "Test the above API query in your browser by clicking on it. You can also preview [the query on a map](https://www.gbif.org/occurrence/map?taxon_key=5231190&continent=europe&limit=300&geometry=POLYGON+%28%2811.8723081681852403+50.1715419912565537%2C+15.0377433372033398+50.1715419912565537%2C+15.0377433372033398+51.6831409000992821%2C+11.8723081681852403+51.6831409000992821%2C+11.8723081681852403+50.1715419912565537%29%29&offset=0)."
      ],
      "text/plain": [
       "<IPython.core.display.Markdown object>"
      ]
     },
     "metadata": {},
     "output_type": "display_data"
    }
   ],
   "source": [
    "display(Markdown(f\"Test the above API query in your browser by clicking on it. You can also preview [the query on a map]({pr.url}).\"))"
   ]
  },
  {
   "cell_type": "code",
   "execution_count": 28,
   "id": "e98cf60a-c84d-4cc5-8499-249ffe86651d",
   "metadata": {
    "editable": true,
    "slideshow": {
     "slide_type": ""
    },
    "tags": []
   },
   "outputs": [],
   "source": [
    "def query_gbif_occurrences(query_url, params):\n",
    "    \"\"\"Perform an API call and attach results to dataframe\n",
    "    \n",
    "    Steps:\n",
    "    1. Request occurrences\n",
    "    2. Raise an error for bad responses\n",
    "    3. Parse the JSON response\n",
    "    4. Convert API response to a DataFrame\n",
    "    5. Show progress\n",
    "    \"\"\"\n",
    "    response = requests.get(\n",
    "        url=query_url, params=params)               # 1.\n",
    "    response.raise_for_status()                     # 2.\n",
    "    data = response.json()                          # 3.\n",
    "    df = pd.DataFrame.from_dict(data['results'])    # 4.\n",
    "    clear_output(wait=True)                         # 5.\n",
    "    display(HTML(\n",
    "            f\"Queried {params.get('offset')} occurrences, \"\n",
    "            f\"<a href='{response.url}'>last query-url</a>.\"))\n",
    "    return df, data['endOfRecords']"
   ]
  },
  {
   "cell_type": "markdown",
   "id": "9417c8b7-12b7-454a-afd6-b73b78a8658c",
   "metadata": {
    "editable": true,
    "slideshow": {
     "slide_type": ""
    },
    "tags": []
   },
   "source": [
    "Start the query. Since the API has an upper limit of 100,000 occurrences, we use this as a basis for defining the loop in our query below."
   ]
  },
  {
   "cell_type": "code",
   "execution_count": 29,
   "id": "5e70c346-d2e5-4d19-92a8-f76619c4d3dc",
   "metadata": {
    "editable": true,
    "slideshow": {
     "slide_type": ""
    },
    "tags": []
   },
   "outputs": [
    {
     "name": "stdout",
     "output_type": "stream",
     "text": [
      "CPU times: user 249 ms, sys: 88.1 ms, total: 337 ms\n",
      "Wall time: 336 ms\n"
     ]
    }
   ],
   "source": [
    "%%time\n",
    "from IPython.display import clear_output, HTML\n",
    "\n",
    "df = pd.DataFrame()\n",
    "status = 200\n",
    "\n",
    "base_path = Path.cwd().parents[0] # one level up from notebooks/ folder\n",
    "OUTPUT = base_path / \"out\"\n",
    "cache_file = OUTPUT / \"occurrences_query.csv\"\n",
    "\n",
    "for ix in range(int(100000/limit)):\n",
    "    if cache_file.exists():\n",
    "        # do not query again if already queried;\n",
    "        # load cache instead; \n",
    "        # infer data types by loading all data at once (low_memory=False)\n",
    "        df = pd.read_csv(cache_file, low_memory=False)\n",
    "        break\n",
    "    params[\"offset\"] = ix*limit\n",
    "    new_df, end_of_records = query_gbif_occurrences(\n",
    "        query_url, params)\n",
    "    df = pd.concat(\n",
    "        [df, new_df], axis = 0, ignore_index = True, sort = True)\n",
    "    if end_of_records:\n",
    "        # exit when all available occurrences have been retrieved\n",
    "        break"
   ]
  },
  {
   "cell_type": "markdown",
   "id": "c1436835-23fe-415a-96a5-1d2a853c6a1c",
   "metadata": {
    "editable": true,
    "slideshow": {
     "slide_type": ""
    },
    "tags": []
   },
   "source": [
    ":::{tip} Cache results as CSV file. \n",
    "This is generally a good idea. This helps both to conserve limited API resources and to develop code faster (since you won't need to repeatedly query results over and over again).\n",
    ":::"
   ]
  },
  {
   "cell_type": "markdown",
   "id": "76541702-0509-4b45-9c02-bc34b5e27779",
   "metadata": {},
   "source": [
    "Before storing, we rename columns to `lat` (Latitude) and `lng` (Longitude)."
   ]
  },
  {
   "cell_type": "code",
   "execution_count": 30,
   "id": "38a4f42a-916a-4860-b623-2c467c53cbdd",
   "metadata": {},
   "outputs": [],
   "source": [
    "df.rename(\n",
    "    columns={\"decimalLatitude\": \"lat\", \"decimalLongitude\": \"lng\"},\n",
    "    inplace=True)"
   ]
  },
  {
   "cell_type": "code",
   "execution_count": 31,
   "id": "56816b32-4cde-4477-afcc-92c4c141c6dc",
   "metadata": {
    "editable": true,
    "slideshow": {
     "slide_type": ""
    },
    "tags": []
   },
   "outputs": [],
   "source": [
    "if not cache_file.exists():\n",
    "    df.to_csv(cache_file)"
   ]
  },
  {
   "cell_type": "code",
   "execution_count": 32,
   "id": "26ffcde3-3855-4d67-bfc6-7ef1eeec4ba7",
   "metadata": {
    "editable": true,
    "slideshow": {
     "slide_type": ""
    },
    "tags": []
   },
   "outputs": [
    {
     "data": {
      "text/html": [
       "<div>\n",
       "<style scoped>\n",
       "    .dataframe tbody tr th:only-of-type {\n",
       "        vertical-align: middle;\n",
       "    }\n",
       "\n",
       "    .dataframe tbody tr th {\n",
       "        vertical-align: top;\n",
       "    }\n",
       "\n",
       "    .dataframe thead th {\n",
       "        text-align: right;\n",
       "    }\n",
       "</style>\n",
       "<table border=\"1\" class=\"dataframe\">\n",
       "  <thead>\n",
       "    <tr style=\"text-align: right;\">\n",
       "      <th></th>\n",
       "      <th>Unnamed: 0.1</th>\n",
       "      <th>Unnamed: 0</th>\n",
       "      <th>acceptedScientificName</th>\n",
       "      <th>acceptedTaxonKey</th>\n",
       "      <th>basisOfRecord</th>\n",
       "      <th>behavior</th>\n",
       "      <th>catalogNumber</th>\n",
       "      <th>class</th>\n",
       "      <th>classKey</th>\n",
       "      <th>collectionCode</th>\n",
       "      <th>...</th>\n",
       "      <th>taxonRank</th>\n",
       "      <th>taxonomicStatus</th>\n",
       "      <th>type</th>\n",
       "      <th>verbatimCoordinateSystem</th>\n",
       "      <th>verbatimElevation</th>\n",
       "      <th>verbatimEventDate</th>\n",
       "      <th>verbatimIdentification</th>\n",
       "      <th>verbatimLocality</th>\n",
       "      <th>vernacularName</th>\n",
       "      <th>year</th>\n",
       "    </tr>\n",
       "  </thead>\n",
       "  <tbody>\n",
       "    <tr>\n",
       "      <th>0</th>\n",
       "      <td>0</td>\n",
       "      <td>0</td>\n",
       "      <td>Passer domesticus (Linnaeus, 1758)</td>\n",
       "      <td>5231190</td>\n",
       "      <td>HUMAN_OBSERVATION</td>\n",
       "      <td>NaN</td>\n",
       "      <td>256995752</td>\n",
       "      <td>Aves</td>\n",
       "      <td>212</td>\n",
       "      <td>Observations</td>\n",
       "      <td>...</td>\n",
       "      <td>SPECIES</td>\n",
       "      <td>ACCEPTED</td>\n",
       "      <td>NaN</td>\n",
       "      <td>NaN</td>\n",
       "      <td>NaN</td>\n",
       "      <td>2025/01/01 09:48</td>\n",
       "      <td>NaN</td>\n",
       "      <td>01 Dresden-Plauen, Deutschland</td>\n",
       "      <td>NaN</td>\n",
       "      <td>2025.0</td>\n",
       "    </tr>\n",
       "    <tr>\n",
       "      <th>1</th>\n",
       "      <td>1</td>\n",
       "      <td>1</td>\n",
       "      <td>Passer domesticus (Linnaeus, 1758)</td>\n",
       "      <td>5231190</td>\n",
       "      <td>HUMAN_OBSERVATION</td>\n",
       "      <td>NaN</td>\n",
       "      <td>256995753</td>\n",
       "      <td>Aves</td>\n",
       "      <td>212</td>\n",
       "      <td>Observations</td>\n",
       "      <td>...</td>\n",
       "      <td>SPECIES</td>\n",
       "      <td>ACCEPTED</td>\n",
       "      <td>NaN</td>\n",
       "      <td>NaN</td>\n",
       "      <td>NaN</td>\n",
       "      <td>2025/01/01 09:48</td>\n",
       "      <td>NaN</td>\n",
       "      <td>01 Dresden-Plauen, Deutschland</td>\n",
       "      <td>NaN</td>\n",
       "      <td>2025.0</td>\n",
       "    </tr>\n",
       "    <tr>\n",
       "      <th>2</th>\n",
       "      <td>2</td>\n",
       "      <td>2</td>\n",
       "      <td>Passer domesticus (Linnaeus, 1758)</td>\n",
       "      <td>5231190</td>\n",
       "      <td>HUMAN_OBSERVATION</td>\n",
       "      <td>NaN</td>\n",
       "      <td>257355151</td>\n",
       "      <td>Aves</td>\n",
       "      <td>212</td>\n",
       "      <td>Observations</td>\n",
       "      <td>...</td>\n",
       "      <td>SPECIES</td>\n",
       "      <td>ACCEPTED</td>\n",
       "      <td>NaN</td>\n",
       "      <td>NaN</td>\n",
       "      <td>NaN</td>\n",
       "      <td>2025/01/04 3:12 PM</td>\n",
       "      <td>NaN</td>\n",
       "      <td>06237 Leuna-Kötschlitz, Germany</td>\n",
       "      <td>NaN</td>\n",
       "      <td>2025.0</td>\n",
       "    </tr>\n",
       "    <tr>\n",
       "      <th>3</th>\n",
       "      <td>3</td>\n",
       "      <td>3</td>\n",
       "      <td>Passer domesticus (Linnaeus, 1758)</td>\n",
       "      <td>5231190</td>\n",
       "      <td>HUMAN_OBSERVATION</td>\n",
       "      <td>NaN</td>\n",
       "      <td>257355153</td>\n",
       "      <td>Aves</td>\n",
       "      <td>212</td>\n",
       "      <td>Observations</td>\n",
       "      <td>...</td>\n",
       "      <td>SPECIES</td>\n",
       "      <td>ACCEPTED</td>\n",
       "      <td>NaN</td>\n",
       "      <td>NaN</td>\n",
       "      <td>NaN</td>\n",
       "      <td>2025/01/04 3:07 PM</td>\n",
       "      <td>NaN</td>\n",
       "      <td>06237 Leuna-Kötschlitz, Germany</td>\n",
       "      <td>NaN</td>\n",
       "      <td>2025.0</td>\n",
       "    </tr>\n",
       "    <tr>\n",
       "      <th>4</th>\n",
       "      <td>4</td>\n",
       "      <td>4</td>\n",
       "      <td>Passer domesticus (Linnaeus, 1758)</td>\n",
       "      <td>5231190</td>\n",
       "      <td>HUMAN_OBSERVATION</td>\n",
       "      <td>NaN</td>\n",
       "      <td>257355156</td>\n",
       "      <td>Aves</td>\n",
       "      <td>212</td>\n",
       "      <td>Observations</td>\n",
       "      <td>...</td>\n",
       "      <td>SPECIES</td>\n",
       "      <td>ACCEPTED</td>\n",
       "      <td>NaN</td>\n",
       "      <td>NaN</td>\n",
       "      <td>NaN</td>\n",
       "      <td>2025/01/04 2:57 PM</td>\n",
       "      <td>NaN</td>\n",
       "      <td>06237 Leuna-Kötschlitz, Germany</td>\n",
       "      <td>NaN</td>\n",
       "      <td>2025.0</td>\n",
       "    </tr>\n",
       "  </tbody>\n",
       "</table>\n",
       "<p>5 rows × 142 columns</p>\n",
       "</div>"
      ],
      "text/plain": [
       "   Unnamed: 0.1  Unnamed: 0              acceptedScientificName  \\\n",
       "0             0           0  Passer domesticus (Linnaeus, 1758)   \n",
       "1             1           1  Passer domesticus (Linnaeus, 1758)   \n",
       "2             2           2  Passer domesticus (Linnaeus, 1758)   \n",
       "3             3           3  Passer domesticus (Linnaeus, 1758)   \n",
       "4             4           4  Passer domesticus (Linnaeus, 1758)   \n",
       "\n",
       "   acceptedTaxonKey      basisOfRecord behavior catalogNumber class  classKey  \\\n",
       "0           5231190  HUMAN_OBSERVATION      NaN     256995752  Aves       212   \n",
       "1           5231190  HUMAN_OBSERVATION      NaN     256995753  Aves       212   \n",
       "2           5231190  HUMAN_OBSERVATION      NaN     257355151  Aves       212   \n",
       "3           5231190  HUMAN_OBSERVATION      NaN     257355153  Aves       212   \n",
       "4           5231190  HUMAN_OBSERVATION      NaN     257355156  Aves       212   \n",
       "\n",
       "  collectionCode  ... taxonRank taxonomicStatus type  \\\n",
       "0   Observations  ...   SPECIES        ACCEPTED  NaN   \n",
       "1   Observations  ...   SPECIES        ACCEPTED  NaN   \n",
       "2   Observations  ...   SPECIES        ACCEPTED  NaN   \n",
       "3   Observations  ...   SPECIES        ACCEPTED  NaN   \n",
       "4   Observations  ...   SPECIES        ACCEPTED  NaN   \n",
       "\n",
       "   verbatimCoordinateSystem verbatimElevation   verbatimEventDate  \\\n",
       "0                       NaN               NaN    2025/01/01 09:48   \n",
       "1                       NaN               NaN    2025/01/01 09:48   \n",
       "2                       NaN               NaN  2025/01/04 3:12 PM   \n",
       "3                       NaN               NaN  2025/01/04 3:07 PM   \n",
       "4                       NaN               NaN  2025/01/04 2:57 PM   \n",
       "\n",
       "  verbatimIdentification                 verbatimLocality vernacularName  \\\n",
       "0                    NaN   01 Dresden-Plauen, Deutschland            NaN   \n",
       "1                    NaN   01 Dresden-Plauen, Deutschland            NaN   \n",
       "2                    NaN  06237 Leuna-Kötschlitz, Germany            NaN   \n",
       "3                    NaN  06237 Leuna-Kötschlitz, Germany            NaN   \n",
       "4                    NaN  06237 Leuna-Kötschlitz, Germany            NaN   \n",
       "\n",
       "     year  \n",
       "0  2025.0  \n",
       "1  2025.0  \n",
       "2  2025.0  \n",
       "3  2025.0  \n",
       "4  2025.0  \n",
       "\n",
       "[5 rows x 142 columns]"
      ]
     },
     "execution_count": 32,
     "metadata": {},
     "output_type": "execute_result"
    }
   ],
   "source": [
    "df.head()"
   ]
  },
  {
   "cell_type": "markdown",
   "id": "f9268263-cde7-44f9-b88a-f7405f44681a",
   "metadata": {
    "editable": true,
    "slideshow": {
     "slide_type": ""
    },
    "tags": []
   },
   "source": [
    "Drop all except `lat` and `lng`, to create a preview map."
   ]
  },
  {
   "cell_type": "code",
   "execution_count": 33,
   "id": "6c178352-3088-4c27-b2af-a911a12b16fb",
   "metadata": {
    "editable": true,
    "slideshow": {
     "slide_type": ""
    },
    "tags": []
   },
   "outputs": [],
   "source": [
    "df = df.filter(items=['lat', 'lng'])"
   ]
  },
  {
   "cell_type": "code",
   "execution_count": 34,
   "id": "cef9c35f-e545-4cfa-ad2e-ca55bd7cee96",
   "metadata": {
    "editable": true,
    "slideshow": {
     "slide_type": ""
    },
    "tags": []
   },
   "outputs": [],
   "source": [
    "gdf = gp.GeoDataFrame(\n",
    "    df, geometry=gp.points_from_xy(df.lng, df.lat))"
   ]
  },
  {
   "cell_type": "markdown",
   "id": "8203baa0-1d91-4c2a-a6fe-6aaa2577af0c",
   "metadata": {
    "editable": true,
    "slideshow": {
     "slide_type": ""
    },
    "tags": []
   },
   "source": [
    "Show all occurrences on one map. We use [Geoviews](https://github.com/holoviz/geoviews), which allows us to combine multiple spatial data sources as individual layers on a map. We also add `EsriImagery`, a public satellite tile layer, as background imagery."
   ]
  },
  {
   "cell_type": "code",
   "execution_count": 35,
   "id": "85db7f46-aa94-4366-bc46-93c7e62d8ba2",
   "metadata": {
    "editable": true,
    "slideshow": {
     "slide_type": ""
    },
    "tags": []
   },
   "outputs": [
    {
     "data": {
      "text/html": [
       "<script type=\"esms-options\">{\"shimMode\": true}</script><style>*[data-root-id],\n",
       "*[data-root-id] > * {\n",
       "  box-sizing: border-box;\n",
       "  font-family: var(--jp-ui-font-family);\n",
       "  font-size: var(--jp-ui-font-size1);\n",
       "  color: var(--vscode-editor-foreground, var(--jp-ui-font-color1));\n",
       "}\n",
       "\n",
       "/* Override VSCode background color */\n",
       ".cell-output-ipywidget-background:has(\n",
       "    > .cell-output-ipywidget-background > .lm-Widget > *[data-root-id]\n",
       "  ),\n",
       ".cell-output-ipywidget-background:has(> .lm-Widget > *[data-root-id]) {\n",
       "  background-color: transparent !important;\n",
       "}\n",
       "</style>"
      ]
     },
     "metadata": {},
     "output_type": "display_data"
    },
    {
     "data": {
      "application/javascript": [
       "(function(root) {\n",
       "  function now() {\n",
       "    return new Date();\n",
       "  }\n",
       "\n",
       "  const force = true;\n",
       "  const py_version = '3.6.3'.replace('rc', '-rc.').replace('.dev', '-dev.');\n",
       "  const reloading = false;\n",
       "  const Bokeh = root.Bokeh;\n",
       "\n",
       "  // Set a timeout for this load but only if we are not already initializing\n",
       "  if (typeof (root._bokeh_timeout) === \"undefined\" || (force || !root._bokeh_is_initializing)) {\n",
       "    root._bokeh_timeout = Date.now() + 5000;\n",
       "    root._bokeh_failed_load = false;\n",
       "  }\n",
       "\n",
       "  function run_callbacks() {\n",
       "    try {\n",
       "      root._bokeh_onload_callbacks.forEach(function(callback) {\n",
       "        if (callback != null)\n",
       "          callback();\n",
       "      });\n",
       "    } finally {\n",
       "      delete root._bokeh_onload_callbacks;\n",
       "    }\n",
       "    console.debug(\"Bokeh: all callbacks have finished\");\n",
       "  }\n",
       "\n",
       "  function load_libs(css_urls, js_urls, js_modules, js_exports, callback) {\n",
       "    if (css_urls == null) css_urls = [];\n",
       "    if (js_urls == null) js_urls = [];\n",
       "    if (js_modules == null) js_modules = [];\n",
       "    if (js_exports == null) js_exports = {};\n",
       "\n",
       "    root._bokeh_onload_callbacks.push(callback);\n",
       "\n",
       "    if (root._bokeh_is_loading > 0) {\n",
       "      // Don't load bokeh if it is still initializing\n",
       "      console.debug(\"Bokeh: BokehJS is being loaded, scheduling callback at\", now());\n",
       "      return null;\n",
       "    } else if (js_urls.length === 0 && js_modules.length === 0 && Object.keys(js_exports).length === 0) {\n",
       "      // There is nothing to load\n",
       "      run_callbacks();\n",
       "      return null;\n",
       "    }\n",
       "\n",
       "    function on_load() {\n",
       "      root._bokeh_is_loading--;\n",
       "      if (root._bokeh_is_loading === 0) {\n",
       "        console.debug(\"Bokeh: all BokehJS libraries/stylesheets loaded\");\n",
       "        run_callbacks()\n",
       "      }\n",
       "    }\n",
       "    window._bokeh_on_load = on_load\n",
       "\n",
       "    function on_error(e) {\n",
       "      const src_el = e.srcElement\n",
       "      console.error(\"failed to load \" + (src_el.href || src_el.src));\n",
       "    }\n",
       "\n",
       "    const skip = [];\n",
       "    if (window.requirejs) {\n",
       "      window.requirejs.config({'packages': {}, 'paths': {}, 'shim': {}});\n",
       "      root._bokeh_is_loading = css_urls.length + 0;\n",
       "    } else {\n",
       "      root._bokeh_is_loading = css_urls.length + js_urls.length + js_modules.length + Object.keys(js_exports).length;\n",
       "    }\n",
       "\n",
       "    const existing_stylesheets = []\n",
       "    const links = document.getElementsByTagName('link')\n",
       "    for (let i = 0; i < links.length; i++) {\n",
       "      const link = links[i]\n",
       "      if (link.href != null) {\n",
       "        existing_stylesheets.push(link.href)\n",
       "      }\n",
       "    }\n",
       "    for (let i = 0; i < css_urls.length; i++) {\n",
       "      const url = css_urls[i];\n",
       "      const escaped = encodeURI(url)\n",
       "      if (existing_stylesheets.indexOf(escaped) !== -1) {\n",
       "        on_load()\n",
       "        continue;\n",
       "      }\n",
       "      const element = document.createElement(\"link\");\n",
       "      element.onload = on_load;\n",
       "      element.onerror = on_error;\n",
       "      element.rel = \"stylesheet\";\n",
       "      element.type = \"text/css\";\n",
       "      element.href = url;\n",
       "      console.debug(\"Bokeh: injecting link tag for BokehJS stylesheet: \", url);\n",
       "      document.body.appendChild(element);\n",
       "    }    var existing_scripts = []\n",
       "    const scripts = document.getElementsByTagName('script')\n",
       "    for (let i = 0; i < scripts.length; i++) {\n",
       "      var script = scripts[i]\n",
       "      if (script.src != null) {\n",
       "        existing_scripts.push(script.src)\n",
       "      }\n",
       "    }\n",
       "    for (let i = 0; i < js_urls.length; i++) {\n",
       "      const url = js_urls[i];\n",
       "      const escaped = encodeURI(url)\n",
       "      if (skip.indexOf(escaped) !== -1 || existing_scripts.indexOf(escaped) !== -1) {\n",
       "        if (!window.requirejs) {\n",
       "          on_load();\n",
       "        }\n",
       "        continue;\n",
       "      }\n",
       "      const element = document.createElement('script');\n",
       "      element.onload = on_load;\n",
       "      element.onerror = on_error;\n",
       "      element.async = false;\n",
       "      element.src = url;\n",
       "      console.debug(\"Bokeh: injecting script tag for BokehJS library: \", url);\n",
       "      document.head.appendChild(element);\n",
       "    }\n",
       "    for (let i = 0; i < js_modules.length; i++) {\n",
       "      const url = js_modules[i];\n",
       "      const escaped = encodeURI(url)\n",
       "      if (skip.indexOf(escaped) !== -1 || existing_scripts.indexOf(escaped) !== -1) {\n",
       "        if (!window.requirejs) {\n",
       "          on_load();\n",
       "        }\n",
       "        continue;\n",
       "      }\n",
       "      var element = document.createElement('script');\n",
       "      element.onload = on_load;\n",
       "      element.onerror = on_error;\n",
       "      element.async = false;\n",
       "      element.src = url;\n",
       "      element.type = \"module\";\n",
       "      console.debug(\"Bokeh: injecting script tag for BokehJS library: \", url);\n",
       "      document.head.appendChild(element);\n",
       "    }\n",
       "    for (const name in js_exports) {\n",
       "      const url = js_exports[name];\n",
       "      const escaped = encodeURI(url)\n",
       "      if (skip.indexOf(escaped) >= 0 || root[name] != null) {\n",
       "        if (!window.requirejs) {\n",
       "          on_load();\n",
       "        }\n",
       "        continue;\n",
       "      }\n",
       "      var element = document.createElement('script');\n",
       "      element.onerror = on_error;\n",
       "      element.async = false;\n",
       "      element.type = \"module\";\n",
       "      console.debug(\"Bokeh: injecting script tag for BokehJS library: \", url);\n",
       "      element.textContent = `\n",
       "      import ${name} from \"${url}\"\n",
       "      window.${name} = ${name}\n",
       "      window._bokeh_on_load()\n",
       "      `\n",
       "      document.head.appendChild(element);\n",
       "    }\n",
       "    if (!js_urls.length && !js_modules.length) {\n",
       "      on_load()\n",
       "    }\n",
       "  };\n",
       "\n",
       "  function inject_raw_css(css) {\n",
       "    const element = document.createElement(\"style\");\n",
       "    element.appendChild(document.createTextNode(css));\n",
       "    document.body.appendChild(element);\n",
       "  }\n",
       "\n",
       "  const js_urls = [\"https://cdn.holoviz.org/panel/1.6.1/dist/bundled/reactiveesm/es-module-shims@^1.10.0/dist/es-module-shims.min.js\", \"https://cdn.bokeh.org/bokeh/release/bokeh-3.6.3.min.js\", \"https://cdn.bokeh.org/bokeh/release/bokeh-gl-3.6.3.min.js\", \"https://cdn.bokeh.org/bokeh/release/bokeh-widgets-3.6.3.min.js\", \"https://cdn.bokeh.org/bokeh/release/bokeh-tables-3.6.3.min.js\", \"https://cdn.holoviz.org/panel/1.6.1/dist/panel.min.js\", \"https://cdn.jsdelivr.net/npm/@holoviz/geoviews@1.14.0/dist/geoviews.min.js\"];\n",
       "  const js_modules = [];\n",
       "  const js_exports = {};\n",
       "  const css_urls = [];\n",
       "  const inline_js = [    function(Bokeh) {\n",
       "      Bokeh.set_log_level(\"info\");\n",
       "    },\n",
       "function(Bokeh) {} // ensure no trailing comma for IE\n",
       "  ];\n",
       "\n",
       "  function run_inline_js() {\n",
       "    if ((root.Bokeh !== undefined) || (force === true)) {\n",
       "      for (let i = 0; i < inline_js.length; i++) {\n",
       "        try {\n",
       "          inline_js[i].call(root, root.Bokeh);\n",
       "        } catch(e) {\n",
       "          if (!reloading) {\n",
       "            throw e;\n",
       "          }\n",
       "        }\n",
       "      }\n",
       "      // Cache old bokeh versions\n",
       "      if (Bokeh != undefined && !reloading) {\n",
       "        var NewBokeh = root.Bokeh;\n",
       "        if (Bokeh.versions === undefined) {\n",
       "          Bokeh.versions = new Map();\n",
       "        }\n",
       "        if (NewBokeh.version !== Bokeh.version) {\n",
       "          Bokeh.versions.set(NewBokeh.version, NewBokeh)\n",
       "        }\n",
       "        root.Bokeh = Bokeh;\n",
       "      }\n",
       "    } else if (Date.now() < root._bokeh_timeout) {\n",
       "      setTimeout(run_inline_js, 100);\n",
       "    } else if (!root._bokeh_failed_load) {\n",
       "      console.log(\"Bokeh: BokehJS failed to load within specified timeout.\");\n",
       "      root._bokeh_failed_load = true;\n",
       "    }\n",
       "    root._bokeh_is_initializing = false\n",
       "  }\n",
       "\n",
       "  function load_or_wait() {\n",
       "    // Implement a backoff loop that tries to ensure we do not load multiple\n",
       "    // versions of Bokeh and its dependencies at the same time.\n",
       "    // In recent versions we use the root._bokeh_is_initializing flag\n",
       "    // to determine whether there is an ongoing attempt to initialize\n",
       "    // bokeh, however for backward compatibility we also try to ensure\n",
       "    // that we do not start loading a newer (Panel>=1.0 and Bokeh>3) version\n",
       "    // before older versions are fully initialized.\n",
       "    if (root._bokeh_is_initializing && Date.now() > root._bokeh_timeout) {\n",
       "      // If the timeout and bokeh was not successfully loaded we reset\n",
       "      // everything and try loading again\n",
       "      root._bokeh_timeout = Date.now() + 5000;\n",
       "      root._bokeh_is_initializing = false;\n",
       "      root._bokeh_onload_callbacks = undefined;\n",
       "      root._bokeh_is_loading = 0\n",
       "      console.log(\"Bokeh: BokehJS was loaded multiple times but one version failed to initialize.\");\n",
       "      load_or_wait();\n",
       "    } else if (root._bokeh_is_initializing || (typeof root._bokeh_is_initializing === \"undefined\" && root._bokeh_onload_callbacks !== undefined)) {\n",
       "      setTimeout(load_or_wait, 100);\n",
       "    } else {\n",
       "      root._bokeh_is_initializing = true\n",
       "      root._bokeh_onload_callbacks = []\n",
       "      const bokeh_loaded = root.Bokeh != null && (root.Bokeh.version === py_version || (root.Bokeh.versions !== undefined && root.Bokeh.versions.has(py_version)));\n",
       "      if (!reloading && !bokeh_loaded) {\n",
       "        if (root.Bokeh) {\n",
       "          root.Bokeh = undefined;\n",
       "        }\n",
       "        console.debug(\"Bokeh: BokehJS not loaded, scheduling load and callback at\", now());\n",
       "      }\n",
       "      load_libs(css_urls, js_urls, js_modules, js_exports, function() {\n",
       "        console.debug(\"Bokeh: BokehJS plotting callback run at\", now());\n",
       "        run_inline_js();\n",
       "      });\n",
       "    }\n",
       "  }\n",
       "  // Give older versions of the autoload script a head-start to ensure\n",
       "  // they initialize before we start loading newer version.\n",
       "  setTimeout(load_or_wait, 100)\n",
       "}(window));"
      ],
      "application/vnd.holoviews_load.v0+json": "(function(root) {\n  function now() {\n    return new Date();\n  }\n\n  const force = true;\n  const py_version = '3.6.3'.replace('rc', '-rc.').replace('.dev', '-dev.');\n  const reloading = false;\n  const Bokeh = root.Bokeh;\n\n  // Set a timeout for this load but only if we are not already initializing\n  if (typeof (root._bokeh_timeout) === \"undefined\" || (force || !root._bokeh_is_initializing)) {\n    root._bokeh_timeout = Date.now() + 5000;\n    root._bokeh_failed_load = false;\n  }\n\n  function run_callbacks() {\n    try {\n      root._bokeh_onload_callbacks.forEach(function(callback) {\n        if (callback != null)\n          callback();\n      });\n    } finally {\n      delete root._bokeh_onload_callbacks;\n    }\n    console.debug(\"Bokeh: all callbacks have finished\");\n  }\n\n  function load_libs(css_urls, js_urls, js_modules, js_exports, callback) {\n    if (css_urls == null) css_urls = [];\n    if (js_urls == null) js_urls = [];\n    if (js_modules == null) js_modules = [];\n    if (js_exports == null) js_exports = {};\n\n    root._bokeh_onload_callbacks.push(callback);\n\n    if (root._bokeh_is_loading > 0) {\n      // Don't load bokeh if it is still initializing\n      console.debug(\"Bokeh: BokehJS is being loaded, scheduling callback at\", now());\n      return null;\n    } else if (js_urls.length === 0 && js_modules.length === 0 && Object.keys(js_exports).length === 0) {\n      // There is nothing to load\n      run_callbacks();\n      return null;\n    }\n\n    function on_load() {\n      root._bokeh_is_loading--;\n      if (root._bokeh_is_loading === 0) {\n        console.debug(\"Bokeh: all BokehJS libraries/stylesheets loaded\");\n        run_callbacks()\n      }\n    }\n    window._bokeh_on_load = on_load\n\n    function on_error(e) {\n      const src_el = e.srcElement\n      console.error(\"failed to load \" + (src_el.href || src_el.src));\n    }\n\n    const skip = [];\n    if (window.requirejs) {\n      window.requirejs.config({'packages': {}, 'paths': {}, 'shim': {}});\n      root._bokeh_is_loading = css_urls.length + 0;\n    } else {\n      root._bokeh_is_loading = css_urls.length + js_urls.length + js_modules.length + Object.keys(js_exports).length;\n    }\n\n    const existing_stylesheets = []\n    const links = document.getElementsByTagName('link')\n    for (let i = 0; i < links.length; i++) {\n      const link = links[i]\n      if (link.href != null) {\n        existing_stylesheets.push(link.href)\n      }\n    }\n    for (let i = 0; i < css_urls.length; i++) {\n      const url = css_urls[i];\n      const escaped = encodeURI(url)\n      if (existing_stylesheets.indexOf(escaped) !== -1) {\n        on_load()\n        continue;\n      }\n      const element = document.createElement(\"link\");\n      element.onload = on_load;\n      element.onerror = on_error;\n      element.rel = \"stylesheet\";\n      element.type = \"text/css\";\n      element.href = url;\n      console.debug(\"Bokeh: injecting link tag for BokehJS stylesheet: \", url);\n      document.body.appendChild(element);\n    }    var existing_scripts = []\n    const scripts = document.getElementsByTagName('script')\n    for (let i = 0; i < scripts.length; i++) {\n      var script = scripts[i]\n      if (script.src != null) {\n        existing_scripts.push(script.src)\n      }\n    }\n    for (let i = 0; i < js_urls.length; i++) {\n      const url = js_urls[i];\n      const escaped = encodeURI(url)\n      if (skip.indexOf(escaped) !== -1 || existing_scripts.indexOf(escaped) !== -1) {\n        if (!window.requirejs) {\n          on_load();\n        }\n        continue;\n      }\n      const element = document.createElement('script');\n      element.onload = on_load;\n      element.onerror = on_error;\n      element.async = false;\n      element.src = url;\n      console.debug(\"Bokeh: injecting script tag for BokehJS library: \", url);\n      document.head.appendChild(element);\n    }\n    for (let i = 0; i < js_modules.length; i++) {\n      const url = js_modules[i];\n      const escaped = encodeURI(url)\n      if (skip.indexOf(escaped) !== -1 || existing_scripts.indexOf(escaped) !== -1) {\n        if (!window.requirejs) {\n          on_load();\n        }\n        continue;\n      }\n      var element = document.createElement('script');\n      element.onload = on_load;\n      element.onerror = on_error;\n      element.async = false;\n      element.src = url;\n      element.type = \"module\";\n      console.debug(\"Bokeh: injecting script tag for BokehJS library: \", url);\n      document.head.appendChild(element);\n    }\n    for (const name in js_exports) {\n      const url = js_exports[name];\n      const escaped = encodeURI(url)\n      if (skip.indexOf(escaped) >= 0 || root[name] != null) {\n        if (!window.requirejs) {\n          on_load();\n        }\n        continue;\n      }\n      var element = document.createElement('script');\n      element.onerror = on_error;\n      element.async = false;\n      element.type = \"module\";\n      console.debug(\"Bokeh: injecting script tag for BokehJS library: \", url);\n      element.textContent = `\n      import ${name} from \"${url}\"\n      window.${name} = ${name}\n      window._bokeh_on_load()\n      `\n      document.head.appendChild(element);\n    }\n    if (!js_urls.length && !js_modules.length) {\n      on_load()\n    }\n  };\n\n  function inject_raw_css(css) {\n    const element = document.createElement(\"style\");\n    element.appendChild(document.createTextNode(css));\n    document.body.appendChild(element);\n  }\n\n  const js_urls = [\"https://cdn.holoviz.org/panel/1.6.1/dist/bundled/reactiveesm/es-module-shims@^1.10.0/dist/es-module-shims.min.js\", \"https://cdn.bokeh.org/bokeh/release/bokeh-3.6.3.min.js\", \"https://cdn.bokeh.org/bokeh/release/bokeh-gl-3.6.3.min.js\", \"https://cdn.bokeh.org/bokeh/release/bokeh-widgets-3.6.3.min.js\", \"https://cdn.bokeh.org/bokeh/release/bokeh-tables-3.6.3.min.js\", \"https://cdn.holoviz.org/panel/1.6.1/dist/panel.min.js\", \"https://cdn.jsdelivr.net/npm/@holoviz/geoviews@1.14.0/dist/geoviews.min.js\"];\n  const js_modules = [];\n  const js_exports = {};\n  const css_urls = [];\n  const inline_js = [    function(Bokeh) {\n      Bokeh.set_log_level(\"info\");\n    },\nfunction(Bokeh) {} // ensure no trailing comma for IE\n  ];\n\n  function run_inline_js() {\n    if ((root.Bokeh !== undefined) || (force === true)) {\n      for (let i = 0; i < inline_js.length; i++) {\n        try {\n          inline_js[i].call(root, root.Bokeh);\n        } catch(e) {\n          if (!reloading) {\n            throw e;\n          }\n        }\n      }\n      // Cache old bokeh versions\n      if (Bokeh != undefined && !reloading) {\n        var NewBokeh = root.Bokeh;\n        if (Bokeh.versions === undefined) {\n          Bokeh.versions = new Map();\n        }\n        if (NewBokeh.version !== Bokeh.version) {\n          Bokeh.versions.set(NewBokeh.version, NewBokeh)\n        }\n        root.Bokeh = Bokeh;\n      }\n    } else if (Date.now() < root._bokeh_timeout) {\n      setTimeout(run_inline_js, 100);\n    } else if (!root._bokeh_failed_load) {\n      console.log(\"Bokeh: BokehJS failed to load within specified timeout.\");\n      root._bokeh_failed_load = true;\n    }\n    root._bokeh_is_initializing = false\n  }\n\n  function load_or_wait() {\n    // Implement a backoff loop that tries to ensure we do not load multiple\n    // versions of Bokeh and its dependencies at the same time.\n    // In recent versions we use the root._bokeh_is_initializing flag\n    // to determine whether there is an ongoing attempt to initialize\n    // bokeh, however for backward compatibility we also try to ensure\n    // that we do not start loading a newer (Panel>=1.0 and Bokeh>3) version\n    // before older versions are fully initialized.\n    if (root._bokeh_is_initializing && Date.now() > root._bokeh_timeout) {\n      // If the timeout and bokeh was not successfully loaded we reset\n      // everything and try loading again\n      root._bokeh_timeout = Date.now() + 5000;\n      root._bokeh_is_initializing = false;\n      root._bokeh_onload_callbacks = undefined;\n      root._bokeh_is_loading = 0\n      console.log(\"Bokeh: BokehJS was loaded multiple times but one version failed to initialize.\");\n      load_or_wait();\n    } else if (root._bokeh_is_initializing || (typeof root._bokeh_is_initializing === \"undefined\" && root._bokeh_onload_callbacks !== undefined)) {\n      setTimeout(load_or_wait, 100);\n    } else {\n      root._bokeh_is_initializing = true\n      root._bokeh_onload_callbacks = []\n      const bokeh_loaded = root.Bokeh != null && (root.Bokeh.version === py_version || (root.Bokeh.versions !== undefined && root.Bokeh.versions.has(py_version)));\n      if (!reloading && !bokeh_loaded) {\n        if (root.Bokeh) {\n          root.Bokeh = undefined;\n        }\n        console.debug(\"Bokeh: BokehJS not loaded, scheduling load and callback at\", now());\n      }\n      load_libs(css_urls, js_urls, js_modules, js_exports, function() {\n        console.debug(\"Bokeh: BokehJS plotting callback run at\", now());\n        run_inline_js();\n      });\n    }\n  }\n  // Give older versions of the autoload script a head-start to ensure\n  // they initialize before we start loading newer version.\n  setTimeout(load_or_wait, 100)\n}(window));"
     },
     "metadata": {},
     "output_type": "display_data"
    },
    {
     "data": {
      "application/javascript": [
       "\n",
       "if ((window.PyViz === undefined) || (window.PyViz instanceof HTMLElement)) {\n",
       "  window.PyViz = {comms: {}, comm_status:{}, kernels:{}, receivers: {}, plot_index: []}\n",
       "}\n",
       "\n",
       "\n",
       "    function JupyterCommManager() {\n",
       "    }\n",
       "\n",
       "    JupyterCommManager.prototype.register_target = function(plot_id, comm_id, msg_handler) {\n",
       "      if (window.comm_manager || ((window.Jupyter !== undefined) && (Jupyter.notebook.kernel != null))) {\n",
       "        var comm_manager = window.comm_manager || Jupyter.notebook.kernel.comm_manager;\n",
       "        comm_manager.register_target(comm_id, function(comm) {\n",
       "          comm.on_msg(msg_handler);\n",
       "        });\n",
       "      } else if ((plot_id in window.PyViz.kernels) && (window.PyViz.kernels[plot_id])) {\n",
       "        window.PyViz.kernels[plot_id].registerCommTarget(comm_id, function(comm) {\n",
       "          comm.onMsg = msg_handler;\n",
       "        });\n",
       "      } else if (typeof google != 'undefined' && google.colab.kernel != null) {\n",
       "        google.colab.kernel.comms.registerTarget(comm_id, (comm) => {\n",
       "          var messages = comm.messages[Symbol.asyncIterator]();\n",
       "          function processIteratorResult(result) {\n",
       "            var message = result.value;\n",
       "            console.log(message)\n",
       "            var content = {data: message.data, comm_id};\n",
       "            var buffers = []\n",
       "            for (var buffer of message.buffers || []) {\n",
       "              buffers.push(new DataView(buffer))\n",
       "            }\n",
       "            var metadata = message.metadata || {};\n",
       "            var msg = {content, buffers, metadata}\n",
       "            msg_handler(msg);\n",
       "            return messages.next().then(processIteratorResult);\n",
       "          }\n",
       "          return messages.next().then(processIteratorResult);\n",
       "        })\n",
       "      }\n",
       "    }\n",
       "\n",
       "    JupyterCommManager.prototype.get_client_comm = function(plot_id, comm_id, msg_handler) {\n",
       "      if (comm_id in window.PyViz.comms) {\n",
       "        return window.PyViz.comms[comm_id];\n",
       "      } else if (window.comm_manager || ((window.Jupyter !== undefined) && (Jupyter.notebook.kernel != null))) {\n",
       "        var comm_manager = window.comm_manager || Jupyter.notebook.kernel.comm_manager;\n",
       "        var comm = comm_manager.new_comm(comm_id, {}, {}, {}, comm_id);\n",
       "        if (msg_handler) {\n",
       "          comm.on_msg(msg_handler);\n",
       "        }\n",
       "      } else if ((plot_id in window.PyViz.kernels) && (window.PyViz.kernels[plot_id])) {\n",
       "        var comm = window.PyViz.kernels[plot_id].connectToComm(comm_id);\n",
       "        comm.open();\n",
       "        if (msg_handler) {\n",
       "          comm.onMsg = msg_handler;\n",
       "        }\n",
       "      } else if (typeof google != 'undefined' && google.colab.kernel != null) {\n",
       "        var comm_promise = google.colab.kernel.comms.open(comm_id)\n",
       "        comm_promise.then((comm) => {\n",
       "          window.PyViz.comms[comm_id] = comm;\n",
       "          if (msg_handler) {\n",
       "            var messages = comm.messages[Symbol.asyncIterator]();\n",
       "            function processIteratorResult(result) {\n",
       "              var message = result.value;\n",
       "              var content = {data: message.data};\n",
       "              var metadata = message.metadata || {comm_id};\n",
       "              var msg = {content, metadata}\n",
       "              msg_handler(msg);\n",
       "              return messages.next().then(processIteratorResult);\n",
       "            }\n",
       "            return messages.next().then(processIteratorResult);\n",
       "          }\n",
       "        })\n",
       "        var sendClosure = (data, metadata, buffers, disposeOnDone) => {\n",
       "          return comm_promise.then((comm) => {\n",
       "            comm.send(data, metadata, buffers, disposeOnDone);\n",
       "          });\n",
       "        };\n",
       "        var comm = {\n",
       "          send: sendClosure\n",
       "        };\n",
       "      }\n",
       "      window.PyViz.comms[comm_id] = comm;\n",
       "      return comm;\n",
       "    }\n",
       "    window.PyViz.comm_manager = new JupyterCommManager();\n",
       "    \n",
       "\n",
       "\n",
       "var JS_MIME_TYPE = 'application/javascript';\n",
       "var HTML_MIME_TYPE = 'text/html';\n",
       "var EXEC_MIME_TYPE = 'application/vnd.holoviews_exec.v0+json';\n",
       "var CLASS_NAME = 'output';\n",
       "\n",
       "/**\n",
       " * Render data to the DOM node\n",
       " */\n",
       "function render(props, node) {\n",
       "  var div = document.createElement(\"div\");\n",
       "  var script = document.createElement(\"script\");\n",
       "  node.appendChild(div);\n",
       "  node.appendChild(script);\n",
       "}\n",
       "\n",
       "/**\n",
       " * Handle when a new output is added\n",
       " */\n",
       "function handle_add_output(event, handle) {\n",
       "  var output_area = handle.output_area;\n",
       "  var output = handle.output;\n",
       "  if ((output.data == undefined) || (!output.data.hasOwnProperty(EXEC_MIME_TYPE))) {\n",
       "    return\n",
       "  }\n",
       "  var id = output.metadata[EXEC_MIME_TYPE][\"id\"];\n",
       "  var toinsert = output_area.element.find(\".\" + CLASS_NAME.split(' ')[0]);\n",
       "  if (id !== undefined) {\n",
       "    var nchildren = toinsert.length;\n",
       "    var html_node = toinsert[nchildren-1].children[0];\n",
       "    html_node.innerHTML = output.data[HTML_MIME_TYPE];\n",
       "    var scripts = [];\n",
       "    var nodelist = html_node.querySelectorAll(\"script\");\n",
       "    for (var i in nodelist) {\n",
       "      if (nodelist.hasOwnProperty(i)) {\n",
       "        scripts.push(nodelist[i])\n",
       "      }\n",
       "    }\n",
       "\n",
       "    scripts.forEach( function (oldScript) {\n",
       "      var newScript = document.createElement(\"script\");\n",
       "      var attrs = [];\n",
       "      var nodemap = oldScript.attributes;\n",
       "      for (var j in nodemap) {\n",
       "        if (nodemap.hasOwnProperty(j)) {\n",
       "          attrs.push(nodemap[j])\n",
       "        }\n",
       "      }\n",
       "      attrs.forEach(function(attr) { newScript.setAttribute(attr.name, attr.value) });\n",
       "      newScript.appendChild(document.createTextNode(oldScript.innerHTML));\n",
       "      oldScript.parentNode.replaceChild(newScript, oldScript);\n",
       "    });\n",
       "    if (JS_MIME_TYPE in output.data) {\n",
       "      toinsert[nchildren-1].children[1].textContent = output.data[JS_MIME_TYPE];\n",
       "    }\n",
       "    output_area._hv_plot_id = id;\n",
       "    if ((window.Bokeh !== undefined) && (id in Bokeh.index)) {\n",
       "      window.PyViz.plot_index[id] = Bokeh.index[id];\n",
       "    } else {\n",
       "      window.PyViz.plot_index[id] = null;\n",
       "    }\n",
       "  } else if (output.metadata[EXEC_MIME_TYPE][\"server_id\"] !== undefined) {\n",
       "    var bk_div = document.createElement(\"div\");\n",
       "    bk_div.innerHTML = output.data[HTML_MIME_TYPE];\n",
       "    var script_attrs = bk_div.children[0].attributes;\n",
       "    for (var i = 0; i < script_attrs.length; i++) {\n",
       "      toinsert[toinsert.length - 1].childNodes[1].setAttribute(script_attrs[i].name, script_attrs[i].value);\n",
       "    }\n",
       "    // store reference to server id on output_area\n",
       "    output_area._bokeh_server_id = output.metadata[EXEC_MIME_TYPE][\"server_id\"];\n",
       "  }\n",
       "}\n",
       "\n",
       "/**\n",
       " * Handle when an output is cleared or removed\n",
       " */\n",
       "function handle_clear_output(event, handle) {\n",
       "  var id = handle.cell.output_area._hv_plot_id;\n",
       "  var server_id = handle.cell.output_area._bokeh_server_id;\n",
       "  if (((id === undefined) || !(id in PyViz.plot_index)) && (server_id !== undefined)) { return; }\n",
       "  var comm = window.PyViz.comm_manager.get_client_comm(\"hv-extension-comm\", \"hv-extension-comm\", function () {});\n",
       "  if (server_id !== null) {\n",
       "    comm.send({event_type: 'server_delete', 'id': server_id});\n",
       "    return;\n",
       "  } else if (comm !== null) {\n",
       "    comm.send({event_type: 'delete', 'id': id});\n",
       "  }\n",
       "  delete PyViz.plot_index[id];\n",
       "  if ((window.Bokeh !== undefined) & (id in window.Bokeh.index)) {\n",
       "    var doc = window.Bokeh.index[id].model.document\n",
       "    doc.clear();\n",
       "    const i = window.Bokeh.documents.indexOf(doc);\n",
       "    if (i > -1) {\n",
       "      window.Bokeh.documents.splice(i, 1);\n",
       "    }\n",
       "  }\n",
       "}\n",
       "\n",
       "/**\n",
       " * Handle kernel restart event\n",
       " */\n",
       "function handle_kernel_cleanup(event, handle) {\n",
       "  delete PyViz.comms[\"hv-extension-comm\"];\n",
       "  window.PyViz.plot_index = {}\n",
       "}\n",
       "\n",
       "/**\n",
       " * Handle update_display_data messages\n",
       " */\n",
       "function handle_update_output(event, handle) {\n",
       "  handle_clear_output(event, {cell: {output_area: handle.output_area}})\n",
       "  handle_add_output(event, handle)\n",
       "}\n",
       "\n",
       "function register_renderer(events, OutputArea) {\n",
       "  function append_mime(data, metadata, element) {\n",
       "    // create a DOM node to render to\n",
       "    var toinsert = this.create_output_subarea(\n",
       "    metadata,\n",
       "    CLASS_NAME,\n",
       "    EXEC_MIME_TYPE\n",
       "    );\n",
       "    this.keyboard_manager.register_events(toinsert);\n",
       "    // Render to node\n",
       "    var props = {data: data, metadata: metadata[EXEC_MIME_TYPE]};\n",
       "    render(props, toinsert[0]);\n",
       "    element.append(toinsert);\n",
       "    return toinsert\n",
       "  }\n",
       "\n",
       "  events.on('output_added.OutputArea', handle_add_output);\n",
       "  events.on('output_updated.OutputArea', handle_update_output);\n",
       "  events.on('clear_output.CodeCell', handle_clear_output);\n",
       "  events.on('delete.Cell', handle_clear_output);\n",
       "  events.on('kernel_ready.Kernel', handle_kernel_cleanup);\n",
       "\n",
       "  OutputArea.prototype.register_mime_type(EXEC_MIME_TYPE, append_mime, {\n",
       "    safe: true,\n",
       "    index: 0\n",
       "  });\n",
       "}\n",
       "\n",
       "if (window.Jupyter !== undefined) {\n",
       "  try {\n",
       "    var events = require('base/js/events');\n",
       "    var OutputArea = require('notebook/js/outputarea').OutputArea;\n",
       "    if (OutputArea.prototype.mime_types().indexOf(EXEC_MIME_TYPE) == -1) {\n",
       "      register_renderer(events, OutputArea);\n",
       "    }\n",
       "  } catch(err) {\n",
       "  }\n",
       "}\n"
      ],
      "application/vnd.holoviews_load.v0+json": "\nif ((window.PyViz === undefined) || (window.PyViz instanceof HTMLElement)) {\n  window.PyViz = {comms: {}, comm_status:{}, kernels:{}, receivers: {}, plot_index: []}\n}\n\n\n    function JupyterCommManager() {\n    }\n\n    JupyterCommManager.prototype.register_target = function(plot_id, comm_id, msg_handler) {\n      if (window.comm_manager || ((window.Jupyter !== undefined) && (Jupyter.notebook.kernel != null))) {\n        var comm_manager = window.comm_manager || Jupyter.notebook.kernel.comm_manager;\n        comm_manager.register_target(comm_id, function(comm) {\n          comm.on_msg(msg_handler);\n        });\n      } else if ((plot_id in window.PyViz.kernels) && (window.PyViz.kernels[plot_id])) {\n        window.PyViz.kernels[plot_id].registerCommTarget(comm_id, function(comm) {\n          comm.onMsg = msg_handler;\n        });\n      } else if (typeof google != 'undefined' && google.colab.kernel != null) {\n        google.colab.kernel.comms.registerTarget(comm_id, (comm) => {\n          var messages = comm.messages[Symbol.asyncIterator]();\n          function processIteratorResult(result) {\n            var message = result.value;\n            console.log(message)\n            var content = {data: message.data, comm_id};\n            var buffers = []\n            for (var buffer of message.buffers || []) {\n              buffers.push(new DataView(buffer))\n            }\n            var metadata = message.metadata || {};\n            var msg = {content, buffers, metadata}\n            msg_handler(msg);\n            return messages.next().then(processIteratorResult);\n          }\n          return messages.next().then(processIteratorResult);\n        })\n      }\n    }\n\n    JupyterCommManager.prototype.get_client_comm = function(plot_id, comm_id, msg_handler) {\n      if (comm_id in window.PyViz.comms) {\n        return window.PyViz.comms[comm_id];\n      } else if (window.comm_manager || ((window.Jupyter !== undefined) && (Jupyter.notebook.kernel != null))) {\n        var comm_manager = window.comm_manager || Jupyter.notebook.kernel.comm_manager;\n        var comm = comm_manager.new_comm(comm_id, {}, {}, {}, comm_id);\n        if (msg_handler) {\n          comm.on_msg(msg_handler);\n        }\n      } else if ((plot_id in window.PyViz.kernels) && (window.PyViz.kernels[plot_id])) {\n        var comm = window.PyViz.kernels[plot_id].connectToComm(comm_id);\n        comm.open();\n        if (msg_handler) {\n          comm.onMsg = msg_handler;\n        }\n      } else if (typeof google != 'undefined' && google.colab.kernel != null) {\n        var comm_promise = google.colab.kernel.comms.open(comm_id)\n        comm_promise.then((comm) => {\n          window.PyViz.comms[comm_id] = comm;\n          if (msg_handler) {\n            var messages = comm.messages[Symbol.asyncIterator]();\n            function processIteratorResult(result) {\n              var message = result.value;\n              var content = {data: message.data};\n              var metadata = message.metadata || {comm_id};\n              var msg = {content, metadata}\n              msg_handler(msg);\n              return messages.next().then(processIteratorResult);\n            }\n            return messages.next().then(processIteratorResult);\n          }\n        })\n        var sendClosure = (data, metadata, buffers, disposeOnDone) => {\n          return comm_promise.then((comm) => {\n            comm.send(data, metadata, buffers, disposeOnDone);\n          });\n        };\n        var comm = {\n          send: sendClosure\n        };\n      }\n      window.PyViz.comms[comm_id] = comm;\n      return comm;\n    }\n    window.PyViz.comm_manager = new JupyterCommManager();\n    \n\n\nvar JS_MIME_TYPE = 'application/javascript';\nvar HTML_MIME_TYPE = 'text/html';\nvar EXEC_MIME_TYPE = 'application/vnd.holoviews_exec.v0+json';\nvar CLASS_NAME = 'output';\n\n/**\n * Render data to the DOM node\n */\nfunction render(props, node) {\n  var div = document.createElement(\"div\");\n  var script = document.createElement(\"script\");\n  node.appendChild(div);\n  node.appendChild(script);\n}\n\n/**\n * Handle when a new output is added\n */\nfunction handle_add_output(event, handle) {\n  var output_area = handle.output_area;\n  var output = handle.output;\n  if ((output.data == undefined) || (!output.data.hasOwnProperty(EXEC_MIME_TYPE))) {\n    return\n  }\n  var id = output.metadata[EXEC_MIME_TYPE][\"id\"];\n  var toinsert = output_area.element.find(\".\" + CLASS_NAME.split(' ')[0]);\n  if (id !== undefined) {\n    var nchildren = toinsert.length;\n    var html_node = toinsert[nchildren-1].children[0];\n    html_node.innerHTML = output.data[HTML_MIME_TYPE];\n    var scripts = [];\n    var nodelist = html_node.querySelectorAll(\"script\");\n    for (var i in nodelist) {\n      if (nodelist.hasOwnProperty(i)) {\n        scripts.push(nodelist[i])\n      }\n    }\n\n    scripts.forEach( function (oldScript) {\n      var newScript = document.createElement(\"script\");\n      var attrs = [];\n      var nodemap = oldScript.attributes;\n      for (var j in nodemap) {\n        if (nodemap.hasOwnProperty(j)) {\n          attrs.push(nodemap[j])\n        }\n      }\n      attrs.forEach(function(attr) { newScript.setAttribute(attr.name, attr.value) });\n      newScript.appendChild(document.createTextNode(oldScript.innerHTML));\n      oldScript.parentNode.replaceChild(newScript, oldScript);\n    });\n    if (JS_MIME_TYPE in output.data) {\n      toinsert[nchildren-1].children[1].textContent = output.data[JS_MIME_TYPE];\n    }\n    output_area._hv_plot_id = id;\n    if ((window.Bokeh !== undefined) && (id in Bokeh.index)) {\n      window.PyViz.plot_index[id] = Bokeh.index[id];\n    } else {\n      window.PyViz.plot_index[id] = null;\n    }\n  } else if (output.metadata[EXEC_MIME_TYPE][\"server_id\"] !== undefined) {\n    var bk_div = document.createElement(\"div\");\n    bk_div.innerHTML = output.data[HTML_MIME_TYPE];\n    var script_attrs = bk_div.children[0].attributes;\n    for (var i = 0; i < script_attrs.length; i++) {\n      toinsert[toinsert.length - 1].childNodes[1].setAttribute(script_attrs[i].name, script_attrs[i].value);\n    }\n    // store reference to server id on output_area\n    output_area._bokeh_server_id = output.metadata[EXEC_MIME_TYPE][\"server_id\"];\n  }\n}\n\n/**\n * Handle when an output is cleared or removed\n */\nfunction handle_clear_output(event, handle) {\n  var id = handle.cell.output_area._hv_plot_id;\n  var server_id = handle.cell.output_area._bokeh_server_id;\n  if (((id === undefined) || !(id in PyViz.plot_index)) && (server_id !== undefined)) { return; }\n  var comm = window.PyViz.comm_manager.get_client_comm(\"hv-extension-comm\", \"hv-extension-comm\", function () {});\n  if (server_id !== null) {\n    comm.send({event_type: 'server_delete', 'id': server_id});\n    return;\n  } else if (comm !== null) {\n    comm.send({event_type: 'delete', 'id': id});\n  }\n  delete PyViz.plot_index[id];\n  if ((window.Bokeh !== undefined) & (id in window.Bokeh.index)) {\n    var doc = window.Bokeh.index[id].model.document\n    doc.clear();\n    const i = window.Bokeh.documents.indexOf(doc);\n    if (i > -1) {\n      window.Bokeh.documents.splice(i, 1);\n    }\n  }\n}\n\n/**\n * Handle kernel restart event\n */\nfunction handle_kernel_cleanup(event, handle) {\n  delete PyViz.comms[\"hv-extension-comm\"];\n  window.PyViz.plot_index = {}\n}\n\n/**\n * Handle update_display_data messages\n */\nfunction handle_update_output(event, handle) {\n  handle_clear_output(event, {cell: {output_area: handle.output_area}})\n  handle_add_output(event, handle)\n}\n\nfunction register_renderer(events, OutputArea) {\n  function append_mime(data, metadata, element) {\n    // create a DOM node to render to\n    var toinsert = this.create_output_subarea(\n    metadata,\n    CLASS_NAME,\n    EXEC_MIME_TYPE\n    );\n    this.keyboard_manager.register_events(toinsert);\n    // Render to node\n    var props = {data: data, metadata: metadata[EXEC_MIME_TYPE]};\n    render(props, toinsert[0]);\n    element.append(toinsert);\n    return toinsert\n  }\n\n  events.on('output_added.OutputArea', handle_add_output);\n  events.on('output_updated.OutputArea', handle_update_output);\n  events.on('clear_output.CodeCell', handle_clear_output);\n  events.on('delete.Cell', handle_clear_output);\n  events.on('kernel_ready.Kernel', handle_kernel_cleanup);\n\n  OutputArea.prototype.register_mime_type(EXEC_MIME_TYPE, append_mime, {\n    safe: true,\n    index: 0\n  });\n}\n\nif (window.Jupyter !== undefined) {\n  try {\n    var events = require('base/js/events');\n    var OutputArea = require('notebook/js/outputarea').OutputArea;\n    if (OutputArea.prototype.mime_types().indexOf(EXEC_MIME_TYPE) == -1) {\n      register_renderer(events, OutputArea);\n    }\n  } catch(err) {\n  }\n}\n"
     },
     "metadata": {},
     "output_type": "display_data"
    },
    {
     "data": {
      "application/vnd.holoviews_exec.v0+json": "",
      "text/html": [
       "<div id='9c42598d-e591-45fe-bba8-16deacd4275f'>\n",
       "  <div id=\"b5b3a1ff-90a2-454f-941b-aa41a5c483fd\" data-root-id=\"9c42598d-e591-45fe-bba8-16deacd4275f\" style=\"display: contents;\"></div>\n",
       "</div>\n",
       "<script type=\"application/javascript\">(function(root) {\n",
       "  var docs_json = {\"a608efd1-dcaa-4b3a-bea3-40cea78ff018\":{\"version\":\"3.6.3\",\"title\":\"Bokeh Application\",\"roots\":[{\"type\":\"object\",\"name\":\"panel.models.browser.BrowserInfo\",\"id\":\"9c42598d-e591-45fe-bba8-16deacd4275f\"},{\"type\":\"object\",\"name\":\"panel.models.comm_manager.CommManager\",\"id\":\"5839d82c-6a52-4be9-b0bc-c5e1fb35e280\",\"attributes\":{\"plot_id\":\"9c42598d-e591-45fe-bba8-16deacd4275f\",\"comm_id\":\"439e78179dfd4c5ead9e5dae916fa961\",\"client_comm_id\":\"d15f7d4f3cb249048537dd57757ed1d1\"}}],\"defs\":[{\"type\":\"model\",\"name\":\"ReactiveHTML1\"},{\"type\":\"model\",\"name\":\"FlexBox1\",\"properties\":[{\"name\":\"align_content\",\"kind\":\"Any\",\"default\":\"flex-start\"},{\"name\":\"align_items\",\"kind\":\"Any\",\"default\":\"flex-start\"},{\"name\":\"flex_direction\",\"kind\":\"Any\",\"default\":\"row\"},{\"name\":\"flex_wrap\",\"kind\":\"Any\",\"default\":\"wrap\"},{\"name\":\"gap\",\"kind\":\"Any\",\"default\":\"\"},{\"name\":\"justify_content\",\"kind\":\"Any\",\"default\":\"flex-start\"}]},{\"type\":\"model\",\"name\":\"FloatPanel1\",\"properties\":[{\"name\":\"config\",\"kind\":\"Any\",\"default\":{\"type\":\"map\"}},{\"name\":\"contained\",\"kind\":\"Any\",\"default\":true},{\"name\":\"position\",\"kind\":\"Any\",\"default\":\"right-top\"},{\"name\":\"offsetx\",\"kind\":\"Any\",\"default\":null},{\"name\":\"offsety\",\"kind\":\"Any\",\"default\":null},{\"name\":\"theme\",\"kind\":\"Any\",\"default\":\"primary\"},{\"name\":\"status\",\"kind\":\"Any\",\"default\":\"normalized\"}]},{\"type\":\"model\",\"name\":\"GridStack1\",\"properties\":[{\"name\":\"mode\",\"kind\":\"Any\",\"default\":\"warn\"},{\"name\":\"ncols\",\"kind\":\"Any\",\"default\":null},{\"name\":\"nrows\",\"kind\":\"Any\",\"default\":null},{\"name\":\"allow_resize\",\"kind\":\"Any\",\"default\":true},{\"name\":\"allow_drag\",\"kind\":\"Any\",\"default\":true},{\"name\":\"state\",\"kind\":\"Any\",\"default\":[]}]},{\"type\":\"model\",\"name\":\"drag1\",\"properties\":[{\"name\":\"slider_width\",\"kind\":\"Any\",\"default\":5},{\"name\":\"slider_color\",\"kind\":\"Any\",\"default\":\"black\"},{\"name\":\"value\",\"kind\":\"Any\",\"default\":50}]},{\"type\":\"model\",\"name\":\"click1\",\"properties\":[{\"name\":\"terminal_output\",\"kind\":\"Any\",\"default\":\"\"},{\"name\":\"debug_name\",\"kind\":\"Any\",\"default\":\"\"},{\"name\":\"clears\",\"kind\":\"Any\",\"default\":0}]},{\"type\":\"model\",\"name\":\"FastWrapper1\",\"properties\":[{\"name\":\"object\",\"kind\":\"Any\",\"default\":null},{\"name\":\"style\",\"kind\":\"Any\",\"default\":null}]},{\"type\":\"model\",\"name\":\"NotificationAreaBase1\",\"properties\":[{\"name\":\"js_events\",\"kind\":\"Any\",\"default\":{\"type\":\"map\"}},{\"name\":\"position\",\"kind\":\"Any\",\"default\":\"bottom-right\"},{\"name\":\"_clear\",\"kind\":\"Any\",\"default\":0}]},{\"type\":\"model\",\"name\":\"NotificationArea1\",\"properties\":[{\"name\":\"js_events\",\"kind\":\"Any\",\"default\":{\"type\":\"map\"}},{\"name\":\"notifications\",\"kind\":\"Any\",\"default\":[]},{\"name\":\"position\",\"kind\":\"Any\",\"default\":\"bottom-right\"},{\"name\":\"_clear\",\"kind\":\"Any\",\"default\":0},{\"name\":\"types\",\"kind\":\"Any\",\"default\":[{\"type\":\"map\",\"entries\":[[\"type\",\"warning\"],[\"background\",\"#ffc107\"],[\"icon\",{\"type\":\"map\",\"entries\":[[\"className\",\"fas fa-exclamation-triangle\"],[\"tagName\",\"i\"],[\"color\",\"white\"]]}]]},{\"type\":\"map\",\"entries\":[[\"type\",\"info\"],[\"background\",\"#007bff\"],[\"icon\",{\"type\":\"map\",\"entries\":[[\"className\",\"fas fa-info-circle\"],[\"tagName\",\"i\"],[\"color\",\"white\"]]}]]}]}]},{\"type\":\"model\",\"name\":\"Notification\",\"properties\":[{\"name\":\"background\",\"kind\":\"Any\",\"default\":null},{\"name\":\"duration\",\"kind\":\"Any\",\"default\":3000},{\"name\":\"icon\",\"kind\":\"Any\",\"default\":null},{\"name\":\"message\",\"kind\":\"Any\",\"default\":\"\"},{\"name\":\"notification_type\",\"kind\":\"Any\",\"default\":null},{\"name\":\"_rendered\",\"kind\":\"Any\",\"default\":false},{\"name\":\"_destroyed\",\"kind\":\"Any\",\"default\":false}]},{\"type\":\"model\",\"name\":\"TemplateActions1\",\"properties\":[{\"name\":\"open_modal\",\"kind\":\"Any\",\"default\":0},{\"name\":\"close_modal\",\"kind\":\"Any\",\"default\":0}]},{\"type\":\"model\",\"name\":\"BootstrapTemplateActions1\",\"properties\":[{\"name\":\"open_modal\",\"kind\":\"Any\",\"default\":0},{\"name\":\"close_modal\",\"kind\":\"Any\",\"default\":0}]},{\"type\":\"model\",\"name\":\"TemplateEditor1\",\"properties\":[{\"name\":\"layout\",\"kind\":\"Any\",\"default\":[]}]},{\"type\":\"model\",\"name\":\"MaterialTemplateActions1\",\"properties\":[{\"name\":\"open_modal\",\"kind\":\"Any\",\"default\":0},{\"name\":\"close_modal\",\"kind\":\"Any\",\"default\":0}]},{\"type\":\"model\",\"name\":\"ReactiveESM1\",\"properties\":[{\"name\":\"esm_constants\",\"kind\":\"Any\",\"default\":{\"type\":\"map\"}}]},{\"type\":\"model\",\"name\":\"JSComponent1\",\"properties\":[{\"name\":\"esm_constants\",\"kind\":\"Any\",\"default\":{\"type\":\"map\"}}]},{\"type\":\"model\",\"name\":\"ReactComponent1\",\"properties\":[{\"name\":\"esm_constants\",\"kind\":\"Any\",\"default\":{\"type\":\"map\"}}]},{\"type\":\"model\",\"name\":\"AnyWidgetComponent1\",\"properties\":[{\"name\":\"esm_constants\",\"kind\":\"Any\",\"default\":{\"type\":\"map\"}}]},{\"type\":\"model\",\"name\":\"request_value1\",\"properties\":[{\"name\":\"fill\",\"kind\":\"Any\",\"default\":\"none\"},{\"name\":\"_synced\",\"kind\":\"Any\",\"default\":null},{\"name\":\"_request_sync\",\"kind\":\"Any\",\"default\":0}]}]}};\n",
       "  var render_items = [{\"docid\":\"a608efd1-dcaa-4b3a-bea3-40cea78ff018\",\"roots\":{\"9c42598d-e591-45fe-bba8-16deacd4275f\":\"b5b3a1ff-90a2-454f-941b-aa41a5c483fd\"},\"root_ids\":[\"9c42598d-e591-45fe-bba8-16deacd4275f\"]}];\n",
       "  var docs = Object.values(docs_json)\n",
       "  if (!docs) {\n",
       "    return\n",
       "  }\n",
       "  const py_version = docs[0].version.replace('rc', '-rc.').replace('.dev', '-dev.')\n",
       "  async function embed_document(root) {\n",
       "    var Bokeh = get_bokeh(root)\n",
       "    await Bokeh.embed.embed_items_notebook(docs_json, render_items);\n",
       "    for (const render_item of render_items) {\n",
       "      for (const root_id of render_item.root_ids) {\n",
       "\tconst id_el = document.getElementById(root_id)\n",
       "\tif (id_el.children.length && id_el.children[0].hasAttribute('data-root-id')) {\n",
       "\t  const root_el = id_el.children[0]\n",
       "\t  root_el.id = root_el.id + '-rendered'\n",
       "\t  for (const child of root_el.children) {\n",
       "            // Ensure JupyterLab does not capture keyboard shortcuts\n",
       "            // see: https://jupyterlab.readthedocs.io/en/4.1.x/extension/notebook.html#keyboard-interaction-model\n",
       "\t    child.setAttribute('data-lm-suppress-shortcuts', 'true')\n",
       "\t  }\n",
       "\t}\n",
       "      }\n",
       "    }\n",
       "  }\n",
       "  function get_bokeh(root) {\n",
       "    if (root.Bokeh === undefined) {\n",
       "      return null\n",
       "    } else if (root.Bokeh.version !== py_version) {\n",
       "      if (root.Bokeh.versions === undefined || !root.Bokeh.versions.has(py_version)) {\n",
       "\treturn null\n",
       "      }\n",
       "      return root.Bokeh.versions.get(py_version);\n",
       "    } else if (root.Bokeh.version === py_version) {\n",
       "      return root.Bokeh\n",
       "    }\n",
       "    return null\n",
       "  }\n",
       "  function is_loaded(root) {\n",
       "    var Bokeh = get_bokeh(root)\n",
       "    return (Bokeh != null && Bokeh.Panel !== undefined)\n",
       "  }\n",
       "  if (is_loaded(root)) {\n",
       "    embed_document(root);\n",
       "  } else {\n",
       "    var attempts = 0;\n",
       "    var timer = setInterval(function(root) {\n",
       "      if (is_loaded(root)) {\n",
       "        clearInterval(timer);\n",
       "        embed_document(root);\n",
       "      } else if (document.readyState == \"complete\") {\n",
       "        attempts++;\n",
       "        if (attempts > 200) {\n",
       "          clearInterval(timer);\n",
       "\t  var Bokeh = get_bokeh(root)\n",
       "\t  if (Bokeh == null || Bokeh.Panel == null) {\n",
       "            console.warn(\"Panel: ERROR: Unable to run Panel code because Bokeh or Panel library is missing\");\n",
       "\t  } else {\n",
       "\t    console.warn(\"Panel: WARNING: Attempting to render but not all required libraries could be resolved.\")\n",
       "\t    embed_document(root)\n",
       "\t  }\n",
       "        }\n",
       "      }\n",
       "    }, 25, root)\n",
       "  }\n",
       "})(window);</script>"
      ]
     },
     "metadata": {
      "application/vnd.holoviews_exec.v0+json": {
       "id": "9c42598d-e591-45fe-bba8-16deacd4275f"
      }
     },
     "output_type": "display_data"
    },
    {
     "data": {
      "text/html": [
       "\n",
       "<div class=\"logo-block\">\n",
       "<img src='data:image/png;base64,iVBORw0KGgoAAAANSUhEUgAAAEAAAABACAYAAACqaXHeAAAABHNCSVQICAgIfAhkiAAAAAlwSFlz\n",
       "AAAB+wAAAfsBxc2miwAAABl0RVh0U29mdHdhcmUAd3d3Lmlua3NjYXBlLm9yZ5vuPBoAAA6zSURB\n",
       "VHic7ZtpeFRVmsf/5966taWqUlUJ2UioBBJiIBAwCZtog9IOgjqACsogKtqirT2ttt069nQ/zDzt\n",
       "tI4+CrJIREFaFgWhBXpUNhHZQoKBkIUASchWla1S+3ar7r1nPkDaCAnZKoQP/D7mnPOe9/xy76n3\n",
       "nFSAW9ziFoPFNED2LLK5wcyBDObkb8ZkxuaoSYlI6ZcOKq1eWFdedqNzGHQBk9RMEwFAASkk0Xw3\n",
       "ETacDNi2vtvc7L0ROdw0AjoSotQVkKSvHQz/wRO1lScGModBFbDMaNRN1A4tUBCS3lk7BWhQkgpD\n",
       "lG4852/+7DWr1R3uHAZVQDsbh6ZPN7CyxUrCzJMRouusj0ipRwD2uKm0Zn5d2dFwzX1TCGhnmdGo\n",
       "G62Nna+isiUqhkzuKrkQaJlPEv5mFl2fvGg2t/VnzkEV8F5ioioOEWkLG86fvbpthynjdhXYZziQ\n",
       "x1hC9J2NFyi8vCTt91Fh04KGip0AaG9zuCk2wQCVyoNU3Hjezee9bq92duzzTmxsRJoy+jEZZZYo\n",
       "GTKJ6SJngdJqAfRzpze0+jHreUtPc7gpBLQnIYK6BYp/uGhw9YK688eu7v95ysgshcg9qSLMo3JC\n",
       "4jqLKQFBgdKDPoQ+Pltb8dUyQLpeDjeVgI6EgLIQFT5tEl3rn2losHVsexbZ3EyT9wE1uGdkIPcy\n",
       "BGxn8QUq1QrA5nqW5i2tLqvrrM9NK6AdkVIvL9E9bZL/oyfMVd/jqvc8LylzRBKDJSzIExwhQzuL\n",
       "QYGQj4rHfFTc8mUdu3E7yoLtbTe9gI4EqVgVkug2i5+uXGo919ixbRog+3fTbQ8qJe4ZOYNfMoTI\n",
       "OoshUNosgO60AisX15aeI2PSIp5KiFLI9ubb1vV3Qb2ltwLakUCDAkWX7/nHKRmmGIl9VgYsUhJm\n",
       "2NXjKYADtM1ygne9QQDIXlk49FBstMKx66D1v4+XuQr7vqTe0VcBHQlRWiOCbmmSYe2SqtL6q5rJ\n",
       "zsTb7lKx3FKOYC4DoqyS/B5bvLPxvD9Qtf6saxYLQGJErmDOdOMr/zo96km1nElr8bmPOBwI9COv\n",
       "HnFPRIwmkSOv9kcAS4heRsidOkpeWBgZM+UBrTFAXNYL5Vf2ii9c1trNzpYdaoVil3WIc+wdk+gQ\n",
       "noie3ecCcxt9ITcLAPWt/laGEO/9U6PmzZkenTtsSMQ8uYywJVW+grCstAvCIaAdArAsIWkRDDs/\n",
       "KzLm2YcjY1Lv0UdW73HabE9n6V66cxSzfEmuJssTpKGVp+0vHq73FwL46eOjpMpbRAnNmJFrGJNu\n",
       "Ukf9Yrz+3rghiumCKNXXWPhLYcjxGsIpoCMsIRoFITkW8AuyM8jC1+/QLx4bozCEJIq38+1rtpR6\n",
       "V/yzb8eBlRb3fo5l783N0CWolAzJHaVNzkrTzlEp2bQ2q3TC5gn6wpnoQAmwSiGh2GitnTmVMc5O\n",
       "UyfKWUKCIsU7+fZDKwqdT6DDpvkzAX4/+AMFjk0tDp5GRXLpQ2MUmhgDp5gxQT8+Y7hyPsMi8uxF\n",
       "71H0oebujHALECjFKaW9Lm68n18wXp2kVzIcABytD5iXFzg+WVXkegpAsOOYziqo0OkK76GyquC3\n",
       "ltZAzMhhqlSNmmWTE5T6e3IN05ITFLM4GdN0vtZ3ob8Jh1NAKXFbm5PtLU/eqTSlGjkNAJjdgn/N\n",
       "aedXa0tdi7+t9G0FIF49rtMSEgAs1kDLkTPO7ebm4IUWeyh1bKomXqlgMG6kJmHcSM0clYLJ8XtR\n",
       "1GTnbV3F6I5wCGikAb402npp1h1s7LQUZZSMIfALFOuL3UUrfnS8+rez7v9qcold5tilgHbO1fjK\n",
       "9ubb17u9oshxzMiUBKXWqJNxd+fqb0tLVs4lILFnK71H0Ind7uiPgACVcFJlrb0tV6DzxqqTIhUM\n",
       "CwDf1/rrVhTa33/3pGPxJYdQ2l2cbgVcQSosdx8uqnDtbGjh9SlDVSMNWhlnilfqZk42Th2ZpLpf\n",
       "xrHec5e815zrr0dfBZSwzkZfqsv+1FS1KUknUwPARVvItfKUY+cn57yP7qv07UE3p8B2uhUwLk09\n",
       "e0SCOrK+hbdYHYLjRIl71wWzv9jpEoeOHhGRrJAzyEyNiJuUqX0g2sBN5kGK6y2Blp5M3lsB9Qh4\n",
       "y2Ja6x6+i0ucmKgwMATwhSjdUu49tKrQ/pvN5d53ml2CGwCmJipmKjgmyuaXzNeL2a0AkQ01Th5j\n",
       "2DktO3Jyk8f9vcOBQHV94OK+fPumJmvQHxJoWkaKWq9Vs+yUsbq0zGT1I4RgeH2b5wef7+c7bl8F\n",
       "eKgoHVVZa8ZPEORzR6sT1BzDUAD/d9F78e2Tzv99v8D+fLVTqAKAsbGamKey1Mt9Ann4eH3gTXTz\n",
       "idWtAJ8PQWOk7NzSeQn/OTHDuEikVF1R4z8BQCy+6D1aWRfY0tTGG2OM8rRoPaeIj5ZHzJxszElN\n",
       "VM8K8JS5WOfv8mzRnQAKoEhmt8gyPM4lU9SmBK1MCQBnW4KONT86v1hZ1PbwSXPw4JWussVjtH9Y\n",
       "NCoiL9UoH/6PSu8jFrfY2t36erQHXLIEakMi1SydmzB31h3GGXFDFNPaK8Rme9B79Ixrd0WN+1ij\n",
       "NRQ/doRmuFLBkHSTOm5GruG+pFjFdAmorG4IXH1Qua6ASniclfFtDYt+oUjKipPrCQB7QBQ2lrgP\n",
       "fFzm+9XWUtcqJ3/5vDLDpJ79XHZk3u8nGZ42qlj1+ydtbxysCezrydp6ugmipNJ7WBPB5tydY0jP\n",
       "HaVNzs3QzeE4ZpTbI+ZbnSFPbVOw9vsfnVvqWnirPyCNGD08IlqtYkh2hjZ5dErEQzoNm+6ykyOt\n",
       "Lt5/PQEuSRRKo22VkydK+vvS1XEKlhCJAnsqvcVvH7f/ZU2R67eXbMEGAMiIV5oWZWiWvz5Fv2xG\n",
       "sjqNJQRvn3Rs2lji/lNP19VjAQDgD7FHhujZB9OGqYxRkZxixgRDVlqS6uEOFaJUVu0rPFzctrnF\n",
       "JqijImVp8dEKVWyUXDk92zAuMZ6bFwpBU1HrOw6AdhQgUooChb0+ItMbWJitSo5Ws3IAOGEOtL53\n",
       "0vHZih9sC4vtofZ7Qu6523V/fmGcds1TY3V36pUsBwAbSlxnVh2xLfAD/IAIMDf7XYIkNmXfpp2l\n",
       "18rkAJAy9HKFaIr/qULkeQQKy9zf1JgDB2uaeFNGijo5QsUyacNUUTOnGO42xSnv4oOwpDi1zYkc\n",
       "efUc3I5Gk6PhyTuVKaOGyLUAYPGIoY9Pu/atL/L92+4q9wbflRJ2Trpm/jPjdBtfnqB/dIThcl8A\n",
       "KG7hbRuKnb8qsQsVvVlTrwQAQMUlf3kwJI24Z4JhPMtcfng5GcH49GsrxJpGvvHIaeem2ma+KSjQ\n",
       "lIwUdYyCY8j4dE1KzijNnIP2llF2wcXNnsoapw9XxsgYAl6k+KzUXbi2yP3KR2ecf6z3BFsBICdW\n",
       "nvnIaG3eHybqX7vbpEqUMT+9OL4Qpe8VON7dXuFd39v19FoAABRVePbGGuXTszO0P7tu6lghUonE\n",
       "llRdrhArLvmKdh9u29jcFiRRkfLUxBiFNiqSU9icoZQHo5mYBI1MBgBH6wMNb+U7Pnw337H4gi1Y\n",
       "ciWs+uks3Z9fztUvfzxTm9Ne8XXkvQLHNytOOZeiD4e0PgkAIAYCYknKUNUDSXEKzdWNpnil7r4p\n",
       "xqkjTarZMtk/K8TQ6Qve78qqvXurGwIJqcOUKfUWHsm8KGvxSP68YudXq4pcj39X49uOK2X142O0\n",
       "Tz5/u/7TVybqH0rSya6ZBwD21/gubbrgWdDgEOx9WUhfBaC2ibcEBYm7a7x+ukrBMNcEZggyR0TE\n",
       "T8zUPjikQ4VosQZbTpS4vqizBKvqmvjsqnpfzaZyx9JPiz1/bfGKdgD45XB1zoIMzYbfTdS/NClB\n",
       "Gct0USiY3YL/g0LHy/uq/Ef6uo5+n0R/vyhp17Klpge763f8rMu6YU/zrn2nml+2WtH+Z+5IAAFc\n",
       "2bUTdTDOSNa9+cQY7YLsOIXhevEkCvzph7a8laecz/Un/z4/Ae04XeL3UQb57IwU9ZDr9UuKVajv\n",
       "nxp1+1UVIo/LjztZkKH59fO3G/JemqCfmaCRqbqbd90ZZ8FfjtkfAyD0J/9+C2h1hDwsSxvGjNDc\n",
       "b4zk5NfrSwiQblLHzZhg+Jf4aPlUwpDqkQqa9nimbt1/TDH8OitGMaQnj+RJS6B1fbF7SY1TqO5v\n",
       "/v0WAADl1f7zokgS7s7VT2DZ7pegUjBM7mjtiDZbcN4j0YrHH0rXpCtY0qPX0cVL0rv5jv/ZXend\n",
       "0u/EESYBAFBU4T4Qa5TflZOhTe7pmKpaP8kCVUVw1+yhXfJWvn1P3hnXi33JsTN6PnP3hHZ8Z3/h\n",
       "aLHzmkNPuPj7Bc/F/Q38CwjTpSwQXgE4Vmwry9tpfq/ZFgqFMy4AVDtCvi8rvMvOmv0N4YwbVgEA\n",
       "sPM72/KVnzfspmH7HQGCRLG2yL1+z8XwvPcdCbsAANh+xPzstgMtxeGKt+6MK3/tacfvwhWvIwMi\n",
       "oKEBtm0H7W+UVfkc/Y1V0BhoPlDr/w1w/eu1vjIgAgDg22OtX6/eYfnEz/focrZTHAFR+PSs56/7\n",
       "q32nwpjazxgwAQCwcU/T62t3WL7r6/jVRa6/byp1rei+Z98ZUAEAhEPHPc8fKnTU9nbgtnOe8h0l\n",
       "9hcGIqmODLQAHCy2Xti6v/XNRivf43f4fFvIteu854+VHnR7q9tfBlwAAGz+pnndB9vM26UebAe8\n",
       "SLHujPOTPVW+rwY+sxskAAC2HrA8t2Vvc7ffP1r9o+vwR2dcr92InIAbKKC1FZ5tB1tf+/G8p8sv\n",
       "N/9Q5zd/XR34LYCwV5JdccMEAMDBk45DH243r/X4xGvqxFa/GNpS7n6rwOwNWwHVE26oAADYurf1\n",
       "zx/utOzt+DMKYM0p17YtZZ5VNzqfsB2HewG1WXE8PoZ7gOclbTIvynZf9JV+fqZtfgs/8F/Nu5rB\n",
       "EIBmJ+8QRMmpU7EzGRsf2FzuePqYRbzh/zE26EwdrT10f6r6o8HOYzCJB9Dpff8tbnGLG8L/A/WE\n",
       "roTBs2RqAAAAAElFTkSuQmCC'\n",
       "     style='height:25px; border-radius:12px; display: inline-block; float: left; vertical-align: middle'></img>\n",
       "\n",
       "\n",
       "  <img src='data:image/png;base64,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'\n",
       "       style='height:15px; border-radius:12px; display: inline-block; float: left'></img>\n",
       "  \n",
       "\n",
       "\n",
       "\n",
       "\n",
       "</div>\n"
      ]
     },
     "metadata": {},
     "output_type": "display_data"
    }
   ],
   "source": [
    "hv.notebook_extension('bokeh')\n",
    "\n",
    "occurrence_layer = gv.Points(df, kdims=['lng', 'lat'])\n",
    "sachsen_layer = gv.Polygons(\n",
    "    sachsen_proj, crs=ccrs.GOOGLE_MERCATOR)\n",
    "\n",
    "gv_layers = hv.Overlay(\n",
    "    gv.tile_sources.EsriImagery * \\\n",
    "    sachsen_layer.opts(\n",
    "        line_color='white',\n",
    "        line_width=1.0,\n",
    "        fill_color=None) * \\\n",
    "    occurrence_layer.opts(\n",
    "        size=3,\n",
    "        line_color='white',\n",
    "        line_width=0.1,\n",
    "        fill_alpha=0.8,\n",
    "        fill_color='white'))\n"
   ]
  },
  {
   "cell_type": "markdown",
   "id": "9201ac0b-c93e-49d9-9be0-bf82c687e502",
   "metadata": {
    "editable": true,
    "slideshow": {
     "slide_type": ""
    },
    "tags": []
   },
   "source": [
    "Once we have prepared the Geoviews `layers` as an _Overlay_, the map is plotted and thus displayed directly in the Jupyter Notebook. Below, there are some tweaks we apply:\n",
    "- Activate zooming with  the scroll wheel as a default.\n",
    "- Zoom to Saxony and the data boundaries.\n",
    "- Ensure the correct projection is used (Web Mercator).\n",
    "- Add a title to the map."
   ]
  },
  {
   "cell_type": "code",
   "execution_count": 36,
   "id": "8a6c1ee4-10d1-48f1-b410-e28a7f4f6790",
   "metadata": {
    "editable": true,
    "slideshow": {
     "slide_type": ""
    },
    "tags": []
   },
   "outputs": [],
   "source": [
    "def set_active_tool(plot, element):\n",
    "    \"\"\"Enable wheel_zoom in bokeh plot by default\"\"\"\n",
    "    plot.state.toolbar.active_scroll = plot.state.tools[0]\n",
    "\n",
    "bbox_sachsen = sachsen.to_crs(\"epsg:3857\").bounds.values.squeeze()\n",
    "minx, miny = bbox_sachsen[0], bbox_sachsen[1]\n",
    "maxx, maxy = bbox_sachsen[2], bbox_sachsen[3]\n",
    "\n",
    "title = f\"Taxon key {taxon_key} (Sparrows) \" \\\n",
    "        f\"in Saxony with {len(df):,} observations (Gbif API)\"\n",
    "\n",
    "layer_options = {\n",
    "    \"projection\": ccrs.GOOGLE_MERCATOR,\n",
    "    \"title\": title,\n",
    "    \"responsive\": True,        # responsive resize\n",
    "    \"xlim\": (minx, maxx),      # limit map boundary to Saxony\n",
    "    \"ylim\": (miny, maxy),\n",
    "    \"data_aspect\": 1.0,        # maintain fixed aspect ratio\n",
    "    \"hooks\": [set_active_tool] # enable zoom on scroll wheel by default\n",
    "}"
   ]
  },
  {
   "cell_type": "code",
   "execution_count": 37,
   "id": "21054fa1-266f-4c15-955f-316ca168d021",
   "metadata": {
    "editable": true,
    "scrolled": true,
    "slideshow": {
     "slide_type": ""
    },
    "tags": []
   },
   "outputs": [
    {
     "data": {},
     "metadata": {},
     "output_type": "display_data"
    },
    {
     "data": {
      "application/vnd.holoviews_exec.v0+json": "",
      "text/html": [
       "<div id='c4f3caa4-a6c5-4e16-9941-dc8a70de704e'>\n",
       "  <div id=\"e610d6fa-9b64-4254-a0ec-d9c03fcd11f3\" data-root-id=\"c4f3caa4-a6c5-4e16-9941-dc8a70de704e\" style=\"display: contents;\"></div>\n",
       "</div>\n",
       "<script type=\"application/javascript\">(function(root) {\n",
       "  var docs_json = {\"7a3a918f-5d10-4365-9524-e20d39865a0a\":{\"version\":\"3.6.3\",\"title\":\"Bokeh Application\",\"roots\":[{\"type\":\"object\",\"name\":\"Row\",\"id\":\"c4f3caa4-a6c5-4e16-9941-dc8a70de704e\",\"attributes\":{\"name\":\"Row00366\",\"tags\":[\"embedded\"],\"stylesheets\":[\"\\n:host(.pn-loading):before, .pn-loading:before {\\n  background-color: #c3c3c3;\\n  mask-size: auto calc(min(50%, 400px));\\n  -webkit-mask-size: auto calc(min(50%, 400px));\\n}\",{\"type\":\"object\",\"name\":\"ImportedStyleSheet\",\"id\":\"f78f2c36-0810-4a02-a62e-929be2910477\",\"attributes\":{\"url\":\"https://cdn.holoviz.org/panel/1.6.1/dist/css/loading.css\"}},{\"type\":\"object\",\"name\":\"ImportedStyleSheet\",\"id\":\"03690ce6-a3c4-44af-a821-16efe34d4d4d\",\"attributes\":{\"url\":\"https://cdn.holoviz.org/panel/1.6.1/dist/css/listpanel.css\"}},{\"type\":\"object\",\"name\":\"ImportedStyleSheet\",\"id\":\"b492eebf-03d1-4471-b61f-5a8c7861eb9e\",\"attributes\":{\"url\":\"https://cdn.holoviz.org/panel/1.6.1/dist/bundled/theme/default.css\"}},{\"type\":\"object\",\"name\":\"ImportedStyleSheet\",\"id\":\"f16112ae-bef6-4883-9fdb-135727f9c494\",\"attributes\":{\"url\":\"https://cdn.holoviz.org/panel/1.6.1/dist/bundled/theme/native.css\"}}],\"margin\":0,\"sizing_mode\":\"scale_both\",\"align\":\"start\",\"children\":[{\"type\":\"object\",\"name\":\"Figure\",\"id\":\"cf5dae95-e1d2-4656-a962-1c88a82a31a0\",\"attributes\":{\"width\":null,\"height\":null,\"margin\":[5,10],\"aspect_ratio\":1.3197664004870493,\"sizing_mode\":\"scale_both\",\"align\":\"start\",\"x_range\":{\"type\":\"object\",\"name\":\"Range1d\",\"id\":\"2c232e7b-6525-48de-a1c1-5a4a283780d2\",\"attributes\":{\"name\":\"Longitude\",\"tags\":[[[\"Longitude\",null]],[]],\"start\":1321619.2998232036,\"end\":1673993.9309774183,\"reset_start\":1321619.2998232036,\"reset_end\":1673993.9309774183,\"min_interval\":5}},\"y_range\":{\"type\":\"object\",\"name\":\"Range1d\",\"id\":\"b72c0e75-6ac5-4cba-8622-91263c052ab6\",\"attributes\":{\"name\":\"Latitude\",\"tags\":[[[\"Latitude\",null]],{\"type\":\"map\",\"entries\":[[\"invert_yaxis\",false],[\"autorange\",false]]}],\"start\":6476037.06336513,\"end\":6743034.79192086,\"reset_start\":6476037.06336513,\"reset_end\":6743034.79192086,\"min_interval\":5}},\"x_scale\":{\"type\":\"object\",\"name\":\"LinearScale\",\"id\":\"464dcbfe-e756-4070-a8c3-6b2bd703ce0f\"},\"y_scale\":{\"type\":\"object\",\"name\":\"LinearScale\",\"id\":\"e3d4d770-a240-4601-b2b2-1633d52e348d\"},\"title\":{\"type\":\"object\",\"name\":\"Title\",\"id\":\"0d63cf28-4faa-49fc-8931-b7155c23b590\",\"attributes\":{\"text\":\"Taxon key 5231190 (Sparrows) in Saxony with 13,978 observations (Gbif API)\",\"text_color\":\"black\",\"text_font_size\":\"12pt\"}},\"renderers\":[{\"type\":\"object\",\"name\":\"TileRenderer\",\"id\":\"b97e1765-1187-4278-b177-b464ded95298\",\"attributes\":{\"level\":\"underlay\",\"tile_source\":{\"type\":\"object\",\"name\":\"WMTSTileSource\",\"id\":\"b0a958d9-ee4b-4af7-9b4e-3e0c4b6f0779\",\"attributes\":{\"url\":\"https://server.arcgisonline.com/ArcGIS/rest/services/World_Imagery/MapServer/tile/{Z}/{Y}/{X}.jpg\",\"max_zoom\":19,\"attribution\":\"&copy; <a href=\\\"http://downloads.esri.com/ArcGISOnline/docs/tou_summary.pdf\\\">Esri</a>, Earthstar Geographics\"}}}},{\"type\":\"object\",\"name\":\"GlyphRenderer\",\"id\":\"061b1455-90cd-4ae3-9f5b-e1fb5f3e9e85\",\"attributes\":{\"data_source\":{\"type\":\"object\",\"name\":\"ColumnDataSource\",\"id\":\"a55e75b6-8d00-4052-9038-b31310c48b19\",\"attributes\":{\"selected\":{\"type\":\"object\",\"name\":\"Selection\",\"id\":\"5a093b2d-d1d7-4903-94d0-b7f089ecd4f1\",\"attributes\":{\"indices\":[],\"line_indices\":[]}},\"selection_policy\":{\"type\":\"object\",\"name\":\"UnionRenderers\",\"id\":\"13cd4765-d724-4997-b782-91f7adba9a78\"},\"data\":{\"type\":\"map\",\"entries\":[[\"xs\",[[[{\"type\":\"ndarray\",\"array\":{\"type\":\"bytes\",\"data\":\"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\"},\"shape\":[916],\"dtype\":\"float64\",\"order\":\"little\"}]]]],[\"ys\",[[[{\"type\":\"ndarray\",\"array\":{\"type\":\"bytes\",\"data\":\"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\"},\"shape\":[916],\"dtype\":\"float64\",\"order\":\"little\"}]]]]]}}},\"view\":{\"type\":\"object\",\"name\":\"CDSView\",\"id\":\"f0e830a3-da31-4b36-b5b6-7b166d37cbf2\",\"attributes\":{\"filter\":{\"type\":\"object\",\"name\":\"AllIndices\",\"id\":\"d9b406ac-b492-4b01-afbd-f5b678d8d055\"}}},\"glyph\":{\"type\":\"object\",\"name\":\"MultiPolygons\",\"id\":\"b9e687c5-3756-423c-9b29-7f28ca6273aa\",\"attributes\":{\"xs\":{\"type\":\"field\",\"field\":\"xs\"},\"ys\":{\"type\":\"field\",\"field\":\"ys\"},\"line_color\":{\"type\":\"value\",\"value\":\"white\"},\"fill_color\":{\"type\":\"value\",\"value\":null},\"hatch_color\":{\"type\":\"value\",\"value\":\"#30a2da\"}}},\"selection_glyph\":{\"type\":\"object\",\"name\":\"MultiPolygons\",\"id\":\"b8b20dbf-828e-4b36-a818-62491895afc2\",\"attributes\":{\"xs\":{\"type\":\"field\",\"field\":\"xs\"},\"ys\":{\"type\":\"field\",\"field\":\"ys\"},\"line_color\":{\"type\":\"value\",\"value\":\"white\"},\"line_alpha\":{\"type\":\"value\",\"value\":1.0},\"line_width\":{\"type\":\"value\",\"value\":1.0},\"line_join\":{\"type\":\"value\",\"value\":\"bevel\"},\"line_cap\":{\"type\":\"value\",\"value\":\"butt\"},\"line_dash\":{\"type\":\"value\",\"value\":[]},\"line_dash_offset\":{\"type\":\"value\",\"value\":0},\"fill_color\":{\"type\":\"value\",\"value\":null},\"fill_alpha\":{\"type\":\"value\",\"value\":1.0},\"hatch_color\":{\"type\":\"value\",\"value\":\"#30a2da\"},\"hatch_alpha\":{\"type\":\"value\",\"value\":1.0},\"hatch_scale\":{\"type\":\"value\",\"value\":12.0},\"hatch_pattern\":{\"type\":\"value\",\"value\":null},\"hatch_weight\":{\"type\":\"value\",\"value\":1.0}}},\"nonselection_glyph\":{\"type\":\"object\",\"name\":\"MultiPolygons\",\"id\":\"6930007b-465b-46e3-b6db-3f0f9f67da91\",\"attributes\":{\"xs\":{\"type\":\"field\",\"field\":\"xs\"},\"ys\":{\"type\":\"field\",\"field\":\"ys\"},\"line_color\":{\"type\":\"value\",\"value\":\"white\"},\"line_alpha\":{\"type\":\"value\",\"value\":0.1},\"fill_color\":{\"type\":\"value\",\"value\":null},\"fill_alpha\":{\"type\":\"value\",\"value\":0.1},\"hatch_color\":{\"type\":\"value\",\"value\":\"#30a2da\"},\"hatch_alpha\":{\"type\":\"value\",\"value\":0.1}}},\"muted_glyph\":{\"type\":\"object\",\"name\":\"MultiPolygons\",\"id\":\"3c0e12fb-72dc-4983-a1e7-a915e07196c2\",\"attributes\":{\"xs\":{\"type\":\"field\",\"field\":\"xs\"},\"ys\":{\"type\":\"field\",\"field\":\"ys\"},\"line_color\":{\"type\":\"value\",\"value\":\"white\"},\"line_alpha\":{\"type\":\"value\",\"value\":0.2},\"fill_color\":{\"type\":\"value\",\"value\":null},\"fill_alpha\":{\"type\":\"value\",\"value\":0.2},\"hatch_color\":{\"type\":\"value\",\"value\":\"#30a2da\"},\"hatch_alpha\":{\"type\":\"value\",\"value\":0.2}}}}},{\"type\":\"object\",\"name\":\"GlyphRenderer\",\"id\":\"bb628cef-a253-4b9c-90ff-b5efe9854bff\",\"attributes\":{\"data_source\":{\"type\":\"object\",\"name\":\"ColumnDataSource\",\"id\":\"fdb8d20f-7e65-4bac-a27b-200d704dfe62\",\"attributes\":{\"selected\":{\"type\":\"object\",\"name\":\"Selection\",\"id\":\"a06c8604-c1c6-4725-a0e8-1fba5595229c\",\"attributes\":{\"indices\":[],\"line_indices\":[]}},\"selection_policy\":{\"type\":\"object\",\"name\":\"UnionRenderers\",\"id\":\"5d236d67-71c5-4cf3-aa2c-655dc1a9a560\"},\"data\":{\"type\":\"map\",\"entries\":[[\"lng\",{\"type\":\"ndarray\",\"array\":{\"type\":\"bytes\",\"data\":\"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\"},\"shape\":[13978],\"dtype\":\"float64\",\"order\":\"little\"}],[\"lat\",{\"type\":\"ndarray\",\"array\":{\"type\":\"bytes\",\"data\":\"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\"},\"shape\":[13978],\"dtype\":\"float64\",\"order\":\"little\"}]]}}},\"view\":{\"type\":\"object\",\"name\":\"CDSView\",\"id\":\"78a2d088-a29f-4d82-9ea0-59058169524d\",\"attributes\":{\"filter\":{\"type\":\"object\",\"name\":\"AllIndices\",\"id\":\"a4090d44-12d1-463e-91dd-93543ba22895\"}}},\"glyph\":{\"type\":\"object\",\"name\":\"Scatter\",\"id\":\"acb1a0f9-c844-40c5-83f6-531ab05c5b20\",\"attributes\":{\"tags\":[\"apply_ranges\"],\"x\":{\"type\":\"field\",\"field\":\"lng\"},\"y\":{\"type\":\"field\",\"field\":\"lat\"},\"size\":{\"type\":\"value\",\"value\":3},\"line_color\":{\"type\":\"value\",\"value\":\"white\"},\"line_width\":{\"type\":\"value\",\"value\":0.1},\"fill_color\":{\"type\":\"value\",\"value\":\"white\"},\"fill_alpha\":{\"type\":\"value\",\"value\":0.8},\"hatch_color\":{\"type\":\"value\",\"value\":\"#30a2da\"}}},\"selection_glyph\":{\"type\":\"object\",\"name\":\"Scatter\",\"id\":\"eed19dc6-4416-4f69-a5e2-c46eadb19ed8\",\"attributes\":{\"tags\":[\"apply_ranges\"],\"x\":{\"type\":\"field\",\"field\":\"lng\"},\"y\":{\"type\":\"field\",\"field\":\"lat\"},\"size\":{\"type\":\"value\",\"value\":3},\"angle\":{\"type\":\"value\",\"value\":0.0},\"line_color\":{\"type\":\"value\",\"value\":\"white\"},\"line_alpha\":{\"type\":\"value\",\"value\":1.0},\"line_width\":{\"type\":\"value\",\"value\":0.1},\"line_join\":{\"type\":\"value\",\"value\":\"bevel\"},\"line_cap\":{\"type\":\"value\",\"value\":\"butt\"},\"line_dash\":{\"type\":\"value\",\"value\":[]},\"line_dash_offset\":{\"type\":\"value\",\"value\":0},\"fill_color\":{\"type\":\"value\",\"value\":\"white\"},\"fill_alpha\":{\"type\":\"value\",\"value\":0.8},\"hatch_color\":{\"type\":\"value\",\"value\":\"#30a2da\"},\"hatch_alpha\":{\"type\":\"value\",\"value\":1.0},\"hatch_scale\":{\"type\":\"value\",\"value\":12.0},\"hatch_pattern\":{\"type\":\"value\",\"value\":null},\"hatch_weight\":{\"type\":\"value\",\"value\":1.0},\"marker\":{\"type\":\"value\",\"value\":\"circle\"}}},\"nonselection_glyph\":{\"type\":\"object\",\"name\":\"Scatter\",\"id\":\"92acf6fc-9ba8-4df5-a823-1c9b868607ab\",\"attributes\":{\"tags\":[\"apply_ranges\"],\"x\":{\"type\":\"field\",\"field\":\"lng\"},\"y\":{\"type\":\"field\",\"field\":\"lat\"},\"size\":{\"type\":\"value\",\"value\":3},\"line_color\":{\"type\":\"value\",\"value\":\"white\"},\"line_alpha\":{\"type\":\"value\",\"value\":0.1},\"line_width\":{\"type\":\"value\",\"value\":0.1},\"fill_color\":{\"type\":\"value\",\"value\":\"white\"},\"fill_alpha\":{\"type\":\"value\",\"value\":0.8},\"hatch_color\":{\"type\":\"value\",\"value\":\"#30a2da\"},\"hatch_alpha\":{\"type\":\"value\",\"value\":0.1}}},\"muted_glyph\":{\"type\":\"object\",\"name\":\"Scatter\",\"id\":\"1180e1ce-7c99-4a7c-b777-818e5315d8a2\",\"attributes\":{\"tags\":[\"apply_ranges\"],\"x\":{\"type\":\"field\",\"field\":\"lng\"},\"y\":{\"type\":\"field\",\"field\":\"lat\"},\"size\":{\"type\":\"value\",\"value\":3},\"line_color\":{\"type\":\"value\",\"value\":\"white\"},\"line_alpha\":{\"type\":\"value\",\"value\":0.2},\"line_width\":{\"type\":\"value\",\"value\":0.1},\"fill_color\":{\"type\":\"value\",\"value\":\"white\"},\"fill_alpha\":{\"type\":\"value\",\"value\":0.2},\"hatch_color\":{\"type\":\"value\",\"value\":\"#30a2da\"},\"hatch_alpha\":{\"type\":\"value\",\"value\":0.2}}}}}],\"toolbar\":{\"type\":\"object\",\"name\":\"Toolbar\",\"id\":\"0e662914-1c45-499c-8ed3-e898d5bbbb06\",\"attributes\":{\"tools\":[{\"type\":\"object\",\"name\":\"WheelZoomTool\",\"id\":\"9adb10f0-3250-40eb-b70b-9d1b79a4b495\",\"attributes\":{\"renderers\":\"auto\",\"zoom_on_axis\":false}},{\"type\":\"object\",\"name\":\"BoxZoomTool\",\"id\":\"b0fb278c-ec45-4bcb-ab2d-b48ffb14b49f\",\"attributes\":{\"overlay\":{\"type\":\"object\",\"name\":\"BoxAnnotation\",\"id\":\"e56df07b-199b-43de-813a-22a24e126e35\",\"attributes\":{\"syncable\":false,\"line_color\":\"black\",\"line_alpha\":1.0,\"line_width\":2,\"line_dash\":[4,4],\"fill_color\":\"lightgrey\",\"fill_alpha\":0.5,\"level\":\"overlay\",\"visible\":false,\"left\":{\"type\":\"number\",\"value\":\"nan\"},\"right\":{\"type\":\"number\",\"value\":\"nan\"},\"top\":{\"type\":\"number\",\"value\":\"nan\"},\"bottom\":{\"type\":\"number\",\"value\":\"nan\"},\"left_units\":\"canvas\",\"right_units\":\"canvas\",\"top_units\":\"canvas\",\"bottom_units\":\"canvas\",\"handles\":{\"type\":\"object\",\"name\":\"BoxInteractionHandles\",\"id\":\"p1010\",\"attributes\":{\"all\":{\"type\":\"object\",\"name\":\"AreaVisuals\",\"id\":\"p1009\",\"attributes\":{\"fill_color\":\"white\",\"hover_fill_color\":\"lightgray\"}}}}}},\"match_aspect\":true}},{\"type\":\"object\",\"name\":\"PanTool\",\"id\":\"3d6d14fe-861d-4238-aeab-aaa4501946d2\"},{\"type\":\"object\",\"name\":\"ResetTool\",\"id\":\"e4a05f47-c8cf-4680-a4af-3debed33c61f\"}],\"active_drag\":{\"id\":\"3d6d14fe-861d-4238-aeab-aaa4501946d2\"},\"active_scroll\":{\"id\":\"9adb10f0-3250-40eb-b70b-9d1b79a4b495\"}}},\"left\":[{\"type\":\"object\",\"name\":\"LinearAxis\",\"id\":\"e3e00d28-e18b-475f-93be-4d6ff83cce12\",\"attributes\":{\"ticker\":{\"type\":\"object\",\"name\":\"MercatorTicker\",\"id\":\"d2c5a27f-84c1-4246-8e4f-9935ccae1789\",\"attributes\":{\"mantissas\":[1,2,5],\"dimension\":\"lat\"}},\"formatter\":{\"type\":\"object\",\"name\":\"MercatorTickFormatter\",\"id\":\"b808d633-417b-4ab9-a6d6-39d35ecb491b\",\"attributes\":{\"dimension\":\"lat\"}},\"axis_label\":\"Latitude\",\"major_label_policy\":{\"type\":\"object\",\"name\":\"AllLabels\",\"id\":\"3f05d47b-5ed0-4387-ba10-9ad041a57bbe\"}}}],\"below\":[{\"type\":\"object\",\"name\":\"LinearAxis\",\"id\":\"5378aae7-58e6-4f4e-b6f9-25ee97853a28\",\"attributes\":{\"ticker\":{\"type\":\"object\",\"name\":\"MercatorTicker\",\"id\":\"0584ef0a-71cf-48f0-811c-490c63c61957\",\"attributes\":{\"mantissas\":[1,2,5],\"dimension\":\"lon\"}},\"formatter\":{\"type\":\"object\",\"name\":\"MercatorTickFormatter\",\"id\":\"b60cf516-3761-4bec-91c3-0a82be352e0f\",\"attributes\":{\"dimension\":\"lon\"}},\"axis_label\":\"Longitude\",\"major_label_policy\":{\"type\":\"object\",\"name\":\"AllLabels\",\"id\":\"f677b3c7-cd82-4a7a-8aa0-7e885544fbd8\"}}}],\"center\":[{\"type\":\"object\",\"name\":\"Grid\",\"id\":\"faea5517-eee7-4420-96c9-86457ff94189\",\"attributes\":{\"axis\":{\"id\":\"5378aae7-58e6-4f4e-b6f9-25ee97853a28\"},\"grid_line_color\":null}},{\"type\":\"object\",\"name\":\"Grid\",\"id\":\"4195a7ee-6a0c-48d6-b185-ef8c1dfe12f8\",\"attributes\":{\"dimension\":1,\"axis\":{\"id\":\"e3e00d28-e18b-475f-93be-4d6ff83cce12\"},\"grid_line_color\":null}}],\"min_border_top\":10,\"min_border_bottom\":10,\"min_border_left\":10,\"min_border_right\":10,\"output_backend\":\"webgl\",\"match_aspect\":true}}]}}],\"defs\":[{\"type\":\"model\",\"name\":\"ReactiveHTML1\"},{\"type\":\"model\",\"name\":\"FlexBox1\",\"properties\":[{\"name\":\"align_content\",\"kind\":\"Any\",\"default\":\"flex-start\"},{\"name\":\"align_items\",\"kind\":\"Any\",\"default\":\"flex-start\"},{\"name\":\"flex_direction\",\"kind\":\"Any\",\"default\":\"row\"},{\"name\":\"flex_wrap\",\"kind\":\"Any\",\"default\":\"wrap\"},{\"name\":\"gap\",\"kind\":\"Any\",\"default\":\"\"},{\"name\":\"justify_content\",\"kind\":\"Any\",\"default\":\"flex-start\"}]},{\"type\":\"model\",\"name\":\"FloatPanel1\",\"properties\":[{\"name\":\"config\",\"kind\":\"Any\",\"default\":{\"type\":\"map\"}},{\"name\":\"contained\",\"kind\":\"Any\",\"default\":true},{\"name\":\"position\",\"kind\":\"Any\",\"default\":\"right-top\"},{\"name\":\"offsetx\",\"kind\":\"Any\",\"default\":null},{\"name\":\"offsety\",\"kind\":\"Any\",\"default\":null},{\"name\":\"theme\",\"kind\":\"Any\",\"default\":\"primary\"},{\"name\":\"status\",\"kind\":\"Any\",\"default\":\"normalized\"}]},{\"type\":\"model\",\"name\":\"GridStack1\",\"properties\":[{\"name\":\"mode\",\"kind\":\"Any\",\"default\":\"warn\"},{\"name\":\"ncols\",\"kind\":\"Any\",\"default\":null},{\"name\":\"nrows\",\"kind\":\"Any\",\"default\":null},{\"name\":\"allow_resize\",\"kind\":\"Any\",\"default\":true},{\"name\":\"allow_drag\",\"kind\":\"Any\",\"default\":true},{\"name\":\"state\",\"kind\":\"Any\",\"default\":[]}]},{\"type\":\"model\",\"name\":\"drag1\",\"properties\":[{\"name\":\"slider_width\",\"kind\":\"Any\",\"default\":5},{\"name\":\"slider_color\",\"kind\":\"Any\",\"default\":\"black\"},{\"name\":\"value\",\"kind\":\"Any\",\"default\":50}]},{\"type\":\"model\",\"name\":\"click1\",\"properties\":[{\"name\":\"terminal_output\",\"kind\":\"Any\",\"default\":\"\"},{\"name\":\"debug_name\",\"kind\":\"Any\",\"default\":\"\"},{\"name\":\"clears\",\"kind\":\"Any\",\"default\":0}]},{\"type\":\"model\",\"name\":\"FastWrapper1\",\"properties\":[{\"name\":\"object\",\"kind\":\"Any\",\"default\":null},{\"name\":\"style\",\"kind\":\"Any\",\"default\":null}]},{\"type\":\"model\",\"name\":\"NotificationAreaBase1\",\"properties\":[{\"name\":\"js_events\",\"kind\":\"Any\",\"default\":{\"type\":\"map\"}},{\"name\":\"position\",\"kind\":\"Any\",\"default\":\"bottom-right\"},{\"name\":\"_clear\",\"kind\":\"Any\",\"default\":0}]},{\"type\":\"model\",\"name\":\"NotificationArea1\",\"properties\":[{\"name\":\"js_events\",\"kind\":\"Any\",\"default\":{\"type\":\"map\"}},{\"name\":\"notifications\",\"kind\":\"Any\",\"default\":[]},{\"name\":\"position\",\"kind\":\"Any\",\"default\":\"bottom-right\"},{\"name\":\"_clear\",\"kind\":\"Any\",\"default\":0},{\"name\":\"types\",\"kind\":\"Any\",\"default\":[{\"type\":\"map\",\"entries\":[[\"type\",\"warning\"],[\"background\",\"#ffc107\"],[\"icon\",{\"type\":\"map\",\"entries\":[[\"className\",\"fas fa-exclamation-triangle\"],[\"tagName\",\"i\"],[\"color\",\"white\"]]}]]},{\"type\":\"map\",\"entries\":[[\"type\",\"info\"],[\"background\",\"#007bff\"],[\"icon\",{\"type\":\"map\",\"entries\":[[\"className\",\"fas fa-info-circle\"],[\"tagName\",\"i\"],[\"color\",\"white\"]]}]]}]}]},{\"type\":\"model\",\"name\":\"Notification\",\"properties\":[{\"name\":\"background\",\"kind\":\"Any\",\"default\":null},{\"name\":\"duration\",\"kind\":\"Any\",\"default\":3000},{\"name\":\"icon\",\"kind\":\"Any\",\"default\":null},{\"name\":\"message\",\"kind\":\"Any\",\"default\":\"\"},{\"name\":\"notification_type\",\"kind\":\"Any\",\"default\":null},{\"name\":\"_rendered\",\"kind\":\"Any\",\"default\":false},{\"name\":\"_destroyed\",\"kind\":\"Any\",\"default\":false}]},{\"type\":\"model\",\"name\":\"TemplateActions1\",\"properties\":[{\"name\":\"open_modal\",\"kind\":\"Any\",\"default\":0},{\"name\":\"close_modal\",\"kind\":\"Any\",\"default\":0}]},{\"type\":\"model\",\"name\":\"BootstrapTemplateActions1\",\"properties\":[{\"name\":\"open_modal\",\"kind\":\"Any\",\"default\":0},{\"name\":\"close_modal\",\"kind\":\"Any\",\"default\":0}]},{\"type\":\"model\",\"name\":\"TemplateEditor1\",\"properties\":[{\"name\":\"layout\",\"kind\":\"Any\",\"default\":[]}]},{\"type\":\"model\",\"name\":\"MaterialTemplateActions1\",\"properties\":[{\"name\":\"open_modal\",\"kind\":\"Any\",\"default\":0},{\"name\":\"close_modal\",\"kind\":\"Any\",\"default\":0}]},{\"type\":\"model\",\"name\":\"ReactiveESM1\",\"properties\":[{\"name\":\"esm_constants\",\"kind\":\"Any\",\"default\":{\"type\":\"map\"}}]},{\"type\":\"model\",\"name\":\"JSComponent1\",\"properties\":[{\"name\":\"esm_constants\",\"kind\":\"Any\",\"default\":{\"type\":\"map\"}}]},{\"type\":\"model\",\"name\":\"ReactComponent1\",\"properties\":[{\"name\":\"esm_constants\",\"kind\":\"Any\",\"default\":{\"type\":\"map\"}}]},{\"type\":\"model\",\"name\":\"AnyWidgetComponent1\",\"properties\":[{\"name\":\"esm_constants\",\"kind\":\"Any\",\"default\":{\"type\":\"map\"}}]},{\"type\":\"model\",\"name\":\"request_value1\",\"properties\":[{\"name\":\"fill\",\"kind\":\"Any\",\"default\":\"none\"},{\"name\":\"_synced\",\"kind\":\"Any\",\"default\":null},{\"name\":\"_request_sync\",\"kind\":\"Any\",\"default\":0}]}]}};\n",
       "  var render_items = [{\"docid\":\"7a3a918f-5d10-4365-9524-e20d39865a0a\",\"roots\":{\"c4f3caa4-a6c5-4e16-9941-dc8a70de704e\":\"e610d6fa-9b64-4254-a0ec-d9c03fcd11f3\"},\"root_ids\":[\"c4f3caa4-a6c5-4e16-9941-dc8a70de704e\"]}];\n",
       "  var docs = Object.values(docs_json)\n",
       "  if (!docs) {\n",
       "    return\n",
       "  }\n",
       "  const py_version = docs[0].version.replace('rc', '-rc.').replace('.dev', '-dev.')\n",
       "  async function embed_document(root) {\n",
       "    var Bokeh = get_bokeh(root)\n",
       "    await Bokeh.embed.embed_items_notebook(docs_json, render_items);\n",
       "    for (const render_item of render_items) {\n",
       "      for (const root_id of render_item.root_ids) {\n",
       "\tconst id_el = document.getElementById(root_id)\n",
       "\tif (id_el.children.length && id_el.children[0].hasAttribute('data-root-id')) {\n",
       "\t  const root_el = id_el.children[0]\n",
       "\t  root_el.id = root_el.id + '-rendered'\n",
       "\t  for (const child of root_el.children) {\n",
       "            // Ensure JupyterLab does not capture keyboard shortcuts\n",
       "            // see: https://jupyterlab.readthedocs.io/en/4.1.x/extension/notebook.html#keyboard-interaction-model\n",
       "\t    child.setAttribute('data-lm-suppress-shortcuts', 'true')\n",
       "\t  }\n",
       "\t}\n",
       "      }\n",
       "    }\n",
       "  }\n",
       "  function get_bokeh(root) {\n",
       "    if (root.Bokeh === undefined) {\n",
       "      return null\n",
       "    } else if (root.Bokeh.version !== py_version) {\n",
       "      if (root.Bokeh.versions === undefined || !root.Bokeh.versions.has(py_version)) {\n",
       "\treturn null\n",
       "      }\n",
       "      return root.Bokeh.versions.get(py_version);\n",
       "    } else if (root.Bokeh.version === py_version) {\n",
       "      return root.Bokeh\n",
       "    }\n",
       "    return null\n",
       "  }\n",
       "  function is_loaded(root) {\n",
       "    var Bokeh = get_bokeh(root)\n",
       "    return (Bokeh != null && Bokeh.Panel !== undefined)\n",
       "  }\n",
       "  if (is_loaded(root)) {\n",
       "    embed_document(root);\n",
       "  } else {\n",
       "    var attempts = 0;\n",
       "    var timer = setInterval(function(root) {\n",
       "      if (is_loaded(root)) {\n",
       "        clearInterval(timer);\n",
       "        embed_document(root);\n",
       "      } else if (document.readyState == \"complete\") {\n",
       "        attempts++;\n",
       "        if (attempts > 200) {\n",
       "          clearInterval(timer);\n",
       "\t  var Bokeh = get_bokeh(root)\n",
       "\t  if (Bokeh == null || Bokeh.Panel == null) {\n",
       "            console.warn(\"Panel: ERROR: Unable to run Panel code because Bokeh or Panel library is missing\");\n",
       "\t  } else {\n",
       "\t    console.warn(\"Panel: WARNING: Attempting to render but not all required libraries could be resolved.\")\n",
       "\t    embed_document(root)\n",
       "\t  }\n",
       "        }\n",
       "      }\n",
       "    }, 25, root)\n",
       "  }\n",
       "})(window);</script>"
      ],
      "text/plain": [
       ":Overlay\n",
       "   .WMTS.I     :WMTS   [Longitude,Latitude]\n",
       "   .Polygons.I :Polygons   [Longitude,Latitude]\n",
       "   .Points.I   :Points   [lng,lat]"
      ]
     },
     "execution_count": 37,
     "metadata": {
      "application/vnd.holoviews_exec.v0+json": {
       "id": "c4f3caa4-a6c5-4e16-9941-dc8a70de704e"
      }
     },
     "output_type": "execute_result"
    }
   ],
   "source": [
    "gv_layers.opts(**layer_options)"
   ]
  },
  {
   "cell_type": "markdown",
   "id": "57235367-ceef-4e0a-a212-7d3a58b20f3b",
   "metadata": {
    "editable": true,
    "slideshow": {
     "slide_type": ""
    },
    "tags": []
   },
   "source": [
    "Also, it is possible to save this interactive map as a separate standalone HTML (e.g. for archiving purposes or sharing with others). You can view the final map from this step <a href=\"/geoviews_map.html\" title=\"View the interactive map\">here</a>."
   ]
  },
  {
   "cell_type": "code",
   "execution_count": 38,
   "id": "1fca717f-0954-4fc0-a374-99b5f8e688c9",
   "metadata": {
    "editable": true,
    "slideshow": {
     "slide_type": ""
    },
    "tags": []
   },
   "outputs": [],
   "source": [
    "layer_options[\"data_aspect\"] = None\n",
    "hv.save(\n",
    "    gv_layers.opts(**layer_options),\n",
    "    OUTPUT / f'geoviews_map.html', backend='bokeh')"
   ]
  }
 ],
 "metadata": {
  "kernelspec": {
   "display_name": "worker_env",
   "language": "python",
   "name": "worker_env"
  },
  "language_info": {
   "codemirror_mode": {
    "name": "ipython",
    "version": 3
   },
   "file_extension": ".py",
   "mimetype": "text/x-python",
   "name": "python",
   "nbconvert_exporter": "python",
   "pygments_lexer": "ipython3",
   "version": "3.11.6"
  }
 },
 "nbformat": 4,
 "nbformat_minor": 5
}
