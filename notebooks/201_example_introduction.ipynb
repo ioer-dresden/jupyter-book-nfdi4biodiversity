{
 "cells": [
  {
   "cell_type": "markdown",
   "id": "c6a6ca57-ac08-46bd-ba34-1f55132ba59f",
   "metadata": {},
   "source": [
    "# A data example from the IOER-RDC Dataverse"
   ]
  },
  {
   "cell_type": "markdown",
   "id": "081a7254-cc04-45f6-8b46-473192251153",
   "metadata": {},
   "source": [
    "This section introduces essential methods for retrieving and integrating data into Jupyter Notebook, whether the data is stored locally on your computer or hosted on remote source."
   ]
  },
  {
   "cell_type": "markdown",
   "id": "0d5bdcab-edd6-4647-be50-9a0d018fab6d",
   "metadata": {},
   "source": [
    "## IÖR-Data – How and where to find the data?\n"
   ]
  },
  {
   "cell_type": "markdown",
   "id": "873b1ea8-5edd-4054-8344-d54c0086b335",
   "metadata": {},
   "source": [
    "## NFDI-Data – How and where to find the data?\n"
   ]
  }
 ],
 "metadata": {
  "kernelspec": {
   "display_name": "worker_env",
   "language": "python",
   "name": "worker_env"
  },
  "language_info": {
   "codemirror_mode": {
    "name": "ipython",
    "version": 3
   },
   "file_extension": ".py",
   "mimetype": "text/x-python",
   "name": "python",
   "nbconvert_exporter": "python",
   "pygments_lexer": "ipython3",
   "version": "3.12.7"
  }
 },
 "nbformat": 4,
 "nbformat_minor": 5
}
