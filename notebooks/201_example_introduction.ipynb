{
 "cells": [
  {
   "cell_type": "markdown",
   "id": "c6a6ca57-ac08-46bd-ba34-1f55132ba59f",
   "metadata": {
    "editable": true,
    "slideshow": {
     "slide_type": ""
    },
    "tags": []
   },
   "source": [
    "# Exploring spatial and biodiversity data"
   ]
  },
  {
   "cell_type": "markdown",
   "id": "010cefe7-c876-42cc-9c7c-8ef6ac490210",
   "metadata": {},
   "source": [
    "```{admonition} Summary\n",
    ":class: hint\n",
    "This walkthrough provides a complete data processing example from start to finish.\n",
    "\n",
    "The example is based on two data sources:\n",
    "- **Biodiversity data** from [Lebendiger Atlas der Natur Deutschlands (LAND)](https://land.gbif.de/): Species observations as coordinate-based vector data.\n",
    "- **Spatial data** from [IOER Monitor](https://www.ioer-monitor.de/): Aggregated and processed land use data that is provided in raster format (WCS).\n",
    "\n",
    "```"
   ]
  },
  {
   "cell_type": "markdown",
   "id": "9c8efd73-0dd6-472d-bf2c-57c12b9afc39",
   "metadata": {},
   "source": [
    "```{admonition} Summary\n",
    ":class: hint\n",
    "While Python offers multiple ways to process data, we will focus on a single approach without exploring alternative routes. Where further details are useful, cross-references to the reference documentation (Part III) or external sources are provided.\n",
    "```"
   ]
  },
  {
   "cell_type": "markdown",
   "id": "464497d7-271c-4e4a-b203-18056ed40b88",
   "metadata": {},
   "source": [
    "## Biodiversity data\n",
    "\n",
    "[LAND - Lebendiger Atlas der Natur Deutschlands](https://land.gbif.de/) compiles species observation data in Germany. It displays selected occurrence datasets that are publicly available through the [Global Biodiversity Information Facility (GBIF)](Gbif.org). GBIF aims to provide open access to biodiversity data worldwide. This connection enables users to explore Germany’s biodiversity data via LAND while also accessing and utilizing selected datasets from GBIF’s global database.\n",
    "\n",
    "There are two ways to find and download data:\n",
    "- **Via web browser**: Search, explore and download individual data files directly from [LAND](https://land.gbif.de/) using its occurrence search, geo viewer, and download options.\n",
    "- **Via code**: Use the [GBIF Application Programming Interface (API) Reference](https://techdocs.gbif.org/en/openapi/) to access data programmatically.\n",
    "\n",
    "For both methods, and especially for larger downloads, registration is required."
   ]
  },
  {
   "cell_type": "markdown",
   "id": "75efd50d-db66-4955-974e-efcc04357978",
   "metadata": {},
   "source": [
    "```{figure} https://images.naturalis.nl/original/csr%2FD80_8153.jpg\n",
    ":name: sparrow-graphic\n",
    "\n",
    "English Sparrow, *Passer domesticus* (GBIF.org).\n",
    "```"
   ]
  },
  {
   "cell_type": "markdown",
   "id": "1f21ed65-578d-49c5-85c4-fe0a689fbc38",
   "metadata": {},
   "source": [
    "```{admonition} Using GBIF API\n",
    ":class: warning\n",
    " \n",
    "\n",
    "```"
   ]
  },
  {
   "cell_type": "markdown",
   "id": "dade0b50-0dde-4e2c-a623-1117eb747d21",
   "metadata": {},
   "source": [
    "## Spatial data - IOER Monitor of Settlement and Open Space Development (IOER Monitor)\n",
    "\n",
    "The IOER Monitor of Settlement and Open Space Development (short [IOER Monitor](https://monitor.ioer.de/)) is a research data infrastructure provided by the Leibniz Institute of Ecological Urban and Regional Development (IOER). It offers insights into land use structure, development, and landscape quality in Germany. Indicators and data can be explored and visualized in an [interactive geo viewer](https://monitor.ioer.de).\n",
    "All IOER Monitor data is available through **Web Feature Service (WFS)** and **Web Coverage Service (WCS)**, allowing users to retrieve spatial data in standardized formats.\n",
    "\n",
    "There are two ways to access and download data:\n",
    "\n",
    "- **Via web browser**: Login, search and download individual data files directly from the IOER Monitor's download services.\n",
    "- **Via code**: Use the Monitor API to access data programmatically.\n",
    "\n",
    "In both cases, [registration and/or login](https://monitor.ioer.de/monitor_api/) are required."
   ]
  },
  {
   "cell_type": "markdown",
   "id": "ab6cda2e-6d30-4356-afac-c251145a10ef",
   "metadata": {},
   "source": [
    "```{admonition} Using the Monitor API\n",
    ":class: warning\n",
    "\n",
    "If you want to use the Monitor API, you need to register:\n",
    "\n",
    "1. Register at [monitor.ioer.de/monitor_api/signup](https://monitor.ioer.de/monitor_api/signup).\n",
    "2. Generate a personal API key in your account settings.\n",
    "3. Store your personal API key in a file called `.env` as `API_KEY=xyz`\n",
    "```"
   ]
  },
  {
   "cell_type": "markdown",
   "id": "e397545c-5a97-498c-ba33-994af4c94fc4",
   "metadata": {},
   "source": [
    " ```{figure} https://www.ioer-monitor.de/fileadmin/user_upload/monitor/img/Ergebnisse/siedlungsdichte.png\n",
    ":name: monitor-graphic\n",
    "\n",
    "Wie dicht leben wir? [IOER Monitor data](https://www.ioer-monitor.de/ergebnisse/analyseergebnisse/wie-dicht-leben-wir/).\n",
    "```"
   ]
  },
  {
   "cell_type": "markdown",
   "id": "23f022b9-1286-460e-94f8-24e5b06e541c",
   "metadata": {},
   "source": [
    "## Example research question\n",
    "\n",
    "In the next section, we demonstrate how to combine spatial and biodiversity data in a practical example.\n",
    "\n",
    "Specifically, we will investigate whether there is a positive correlation between *Passer domesticus* (common name: `House Sparrow`, `English Sparrow`) density and settlement areas. Since house sparrows are known to prefer urban environments, this pattern should be visible using data from the IOER Monitor and LAND data.\n",
    "\n",
    "Additionally, we will examine population trends for house sparrows in Saxony. According to {cite:ts}`salek_house_2015`, an overall decline in house sparrow populations has been observed:\n",
    "\n",
    "> _Populations of House and Tree Sparrows have rapidly declined in various breeding habitats throughout their European distribution range; however, the strongest decline was recorded within urban environments._\n",
    "{cite:p}`salek_house_2015`\n",
    "\n",
    "But is this also true for Saxony? [Let’s explore whether the data supports this trend...](202_data_retrieval)"
   ]
  },
  {
   "cell_type": "markdown",
   "id": "4bb17382-1294-4bcd-8aa9-ea67eb440f82",
   "metadata": {},
   "source": [
    "### Example: Finding the scientific name of a species\n",
    "\n",
    "Let’s say we only have a species' common name — such as `English Sparrow`, which is also known as `House Sparrow`, `Tree Sparrow` - and want to find its scientific name. The [GBIF.org species search](https://www.gbif.org/species/search?q=english%20sparrow) provides the correct answer: `Passer domesticus`. \n",
    "\n",
    "Since [GBIF.org](https://www.gbif.org) uses its own API internally, we can likely access the same data and information programmatically. Let's explore how!"
   ]
  },
  {
   "cell_type": "markdown",
   "id": "efbf8043-89d2-457b-8448-cef66ddca129",
   "metadata": {},
   "source": [
    "```{figure} https://images.naturalis.nl/original/csr%2FD80_8153.jpg\n",
    ":name: sparrow-graphic\n",
    "\n",
    "English Sparrow, *Passer domesticus* (GBIF.org).\n",
    "```"
   ]
  },
  {
   "cell_type": "markdown",
   "id": "903ed697-de01-4c39-8506-c9b3e53101b3",
   "metadata": {},
   "source": [
    "### GBIF API Reference"
   ]
  },
  {
   "cell_type": "markdown",
   "id": "6f66efc6-6fad-4259-8657-cb4c85b6d2a6",
   "metadata": {},
   "source": [
    "Retrieving data from APIs requires a specific syntax, which varies for each service. Here are two key concepts:\n",
    "\n",
    "- **Endpoint**: APIs provide commonly URLs (endpoints) that return structured data (e.g., in **JSON** format). The base URL is for the GBIF API is [https://api.gbif.org/](https://api.gbif.org/). \n",
    "- **Authentication**: Many APIs require an authentication, but some — like GBIF — allow limited access without it. However, there are APIs that don´t need authentication (e.g. Instagram, commons.wikimedia.org).\n"
   ]
  },
  {
   "cell_type": "markdown",
   "id": "c84b7fb5-6197-4596-9a06-f6562122f26e",
   "metadata": {},
   "source": [
    "```{dropdown} How do I know how to work with GBIF API?\n",
    "Good APIs have a documentation that explains how to use the specific API. It provides details on available endpoints, request methods, request methods, required parameters, and response formats, often including code examples and testing tools. Good documentation helps developers to interact with the API efficiently.\n",
    "\n",
    "The [GBIF API Reference documentation](https://techdocs.gbif.org/en/openapi/), for example, is split into serveral API sections. GBIF uses a RESTful API that can be accessed through structured URLs. A great feature of this documentation is that it’s built using [Swagger](https://swagger.io/), an interactive API framework. Swagger-based API pages let you test API queries before writing any code, making it easier to understand how they work. \n",
    "\n",
    "For example, the [GBIF Species API section](https://techdocs.gbif.org/en/openapi/v1/species#/Searching%20names/searchNames) allows to try the API directly in a web browser. Go to <a href=\"https://techdocs.gbif.org/en/openapi/v1/species#/Searching%20names/searchNames\">https://techdocs.gbif.org/en/openapi/v1/species#/Searching%20names/searchNames</a> and use the general species search for \"English Sparrow\". Simply enter `English Sparrow` in the parameter field labeled `q` with the examplaination \"The value for this parameter can be a simple word or a phrase. Wildcards are not supported\" (Hint: The parameter field is located in the middle of the webpage). \n",
    "```"
   ]
  },
  {
   "cell_type": "markdown",
   "id": "0f0ecd43-c0f1-4b42-a82f-3f1b5f222be5",
   "metadata": {},
   "source": [
    "### Using the GBIF API in Python\n",
    "We can search for a species' scientific name directly in Python. In the following code snippets, we load GBIF's search results for a given common name and extract the matching scientific names for `English Sparrow`.\n",
    "\n",
    "We also specify a dataset to check this taxon. In this case, we use the base [GBIF Backbone Taxonomy](https://www.gbif.org/dataset/d7dddbf4-2cf0-4f39-9b2a-bb099caae36c)."
   ]
  },
  {
   "cell_type": "code",
   "execution_count": 18,
   "id": "06e73fdb-5314-4101-b21a-cf78e4a14060",
   "metadata": {
    "editable": true,
    "slideshow": {
     "slide_type": ""
    },
    "tags": []
   },
   "outputs": [],
   "source": [
    "search_name = \"English Sparrow\"\n",
    "dataset_key = \"d7dddbf4-2cf0-4f39-9b2a-bb099caae36c\"\n",
    "query_url = f'https://api.gbif.org/v1/species/search?q={search_name}&datasetKey={dataset_key}'"
   ]
  },
  {
   "cell_type": "markdown",
   "id": "c32d8054-8e96-42c7-aea9-3101e15d8b33",
   "metadata": {},
   "source": [
    "(content:references:admonition)=\n",
    "```{admonition} Use your own common name!\n",
    ":class: dropdown, attention\n",
    "You can try this workflow with a different species! Simply replace `English Sparrow` with another common name to find its corresponding scientific name.\n",
    "```"
   ]
  },
  {
   "cell_type": "markdown",
   "id": "175e9096-1794-42ad-aafd-38b1f1d290f7",
   "metadata": {},
   "source": [
    "```{admonition} Syntax: f'{}' ?\n",
    ":class: tip, dropdown\n",
    "This is called an f-string, [a convenient python convention](https://realpython.com/python-f-strings/) to concat strings and variables.\n",
    "```"
   ]
  },
  {
   "cell_type": "markdown",
   "id": "503b2ac9-1047-4c3d-9cc4-d399c728abd3",
   "metadata": {},
   "source": [
    "Get the json-answer from the API (without login!)."
   ]
  },
  {
   "cell_type": "code",
   "execution_count": 19,
   "id": "0ef953c3-b200-4689-9b46-8d8e5e13d78f",
   "metadata": {
    "editable": true,
    "slideshow": {
     "slide_type": ""
    },
    "tags": []
   },
   "outputs": [],
   "source": [
    "import requests\n",
    "\n",
    "json_text = None\n",
    "response = requests.get(url=query_url)"
   ]
  },
  {
   "cell_type": "markdown",
   "id": "22a1c77b-39eb-45cb-98ca-15902c7dd4dc",
   "metadata": {},
   "source": [
    "The data can be found in `response.text` (in case the API answered)."
   ]
  },
  {
   "cell_type": "code",
   "execution_count": 20,
   "id": "4c8b5ead-5a09-4a46-b840-d5f02f71537e",
   "metadata": {
    "editable": true,
    "slideshow": {
     "slide_type": ""
    },
    "tags": []
   },
   "outputs": [],
   "source": [
    "import json\n",
    "json_data = json.loads(response.text)"
   ]
  },
  {
   "cell_type": "markdown",
   "id": "e386e6cc-e2be-499b-a2f3-fadd1ab6e43e",
   "metadata": {
    "editable": true,
    "slideshow": {
     "slide_type": ""
    },
    "tags": []
   },
   "source": [
    "We can see that the correct answer, `Passer domesticus`, is hidden in the nested json structure:\n",
    "(content:references:nub-id)="
   ]
  },
  {
   "cell_type": "code",
   "execution_count": 22,
   "id": "91cfb0ee-03d6-4493-acdd-e4859eacd97d",
   "metadata": {
    "editable": true,
    "slideshow": {
     "slide_type": ""
    },
    "tags": [
     "hide-output"
    ]
   },
   "outputs": [
    {
     "name": "stdout",
     "output_type": "stream",
     "text": [
      "{\n",
      "  \"offset\": 0,\n",
      "  \"limit\": 20,\n",
      "  \"endOfRecords\": true,\n",
      "  \"count\": 1,\n",
      "  \"results\": [\n",
      "    {\n",
      "      \"key\": 5231190,\n",
      "      \"nameKey\": 8290258,\n",
      "      \"datasetKey\": \"d7dddbf4-2cf0-4f39-9b2a-bb099caae36c\",\n",
      "      \"constituentKey\": \"7ddf754f-d193-4cc9-b351-99906754a03b\",\n",
      "      \"nubKey\": 5231190,\n",
      "      \"parentKey\": 2492321,\n",
      "      \"parent\": \"Passer\",\n",
      "      \"basionymKey\": 8933000,\n",
      "      \"basionym\": \"Fringilla domestica Linnaeus, 1758\",\n",
      "      \"kingdom\": \"Animalia\",\n",
      "      \"phylum\": \"Chordata\",\n",
      "      \"order\": \"Passeriformes\",\n",
      "      \"family\": \"Passeridae\",\n",
      "   \n"
     ]
    }
   ],
   "source": [
    "print(json.dumps(json_data, indent=2)[0:550])"
   ]
  },
  {
   "cell_type": "markdown",
   "id": "25db5eaa-e5a7-4fcd-a754-cf51cf45f707",
   "metadata": {},
   "source": [
    "We can access the most relevant first result and print this name directly. Below, we walk the json path from the `\"results\"`, which is a list, access the first entry by using `[0]` and the access its key of the name `scientificName`."
   ]
  },
  {
   "cell_type": "code",
   "execution_count": 23,
   "id": "1ca064f1-6b9c-41d4-bf05-c609fcfc4f65",
   "metadata": {
    "editable": true,
    "slideshow": {
     "slide_type": ""
    },
    "tags": []
   },
   "outputs": [
    {
     "data": {
      "text/plain": [
       "'Passer domesticus (Linnaeus, 1758)'"
      ]
     },
     "execution_count": 23,
     "metadata": {},
     "output_type": "execute_result"
    }
   ],
   "source": [
    "json_data[\"results\"][0][\"scientificName\"]"
   ]
  },
  {
   "cell_type": "markdown",
   "id": "9c204da7-38c2-4095-ba42-0aab22f059f2",
   "metadata": {
    "editable": true,
    "slideshow": {
     "slide_type": ""
    },
    "tags": []
   },
   "source": [
    "We can also see the taxon id, a unique reference within the GBIF database that we will need in the next chapter to query occurrences:\n",
    "(content:references:passer-id)="
   ]
  },
  {
   "cell_type": "code",
   "execution_count": 24,
   "id": "5d42dc69-7891-4bb7-8c36-958c8d86f0b9",
   "metadata": {
    "editable": true,
    "slideshow": {
     "slide_type": ""
    },
    "tags": []
   },
   "outputs": [
    {
     "data": {
      "text/plain": [
       "'gbif:5231190'"
      ]
     },
     "execution_count": 24,
     "metadata": {},
     "output_type": "execute_result"
    }
   ],
   "source": [
    "json_data[\"results\"][0][\"taxonID\"]"
   ]
  },
  {
   "cell_type": "markdown",
   "id": "633f8e8e-72db-485b-b0e6-204fe53e496c",
   "metadata": {
    "editable": true,
    "jp-MarkdownHeadingCollapsed": true,
    "slideshow": {
     "slide_type": ""
    },
    "tags": []
   },
   "source": [
    "`````{admonition} Continue in the next section..\n",
    ":class: seealso\n",
    "*Passer domesticus* will be our example species for which we will retrieve observations [in the next section](202_data_retrieval).\n",
    "`````"
   ]
  },
  {
   "cell_type": "markdown",
   "id": "9a932614-11c3-4bf3-9e70-c308d757e1b9",
   "metadata": {},
   "source": [
    "You can see a full list of services [here](https://monitor.ioer.de/monitor_api/services)."
   ]
  },
  {
   "cell_type": "markdown",
   "id": "580fc4e8-a0c3-46f1-bef2-e862079da07a",
   "metadata": {},
   "source": [
    "## References\n",
    "\n",
    "```{bibliography}\n",
    ":style: unsrt\n",
    ":filter: docname in docnames\n",
    "```"
   ]
  },
  {
   "cell_type": "markdown",
   "id": "d9b004dc-1117-498f-805a-401930e5648f",
   "metadata": {},
   "source": [
    "```{admonition} Recommended citation\n",
    ":class: attention\n",
    "IÖR Monitor (year). Dataset. URL. DOI.\n",
    "```"
   ]
  },
  {
   "cell_type": "markdown",
   "id": "7a82adba-9b19-45cc-9f67-d50ede226269",
   "metadata": {},
   "source": [
    " ```{admonition} Recommended citation\n",
    ":class: attention\n",
    "\n",
    "\n",
    "\n",
    "\n",
    "When downloading data from GBIF.org, a registered user is immediately redirected to a page that includes the following information:\n",
    "\n",
    "GBIF.org (06 March 2025) GBIF Occurrence Download  https://doi.org/10.15468/dl.mvkpx9\n",
    "\n",
    "\n",
    "GBIF (year). Dataset. URL. DOI.\n",
    "```"
   ]
  }
 ],
 "metadata": {
  "kernelspec": {
   "display_name": "worker_env",
   "language": "python",
   "name": "worker_env"
  },
  "language_info": {
   "codemirror_mode": {
    "name": "ipython",
    "version": 3
   },
   "file_extension": ".py",
   "mimetype": "text/x-python",
   "name": "python",
   "nbconvert_exporter": "python",
   "pygments_lexer": "ipython3",
   "version": "3.11.6"
  }
 },
 "nbformat": 4,
 "nbformat_minor": 5
}
