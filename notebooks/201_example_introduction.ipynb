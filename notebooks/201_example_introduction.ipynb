{
 "cells": [
  {
   "cell_type": "markdown",
   "id": "c6a6ca57-ac08-46bd-ba34-1f55132ba59f",
   "metadata": {
    "editable": true,
    "slideshow": {
     "slide_type": ""
    },
    "tags": []
   },
   "source": [
    "# Exploring spatial and biodiversity data"
   ]
  },
  {
   "cell_type": "markdown",
   "id": "010cefe7-c876-42cc-9c7c-8ef6ac490210",
   "metadata": {},
   "source": [
    "```{admonition} Summary\n",
    ":class: hint\n",
    "This walkthrough provides a complete data processing example from start to finish.\n",
    "\n",
    "The example is based on two data sources:\n",
    "- Biodiversity data from [Lebendiger Atlas der Natur Deutschlands(LAND)](https://land.gbif.de/): Species observations as coordinate-based vector data.\n",
    "- Spatial data from [IOER Monitor](https://www.ioer-monitor.de/): Aggregated and processed land use data that is provided in raster format (WCS).\n",
    "\n",
    "In this section, we will retrieve data from both sources and then use intersection and aggregation methods to create an integrated visualisation. While Python offers multiple ways to process data, we will focus on a single approach without exploring alternative routes. Where further details are useful, cross-references to the reference documentation (Part III) or external sources are provided.\n",
    "```"
   ]
  },
  {
   "cell_type": "markdown",
   "id": "873b1ea8-5edd-4054-8344-d54c0086b335",
   "metadata": {},
   "source": [
    "## Lebendiger Atlas der Natur Deutschlands (LAND) – How and where to find the data?"
   ]
  },
  {
   "cell_type": "markdown",
   "id": "464497d7-271c-4e4a-b203-18056ed40b88",
   "metadata": {},
   "source": [
    "The LAND species observations data are available at [LAND - Lebendiger Atlas der Natur Deutschlands](https://land.gbif.de/). LAND compiles species observations in Germany, making them accessible for research and the public. It displays selected occurrence datasets for Germany that are publicly available via the [Global Biodiversity Information Facility (GBIF)](Gbif.org). This connection allows us to explore biodiversity data both through [LAND.gbif.de](https://land.gbif.de/) and directly via GBIF’s global database.\n",
    "\n",
    "There are two ways to download data:\n",
    "- **Via web browser**: Search and download individual data files directly from [LAND](https://land.gbif.de/).\n",
    "- **Via code**: Use the [GBIF Species Application Programming Interface (API)](https://techdocs.gbif.org/en/openapi/v1/species) access data programmatically.\n",
    "\n",
    "For both methods, and especially for larger downloads, registration is required. However, we can explore a small example query using the Species API without needing a registration or key."
   ]
  },
  {
   "cell_type": "markdown",
   "id": "4bb17382-1294-4bcd-8aa9-ea67eb440f82",
   "metadata": {},
   "source": [
    "### Example: Finding the scientific name of a species\n",
    "\n",
    "Let’s say we want to find the scientific name of a species but only have its common name — for example, the `English Sparrow` - and want to find its scientific name. The [GBIF.org species search](https://www.gbif.org/species/search?q=english%20sparrow) provides the correct answer.\n",
    "\n",
    "Since [GBIF.org](https://www.gbif.org) we can likely access the same data and information programmatically. Let's explore how!"
   ]
  },
  {
   "cell_type": "markdown",
   "id": "efbf8043-89d2-457b-8448-cef66ddca129",
   "metadata": {},
   "source": [
    "```{figure} https://images.naturalis.nl/original/csr%2FD80_8153.jpg\n",
    ":name: sparrow-graphic\n",
    "\n",
    "The English Sparrow (GBIF.org).\n",
    "```"
   ]
  },
  {
   "cell_type": "markdown",
   "id": "903ed697-de01-4c39-8506-c9b3e53101b3",
   "metadata": {},
   "source": [
    "### GBIF Species API"
   ]
  },
  {
   "cell_type": "markdown",
   "id": "c84b7fb5-6197-4596-9a06-f6562122f26e",
   "metadata": {},
   "source": [
    "```{dropdown} How do I know how to work with APIs?\n",
    "Good APIs have documentation. The [GBIF Species API documentation](https://techdocs.gbif.org/en/openapi/v1/species#/Searching%20names/searchNames) even allows to try the API directly in a web browser. Go to <a href=\"https://techdocs.gbif.org/en/openapi/v1/species#/Searching%20names/searchNames\">https://techdocs.gbif.org/en/openapi/v1/species#/Searching%20names/searchNames</a> and use the general species search for \"English Sparrow\". Simply enter `English Sparrow` in the field labeled `q (query)`(Simple full text search parameter).\n",
    "```"
   ]
  },
  {
   "cell_type": "markdown",
   "id": "6f66efc6-6fad-4259-8657-cb4c85b6d2a6",
   "metadata": {},
   "source": [
    "- Retrieving data from APIs requires a specific syntax that is different for each service.\n",
    "- commonly, there is an **endpoint** (a url) that returns data in a structured format (e.g. **json**, see [Part III: Common spatial file formats](302_file_formats))\n",
    "- most APIs require you to authenticate, but not all (e.g. Instagram, commons.wikimedia.org)"
   ]
  },
  {
   "cell_type": "markdown",
   "id": "0f0ecd43-c0f1-4b42-a82f-3f1b5f222be5",
   "metadata": {},
   "source": [
    "We can do the same in Python. Load gbif search answer for a specific common name search. Get the scientific names matching \"English Sparrow\"."
   ]
  },
  {
   "cell_type": "code",
   "execution_count": 1,
   "id": "06e73fdb-5314-4101-b21a-cf78e4a14060",
   "metadata": {
    "editable": true,
    "slideshow": {
     "slide_type": ""
    },
    "tags": []
   },
   "outputs": [],
   "source": [
    "search_name = \"English Sparrow\"\n",
    "query_url = f'https://api.gbif.org/v1/species/search?q={search_name}'"
   ]
  },
  {
   "cell_type": "markdown",
   "id": "c32d8054-8e96-42c7-aea9-3101e15d8b33",
   "metadata": {},
   "source": [
    "(content:references:admonition)=\n",
    "```{admonition} Use your own common name!\n",
    ":class: dropdown, attention\n",
    "Optionally replace \"English Sparrow\" with another location above\n",
    "```"
   ]
  },
  {
   "cell_type": "markdown",
   "id": "175e9096-1794-42ad-aafd-38b1f1d290f7",
   "metadata": {},
   "source": [
    "```{admonition} Syntax: f'{}' ?\n",
    ":class: tip, dropdown\n",
    "This is called an f-string, [a convenient python convention](https://realpython.com/python-f-strings/) to concat strings and variables.\n",
    "```"
   ]
  },
  {
   "cell_type": "markdown",
   "id": "503b2ac9-1047-4c3d-9cc4-d399c728abd3",
   "metadata": {},
   "source": [
    "Get the json-answer from the API (without login!)."
   ]
  },
  {
   "cell_type": "code",
   "execution_count": 2,
   "id": "0ef953c3-b200-4689-9b46-8d8e5e13d78f",
   "metadata": {
    "editable": true,
    "slideshow": {
     "slide_type": ""
    },
    "tags": []
   },
   "outputs": [],
   "source": [
    "import requests\n",
    "\n",
    "json_text = None\n",
    "response = requests.get(url=query_url)"
   ]
  },
  {
   "cell_type": "markdown",
   "id": "22a1c77b-39eb-45cb-98ca-15902c7dd4dc",
   "metadata": {},
   "source": [
    "The data can be found in `response.text` (in case the API answered)."
   ]
  },
  {
   "cell_type": "code",
   "execution_count": 3,
   "id": "4c8b5ead-5a09-4a46-b840-d5f02f71537e",
   "metadata": {
    "editable": true,
    "slideshow": {
     "slide_type": ""
    },
    "tags": []
   },
   "outputs": [],
   "source": [
    "import json\n",
    "json_data = json.loads(response.text)"
   ]
  },
  {
   "cell_type": "markdown",
   "id": "e386e6cc-e2be-499b-a2f3-fadd1ab6e43e",
   "metadata": {
    "editable": true,
    "slideshow": {
     "slide_type": ""
    },
    "tags": []
   },
   "source": [
    "We can see that the correct answer, `Passer domesticus`, is hidden in the nested json structure:\n",
    "(content:references:nub-id)="
   ]
  },
  {
   "cell_type": "code",
   "execution_count": 4,
   "id": "91cfb0ee-03d6-4493-acdd-e4859eacd97d",
   "metadata": {
    "editable": true,
    "slideshow": {
     "slide_type": ""
    },
    "tags": [
     "hide-output"
    ]
   },
   "outputs": [
    {
     "name": "stdout",
     "output_type": "stream",
     "text": [
      "{\n",
      "  \"offset\": 0,\n",
      "  \"limit\": 20,\n",
      "  \"endOfRecords\": true,\n",
      "  \"count\": 5,\n",
      "  \"results\": [\n",
      "    {\n",
      "      \"key\": 100220560,\n",
      "      \"datasetKey\": \"b351a324-77c4-41c9-a909-f30f77268bc4\",\n",
      "      \"nubKey\": 5231190,\n",
      "      \"scientificName\": \"Passer domesticus\",\n",
      "      \"canonicalName\": \"Passer domesticus\",\n",
      "      \"nameType\": \"SCIENTIFIC\",\n",
      "      \"taxonomicStatus\": \"ACCEPTED\",\n",
      "      \"origin\": \"SOURCE\",\n",
      "      \"numDescendants\": 0,\n",
      "      \"numOccurrences\": 0,\n",
      "      \"taxonID\": \"420\",\n",
      "      \"habitats\": [],\n",
      "      \"nomenclaturalStatus\": [],\n",
      "      \"threatStatuses\": [],\n",
      "     \n"
     ]
    }
   ],
   "source": [
    "print(json.dumps(json_data, indent=2)[0:550])"
   ]
  },
  {
   "cell_type": "markdown",
   "id": "25db5eaa-e5a7-4fcd-a754-cf51cf45f707",
   "metadata": {},
   "source": [
    "We can access the most relevant first result and print this name directly. Below, we walk the json path from the `\"results\"`, which is a list, access the first entry by using `[0]` and the access its key of the name `scientificName`."
   ]
  },
  {
   "cell_type": "code",
   "execution_count": 5,
   "id": "1ca064f1-6b9c-41d4-bf05-c609fcfc4f65",
   "metadata": {
    "editable": true,
    "slideshow": {
     "slide_type": ""
    },
    "tags": []
   },
   "outputs": [
    {
     "data": {
      "text/plain": [
       "'Passer domesticus'"
      ]
     },
     "execution_count": 5,
     "metadata": {},
     "output_type": "execute_result"
    }
   ],
   "source": [
    "json_data[\"results\"][0][\"scientificName\"]"
   ]
  },
  {
   "cell_type": "markdown",
   "id": "9c204da7-38c2-4095-ba42-0aab22f059f2",
   "metadata": {
    "editable": true,
    "slideshow": {
     "slide_type": ""
    },
    "tags": []
   },
   "source": [
    "We can also see the taxon id, a unique reference within the GBIF database that we will need in the next chapter to query occurrences:\n",
    "(content:references:passer-id)="
   ]
  },
  {
   "cell_type": "code",
   "execution_count": 6,
   "id": "5d42dc69-7891-4bb7-8c36-958c8d86f0b9",
   "metadata": {
    "editable": true,
    "slideshow": {
     "slide_type": ""
    },
    "tags": []
   },
   "outputs": [
    {
     "data": {
      "text/plain": [
       "'420'"
      ]
     },
     "execution_count": 6,
     "metadata": {},
     "output_type": "execute_result"
    }
   ],
   "source": [
    "json_data[\"results\"][0][\"taxonID\"]"
   ]
  },
  {
   "cell_type": "markdown",
   "id": "633f8e8e-72db-485b-b0e6-204fe53e496c",
   "metadata": {
    "editable": true,
    "jp-MarkdownHeadingCollapsed": true,
    "slideshow": {
     "slide_type": ""
    },
    "tags": []
   },
   "source": [
    "`````{admonition} Continue in the next section..\n",
    ":class: seealso\n",
    "Passer domesticus will be our example species for which we will retrieve observations [in the next section](202_data_retrieval).\n",
    "`````"
   ]
  },
  {
   "cell_type": "markdown",
   "id": "0d5bdcab-edd6-4647-be50-9a0d018fab6d",
   "metadata": {},
   "source": [
    "## IÖR-Data – How and where to find the data?\n"
   ]
  },
  {
   "cell_type": "markdown",
   "id": "b450d2af-5ea2-4712-ad89-4a8065f80263",
   "metadata": {},
   "source": [
    "The IÖR-Monitor Data is available at [https://monitor.ioer.de/](https://monitor.ioer.de/). All IÖR-Monitor data is available as Web Feature Service (WFS) and Web Coverage Service (WCS).\n",
    "You can see a full list of services [here](https://monitor.ioer.de/monitor_api/services).\n",
    "\n",
    "```{figure} https://www.ioer-monitor.de/fileadmin/user_upload/monitor/img/Ergebnisse/siedlungsdichte.png\n",
    ":name: monitor-graphic\n",
    "\n",
    "Wie dicht leben wir? [IÖR Monitor data](https://www.ioer-monitor.de/ergebnisse/analyseergebnisse/wie-dicht-leben-wir/).\n",
    "```\n",
    "\n",
    "```{admonition} Registration necessary\n",
    ":class: warning\n",
    "To retrieve data from the IÖR-Monitor API, [registration is necessary](https://www.ioer-monitor.de/login/).\n",
    "\n",
    "In order to follow the steps below, you need to:\n",
    "1. Register [monitor.ioer.de/monitor_api/signup](https://monitor.ioer.de/monitor_api/signup),\n",
    "2. Create an API key,\n",
    "3. Store this API key in a file called `.env` as `API_KEY=xyz`\n",
    "```"
   ]
  },
  {
   "cell_type": "markdown",
   "id": "992a513a-b9ac-4ac9-a82b-30ddfa6e840f",
   "metadata": {},
   "source": [
    "```{admonition} Continue in the next section..\n",
    ":class: seealso\n",
    "[See the next section](202_data_retrieval) where we explain how to access the IÖR-WCS raster data for green cover in Saxony.\n",
    "```"
   ]
  },
  {
   "cell_type": "markdown",
   "id": "a6e66a00-2377-431a-b8e0-987f066d35a6",
   "metadata": {},
   "source": [
    "## Example research question\n",
    "\n",
    "Now we have a research question. In the following example workflow, we investigate whether there is a positive correlation between sparrow density and settlement areas. Since sparrows are known to prefer settled areas, this should be visible with the IÖR monitor and the NFDI4Biodiversity data.\n",
    "\n",
    "Furthermore, we want to see if there is a population trend for the sparrow in Saxony. {cite:ts}`salek_house_2015` observed an overall decreasing population trend for the sparrow.\n",
    "\n",
    "> _Populations of House and Tree Sparrows have rapidly declined in various breeding habitats throughout their European distribution range; however, the strongest decline was recorded within urban environments._\n",
    "{cite:p}`salek_house_2015`\n",
    "\n",
    "Is this also true for Saxony? [Let's see..](202_data_retrieval)"
   ]
  },
  {
   "cell_type": "markdown",
   "id": "580fc4e8-a0c3-46f1-bef2-e862079da07a",
   "metadata": {},
   "source": [
    "## References\n",
    "\n",
    "```{bibliography}\n",
    ":style: unsrt\n",
    ":filter: docname in docnames\n",
    "```"
   ]
  },
  {
   "cell_type": "code",
   "execution_count": null,
   "id": "ec2f9b07-cf5a-4b8f-a40f-314dbb2e06ea",
   "metadata": {},
   "outputs": [],
   "source": []
  }
 ],
 "metadata": {
  "kernelspec": {
   "display_name": "worker_env",
   "language": "python",
   "name": "worker_env"
  },
  "language_info": {
   "codemirror_mode": {
    "name": "ipython",
    "version": 3
   },
   "file_extension": ".py",
   "mimetype": "text/x-python",
   "name": "python",
   "nbconvert_exporter": "python",
   "pygments_lexer": "ipython3",
   "version": "3.12.7"
  }
 },
 "nbformat": 4,
 "nbformat_minor": 5
}
