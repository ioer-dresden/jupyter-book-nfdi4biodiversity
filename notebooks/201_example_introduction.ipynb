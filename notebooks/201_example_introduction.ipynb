{
 "cells": [
  {
   "cell_type": "markdown",
   "id": "c6a6ca57-ac08-46bd-ba34-1f55132ba59f",
   "metadata": {
    "editable": true,
    "slideshow": {
     "slide_type": ""
    },
    "tags": []
   },
   "source": [
    "# Exploring spatial and biodiversity data"
   ]
  },
  {
   "cell_type": "markdown",
   "id": "010cefe7-c876-42cc-9c7c-8ef6ac490210",
   "metadata": {},
   "source": [
    "```{admonition} Summary\n",
    ":class: hint\n",
    "This walkthrough provides a complete data processing example from start to finish. We demonstrate how to combine spatial and biodiversity data in a practical example.\n",
    "\n",
    "The example is based on two data sources:\n",
    "- **Biodiversity data** from [Lebendiger Atlas der Natur Deutschlands (LAND)](https://land.gbif.de/): Species observations as coordinate-based vector data.\n",
    "- **Spatial data** from [IOER Monitor](https://www.ioer-monitor.de/): Aggregated and processed land use data that is provided in raster format (WCS).\n",
    "\n",
    "```"
   ]
  },
  {
   "cell_type": "markdown",
   "id": "464497d7-271c-4e4a-b203-18056ed40b88",
   "metadata": {},
   "source": [
    "## Lebendiger Atlas der Natur Deutschlands (LAND)\n",
    "\n",
    "[LAND - Lebendiger Atlas der Natur Deutschlands](https://land.gbif.de/) compiles species observation data in Germany. It displays selected occurrence datasets that are publicly available through the [Global Biodiversity Information Facility (GBIF)](Gbif.org). GBIF aims to provide open access to biodiversity data worldwide. This connection enables users to explore Germany’s biodiversity data via LAND while also accessing and utilizing selected datasets from GBIF’s global database.\n",
    "\n",
    "There are two ways to find and download data:\n",
    "- **Via web browser**: Search, explore and download individual data files directly from [LAND](https://land.gbif.de/) using its occurrence search, geo viewer, and download options.\n",
    "- **Via code**: Use the [GBIF Application Programming Interface (API) Reference](https://techdocs.gbif.org/en/openapi/) to access data programmatically.\n",
    "\n",
    "For both methods, and especially for larger downloads, registration is required."
   ]
  },
  {
   "cell_type": "markdown",
   "id": "75efd50d-db66-4955-974e-efcc04357978",
   "metadata": {
    "editable": true,
    "slideshow": {
     "slide_type": ""
    },
    "tags": []
   },
   "source": [
    "```{figure} https://images.naturalis.nl/original/csr%2FD80_8153.jpg\n",
    ":name: sparrow-graphic\n",
    "\n",
    "English Sparrow, *Passer domesticus* (GBIF.org).\n",
    "```"
   ]
  },
  {
   "cell_type": "markdown",
   "id": "1f21ed65-578d-49c5-85c4-fe0a689fbc38",
   "metadata": {},
   "source": [
    "```{admonition} Using GBIF API\n",
    ":class: warning\n",
    " \n",
    "\n",
    "```"
   ]
  },
  {
   "cell_type": "markdown",
   "id": "dade0b50-0dde-4e2c-a623-1117eb747d21",
   "metadata": {},
   "source": [
    "## IOER Monitor of Settlement and Open Space Development (IOER Monitor)\n",
    "The IOER Monitor of Settlement and Open Space Development (short [IOER Monitor](https://monitor.ioer.de/)) is a research data infrastructure provided by the Leibniz Institute of Ecological Urban and Regional Development (IOER). It offers insights into land use structure, development, and landscape quality in Germany. Indicators and data can be explored and visualized in an [interactive geo viewer](https://monitor.ioer.de).\n",
    "All IOER Monitor data is available through **Web Feature Service (WFS)** and **Web Coverage Service (WCS)**, allowing users to retrieve spatial data in standardized formats.\n",
    "\n",
    "There are two ways to access and download data:\n",
    "\n",
    "- **Via web browser**: Login, search and download individual data files directly from the IOER Monitor's download services.\n",
    "- **Via code**: Use the Monitor API to access data programmatically.\n",
    "\n",
    "In both cases, [registration](https://monitor.ioer.de/monitor_api/) is required."
   ]
  },
  {
   "cell_type": "markdown",
   "id": "ab6cda2e-6d30-4356-afac-c251145a10ef",
   "metadata": {},
   "source": [
    "```{admonition} Using the Monitor API\n",
    ":class: warning\n",
    "\n",
    "If you want to use the Monitor API, you need to register:\n",
    "\n",
    "1. Register at [monitor.ioer.de/monitor_api/signup](https://monitor.ioer.de/monitor_api/signup).\n",
    "2. Generate a personal API key in your account settings.\n",
    "3. Store your personal API key in a file called `.env` as `API_KEY=xyz`\n",
    "```"
   ]
  },
  {
   "cell_type": "markdown",
   "id": "e397545c-5a97-498c-ba33-994af4c94fc4",
   "metadata": {},
   "source": [
    " ```{figure} https://www.ioer-monitor.de/fileadmin/user_upload/monitor/img/Ergebnisse/siedlungsdichte.png\n",
    ":name: monitor-graphic\n",
    "\n",
    "Wie dicht leben wir? [IOER Monitor data](https://www.ioer-monitor.de/ergebnisse/analyseergebnisse/wie-dicht-leben-wir/).\n",
    "```"
   ]
  },
  {
   "cell_type": "markdown",
   "id": "23f022b9-1286-460e-94f8-24e5b06e541c",
   "metadata": {},
   "source": [
    "## Example research question\n",
    "\n",
    "In the next section, we demonstrate how to combine spatial and biodiversity data in a practical example.\n",
    "\n",
    "Specifically, we will investigate whether there is a positive correlation between *Passer domesticus* (common name: `House Sparrow`, `English Sparrow`) density and settlement areas. Since house sparrows are known to prefer urban environments, this pattern should be visible using data from the IOER Monitor and LAND data.\n",
    "\n",
    "Additionally, we will examine population trends for house sparrows in Saxony. According to {cite:ts}`salek_house_2015`, an overall decline in house sparrow populations has been observed:\n",
    "\n",
    "> _Populations of House and Tree Sparrows have rapidly declined in various breeding habitats throughout their European distribution range; however, the strongest decline was recorded within urban environments._\n",
    "{cite:p}`salek_house_2015`\n",
    "\n",
    "But is this also true for Saxony? [Let’s explore whether the data supports this trend...](202_data_retrieval)"
   ]
  },
  {
   "cell_type": "markdown",
   "id": "ba23d9c4-c526-49a1-8dd0-bb5433816791",
   "metadata": {},
   "source": [
    "```{admonition} Summary\n",
    ":class: hint\n",
    "While Python offers multiple ways to process data, we will focus on a single approach without exploring alternative routes. Where further details are useful, cross-references to the reference documentation (Part III) or external sources are provided.\n",
    "```"
   ]
  },
  {
   "cell_type": "markdown",
   "id": "580fc4e8-a0c3-46f1-bef2-e862079da07a",
   "metadata": {},
   "source": [
    "## References\n",
    "\n",
    "```{bibliography}\n",
    ":style: unsrt\n",
    ":filter: docname in docnames\n",
    "```"
   ]
  }
 ],
 "metadata": {
  "kernelspec": {
   "display_name": "worker_env",
   "language": "python",
   "name": "worker_env"
  },
  "language_info": {
   "codemirror_mode": {
    "name": "ipython",
    "version": 3
   },
   "file_extension": ".py",
   "mimetype": "text/x-python",
   "name": "python",
   "nbconvert_exporter": "python",
   "pygments_lexer": "ipython3",
   "version": "3.11.6"
  }
 },
 "nbformat": 4,
 "nbformat_minor": 5
}
