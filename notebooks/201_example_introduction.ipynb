{
 "cells": [
  {
   "cell_type": "markdown",
   "id": "c6a6ca57-ac08-46bd-ba34-1f55132ba59f",
   "metadata": {},
   "source": [
    "# IOER-RDC and NFDI data example"
   ]
  },
  {
   "cell_type": "markdown",
   "id": "081a7254-cc04-45f6-8b46-473192251153",
   "metadata": {},
   "source": [
    "This section introduces a relatively linear walkthrough example. We will demonstrate a spatial data processing example from start to finish. We won't take alternative routes. Where further information is recommended, cross-references to the reference documentation (Part III) are provided. \n",
    "\n",
    "This section is based on two data sources:\n",
    "- [NFDI Gbif biodiversity data](https://www.nfdi4biodiversity.org/en/services/): Species observations as coordinates (vector data)\n",
    "- [IOER land use data](https://www.ioer-monitor.de/): Aggregated and processed BKI data that is provided in raster format (WCS)\n",
    "\n",
    "We will retrieve data from both sources and then use intersection and aggregation methods to create an integrated visualisation."
   ]
  },
  {
   "cell_type": "markdown",
   "id": "873b1ea8-5edd-4054-8344-d54c0086b335",
   "metadata": {},
   "source": [
    "## NFDI-Data – How and where to find the data?\n"
   ]
  },
  {
   "cell_type": "markdown",
   "id": "464497d7-271c-4e4a-b203-18056ed40b88",
   "metadata": {},
   "source": [
    "The NFDI4Biodiversity Species Observations data are available at https://land.gbif.de/.\n",
    "\n",
    "There are two ways to download data:\n",
    "- By searching and downloading individual data files\n",
    "- By using the [Species Application Programming Interface (API)](https://techdocs.gbif.org/en/openapi/v1/species) to programmatically access data\n",
    "\n",
    "In both cases and for larger downloads, registration is necessary. However, we can have a brief look at a small example query by using the Species API without a key. Let's find out about the English Sparrow, before we jump in to a more detailed dataset.\n",
    "\n",
    "Let's assume we want to find out the Scientific name, but we only have the common name for a species, e.g. the `English Sparrow`. We may hit Google. But then, what if we have a list of 500 species, or 5000 (etc.)?\n",
    "\n",
    "By trying, we can see that the gbif.org search provides the correct answer: [https://www.gbif.org/species/search?q=english%20sparrow](https://www.gbif.org/species/search?q=english%20sparrow).\n",
    "\n",
    "gbif.org internally also use their own API, so we may be able, too."
   ]
  },
  {
   "cell_type": "markdown",
   "id": "efbf8043-89d2-457b-8448-cef66ddca129",
   "metadata": {},
   "source": [
    "### NFDI-API\n",
    "\n",
    "```{figure} https://images.naturalis.nl/original/csr%2FD80_8153.jpg\n",
    ":name: sparrow-graphic\n",
    "\n",
    "The English Sparrow (GBIF.org).\n",
    "```"
   ]
  },
  {
   "cell_type": "markdown",
   "id": "c84b7fb5-6197-4596-9a06-f6562122f26e",
   "metadata": {},
   "source": [
    "- Retrieving data from APIs requires a specific syntax that is different for each service.\n",
    "- commonly, there is an **endpoint** (a url) that returns data in a structured format (e.g. **json**, see [Part III: Common spatial file formats](302_file_formats))\n",
    "- most APIs require you to authenticate, but not all (e.g. Instagram, commons.wikimedia.org)\n",
    "\n",
    "```{dropdown} How do I know how to work with APIs?\n",
    "Good APIs have documentation. The gbif.org API documentation even allows to try the API directly. Go to <a href=\"https://techdocs.gbif.org/en/openapi/v1/species#/Searching%20names/searchNames\">https://techdocs.gbif.org/en/openapi/v1/species#/Searching%20names/searchNames</a> and try the general species search for \"English Sparrow\". Enter this text in the field for `q (query)` (Simple full text search parameter.).\n",
    "```"
   ]
  },
  {
   "cell_type": "markdown",
   "id": "0f0ecd43-c0f1-4b42-a82f-3f1b5f222be5",
   "metadata": {},
   "source": [
    "We can do the same in Python. Load gbif search answer for a specific common name search. Get the scientific names matching \"English Sparrow\"."
   ]
  },
  {
   "cell_type": "code",
   "execution_count": 1,
   "id": "06e73fdb-5314-4101-b21a-cf78e4a14060",
   "metadata": {
    "tags": []
   },
   "outputs": [],
   "source": [
    "search_name = \"English Sparrow\"\n",
    "query_url = f'https://api.gbif.org/v1/species/search?q={search_name}'"
   ]
  },
  {
   "cell_type": "markdown",
   "id": "c32d8054-8e96-42c7-aea9-3101e15d8b33",
   "metadata": {},
   "source": [
    "(content:references:admonition)=\n",
    "```{admonition} Use your own common name!\n",
    ":class: dropdown, attention\n",
    "Optionally replace \"English Sparrow\" with another location above\n",
    "```"
   ]
  },
  {
   "cell_type": "markdown",
   "id": "175e9096-1794-42ad-aafd-38b1f1d290f7",
   "metadata": {},
   "source": [
    "```{admonition} **Syntax: f'{}' ?**\n",
    ":class: tip, dropdown\n",
    "This is called an f-string, [a convenient python convention](https://realpython.com/python-f-strings/) to concat strings and variables.\n",
    "```"
   ]
  },
  {
   "cell_type": "markdown",
   "id": "503b2ac9-1047-4c3d-9cc4-d399c728abd3",
   "metadata": {},
   "source": [
    "Get the json-answer from the API (without login!)."
   ]
  },
  {
   "cell_type": "code",
   "execution_count": 2,
   "id": "0ef953c3-b200-4689-9b46-8d8e5e13d78f",
   "metadata": {},
   "outputs": [],
   "source": [
    "import requests\n",
    "\n",
    "json_text = None\n",
    "response = requests.get(url=query_url)"
   ]
  },
  {
   "cell_type": "markdown",
   "id": "22a1c77b-39eb-45cb-98ca-15902c7dd4dc",
   "metadata": {},
   "source": [
    "The data can be found in `response.text` (in case the API answered)."
   ]
  },
  {
   "cell_type": "code",
   "execution_count": 3,
   "id": "4c8b5ead-5a09-4a46-b840-d5f02f71537e",
   "metadata": {},
   "outputs": [],
   "source": [
    "import json\n",
    "json_data = json.loads(response.text)"
   ]
  },
  {
   "cell_type": "markdown",
   "id": "e386e6cc-e2be-499b-a2f3-fadd1ab6e43e",
   "metadata": {
    "editable": true,
    "slideshow": {
     "slide_type": ""
    },
    "tags": []
   },
   "source": [
    "We can see that the correct answer, `Passer domesticus`, is hidden in the nested json structure:"
   ]
  },
  {
   "cell_type": "code",
   "execution_count": 4,
   "id": "91cfb0ee-03d6-4493-acdd-e4859eacd97d",
   "metadata": {
    "editable": true,
    "slideshow": {
     "slide_type": ""
    },
    "tags": []
   },
   "outputs": [
    {
     "name": "stdout",
     "output_type": "stream",
     "text": [
      "{\n",
      "  \"offset\": 0,\n",
      "  \"limit\": 20,\n",
      "  \"endOfRecords\": true,\n",
      "  \"count\": 5,\n",
      "  \"results\": [\n",
      "    {\n",
      "      \"key\": 100220560,\n",
      "      \"datasetKey\": \"b351a324-77c4-41c9-a909-f30f77268bc4\",\n",
      "      \"nubKey\": 5231190,\n",
      "      \"scientificName\": \"Passer domesticus\",\n",
      "      \"canonicalName\": \"Passer domesticus\",\n",
      "      \"nameType\": \"SCIENTIFIC\",\n",
      "      \"taxonomicStatus\": \"ACCEPTED\",\n",
      "      \"origin\": \"SOURCE\",\n",
      "      \"numDescendants\": 0,\n",
      "      \"numOccurrences\": 0,\n",
      "      \"taxonID\": \"420\",\n",
      "      \"habitats\": [],\n",
      "      \"nomenclaturalStatus\": [],\n",
      "      \"threatStatuses\": [],\n",
      "     \n"
     ]
    }
   ],
   "source": [
    "print(json.dumps(json_data, indent=2)[0:550])"
   ]
  },
  {
   "cell_type": "markdown",
   "id": "25db5eaa-e5a7-4fcd-a754-cf51cf45f707",
   "metadata": {},
   "source": [
    "We can access the most relevant first result and print this name directly. Below, we walk the json path from the `\"results\"`, which is a list, access the first entry by using `[0]` and the access its key of the name `scientificName`."
   ]
  },
  {
   "cell_type": "code",
   "execution_count": 5,
   "id": "1ca064f1-6b9c-41d4-bf05-c609fcfc4f65",
   "metadata": {
    "editable": true,
    "slideshow": {
     "slide_type": ""
    },
    "tags": []
   },
   "outputs": [
    {
     "data": {
      "text/plain": [
       "'Passer domesticus'"
      ]
     },
     "execution_count": 5,
     "metadata": {},
     "output_type": "execute_result"
    }
   ],
   "source": [
    "json_data[\"results\"][0][\"scientificName\"]"
   ]
  },
  {
   "cell_type": "markdown",
   "id": "9c204da7-38c2-4095-ba42-0aab22f059f2",
   "metadata": {
    "editable": true,
    "slideshow": {
     "slide_type": ""
    },
    "tags": []
   },
   "source": [
    "We can also see the taxon id, a unique reference within the GBIF database that we will need in the next chapter to query occurrences:\n",
    "(content:references:passer-id)="
   ]
  },
  {
   "cell_type": "code",
   "execution_count": 6,
   "id": "5d42dc69-7891-4bb7-8c36-958c8d86f0b9",
   "metadata": {
    "editable": true,
    "slideshow": {
     "slide_type": ""
    },
    "tags": []
   },
   "outputs": [
    {
     "data": {
      "text/plain": [
       "'420'"
      ]
     },
     "execution_count": 6,
     "metadata": {},
     "output_type": "execute_result"
    }
   ],
   "source": [
    "json_data[\"results\"][0][\"taxonID\"]"
   ]
  },
  {
   "cell_type": "markdown",
   "id": "633f8e8e-72db-485b-b0e6-204fe53e496c",
   "metadata": {
    "editable": true,
    "jp-MarkdownHeadingCollapsed": true,
    "slideshow": {
     "slide_type": ""
    },
    "tags": []
   },
   "source": [
    "`````{admonition} Continue in the next section..\n",
    ":class: seealso\n",
    "Passer domesticus will be our example species for which we will retrieve observations [in the next section](202_data_retrieval).\n",
    "`````"
   ]
  },
  {
   "cell_type": "markdown",
   "id": "0d5bdcab-edd6-4647-be50-9a0d018fab6d",
   "metadata": {},
   "source": [
    "## IÖR-Data – How and where to find the data?\n"
   ]
  },
  {
   "cell_type": "markdown",
   "id": "b450d2af-5ea2-4712-ad89-4a8065f80263",
   "metadata": {},
   "source": [
    "The IÖR-Monitor Data is available at [https://monitor.ioer.de/](https://monitor.ioer.de/). All IÖR-Monitor data is available as Web Feature Service (WFS) and Web Coverage Service (WCS).\n",
    "You can see a full list of services [here](https://monitor.ioer.de/monitor_api/services).\n",
    "\n",
    "```{figure} https://www.ioer-monitor.de/fileadmin/user_upload/monitor/img/Ergebnisse/siedlungsdichte.png\n",
    ":name: monitor-graphic\n",
    "\n",
    "Wie dicht leben wir? [IÖR Monitor data](https://www.ioer-monitor.de/ergebnisse/analyseergebnisse/wie-dicht-leben-wir/).\n",
    "```\n",
    "\n",
    "```{admonition} Registration necessary\n",
    ":class: warning\n",
    "To retrieve data from the IÖR-Monitor API, [registration is necessary](https://www.ioer-monitor.de/login/).\n",
    "\n",
    "In order to follow the steps below, you need to:\n",
    "1. Register [monitor.ioer.de/monitor_api/signup](https://monitor.ioer.de/monitor_api/signup),\n",
    "2. Create an API key,\n",
    "3. Store this API key in a file called `.env` as `API_KEY=xyz`\n",
    "```"
   ]
  },
  {
   "cell_type": "markdown",
   "id": "992a513a-b9ac-4ac9-a82b-30ddfa6e840f",
   "metadata": {},
   "source": [
    "```{admonition} Continue in the next section..\n",
    ":class: seealso\n",
    "[See the next section](202_data_retrieval) where we explain how to access the IÖR-WCS raster data for green cover in Saxony.\n",
    "```"
   ]
  },
  {
   "cell_type": "markdown",
   "id": "a6e66a00-2377-431a-b8e0-987f066d35a6",
   "metadata": {},
   "source": [
    "## Example research question\n",
    "\n",
    "Now we have a research question. In the following example workflow, we investigate whether there is a positive correlation between sparrow density and settlement areas. Since sparrows are known to prefer settled areas, this should be visible with the IÖR monitor and the NFDI4Biodiversity data.\n",
    "\n",
    "Furthermore, we want to see if there is a population trend for the sparrow in Saxony. {cite:ts}`salek_house_2015` observed an overall decreasing population trend for the sparrow.\n",
    "\n",
    "> _Populations of House and Tree Sparrows have rapidly declined in various breeding habitats throughout their European distribution range; however, the strongest decline was recorded within urban environments._\n",
    "{cite:p}`salek_house_2015`\n",
    "\n",
    "Is this also true for Saxony? [Let's see..](202_data_retrieval)"
   ]
  },
  {
   "cell_type": "markdown",
   "id": "580fc4e8-a0c3-46f1-bef2-e862079da07a",
   "metadata": {},
   "source": [
    "## References\n",
    "\n",
    "```{bibliography}\n",
    ":style: unsrt\n",
    ":filter: docname in docnames\n",
    "```"
   ]
  },
  {
   "cell_type": "code",
   "execution_count": null,
   "id": "ec2f9b07-cf5a-4b8f-a40f-314dbb2e06ea",
   "metadata": {},
   "outputs": [],
   "source": []
  }
 ],
 "metadata": {
  "kernelspec": {
   "display_name": "worker_env",
   "language": "python",
   "name": "worker_env"
  },
  "language_info": {
   "codemirror_mode": {
    "name": "ipython",
    "version": 3
   },
   "file_extension": ".py",
   "mimetype": "text/x-python",
   "name": "python",
   "nbconvert_exporter": "python",
   "pygments_lexer": "ipython3",
   "version": "3.12.7"
  }
 },
 "nbformat": 4,
 "nbformat_minor": 5
}
