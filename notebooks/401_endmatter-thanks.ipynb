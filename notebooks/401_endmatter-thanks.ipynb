{
 "cells": [
  {
   "cell_type": "markdown",
   "id": "1e56dec8-23db-4708-a7e2-27cbf09701f2",
   "metadata": {
    "editable": true,
    "slideshow": {
     "slide_type": ""
    },
    "tags": []
   },
   "source": [
    "# Thank you!\n",
    "\n",
    "These training materials would not have been possible without funding from the [NFDI4biodiversity funding (phase II)](https://www.nfdi4biodiversity.org/en/news/positive-signal-funding-phase-2/), for which we are grateful.\n",
    "\n",
    "We would also like to thank Fatemeh Rafiei, our NFDI intern, for her tremendous efforts and learning during the preparation of the **Reference Documentation** chapters.\n",
    "Thank you, Fatemeh! ❤️ \n",
    "\n",
    "Open science requires an open ecosystem. One that is accessible, where data is openly shared and not hidden behind complicated terms of use (ToS) or protective licenses.\n",
    "The [LAND - Lebendiger Atlas der Natur Deutschlands](https://land.gbif.de/) and [Global Biodiversity Information Facility (GBIF)](https://stag.training.fdz.ioer.info/notebooks/201_example_introduction.html#Gbif.org) show how such an open initiative can benefit all sciences.\n",
    "The GBIF API documentation is very well structured and easy to understand.\n",
    "\n",
    "We also thank all the IOER colleagues who collected and provided the information through the IOER Monitor API.\n",
    "\n",
    "We hope that these training materials are not a static output, but will be continuously maintained and updated to reflect and share future work.\n",
    "\n",
    "Please [let us know](mailto:fdz@ioer.de) what you think of this initiative and whether these training materials have been helpful to you. If you would like to contribute yourself, please have a look at the [Contributing section](../CONTRIBUTING)."
   ]
  },
  {
   "cell_type": "markdown",
   "id": "1aed1be7-debb-4d79-bc0c-1230a4ee0c75",
   "metadata": {},
   "source": [
    "## Contact "
   ]
  },
  {
   "cell_type": "markdown",
   "id": "0701cbce-b9b5-4d5c-adef-46221af54bdc",
   "metadata": {},
   "source": [
    "[Leibniz-Institut für ökologische Raumentwicklung](https://www.ioer.de/)  \n",
    "IOER Research Data Centre (IOER RDC)  \n",
    "Weberplatz 1, 01217 Dresden\n",
    "\n",
    "URL: [https://ioer-fdz.de/en](https://ioer-fdz.de/en)  \n",
    "E-Mail: fdz@ioer.de\n"
   ]
  },
  {
   "cell_type": "markdown",
   "id": "d54d376a-decb-43b3-a652-b3190c3bccb5",
   "metadata": {},
   "source": [
    "### Contact persons\n",
    "\n",
    "Dr. Claudia Dworczyk  \n",
    "c.dworczyk@ioer.de  \n",
    "phone +49 351 4679 280\n",
    "\n",
    "Dr. Alexander Dunkel  \n",
    "a.dunkel@ioer.de  \n",
    "phone +49 351 4679 148"
   ]
  },
  {
   "cell_type": "code",
   "execution_count": null,
   "id": "30ef6ae0-7073-4319-baec-e9b2e8ab13f3",
   "metadata": {},
   "outputs": [],
   "source": []
  }
 ],
 "metadata": {
  "kernelspec": {
   "display_name": "Python 3 (ipykernel)",
   "language": "python",
   "name": "python3"
  },
  "language_info": {
   "codemirror_mode": {
    "name": "ipython",
    "version": 3
   },
   "file_extension": ".py",
   "mimetype": "text/x-python",
   "name": "python",
   "nbconvert_exporter": "python",
   "pygments_lexer": "ipython3",
   "version": "3.12.9"
  }
 },
 "nbformat": 4,
 "nbformat_minor": 5
}
