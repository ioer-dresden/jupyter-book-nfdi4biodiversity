{
 "cells": [
  {
   "cell_type": "markdown",
   "id": "a17e5308-3a00-42ae-84a2-acdb678f7e7e",
   "metadata": {},
   "source": [
    "# Theory chapters \n",
    "\n",
    "Short descriptions, if possible with some nice figures. For more information: links to additional resources\n"
   ]
  },
  {
   "cell_type": "markdown",
   "id": "386fac77-8157-476c-85a7-0f83eda51af0",
   "metadata": {},
   "source": [
    "## FAIR Data"
   ]
  },
  {
   "cell_type": "markdown",
   "id": "294a2632-4527-49ac-9a3f-78310cfacbbf",
   "metadata": {},
   "source": [
    "## Data Provenance "
   ]
  },
  {
   "cell_type": "markdown",
   "id": "fea4756c-47f1-4e14-9b73-03fe0c261aef",
   "metadata": {},
   "source": [
    "## Geodata\n"
   ]
  },
  {
   "cell_type": "markdown",
   "id": "c8075554-1c12-41e3-bc18-f02b5a24493b",
   "metadata": {},
   "source": [
    "### Basic information about data formats\n"
   ]
  },
  {
   "cell_type": "markdown",
   "id": "03a644e7-d481-4fb8-8831-61cf0d9d083d",
   "metadata": {},
   "source": [
    "## Georeference / Projections\n"
   ]
  },
  {
   "cell_type": "markdown",
   "id": "826ddb12-95b5-47fc-807b-6ad9ec7d46bd",
   "metadata": {},
   "source": [
    "### Basic information about data formats\n",
    "sdssdsd \n",
    "\n",
    "sfdasfdasfd\n"
   ]
  },
  {
   "cell_type": "markdown",
   "id": "40dbe85b-b806-4b05-8113-d328eb1c5a72",
   "metadata": {},
   "source": [
    "## Metadata\n"
   ]
  },
  {
   "cell_type": "markdown",
   "id": "ce0cac23-6fdb-490c-b206-29ae855d3d90",
   "metadata": {},
   "source": [
    "## Licences \n"
   ]
  }
 ],
 "metadata": {
  "kernelspec": {
   "display_name": "worker_env",
   "language": "python",
   "name": "worker_env"
  },
  "language_info": {
   "codemirror_mode": {
    "name": "ipython",
    "version": 3
   },
   "file_extension": ".py",
   "mimetype": "text/x-python",
   "name": "python",
   "nbconvert_exporter": "python",
   "pygments_lexer": "ipython3",
   "version": "3.12.7"
  }
 },
 "nbformat": 4,
 "nbformat_minor": 5
}
