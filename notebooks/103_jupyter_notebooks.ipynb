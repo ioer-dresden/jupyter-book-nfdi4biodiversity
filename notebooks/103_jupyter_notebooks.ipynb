{
 "cells": [
  {
   "cell_type": "markdown",
   "id": "bb1b5b7f",
   "metadata": {},
   "source": [
    "# Getting familiar with Jupyter Notebook"
   ]
  },
  {
   "cell_type": "markdown",
   "id": "7d5a0bb8-0605-4443-87ef-b096a3c0ae9f",
   "metadata": {},
   "source": [
    "```{admonition} Summary\n",
    ":class: hint\n",
    "This chapter provides a brief introduction to the key components of the Jupyter Notebook environment. For a more detailed information, please see [jupyter.org](https://docs.jupyter.org/en/latest/).\n",
    "\n",
    "```"
   ]
  },
  {
   "cell_type": "markdown",
   "id": "4cf105cc",
   "metadata": {},
   "source": [
    "This project is built using **Jupyter Notebooks**, which are interactive documents that combine explanations, code, and outputs in one place. These individual notebooks have been combined into a larger structure to create this **Jupyter Book**, which organizes the content into chapters and pages for easier navigation.\n",
    "\n",
    "Learn more about [Jupyter Notebook](https://jupyter-notebook.readthedocs.io/en/latest/) and [Jupyter Book](https://jupyterbook.org/en/stable/intro.html). \n",
    "\n",
    "### How to use the Notebooks?\n",
    "\n",
    "The notebooks can be used in several ways:\n",
    "\n",
    "- **As a source of information**: Use the notebooks as a source of information by reading the main chapters and skipping sections that involve Python specifics.\n",
    "- **For code snippets**: Browse through the chapters and select and copy relevant code snippets to use in your own projects.\n",
    "- **Interactively**: Run the Jupyter Notebooks to explore and experiment  with the workflows, trying out the code and modifying it for your needs."
   ]
  },
  {
   "cell_type": "markdown",
   "id": "77dbb4b9-386f-4687-934a-6e0fb5c1e690",
   "metadata": {},
   "source": [
    "### How to copy code snippets?\n",
    "The page is organized into sections called ‘cells,’ which may include text explanations, images, or code.\n",
    "\n",
    "To copy a code snippet, click the copy icon in the top-right corner of the code cell. "
   ]
  },
  {
   "cell_type": "code",
   "execution_count": 1,
   "id": "51a63b99-4028-4f3f-9a82-98a587ae65b9",
   "metadata": {},
   "outputs": [],
   "source": [
    "## ADD picture of a code cell and the copy icon"
   ]
  },
  {
   "cell_type": "markdown",
   "id": "dbbb4d1f-f503-4451-b8a8-b6bb77821abb",
   "metadata": {},
   "source": [
    "```{admonition}\n",
    ":class: tip\n",
    "In Jupyter Notebooks, text cells use Markdown, a simple markup language for formatting notes, documents, presentations, and websites. Markdown works across all operating systems and is converted to HTML for display in web browsers.\n",
    "\n",
    "Learn more about using [Markdown](https://www.markdownguide.org/getting-started/).\n",
    "\n",
    "```"
   ]
  },
  {
   "cell_type": "markdown",
   "id": "10e830a5-71de-42b8-86e5-7099b4a820aa",
   "metadata": {},
   "source": [
    "### How to run the Jupyter Notebooks interactively?"
   ]
  },
  {
   "cell_type": "code",
   "execution_count": 3,
   "id": "52a448ac-a6f4-4400-aa21-86a53b0cfa17",
   "metadata": {},
   "outputs": [],
   "source": [
    "# Add explaination binder?"
   ]
  },
  {
   "cell_type": "markdown",
   "id": "ba6eabbe",
   "metadata": {},
   "source": [
    "### Basic key commands \n",
    "\n",
    "- <kbd>SHIFT + ENTER</kbd> → Run the current cell and go to the next\n",
    "- <kbd>CTRL + ENTER</kbd> → Run multiple selected cells\n",
    "- <kbd>CTRL + X</kbd> → Cut selected cells\n",
    "- <kbd>d d (press d twice)</kbd> → Delete selected cells\n"
   ]
  },
  {
   "cell_type": "markdown",
   "id": "b14b6612",
   "metadata": {},
   "source": [
    "### Packages and Libraries"
   ]
  },
  {
   "cell_type": "markdown",
   "id": "093a0cb3",
   "metadata": {},
   "source": [
    "In Python, **packages** and **libraries** are collections of pre-written code that help you to perform various tasks more easily. Each package or library are designed for a specific purpose, such as visualising data.\n",
    "To run the workflows of this notebook sucessfully, you need to have the required packages or library installed on your computer."
   ]
  },
  {
   "cell_type": "markdown",
   "id": "1624bda4",
   "metadata": {},
   "source": [
    "```{admonition}\n",
    ":class: question\n",
    "Not familiar with packages or libraries or their application? Just visit the lists below or the [Python Standard Library](https://docs.python.org/3/library/index.html) (https://www.geeksforgeeks.org/python-packages/?ref=shm). \n",
    "```"
   ]
  },
  {
   "cell_type": "markdown",
   "id": "292cc3ff",
   "metadata": {},
   "source": [
    "<details>\n",
    "<summary><strong>Selected standard library modules (pre-installed with Python)</strong></summary>\n",
    "    \n",
    "- [csv](https://docs.python.org/3/library/csv.html):                CSV file reading and writing\n",
    "- [sys](https://docs.python.org/3/library/sys.html):                System-specific parameters and functions\n",
    "- [pathlib](https://docs.python.org/3/library/pathlib.html): Object-oriented filesystem paths\n",
    "- [collections](https://docs.python.org/3/library/collections.html): Container datatypes\n",
    "- [typing](https://docs.python.org/3/library/typing.html): Support for type hints\n",
    "- [os](https://docs.python.org/3/library/os.html): Miscellaneous operating system interfaces\n",
    "      \n",
    "</details>\n"
   ]
  },
  {
   "cell_type": "markdown",
   "id": "10aa6371",
   "metadata": {},
   "source": [
    "<details>\n",
    "<summary><strong> Selected third-Party packages and libaries (require installation)</strong></summary> \n",
    "    \n",
    "- [shapely](https://shapely.readthedocs.io/en/latest/manual.html): Geometric operations and spatial queries\n",
    "- [numpy](https://numpy.org/): Numerical computing and array operations\n",
    "- [holoviews](https://holoviews.org/): High-level data visualization framework\n",
    "- [geoviews](https://geoviews.org/): Geographic data visualizations for HoloViews\n",
    "- [geopandas](https://geopandas.org): Geospatial data manipulation using pandas.\n",
    "- [pyproj](https://pypi.org/project/pyproj/): Cartographic projections and coordinate transformations library\n",
    "- [cartopy](https://github.com/SciTools/cartopy): Drawing maps for data analysis and visualisation\n",
    "- [bokeh](https://github.com/bokeh/bokeh): Interactive web-based visualizations with JavaScript integration.\n",
    "- [matplotlib](https://matplotlib.org/): Plotting and data visualization library\n",
    "- [ggplot2](https://ggplot2.tidyverse.org/): System for declaratively creating graphics\n",
    "  \n",
    "</details>"
   ]
  },
  {
   "cell_type": "markdown",
   "id": "4e3c496d",
   "metadata": {},
   "source": [
    "```{admonition}\n",
    ":class: note\n",
    "Before using a package or library, you need to install it first (if it's not already installed) and then import it into your code.\n",
    "```"
   ]
  },
  {
   "cell_type": "markdown",
   "id": "8a8d397d-6d71-403c-a1d4-69d48f79068b",
   "metadata": {},
   "source": [
    "Code example"
   ]
  },
  {
   "cell_type": "code",
   "execution_count": 2,
   "id": "93f8bb49-bb1e-4639-9a10-86c8ea373565",
   "metadata": {},
   "outputs": [],
   "source": [
    "# Code example"
   ]
  },
  {
   "cell_type": "markdown",
   "id": "842d2c11",
   "metadata": {},
   "source": [
    "## How to install packages and libraries in JupyterLab"
   ]
  },
  {
   "cell_type": "markdown",
   "id": "dab127cc",
   "metadata": {},
   "source": [
    "For installing the new packages in the JupyterLab a new Launcher tab needed."
   ]
  },
  {
   "cell_type": "markdown",
   "id": "56f16724",
   "metadata": {},
   "source": [
    "Launcher tab opens by default when you start JupyterLab, otherwise you can open it by going to the menu bar and selecting File and then New Launcher :"
   ]
  },
  {
   "cell_type": "markdown",
   "id": "fb2cde97",
   "metadata": {},
   "source": [
    "![../resources/4.png](../resources/4.png)"
   ]
  },
  {
   "cell_type": "markdown",
   "id": "68463d4d",
   "metadata": {},
   "source": [
    "Also it is accessible by pressing the `+` sign, if you already have a notebook opened :"
   ]
  },
  {
   "cell_type": "markdown",
   "id": "5ba0be28",
   "metadata": {},
   "source": [
    "![../resources/1.png](../resources/1.png)"
   ]
  },
  {
   "cell_type": "markdown",
   "id": "6af08bf4",
   "metadata": {},
   "source": [
    "In the Launcher tab, click on Terminal to open a new terminal window:"
   ]
  },
  {
   "cell_type": "markdown",
   "id": "ebde72a2",
   "metadata": {},
   "source": [
    "![../resources/2.png](../resources/2.png)"
   ]
  },
  {
   "cell_type": "markdown",
   "id": "ea3f1b29",
   "metadata": {},
   "source": [
    "In the terminal window, you might see the current directory activated as a prompt like the following figure:"
   ]
  },
  {
   "cell_type": "markdown",
   "id": "224f1be1",
   "metadata": {},
   "source": [
    "![../resources/3.png](../resources/3.png)"
   ]
  },
  {
   "cell_type": "markdown",
   "id": "17eaff9c",
   "metadata": {},
   "source": [
    "The pip commands can be used to install packages. To install a package, use the \"pip install\" keyword followed by the \"package name\":\n",
    "- **Example:**     pip install pandas :"
   ]
  },
  {
   "cell_type": "markdown",
   "id": "5b0e91b6",
   "metadata": {},
   "source": [
    "![../resources/5.png](../resources/5.png)"
   ]
  },
  {
   "cell_type": "markdown",
   "id": "361952a0",
   "metadata": {},
   "source": [
    "Installation is complete by indicating a message whether the installation was successful and the command prompt appears again, to enter new commands :"
   ]
  },
  {
   "cell_type": "markdown",
   "id": "cda1bf5c",
   "metadata": {},
   "source": [
    "![../resources/6.png](../resources/6.png)"
   ]
  },
  {
   "cell_type": "markdown",
   "id": "de9ed5a0",
   "metadata": {},
   "source": [
    "## How to import Packages and Libraries"
   ]
  },
  {
   "cell_type": "markdown",
   "id": "48bdafa7",
   "metadata": {},
   "source": [
    "After successfully installing the package, you need to import it in your notebook to be able to use their functions."
   ]
  },
  {
   "cell_type": "markdown",
   "id": "f14a0dc9",
   "metadata": {},
   "source": [
    "Create a new code cell where you can write your statements. To import a package, use the \"import\" keyword followed by the \"package name\". \n",
    "- **Example:** import pandas\n",
    "\n",
    "Or to make it easier to call during coding use an alias :\n",
    "\n",
    "- **Example:** import pandas as pd\n"
   ]
  },
  {
   "cell_type": "markdown",
   "id": "a3ae5cc6",
   "metadata": {},
   "source": [
    "![../resources/7.png](../resources/7.png)"
   ]
  },
  {
   "cell_type": "markdown",
   "id": "2bc2abb9",
   "metadata": {},
   "source": [
    "This cell is not showing any output unless the package or library not installed successfully :"
   ]
  },
  {
   "cell_type": "markdown",
   "id": "11aff1a2",
   "metadata": {},
   "source": [
    "![../resources/8.png](../resources/8.png)"
   ]
  },
  {
   "cell_type": "markdown",
   "id": "cd6da249",
   "metadata": {},
   "source": [
    "If the installation was successful but still the issue persists, it could be due to using the wrong environment or kernel."
   ]
  },
  {
   "cell_type": "markdown",
   "id": "a9d83e3c",
   "metadata": {},
   "source": [
    "- Wrong Environment: Package or Library is not installed in the current environment:\n",
    "  \n",
    "  **Solution:** Activate the correct environment, then restart Jupyter.\n",
    "\n"
   ]
  },
  {
   "cell_type": "markdown",
   "id": "973d8099",
   "metadata": {},
   "source": [
    "- Wrong Kernel: Package or Library is not installed in the selected Jupyter kernel.\n",
    "\n",
    "  **Solution:** Switch to the correct kernel via the upper-right menu in Jupyter.\n",
    " \n",
    "  \n"
   ]
  },
  {
   "cell_type": "markdown",
   "id": "1b062dd8",
   "metadata": {},
   "source": [
    "![../resources/9.png](../resources/9.png)"
   ]
  },
  {
   "cell_type": "code",
   "execution_count": null,
   "id": "00f1845d",
   "metadata": {},
   "outputs": [],
   "source": []
  }
 ],
 "metadata": {
  "kernelspec": {
   "display_name": "worker_env",
   "language": "python",
   "name": "worker_env"
  },
  "language_info": {
   "codemirror_mode": {
    "name": "ipython",
    "version": 3
   },
   "file_extension": ".py",
   "mimetype": "text/x-python",
   "name": "python",
   "nbconvert_exporter": "python",
   "pygments_lexer": "ipython3",
   "version": "3.12.7"
  }
 },
 "nbformat": 4,
 "nbformat_minor": 5
}
