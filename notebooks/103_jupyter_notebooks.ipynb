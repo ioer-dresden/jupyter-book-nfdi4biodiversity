{
 "cells": [
  {
   "cell_type": "markdown",
   "id": "bb1b5b7f",
   "metadata": {},
   "source": [
    "# Getting familiar with Jupyter Notebook\n"
   ]
  },
  {
   "cell_type": "markdown",
   "id": "4cf105cc",
   "metadata": {},
   "source": [
    "## Open Jupyter Notebooks / Load existing notebooks\n"
   ]
  },
  {
   "cell_type": "markdown",
   "id": "ba6eabbe",
   "metadata": {},
   "source": [
    "## Key commands\n",
    "\n",
    "- <kbd>CTRL+SHIFT+ENTER</kbd> - Run cell and go to the next\n",
    "- <kbd>CTRL+X</kbd> - Cut selected cells\n",
    "- <kbd>d d</kbd> - (2x `d`) Delete selected cells\n"
   ]
  },
  {
   "cell_type": "markdown",
   "id": "ecaaaff0",
   "metadata": {},
   "source": [
    "## Markdown – How to use text\n"
   ]
  },
  {
   "cell_type": "markdown",
   "id": "b14b6612",
   "metadata": {},
   "source": [
    "# Packages and Libraries\n"
   ]
  },
  {
   "cell_type": "markdown",
   "id": "093a0cb3",
   "metadata": {},
   "source": [
    "This section is all about getting familiar with **packages** and **libraries** in Python.\n",
    "To successfully run the notebook and complete the exercises, You need to make sure all necessary packages or libraries are installed. \n"
   ]
  },
  {
   "cell_type": "markdown",
   "id": "6af87932",
   "metadata": {},
   "source": [
    "## What are the Packages and Libraries"
   ]
  },
  {
   "cell_type": "markdown",
   "id": "bdebf6cf",
   "metadata": {},
   "source": [
    "**Packages** and **Libraries** in Python are collections of pre-written code that help you perform a range of tasks such as analysis, without \n",
    "coding everything from the basic steps and enabling you to focus on higher-level tasks such as handling data or creating visualizations. Each package or library designed for a specific purpose, such as visualizing information.\n"
   ]
  },
  {
   "cell_type": "markdown",
   "id": "1624bda4",
   "metadata": {},
   "source": [
    "**Not familiar with packages or libraries or their application?** Just visit the lists below or [here](https://www.geeksforgeeks.org/python-packages/?ref=shm)"
   ]
  },
  {
   "cell_type": "markdown",
   "id": "292cc3ff",
   "metadata": {},
   "source": [
    "<details>\n",
    "<summary><strong>List of Packages</strong></summary>\n",
    "    \n",
    "- **csv:**               CSV file reading and writing.\n",
    "- **sys:**               System-specific parameters and functions.\n",
    "- **psycopg2:**          PostgreSQL database adapter for Python.\n",
    "- **pathlib:**           Path manipulation and file management.\n",
    "- **collections:**       Specialized data containers (like namedtuple).\n",
    "- **typing:**            Type hinting for Python functions.\n",
    "- **shapely.speedups:**  Speed enhancements for shapely geometric operations.\n",
    "- **shapely.geometry:**  Handles geometric objects like Point, Polygon.\n",
    "- **os:**                Operating system interaction utilities.\n",
    "\n",
    "        \n",
    "</details>\n"
   ]
  },
  {
   "cell_type": "markdown",
   "id": "10aa6371",
   "metadata": {},
   "source": [
    "<details>\n",
    "<summary><strong>  List of Libraries</strong></summary>\n",
    "    \n",
    "- **colorcet:** Colormap utilities for data visualization.\n",
    "- **geoviews:** Geographic data visualization in Python.\n",
    "- **holoviews:** High-level data visualization framework.\n",
    "- **mapclassify:** Spatial data classification for mapping.\n",
    "- **geopandas:** Geospatial data manipulation in pandas.\n",
    "- **pyproj:** Cartographic projections and coordinate transformations.\n",
    "- **shapely:** Geometric operations and spatial queries.\n",
    "- **cartopy:** Geospatial plotting and map projections.\n",
    "- **bokeh:** Interactive web-based visualizations with JavaScript integration.\n",
    "- **matplotlib:** Plotting and data visualization library.\n",
    "- **IPython.display:** Interactive rich output display in Jupyter.\n",
    "- **Numpy:** Numerical computing and array operations.\n",
    "  \n",
    "</details>"
   ]
  },
  {
   "cell_type": "markdown",
   "id": "4e3c496d",
   "metadata": {},
   "source": [
    "- **NOTE:** The Packages and Libraries should install and then import in the notebook to be usable."
   ]
  },
  {
   "cell_type": "markdown",
   "id": "842d2c11",
   "metadata": {},
   "source": [
    "## How to install Packages and Libraries"
   ]
  },
  {
   "cell_type": "markdown",
   "id": "dab127cc",
   "metadata": {},
   "source": [
    "For installing the new packages in the JupyterLab a new Launcher tab needed."
   ]
  },
  {
   "cell_type": "markdown",
   "id": "56f16724",
   "metadata": {},
   "source": [
    "Launcher tab opens by default when you start JupyterLab, otherwise you can open it by going to the menu bar and selecting File and then New Launcher :"
   ]
  },
  {
   "cell_type": "markdown",
   "id": "fb2cde97",
   "metadata": {},
   "source": [
    "![../resources/4.png](../resources/4.png)"
   ]
  },
  {
   "cell_type": "markdown",
   "id": "68463d4d",
   "metadata": {},
   "source": [
    "Also it is accessible by pressing the `+` sign, if you already have a notebook opened :"
   ]
  },
  {
   "cell_type": "markdown",
   "id": "5ba0be28",
   "metadata": {},
   "source": [
    "![../resources/1.png](../resources/1.png)"
   ]
  },
  {
   "cell_type": "markdown",
   "id": "d1fd0920",
   "metadata": {},
   "source": [
    "![../resources/1.png](../resources/1.png)\n"
   ]
  },
  {
   "cell_type": "markdown",
   "id": "6af08bf4",
   "metadata": {},
   "source": [
    "In the Launcher tab, click on Terminal to open a new terminal window:"
   ]
  },
  {
   "cell_type": "markdown",
   "id": "ebde72a2",
   "metadata": {},
   "source": [
    "![../resources/2.png](../resources/2.png)"
   ]
  },
  {
   "cell_type": "markdown",
   "id": "ea3f1b29",
   "metadata": {},
   "source": [
    "In the terminal window, you might see the current directory activated as a prompt like the following figure:"
   ]
  },
  {
   "cell_type": "markdown",
   "id": "224f1be1",
   "metadata": {},
   "source": [
    "![../resources/3.png](../resources/3.png)"
   ]
  },
  {
   "cell_type": "markdown",
   "id": "17eaff9c",
   "metadata": {},
   "source": [
    "The pip commands can be used to install packages. To install a package, use the \"pip install\" keyword followed by the \"package name\":\n",
    "- **Example:**     pip install pandas :"
   ]
  },
  {
   "cell_type": "markdown",
   "id": "5b0e91b6",
   "metadata": {},
   "source": [
    "![../resources/5.png](../resources/5.png)"
   ]
  },
  {
   "cell_type": "markdown",
   "id": "361952a0",
   "metadata": {},
   "source": [
    "Installation is complete by indicating a message whether the installation was successful and the command prompt appears again, to enter new commands :"
   ]
  },
  {
   "cell_type": "markdown",
   "id": "cda1bf5c",
   "metadata": {},
   "source": [
    "![../resources/6.png](../resources/6.png)"
   ]
  },
  {
   "cell_type": "markdown",
   "id": "de9ed5a0",
   "metadata": {},
   "source": [
    "## How to import Packages and Libraries"
   ]
  },
  {
   "cell_type": "markdown",
   "id": "48bdafa7",
   "metadata": {},
   "source": [
    "After successfully installing the package, you need to import it in your notebook to be able to use their functions."
   ]
  },
  {
   "cell_type": "markdown",
   "id": "f14a0dc9",
   "metadata": {},
   "source": [
    "Create a new code cell where you can write your statements. To import a package, use the \"import\" keyword followed by the \"package name\". \n",
    "- **Example:** import pandas\n",
    "\n",
    "Or to make it easier to call during coding use an alias :\n",
    "\n",
    "- **Example:** import pandas as pd\n"
   ]
  },
  {
   "cell_type": "markdown",
   "id": "a3ae5cc6",
   "metadata": {},
   "source": [
    "![../resources/7.png](../resources/7.png)"
   ]
  },
  {
   "cell_type": "markdown",
   "id": "2bc2abb9",
   "metadata": {},
   "source": [
    "This cell is not showing any output unless the package or library not installed successfully :"
   ]
  },
  {
   "cell_type": "markdown",
   "id": "11aff1a2",
   "metadata": {},
   "source": [
    "![../resources/8.png](../resources/8.png)"
   ]
  },
  {
   "cell_type": "markdown",
   "id": "cd6da249",
   "metadata": {},
   "source": [
    "If the installation was successful but still the issue persists, it could be due to using the wrong environment or kernel."
   ]
  },
  {
   "cell_type": "markdown",
   "id": "a9d83e3c",
   "metadata": {},
   "source": [
    "- Wrong Environment: Package or Library is not installed in the current environment:\n",
    "  \n",
    "  **Solution:** Activate the correct environment, then restart Jupyter.\n",
    "\n"
   ]
  },
  {
   "cell_type": "markdown",
   "id": "973d8099",
   "metadata": {},
   "source": [
    "- Wrong Kernel: Package or Library is not installed in the selected Jupyter kernel.\n",
    "\n",
    "  **Solution:** Switch to the correct kernel via the upper-right menu in Jupyter.\n",
    " \n",
    "  \n"
   ]
  },
  {
   "cell_type": "markdown",
   "id": "1b062dd8",
   "metadata": {},
   "source": [
    "![../resources/9.png](../resources/9.png)"
   ]
  },
  {
   "cell_type": "code",
   "execution_count": null,
   "id": "00f1845d",
   "metadata": {},
   "outputs": [],
   "source": []
  }
 ],
 "metadata": {
  "kernelspec": {
   "display_name": "worker_env",
   "language": "python",
   "name": "worker_env"
  },
  "language_info": {
   "codemirror_mode": {
    "name": "ipython",
    "version": 3
   },
   "file_extension": ".py",
   "mimetype": "text/x-python",
   "name": "python",
   "nbconvert_exporter": "python",
   "pygments_lexer": "ipython3",
   "version": "3.12.7"
  }
 },
 "nbformat": 4,
 "nbformat_minor": 5
}
