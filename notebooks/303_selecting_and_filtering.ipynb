{
 "cells": [
  {
   "cell_type": "markdown",
   "id": "b06fb7e5-c138-4964-a770-5c033bea9f06",
   "metadata": {
    "editable": true,
    "slideshow": {
     "slide_type": ""
    },
    "tags": []
   },
   "source": [
    "# Selecting and Filtering Data"
   ]
  },
  {
   "cell_type": "markdown",
   "id": "c27b5fac-0b51-466d-9f32-0b3a28690615",
   "metadata": {
    "editable": true,
    "slideshow": {
     "slide_type": ""
    },
    "tags": []
   },
   "source": [
    "```{admonition} Summary\n",
    ":class: hint\n",
    "\n",
    "\n",
    "```"
   ]
  },
  {
   "cell_type": "markdown",
   "id": "3b124819-544c-4a2d-b798-0b5026604022",
   "metadata": {
    "editable": true,
    "slideshow": {
     "slide_type": ""
    },
    "tags": []
   },
   "source": [
    "For analyzing the data, if the data is huge, the processing with Jupyter will take more time, or sometimes the result will not be visualized. So the data could be limited to small parts by selecting the data of interest."
   ]
  },
  {
   "cell_type": "markdown",
   "id": "3f055b6f-3f87-423d-94fb-1e36ea2b1d8f",
   "metadata": {
    "editable": true,
    "slideshow": {
     "slide_type": ""
    },
    "tags": []
   },
   "source": [
    "Load data first."
   ]
  },
  {
   "cell_type": "code",
   "execution_count": 9,
   "id": "807fd779-91a7-450d-816b-02062446fefc",
   "metadata": {
    "editable": true,
    "slideshow": {
     "slide_type": ""
    },
    "tags": [
     "hide_input"
    ]
   },
   "outputs": [],
   "source": [
    "import geopandas as gp\n",
    "import pandas as pd\n",
    "from pathlib import Path\n",
    "\n",
    "INPUT = Path.cwd().parents[0] / \"00_data\"\n",
    "gdb_path = INPUT / \"LBM_2018_IS_DD_gdb\" / \"LBM_2018_IS_DD.gdb\"\n",
    "\n",
    "gdf = gp.read_file(gdb_path, layer=\"LBM2018_IS_DD\")"
   ]
  },
  {
   "cell_type": "markdown",
   "id": "c5a88b56-1579-4f7f-9ce4-bb7e3df380f4",
   "metadata": {
    "editable": true,
    "slideshow": {
     "slide_type": ""
    },
    "tags": []
   },
   "source": [
    "The headers (attributes) of the data are called."
   ]
  },
  {
   "cell_type": "code",
   "execution_count": 10,
   "id": "2ba03ceb-80b2-46b2-81ff-9f0c2ad0164a",
   "metadata": {
    "editable": true,
    "slideshow": {
     "slide_type": ""
    },
    "tags": []
   },
   "outputs": [
    {
     "data": {
      "text/plain": [
       "['KS_IS',\n",
       " 'CLC_st1',\n",
       " 'CLC18',\n",
       " 'CLC',\n",
       " 'Biotpkt2018',\n",
       " 'Shape_Length',\n",
       " 'Shape_Area',\n",
       " 'geometry']"
      ]
     },
     "execution_count": 10,
     "metadata": {},
     "output_type": "execute_result"
    }
   ],
   "source": [
    "list(gdf.columns)"
   ]
  },
  {
   "cell_type": "markdown",
   "id": "c719fe5c-0583-408b-9ff4-2edb5c0cfa25",
   "metadata": {
    "editable": true,
    "slideshow": {
     "slide_type": ""
    },
    "tags": []
   },
   "source": [
    "It is important to have information about the format of each attribute. "
   ]
  },
  {
   "cell_type": "markdown",
   "id": "2488bae7-6dcb-4033-bcd0-6ff65d415d98",
   "metadata": {
    "editable": true,
    "slideshow": {
     "slide_type": ""
    },
    "tags": []
   },
   "source": [
    "`````{admonition} Essentials of Attribute Formatting\n",
    ":class: note\n",
    "When working with attributes:\n",
    "- Use quotes ('  ') for text or numbers stored as string (object) format\n",
    "- For numeric values (like integers or floats), use them directly without quotes.\n",
    "\n",
    "`````"
   ]
  },
  {
   "cell_type": "code",
   "execution_count": 11,
   "id": "512efd9a-9467-4003-82c8-bae735eb3ddc",
   "metadata": {
    "editable": true,
    "slideshow": {
     "slide_type": ""
    },
    "tags": []
   },
   "outputs": [
    {
     "data": {
      "text/plain": [
       "KS_IS             object\n",
       "CLC_st1           object\n",
       "CLC18             object\n",
       "CLC              float64\n",
       "Biotpkt2018      float64\n",
       "Shape_Length     float64\n",
       "Shape_Area       float64\n",
       "geometry        geometry\n",
       "dtype: object"
      ]
     },
     "execution_count": 11,
     "metadata": {},
     "output_type": "execute_result"
    }
   ],
   "source": [
    "gdf.dtypes"
   ]
  },
  {
   "cell_type": "markdown",
   "id": "7c10d761-cbb2-4f16-bad2-435db2e180e1",
   "metadata": {
    "editable": true,
    "slideshow": {
     "slide_type": ""
    },
    "tags": []
   },
   "source": [
    "```{figure} ../resources/22.png\n",
    ":name: figure-example\n",
    "\n",
    "Attributes in Dataset Based on the Metadata\n",
    "````\n"
   ]
  },
  {
   "cell_type": "markdown",
   "id": "6def3900-da4c-45f2-a341-7ed4859b1431",
   "metadata": {
    "editable": true,
    "slideshow": {
     "slide_type": ""
    },
    "tags": []
   },
   "source": [
    "## Unique Values Selection\n"
   ]
  },
  {
   "cell_type": "markdown",
   "id": "1b50c5d7-e24b-464b-ab2c-e9cde97724e5",
   "metadata": {
    "editable": true,
    "slideshow": {
     "slide_type": ""
    },
    "tags": []
   },
   "source": [
    "The `unique` function returns all distinct values of an attribute.\n"
   ]
  },
  {
   "cell_type": "markdown",
   "id": "49909dfc-28ab-49d7-bd5d-8860c3fd0317",
   "metadata": {
    "editable": true,
    "slideshow": {
     "slide_type": ""
    },
    "tags": []
   },
   "source": [
    "**ex:** In this dataset, the `CLC_st1` attribute might have some identical values for land use (such as '313' for mixed forest or '512' for water bodies) but multiple features in the dataset recorded as mixed forest or water bodies."
   ]
  },
  {
   "cell_type": "markdown",
   "id": "00d19c29-d3b7-4f89-9653-19f0a358ec2c",
   "metadata": {
    "editable": true,
    "slideshow": {
     "slide_type": ""
    },
    "tags": []
   },
   "source": [
    "```{figure} ../resources/19.png\n",
    ":name: figure-example\n",
    "\n",
    "Classification Code Interpretation\n",
    "````\n"
   ]
  },
  {
   "cell_type": "markdown",
   "id": "8c965d60-c845-45bf-a964-eeb620843d77",
   "metadata": {
    "editable": true,
    "slideshow": {
     "slide_type": ""
    },
    "tags": []
   },
   "source": [
    "By defining the attribute of interest in this example \"KS_IS\", the unique values in this attribute are visualized."
   ]
  },
  {
   "cell_type": "code",
   "execution_count": 12,
   "id": "b951eef9-e747-498d-93b0-754f2963da04",
   "metadata": {
    "editable": true,
    "slideshow": {
     "slide_type": ""
    },
    "tags": []
   },
   "outputs": [
    {
     "data": {
      "text/plain": [
       "array(['SV', 'HW', 'BV', 'FV', 'WW', 'WP', 'FG', 'GT', 'FL', 'BN', 'BNL',\n",
       "       'BL', 'HE', None], dtype=object)"
      ]
     },
     "execution_count": 12,
     "metadata": {},
     "output_type": "execute_result"
    }
   ],
   "source": [
    "unique_groups = gdf['KS_IS'].unique()\n",
    "unique_groups"
   ]
  },
  {
   "cell_type": "markdown",
   "id": "d647cc8c-8613-4c0f-8e5d-4b28f5c1a239",
   "metadata": {
    "editable": true,
    "slideshow": {
     "slide_type": ""
    },
    "tags": []
   },
   "source": [
    "```{figure} ../resources/21.png\n",
    ":name: figure-example\n",
    "Interpretation of the values in the \"KS_IS\" attribute\n",
    "````\n"
   ]
  },
  {
   "cell_type": "markdown",
   "id": "2f18b8dc-7521-4734-b96a-e8b23d10b452",
   "metadata": {
    "editable": true,
    "slideshow": {
     "slide_type": ""
    },
    "tags": []
   },
   "source": [
    "Also the number of the unique values can be accessed by `nunique` function."
   ]
  },
  {
   "cell_type": "code",
   "execution_count": 13,
   "id": "bd06218a-dba6-4eee-9c9b-8606cc18cba0",
   "metadata": {
    "editable": true,
    "slideshow": {
     "slide_type": ""
    },
    "tags": []
   },
   "outputs": [
    {
     "data": {
      "text/plain": [
       "13"
      ]
     },
     "execution_count": 13,
     "metadata": {},
     "output_type": "execute_result"
    }
   ],
   "source": [
    "unique_numbers = gdf['KS_IS'].nunique()\n",
    "unique_numbers"
   ]
  },
  {
   "cell_type": "markdown",
   "id": "556b9aea-738f-4adb-8332-93f65c9d531e",
   "metadata": {
    "editable": true,
    "slideshow": {
     "slide_type": ""
    },
    "tags": []
   },
   "source": [
    "`````{admonition} None values in nunique function!\n",
    ":class: danger\n",
    "\n",
    "By default, the `nunique` function does not count null or missing values.\n",
    "`````"
   ]
  },
  {
   "cell_type": "markdown",
   "id": "a619b0dc-74ba-4c36-8944-006421c76cd4",
   "metadata": {
    "editable": true,
    "slideshow": {
     "slide_type": ""
    },
    "tags": []
   },
   "source": [
    "For including the `None` values as unique values, `dropna` parameter should modify to False."
   ]
  },
  {
   "cell_type": "code",
   "execution_count": 14,
   "id": "a451041a-448f-4f26-bd8a-f68e9e731f30",
   "metadata": {
    "editable": true,
    "slideshow": {
     "slide_type": ""
    },
    "tags": []
   },
   "outputs": [
    {
     "data": {
      "text/plain": [
       "14"
      ]
     },
     "execution_count": 14,
     "metadata": {},
     "output_type": "execute_result"
    }
   ],
   "source": [
    "unique_numbers = gdf['KS_IS'].nunique(dropna = False)\n",
    "unique_numbers"
   ]
  },
  {
   "cell_type": "markdown",
   "id": "51435382-3623-4703-9860-7e34f4e6f4ae",
   "metadata": {
    "editable": true,
    "slideshow": {
     "slide_type": ""
    },
    "tags": []
   },
   "source": [
    "The frequency of each unique value can be counted using the `groupby` method.\n"
   ]
  },
  {
   "cell_type": "markdown",
   "id": "62d3f8fe-52a2-437e-9b5e-d7c7c048cda3",
   "metadata": {
    "editable": true,
    "slideshow": {
     "slide_type": ""
    },
    "tags": []
   },
   "source": [
    "The data then is grouped by unique values, and the number of entries in each group is calculated using the `size` function."
   ]
  },
  {
   "cell_type": "markdown",
   "id": "38d69870-85ca-45f9-a72b-ae112bb21933",
   "metadata": {
    "editable": true,
    "slideshow": {
     "slide_type": ""
    },
    "tags": []
   },
   "source": [
    "In the following example, just 1 feature recorded for the category of BNL, while the category of WP has 1768 records in this dataset."
   ]
  },
  {
   "cell_type": "markdown",
   "id": "74373811-16e0-4d05-a9e8-447f870d0d41",
   "metadata": {
    "editable": true,
    "slideshow": {
     "slide_type": ""
    },
    "tags": []
   },
   "source": [
    "`````{admonition} Order of Groups with size function\n",
    ":class: tip, dropdown\n",
    "The result of `size` function is sorted based on unique values:\n",
    "- For **string** unique values, sorting is in **alphabetical** order.\n",
    "- For **number** unique values, sorting is in **ascending numerical** order.\n",
    "\n",
    "\n",
    "**ex:** In the following example, the unique values are in the string format so they ordered alphabetically as BL, BN, ...\n",
    "`````\n"
   ]
  },
  {
   "cell_type": "code",
   "execution_count": 15,
   "id": "91b5e6a6-f7a0-438a-8d32-a7d60a12f9a5",
   "metadata": {
    "editable": true,
    "slideshow": {
     "slide_type": ""
    },
    "tags": []
   },
   "outputs": [
    {
     "data": {
      "text/html": [
       "<div>\n",
       "<style scoped>\n",
       "    .dataframe tbody tr th:only-of-type {\n",
       "        vertical-align: middle;\n",
       "    }\n",
       "\n",
       "    .dataframe tbody tr th {\n",
       "        vertical-align: top;\n",
       "    }\n",
       "\n",
       "    .dataframe thead th {\n",
       "        text-align: right;\n",
       "    }\n",
       "</style>\n",
       "<table border=\"1\" class=\"dataframe\">\n",
       "  <thead>\n",
       "    <tr style=\"text-align: right;\">\n",
       "      <th>KS_IS</th>\n",
       "      <th>BL</th>\n",
       "      <th>BN</th>\n",
       "      <th>BNL</th>\n",
       "      <th>BV</th>\n",
       "      <th>FG</th>\n",
       "      <th>FL</th>\n",
       "      <th>FV</th>\n",
       "      <th>GT</th>\n",
       "      <th>HE</th>\n",
       "      <th>HW</th>\n",
       "      <th>SV</th>\n",
       "      <th>WP</th>\n",
       "      <th>WW</th>\n",
       "    </tr>\n",
       "  </thead>\n",
       "  <tbody>\n",
       "    <tr>\n",
       "      <th>0</th>\n",
       "      <td>640</td>\n",
       "      <td>4</td>\n",
       "      <td>1</td>\n",
       "      <td>13</td>\n",
       "      <td>1737</td>\n",
       "      <td>36</td>\n",
       "      <td>2</td>\n",
       "      <td>391</td>\n",
       "      <td>22</td>\n",
       "      <td>1194</td>\n",
       "      <td>271</td>\n",
       "      <td>1768</td>\n",
       "      <td>575</td>\n",
       "    </tr>\n",
       "  </tbody>\n",
       "</table>\n",
       "</div>"
      ],
      "text/plain": [
       "KS_IS   BL  BN  BNL  BV    FG  FL  FV   GT  HE    HW   SV    WP   WW\n",
       "0      640   4    1  13  1737  36   2  391  22  1194  271  1768  575"
      ]
     },
     "execution_count": 15,
     "metadata": {},
     "output_type": "execute_result"
    }
   ],
   "source": [
    "groupcounts = gdf.groupby('KS_IS').size()\n",
    "pd.DataFrame(groupcounts).T"
   ]
  },
  {
   "cell_type": "markdown",
   "id": "a03a3ae1-7f4b-4605-b7c4-75687351e0df",
   "metadata": {
    "editable": true,
    "slideshow": {
     "slide_type": ""
    },
    "tags": []
   },
   "source": [
    "The frequency of unique values can also be counted using the `value_counts` method.\n"
   ]
  },
  {
   "cell_type": "markdown",
   "id": "989eccc4-f76d-41de-a6dc-c33249a19bdc",
   "metadata": {
    "editable": true,
    "slideshow": {
     "slide_type": ""
    },
    "tags": []
   },
   "source": [
    "`````{admonition} Order of Groups with value_counts function\n",
    ":class: tip, dropdown\n",
    "The output of the `value_counts` function is sorted in descending order based on the frequency counts.\n",
    "\n",
    "\n",
    "**ex:** In the following example the counts ordered descending.\n",
    "`````\n"
   ]
  },
  {
   "cell_type": "code",
   "execution_count": 16,
   "id": "a9014c5a-d839-44fc-ab5b-97605ca65c1b",
   "metadata": {
    "editable": true,
    "slideshow": {
     "slide_type": ""
    },
    "tags": []
   },
   "outputs": [
    {
     "data": {
      "text/html": [
       "<div>\n",
       "<style scoped>\n",
       "    .dataframe tbody tr th:only-of-type {\n",
       "        vertical-align: middle;\n",
       "    }\n",
       "\n",
       "    .dataframe tbody tr th {\n",
       "        vertical-align: top;\n",
       "    }\n",
       "\n",
       "    .dataframe thead th {\n",
       "        text-align: right;\n",
       "    }\n",
       "</style>\n",
       "<table border=\"1\" class=\"dataframe\">\n",
       "  <thead>\n",
       "    <tr style=\"text-align: right;\">\n",
       "      <th>KS_IS</th>\n",
       "      <th>WP</th>\n",
       "      <th>FG</th>\n",
       "      <th>HW</th>\n",
       "      <th>BL</th>\n",
       "      <th>WW</th>\n",
       "      <th>GT</th>\n",
       "      <th>SV</th>\n",
       "      <th>FL</th>\n",
       "      <th>HE</th>\n",
       "      <th>BV</th>\n",
       "      <th>BN</th>\n",
       "      <th>FV</th>\n",
       "      <th>BNL</th>\n",
       "    </tr>\n",
       "  </thead>\n",
       "  <tbody>\n",
       "    <tr>\n",
       "      <th>count</th>\n",
       "      <td>1768</td>\n",
       "      <td>1737</td>\n",
       "      <td>1194</td>\n",
       "      <td>640</td>\n",
       "      <td>575</td>\n",
       "      <td>391</td>\n",
       "      <td>271</td>\n",
       "      <td>36</td>\n",
       "      <td>22</td>\n",
       "      <td>13</td>\n",
       "      <td>4</td>\n",
       "      <td>2</td>\n",
       "      <td>1</td>\n",
       "    </tr>\n",
       "  </tbody>\n",
       "</table>\n",
       "</div>"
      ],
      "text/plain": [
       "KS_IS    WP    FG    HW   BL   WW   GT   SV  FL  HE  BV  BN  FV  BNL\n",
       "count  1768  1737  1194  640  575  391  271  36  22  13   4   2    1"
      ]
     },
     "execution_count": 16,
     "metadata": {},
     "output_type": "execute_result"
    }
   ],
   "source": [
    "groupcounts = gdf[\"KS_IS\"].value_counts()\n",
    "pd.DataFrame(groupcounts).T"
   ]
  },
  {
   "cell_type": "markdown",
   "id": "5bf1e8d3-7812-4df2-8009-65fded991570",
   "metadata": {
    "editable": true,
    "slideshow": {
     "slide_type": ""
    },
    "tags": []
   },
   "source": [
    "In a long list of unique values, if the number of features for a specific group is needed, it can be accessed like a value for a key in a dictionary."
   ]
  },
  {
   "cell_type": "markdown",
   "id": "92b58228-33b5-4e21-ac53-96055fba7e3d",
   "metadata": {
    "editable": true,
    "slideshow": {
     "slide_type": ""
    },
    "tags": []
   },
   "source": [
    "In the following example, the output shows that in this dataset 271 features recorded as SV (representing roads)."
   ]
  },
  {
   "cell_type": "code",
   "execution_count": 17,
   "id": "22f709fb-365f-48b7-9a36-d6a6093be627",
   "metadata": {
    "editable": true,
    "slideshow": {
     "slide_type": ""
    },
    "tags": []
   },
   "outputs": [
    {
     "data": {
      "text/plain": [
       "271"
      ]
     },
     "execution_count": 17,
     "metadata": {},
     "output_type": "execute_result"
    }
   ],
   "source": [
    "sv_count = groupcounts['SV']\n",
    "sv_count"
   ]
  },
  {
   "cell_type": "markdown",
   "id": "d5e20f1a-120b-4eae-8c99-4b23dcd753e6",
   "metadata": {
    "editable": true,
    "slideshow": {
     "slide_type": ""
    },
    "tags": []
   },
   "source": [
    "`````{admonition} Format Importance Use Case\n",
    ":class: warning,\n",
    "The importance of attribute formatting, mentioned at the beginning of this chapter, will be highlighted here. In the previous example, the values were text (string), so for calling the values, the quotes were used. On the other hand, in the following examples, the values for both attributes of \"CLC_st1\" and \"Biotpkt2018\" are numbers, while the format of the first is an object (string) and the second is a float.\n",
    "`````"
   ]
  },
  {
   "cell_type": "markdown",
   "id": "c753a6d6-090c-4c71-ada1-67f78e0afd87",
   "metadata": {
    "editable": true,
    "slideshow": {
     "slide_type": ""
    },
    "tags": []
   },
   "source": [
    "- **String format**\n",
    "- Below, we also sort values (`.sort_values()`)\n",
    "- and only return the first `[:10]` entries"
   ]
  },
  {
   "cell_type": "code",
   "execution_count": 18,
   "id": "d8e25e50-5367-48e9-b8d1-3ff94120893e",
   "metadata": {
    "editable": true,
    "slideshow": {
     "slide_type": ""
    },
    "tags": []
   },
   "outputs": [
    {
     "data": {
      "text/plain": [
       "CLC_st1\n",
       "112    7187\n",
       "122    5454\n",
       "231    3293\n",
       "121    2732\n",
       "511    2563\n",
       "142    2413\n",
       "311    1787\n",
       "141    1627\n",
       "313    1594\n",
       "312    1546\n",
       "dtype: int64"
      ]
     },
     "execution_count": 18,
     "metadata": {},
     "output_type": "execute_result"
    }
   ],
   "source": [
    "group_1 = gdf.groupby('CLC_st1').size()\n",
    "group_1.sort_values(ascending=False)[:10]"
   ]
  },
  {
   "cell_type": "markdown",
   "id": "bc142a04-7493-45d8-bdd8-1f9b87c86506",
   "metadata": {
    "editable": true,
    "slideshow": {
     "slide_type": ""
    },
    "tags": []
   },
   "source": [
    "Access a specific index value:"
   ]
  },
  {
   "cell_type": "code",
   "execution_count": 19,
   "id": "50d7bb00-daa9-4c19-be83-bcc8c8deb9fe",
   "metadata": {
    "editable": true,
    "slideshow": {
     "slide_type": ""
    },
    "tags": []
   },
   "outputs": [
    {
     "data": {
      "text/plain": [
       "1627"
      ]
     },
     "execution_count": 19,
     "metadata": {},
     "output_type": "execute_result"
    }
   ],
   "source": [
    "group_1['141']"
   ]
  },
  {
   "cell_type": "markdown",
   "id": "7dc03131-4793-42e5-96b3-0fb9aa0ead0d",
   "metadata": {
    "editable": true,
    "slideshow": {
     "slide_type": ""
    },
    "tags": []
   },
   "source": [
    "- **Float format**"
   ]
  },
  {
   "cell_type": "code",
   "execution_count": 20,
   "id": "0d4de373-db4c-41d1-839e-e1a1e264490c",
   "metadata": {
    "editable": true,
    "slideshow": {
     "slide_type": ""
    },
    "tags": []
   },
   "outputs": [
    {
     "data": {
      "text/plain": [
       "Biotpkt2018\n",
       "0.000000      16\n",
       "0.500000      55\n",
       "1.000000      52\n",
       "1.500000     102\n",
       "2.000000     131\n",
       "            ... \n",
       "16.928546     36\n",
       "17.079406      3\n",
       "17.381302     10\n",
       "18.055116    667\n",
       "20.164493      8\n",
       "Length: 69, dtype: int64"
      ]
     },
     "execution_count": 20,
     "metadata": {},
     "output_type": "execute_result"
    }
   ],
   "source": [
    "group_2 = gdf.groupby('Biotpkt2018').size()\n",
    "group_2"
   ]
  },
  {
   "cell_type": "code",
   "execution_count": 21,
   "id": "14c427e4-fa07-46e1-8a39-d5025e13819e",
   "metadata": {
    "editable": true,
    "slideshow": {
     "slide_type": ""
    },
    "tags": []
   },
   "outputs": [
    {
     "data": {
      "text/plain": [
       "52"
      ]
     },
     "execution_count": 21,
     "metadata": {},
     "output_type": "execute_result"
    }
   ],
   "source": [
    "group_2[1.000000]"
   ]
  },
  {
   "cell_type": "markdown",
   "id": "4788a860-f6e0-410c-8969-1b117241635c",
   "metadata": {
    "editable": true,
    "slideshow": {
     "slide_type": ""
    },
    "tags": []
   },
   "source": [
    "```{admonition} Importance of the precision of float format!\n",
    ":class: note, dropdown\n",
    "Sometimes, due to the precision of the float format, the printed output of the `groupby` or `value_counts` function may not exactly match the value in the DataFrame. In this case, if a value from their output is called directly, an error will occur.\n",
    "\n",
    "The following figure is an example of this note, when the value \"18.055116\" called. This value is an output of the `groupby` function in the previous step, but it is a rounded value, and this value in the dataset includes additional decimal places like 18.05511611 or 18.05511689 or ...\n",
    "\n",
    "```{figure} ../resources/14_.png\n",
    ":width: 700px\n",
    ":name: figure-example \n",
    "Error of calling rounded values instead of precise values in the dataset\n",
    "````\n",
    "```"
   ]
  },
  {
   "cell_type": "markdown",
   "id": "ce7e3a40-4b71-4ea5-90e7-2a94e2a2508b",
   "metadata": {
    "editable": true,
    "slideshow": {
     "slide_type": ""
    },
    "tags": []
   },
   "source": [
    "## Selection of String Values"
   ]
  },
  {
   "cell_type": "markdown",
   "id": "91c83c38-ae71-4758-9c28-8c99ac635cd7",
   "metadata": {
    "editable": true,
    "slideshow": {
     "slide_type": ""
    },
    "tags": []
   },
   "source": [
    "After becoming familiar with attributes and unique values of the features, the required features can be selected:"
   ]
  },
  {
   "cell_type": "markdown",
   "id": "c5a50bd3-7774-46e2-9550-0eeca664601a",
   "metadata": {
    "editable": true,
    "slideshow": {
     "slide_type": ""
    },
    "tags": []
   },
   "source": [
    "If only features with a specific value are needed, the value can be called directly:\n"
   ]
  },
  {
   "cell_type": "code",
   "execution_count": 22,
   "id": "7e2f9358-22bf-4dee-b35b-f7cd49ec71d3",
   "metadata": {
    "editable": true,
    "scrolled": true,
    "slideshow": {
     "slide_type": ""
    },
    "tags": [
     "hide_output",
     "hide-output"
    ]
   },
   "outputs": [
    {
     "data": {
      "text/html": [
       "<div>\n",
       "<style scoped>\n",
       "    .dataframe tbody tr th:only-of-type {\n",
       "        vertical-align: middle;\n",
       "    }\n",
       "\n",
       "    .dataframe tbody tr th {\n",
       "        vertical-align: top;\n",
       "    }\n",
       "\n",
       "    .dataframe thead th {\n",
       "        text-align: right;\n",
       "    }\n",
       "</style>\n",
       "<table border=\"1\" class=\"dataframe\">\n",
       "  <thead>\n",
       "    <tr style=\"text-align: right;\">\n",
       "      <th></th>\n",
       "      <th>KS_IS</th>\n",
       "      <th>CLC_st1</th>\n",
       "      <th>CLC18</th>\n",
       "      <th>CLC</th>\n",
       "      <th>Biotpkt2018</th>\n",
       "      <th>Shape_Length</th>\n",
       "      <th>Shape_Area</th>\n",
       "      <th>geometry</th>\n",
       "    </tr>\n",
       "  </thead>\n",
       "  <tbody>\n",
       "    <tr>\n",
       "      <th>3823</th>\n",
       "      <td>FG</td>\n",
       "      <td>511</td>\n",
       "      <td>None</td>\n",
       "      <td>NaN</td>\n",
       "      <td>12.594189</td>\n",
       "      <td>491.915386</td>\n",
       "      <td>1070.836783</td>\n",
       "      <td>MULTIPOLYGON (((415374.978 5648049.894, 415371...</td>\n",
       "    </tr>\n",
       "    <tr>\n",
       "      <th>3824</th>\n",
       "      <td>FG</td>\n",
       "      <td>511</td>\n",
       "      <td>None</td>\n",
       "      <td>NaN</td>\n",
       "      <td>12.594189</td>\n",
       "      <td>268.168647</td>\n",
       "      <td>581.000813</td>\n",
       "      <td>MULTIPOLYGON (((415477.458 5648133.623, 415476...</td>\n",
       "    </tr>\n",
       "    <tr>\n",
       "      <th>3825</th>\n",
       "      <td>FG</td>\n",
       "      <td>511</td>\n",
       "      <td>None</td>\n",
       "      <td>NaN</td>\n",
       "      <td>12.594189</td>\n",
       "      <td>16.334540</td>\n",
       "      <td>15.163151</td>\n",
       "      <td>MULTIPOLYGON (((415489.003 5648142.273, 415488...</td>\n",
       "    </tr>\n",
       "    <tr>\n",
       "      <th>3826</th>\n",
       "      <td>FG</td>\n",
       "      <td>511</td>\n",
       "      <td>None</td>\n",
       "      <td>NaN</td>\n",
       "      <td>12.594189</td>\n",
       "      <td>1436.401563</td>\n",
       "      <td>3210.514272</td>\n",
       "      <td>MULTIPOLYGON (((415773.656 5648659.571, 415773...</td>\n",
       "    </tr>\n",
       "    <tr>\n",
       "      <th>3827</th>\n",
       "      <td>FG</td>\n",
       "      <td>511</td>\n",
       "      <td>None</td>\n",
       "      <td>NaN</td>\n",
       "      <td>12.594189</td>\n",
       "      <td>399.339616</td>\n",
       "      <td>877.628801</td>\n",
       "      <td>MULTIPOLYGON (((415930.38 5648763.655, 415926....</td>\n",
       "    </tr>\n",
       "  </tbody>\n",
       "</table>\n",
       "</div>"
      ],
      "text/plain": [
       "     KS_IS CLC_st1 CLC18  CLC  Biotpkt2018  Shape_Length   Shape_Area  \\\n",
       "3823    FG     511  None  NaN    12.594189    491.915386  1070.836783   \n",
       "3824    FG     511  None  NaN    12.594189    268.168647   581.000813   \n",
       "3825    FG     511  None  NaN    12.594189     16.334540    15.163151   \n",
       "3826    FG     511  None  NaN    12.594189   1436.401563  3210.514272   \n",
       "3827    FG     511  None  NaN    12.594189    399.339616   877.628801   \n",
       "\n",
       "                                               geometry  \n",
       "3823  MULTIPOLYGON (((415374.978 5648049.894, 415371...  \n",
       "3824  MULTIPOLYGON (((415477.458 5648133.623, 415476...  \n",
       "3825  MULTIPOLYGON (((415489.003 5648142.273, 415488...  \n",
       "3826  MULTIPOLYGON (((415773.656 5648659.571, 415773...  \n",
       "3827  MULTIPOLYGON (((415930.38 5648763.655, 415926....  "
      ]
     },
     "execution_count": 22,
     "metadata": {},
     "output_type": "execute_result"
    }
   ],
   "source": [
    "filtered_data = gdf[gdf['KS_IS'] == 'FG']\n",
    "filtered_data.head(5)"
   ]
  },
  {
   "cell_type": "code",
   "execution_count": 23,
   "id": "3c492812-207d-4204-b741-e9f616a8341c",
   "metadata": {
    "editable": true,
    "slideshow": {
     "slide_type": ""
    },
    "tags": [
     "hide_output",
     "hide-output"
    ]
   },
   "outputs": [
    {
     "data": {
      "text/html": [
       "<div>\n",
       "<style scoped>\n",
       "    .dataframe tbody tr th:only-of-type {\n",
       "        vertical-align: middle;\n",
       "    }\n",
       "\n",
       "    .dataframe tbody tr th {\n",
       "        vertical-align: top;\n",
       "    }\n",
       "\n",
       "    .dataframe thead th {\n",
       "        text-align: right;\n",
       "    }\n",
       "</style>\n",
       "<table border=\"1\" class=\"dataframe\">\n",
       "  <thead>\n",
       "    <tr style=\"text-align: right;\">\n",
       "      <th></th>\n",
       "      <th>KS_IS</th>\n",
       "      <th>CLC_st1</th>\n",
       "      <th>CLC18</th>\n",
       "      <th>CLC</th>\n",
       "      <th>Biotpkt2018</th>\n",
       "      <th>Shape_Length</th>\n",
       "      <th>Shape_Area</th>\n",
       "      <th>geometry</th>\n",
       "    </tr>\n",
       "  </thead>\n",
       "  <tbody>\n",
       "    <tr>\n",
       "      <th>11831</th>\n",
       "      <td>None</td>\n",
       "      <td>133</td>\n",
       "      <td>133</td>\n",
       "      <td>133.0</td>\n",
       "      <td>6.035751</td>\n",
       "      <td>17.828953</td>\n",
       "      <td>0.432276</td>\n",
       "      <td>MULTIPOLYGON (((411237.019 5656164.663, 411228...</td>\n",
       "    </tr>\n",
       "    <tr>\n",
       "      <th>24343</th>\n",
       "      <td>None</td>\n",
       "      <td>133</td>\n",
       "      <td>133</td>\n",
       "      <td>133.0</td>\n",
       "      <td>6.035751</td>\n",
       "      <td>287.703701</td>\n",
       "      <td>4278.338534</td>\n",
       "      <td>MULTIPOLYGON (((411656.913 5656302.92, 411664....</td>\n",
       "    </tr>\n",
       "    <tr>\n",
       "      <th>24344</th>\n",
       "      <td>None</td>\n",
       "      <td>133</td>\n",
       "      <td>133</td>\n",
       "      <td>133.0</td>\n",
       "      <td>6.035751</td>\n",
       "      <td>183.544225</td>\n",
       "      <td>2066.507754</td>\n",
       "      <td>MULTIPOLYGON (((411567.287 5656337.438, 411562...</td>\n",
       "    </tr>\n",
       "    <tr>\n",
       "      <th>24347</th>\n",
       "      <td>None</td>\n",
       "      <td>133</td>\n",
       "      <td>133</td>\n",
       "      <td>133.0</td>\n",
       "      <td>6.035751</td>\n",
       "      <td>213.015432</td>\n",
       "      <td>2684.440542</td>\n",
       "      <td>MULTIPOLYGON (((411587.489 5655959.618, 411588...</td>\n",
       "    </tr>\n",
       "  </tbody>\n",
       "</table>\n",
       "</div>"
      ],
      "text/plain": [
       "      KS_IS CLC_st1 CLC18    CLC  Biotpkt2018  Shape_Length   Shape_Area  \\\n",
       "11831  None     133   133  133.0     6.035751     17.828953     0.432276   \n",
       "24343  None     133   133  133.0     6.035751    287.703701  4278.338534   \n",
       "24344  None     133   133  133.0     6.035751    183.544225  2066.507754   \n",
       "24347  None     133   133  133.0     6.035751    213.015432  2684.440542   \n",
       "\n",
       "                                                geometry  \n",
       "11831  MULTIPOLYGON (((411237.019 5656164.663, 411228...  \n",
       "24343  MULTIPOLYGON (((411656.913 5656302.92, 411664....  \n",
       "24344  MULTIPOLYGON (((411567.287 5656337.438, 411562...  \n",
       "24347  MULTIPOLYGON (((411587.489 5655959.618, 411588...  "
      ]
     },
     "execution_count": 23,
     "metadata": {},
     "output_type": "execute_result"
    }
   ],
   "source": [
    "filtered_data = gdf[gdf['CLC_st1'] == '133']\n",
    "filtered_data.head(5)"
   ]
  },
  {
   "cell_type": "markdown",
   "id": "61369821-0ebc-4858-a064-07c46e8726d3",
   "metadata": {
    "editable": true,
    "slideshow": {
     "slide_type": ""
    },
    "tags": []
   },
   "source": [
    "## Selection of Float Values\n"
   ]
  },
  {
   "cell_type": "code",
   "execution_count": 24,
   "id": "476c4578-5099-450e-a774-2c39fef42c2e",
   "metadata": {
    "editable": true,
    "slideshow": {
     "slide_type": ""
    },
    "tags": [
     "hide_output",
     "hide-output"
    ]
   },
   "outputs": [
    {
     "data": {
      "text/html": [
       "<div>\n",
       "<style scoped>\n",
       "    .dataframe tbody tr th:only-of-type {\n",
       "        vertical-align: middle;\n",
       "    }\n",
       "\n",
       "    .dataframe tbody tr th {\n",
       "        vertical-align: top;\n",
       "    }\n",
       "\n",
       "    .dataframe thead th {\n",
       "        text-align: right;\n",
       "    }\n",
       "</style>\n",
       "<table border=\"1\" class=\"dataframe\">\n",
       "  <thead>\n",
       "    <tr style=\"text-align: right;\">\n",
       "      <th></th>\n",
       "      <th>KS_IS</th>\n",
       "      <th>CLC_st1</th>\n",
       "      <th>CLC18</th>\n",
       "      <th>CLC</th>\n",
       "      <th>Biotpkt2018</th>\n",
       "      <th>Shape_Length</th>\n",
       "      <th>Shape_Area</th>\n",
       "      <th>geometry</th>\n",
       "    </tr>\n",
       "  </thead>\n",
       "  <tbody>\n",
       "    <tr>\n",
       "      <th>9492</th>\n",
       "      <td>None</td>\n",
       "      <td>111</td>\n",
       "      <td>111</td>\n",
       "      <td>111.0</td>\n",
       "      <td>1.0</td>\n",
       "      <td>411.855290</td>\n",
       "      <td>2480.458787</td>\n",
       "      <td>MULTIPOLYGON (((406985.474 5655597.694, 406984...</td>\n",
       "    </tr>\n",
       "    <tr>\n",
       "      <th>9504</th>\n",
       "      <td>None</td>\n",
       "      <td>111</td>\n",
       "      <td>111</td>\n",
       "      <td>111.0</td>\n",
       "      <td>1.0</td>\n",
       "      <td>89.433492</td>\n",
       "      <td>466.944726</td>\n",
       "      <td>MULTIPOLYGON (((416782.224 5652196.728, 416782...</td>\n",
       "    </tr>\n",
       "    <tr>\n",
       "      <th>9514</th>\n",
       "      <td>None</td>\n",
       "      <td>111</td>\n",
       "      <td>111</td>\n",
       "      <td>111.0</td>\n",
       "      <td>1.0</td>\n",
       "      <td>172.927119</td>\n",
       "      <td>1621.632535</td>\n",
       "      <td>MULTIPOLYGON (((419300.05 5657313.72, 419299.9...</td>\n",
       "    </tr>\n",
       "    <tr>\n",
       "      <th>9515</th>\n",
       "      <td>None</td>\n",
       "      <td>111</td>\n",
       "      <td>111</td>\n",
       "      <td>111.0</td>\n",
       "      <td>1.0</td>\n",
       "      <td>320.578260</td>\n",
       "      <td>3691.824728</td>\n",
       "      <td>MULTIPOLYGON (((408302.234 5655785.262, 408296...</td>\n",
       "    </tr>\n",
       "    <tr>\n",
       "      <th>9519</th>\n",
       "      <td>None</td>\n",
       "      <td>111</td>\n",
       "      <td>111</td>\n",
       "      <td>111.0</td>\n",
       "      <td>1.0</td>\n",
       "      <td>121.899927</td>\n",
       "      <td>920.751286</td>\n",
       "      <td>MULTIPOLYGON (((414687.929 5655817.21, 414656....</td>\n",
       "    </tr>\n",
       "  </tbody>\n",
       "</table>\n",
       "</div>"
      ],
      "text/plain": [
       "     KS_IS CLC_st1 CLC18    CLC  Biotpkt2018  Shape_Length   Shape_Area  \\\n",
       "9492  None     111   111  111.0          1.0    411.855290  2480.458787   \n",
       "9504  None     111   111  111.0          1.0     89.433492   466.944726   \n",
       "9514  None     111   111  111.0          1.0    172.927119  1621.632535   \n",
       "9515  None     111   111  111.0          1.0    320.578260  3691.824728   \n",
       "9519  None     111   111  111.0          1.0    121.899927   920.751286   \n",
       "\n",
       "                                               geometry  \n",
       "9492  MULTIPOLYGON (((406985.474 5655597.694, 406984...  \n",
       "9504  MULTIPOLYGON (((416782.224 5652196.728, 416782...  \n",
       "9514  MULTIPOLYGON (((419300.05 5657313.72, 419299.9...  \n",
       "9515  MULTIPOLYGON (((408302.234 5655785.262, 408296...  \n",
       "9519  MULTIPOLYGON (((414687.929 5655817.21, 414656....  "
      ]
     },
     "execution_count": 24,
     "metadata": {},
     "output_type": "execute_result"
    }
   ],
   "source": [
    "filtered_data = gdf[gdf['Biotpkt2018'] == 1.000000]\n",
    "filtered_data.head(5)"
   ]
  },
  {
   "cell_type": "markdown",
   "id": "de77d403-c6fa-41e5-9201-a4688d36d403",
   "metadata": {
    "editable": true,
    "slideshow": {
     "slide_type": ""
    },
    "tags": []
   },
   "source": [
    "`````{admonition} Importance of the precision of float format!\n",
    ":class: note, dropdown\n",
    "As mentioned in the previous note, for float values, due to precision, it may sometimes show an empty DataFrame (meaning no feature with this value exists), while in `groupby` or `value_counts` functions, it may indicate that some features with this value exist.\n",
    "\n",
    "```{figure} ../resources/15_.png\n",
    ":width: 600px\n",
    ":name: figure-example\n",
    "Empty output for calling rounded values instead of precise values in the dataset\n",
    "````\n",
    "`````"
   ]
  },
  {
   "cell_type": "code",
   "execution_count": 25,
   "id": "17166de4-c464-4e04-b4a7-13f17c7cab0e",
   "metadata": {
    "editable": true,
    "slideshow": {
     "slide_type": ""
    },
    "tags": []
   },
   "outputs": [
    {
     "data": {
      "text/html": [
       "<div>\n",
       "<style scoped>\n",
       "    .dataframe tbody tr th:only-of-type {\n",
       "        vertical-align: middle;\n",
       "    }\n",
       "\n",
       "    .dataframe tbody tr th {\n",
       "        vertical-align: top;\n",
       "    }\n",
       "\n",
       "    .dataframe thead th {\n",
       "        text-align: right;\n",
       "    }\n",
       "</style>\n",
       "<table border=\"1\" class=\"dataframe\">\n",
       "  <thead>\n",
       "    <tr style=\"text-align: right;\">\n",
       "      <th></th>\n",
       "      <th>KS_IS</th>\n",
       "      <th>CLC_st1</th>\n",
       "      <th>CLC18</th>\n",
       "      <th>CLC</th>\n",
       "      <th>Biotpkt2018</th>\n",
       "      <th>Shape_Length</th>\n",
       "      <th>Shape_Area</th>\n",
       "      <th>geometry</th>\n",
       "    </tr>\n",
       "  </thead>\n",
       "  <tbody>\n",
       "  </tbody>\n",
       "</table>\n",
       "</div>"
      ],
      "text/plain": [
       "Empty GeoDataFrame\n",
       "Columns: [KS_IS, CLC_st1, CLC18, CLC, Biotpkt2018, Shape_Length, Shape_Area, geometry]\n",
       "Index: []"
      ]
     },
     "execution_count": 25,
     "metadata": {},
     "output_type": "execute_result"
    }
   ],
   "source": [
    "# Codes of the upper note\n",
    "filtered_data = gdf[gdf['Biotpkt2018'] == 18.055116]\n",
    "filtered_data.head(5)"
   ]
  },
  {
   "cell_type": "markdown",
   "id": "cc3489d8-3c60-41e7-b13d-939f14388bdb",
   "metadata": {
    "editable": true,
    "slideshow": {
     "slide_type": ""
    },
    "tags": []
   },
   "source": [
    "If features with more than one specific value are needed, the values can be called as a list using `isin` method."
   ]
  },
  {
   "cell_type": "code",
   "execution_count": 28,
   "id": "8c5d63a1-59be-47f0-8374-de28724ed20c",
   "metadata": {
    "editable": true,
    "slideshow": {
     "slide_type": ""
    },
    "tags": [
     "hide_output",
     "hide-output"
    ]
   },
   "outputs": [
    {
     "data": {
      "text/html": [
       "<div>\n",
       "<style scoped>\n",
       "    .dataframe tbody tr th:only-of-type {\n",
       "        vertical-align: middle;\n",
       "    }\n",
       "\n",
       "    .dataframe tbody tr th {\n",
       "        vertical-align: top;\n",
       "    }\n",
       "\n",
       "    .dataframe thead th {\n",
       "        text-align: right;\n",
       "    }\n",
       "</style>\n",
       "<table border=\"1\" class=\"dataframe\">\n",
       "  <thead>\n",
       "    <tr style=\"text-align: right;\">\n",
       "      <th></th>\n",
       "      <th>KS_IS</th>\n",
       "      <th>CLC_st1</th>\n",
       "      <th>CLC18</th>\n",
       "      <th>CLC</th>\n",
       "      <th>Biotpkt2018</th>\n",
       "      <th>Shape_Length</th>\n",
       "      <th>Shape_Area</th>\n",
       "      <th>geometry</th>\n",
       "    </tr>\n",
       "  </thead>\n",
       "  <tbody>\n",
       "    <tr>\n",
       "      <th>11831</th>\n",
       "      <td>None</td>\n",
       "      <td>133</td>\n",
       "      <td>133</td>\n",
       "      <td>133.0</td>\n",
       "      <td>6.035751</td>\n",
       "      <td>17.828953</td>\n",
       "      <td>0.432276</td>\n",
       "      <td>MULTIPOLYGON (((411237.019 5656164.663, 411228...</td>\n",
       "    </tr>\n",
       "    <tr>\n",
       "      <th>23859</th>\n",
       "      <td>None</td>\n",
       "      <td>321</td>\n",
       "      <td>321</td>\n",
       "      <td>321.0</td>\n",
       "      <td>20.164493</td>\n",
       "      <td>618.702965</td>\n",
       "      <td>18317.038350</td>\n",
       "      <td>MULTIPOLYGON (((415627.211 5652243.292, 415579...</td>\n",
       "    </tr>\n",
       "    <tr>\n",
       "      <th>23860</th>\n",
       "      <td>None</td>\n",
       "      <td>321</td>\n",
       "      <td>321</td>\n",
       "      <td>321.0</td>\n",
       "      <td>20.164493</td>\n",
       "      <td>1099.972947</td>\n",
       "      <td>10894.472486</td>\n",
       "      <td>MULTIPOLYGON (((418611.74 5653542.485, 418618....</td>\n",
       "    </tr>\n",
       "    <tr>\n",
       "      <th>23861</th>\n",
       "      <td>None</td>\n",
       "      <td>321</td>\n",
       "      <td>321</td>\n",
       "      <td>321.0</td>\n",
       "      <td>20.164493</td>\n",
       "      <td>1023.775893</td>\n",
       "      <td>22918.685826</td>\n",
       "      <td>MULTIPOLYGON (((418506.559 5653953.337, 418516...</td>\n",
       "    </tr>\n",
       "    <tr>\n",
       "      <th>23862</th>\n",
       "      <td>None</td>\n",
       "      <td>321</td>\n",
       "      <td>321</td>\n",
       "      <td>321.0</td>\n",
       "      <td>20.164493</td>\n",
       "      <td>1126.678849</td>\n",
       "      <td>17980.357862</td>\n",
       "      <td>MULTIPOLYGON (((418145.759 5654361.049, 418151...</td>\n",
       "    </tr>\n",
       "  </tbody>\n",
       "</table>\n",
       "</div>"
      ],
      "text/plain": [
       "      KS_IS CLC_st1 CLC18    CLC  Biotpkt2018  Shape_Length    Shape_Area  \\\n",
       "11831  None     133   133  133.0     6.035751     17.828953      0.432276   \n",
       "23859  None     321   321  321.0    20.164493    618.702965  18317.038350   \n",
       "23860  None     321   321  321.0    20.164493   1099.972947  10894.472486   \n",
       "23861  None     321   321  321.0    20.164493   1023.775893  22918.685826   \n",
       "23862  None     321   321  321.0    20.164493   1126.678849  17980.357862   \n",
       "\n",
       "                                                geometry  \n",
       "11831  MULTIPOLYGON (((411237.019 5656164.663, 411228...  \n",
       "23859  MULTIPOLYGON (((415627.211 5652243.292, 415579...  \n",
       "23860  MULTIPOLYGON (((418611.74 5653542.485, 418618....  \n",
       "23861  MULTIPOLYGON (((418506.559 5653953.337, 418516...  \n",
       "23862  MULTIPOLYGON (((418145.759 5654361.049, 418151...  "
      ]
     },
     "execution_count": 28,
     "metadata": {},
     "output_type": "execute_result"
    }
   ],
   "source": [
    "filtered_data = gdf[gdf['CLC_st1'].isin(['133', '321', '411'])]\n",
    "filtered_data.head(5)"
   ]
  },
  {
   "cell_type": "markdown",
   "id": "e738c6f1-8060-4fd7-a983-8cfa0eb3437f",
   "metadata": {
    "editable": true,
    "slideshow": {
     "slide_type": ""
    },
    "tags": []
   },
   "source": [
    "It is also possible to explore the range of the data for numeric values, such as area.\n"
   ]
  },
  {
   "cell_type": "markdown",
   "id": "63d0609f-dc80-43ed-9e1d-3e02f0974a80",
   "metadata": {
    "editable": true,
    "slideshow": {
     "slide_type": ""
    },
    "tags": []
   },
   "source": [
    "To find the minimum and maximum values of the features, the following code is used:\n",
    "- `min`: minimum value in the specified attribute\n",
    "- `max`: maximum value in the specified attribute\n",
    "- `:0.8f`: `:f` treated the value as a float, and `0.8` rounded the number of decimals to 8 numbers\n"
   ]
  },
  {
   "cell_type": "markdown",
   "id": "24cda7a3-733b-489b-a406-648a36710539",
   "metadata": {
    "editable": true,
    "slideshow": {
     "slide_type": ""
    },
    "tags": []
   },
   "source": [
    "\n",
    "`````{admonition} \n",
    ":class: tip\n",
    "For more controlling over the output visit[here](https://python.aims.ac.za/pages/format_str.html#id4)\n",
    "`````\n",
    "\n"
   ]
  },
  {
   "cell_type": "code",
   "execution_count": 29,
   "id": "a1621b2a-deb6-4a6d-a7e9-139037404a69",
   "metadata": {
    "editable": true,
    "slideshow": {
     "slide_type": ""
    },
    "tags": []
   },
   "outputs": [
    {
     "name": "stdout",
     "output_type": "stream",
     "text": [
      "minimum: 0.00000562\n",
      "maximum: 3249895.12\n"
     ]
    }
   ],
   "source": [
    "min_value = gdf['Shape_Area'].min()\n",
    "max_value = gdf['Shape_Area'].max()\n",
    "print(f\"minimum: {min_value:0.8f}\")\n",
    "print(f\"maximum: {max_value:0.2f}\")"
   ]
  },
  {
   "cell_type": "markdown",
   "id": "9b88a3cf-a184-4cdb-8484-5edcbb130680",
   "metadata": {
    "editable": true,
    "slideshow": {
     "slide_type": ""
    },
    "tags": []
   },
   "source": [
    "Now that information about the attributes of features and the values assigned to them has been obtained, it is possible to decide which part of the data is of interest.\n"
   ]
  },
  {
   "cell_type": "markdown",
   "id": "c9b61605-6694-44e1-8cda-86a7233b6668",
   "metadata": {
    "editable": true,
    "slideshow": {
     "slide_type": ""
    },
    "tags": []
   },
   "source": [
    "For example, it can be decided to work only with the features having areas less than 1000.\n"
   ]
  },
  {
   "cell_type": "code",
   "execution_count": 36,
   "id": "895f9b73-09ef-4e6d-9bb9-4d7300453adc",
   "metadata": {
    "editable": true,
    "slideshow": {
     "slide_type": ""
    },
    "tags": []
   },
   "outputs": [],
   "source": [
    "filter_db = gdf[gdf['Shape_Area'] < 1000]"
   ]
  },
  {
   "cell_type": "code",
   "execution_count": 39,
   "id": "1d6b64a8-0323-4f3e-931f-fb58618a5e4a",
   "metadata": {
    "editable": true,
    "slideshow": {
     "slide_type": ""
    },
    "tags": []
   },
   "outputs": [
    {
     "data": {
      "text/html": [
       "<div>\n",
       "<style scoped>\n",
       "    .dataframe tbody tr th:only-of-type {\n",
       "        vertical-align: middle;\n",
       "    }\n",
       "\n",
       "    .dataframe tbody tr th {\n",
       "        vertical-align: top;\n",
       "    }\n",
       "\n",
       "    .dataframe thead th {\n",
       "        text-align: right;\n",
       "    }\n",
       "</style>\n",
       "<table border=\"1\" class=\"dataframe\">\n",
       "  <thead>\n",
       "    <tr style=\"text-align: right;\">\n",
       "      <th></th>\n",
       "      <th>KS_IS</th>\n",
       "      <th>CLC_st1</th>\n",
       "      <th>CLC18</th>\n",
       "      <th>CLC</th>\n",
       "      <th>Biotpkt2018</th>\n",
       "      <th>Shape_Length</th>\n",
       "      <th>Shape_Area</th>\n",
       "      <th>geometry</th>\n",
       "    </tr>\n",
       "  </thead>\n",
       "  <tbody>\n",
       "    <tr>\n",
       "      <th>1</th>\n",
       "      <td>SV</td>\n",
       "      <td>122</td>\n",
       "      <td>None</td>\n",
       "      <td>NaN</td>\n",
       "      <td>5.271487</td>\n",
       "      <td>31.935928</td>\n",
       "      <td>50.075513</td>\n",
       "      <td>MULTIPOLYGON (((417850.525 5650376.33, 417846....</td>\n",
       "    </tr>\n",
       "    <tr>\n",
       "      <th>3</th>\n",
       "      <td>SV</td>\n",
       "      <td>122</td>\n",
       "      <td>None</td>\n",
       "      <td>NaN</td>\n",
       "      <td>5.271487</td>\n",
       "      <td>24.509066</td>\n",
       "      <td>36.443441</td>\n",
       "      <td>MULTIPOLYGON (((423453.146 5650332.06, 423453....</td>\n",
       "    </tr>\n",
       "    <tr>\n",
       "      <th>4</th>\n",
       "      <td>SV</td>\n",
       "      <td>122</td>\n",
       "      <td>None</td>\n",
       "      <td>NaN</td>\n",
       "      <td>5.271487</td>\n",
       "      <td>29.937138</td>\n",
       "      <td>40.494155</td>\n",
       "      <td>MULTIPOLYGON (((417331.434 5650889.039, 417330...</td>\n",
       "    </tr>\n",
       "    <tr>\n",
       "      <th>6</th>\n",
       "      <td>SV</td>\n",
       "      <td>122</td>\n",
       "      <td>None</td>\n",
       "      <td>NaN</td>\n",
       "      <td>5.271487</td>\n",
       "      <td>390.293053</td>\n",
       "      <td>764.349833</td>\n",
       "      <td>MULTIPOLYGON (((407613.154 5651943.2, 407618.7...</td>\n",
       "    </tr>\n",
       "    <tr>\n",
       "      <th>7</th>\n",
       "      <td>SV</td>\n",
       "      <td>122</td>\n",
       "      <td>None</td>\n",
       "      <td>NaN</td>\n",
       "      <td>5.271487</td>\n",
       "      <td>34.931619</td>\n",
       "      <td>45.486260</td>\n",
       "      <td>MULTIPOLYGON (((416066.508 5651463.834, 416066...</td>\n",
       "    </tr>\n",
       "  </tbody>\n",
       "</table>\n",
       "</div>"
      ],
      "text/plain": [
       "  KS_IS CLC_st1 CLC18  CLC  Biotpkt2018  Shape_Length  Shape_Area  \\\n",
       "1    SV     122  None  NaN     5.271487     31.935928   50.075513   \n",
       "3    SV     122  None  NaN     5.271487     24.509066   36.443441   \n",
       "4    SV     122  None  NaN     5.271487     29.937138   40.494155   \n",
       "6    SV     122  None  NaN     5.271487    390.293053  764.349833   \n",
       "7    SV     122  None  NaN     5.271487     34.931619   45.486260   \n",
       "\n",
       "                                            geometry  \n",
       "1  MULTIPOLYGON (((417850.525 5650376.33, 417846....  \n",
       "3  MULTIPOLYGON (((423453.146 5650332.06, 423453....  \n",
       "4  MULTIPOLYGON (((417331.434 5650889.039, 417330...  \n",
       "6  MULTIPOLYGON (((407613.154 5651943.2, 407618.7...  \n",
       "7  MULTIPOLYGON (((416066.508 5651463.834, 416066...  "
      ]
     },
     "execution_count": 39,
     "metadata": {},
     "output_type": "execute_result"
    }
   ],
   "source": [
    "filter_db.head()"
   ]
  },
  {
   "cell_type": "markdown",
   "id": "8dd5d59d-681c-47f6-8eff-3604dfa4024d",
   "metadata": {
    "editable": true,
    "slideshow": {
     "slide_type": ""
    },
    "tags": []
   },
   "source": [
    "In the next chapter, it is explained how to plot this data."
   ]
  }
 ],
 "metadata": {
  "kernelspec": {
   "display_name": "worker_env",
   "language": "python",
   "name": "worker_env"
  },
  "language_info": {
   "codemirror_mode": {
    "name": "ipython",
    "version": 3
   },
   "file_extension": ".py",
   "mimetype": "text/x-python",
   "name": "python",
   "nbconvert_exporter": "python",
   "pygments_lexer": "ipython3",
   "version": "3.12.7"
  }
 },
 "nbformat": 4,
 "nbformat_minor": 5
}
