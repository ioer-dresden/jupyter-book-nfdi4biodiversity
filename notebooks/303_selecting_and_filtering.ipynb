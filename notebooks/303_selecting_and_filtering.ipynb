{
 "cells": [
  {
   "cell_type": "markdown",
   "id": "b06fb7e5-c138-4964-a770-5c033bea9f06",
   "metadata": {
    "editable": true,
    "slideshow": {
     "slide_type": ""
    },
    "tags": []
   },
   "source": [
    "# Selecting and Filtering Data"
   ]
  },
  {
   "cell_type": "markdown",
   "id": "c27b5fac-0b51-466d-9f32-0b3a28690615",
   "metadata": {
    "editable": true,
    "slideshow": {
     "slide_type": ""
    },
    "tags": []
   },
   "source": [
    "```{admonition} Summary\n",
    ":class: hint\n",
    "\n",
    "\n",
    "```"
   ]
  },
  {
   "cell_type": "markdown",
   "id": "3b124819-544c-4a2d-b798-0b5026604022",
   "metadata": {
    "editable": true,
    "slideshow": {
     "slide_type": ""
    },
    "tags": []
   },
   "source": [
    "For analyzing the data, if the data is huge, the processing with Jupyter will take more time, or sometimes the result will not be visualized. So the data could be limited to small parts by selecting the data of interest."
   ]
  },
  {
   "cell_type": "markdown",
   "id": "3f055b6f-3f87-423d-94fb-1e36ea2b1d8f",
   "metadata": {
    "editable": true,
    "slideshow": {
     "slide_type": ""
    },
    "tags": []
   },
   "source": [
    "Load data first."
   ]
  },
  {
   "cell_type": "code",
   "execution_count": 154,
   "id": "887201a7-2d9c-4ba9-8078-0189abf7a758",
   "metadata": {
    "editable": true,
    "slideshow": {
     "slide_type": ""
    },
    "tags": [
     "hide_input"
    ]
   },
   "outputs": [],
   "source": [
    "import geopandas as gp\n",
    "import pandas as pd\n",
    "from pathlib import Path\n",
    "INPUT = Path.cwd().parents[0] / \"00_data\"\n",
    "gdb_path = INPUT / \"Biotopwerte_Dresden_2018.gdb\"\n",
    "gdf = gp.read_file(gdb_path, layer=\"Biotopwerte_Dresden_2018\")"
   ]
  },
  {
   "cell_type": "markdown",
   "id": "c5a88b56-1579-4f7f-9ce4-bb7e3df380f4",
   "metadata": {
    "editable": true,
    "slideshow": {
     "slide_type": ""
    },
    "tags": []
   },
   "source": [
    "The headers (attributes) of the data are called."
   ]
  },
  {
   "cell_type": "code",
   "execution_count": 155,
   "id": "2ba03ceb-80b2-46b2-81ff-9f0c2ad0164a",
   "metadata": {
    "editable": true,
    "slideshow": {
     "slide_type": ""
    },
    "tags": []
   },
   "outputs": [
    {
     "data": {
      "text/plain": [
       "['CLC_st1', 'Biotpkt2018', 'Shape_Length', 'Shape_Area', 'geometry']"
      ]
     },
     "execution_count": 155,
     "metadata": {},
     "output_type": "execute_result"
    }
   ],
   "source": [
    "list(gdf.columns)"
   ]
  },
  {
   "cell_type": "markdown",
   "id": "c719fe5c-0583-408b-9ff4-2edb5c0cfa25",
   "metadata": {
    "editable": true,
    "slideshow": {
     "slide_type": ""
    },
    "tags": []
   },
   "source": [
    "It is important to have information about the format of each attribute. "
   ]
  },
  {
   "cell_type": "markdown",
   "id": "2488bae7-6dcb-4033-bcd0-6ff65d415d98",
   "metadata": {
    "editable": true,
    "slideshow": {
     "slide_type": ""
    },
    "tags": []
   },
   "source": [
    "`````{admonition} Essentials of Attribute Formatting\n",
    ":class: note\n",
    "When working with attributes:\n",
    "- Use quotes ('  ') for text or numbers stored as string (object) format\n",
    "- For numeric values (like integers or floats), use them directly without quotes.\n",
    "\n",
    "`````"
   ]
  },
  {
   "cell_type": "markdown",
   "id": "c19dcdfe-9ae2-412e-838a-23953014dce0",
   "metadata": {
    "editable": true,
    "slideshow": {
     "slide_type": ""
    },
    "tags": []
   },
   "source": [
    "To check the format of the attributes the `dtypes` method is used."
   ]
  },
  {
   "cell_type": "code",
   "execution_count": 156,
   "id": "512efd9a-9467-4003-82c8-bae735eb3ddc",
   "metadata": {
    "editable": true,
    "slideshow": {
     "slide_type": ""
    },
    "tags": []
   },
   "outputs": [
    {
     "data": {
      "text/plain": [
       "CLC_st1           object\n",
       "Biotpkt2018      float64\n",
       "Shape_Length     float64\n",
       "Shape_Area       float64\n",
       "geometry        geometry\n",
       "dtype: object"
      ]
     },
     "execution_count": 156,
     "metadata": {},
     "output_type": "execute_result"
    }
   ],
   "source": [
    "gdf.dtypes"
   ]
  },
  {
   "cell_type": "markdown",
   "id": "7c10d761-cbb2-4f16-bad2-435db2e180e1",
   "metadata": {
    "editable": true,
    "slideshow": {
     "slide_type": ""
    },
    "tags": []
   },
   "source": [
    "```{figure} ../resources/22-2.png\n",
    ":name: figure-example\n",
    "\n",
    "Attributes in Dataset Based on the Metadata\n",
    "````"
   ]
  },
  {
   "cell_type": "markdown",
   "id": "6def3900-da4c-45f2-a341-7ed4859b1431",
   "metadata": {
    "editable": true,
    "slideshow": {
     "slide_type": ""
    },
    "tags": []
   },
   "source": [
    "## Unique Values Selection\n"
   ]
  },
  {
   "cell_type": "markdown",
   "id": "1b50c5d7-e24b-464b-ab2c-e9cde97724e5",
   "metadata": {
    "editable": true,
    "slideshow": {
     "slide_type": ""
    },
    "tags": []
   },
   "source": [
    "The `unique` function returns all distinct values of an attribute.\n"
   ]
  },
  {
   "cell_type": "markdown",
   "id": "49909dfc-28ab-49d7-bd5d-8860c3fd0317",
   "metadata": {
    "editable": true,
    "slideshow": {
     "slide_type": ""
    },
    "tags": []
   },
   "source": [
    "**ex:** In this dataset, the `CLC_st1` attribute might have some identical values for land use (such as '313' for mixed forest or '512' for water bodies) but multiple features in the dataset recorded as mixed forest or water bodies."
   ]
  },
  {
   "cell_type": "markdown",
   "id": "00d19c29-d3b7-4f89-9653-19f0a358ec2c",
   "metadata": {
    "editable": true,
    "slideshow": {
     "slide_type": ""
    },
    "tags": []
   },
   "source": [
    "```{figure} ../resources/19.png\n",
    ":name: figure-example\n",
    "\n",
    "Classification Code Interpretation\n",
    "````"
   ]
  },
  {
   "cell_type": "markdown",
   "id": "8c965d60-c845-45bf-a964-eeb620843d77",
   "metadata": {
    "editable": true,
    "slideshow": {
     "slide_type": ""
    },
    "tags": []
   },
   "source": [
    "By defining the attribute of interest in this example `CLC_st1`, the unique values in this attribute are visualized."
   ]
  },
  {
   "cell_type": "code",
   "execution_count": 157,
   "id": "b951eef9-e747-498d-93b0-754f2963da04",
   "metadata": {
    "editable": true,
    "slideshow": {
     "slide_type": ""
    },
    "tags": []
   },
   "outputs": [
    {
     "data": {
      "text/plain": [
       "array(['122', '124', '511', '332', '322', '112', '111', '121', '123',\n",
       "       '142', '132', '211', '133', '231', '221', '222', '141', '324',\n",
       "       '311', '312', '313', '321', '131', '333', '411', '512'],\n",
       "      dtype=object)"
      ]
     },
     "execution_count": 157,
     "metadata": {},
     "output_type": "execute_result"
    }
   ],
   "source": [
    "unique_groups = gdf['CLC_st1'].unique()\n",
    "unique_groups"
   ]
  },
  {
   "cell_type": "markdown",
   "id": "2f18b8dc-7521-4734-b96a-e8b23d10b452",
   "metadata": {
    "editable": true,
    "slideshow": {
     "slide_type": ""
    },
    "tags": []
   },
   "source": [
    "Also the number of the unique values can be accessed by `nunique` function."
   ]
  },
  {
   "cell_type": "code",
   "execution_count": 158,
   "id": "bd06218a-dba6-4eee-9c9b-8606cc18cba0",
   "metadata": {
    "editable": true,
    "slideshow": {
     "slide_type": ""
    },
    "tags": []
   },
   "outputs": [
    {
     "data": {
      "text/plain": [
       "26"
      ]
     },
     "execution_count": 158,
     "metadata": {},
     "output_type": "execute_result"
    }
   ],
   "source": [
    "unique_numbers = gdf['CLC_st1'].nunique()\n",
    "unique_numbers"
   ]
  },
  {
   "cell_type": "markdown",
   "id": "556b9aea-738f-4adb-8332-93f65c9d531e",
   "metadata": {
    "editable": true,
    "slideshow": {
     "slide_type": ""
    },
    "tags": []
   },
   "source": [
    "`````{admonition} None values in nunique function!\n",
    ":class: danger\n",
    "\n",
    "By default, the `nunique` function does not count **null** or **missing** values.\n",
    "`````"
   ]
  },
  {
   "cell_type": "markdown",
   "id": "a619b0dc-74ba-4c36-8944-006421c76cd4",
   "metadata": {
    "editable": true,
    "slideshow": {
     "slide_type": ""
    },
    "tags": []
   },
   "source": [
    "For including the `None` values as unique values, `dropna` parameter should modify to False."
   ]
  },
  {
   "cell_type": "code",
   "execution_count": 159,
   "id": "a451041a-448f-4f26-bd8a-f68e9e731f30",
   "metadata": {
    "editable": true,
    "slideshow": {
     "slide_type": ""
    },
    "tags": []
   },
   "outputs": [
    {
     "data": {
      "text/plain": [
       "26"
      ]
     },
     "execution_count": 159,
     "metadata": {},
     "output_type": "execute_result"
    }
   ],
   "source": [
    "unique_numbers = gdf['CLC_st1'].nunique(dropna = False)\n",
    "unique_numbers"
   ]
  },
  {
   "cell_type": "markdown",
   "id": "51435382-3623-4703-9860-7e34f4e6f4ae",
   "metadata": {
    "editable": true,
    "slideshow": {
     "slide_type": ""
    },
    "tags": []
   },
   "source": [
    "The frequency of each unique value can be counted using the `groupby` method.\n"
   ]
  },
  {
   "cell_type": "markdown",
   "id": "62d3f8fe-52a2-437e-9b5e-d7c7c048cda3",
   "metadata": {
    "editable": true,
    "slideshow": {
     "slide_type": ""
    },
    "tags": []
   },
   "source": [
    "The data then is grouped by unique values, and the number of entries in each group is calculated using the `size` function."
   ]
  },
  {
   "cell_type": "markdown",
   "id": "38d69870-85ca-45f9-a72b-ae112bb21933",
   "metadata": {
    "editable": true,
    "slideshow": {
     "slide_type": ""
    },
    "tags": []
   },
   "source": [
    "In the following example, just 4 features recorded with the code of \"133\" representing construction sites, while the code of \"511\" representing water cources has 2563 records in this dataset."
   ]
  },
  {
   "cell_type": "markdown",
   "id": "74373811-16e0-4d05-a9e8-447f870d0d41",
   "metadata": {
    "editable": true,
    "slideshow": {
     "slide_type": ""
    },
    "tags": []
   },
   "source": [
    "`````{admonition} Order of Groups with size function\n",
    ":class: tip, dropdown\n",
    "The result of `size` function is sorted based on unique values:\n",
    "- For **string** unique values, sorting is in **alphabetical** order.\n",
    "- For **number** unique values, sorting is in **ascending numerical** order.\n",
    "\n",
    "\n",
    "**ex:** In the following example, the unique values are in the number format so they ordered ascending as 111, 112, 121, ...\n",
    "`````\n"
   ]
  },
  {
   "cell_type": "code",
   "execution_count": 193,
   "id": "91b5e6a6-f7a0-438a-8d32-a7d60a12f9a5",
   "metadata": {
    "editable": true,
    "slideshow": {
     "slide_type": ""
    },
    "tags": [
     "hide-output",
     "hide_output"
    ]
   },
   "outputs": [
    {
     "data": {
      "text/html": [
       "<div>\n",
       "<style scoped>\n",
       "    .dataframe tbody tr th:only-of-type {\n",
       "        vertical-align: middle;\n",
       "    }\n",
       "\n",
       "    .dataframe tbody tr th {\n",
       "        vertical-align: top;\n",
       "    }\n",
       "\n",
       "    .dataframe thead th {\n",
       "        text-align: right;\n",
       "    }\n",
       "</style>\n",
       "<table border=\"1\" class=\"dataframe\">\n",
       "  <thead>\n",
       "    <tr style=\"text-align: right;\">\n",
       "      <th>CLC_st1</th>\n",
       "      <th>111</th>\n",
       "      <th>112</th>\n",
       "      <th>121</th>\n",
       "      <th>122</th>\n",
       "      <th>123</th>\n",
       "      <th>124</th>\n",
       "      <th>131</th>\n",
       "      <th>132</th>\n",
       "      <th>133</th>\n",
       "      <th>141</th>\n",
       "      <th>...</th>\n",
       "      <th>312</th>\n",
       "      <th>313</th>\n",
       "      <th>321</th>\n",
       "      <th>322</th>\n",
       "      <th>324</th>\n",
       "      <th>332</th>\n",
       "      <th>333</th>\n",
       "      <th>411</th>\n",
       "      <th>511</th>\n",
       "      <th>512</th>\n",
       "    </tr>\n",
       "  </thead>\n",
       "  <tbody>\n",
       "    <tr>\n",
       "      <th>0</th>\n",
       "      <td>1115</td>\n",
       "      <td>7187</td>\n",
       "      <td>2732</td>\n",
       "      <td>5454</td>\n",
       "      <td>12</td>\n",
       "      <td>133</td>\n",
       "      <td>16</td>\n",
       "      <td>47</td>\n",
       "      <td>4</td>\n",
       "      <td>1627</td>\n",
       "      <td>...</td>\n",
       "      <td>1546</td>\n",
       "      <td>1594</td>\n",
       "      <td>8</td>\n",
       "      <td>667</td>\n",
       "      <td>525</td>\n",
       "      <td>36</td>\n",
       "      <td>10</td>\n",
       "      <td>3</td>\n",
       "      <td>2563</td>\n",
       "      <td>234</td>\n",
       "    </tr>\n",
       "  </tbody>\n",
       "</table>\n",
       "<p>1 rows × 26 columns</p>\n",
       "</div>"
      ],
      "text/plain": [
       "CLC_st1   111   112   121   122  123  124  131  132  133   141  ...   312  \\\n",
       "0        1115  7187  2732  5454   12  133   16   47    4  1627  ...  1546   \n",
       "\n",
       "CLC_st1   313  321  322  324  332  333  411   511  512  \n",
       "0        1594    8  667  525   36   10    3  2563  234  \n",
       "\n",
       "[1 rows x 26 columns]"
      ]
     },
     "execution_count": 193,
     "metadata": {},
     "output_type": "execute_result"
    }
   ],
   "source": [
    "groupcounts = gdf.groupby('CLC_st1').size()\n",
    "pd.DataFrame(groupcounts).T"
   ]
  },
  {
   "cell_type": "markdown",
   "id": "a03a3ae1-7f4b-4605-b7c4-75687351e0df",
   "metadata": {
    "editable": true,
    "slideshow": {
     "slide_type": ""
    },
    "tags": []
   },
   "source": [
    "The frequency of unique values can also be counted using the `value_counts` method.\n"
   ]
  },
  {
   "cell_type": "markdown",
   "id": "989eccc4-f76d-41de-a6dc-c33249a19bdc",
   "metadata": {
    "editable": true,
    "slideshow": {
     "slide_type": ""
    },
    "tags": []
   },
   "source": [
    "`````{admonition} Order of Groups with value_counts function\n",
    ":class: tip, dropdown\n",
    "The output of the `value_counts` function is sorted in descending order based on the frequency counts.\n",
    "\n",
    "\n",
    "**ex:** In the following example the counts ordered descending.\n",
    "`````\n"
   ]
  },
  {
   "cell_type": "code",
   "execution_count": 161,
   "id": "a9014c5a-d839-44fc-ab5b-97605ca65c1b",
   "metadata": {
    "editable": true,
    "slideshow": {
     "slide_type": ""
    },
    "tags": []
   },
   "outputs": [
    {
     "data": {
      "text/html": [
       "<div>\n",
       "<style scoped>\n",
       "    .dataframe tbody tr th:only-of-type {\n",
       "        vertical-align: middle;\n",
       "    }\n",
       "\n",
       "    .dataframe tbody tr th {\n",
       "        vertical-align: top;\n",
       "    }\n",
       "\n",
       "    .dataframe thead th {\n",
       "        text-align: right;\n",
       "    }\n",
       "</style>\n",
       "<table border=\"1\" class=\"dataframe\">\n",
       "  <thead>\n",
       "    <tr style=\"text-align: right;\">\n",
       "      <th>CLC_st1</th>\n",
       "      <th>112</th>\n",
       "      <th>122</th>\n",
       "      <th>231</th>\n",
       "      <th>121</th>\n",
       "      <th>511</th>\n",
       "      <th>142</th>\n",
       "      <th>311</th>\n",
       "      <th>141</th>\n",
       "      <th>313</th>\n",
       "      <th>312</th>\n",
       "      <th>...</th>\n",
       "      <th>222</th>\n",
       "      <th>132</th>\n",
       "      <th>332</th>\n",
       "      <th>131</th>\n",
       "      <th>221</th>\n",
       "      <th>123</th>\n",
       "      <th>333</th>\n",
       "      <th>321</th>\n",
       "      <th>133</th>\n",
       "      <th>411</th>\n",
       "    </tr>\n",
       "  </thead>\n",
       "  <tbody>\n",
       "    <tr>\n",
       "      <th>count</th>\n",
       "      <td>7187</td>\n",
       "      <td>5454</td>\n",
       "      <td>3293</td>\n",
       "      <td>2732</td>\n",
       "      <td>2563</td>\n",
       "      <td>2413</td>\n",
       "      <td>1787</td>\n",
       "      <td>1627</td>\n",
       "      <td>1594</td>\n",
       "      <td>1546</td>\n",
       "      <td>...</td>\n",
       "      <td>56</td>\n",
       "      <td>47</td>\n",
       "      <td>36</td>\n",
       "      <td>16</td>\n",
       "      <td>14</td>\n",
       "      <td>12</td>\n",
       "      <td>10</td>\n",
       "      <td>8</td>\n",
       "      <td>4</td>\n",
       "      <td>3</td>\n",
       "    </tr>\n",
       "  </tbody>\n",
       "</table>\n",
       "<p>1 rows × 26 columns</p>\n",
       "</div>"
      ],
      "text/plain": [
       "CLC_st1   112   122   231   121   511   142   311   141   313   312  ...  222  \\\n",
       "count    7187  5454  3293  2732  2563  2413  1787  1627  1594  1546  ...   56   \n",
       "\n",
       "CLC_st1  132  332  131  221  123  333  321  133  411  \n",
       "count     47   36   16   14   12   10    8    4    3  \n",
       "\n",
       "[1 rows x 26 columns]"
      ]
     },
     "execution_count": 161,
     "metadata": {},
     "output_type": "execute_result"
    }
   ],
   "source": [
    "groupcounts = gdf[\"CLC_st1\"].value_counts()\n",
    "pd.DataFrame(groupcounts).T"
   ]
  },
  {
   "cell_type": "markdown",
   "id": "5bf1e8d3-7812-4df2-8009-65fded991570",
   "metadata": {
    "editable": true,
    "slideshow": {
     "slide_type": ""
    },
    "tags": []
   },
   "source": [
    "In a long list of unique values, if the number of features for a specific group is needed, it can be accessed like a value for a key in a dictionary."
   ]
  },
  {
   "cell_type": "markdown",
   "id": "e3811788-9966-4ff1-ba44-21143cd66e4b",
   "metadata": {
    "editable": true,
    "slideshow": {
     "slide_type": ""
    },
    "tags": []
   },
   "source": [
    "`````{admonition} Format Importance Use Case\n",
    ":class: warning,\n",
    "The importance of attribute formatting, mentioned at the beginning of this chapter, will be highlighted here. In the following examples, the values for **both** attributes of \"CLC_st1\" and \"Biotpkt2018\" are **numbers**, while the format of the first is an object (string) and the second is a float. So for calling the \"CLC_st1\" values the quotes ('') are required, while for the \"Biotpkt2018\" values the quotes are not required. \n",
    "`````"
   ]
  },
  {
   "cell_type": "markdown",
   "id": "53815fdd-c4be-4798-bc6b-462f54945ccc",
   "metadata": {
    "editable": true,
    "slideshow": {
     "slide_type": ""
    },
    "tags": []
   },
   "source": [
    "- **String Format**"
   ]
  },
  {
   "cell_type": "markdown",
   "id": "92b58228-33b5-4e21-ac53-96055fba7e3d",
   "metadata": {
    "editable": true,
    "slideshow": {
     "slide_type": ""
    },
    "tags": []
   },
   "source": [
    "In the following example, the output shows that in this dataset, 2413 features recorded with code 142: Sport and leisure facilities"
   ]
  },
  {
   "cell_type": "code",
   "execution_count": 162,
   "id": "22f709fb-365f-48b7-9a36-d6a6093be627",
   "metadata": {
    "editable": true,
    "slideshow": {
     "slide_type": ""
    },
    "tags": []
   },
   "outputs": [
    {
     "data": {
      "text/plain": [
       "2413"
      ]
     },
     "execution_count": 162,
     "metadata": {},
     "output_type": "execute_result"
    }
   ],
   "source": [
    "sv_count = groupcounts['142']\n",
    "sv_count"
   ]
  },
  {
   "cell_type": "markdown",
   "id": "7dc03131-4793-42e5-96b3-0fb9aa0ead0d",
   "metadata": {
    "editable": true,
    "slideshow": {
     "slide_type": ""
    },
    "tags": []
   },
   "source": [
    "- **Float Format**"
   ]
  },
  {
   "cell_type": "code",
   "execution_count": 163,
   "id": "0d4de373-db4c-41d1-839e-e1a1e264490c",
   "metadata": {
    "editable": true,
    "slideshow": {
     "slide_type": ""
    },
    "tags": []
   },
   "outputs": [
    {
     "data": {
      "text/plain": [
       "Biotpkt2018\n",
       "0.000000      16\n",
       "0.500000      55\n",
       "1.000000      52\n",
       "1.500000     102\n",
       "2.000000     131\n",
       "            ... \n",
       "16.928546     36\n",
       "17.079406      3\n",
       "17.381302     10\n",
       "18.055116    667\n",
       "20.164493      8\n",
       "Length: 69, dtype: int64"
      ]
     },
     "execution_count": 163,
     "metadata": {},
     "output_type": "execute_result"
    }
   ],
   "source": [
    "group_2 = gdf.groupby('Biotpkt2018').size()\n",
    "group_2"
   ]
  },
  {
   "cell_type": "code",
   "execution_count": 164,
   "id": "14c427e4-fa07-46e1-8a39-d5025e13819e",
   "metadata": {
    "editable": true,
    "slideshow": {
     "slide_type": ""
    },
    "tags": []
   },
   "outputs": [
    {
     "data": {
      "text/plain": [
       "52"
      ]
     },
     "execution_count": 164,
     "metadata": {},
     "output_type": "execute_result"
    }
   ],
   "source": [
    "group_2[1.000000]"
   ]
  },
  {
   "cell_type": "markdown",
   "id": "4788a860-f6e0-410c-8969-1b117241635c",
   "metadata": {
    "editable": true,
    "slideshow": {
     "slide_type": ""
    },
    "tags": []
   },
   "source": [
    "```{admonition} Importance of the precision of float format!\n",
    ":class: note, dropdown\n",
    "Sometimes, due to the precision of the float format, the printed output of the `groupby` or `value_counts` function may not exactly match the value in the DataFrame. In this case, if a value from their output is called directly, an error will occur.\n",
    "\n",
    "The following figure is an example of this note, when the value \"18.055116\" called. This value is an output of the `groupby` function in the previous step, but it is a rounded value, and this value in the dataset includes additional decimal places like 18.05511611 or 18.05511689 or ...\n",
    "\n",
    "```{figure} ../resources/14_.png\n",
    ":width: 700px\n",
    ":name: figure-example \n",
    "Error of calling rounded values instead of precise values in the dataset\n",
    "```\n"
   ]
  },
  {
   "cell_type": "markdown",
   "id": "ce7e3a40-4b71-4ea5-90e7-2a94e2a2508b",
   "metadata": {
    "editable": true,
    "slideshow": {
     "slide_type": ""
    },
    "tags": []
   },
   "source": [
    "## Selection of String Values"
   ]
  },
  {
   "cell_type": "markdown",
   "id": "91c83c38-ae71-4758-9c28-8c99ac635cd7",
   "metadata": {
    "editable": true,
    "slideshow": {
     "slide_type": ""
    },
    "tags": []
   },
   "source": [
    "After becoming familiar with attributes and unique values of the features, the required features can be selected:"
   ]
  },
  {
   "cell_type": "markdown",
   "id": "c5a50bd3-7774-46e2-9550-0eeca664601a",
   "metadata": {
    "editable": true,
    "slideshow": {
     "slide_type": ""
    },
    "tags": []
   },
   "source": [
    "If only features with a specific value are needed, the value can be called directly:\n"
   ]
  },
  {
   "cell_type": "code",
   "execution_count": 165,
   "id": "3c492812-207d-4204-b741-e9f616a8341c",
   "metadata": {
    "editable": true,
    "slideshow": {
     "slide_type": ""
    },
    "tags": [
     "hide_output",
     "hide-output"
    ]
   },
   "outputs": [
    {
     "data": {
      "text/html": [
       "<div>\n",
       "<style scoped>\n",
       "    .dataframe tbody tr th:only-of-type {\n",
       "        vertical-align: middle;\n",
       "    }\n",
       "\n",
       "    .dataframe tbody tr th {\n",
       "        vertical-align: top;\n",
       "    }\n",
       "\n",
       "    .dataframe thead th {\n",
       "        text-align: right;\n",
       "    }\n",
       "</style>\n",
       "<table border=\"1\" class=\"dataframe\">\n",
       "  <thead>\n",
       "    <tr style=\"text-align: right;\">\n",
       "      <th></th>\n",
       "      <th>CLC_st1</th>\n",
       "      <th>Biotpkt2018</th>\n",
       "      <th>Shape_Length</th>\n",
       "      <th>Shape_Area</th>\n",
       "      <th>geometry</th>\n",
       "    </tr>\n",
       "  </thead>\n",
       "  <tbody>\n",
       "    <tr>\n",
       "      <th>11831</th>\n",
       "      <td>133</td>\n",
       "      <td>6.035751</td>\n",
       "      <td>17.828953</td>\n",
       "      <td>0.432276</td>\n",
       "      <td>MULTIPOLYGON (((411237.019 5656164.663, 411228...</td>\n",
       "    </tr>\n",
       "    <tr>\n",
       "      <th>24343</th>\n",
       "      <td>133</td>\n",
       "      <td>6.035751</td>\n",
       "      <td>287.703701</td>\n",
       "      <td>4278.338534</td>\n",
       "      <td>MULTIPOLYGON (((411656.913 5656302.92, 411664....</td>\n",
       "    </tr>\n",
       "    <tr>\n",
       "      <th>24344</th>\n",
       "      <td>133</td>\n",
       "      <td>6.035751</td>\n",
       "      <td>183.544225</td>\n",
       "      <td>2066.507754</td>\n",
       "      <td>MULTIPOLYGON (((411567.287 5656337.438, 411562...</td>\n",
       "    </tr>\n",
       "    <tr>\n",
       "      <th>24347</th>\n",
       "      <td>133</td>\n",
       "      <td>6.035751</td>\n",
       "      <td>213.015432</td>\n",
       "      <td>2684.440542</td>\n",
       "      <td>MULTIPOLYGON (((411587.489 5655959.618, 411588...</td>\n",
       "    </tr>\n",
       "  </tbody>\n",
       "</table>\n",
       "</div>"
      ],
      "text/plain": [
       "      CLC_st1  Biotpkt2018  Shape_Length   Shape_Area  \\\n",
       "11831     133     6.035751     17.828953     0.432276   \n",
       "24343     133     6.035751    287.703701  4278.338534   \n",
       "24344     133     6.035751    183.544225  2066.507754   \n",
       "24347     133     6.035751    213.015432  2684.440542   \n",
       "\n",
       "                                                geometry  \n",
       "11831  MULTIPOLYGON (((411237.019 5656164.663, 411228...  \n",
       "24343  MULTIPOLYGON (((411656.913 5656302.92, 411664....  \n",
       "24344  MULTIPOLYGON (((411567.287 5656337.438, 411562...  \n",
       "24347  MULTIPOLYGON (((411587.489 5655959.618, 411588...  "
      ]
     },
     "execution_count": 165,
     "metadata": {},
     "output_type": "execute_result"
    }
   ],
   "source": [
    "filtered_data = gdf[gdf['CLC_st1'] == '133']\n",
    "filtered_data.head(5)"
   ]
  },
  {
   "cell_type": "markdown",
   "id": "61369821-0ebc-4858-a064-07c46e8726d3",
   "metadata": {
    "editable": true,
    "slideshow": {
     "slide_type": ""
    },
    "tags": []
   },
   "source": [
    "## Selection of Float Values\n"
   ]
  },
  {
   "cell_type": "code",
   "execution_count": 166,
   "id": "476c4578-5099-450e-a774-2c39fef42c2e",
   "metadata": {
    "editable": true,
    "slideshow": {
     "slide_type": ""
    },
    "tags": [
     "hide_output",
     "hide-output"
    ]
   },
   "outputs": [
    {
     "data": {
      "text/html": [
       "<div>\n",
       "<style scoped>\n",
       "    .dataframe tbody tr th:only-of-type {\n",
       "        vertical-align: middle;\n",
       "    }\n",
       "\n",
       "    .dataframe tbody tr th {\n",
       "        vertical-align: top;\n",
       "    }\n",
       "\n",
       "    .dataframe thead th {\n",
       "        text-align: right;\n",
       "    }\n",
       "</style>\n",
       "<table border=\"1\" class=\"dataframe\">\n",
       "  <thead>\n",
       "    <tr style=\"text-align: right;\">\n",
       "      <th></th>\n",
       "      <th>CLC_st1</th>\n",
       "      <th>Biotpkt2018</th>\n",
       "      <th>Shape_Length</th>\n",
       "      <th>Shape_Area</th>\n",
       "      <th>geometry</th>\n",
       "    </tr>\n",
       "  </thead>\n",
       "  <tbody>\n",
       "    <tr>\n",
       "      <th>9492</th>\n",
       "      <td>111</td>\n",
       "      <td>1.0</td>\n",
       "      <td>411.855290</td>\n",
       "      <td>2480.458787</td>\n",
       "      <td>MULTIPOLYGON (((406985.474 5655597.694, 406984...</td>\n",
       "    </tr>\n",
       "    <tr>\n",
       "      <th>9504</th>\n",
       "      <td>111</td>\n",
       "      <td>1.0</td>\n",
       "      <td>89.433492</td>\n",
       "      <td>466.944726</td>\n",
       "      <td>MULTIPOLYGON (((416782.224 5652196.728, 416782...</td>\n",
       "    </tr>\n",
       "    <tr>\n",
       "      <th>9514</th>\n",
       "      <td>111</td>\n",
       "      <td>1.0</td>\n",
       "      <td>172.927119</td>\n",
       "      <td>1621.632535</td>\n",
       "      <td>MULTIPOLYGON (((419300.05 5657313.72, 419299.9...</td>\n",
       "    </tr>\n",
       "    <tr>\n",
       "      <th>9515</th>\n",
       "      <td>111</td>\n",
       "      <td>1.0</td>\n",
       "      <td>320.578260</td>\n",
       "      <td>3691.824728</td>\n",
       "      <td>MULTIPOLYGON (((408302.234 5655785.262, 408296...</td>\n",
       "    </tr>\n",
       "    <tr>\n",
       "      <th>9519</th>\n",
       "      <td>111</td>\n",
       "      <td>1.0</td>\n",
       "      <td>121.899927</td>\n",
       "      <td>920.751286</td>\n",
       "      <td>MULTIPOLYGON (((414687.929 5655817.21, 414656....</td>\n",
       "    </tr>\n",
       "  </tbody>\n",
       "</table>\n",
       "</div>"
      ],
      "text/plain": [
       "     CLC_st1  Biotpkt2018  Shape_Length   Shape_Area  \\\n",
       "9492     111          1.0    411.855290  2480.458787   \n",
       "9504     111          1.0     89.433492   466.944726   \n",
       "9514     111          1.0    172.927119  1621.632535   \n",
       "9515     111          1.0    320.578260  3691.824728   \n",
       "9519     111          1.0    121.899927   920.751286   \n",
       "\n",
       "                                               geometry  \n",
       "9492  MULTIPOLYGON (((406985.474 5655597.694, 406984...  \n",
       "9504  MULTIPOLYGON (((416782.224 5652196.728, 416782...  \n",
       "9514  MULTIPOLYGON (((419300.05 5657313.72, 419299.9...  \n",
       "9515  MULTIPOLYGON (((408302.234 5655785.262, 408296...  \n",
       "9519  MULTIPOLYGON (((414687.929 5655817.21, 414656....  "
      ]
     },
     "execution_count": 166,
     "metadata": {},
     "output_type": "execute_result"
    }
   ],
   "source": [
    "filtered_data = gdf[gdf['Biotpkt2018'] == 1.000000]\n",
    "filtered_data.head(5)"
   ]
  },
  {
   "cell_type": "markdown",
   "id": "de77d403-c6fa-41e5-9201-a4688d36d403",
   "metadata": {
    "editable": true,
    "slideshow": {
     "slide_type": ""
    },
    "tags": []
   },
   "source": [
    "`````{admonition} Importance of the precision of float format!\n",
    ":class: note, dropdown\n",
    "As mentioned in the previous note, for float values, due to precision, it may sometimes show an empty DataFrame (meaning no feature with this value exists), while in `groupby` or `value_counts` functions, it may indicate that some features with this value exist.\n",
    "\n",
    "```{figure} ../resources/15_.png\n",
    ":width: 600px\n",
    ":name: figure-example\n",
    "Empty output for calling rounded values instead of precise values in the dataset\n",
    "`````"
   ]
  },
  {
   "cell_type": "code",
   "execution_count": 167,
   "id": "17166de4-c464-4e04-b4a7-13f17c7cab0e",
   "metadata": {
    "editable": true,
    "slideshow": {
     "slide_type": ""
    },
    "tags": []
   },
   "outputs": [
    {
     "data": {
      "text/html": [
       "<div>\n",
       "<style scoped>\n",
       "    .dataframe tbody tr th:only-of-type {\n",
       "        vertical-align: middle;\n",
       "    }\n",
       "\n",
       "    .dataframe tbody tr th {\n",
       "        vertical-align: top;\n",
       "    }\n",
       "\n",
       "    .dataframe thead th {\n",
       "        text-align: right;\n",
       "    }\n",
       "</style>\n",
       "<table border=\"1\" class=\"dataframe\">\n",
       "  <thead>\n",
       "    <tr style=\"text-align: right;\">\n",
       "      <th></th>\n",
       "      <th>CLC_st1</th>\n",
       "      <th>Biotpkt2018</th>\n",
       "      <th>Shape_Length</th>\n",
       "      <th>Shape_Area</th>\n",
       "      <th>geometry</th>\n",
       "    </tr>\n",
       "  </thead>\n",
       "  <tbody>\n",
       "  </tbody>\n",
       "</table>\n",
       "</div>"
      ],
      "text/plain": [
       "Empty GeoDataFrame\n",
       "Columns: [CLC_st1, Biotpkt2018, Shape_Length, Shape_Area, geometry]\n",
       "Index: []"
      ]
     },
     "execution_count": 167,
     "metadata": {},
     "output_type": "execute_result"
    }
   ],
   "source": [
    "# Codes of the upper note\n",
    "filtered_data = gdf[gdf['Biotpkt2018'] == 18.055116]\n",
    "filtered_data.head(5)"
   ]
  },
  {
   "cell_type": "markdown",
   "id": "cc3489d8-3c60-41e7-b13d-939f14388bdb",
   "metadata": {
    "editable": true,
    "slideshow": {
     "slide_type": ""
    },
    "tags": []
   },
   "source": [
    "If features with more than one specific value are needed, the values can be called as a list using `isin` method."
   ]
  },
  {
   "cell_type": "code",
   "execution_count": 168,
   "id": "8c5d63a1-59be-47f0-8374-de28724ed20c",
   "metadata": {
    "editable": true,
    "slideshow": {
     "slide_type": ""
    },
    "tags": [
     "hide_output",
     "hide-output"
    ]
   },
   "outputs": [
    {
     "data": {
      "text/html": [
       "<div>\n",
       "<style scoped>\n",
       "    .dataframe tbody tr th:only-of-type {\n",
       "        vertical-align: middle;\n",
       "    }\n",
       "\n",
       "    .dataframe tbody tr th {\n",
       "        vertical-align: top;\n",
       "    }\n",
       "\n",
       "    .dataframe thead th {\n",
       "        text-align: right;\n",
       "    }\n",
       "</style>\n",
       "<table border=\"1\" class=\"dataframe\">\n",
       "  <thead>\n",
       "    <tr style=\"text-align: right;\">\n",
       "      <th></th>\n",
       "      <th>CLC_st1</th>\n",
       "      <th>Biotpkt2018</th>\n",
       "      <th>Shape_Length</th>\n",
       "      <th>Shape_Area</th>\n",
       "      <th>geometry</th>\n",
       "    </tr>\n",
       "  </thead>\n",
       "  <tbody>\n",
       "    <tr>\n",
       "      <th>11831</th>\n",
       "      <td>133</td>\n",
       "      <td>6.035751</td>\n",
       "      <td>17.828953</td>\n",
       "      <td>0.432276</td>\n",
       "      <td>MULTIPOLYGON (((411237.019 5656164.663, 411228...</td>\n",
       "    </tr>\n",
       "    <tr>\n",
       "      <th>23859</th>\n",
       "      <td>321</td>\n",
       "      <td>20.164493</td>\n",
       "      <td>618.702965</td>\n",
       "      <td>18317.038350</td>\n",
       "      <td>MULTIPOLYGON (((415627.211 5652243.292, 415579...</td>\n",
       "    </tr>\n",
       "    <tr>\n",
       "      <th>23860</th>\n",
       "      <td>321</td>\n",
       "      <td>20.164493</td>\n",
       "      <td>1099.972947</td>\n",
       "      <td>10894.472486</td>\n",
       "      <td>MULTIPOLYGON (((418611.74 5653542.485, 418618....</td>\n",
       "    </tr>\n",
       "    <tr>\n",
       "      <th>23861</th>\n",
       "      <td>321</td>\n",
       "      <td>20.164493</td>\n",
       "      <td>1023.775893</td>\n",
       "      <td>22918.685826</td>\n",
       "      <td>MULTIPOLYGON (((418506.559 5653953.337, 418516...</td>\n",
       "    </tr>\n",
       "    <tr>\n",
       "      <th>23862</th>\n",
       "      <td>321</td>\n",
       "      <td>20.164493</td>\n",
       "      <td>1126.678849</td>\n",
       "      <td>17980.357862</td>\n",
       "      <td>MULTIPOLYGON (((418145.759 5654361.049, 418151...</td>\n",
       "    </tr>\n",
       "  </tbody>\n",
       "</table>\n",
       "</div>"
      ],
      "text/plain": [
       "      CLC_st1  Biotpkt2018  Shape_Length    Shape_Area  \\\n",
       "11831     133     6.035751     17.828953      0.432276   \n",
       "23859     321    20.164493    618.702965  18317.038350   \n",
       "23860     321    20.164493   1099.972947  10894.472486   \n",
       "23861     321    20.164493   1023.775893  22918.685826   \n",
       "23862     321    20.164493   1126.678849  17980.357862   \n",
       "\n",
       "                                                geometry  \n",
       "11831  MULTIPOLYGON (((411237.019 5656164.663, 411228...  \n",
       "23859  MULTIPOLYGON (((415627.211 5652243.292, 415579...  \n",
       "23860  MULTIPOLYGON (((418611.74 5653542.485, 418618....  \n",
       "23861  MULTIPOLYGON (((418506.559 5653953.337, 418516...  \n",
       "23862  MULTIPOLYGON (((418145.759 5654361.049, 418151...  "
      ]
     },
     "execution_count": 168,
     "metadata": {},
     "output_type": "execute_result"
    }
   ],
   "source": [
    "filtered_data = gdf[gdf['CLC_st1'].isin(['133', '321', '411'])]\n",
    "filtered_data.head(5)"
   ]
  },
  {
   "cell_type": "markdown",
   "id": "53421e26-d248-44e5-9149-457fe4000734",
   "metadata": {
    "editable": true,
    "slideshow": {
     "slide_type": ""
    },
    "tags": []
   },
   "source": [
    "## Dimension of Dataset"
   ]
  },
  {
   "cell_type": "markdown",
   "id": "b79ff8ac-adeb-4d99-b8f6-a98a8ae07055",
   "metadata": {
    "editable": true,
    "slideshow": {
     "slide_type": ""
    },
    "tags": []
   },
   "source": [
    "To access the dimension of the dataset, meaning the number of rows and columns, the method `Shape` is used."
   ]
  },
  {
   "cell_type": "markdown",
   "id": "1efa2885-ee2b-4521-b92f-0f6f30883194",
   "metadata": {
    "editable": true,
    "slideshow": {
     "slide_type": ""
    },
    "tags": []
   },
   "source": [
    "In the following example the dataset includes 15 rows (features) and 6 columns (attributes)."
   ]
  },
  {
   "cell_type": "code",
   "execution_count": 169,
   "id": "80901164-e100-4494-9639-0a65a56a175e",
   "metadata": {
    "editable": true,
    "slideshow": {
     "slide_type": ""
    },
    "tags": []
   },
   "outputs": [
    {
     "data": {
      "text/plain": [
       "(15, 5)"
      ]
     },
     "execution_count": 169,
     "metadata": {},
     "output_type": "execute_result"
    }
   ],
   "source": [
    "filtered_data.shape"
   ]
  },
  {
   "cell_type": "markdown",
   "id": "94ed0b40-5f2b-4856-96c7-e57aa5d4368d",
   "metadata": {
    "editable": true,
    "slideshow": {
     "slide_type": ""
    },
    "tags": []
   },
   "source": [
    "## Adding New Attributes (Columns)"
   ]
  },
  {
   "cell_type": "markdown",
   "id": "fc046775-b73d-4f72-bb16-63daf59d38db",
   "metadata": {
    "editable": true,
    "slideshow": {
     "slide_type": ""
    },
    "tags": []
   },
   "source": [
    "To add a new column to a dataset, the column name is defined for the dataset, and values are assigned to each row."
   ]
  },
  {
   "cell_type": "markdown",
   "id": "689f84dc-2e55-41fe-b006-49eb32dddef2",
   "metadata": {
    "editable": true,
    "slideshow": {
     "slide_type": ""
    },
    "tags": []
   },
   "source": [
    "In the following example, the output of the previous step is used as the dataset, and a new column named **test** is added. "
   ]
  },
  {
   "cell_type": "markdown",
   "id": "d78092db-1e83-41e0-a910-2a9753d057cc",
   "metadata": {
    "editable": true,
    "slideshow": {
     "slide_type": ""
    },
    "tags": []
   },
   "source": [
    "`````{admonition} [ : , 'column_name' ]\n",
    ":class: attention, dropdown\n",
    "\n",
    "Using `:` sign before comma `,` means selecting all the rows, and the information after comma `,` specifies the columns of interest.\n",
    "`````"
   ]
  },
  {
   "cell_type": "markdown",
   "id": "fabaf685-6e5b-4c4c-b79c-2d8aea73b507",
   "metadata": {
    "editable": true,
    "slideshow": {
     "slide_type": ""
    },
    "tags": []
   },
   "source": [
    "Since the dataset contains 15 rows, 15 values are assigned using the `loc` method. (The values could be from different formats: string, null, negative, float, integer, ...)"
   ]
  },
  {
   "cell_type": "code",
   "execution_count": 171,
   "id": "caf2ba93-ec45-4957-a998-f8e488d4f4dc",
   "metadata": {
    "editable": true,
    "slideshow": {
     "slide_type": ""
    },
    "tags": [
     "hide-output",
     "hide_output"
    ]
   },
   "outputs": [
    {
     "data": {
      "text/html": [
       "<div>\n",
       "<style scoped>\n",
       "    .dataframe tbody tr th:only-of-type {\n",
       "        vertical-align: middle;\n",
       "    }\n",
       "\n",
       "    .dataframe tbody tr th {\n",
       "        vertical-align: top;\n",
       "    }\n",
       "\n",
       "    .dataframe thead th {\n",
       "        text-align: right;\n",
       "    }\n",
       "</style>\n",
       "<table border=\"1\" class=\"dataframe\">\n",
       "  <thead>\n",
       "    <tr style=\"text-align: right;\">\n",
       "      <th></th>\n",
       "      <th>CLC_st1</th>\n",
       "      <th>Biotpkt2018</th>\n",
       "      <th>Shape_Length</th>\n",
       "      <th>Shape_Area</th>\n",
       "      <th>geometry</th>\n",
       "      <th>test</th>\n",
       "    </tr>\n",
       "  </thead>\n",
       "  <tbody>\n",
       "    <tr>\n",
       "      <th>11831</th>\n",
       "      <td>133</td>\n",
       "      <td>6.035751</td>\n",
       "      <td>17.828953</td>\n",
       "      <td>0.432276</td>\n",
       "      <td>MULTIPOLYGON (((411237.019 5656164.663, 411228...</td>\n",
       "      <td>Hello</td>\n",
       "    </tr>\n",
       "    <tr>\n",
       "      <th>23859</th>\n",
       "      <td>321</td>\n",
       "      <td>20.164493</td>\n",
       "      <td>618.702965</td>\n",
       "      <td>18317.038350</td>\n",
       "      <td>MULTIPOLYGON (((415627.211 5652243.292, 415579...</td>\n",
       "      <td>None</td>\n",
       "    </tr>\n",
       "    <tr>\n",
       "      <th>23860</th>\n",
       "      <td>321</td>\n",
       "      <td>20.164493</td>\n",
       "      <td>1099.972947</td>\n",
       "      <td>10894.472486</td>\n",
       "      <td>MULTIPOLYGON (((418611.74 5653542.485, 418618....</td>\n",
       "      <td>-7</td>\n",
       "    </tr>\n",
       "    <tr>\n",
       "      <th>23861</th>\n",
       "      <td>321</td>\n",
       "      <td>20.164493</td>\n",
       "      <td>1023.775893</td>\n",
       "      <td>22918.685826</td>\n",
       "      <td>MULTIPOLYGON (((418506.559 5653953.337, 418516...</td>\n",
       "      <td>4.5</td>\n",
       "    </tr>\n",
       "    <tr>\n",
       "      <th>23862</th>\n",
       "      <td>321</td>\n",
       "      <td>20.164493</td>\n",
       "      <td>1126.678849</td>\n",
       "      <td>17980.357862</td>\n",
       "      <td>MULTIPOLYGON (((418145.759 5654361.049, 418151...</td>\n",
       "      <td>5</td>\n",
       "    </tr>\n",
       "  </tbody>\n",
       "</table>\n",
       "</div>"
      ],
      "text/plain": [
       "      CLC_st1  Biotpkt2018  Shape_Length    Shape_Area  \\\n",
       "11831     133     6.035751     17.828953      0.432276   \n",
       "23859     321    20.164493    618.702965  18317.038350   \n",
       "23860     321    20.164493   1099.972947  10894.472486   \n",
       "23861     321    20.164493   1023.775893  22918.685826   \n",
       "23862     321    20.164493   1126.678849  17980.357862   \n",
       "\n",
       "                                                geometry   test  \n",
       "11831  MULTIPOLYGON (((411237.019 5656164.663, 411228...  Hello  \n",
       "23859  MULTIPOLYGON (((415627.211 5652243.292, 415579...   None  \n",
       "23860  MULTIPOLYGON (((418611.74 5653542.485, 418618....     -7  \n",
       "23861  MULTIPOLYGON (((418506.559 5653953.337, 418516...    4.5  \n",
       "23862  MULTIPOLYGON (((418145.759 5654361.049, 418151...      5  "
      ]
     },
     "execution_count": 171,
     "metadata": {},
     "output_type": "execute_result"
    }
   ],
   "source": [
    "filtered_data.loc[:,'test']=['Hello', None, -7, 4.5, 5, 6, 7, 8, 9, 10, 11, 12, 13, 14, 15]  \n",
    "filtered_data.head()"
   ]
  },
  {
   "cell_type": "markdown",
   "id": "3797e5a1-3f83-46f6-8506-3b30e5610c96",
   "metadata": {
    "editable": true,
    "slideshow": {
     "slide_type": ""
    },
    "tags": []
   },
   "source": [
    "If there are some observed values only for some rows while the rest are missing / null:"
   ]
  },
  {
   "cell_type": "markdown",
   "id": "fcd04ffa-4094-4840-b4a9-1f701680be3a",
   "metadata": {
    "editable": true,
    "slideshow": {
     "slide_type": ""
    },
    "tags": []
   },
   "source": [
    "First, the **None** value is assigned to all rows using `loc` method."
   ]
  },
  {
   "cell_type": "code",
   "execution_count": 172,
   "id": "16222d3d-79c6-4c49-b69a-9017ebe94f0e",
   "metadata": {
    "editable": true,
    "slideshow": {
     "slide_type": ""
    },
    "tags": []
   },
   "outputs": [],
   "source": [
    "filtered_data.loc[:,'test'] = None"
   ]
  },
  {
   "cell_type": "markdown",
   "id": "2ec0c349-43ff-4339-8e99-795fe887a6c1",
   "metadata": {
    "editable": true,
    "slideshow": {
     "slide_type": ""
    },
    "tags": []
   },
   "source": [
    "Then, the rows are updated with the observed values using `loc` method."
   ]
  },
  {
   "cell_type": "markdown",
   "id": "776b1f2c-7291-4d11-b053-38a02ff055ee",
   "metadata": {
    "editable": true,
    "slideshow": {
     "slide_type": ""
    },
    "tags": []
   },
   "source": [
    "For updating the rows, the index of the rows is required."
   ]
  },
  {
   "cell_type": "markdown",
   "id": "edee3881-0f53-4af9-a8ee-c190c02b135a",
   "metadata": {
    "editable": true,
    "slideshow": {
     "slide_type": ""
    },
    "tags": []
   },
   "source": [
    "The index of the rows can be identified either by printing the dataset or by using the `index` method."
   ]
  },
  {
   "cell_type": "code",
   "execution_count": 173,
   "id": "75a6a746-a127-4a26-9c9f-f256ecfbcd6c",
   "metadata": {
    "editable": true,
    "slideshow": {
     "slide_type": ""
    },
    "tags": []
   },
   "outputs": [
    {
     "name": "stdout",
     "output_type": "stream",
     "text": [
      "Index([11831, 23859, 23860, 23861, 23862, 23863, 23864, 24343, 24344, 24347,\n",
      "       24444, 24445, 32673, 32674, 33881],\n",
      "      dtype='int64')\n"
     ]
    }
   ],
   "source": [
    "print(filtered_data.index)"
   ]
  },
  {
   "cell_type": "markdown",
   "id": "0cd307bf-abab-4a64-9644-5133bfa5edef",
   "metadata": {
    "editable": true,
    "slideshow": {
     "slide_type": ""
    },
    "tags": []
   },
   "source": [
    "In the following example, the index 11831, 23859, and 23862 are updated with their new values."
   ]
  },
  {
   "cell_type": "code",
   "execution_count": 174,
   "id": "3ef2c6f0-d14a-4e2b-9a70-3236e1119d8a",
   "metadata": {
    "editable": true,
    "slideshow": {
     "slide_type": ""
    },
    "tags": []
   },
   "outputs": [],
   "source": [
    "filtered_data.loc[[11831, 23859, 23862], 'test'] = [100, 200, '300']"
   ]
  },
  {
   "cell_type": "code",
   "execution_count": 175,
   "id": "b688c71e-ce81-4691-b94f-922e8f89c932",
   "metadata": {
    "editable": true,
    "slideshow": {
     "slide_type": ""
    },
    "tags": [
     "hide-output",
     "hide_output"
    ]
   },
   "outputs": [
    {
     "data": {
      "text/html": [
       "<div>\n",
       "<style scoped>\n",
       "    .dataframe tbody tr th:only-of-type {\n",
       "        vertical-align: middle;\n",
       "    }\n",
       "\n",
       "    .dataframe tbody tr th {\n",
       "        vertical-align: top;\n",
       "    }\n",
       "\n",
       "    .dataframe thead th {\n",
       "        text-align: right;\n",
       "    }\n",
       "</style>\n",
       "<table border=\"1\" class=\"dataframe\">\n",
       "  <thead>\n",
       "    <tr style=\"text-align: right;\">\n",
       "      <th></th>\n",
       "      <th>CLC_st1</th>\n",
       "      <th>Biotpkt2018</th>\n",
       "      <th>Shape_Length</th>\n",
       "      <th>Shape_Area</th>\n",
       "      <th>geometry</th>\n",
       "      <th>test</th>\n",
       "    </tr>\n",
       "  </thead>\n",
       "  <tbody>\n",
       "    <tr>\n",
       "      <th>11831</th>\n",
       "      <td>133</td>\n",
       "      <td>6.035751</td>\n",
       "      <td>17.828953</td>\n",
       "      <td>0.432276</td>\n",
       "      <td>MULTIPOLYGON (((411237.019 5656164.663, 411228...</td>\n",
       "      <td>100</td>\n",
       "    </tr>\n",
       "    <tr>\n",
       "      <th>23859</th>\n",
       "      <td>321</td>\n",
       "      <td>20.164493</td>\n",
       "      <td>618.702965</td>\n",
       "      <td>18317.038350</td>\n",
       "      <td>MULTIPOLYGON (((415627.211 5652243.292, 415579...</td>\n",
       "      <td>200</td>\n",
       "    </tr>\n",
       "    <tr>\n",
       "      <th>23860</th>\n",
       "      <td>321</td>\n",
       "      <td>20.164493</td>\n",
       "      <td>1099.972947</td>\n",
       "      <td>10894.472486</td>\n",
       "      <td>MULTIPOLYGON (((418611.74 5653542.485, 418618....</td>\n",
       "      <td>None</td>\n",
       "    </tr>\n",
       "    <tr>\n",
       "      <th>23861</th>\n",
       "      <td>321</td>\n",
       "      <td>20.164493</td>\n",
       "      <td>1023.775893</td>\n",
       "      <td>22918.685826</td>\n",
       "      <td>MULTIPOLYGON (((418506.559 5653953.337, 418516...</td>\n",
       "      <td>None</td>\n",
       "    </tr>\n",
       "    <tr>\n",
       "      <th>23862</th>\n",
       "      <td>321</td>\n",
       "      <td>20.164493</td>\n",
       "      <td>1126.678849</td>\n",
       "      <td>17980.357862</td>\n",
       "      <td>MULTIPOLYGON (((418145.759 5654361.049, 418151...</td>\n",
       "      <td>300</td>\n",
       "    </tr>\n",
       "  </tbody>\n",
       "</table>\n",
       "</div>"
      ],
      "text/plain": [
       "      CLC_st1  Biotpkt2018  Shape_Length    Shape_Area  \\\n",
       "11831     133     6.035751     17.828953      0.432276   \n",
       "23859     321    20.164493    618.702965  18317.038350   \n",
       "23860     321    20.164493   1099.972947  10894.472486   \n",
       "23861     321    20.164493   1023.775893  22918.685826   \n",
       "23862     321    20.164493   1126.678849  17980.357862   \n",
       "\n",
       "                                                geometry  test  \n",
       "11831  MULTIPOLYGON (((411237.019 5656164.663, 411228...   100  \n",
       "23859  MULTIPOLYGON (((415627.211 5652243.292, 415579...   200  \n",
       "23860  MULTIPOLYGON (((418611.74 5653542.485, 418618....  None  \n",
       "23861  MULTIPOLYGON (((418506.559 5653953.337, 418516...  None  \n",
       "23862  MULTIPOLYGON (((418145.759 5654361.049, 418151...   300  "
      ]
     },
     "execution_count": 175,
     "metadata": {},
     "output_type": "execute_result"
    }
   ],
   "source": [
    "filtered_data.head()"
   ]
  },
  {
   "cell_type": "markdown",
   "id": "1fd78f9b-98bc-4324-9c58-77d8b9d5f7fd",
   "metadata": {
    "editable": true,
    "slideshow": {
     "slide_type": ""
    },
    "tags": []
   },
   "source": [
    "`````{admonition} Adding new attributes from another dataset!\n",
    ":class: attention\n",
    "\n",
    "In [Merging Chapter](https://stag.training.fdz.ioer.info/notebooks/309_merging_data.html#merging-based-on-common-attributes-using-merge) it has explained how to add more columns from another dataset.\n",
    "`````"
   ]
  },
  {
   "cell_type": "markdown",
   "id": "8bb6f4ee-7560-4b9c-8708-d649fb96b142",
   "metadata": {
    "editable": true,
    "slideshow": {
     "slide_type": ""
    },
    "tags": []
   },
   "source": [
    "## Adding New Features (Rows)"
   ]
  },
  {
   "cell_type": "markdown",
   "id": "de68936d-9c19-4a7e-91a0-d4943580cdff",
   "metadata": {
    "editable": true,
    "slideshow": {
     "slide_type": ""
    },
    "tags": []
   },
   "source": [
    "To create a new feature (row) in the dataset, the `loc` method is used."
   ]
  },
  {
   "cell_type": "markdown",
   "id": "9f2e2e15-6e71-4b69-974e-1fb62d547a84",
   "metadata": {
    "editable": true,
    "slideshow": {
     "slide_type": ""
    },
    "tags": []
   },
   "source": [
    "Here the index of the row is defined and for all the columns (CLC_st1, Biotpkt2018, ...) the values should be assigned."
   ]
  },
  {
   "cell_type": "markdown",
   "id": "e1944312-8a13-4df8-847e-6f76face916d",
   "metadata": {
    "editable": true,
    "slideshow": {
     "slide_type": ""
    },
    "tags": []
   },
   "source": [
    "In the following example, as the dataset includes 6 columns, 6 values should be defined for them."
   ]
  },
  {
   "cell_type": "code",
   "execution_count": 177,
   "id": "c1464bbb-c878-4a38-8967-9f77850c0eae",
   "metadata": {
    "editable": true,
    "slideshow": {
     "slide_type": ""
    },
    "tags": [
     "hide_output",
     "hide-output"
    ]
   },
   "outputs": [
    {
     "data": {
      "text/html": [
       "<div>\n",
       "<style scoped>\n",
       "    .dataframe tbody tr th:only-of-type {\n",
       "        vertical-align: middle;\n",
       "    }\n",
       "\n",
       "    .dataframe tbody tr th {\n",
       "        vertical-align: top;\n",
       "    }\n",
       "\n",
       "    .dataframe thead th {\n",
       "        text-align: right;\n",
       "    }\n",
       "</style>\n",
       "<table border=\"1\" class=\"dataframe\">\n",
       "  <thead>\n",
       "    <tr style=\"text-align: right;\">\n",
       "      <th></th>\n",
       "      <th>CLC_st1</th>\n",
       "      <th>Biotpkt2018</th>\n",
       "      <th>Shape_Length</th>\n",
       "      <th>Shape_Area</th>\n",
       "      <th>geometry</th>\n",
       "      <th>test</th>\n",
       "    </tr>\n",
       "  </thead>\n",
       "  <tbody>\n",
       "    <tr>\n",
       "      <th>11831</th>\n",
       "      <td>133</td>\n",
       "      <td>6.035751</td>\n",
       "      <td>17.828953</td>\n",
       "      <td>0.432276</td>\n",
       "      <td>MULTIPOLYGON (((411237.019 5656164.663, 411228...</td>\n",
       "      <td>100</td>\n",
       "    </tr>\n",
       "    <tr>\n",
       "      <th>23859</th>\n",
       "      <td>321</td>\n",
       "      <td>20.164493</td>\n",
       "      <td>618.702965</td>\n",
       "      <td>18317.038350</td>\n",
       "      <td>MULTIPOLYGON (((415627.211 5652243.292, 415579...</td>\n",
       "      <td>200</td>\n",
       "    </tr>\n",
       "    <tr>\n",
       "      <th>23860</th>\n",
       "      <td>321</td>\n",
       "      <td>20.164493</td>\n",
       "      <td>1099.972947</td>\n",
       "      <td>10894.472486</td>\n",
       "      <td>MULTIPOLYGON (((418611.74 5653542.485, 418618....</td>\n",
       "      <td>None</td>\n",
       "    </tr>\n",
       "    <tr>\n",
       "      <th>23861</th>\n",
       "      <td>321</td>\n",
       "      <td>20.164493</td>\n",
       "      <td>1023.775893</td>\n",
       "      <td>22918.685826</td>\n",
       "      <td>MULTIPOLYGON (((418506.559 5653953.337, 418516...</td>\n",
       "      <td>None</td>\n",
       "    </tr>\n",
       "    <tr>\n",
       "      <th>23862</th>\n",
       "      <td>321</td>\n",
       "      <td>20.164493</td>\n",
       "      <td>1126.678849</td>\n",
       "      <td>17980.357862</td>\n",
       "      <td>MULTIPOLYGON (((418145.759 5654361.049, 418151...</td>\n",
       "      <td>300</td>\n",
       "    </tr>\n",
       "    <tr>\n",
       "      <th>23863</th>\n",
       "      <td>321</td>\n",
       "      <td>20.164493</td>\n",
       "      <td>1251.411517</td>\n",
       "      <td>28498.211647</td>\n",
       "      <td>MULTIPOLYGON (((401726.203 5658676.434, 401724...</td>\n",
       "      <td>None</td>\n",
       "    </tr>\n",
       "    <tr>\n",
       "      <th>23864</th>\n",
       "      <td>321</td>\n",
       "      <td>20.164493</td>\n",
       "      <td>1055.657824</td>\n",
       "      <td>15517.253917</td>\n",
       "      <td>MULTIPOLYGON (((403428.145 5659215.144, 403416...</td>\n",
       "      <td>None</td>\n",
       "    </tr>\n",
       "    <tr>\n",
       "      <th>24343</th>\n",
       "      <td>133</td>\n",
       "      <td>6.035751</td>\n",
       "      <td>287.703701</td>\n",
       "      <td>4278.338534</td>\n",
       "      <td>MULTIPOLYGON (((411656.913 5656302.92, 411664....</td>\n",
       "      <td>None</td>\n",
       "    </tr>\n",
       "    <tr>\n",
       "      <th>24344</th>\n",
       "      <td>133</td>\n",
       "      <td>6.035751</td>\n",
       "      <td>183.544225</td>\n",
       "      <td>2066.507754</td>\n",
       "      <td>MULTIPOLYGON (((411567.287 5656337.438, 411562...</td>\n",
       "      <td>None</td>\n",
       "    </tr>\n",
       "    <tr>\n",
       "      <th>24347</th>\n",
       "      <td>133</td>\n",
       "      <td>6.035751</td>\n",
       "      <td>213.015432</td>\n",
       "      <td>2684.440542</td>\n",
       "      <td>MULTIPOLYGON (((411587.489 5655959.618, 411588...</td>\n",
       "      <td>None</td>\n",
       "    </tr>\n",
       "    <tr>\n",
       "      <th>24444</th>\n",
       "      <td>411</td>\n",
       "      <td>17.079406</td>\n",
       "      <td>389.878192</td>\n",
       "      <td>3208.873688</td>\n",
       "      <td>MULTIPOLYGON (((413977.74 5649257.41, 413976.8...</td>\n",
       "      <td>None</td>\n",
       "    </tr>\n",
       "    <tr>\n",
       "      <th>24445</th>\n",
       "      <td>411</td>\n",
       "      <td>17.079406</td>\n",
       "      <td>786.310517</td>\n",
       "      <td>17091.353830</td>\n",
       "      <td>MULTIPOLYGON (((401901.386 5658342.569, 401914...</td>\n",
       "      <td>None</td>\n",
       "    </tr>\n",
       "    <tr>\n",
       "      <th>32673</th>\n",
       "      <td>321</td>\n",
       "      <td>20.164493</td>\n",
       "      <td>755.991947</td>\n",
       "      <td>15304.813349</td>\n",
       "      <td>MULTIPOLYGON (((414609.258 5667182.283, 414600...</td>\n",
       "      <td>None</td>\n",
       "    </tr>\n",
       "    <tr>\n",
       "      <th>32674</th>\n",
       "      <td>321</td>\n",
       "      <td>20.164493</td>\n",
       "      <td>806.236339</td>\n",
       "      <td>24159.996929</td>\n",
       "      <td>MULTIPOLYGON (((414627.453 5667492.653, 414633...</td>\n",
       "      <td>None</td>\n",
       "    </tr>\n",
       "    <tr>\n",
       "      <th>33881</th>\n",
       "      <td>411</td>\n",
       "      <td>17.079406</td>\n",
       "      <td>555.046133</td>\n",
       "      <td>10593.540640</td>\n",
       "      <td>MULTIPOLYGON (((411687.325 5665387.9, 411686.9...</td>\n",
       "      <td>None</td>\n",
       "    </tr>\n",
       "    <tr>\n",
       "      <th>sample</th>\n",
       "      <td>Hello</td>\n",
       "      <td>800.000000</td>\n",
       "      <td>-7.000000</td>\n",
       "      <td>4.500000</td>\n",
       "      <td>None</td>\n",
       "      <td>9</td>\n",
       "    </tr>\n",
       "  </tbody>\n",
       "</table>\n",
       "</div>"
      ],
      "text/plain": [
       "       CLC_st1  Biotpkt2018  Shape_Length    Shape_Area  \\\n",
       "11831      133     6.035751     17.828953      0.432276   \n",
       "23859      321    20.164493    618.702965  18317.038350   \n",
       "23860      321    20.164493   1099.972947  10894.472486   \n",
       "23861      321    20.164493   1023.775893  22918.685826   \n",
       "23862      321    20.164493   1126.678849  17980.357862   \n",
       "23863      321    20.164493   1251.411517  28498.211647   \n",
       "23864      321    20.164493   1055.657824  15517.253917   \n",
       "24343      133     6.035751    287.703701   4278.338534   \n",
       "24344      133     6.035751    183.544225   2066.507754   \n",
       "24347      133     6.035751    213.015432   2684.440542   \n",
       "24444      411    17.079406    389.878192   3208.873688   \n",
       "24445      411    17.079406    786.310517  17091.353830   \n",
       "32673      321    20.164493    755.991947  15304.813349   \n",
       "32674      321    20.164493    806.236339  24159.996929   \n",
       "33881      411    17.079406    555.046133  10593.540640   \n",
       "sample   Hello   800.000000     -7.000000      4.500000   \n",
       "\n",
       "                                                 geometry  test  \n",
       "11831   MULTIPOLYGON (((411237.019 5656164.663, 411228...   100  \n",
       "23859   MULTIPOLYGON (((415627.211 5652243.292, 415579...   200  \n",
       "23860   MULTIPOLYGON (((418611.74 5653542.485, 418618....  None  \n",
       "23861   MULTIPOLYGON (((418506.559 5653953.337, 418516...  None  \n",
       "23862   MULTIPOLYGON (((418145.759 5654361.049, 418151...   300  \n",
       "23863   MULTIPOLYGON (((401726.203 5658676.434, 401724...  None  \n",
       "23864   MULTIPOLYGON (((403428.145 5659215.144, 403416...  None  \n",
       "24343   MULTIPOLYGON (((411656.913 5656302.92, 411664....  None  \n",
       "24344   MULTIPOLYGON (((411567.287 5656337.438, 411562...  None  \n",
       "24347   MULTIPOLYGON (((411587.489 5655959.618, 411588...  None  \n",
       "24444   MULTIPOLYGON (((413977.74 5649257.41, 413976.8...  None  \n",
       "24445   MULTIPOLYGON (((401901.386 5658342.569, 401914...  None  \n",
       "32673   MULTIPOLYGON (((414609.258 5667182.283, 414600...  None  \n",
       "32674   MULTIPOLYGON (((414627.453 5667492.653, 414633...  None  \n",
       "33881   MULTIPOLYGON (((411687.325 5665387.9, 411686.9...  None  \n",
       "sample                                               None     9  "
      ]
     },
     "execution_count": 177,
     "metadata": {},
     "output_type": "execute_result"
    }
   ],
   "source": [
    "filtered_data.loc['sample'] = ['Hello', 800, -7, 4.5, None, 9]\n",
    "filtered_data.head(16)"
   ]
  },
  {
   "cell_type": "markdown",
   "id": "c290a8c0-fbe9-4721-ae3d-baea41a0b33b",
   "metadata": {
    "editable": true,
    "slideshow": {
     "slide_type": ""
    },
    "tags": []
   },
   "source": [
    "`````{admonition} Adding new features from another dataset!\n",
    ":class: attention\n",
    "\n",
    "In [Merging Chapter](https://stag.training.fdz.ioer.info/notebooks/309_merging_data.html#merging-similar-datasets-using-concat) it has explained how to add more features from another dataset.\n",
    "`````"
   ]
  },
  {
   "cell_type": "markdown",
   "id": "30646ef7-00d3-42f4-bf86-95e4f31277de",
   "metadata": {
    "editable": true,
    "slideshow": {
     "slide_type": ""
    },
    "tags": []
   },
   "source": [
    "## Copy a Column"
   ]
  },
  {
   "cell_type": "markdown",
   "id": "fbe78fb0-24e1-4caa-9142-1e60230a05a6",
   "metadata": {
    "editable": true,
    "slideshow": {
     "slide_type": ""
    },
    "tags": []
   },
   "source": [
    "Copying a column in a dataset is the same as adding a new column, except that instead of defining values, the values from the column of interest are imported."
   ]
  },
  {
   "cell_type": "markdown",
   "id": "02958021-6356-46bc-b1c2-068ea685d0e6",
   "metadata": {
    "editable": true,
    "slideshow": {
     "slide_type": ""
    },
    "tags": []
   },
   "source": [
    "In the example below, the values from the `test` column are copied into the `test_2` column. "
   ]
  },
  {
   "cell_type": "code",
   "execution_count": 179,
   "id": "bf2b0387-742c-4b91-88d2-2163541a1532",
   "metadata": {
    "editable": true,
    "slideshow": {
     "slide_type": ""
    },
    "tags": [
     "hide_output",
     "hide-output"
    ]
   },
   "outputs": [
    {
     "data": {
      "text/html": [
       "<div>\n",
       "<style scoped>\n",
       "    .dataframe tbody tr th:only-of-type {\n",
       "        vertical-align: middle;\n",
       "    }\n",
       "\n",
       "    .dataframe tbody tr th {\n",
       "        vertical-align: top;\n",
       "    }\n",
       "\n",
       "    .dataframe thead th {\n",
       "        text-align: right;\n",
       "    }\n",
       "</style>\n",
       "<table border=\"1\" class=\"dataframe\">\n",
       "  <thead>\n",
       "    <tr style=\"text-align: right;\">\n",
       "      <th></th>\n",
       "      <th>CLC_st1</th>\n",
       "      <th>Biotpkt2018</th>\n",
       "      <th>Shape_Length</th>\n",
       "      <th>Shape_Area</th>\n",
       "      <th>geometry</th>\n",
       "      <th>test</th>\n",
       "      <th>test_2</th>\n",
       "    </tr>\n",
       "  </thead>\n",
       "  <tbody>\n",
       "    <tr>\n",
       "      <th>11831</th>\n",
       "      <td>133</td>\n",
       "      <td>6.035751</td>\n",
       "      <td>17.828953</td>\n",
       "      <td>0.432276</td>\n",
       "      <td>MULTIPOLYGON (((411237.019 5656164.663, 411228...</td>\n",
       "      <td>100</td>\n",
       "      <td>100</td>\n",
       "    </tr>\n",
       "    <tr>\n",
       "      <th>23859</th>\n",
       "      <td>321</td>\n",
       "      <td>20.164493</td>\n",
       "      <td>618.702965</td>\n",
       "      <td>18317.038350</td>\n",
       "      <td>MULTIPOLYGON (((415627.211 5652243.292, 415579...</td>\n",
       "      <td>200</td>\n",
       "      <td>200</td>\n",
       "    </tr>\n",
       "    <tr>\n",
       "      <th>23860</th>\n",
       "      <td>321</td>\n",
       "      <td>20.164493</td>\n",
       "      <td>1099.972947</td>\n",
       "      <td>10894.472486</td>\n",
       "      <td>MULTIPOLYGON (((418611.74 5653542.485, 418618....</td>\n",
       "      <td>None</td>\n",
       "      <td>None</td>\n",
       "    </tr>\n",
       "    <tr>\n",
       "      <th>23861</th>\n",
       "      <td>321</td>\n",
       "      <td>20.164493</td>\n",
       "      <td>1023.775893</td>\n",
       "      <td>22918.685826</td>\n",
       "      <td>MULTIPOLYGON (((418506.559 5653953.337, 418516...</td>\n",
       "      <td>None</td>\n",
       "      <td>None</td>\n",
       "    </tr>\n",
       "    <tr>\n",
       "      <th>23862</th>\n",
       "      <td>321</td>\n",
       "      <td>20.164493</td>\n",
       "      <td>1126.678849</td>\n",
       "      <td>17980.357862</td>\n",
       "      <td>MULTIPOLYGON (((418145.759 5654361.049, 418151...</td>\n",
       "      <td>300</td>\n",
       "      <td>300</td>\n",
       "    </tr>\n",
       "    <tr>\n",
       "      <th>23863</th>\n",
       "      <td>321</td>\n",
       "      <td>20.164493</td>\n",
       "      <td>1251.411517</td>\n",
       "      <td>28498.211647</td>\n",
       "      <td>MULTIPOLYGON (((401726.203 5658676.434, 401724...</td>\n",
       "      <td>None</td>\n",
       "      <td>None</td>\n",
       "    </tr>\n",
       "    <tr>\n",
       "      <th>23864</th>\n",
       "      <td>321</td>\n",
       "      <td>20.164493</td>\n",
       "      <td>1055.657824</td>\n",
       "      <td>15517.253917</td>\n",
       "      <td>MULTIPOLYGON (((403428.145 5659215.144, 403416...</td>\n",
       "      <td>None</td>\n",
       "      <td>None</td>\n",
       "    </tr>\n",
       "    <tr>\n",
       "      <th>24343</th>\n",
       "      <td>133</td>\n",
       "      <td>6.035751</td>\n",
       "      <td>287.703701</td>\n",
       "      <td>4278.338534</td>\n",
       "      <td>MULTIPOLYGON (((411656.913 5656302.92, 411664....</td>\n",
       "      <td>None</td>\n",
       "      <td>None</td>\n",
       "    </tr>\n",
       "    <tr>\n",
       "      <th>24344</th>\n",
       "      <td>133</td>\n",
       "      <td>6.035751</td>\n",
       "      <td>183.544225</td>\n",
       "      <td>2066.507754</td>\n",
       "      <td>MULTIPOLYGON (((411567.287 5656337.438, 411562...</td>\n",
       "      <td>None</td>\n",
       "      <td>None</td>\n",
       "    </tr>\n",
       "    <tr>\n",
       "      <th>24347</th>\n",
       "      <td>133</td>\n",
       "      <td>6.035751</td>\n",
       "      <td>213.015432</td>\n",
       "      <td>2684.440542</td>\n",
       "      <td>MULTIPOLYGON (((411587.489 5655959.618, 411588...</td>\n",
       "      <td>None</td>\n",
       "      <td>None</td>\n",
       "    </tr>\n",
       "    <tr>\n",
       "      <th>24444</th>\n",
       "      <td>411</td>\n",
       "      <td>17.079406</td>\n",
       "      <td>389.878192</td>\n",
       "      <td>3208.873688</td>\n",
       "      <td>MULTIPOLYGON (((413977.74 5649257.41, 413976.8...</td>\n",
       "      <td>None</td>\n",
       "      <td>None</td>\n",
       "    </tr>\n",
       "    <tr>\n",
       "      <th>24445</th>\n",
       "      <td>411</td>\n",
       "      <td>17.079406</td>\n",
       "      <td>786.310517</td>\n",
       "      <td>17091.353830</td>\n",
       "      <td>MULTIPOLYGON (((401901.386 5658342.569, 401914...</td>\n",
       "      <td>None</td>\n",
       "      <td>None</td>\n",
       "    </tr>\n",
       "    <tr>\n",
       "      <th>32673</th>\n",
       "      <td>321</td>\n",
       "      <td>20.164493</td>\n",
       "      <td>755.991947</td>\n",
       "      <td>15304.813349</td>\n",
       "      <td>MULTIPOLYGON (((414609.258 5667182.283, 414600...</td>\n",
       "      <td>None</td>\n",
       "      <td>None</td>\n",
       "    </tr>\n",
       "    <tr>\n",
       "      <th>32674</th>\n",
       "      <td>321</td>\n",
       "      <td>20.164493</td>\n",
       "      <td>806.236339</td>\n",
       "      <td>24159.996929</td>\n",
       "      <td>MULTIPOLYGON (((414627.453 5667492.653, 414633...</td>\n",
       "      <td>None</td>\n",
       "      <td>None</td>\n",
       "    </tr>\n",
       "    <tr>\n",
       "      <th>33881</th>\n",
       "      <td>411</td>\n",
       "      <td>17.079406</td>\n",
       "      <td>555.046133</td>\n",
       "      <td>10593.540640</td>\n",
       "      <td>MULTIPOLYGON (((411687.325 5665387.9, 411686.9...</td>\n",
       "      <td>None</td>\n",
       "      <td>None</td>\n",
       "    </tr>\n",
       "    <tr>\n",
       "      <th>sample</th>\n",
       "      <td>Hello</td>\n",
       "      <td>800.000000</td>\n",
       "      <td>-7.000000</td>\n",
       "      <td>4.500000</td>\n",
       "      <td>None</td>\n",
       "      <td>9</td>\n",
       "      <td>9</td>\n",
       "    </tr>\n",
       "  </tbody>\n",
       "</table>\n",
       "</div>"
      ],
      "text/plain": [
       "       CLC_st1  Biotpkt2018  Shape_Length    Shape_Area  \\\n",
       "11831      133     6.035751     17.828953      0.432276   \n",
       "23859      321    20.164493    618.702965  18317.038350   \n",
       "23860      321    20.164493   1099.972947  10894.472486   \n",
       "23861      321    20.164493   1023.775893  22918.685826   \n",
       "23862      321    20.164493   1126.678849  17980.357862   \n",
       "23863      321    20.164493   1251.411517  28498.211647   \n",
       "23864      321    20.164493   1055.657824  15517.253917   \n",
       "24343      133     6.035751    287.703701   4278.338534   \n",
       "24344      133     6.035751    183.544225   2066.507754   \n",
       "24347      133     6.035751    213.015432   2684.440542   \n",
       "24444      411    17.079406    389.878192   3208.873688   \n",
       "24445      411    17.079406    786.310517  17091.353830   \n",
       "32673      321    20.164493    755.991947  15304.813349   \n",
       "32674      321    20.164493    806.236339  24159.996929   \n",
       "33881      411    17.079406    555.046133  10593.540640   \n",
       "sample   Hello   800.000000     -7.000000      4.500000   \n",
       "\n",
       "                                                 geometry  test test_2  \n",
       "11831   MULTIPOLYGON (((411237.019 5656164.663, 411228...   100    100  \n",
       "23859   MULTIPOLYGON (((415627.211 5652243.292, 415579...   200    200  \n",
       "23860   MULTIPOLYGON (((418611.74 5653542.485, 418618....  None   None  \n",
       "23861   MULTIPOLYGON (((418506.559 5653953.337, 418516...  None   None  \n",
       "23862   MULTIPOLYGON (((418145.759 5654361.049, 418151...   300    300  \n",
       "23863   MULTIPOLYGON (((401726.203 5658676.434, 401724...  None   None  \n",
       "23864   MULTIPOLYGON (((403428.145 5659215.144, 403416...  None   None  \n",
       "24343   MULTIPOLYGON (((411656.913 5656302.92, 411664....  None   None  \n",
       "24344   MULTIPOLYGON (((411567.287 5656337.438, 411562...  None   None  \n",
       "24347   MULTIPOLYGON (((411587.489 5655959.618, 411588...  None   None  \n",
       "24444   MULTIPOLYGON (((413977.74 5649257.41, 413976.8...  None   None  \n",
       "24445   MULTIPOLYGON (((401901.386 5658342.569, 401914...  None   None  \n",
       "32673   MULTIPOLYGON (((414609.258 5667182.283, 414600...  None   None  \n",
       "32674   MULTIPOLYGON (((414627.453 5667492.653, 414633...  None   None  \n",
       "33881   MULTIPOLYGON (((411687.325 5665387.9, 411686.9...  None   None  \n",
       "sample                                               None     9      9  "
      ]
     },
     "execution_count": 179,
     "metadata": {},
     "output_type": "execute_result"
    }
   ],
   "source": [
    "filtered_data.loc[:,'test_2'] = filtered_data.loc[:,'test']\n",
    "filtered_data.head(17)"
   ]
  },
  {
   "cell_type": "markdown",
   "id": "b946a120-b398-46e7-84d6-a0e2a03b3d2b",
   "metadata": {
    "editable": true,
    "slideshow": {
     "slide_type": ""
    },
    "tags": []
   },
   "source": [
    "## Copy a Row "
   ]
  },
  {
   "cell_type": "markdown",
   "id": "2c675cd8-d8d7-41f1-b687-4453c26ec5ba",
   "metadata": {
    "editable": true,
    "slideshow": {
     "slide_type": ""
    },
    "tags": []
   },
   "source": [
    "Copying a row in a dataset is the same as adding a new row, except that instead of defining values, the values from the row of interest are imported."
   ]
  },
  {
   "cell_type": "markdown",
   "id": "81d2daec-d206-4ece-b326-8c477acaf96c",
   "metadata": {
    "editable": true,
    "slideshow": {
     "slide_type": ""
    },
    "tags": []
   },
   "source": [
    "In the example below, the values from the `sample` row are copied into the `sample_2` row. "
   ]
  },
  {
   "cell_type": "code",
   "execution_count": 181,
   "id": "9a89f23a-0c48-4178-843b-ca3f4d9a9f59",
   "metadata": {
    "editable": true,
    "slideshow": {
     "slide_type": ""
    },
    "tags": [
     "hide_output",
     "hide-output"
    ]
   },
   "outputs": [
    {
     "data": {
      "text/html": [
       "<div>\n",
       "<style scoped>\n",
       "    .dataframe tbody tr th:only-of-type {\n",
       "        vertical-align: middle;\n",
       "    }\n",
       "\n",
       "    .dataframe tbody tr th {\n",
       "        vertical-align: top;\n",
       "    }\n",
       "\n",
       "    .dataframe thead th {\n",
       "        text-align: right;\n",
       "    }\n",
       "</style>\n",
       "<table border=\"1\" class=\"dataframe\">\n",
       "  <thead>\n",
       "    <tr style=\"text-align: right;\">\n",
       "      <th></th>\n",
       "      <th>CLC_st1</th>\n",
       "      <th>Biotpkt2018</th>\n",
       "      <th>Shape_Length</th>\n",
       "      <th>Shape_Area</th>\n",
       "      <th>geometry</th>\n",
       "      <th>test</th>\n",
       "      <th>test_2</th>\n",
       "    </tr>\n",
       "  </thead>\n",
       "  <tbody>\n",
       "    <tr>\n",
       "      <th>11831</th>\n",
       "      <td>133</td>\n",
       "      <td>6.035751</td>\n",
       "      <td>17.828953</td>\n",
       "      <td>0.432276</td>\n",
       "      <td>MULTIPOLYGON (((411237.019 5656164.663, 411228...</td>\n",
       "      <td>100</td>\n",
       "      <td>100</td>\n",
       "    </tr>\n",
       "    <tr>\n",
       "      <th>23859</th>\n",
       "      <td>321</td>\n",
       "      <td>20.164493</td>\n",
       "      <td>618.702965</td>\n",
       "      <td>18317.038350</td>\n",
       "      <td>MULTIPOLYGON (((415627.211 5652243.292, 415579...</td>\n",
       "      <td>200</td>\n",
       "      <td>200</td>\n",
       "    </tr>\n",
       "    <tr>\n",
       "      <th>23860</th>\n",
       "      <td>321</td>\n",
       "      <td>20.164493</td>\n",
       "      <td>1099.972947</td>\n",
       "      <td>10894.472486</td>\n",
       "      <td>MULTIPOLYGON (((418611.74 5653542.485, 418618....</td>\n",
       "      <td>None</td>\n",
       "      <td>None</td>\n",
       "    </tr>\n",
       "    <tr>\n",
       "      <th>23861</th>\n",
       "      <td>321</td>\n",
       "      <td>20.164493</td>\n",
       "      <td>1023.775893</td>\n",
       "      <td>22918.685826</td>\n",
       "      <td>MULTIPOLYGON (((418506.559 5653953.337, 418516...</td>\n",
       "      <td>None</td>\n",
       "      <td>None</td>\n",
       "    </tr>\n",
       "    <tr>\n",
       "      <th>23862</th>\n",
       "      <td>321</td>\n",
       "      <td>20.164493</td>\n",
       "      <td>1126.678849</td>\n",
       "      <td>17980.357862</td>\n",
       "      <td>MULTIPOLYGON (((418145.759 5654361.049, 418151...</td>\n",
       "      <td>300</td>\n",
       "      <td>300</td>\n",
       "    </tr>\n",
       "    <tr>\n",
       "      <th>23863</th>\n",
       "      <td>321</td>\n",
       "      <td>20.164493</td>\n",
       "      <td>1251.411517</td>\n",
       "      <td>28498.211647</td>\n",
       "      <td>MULTIPOLYGON (((401726.203 5658676.434, 401724...</td>\n",
       "      <td>None</td>\n",
       "      <td>None</td>\n",
       "    </tr>\n",
       "    <tr>\n",
       "      <th>23864</th>\n",
       "      <td>321</td>\n",
       "      <td>20.164493</td>\n",
       "      <td>1055.657824</td>\n",
       "      <td>15517.253917</td>\n",
       "      <td>MULTIPOLYGON (((403428.145 5659215.144, 403416...</td>\n",
       "      <td>None</td>\n",
       "      <td>None</td>\n",
       "    </tr>\n",
       "    <tr>\n",
       "      <th>24343</th>\n",
       "      <td>133</td>\n",
       "      <td>6.035751</td>\n",
       "      <td>287.703701</td>\n",
       "      <td>4278.338534</td>\n",
       "      <td>MULTIPOLYGON (((411656.913 5656302.92, 411664....</td>\n",
       "      <td>None</td>\n",
       "      <td>None</td>\n",
       "    </tr>\n",
       "    <tr>\n",
       "      <th>24344</th>\n",
       "      <td>133</td>\n",
       "      <td>6.035751</td>\n",
       "      <td>183.544225</td>\n",
       "      <td>2066.507754</td>\n",
       "      <td>MULTIPOLYGON (((411567.287 5656337.438, 411562...</td>\n",
       "      <td>None</td>\n",
       "      <td>None</td>\n",
       "    </tr>\n",
       "    <tr>\n",
       "      <th>24347</th>\n",
       "      <td>133</td>\n",
       "      <td>6.035751</td>\n",
       "      <td>213.015432</td>\n",
       "      <td>2684.440542</td>\n",
       "      <td>MULTIPOLYGON (((411587.489 5655959.618, 411588...</td>\n",
       "      <td>None</td>\n",
       "      <td>None</td>\n",
       "    </tr>\n",
       "    <tr>\n",
       "      <th>24444</th>\n",
       "      <td>411</td>\n",
       "      <td>17.079406</td>\n",
       "      <td>389.878192</td>\n",
       "      <td>3208.873688</td>\n",
       "      <td>MULTIPOLYGON (((413977.74 5649257.41, 413976.8...</td>\n",
       "      <td>None</td>\n",
       "      <td>None</td>\n",
       "    </tr>\n",
       "    <tr>\n",
       "      <th>24445</th>\n",
       "      <td>411</td>\n",
       "      <td>17.079406</td>\n",
       "      <td>786.310517</td>\n",
       "      <td>17091.353830</td>\n",
       "      <td>MULTIPOLYGON (((401901.386 5658342.569, 401914...</td>\n",
       "      <td>None</td>\n",
       "      <td>None</td>\n",
       "    </tr>\n",
       "    <tr>\n",
       "      <th>32673</th>\n",
       "      <td>321</td>\n",
       "      <td>20.164493</td>\n",
       "      <td>755.991947</td>\n",
       "      <td>15304.813349</td>\n",
       "      <td>MULTIPOLYGON (((414609.258 5667182.283, 414600...</td>\n",
       "      <td>None</td>\n",
       "      <td>None</td>\n",
       "    </tr>\n",
       "    <tr>\n",
       "      <th>32674</th>\n",
       "      <td>321</td>\n",
       "      <td>20.164493</td>\n",
       "      <td>806.236339</td>\n",
       "      <td>24159.996929</td>\n",
       "      <td>MULTIPOLYGON (((414627.453 5667492.653, 414633...</td>\n",
       "      <td>None</td>\n",
       "      <td>None</td>\n",
       "    </tr>\n",
       "    <tr>\n",
       "      <th>33881</th>\n",
       "      <td>411</td>\n",
       "      <td>17.079406</td>\n",
       "      <td>555.046133</td>\n",
       "      <td>10593.540640</td>\n",
       "      <td>MULTIPOLYGON (((411687.325 5665387.9, 411686.9...</td>\n",
       "      <td>None</td>\n",
       "      <td>None</td>\n",
       "    </tr>\n",
       "    <tr>\n",
       "      <th>sample</th>\n",
       "      <td>Hello</td>\n",
       "      <td>800.000000</td>\n",
       "      <td>-7.000000</td>\n",
       "      <td>4.500000</td>\n",
       "      <td>None</td>\n",
       "      <td>9</td>\n",
       "      <td>9</td>\n",
       "    </tr>\n",
       "    <tr>\n",
       "      <th>sample_2</th>\n",
       "      <td>Hello</td>\n",
       "      <td>800.000000</td>\n",
       "      <td>-7.000000</td>\n",
       "      <td>4.500000</td>\n",
       "      <td>None</td>\n",
       "      <td>9</td>\n",
       "      <td>9</td>\n",
       "    </tr>\n",
       "  </tbody>\n",
       "</table>\n",
       "</div>"
      ],
      "text/plain": [
       "         CLC_st1  Biotpkt2018  Shape_Length    Shape_Area  \\\n",
       "11831        133     6.035751     17.828953      0.432276   \n",
       "23859        321    20.164493    618.702965  18317.038350   \n",
       "23860        321    20.164493   1099.972947  10894.472486   \n",
       "23861        321    20.164493   1023.775893  22918.685826   \n",
       "23862        321    20.164493   1126.678849  17980.357862   \n",
       "23863        321    20.164493   1251.411517  28498.211647   \n",
       "23864        321    20.164493   1055.657824  15517.253917   \n",
       "24343        133     6.035751    287.703701   4278.338534   \n",
       "24344        133     6.035751    183.544225   2066.507754   \n",
       "24347        133     6.035751    213.015432   2684.440542   \n",
       "24444        411    17.079406    389.878192   3208.873688   \n",
       "24445        411    17.079406    786.310517  17091.353830   \n",
       "32673        321    20.164493    755.991947  15304.813349   \n",
       "32674        321    20.164493    806.236339  24159.996929   \n",
       "33881        411    17.079406    555.046133  10593.540640   \n",
       "sample     Hello   800.000000     -7.000000      4.500000   \n",
       "sample_2   Hello   800.000000     -7.000000      4.500000   \n",
       "\n",
       "                                                   geometry  test test_2  \n",
       "11831     MULTIPOLYGON (((411237.019 5656164.663, 411228...   100    100  \n",
       "23859     MULTIPOLYGON (((415627.211 5652243.292, 415579...   200    200  \n",
       "23860     MULTIPOLYGON (((418611.74 5653542.485, 418618....  None   None  \n",
       "23861     MULTIPOLYGON (((418506.559 5653953.337, 418516...  None   None  \n",
       "23862     MULTIPOLYGON (((418145.759 5654361.049, 418151...   300    300  \n",
       "23863     MULTIPOLYGON (((401726.203 5658676.434, 401724...  None   None  \n",
       "23864     MULTIPOLYGON (((403428.145 5659215.144, 403416...  None   None  \n",
       "24343     MULTIPOLYGON (((411656.913 5656302.92, 411664....  None   None  \n",
       "24344     MULTIPOLYGON (((411567.287 5656337.438, 411562...  None   None  \n",
       "24347     MULTIPOLYGON (((411587.489 5655959.618, 411588...  None   None  \n",
       "24444     MULTIPOLYGON (((413977.74 5649257.41, 413976.8...  None   None  \n",
       "24445     MULTIPOLYGON (((401901.386 5658342.569, 401914...  None   None  \n",
       "32673     MULTIPOLYGON (((414609.258 5667182.283, 414600...  None   None  \n",
       "32674     MULTIPOLYGON (((414627.453 5667492.653, 414633...  None   None  \n",
       "33881     MULTIPOLYGON (((411687.325 5665387.9, 411686.9...  None   None  \n",
       "sample                                                 None     9      9  \n",
       "sample_2                                               None     9      9  "
      ]
     },
     "execution_count": 181,
     "metadata": {},
     "output_type": "execute_result"
    }
   ],
   "source": [
    "filtered_data.loc['sample_2'] = filtered_data.loc['sample']\n",
    "filtered_data.head(18)"
   ]
  },
  {
   "cell_type": "markdown",
   "id": "33016e18-23fc-4035-871b-2a6773dbee3c",
   "metadata": {
    "editable": true,
    "slideshow": {
     "slide_type": ""
    },
    "tags": []
   },
   "source": [
    "## Finding Null Values"
   ]
  },
  {
   "cell_type": "markdown",
   "id": "a8d8e2b9-fcdf-4580-b277-4efb4a465dce",
   "metadata": {
    "editable": true,
    "slideshow": {
     "slide_type": ""
    },
    "tags": []
   },
   "source": [
    "To find the columns that include null values:\n",
    "- `isnull`: Provide the same dataset but with the True (if it is a null value) or False value.\n",
    "- `any`: Check if the columns include at least one True value."
   ]
  },
  {
   "cell_type": "markdown",
   "id": "17ab2e0b-d9cb-472d-bea7-11122caf50a4",
   "metadata": {
    "editable": true,
    "slideshow": {
     "slide_type": ""
    },
    "tags": []
   },
   "source": [
    "In the following example, the columns `geometry`, `test` and `test_2` include **at least** one null (missing) values."
   ]
  },
  {
   "cell_type": "code",
   "execution_count": 182,
   "id": "f87fc4bc-d1ea-4c4f-ba55-c9e186ff29eb",
   "metadata": {
    "editable": true,
    "slideshow": {
     "slide_type": ""
    },
    "tags": []
   },
   "outputs": [
    {
     "data": {
      "text/plain": [
       "CLC_st1         False\n",
       "Biotpkt2018     False\n",
       "Shape_Length    False\n",
       "Shape_Area      False\n",
       "geometry         True\n",
       "test             True\n",
       "test_2           True\n",
       "dtype: bool"
      ]
     },
     "execution_count": 182,
     "metadata": {},
     "output_type": "execute_result"
    }
   ],
   "source": [
    "filtered_data.isnull().any()"
   ]
  },
  {
   "cell_type": "markdown",
   "id": "6a2bac4a-0ec4-4cf4-9498-f39785c5bd41",
   "metadata": {
    "editable": true,
    "slideshow": {
     "slide_type": ""
    },
    "tags": []
   },
   "source": [
    "Then for the columns including null values, the related index is extracted."
   ]
  },
  {
   "cell_type": "code",
   "execution_count": 183,
   "id": "91f8137d-2e30-4929-9144-341e7aea6781",
   "metadata": {
    "editable": true,
    "slideshow": {
     "slide_type": ""
    },
    "tags": []
   },
   "outputs": [
    {
     "data": {
      "text/plain": [
       "Index([23860, 23861, 23863, 23864, 24343, 24344, 24347, 24444, 24445, 32673,\n",
       "       32674, 33881],\n",
       "      dtype='object')"
      ]
     },
     "execution_count": 183,
     "metadata": {},
     "output_type": "execute_result"
    }
   ],
   "source": [
    "filtered_data[filtered_data['test'].isnull()].index"
   ]
  },
  {
   "cell_type": "markdown",
   "id": "62e8943f-e471-41dd-9ae7-3debd73cf8ec",
   "metadata": {
    "editable": true,
    "slideshow": {
     "slide_type": ""
    },
    "tags": []
   },
   "source": [
    "Also it is possible to extract all the rows that include **at least** one null value."
   ]
  },
  {
   "cell_type": "markdown",
   "id": "2f9ec539-f245-4f2f-ade8-44f512fdf3e5",
   "metadata": {
    "editable": true,
    "slideshow": {
     "slide_type": ""
    },
    "tags": []
   },
   "source": [
    "- `isnull`: Provide the same dataset but with the True (if it is a null value) or False value.\n",
    "- `any(axis=1)`: **axis = 1** checks for the True values in the **rows** of dataset. "
   ]
  },
  {
   "cell_type": "code",
   "execution_count": 184,
   "id": "c48bd33a-cbce-4e6f-9632-d211bbc0319f",
   "metadata": {
    "editable": true,
    "slideshow": {
     "slide_type": ""
    },
    "tags": [
     "hide_output",
     "hide-output"
    ]
   },
   "outputs": [
    {
     "data": {
      "text/html": [
       "<div>\n",
       "<style scoped>\n",
       "    .dataframe tbody tr th:only-of-type {\n",
       "        vertical-align: middle;\n",
       "    }\n",
       "\n",
       "    .dataframe tbody tr th {\n",
       "        vertical-align: top;\n",
       "    }\n",
       "\n",
       "    .dataframe thead th {\n",
       "        text-align: right;\n",
       "    }\n",
       "</style>\n",
       "<table border=\"1\" class=\"dataframe\">\n",
       "  <thead>\n",
       "    <tr style=\"text-align: right;\">\n",
       "      <th></th>\n",
       "      <th>CLC_st1</th>\n",
       "      <th>Biotpkt2018</th>\n",
       "      <th>Shape_Length</th>\n",
       "      <th>Shape_Area</th>\n",
       "      <th>geometry</th>\n",
       "      <th>test</th>\n",
       "      <th>test_2</th>\n",
       "    </tr>\n",
       "  </thead>\n",
       "  <tbody>\n",
       "    <tr>\n",
       "      <th>23860</th>\n",
       "      <td>321</td>\n",
       "      <td>20.164493</td>\n",
       "      <td>1099.972947</td>\n",
       "      <td>10894.472486</td>\n",
       "      <td>MULTIPOLYGON (((418611.74 5653542.485, 418618....</td>\n",
       "      <td>None</td>\n",
       "      <td>None</td>\n",
       "    </tr>\n",
       "    <tr>\n",
       "      <th>23861</th>\n",
       "      <td>321</td>\n",
       "      <td>20.164493</td>\n",
       "      <td>1023.775893</td>\n",
       "      <td>22918.685826</td>\n",
       "      <td>MULTIPOLYGON (((418506.559 5653953.337, 418516...</td>\n",
       "      <td>None</td>\n",
       "      <td>None</td>\n",
       "    </tr>\n",
       "    <tr>\n",
       "      <th>23863</th>\n",
       "      <td>321</td>\n",
       "      <td>20.164493</td>\n",
       "      <td>1251.411517</td>\n",
       "      <td>28498.211647</td>\n",
       "      <td>MULTIPOLYGON (((401726.203 5658676.434, 401724...</td>\n",
       "      <td>None</td>\n",
       "      <td>None</td>\n",
       "    </tr>\n",
       "    <tr>\n",
       "      <th>23864</th>\n",
       "      <td>321</td>\n",
       "      <td>20.164493</td>\n",
       "      <td>1055.657824</td>\n",
       "      <td>15517.253917</td>\n",
       "      <td>MULTIPOLYGON (((403428.145 5659215.144, 403416...</td>\n",
       "      <td>None</td>\n",
       "      <td>None</td>\n",
       "    </tr>\n",
       "    <tr>\n",
       "      <th>24343</th>\n",
       "      <td>133</td>\n",
       "      <td>6.035751</td>\n",
       "      <td>287.703701</td>\n",
       "      <td>4278.338534</td>\n",
       "      <td>MULTIPOLYGON (((411656.913 5656302.92, 411664....</td>\n",
       "      <td>None</td>\n",
       "      <td>None</td>\n",
       "    </tr>\n",
       "    <tr>\n",
       "      <th>24344</th>\n",
       "      <td>133</td>\n",
       "      <td>6.035751</td>\n",
       "      <td>183.544225</td>\n",
       "      <td>2066.507754</td>\n",
       "      <td>MULTIPOLYGON (((411567.287 5656337.438, 411562...</td>\n",
       "      <td>None</td>\n",
       "      <td>None</td>\n",
       "    </tr>\n",
       "    <tr>\n",
       "      <th>24347</th>\n",
       "      <td>133</td>\n",
       "      <td>6.035751</td>\n",
       "      <td>213.015432</td>\n",
       "      <td>2684.440542</td>\n",
       "      <td>MULTIPOLYGON (((411587.489 5655959.618, 411588...</td>\n",
       "      <td>None</td>\n",
       "      <td>None</td>\n",
       "    </tr>\n",
       "    <tr>\n",
       "      <th>24444</th>\n",
       "      <td>411</td>\n",
       "      <td>17.079406</td>\n",
       "      <td>389.878192</td>\n",
       "      <td>3208.873688</td>\n",
       "      <td>MULTIPOLYGON (((413977.74 5649257.41, 413976.8...</td>\n",
       "      <td>None</td>\n",
       "      <td>None</td>\n",
       "    </tr>\n",
       "    <tr>\n",
       "      <th>24445</th>\n",
       "      <td>411</td>\n",
       "      <td>17.079406</td>\n",
       "      <td>786.310517</td>\n",
       "      <td>17091.353830</td>\n",
       "      <td>MULTIPOLYGON (((401901.386 5658342.569, 401914...</td>\n",
       "      <td>None</td>\n",
       "      <td>None</td>\n",
       "    </tr>\n",
       "    <tr>\n",
       "      <th>32673</th>\n",
       "      <td>321</td>\n",
       "      <td>20.164493</td>\n",
       "      <td>755.991947</td>\n",
       "      <td>15304.813349</td>\n",
       "      <td>MULTIPOLYGON (((414609.258 5667182.283, 414600...</td>\n",
       "      <td>None</td>\n",
       "      <td>None</td>\n",
       "    </tr>\n",
       "    <tr>\n",
       "      <th>32674</th>\n",
       "      <td>321</td>\n",
       "      <td>20.164493</td>\n",
       "      <td>806.236339</td>\n",
       "      <td>24159.996929</td>\n",
       "      <td>MULTIPOLYGON (((414627.453 5667492.653, 414633...</td>\n",
       "      <td>None</td>\n",
       "      <td>None</td>\n",
       "    </tr>\n",
       "    <tr>\n",
       "      <th>33881</th>\n",
       "      <td>411</td>\n",
       "      <td>17.079406</td>\n",
       "      <td>555.046133</td>\n",
       "      <td>10593.540640</td>\n",
       "      <td>MULTIPOLYGON (((411687.325 5665387.9, 411686.9...</td>\n",
       "      <td>None</td>\n",
       "      <td>None</td>\n",
       "    </tr>\n",
       "    <tr>\n",
       "      <th>sample</th>\n",
       "      <td>Hello</td>\n",
       "      <td>800.000000</td>\n",
       "      <td>-7.000000</td>\n",
       "      <td>4.500000</td>\n",
       "      <td>None</td>\n",
       "      <td>9</td>\n",
       "      <td>9</td>\n",
       "    </tr>\n",
       "    <tr>\n",
       "      <th>sample_2</th>\n",
       "      <td>Hello</td>\n",
       "      <td>800.000000</td>\n",
       "      <td>-7.000000</td>\n",
       "      <td>4.500000</td>\n",
       "      <td>None</td>\n",
       "      <td>9</td>\n",
       "      <td>9</td>\n",
       "    </tr>\n",
       "  </tbody>\n",
       "</table>\n",
       "</div>"
      ],
      "text/plain": [
       "         CLC_st1  Biotpkt2018  Shape_Length    Shape_Area  \\\n",
       "23860        321    20.164493   1099.972947  10894.472486   \n",
       "23861        321    20.164493   1023.775893  22918.685826   \n",
       "23863        321    20.164493   1251.411517  28498.211647   \n",
       "23864        321    20.164493   1055.657824  15517.253917   \n",
       "24343        133     6.035751    287.703701   4278.338534   \n",
       "24344        133     6.035751    183.544225   2066.507754   \n",
       "24347        133     6.035751    213.015432   2684.440542   \n",
       "24444        411    17.079406    389.878192   3208.873688   \n",
       "24445        411    17.079406    786.310517  17091.353830   \n",
       "32673        321    20.164493    755.991947  15304.813349   \n",
       "32674        321    20.164493    806.236339  24159.996929   \n",
       "33881        411    17.079406    555.046133  10593.540640   \n",
       "sample     Hello   800.000000     -7.000000      4.500000   \n",
       "sample_2   Hello   800.000000     -7.000000      4.500000   \n",
       "\n",
       "                                                   geometry  test test_2  \n",
       "23860     MULTIPOLYGON (((418611.74 5653542.485, 418618....  None   None  \n",
       "23861     MULTIPOLYGON (((418506.559 5653953.337, 418516...  None   None  \n",
       "23863     MULTIPOLYGON (((401726.203 5658676.434, 401724...  None   None  \n",
       "23864     MULTIPOLYGON (((403428.145 5659215.144, 403416...  None   None  \n",
       "24343     MULTIPOLYGON (((411656.913 5656302.92, 411664....  None   None  \n",
       "24344     MULTIPOLYGON (((411567.287 5656337.438, 411562...  None   None  \n",
       "24347     MULTIPOLYGON (((411587.489 5655959.618, 411588...  None   None  \n",
       "24444     MULTIPOLYGON (((413977.74 5649257.41, 413976.8...  None   None  \n",
       "24445     MULTIPOLYGON (((401901.386 5658342.569, 401914...  None   None  \n",
       "32673     MULTIPOLYGON (((414609.258 5667182.283, 414600...  None   None  \n",
       "32674     MULTIPOLYGON (((414627.453 5667492.653, 414633...  None   None  \n",
       "33881     MULTIPOLYGON (((411687.325 5665387.9, 411686.9...  None   None  \n",
       "sample                                                 None     9      9  \n",
       "sample_2                                               None     9      9  "
      ]
     },
     "execution_count": 184,
     "metadata": {},
     "output_type": "execute_result"
    }
   ],
   "source": [
    "filtered_data[filtered_data.isnull().any(axis=1)]"
   ]
  },
  {
   "cell_type": "markdown",
   "id": "773e6394-07eb-4e8e-819f-9e3405afc926",
   "metadata": {
    "editable": true,
    "slideshow": {
     "slide_type": ""
    },
    "tags": []
   },
   "source": [
    "## Removing Null Values"
   ]
  },
  {
   "cell_type": "markdown",
   "id": "c795a6c9-fcee-41c0-b735-6f9472fd553e",
   "metadata": {
    "editable": true,
    "slideshow": {
     "slide_type": ""
    },
    "tags": []
   },
   "source": [
    "To remove the rows that include `null` values in any columns, the `dropna` method is used."
   ]
  },
  {
   "cell_type": "markdown",
   "id": "7214e5c5-86de-4306-8325-00efc82d8445",
   "metadata": {
    "editable": true,
    "slideshow": {
     "slide_type": ""
    },
    "tags": []
   },
   "source": [
    "In the following example, only 3 rows out of all rows do not include any null (missing) values in their columns. "
   ]
  },
  {
   "cell_type": "code",
   "execution_count": 185,
   "id": "8d3180b8-5196-462d-abcd-af9d3279e4c6",
   "metadata": {
    "editable": true,
    "slideshow": {
     "slide_type": ""
    },
    "tags": [
     "hide_output",
     "hide-output"
    ]
   },
   "outputs": [
    {
     "data": {
      "text/html": [
       "<div>\n",
       "<style scoped>\n",
       "    .dataframe tbody tr th:only-of-type {\n",
       "        vertical-align: middle;\n",
       "    }\n",
       "\n",
       "    .dataframe tbody tr th {\n",
       "        vertical-align: top;\n",
       "    }\n",
       "\n",
       "    .dataframe thead th {\n",
       "        text-align: right;\n",
       "    }\n",
       "</style>\n",
       "<table border=\"1\" class=\"dataframe\">\n",
       "  <thead>\n",
       "    <tr style=\"text-align: right;\">\n",
       "      <th></th>\n",
       "      <th>CLC_st1</th>\n",
       "      <th>Biotpkt2018</th>\n",
       "      <th>Shape_Length</th>\n",
       "      <th>Shape_Area</th>\n",
       "      <th>geometry</th>\n",
       "      <th>test</th>\n",
       "      <th>test_2</th>\n",
       "    </tr>\n",
       "  </thead>\n",
       "  <tbody>\n",
       "    <tr>\n",
       "      <th>11831</th>\n",
       "      <td>133</td>\n",
       "      <td>6.035751</td>\n",
       "      <td>17.828953</td>\n",
       "      <td>0.432276</td>\n",
       "      <td>MULTIPOLYGON (((411237.019 5656164.663, 411228...</td>\n",
       "      <td>100</td>\n",
       "      <td>100</td>\n",
       "    </tr>\n",
       "    <tr>\n",
       "      <th>23859</th>\n",
       "      <td>321</td>\n",
       "      <td>20.164493</td>\n",
       "      <td>618.702965</td>\n",
       "      <td>18317.038350</td>\n",
       "      <td>MULTIPOLYGON (((415627.211 5652243.292, 415579...</td>\n",
       "      <td>200</td>\n",
       "      <td>200</td>\n",
       "    </tr>\n",
       "    <tr>\n",
       "      <th>23862</th>\n",
       "      <td>321</td>\n",
       "      <td>20.164493</td>\n",
       "      <td>1126.678849</td>\n",
       "      <td>17980.357862</td>\n",
       "      <td>MULTIPOLYGON (((418145.759 5654361.049, 418151...</td>\n",
       "      <td>300</td>\n",
       "      <td>300</td>\n",
       "    </tr>\n",
       "  </tbody>\n",
       "</table>\n",
       "</div>"
      ],
      "text/plain": [
       "      CLC_st1  Biotpkt2018  Shape_Length    Shape_Area  \\\n",
       "11831     133     6.035751     17.828953      0.432276   \n",
       "23859     321    20.164493    618.702965  18317.038350   \n",
       "23862     321    20.164493   1126.678849  17980.357862   \n",
       "\n",
       "                                                geometry test test_2  \n",
       "11831  MULTIPOLYGON (((411237.019 5656164.663, 411228...  100    100  \n",
       "23859  MULTIPOLYGON (((415627.211 5652243.292, 415579...  200    200  \n",
       "23862  MULTIPOLYGON (((418145.759 5654361.049, 418151...  300    300  "
      ]
     },
     "execution_count": 185,
     "metadata": {},
     "output_type": "execute_result"
    }
   ],
   "source": [
    "filtered_data.dropna()"
   ]
  },
  {
   "cell_type": "markdown",
   "id": "240e0dd2-6a29-4ca2-861d-6aeaf54026f2",
   "metadata": {
    "editable": true,
    "slideshow": {
     "slide_type": ""
    },
    "tags": []
   },
   "source": [
    "To remove the rows that include `null` values in a specific column, the name of the column(s) are defined in the `subset` parameter of the `dropna` method."
   ]
  },
  {
   "cell_type": "markdown",
   "id": "99b24962-4444-4576-876a-ac9d44f33351",
   "metadata": {
    "editable": true,
    "slideshow": {
     "slide_type": ""
    },
    "tags": []
   },
   "source": [
    "In the following example, only 5 rows out of all rows do not include any null (missing) values in the `test` column. "
   ]
  },
  {
   "cell_type": "code",
   "execution_count": 186,
   "id": "a6b82d0c-7e1a-4151-a990-6c00c918dfc9",
   "metadata": {
    "editable": true,
    "slideshow": {
     "slide_type": ""
    },
    "tags": [
     "hide_output",
     "hide-output"
    ]
   },
   "outputs": [
    {
     "data": {
      "text/html": [
       "<div>\n",
       "<style scoped>\n",
       "    .dataframe tbody tr th:only-of-type {\n",
       "        vertical-align: middle;\n",
       "    }\n",
       "\n",
       "    .dataframe tbody tr th {\n",
       "        vertical-align: top;\n",
       "    }\n",
       "\n",
       "    .dataframe thead th {\n",
       "        text-align: right;\n",
       "    }\n",
       "</style>\n",
       "<table border=\"1\" class=\"dataframe\">\n",
       "  <thead>\n",
       "    <tr style=\"text-align: right;\">\n",
       "      <th></th>\n",
       "      <th>CLC_st1</th>\n",
       "      <th>Biotpkt2018</th>\n",
       "      <th>Shape_Length</th>\n",
       "      <th>Shape_Area</th>\n",
       "      <th>geometry</th>\n",
       "      <th>test</th>\n",
       "      <th>test_2</th>\n",
       "    </tr>\n",
       "  </thead>\n",
       "  <tbody>\n",
       "    <tr>\n",
       "      <th>11831</th>\n",
       "      <td>133</td>\n",
       "      <td>6.035751</td>\n",
       "      <td>17.828953</td>\n",
       "      <td>0.432276</td>\n",
       "      <td>MULTIPOLYGON (((411237.019 5656164.663, 411228...</td>\n",
       "      <td>100</td>\n",
       "      <td>100</td>\n",
       "    </tr>\n",
       "    <tr>\n",
       "      <th>23859</th>\n",
       "      <td>321</td>\n",
       "      <td>20.164493</td>\n",
       "      <td>618.702965</td>\n",
       "      <td>18317.038350</td>\n",
       "      <td>MULTIPOLYGON (((415627.211 5652243.292, 415579...</td>\n",
       "      <td>200</td>\n",
       "      <td>200</td>\n",
       "    </tr>\n",
       "    <tr>\n",
       "      <th>23862</th>\n",
       "      <td>321</td>\n",
       "      <td>20.164493</td>\n",
       "      <td>1126.678849</td>\n",
       "      <td>17980.357862</td>\n",
       "      <td>MULTIPOLYGON (((418145.759 5654361.049, 418151...</td>\n",
       "      <td>300</td>\n",
       "      <td>300</td>\n",
       "    </tr>\n",
       "    <tr>\n",
       "      <th>sample</th>\n",
       "      <td>Hello</td>\n",
       "      <td>800.000000</td>\n",
       "      <td>-7.000000</td>\n",
       "      <td>4.500000</td>\n",
       "      <td>None</td>\n",
       "      <td>9</td>\n",
       "      <td>9</td>\n",
       "    </tr>\n",
       "    <tr>\n",
       "      <th>sample_2</th>\n",
       "      <td>Hello</td>\n",
       "      <td>800.000000</td>\n",
       "      <td>-7.000000</td>\n",
       "      <td>4.500000</td>\n",
       "      <td>None</td>\n",
       "      <td>9</td>\n",
       "      <td>9</td>\n",
       "    </tr>\n",
       "  </tbody>\n",
       "</table>\n",
       "</div>"
      ],
      "text/plain": [
       "         CLC_st1  Biotpkt2018  Shape_Length    Shape_Area  \\\n",
       "11831        133     6.035751     17.828953      0.432276   \n",
       "23859        321    20.164493    618.702965  18317.038350   \n",
       "23862        321    20.164493   1126.678849  17980.357862   \n",
       "sample     Hello   800.000000     -7.000000      4.500000   \n",
       "sample_2   Hello   800.000000     -7.000000      4.500000   \n",
       "\n",
       "                                                   geometry test test_2  \n",
       "11831     MULTIPOLYGON (((411237.019 5656164.663, 411228...  100    100  \n",
       "23859     MULTIPOLYGON (((415627.211 5652243.292, 415579...  200    200  \n",
       "23862     MULTIPOLYGON (((418145.759 5654361.049, 418151...  300    300  \n",
       "sample                                                 None    9      9  \n",
       "sample_2                                               None    9      9  "
      ]
     },
     "execution_count": 186,
     "metadata": {},
     "output_type": "execute_result"
    }
   ],
   "source": [
    "filtered_data.dropna(subset=['test'])"
   ]
  },
  {
   "cell_type": "markdown",
   "id": "8d0d5273-d765-4422-90a6-956301c581d7",
   "metadata": {
    "editable": true,
    "slideshow": {
     "slide_type": ""
    },
    "tags": []
   },
   "source": [
    "To remove columns with null values the `dropna` method is used with the `axis=1` parameter. "
   ]
  },
  {
   "cell_type": "markdown",
   "id": "a6b44796-6ae8-4488-8102-0bd430e3e47c",
   "metadata": {
    "editable": true,
    "slideshow": {
     "slide_type": ""
    },
    "tags": []
   },
   "source": [
    "In the following example, the columns `geometry`, `test` and `test_2` that include `null` values are removed from the dataset."
   ]
  },
  {
   "cell_type": "code",
   "execution_count": 187,
   "id": "df7f76e3-edd6-4f06-85ea-e2bcb4d00889",
   "metadata": {
    "editable": true,
    "slideshow": {
     "slide_type": ""
    },
    "tags": [
     "hide_output",
     "hide-output"
    ]
   },
   "outputs": [
    {
     "data": {
      "text/html": [
       "<div>\n",
       "<style scoped>\n",
       "    .dataframe tbody tr th:only-of-type {\n",
       "        vertical-align: middle;\n",
       "    }\n",
       "\n",
       "    .dataframe tbody tr th {\n",
       "        vertical-align: top;\n",
       "    }\n",
       "\n",
       "    .dataframe thead th {\n",
       "        text-align: right;\n",
       "    }\n",
       "</style>\n",
       "<table border=\"1\" class=\"dataframe\">\n",
       "  <thead>\n",
       "    <tr style=\"text-align: right;\">\n",
       "      <th></th>\n",
       "      <th>CLC_st1</th>\n",
       "      <th>Biotpkt2018</th>\n",
       "      <th>Shape_Length</th>\n",
       "      <th>Shape_Area</th>\n",
       "    </tr>\n",
       "  </thead>\n",
       "  <tbody>\n",
       "    <tr>\n",
       "      <th>11831</th>\n",
       "      <td>133</td>\n",
       "      <td>6.035751</td>\n",
       "      <td>17.828953</td>\n",
       "      <td>0.432276</td>\n",
       "    </tr>\n",
       "    <tr>\n",
       "      <th>23859</th>\n",
       "      <td>321</td>\n",
       "      <td>20.164493</td>\n",
       "      <td>618.702965</td>\n",
       "      <td>18317.038350</td>\n",
       "    </tr>\n",
       "    <tr>\n",
       "      <th>23860</th>\n",
       "      <td>321</td>\n",
       "      <td>20.164493</td>\n",
       "      <td>1099.972947</td>\n",
       "      <td>10894.472486</td>\n",
       "    </tr>\n",
       "    <tr>\n",
       "      <th>23861</th>\n",
       "      <td>321</td>\n",
       "      <td>20.164493</td>\n",
       "      <td>1023.775893</td>\n",
       "      <td>22918.685826</td>\n",
       "    </tr>\n",
       "    <tr>\n",
       "      <th>23862</th>\n",
       "      <td>321</td>\n",
       "      <td>20.164493</td>\n",
       "      <td>1126.678849</td>\n",
       "      <td>17980.357862</td>\n",
       "    </tr>\n",
       "    <tr>\n",
       "      <th>23863</th>\n",
       "      <td>321</td>\n",
       "      <td>20.164493</td>\n",
       "      <td>1251.411517</td>\n",
       "      <td>28498.211647</td>\n",
       "    </tr>\n",
       "    <tr>\n",
       "      <th>23864</th>\n",
       "      <td>321</td>\n",
       "      <td>20.164493</td>\n",
       "      <td>1055.657824</td>\n",
       "      <td>15517.253917</td>\n",
       "    </tr>\n",
       "    <tr>\n",
       "      <th>24343</th>\n",
       "      <td>133</td>\n",
       "      <td>6.035751</td>\n",
       "      <td>287.703701</td>\n",
       "      <td>4278.338534</td>\n",
       "    </tr>\n",
       "    <tr>\n",
       "      <th>24344</th>\n",
       "      <td>133</td>\n",
       "      <td>6.035751</td>\n",
       "      <td>183.544225</td>\n",
       "      <td>2066.507754</td>\n",
       "    </tr>\n",
       "    <tr>\n",
       "      <th>24347</th>\n",
       "      <td>133</td>\n",
       "      <td>6.035751</td>\n",
       "      <td>213.015432</td>\n",
       "      <td>2684.440542</td>\n",
       "    </tr>\n",
       "    <tr>\n",
       "      <th>24444</th>\n",
       "      <td>411</td>\n",
       "      <td>17.079406</td>\n",
       "      <td>389.878192</td>\n",
       "      <td>3208.873688</td>\n",
       "    </tr>\n",
       "    <tr>\n",
       "      <th>24445</th>\n",
       "      <td>411</td>\n",
       "      <td>17.079406</td>\n",
       "      <td>786.310517</td>\n",
       "      <td>17091.353830</td>\n",
       "    </tr>\n",
       "    <tr>\n",
       "      <th>32673</th>\n",
       "      <td>321</td>\n",
       "      <td>20.164493</td>\n",
       "      <td>755.991947</td>\n",
       "      <td>15304.813349</td>\n",
       "    </tr>\n",
       "    <tr>\n",
       "      <th>32674</th>\n",
       "      <td>321</td>\n",
       "      <td>20.164493</td>\n",
       "      <td>806.236339</td>\n",
       "      <td>24159.996929</td>\n",
       "    </tr>\n",
       "    <tr>\n",
       "      <th>33881</th>\n",
       "      <td>411</td>\n",
       "      <td>17.079406</td>\n",
       "      <td>555.046133</td>\n",
       "      <td>10593.540640</td>\n",
       "    </tr>\n",
       "    <tr>\n",
       "      <th>sample</th>\n",
       "      <td>Hello</td>\n",
       "      <td>800.000000</td>\n",
       "      <td>-7.000000</td>\n",
       "      <td>4.500000</td>\n",
       "    </tr>\n",
       "    <tr>\n",
       "      <th>sample_2</th>\n",
       "      <td>Hello</td>\n",
       "      <td>800.000000</td>\n",
       "      <td>-7.000000</td>\n",
       "      <td>4.500000</td>\n",
       "    </tr>\n",
       "  </tbody>\n",
       "</table>\n",
       "</div>"
      ],
      "text/plain": [
       "         CLC_st1  Biotpkt2018  Shape_Length    Shape_Area\n",
       "11831        133     6.035751     17.828953      0.432276\n",
       "23859        321    20.164493    618.702965  18317.038350\n",
       "23860        321    20.164493   1099.972947  10894.472486\n",
       "23861        321    20.164493   1023.775893  22918.685826\n",
       "23862        321    20.164493   1126.678849  17980.357862\n",
       "23863        321    20.164493   1251.411517  28498.211647\n",
       "23864        321    20.164493   1055.657824  15517.253917\n",
       "24343        133     6.035751    287.703701   4278.338534\n",
       "24344        133     6.035751    183.544225   2066.507754\n",
       "24347        133     6.035751    213.015432   2684.440542\n",
       "24444        411    17.079406    389.878192   3208.873688\n",
       "24445        411    17.079406    786.310517  17091.353830\n",
       "32673        321    20.164493    755.991947  15304.813349\n",
       "32674        321    20.164493    806.236339  24159.996929\n",
       "33881        411    17.079406    555.046133  10593.540640\n",
       "sample     Hello   800.000000     -7.000000      4.500000\n",
       "sample_2   Hello   800.000000     -7.000000      4.500000"
      ]
     },
     "execution_count": 187,
     "metadata": {},
     "output_type": "execute_result"
    }
   ],
   "source": [
    "filtered_data.dropna(axis=1)"
   ]
  },
  {
   "cell_type": "markdown",
   "id": "b3a53782-c249-44ef-aebc-454db9f8f3ae",
   "metadata": {
    "editable": true,
    "slideshow": {
     "slide_type": ""
    },
    "tags": []
   },
   "source": [
    "## Removing Attributes (Columns)"
   ]
  },
  {
   "cell_type": "markdown",
   "id": "6b4364bf-f1b7-4da3-9312-94fec7f0600b",
   "metadata": {
    "editable": true,
    "slideshow": {
     "slide_type": ""
    },
    "tags": []
   },
   "source": [
    "To remove the extra columns from the dataset, the method `drop` is used. "
   ]
  },
  {
   "cell_type": "markdown",
   "id": "7670d127-dcb2-4ce0-9375-74031f1fed35",
   "metadata": {
    "editable": true,
    "slideshow": {
     "slide_type": ""
    },
    "tags": []
   },
   "source": [
    "The name of the columns are defined in the method, and the parameter `axis` is set to 1."
   ]
  },
  {
   "cell_type": "markdown",
   "id": "7868c5ee-0df6-42df-9a56-19066296ae65",
   "metadata": {
    "editable": true,
    "slideshow": {
     "slide_type": ""
    },
    "tags": []
   },
   "source": [
    "In the example below, the columns `test_2` and `CLC_st1` are removed."
   ]
  },
  {
   "cell_type": "code",
   "execution_count": 188,
   "id": "98d2d3a9-10f2-4958-b7c9-fae3161b9eac",
   "metadata": {
    "editable": true,
    "slideshow": {
     "slide_type": ""
    },
    "tags": [
     "hide_output",
     "hide-output"
    ]
   },
   "outputs": [
    {
     "data": {
      "text/html": [
       "<div>\n",
       "<style scoped>\n",
       "    .dataframe tbody tr th:only-of-type {\n",
       "        vertical-align: middle;\n",
       "    }\n",
       "\n",
       "    .dataframe tbody tr th {\n",
       "        vertical-align: top;\n",
       "    }\n",
       "\n",
       "    .dataframe thead th {\n",
       "        text-align: right;\n",
       "    }\n",
       "</style>\n",
       "<table border=\"1\" class=\"dataframe\">\n",
       "  <thead>\n",
       "    <tr style=\"text-align: right;\">\n",
       "      <th></th>\n",
       "      <th>Biotpkt2018</th>\n",
       "      <th>Shape_Length</th>\n",
       "      <th>Shape_Area</th>\n",
       "      <th>geometry</th>\n",
       "      <th>test</th>\n",
       "    </tr>\n",
       "  </thead>\n",
       "  <tbody>\n",
       "    <tr>\n",
       "      <th>11831</th>\n",
       "      <td>6.035751</td>\n",
       "      <td>17.828953</td>\n",
       "      <td>0.432276</td>\n",
       "      <td>MULTIPOLYGON (((411237.019 5656164.663, 411228...</td>\n",
       "      <td>100</td>\n",
       "    </tr>\n",
       "    <tr>\n",
       "      <th>23859</th>\n",
       "      <td>20.164493</td>\n",
       "      <td>618.702965</td>\n",
       "      <td>18317.038350</td>\n",
       "      <td>MULTIPOLYGON (((415627.211 5652243.292, 415579...</td>\n",
       "      <td>200</td>\n",
       "    </tr>\n",
       "    <tr>\n",
       "      <th>23860</th>\n",
       "      <td>20.164493</td>\n",
       "      <td>1099.972947</td>\n",
       "      <td>10894.472486</td>\n",
       "      <td>MULTIPOLYGON (((418611.74 5653542.485, 418618....</td>\n",
       "      <td>None</td>\n",
       "    </tr>\n",
       "    <tr>\n",
       "      <th>23861</th>\n",
       "      <td>20.164493</td>\n",
       "      <td>1023.775893</td>\n",
       "      <td>22918.685826</td>\n",
       "      <td>MULTIPOLYGON (((418506.559 5653953.337, 418516...</td>\n",
       "      <td>None</td>\n",
       "    </tr>\n",
       "    <tr>\n",
       "      <th>23862</th>\n",
       "      <td>20.164493</td>\n",
       "      <td>1126.678849</td>\n",
       "      <td>17980.357862</td>\n",
       "      <td>MULTIPOLYGON (((418145.759 5654361.049, 418151...</td>\n",
       "      <td>300</td>\n",
       "    </tr>\n",
       "    <tr>\n",
       "      <th>23863</th>\n",
       "      <td>20.164493</td>\n",
       "      <td>1251.411517</td>\n",
       "      <td>28498.211647</td>\n",
       "      <td>MULTIPOLYGON (((401726.203 5658676.434, 401724...</td>\n",
       "      <td>None</td>\n",
       "    </tr>\n",
       "    <tr>\n",
       "      <th>23864</th>\n",
       "      <td>20.164493</td>\n",
       "      <td>1055.657824</td>\n",
       "      <td>15517.253917</td>\n",
       "      <td>MULTIPOLYGON (((403428.145 5659215.144, 403416...</td>\n",
       "      <td>None</td>\n",
       "    </tr>\n",
       "    <tr>\n",
       "      <th>24343</th>\n",
       "      <td>6.035751</td>\n",
       "      <td>287.703701</td>\n",
       "      <td>4278.338534</td>\n",
       "      <td>MULTIPOLYGON (((411656.913 5656302.92, 411664....</td>\n",
       "      <td>None</td>\n",
       "    </tr>\n",
       "    <tr>\n",
       "      <th>24344</th>\n",
       "      <td>6.035751</td>\n",
       "      <td>183.544225</td>\n",
       "      <td>2066.507754</td>\n",
       "      <td>MULTIPOLYGON (((411567.287 5656337.438, 411562...</td>\n",
       "      <td>None</td>\n",
       "    </tr>\n",
       "    <tr>\n",
       "      <th>24347</th>\n",
       "      <td>6.035751</td>\n",
       "      <td>213.015432</td>\n",
       "      <td>2684.440542</td>\n",
       "      <td>MULTIPOLYGON (((411587.489 5655959.618, 411588...</td>\n",
       "      <td>None</td>\n",
       "    </tr>\n",
       "    <tr>\n",
       "      <th>24444</th>\n",
       "      <td>17.079406</td>\n",
       "      <td>389.878192</td>\n",
       "      <td>3208.873688</td>\n",
       "      <td>MULTIPOLYGON (((413977.74 5649257.41, 413976.8...</td>\n",
       "      <td>None</td>\n",
       "    </tr>\n",
       "    <tr>\n",
       "      <th>24445</th>\n",
       "      <td>17.079406</td>\n",
       "      <td>786.310517</td>\n",
       "      <td>17091.353830</td>\n",
       "      <td>MULTIPOLYGON (((401901.386 5658342.569, 401914...</td>\n",
       "      <td>None</td>\n",
       "    </tr>\n",
       "    <tr>\n",
       "      <th>32673</th>\n",
       "      <td>20.164493</td>\n",
       "      <td>755.991947</td>\n",
       "      <td>15304.813349</td>\n",
       "      <td>MULTIPOLYGON (((414609.258 5667182.283, 414600...</td>\n",
       "      <td>None</td>\n",
       "    </tr>\n",
       "    <tr>\n",
       "      <th>32674</th>\n",
       "      <td>20.164493</td>\n",
       "      <td>806.236339</td>\n",
       "      <td>24159.996929</td>\n",
       "      <td>MULTIPOLYGON (((414627.453 5667492.653, 414633...</td>\n",
       "      <td>None</td>\n",
       "    </tr>\n",
       "    <tr>\n",
       "      <th>33881</th>\n",
       "      <td>17.079406</td>\n",
       "      <td>555.046133</td>\n",
       "      <td>10593.540640</td>\n",
       "      <td>MULTIPOLYGON (((411687.325 5665387.9, 411686.9...</td>\n",
       "      <td>None</td>\n",
       "    </tr>\n",
       "    <tr>\n",
       "      <th>sample</th>\n",
       "      <td>800.000000</td>\n",
       "      <td>-7.000000</td>\n",
       "      <td>4.500000</td>\n",
       "      <td>None</td>\n",
       "      <td>9</td>\n",
       "    </tr>\n",
       "    <tr>\n",
       "      <th>sample_2</th>\n",
       "      <td>800.000000</td>\n",
       "      <td>-7.000000</td>\n",
       "      <td>4.500000</td>\n",
       "      <td>None</td>\n",
       "      <td>9</td>\n",
       "    </tr>\n",
       "  </tbody>\n",
       "</table>\n",
       "</div>"
      ],
      "text/plain": [
       "          Biotpkt2018  Shape_Length    Shape_Area  \\\n",
       "11831        6.035751     17.828953      0.432276   \n",
       "23859       20.164493    618.702965  18317.038350   \n",
       "23860       20.164493   1099.972947  10894.472486   \n",
       "23861       20.164493   1023.775893  22918.685826   \n",
       "23862       20.164493   1126.678849  17980.357862   \n",
       "23863       20.164493   1251.411517  28498.211647   \n",
       "23864       20.164493   1055.657824  15517.253917   \n",
       "24343        6.035751    287.703701   4278.338534   \n",
       "24344        6.035751    183.544225   2066.507754   \n",
       "24347        6.035751    213.015432   2684.440542   \n",
       "24444       17.079406    389.878192   3208.873688   \n",
       "24445       17.079406    786.310517  17091.353830   \n",
       "32673       20.164493    755.991947  15304.813349   \n",
       "32674       20.164493    806.236339  24159.996929   \n",
       "33881       17.079406    555.046133  10593.540640   \n",
       "sample     800.000000     -7.000000      4.500000   \n",
       "sample_2   800.000000     -7.000000      4.500000   \n",
       "\n",
       "                                                   geometry  test  \n",
       "11831     MULTIPOLYGON (((411237.019 5656164.663, 411228...   100  \n",
       "23859     MULTIPOLYGON (((415627.211 5652243.292, 415579...   200  \n",
       "23860     MULTIPOLYGON (((418611.74 5653542.485, 418618....  None  \n",
       "23861     MULTIPOLYGON (((418506.559 5653953.337, 418516...  None  \n",
       "23862     MULTIPOLYGON (((418145.759 5654361.049, 418151...   300  \n",
       "23863     MULTIPOLYGON (((401726.203 5658676.434, 401724...  None  \n",
       "23864     MULTIPOLYGON (((403428.145 5659215.144, 403416...  None  \n",
       "24343     MULTIPOLYGON (((411656.913 5656302.92, 411664....  None  \n",
       "24344     MULTIPOLYGON (((411567.287 5656337.438, 411562...  None  \n",
       "24347     MULTIPOLYGON (((411587.489 5655959.618, 411588...  None  \n",
       "24444     MULTIPOLYGON (((413977.74 5649257.41, 413976.8...  None  \n",
       "24445     MULTIPOLYGON (((401901.386 5658342.569, 401914...  None  \n",
       "32673     MULTIPOLYGON (((414609.258 5667182.283, 414600...  None  \n",
       "32674     MULTIPOLYGON (((414627.453 5667492.653, 414633...  None  \n",
       "33881     MULTIPOLYGON (((411687.325 5665387.9, 411686.9...  None  \n",
       "sample                                                 None     9  \n",
       "sample_2                                               None     9  "
      ]
     },
     "execution_count": 188,
     "metadata": {},
     "output_type": "execute_result"
    }
   ],
   "source": [
    "filtered_data.drop(['test_2','CLC_st1'], axis=1)"
   ]
  },
  {
   "cell_type": "markdown",
   "id": "554160af-7bed-4f06-88ce-c77f54762523",
   "metadata": {
    "editable": true,
    "slideshow": {
     "slide_type": ""
    },
    "tags": []
   },
   "source": [
    "## Removing Features (Rows)"
   ]
  },
  {
   "cell_type": "markdown",
   "id": "09dd47f4-a980-46f0-bb57-28bf3ca60d1c",
   "metadata": {
    "editable": true,
    "slideshow": {
     "slide_type": ""
    },
    "tags": []
   },
   "source": [
    "To remove the extra rows from the dataset, the method `drop` is used and the index of the rows are defined to remove from the dataset."
   ]
  },
  {
   "cell_type": "markdown",
   "id": "2b2189f5-aa4f-411f-8be8-e0aebd218293",
   "metadata": {
    "editable": true,
    "slideshow": {
     "slide_type": ""
    },
    "tags": []
   },
   "source": [
    "In the example below, rows with the index of `11831` and `sample` are removed."
   ]
  },
  {
   "cell_type": "code",
   "execution_count": 189,
   "id": "b6406471-43a2-4196-b50b-8dd786ec1057",
   "metadata": {
    "editable": true,
    "slideshow": {
     "slide_type": ""
    },
    "tags": [
     "hide_output",
     "hide-output"
    ]
   },
   "outputs": [
    {
     "data": {
      "text/html": [
       "<div>\n",
       "<style scoped>\n",
       "    .dataframe tbody tr th:only-of-type {\n",
       "        vertical-align: middle;\n",
       "    }\n",
       "\n",
       "    .dataframe tbody tr th {\n",
       "        vertical-align: top;\n",
       "    }\n",
       "\n",
       "    .dataframe thead th {\n",
       "        text-align: right;\n",
       "    }\n",
       "</style>\n",
       "<table border=\"1\" class=\"dataframe\">\n",
       "  <thead>\n",
       "    <tr style=\"text-align: right;\">\n",
       "      <th></th>\n",
       "      <th>CLC_st1</th>\n",
       "      <th>Biotpkt2018</th>\n",
       "      <th>Shape_Length</th>\n",
       "      <th>Shape_Area</th>\n",
       "      <th>geometry</th>\n",
       "      <th>test</th>\n",
       "      <th>test_2</th>\n",
       "    </tr>\n",
       "  </thead>\n",
       "  <tbody>\n",
       "    <tr>\n",
       "      <th>23859</th>\n",
       "      <td>321</td>\n",
       "      <td>20.164493</td>\n",
       "      <td>618.702965</td>\n",
       "      <td>18317.038350</td>\n",
       "      <td>MULTIPOLYGON (((415627.211 5652243.292, 415579...</td>\n",
       "      <td>200</td>\n",
       "      <td>200</td>\n",
       "    </tr>\n",
       "    <tr>\n",
       "      <th>23860</th>\n",
       "      <td>321</td>\n",
       "      <td>20.164493</td>\n",
       "      <td>1099.972947</td>\n",
       "      <td>10894.472486</td>\n",
       "      <td>MULTIPOLYGON (((418611.74 5653542.485, 418618....</td>\n",
       "      <td>None</td>\n",
       "      <td>None</td>\n",
       "    </tr>\n",
       "    <tr>\n",
       "      <th>23861</th>\n",
       "      <td>321</td>\n",
       "      <td>20.164493</td>\n",
       "      <td>1023.775893</td>\n",
       "      <td>22918.685826</td>\n",
       "      <td>MULTIPOLYGON (((418506.559 5653953.337, 418516...</td>\n",
       "      <td>None</td>\n",
       "      <td>None</td>\n",
       "    </tr>\n",
       "    <tr>\n",
       "      <th>23862</th>\n",
       "      <td>321</td>\n",
       "      <td>20.164493</td>\n",
       "      <td>1126.678849</td>\n",
       "      <td>17980.357862</td>\n",
       "      <td>MULTIPOLYGON (((418145.759 5654361.049, 418151...</td>\n",
       "      <td>300</td>\n",
       "      <td>300</td>\n",
       "    </tr>\n",
       "    <tr>\n",
       "      <th>23863</th>\n",
       "      <td>321</td>\n",
       "      <td>20.164493</td>\n",
       "      <td>1251.411517</td>\n",
       "      <td>28498.211647</td>\n",
       "      <td>MULTIPOLYGON (((401726.203 5658676.434, 401724...</td>\n",
       "      <td>None</td>\n",
       "      <td>None</td>\n",
       "    </tr>\n",
       "    <tr>\n",
       "      <th>23864</th>\n",
       "      <td>321</td>\n",
       "      <td>20.164493</td>\n",
       "      <td>1055.657824</td>\n",
       "      <td>15517.253917</td>\n",
       "      <td>MULTIPOLYGON (((403428.145 5659215.144, 403416...</td>\n",
       "      <td>None</td>\n",
       "      <td>None</td>\n",
       "    </tr>\n",
       "    <tr>\n",
       "      <th>24343</th>\n",
       "      <td>133</td>\n",
       "      <td>6.035751</td>\n",
       "      <td>287.703701</td>\n",
       "      <td>4278.338534</td>\n",
       "      <td>MULTIPOLYGON (((411656.913 5656302.92, 411664....</td>\n",
       "      <td>None</td>\n",
       "      <td>None</td>\n",
       "    </tr>\n",
       "    <tr>\n",
       "      <th>24344</th>\n",
       "      <td>133</td>\n",
       "      <td>6.035751</td>\n",
       "      <td>183.544225</td>\n",
       "      <td>2066.507754</td>\n",
       "      <td>MULTIPOLYGON (((411567.287 5656337.438, 411562...</td>\n",
       "      <td>None</td>\n",
       "      <td>None</td>\n",
       "    </tr>\n",
       "    <tr>\n",
       "      <th>24347</th>\n",
       "      <td>133</td>\n",
       "      <td>6.035751</td>\n",
       "      <td>213.015432</td>\n",
       "      <td>2684.440542</td>\n",
       "      <td>MULTIPOLYGON (((411587.489 5655959.618, 411588...</td>\n",
       "      <td>None</td>\n",
       "      <td>None</td>\n",
       "    </tr>\n",
       "    <tr>\n",
       "      <th>24444</th>\n",
       "      <td>411</td>\n",
       "      <td>17.079406</td>\n",
       "      <td>389.878192</td>\n",
       "      <td>3208.873688</td>\n",
       "      <td>MULTIPOLYGON (((413977.74 5649257.41, 413976.8...</td>\n",
       "      <td>None</td>\n",
       "      <td>None</td>\n",
       "    </tr>\n",
       "    <tr>\n",
       "      <th>24445</th>\n",
       "      <td>411</td>\n",
       "      <td>17.079406</td>\n",
       "      <td>786.310517</td>\n",
       "      <td>17091.353830</td>\n",
       "      <td>MULTIPOLYGON (((401901.386 5658342.569, 401914...</td>\n",
       "      <td>None</td>\n",
       "      <td>None</td>\n",
       "    </tr>\n",
       "    <tr>\n",
       "      <th>32673</th>\n",
       "      <td>321</td>\n",
       "      <td>20.164493</td>\n",
       "      <td>755.991947</td>\n",
       "      <td>15304.813349</td>\n",
       "      <td>MULTIPOLYGON (((414609.258 5667182.283, 414600...</td>\n",
       "      <td>None</td>\n",
       "      <td>None</td>\n",
       "    </tr>\n",
       "    <tr>\n",
       "      <th>32674</th>\n",
       "      <td>321</td>\n",
       "      <td>20.164493</td>\n",
       "      <td>806.236339</td>\n",
       "      <td>24159.996929</td>\n",
       "      <td>MULTIPOLYGON (((414627.453 5667492.653, 414633...</td>\n",
       "      <td>None</td>\n",
       "      <td>None</td>\n",
       "    </tr>\n",
       "    <tr>\n",
       "      <th>33881</th>\n",
       "      <td>411</td>\n",
       "      <td>17.079406</td>\n",
       "      <td>555.046133</td>\n",
       "      <td>10593.540640</td>\n",
       "      <td>MULTIPOLYGON (((411687.325 5665387.9, 411686.9...</td>\n",
       "      <td>None</td>\n",
       "      <td>None</td>\n",
       "    </tr>\n",
       "    <tr>\n",
       "      <th>sample_2</th>\n",
       "      <td>Hello</td>\n",
       "      <td>800.000000</td>\n",
       "      <td>-7.000000</td>\n",
       "      <td>4.500000</td>\n",
       "      <td>None</td>\n",
       "      <td>9</td>\n",
       "      <td>9</td>\n",
       "    </tr>\n",
       "  </tbody>\n",
       "</table>\n",
       "</div>"
      ],
      "text/plain": [
       "         CLC_st1  Biotpkt2018  Shape_Length    Shape_Area  \\\n",
       "23859        321    20.164493    618.702965  18317.038350   \n",
       "23860        321    20.164493   1099.972947  10894.472486   \n",
       "23861        321    20.164493   1023.775893  22918.685826   \n",
       "23862        321    20.164493   1126.678849  17980.357862   \n",
       "23863        321    20.164493   1251.411517  28498.211647   \n",
       "23864        321    20.164493   1055.657824  15517.253917   \n",
       "24343        133     6.035751    287.703701   4278.338534   \n",
       "24344        133     6.035751    183.544225   2066.507754   \n",
       "24347        133     6.035751    213.015432   2684.440542   \n",
       "24444        411    17.079406    389.878192   3208.873688   \n",
       "24445        411    17.079406    786.310517  17091.353830   \n",
       "32673        321    20.164493    755.991947  15304.813349   \n",
       "32674        321    20.164493    806.236339  24159.996929   \n",
       "33881        411    17.079406    555.046133  10593.540640   \n",
       "sample_2   Hello   800.000000     -7.000000      4.500000   \n",
       "\n",
       "                                                   geometry  test test_2  \n",
       "23859     MULTIPOLYGON (((415627.211 5652243.292, 415579...   200    200  \n",
       "23860     MULTIPOLYGON (((418611.74 5653542.485, 418618....  None   None  \n",
       "23861     MULTIPOLYGON (((418506.559 5653953.337, 418516...  None   None  \n",
       "23862     MULTIPOLYGON (((418145.759 5654361.049, 418151...   300    300  \n",
       "23863     MULTIPOLYGON (((401726.203 5658676.434, 401724...  None   None  \n",
       "23864     MULTIPOLYGON (((403428.145 5659215.144, 403416...  None   None  \n",
       "24343     MULTIPOLYGON (((411656.913 5656302.92, 411664....  None   None  \n",
       "24344     MULTIPOLYGON (((411567.287 5656337.438, 411562...  None   None  \n",
       "24347     MULTIPOLYGON (((411587.489 5655959.618, 411588...  None   None  \n",
       "24444     MULTIPOLYGON (((413977.74 5649257.41, 413976.8...  None   None  \n",
       "24445     MULTIPOLYGON (((401901.386 5658342.569, 401914...  None   None  \n",
       "32673     MULTIPOLYGON (((414609.258 5667182.283, 414600...  None   None  \n",
       "32674     MULTIPOLYGON (((414627.453 5667492.653, 414633...  None   None  \n",
       "33881     MULTIPOLYGON (((411687.325 5665387.9, 411686.9...  None   None  \n",
       "sample_2                                               None     9      9  "
      ]
     },
     "execution_count": 189,
     "metadata": {},
     "output_type": "execute_result"
    }
   ],
   "source": [
    "filtered_data.drop([11831,'sample'])"
   ]
  },
  {
   "cell_type": "markdown",
   "id": "8c8d2346-8399-4145-b46d-74b67d2143b2",
   "metadata": {
    "editable": true,
    "slideshow": {
     "slide_type": ""
    },
    "tags": []
   },
   "source": [
    "## Filtering Data"
   ]
  },
  {
   "cell_type": "markdown",
   "id": "e738c6f1-8060-4fd7-a983-8cfa0eb3437f",
   "metadata": {
    "editable": true,
    "slideshow": {
     "slide_type": ""
    },
    "tags": []
   },
   "source": [
    "It is also possible to explore the range of the data for numeric values, such as area.\n"
   ]
  },
  {
   "cell_type": "markdown",
   "id": "63d0609f-dc80-43ed-9e1d-3e02f0974a80",
   "metadata": {
    "editable": true,
    "slideshow": {
     "slide_type": ""
    },
    "tags": []
   },
   "source": [
    "To find the minimum and maximum values of the features, the following code is used:\n",
    "- `min`: minimum value in the specified attribute\n",
    "- `max`: maximum value in the specified attribute\n",
    "- `:0.8f`: `:f` treated the value as a float, and `0.8` rounded the number of decimals to 8 numbers\n"
   ]
  },
  {
   "cell_type": "markdown",
   "id": "24cda7a3-733b-489b-a406-648a36710539",
   "metadata": {
    "editable": true,
    "slideshow": {
     "slide_type": ""
    },
    "tags": []
   },
   "source": [
    "\n",
    "`````{admonition} \n",
    ":class: tip\n",
    "For more controlling over the output visit[here](https://python.aims.ac.za/pages/format_str.html#id4)\n",
    "`````\n",
    "\n"
   ]
  },
  {
   "cell_type": "code",
   "execution_count": 190,
   "id": "a1621b2a-deb6-4a6d-a7e9-139037404a69",
   "metadata": {
    "editable": true,
    "slideshow": {
     "slide_type": ""
    },
    "tags": []
   },
   "outputs": [
    {
     "name": "stdout",
     "output_type": "stream",
     "text": [
      "minimum: 0.00000562\n",
      "maximum: 3249895.12\n"
     ]
    }
   ],
   "source": [
    "min_value = gdf['Shape_Area'].min()\n",
    "max_value = gdf['Shape_Area'].max()\n",
    "print(f\"minimum: {min_value:0.8f}\")\n",
    "print(f\"maximum: {max_value:0.2f}\")"
   ]
  },
  {
   "cell_type": "markdown",
   "id": "9b88a3cf-a184-4cdb-8484-5edcbb130680",
   "metadata": {
    "editable": true,
    "slideshow": {
     "slide_type": ""
    },
    "tags": []
   },
   "source": [
    "Now that information about the attributes of features and the values assigned to them has been obtained, it is possible to decide which part of the data is of interest.\n"
   ]
  },
  {
   "cell_type": "markdown",
   "id": "c9b61605-6694-44e1-8cda-86a7233b6668",
   "metadata": {
    "editable": true,
    "slideshow": {
     "slide_type": ""
    },
    "tags": []
   },
   "source": [
    "For example, it can be decided to work only with the features having areas less than 1000.\n"
   ]
  },
  {
   "cell_type": "code",
   "execution_count": 191,
   "id": "895f9b73-09ef-4e6d-9bb9-4d7300453adc",
   "metadata": {
    "editable": true,
    "slideshow": {
     "slide_type": ""
    },
    "tags": []
   },
   "outputs": [],
   "source": [
    "filter_db = gdf[gdf['Shape_Area'] < 1000]"
   ]
  },
  {
   "cell_type": "code",
   "execution_count": 192,
   "id": "1d6b64a8-0323-4f3e-931f-fb58618a5e4a",
   "metadata": {
    "editable": true,
    "slideshow": {
     "slide_type": ""
    },
    "tags": [
     "hide_output",
     "hide-output"
    ]
   },
   "outputs": [
    {
     "data": {
      "text/html": [
       "<div>\n",
       "<style scoped>\n",
       "    .dataframe tbody tr th:only-of-type {\n",
       "        vertical-align: middle;\n",
       "    }\n",
       "\n",
       "    .dataframe tbody tr th {\n",
       "        vertical-align: top;\n",
       "    }\n",
       "\n",
       "    .dataframe thead th {\n",
       "        text-align: right;\n",
       "    }\n",
       "</style>\n",
       "<table border=\"1\" class=\"dataframe\">\n",
       "  <thead>\n",
       "    <tr style=\"text-align: right;\">\n",
       "      <th></th>\n",
       "      <th>CLC_st1</th>\n",
       "      <th>Biotpkt2018</th>\n",
       "      <th>Shape_Length</th>\n",
       "      <th>Shape_Area</th>\n",
       "      <th>geometry</th>\n",
       "    </tr>\n",
       "  </thead>\n",
       "  <tbody>\n",
       "    <tr>\n",
       "      <th>1</th>\n",
       "      <td>122</td>\n",
       "      <td>5.271487</td>\n",
       "      <td>31.935928</td>\n",
       "      <td>50.075513</td>\n",
       "      <td>MULTIPOLYGON (((417850.525 5650376.33, 417846....</td>\n",
       "    </tr>\n",
       "    <tr>\n",
       "      <th>3</th>\n",
       "      <td>122</td>\n",
       "      <td>5.271487</td>\n",
       "      <td>24.509066</td>\n",
       "      <td>36.443441</td>\n",
       "      <td>MULTIPOLYGON (((423453.146 5650332.06, 423453....</td>\n",
       "    </tr>\n",
       "    <tr>\n",
       "      <th>4</th>\n",
       "      <td>122</td>\n",
       "      <td>5.271487</td>\n",
       "      <td>29.937138</td>\n",
       "      <td>40.494155</td>\n",
       "      <td>MULTIPOLYGON (((417331.434 5650889.039, 417330...</td>\n",
       "    </tr>\n",
       "    <tr>\n",
       "      <th>6</th>\n",
       "      <td>122</td>\n",
       "      <td>5.271487</td>\n",
       "      <td>390.293053</td>\n",
       "      <td>764.349833</td>\n",
       "      <td>MULTIPOLYGON (((407613.154 5651943.2, 407618.7...</td>\n",
       "    </tr>\n",
       "    <tr>\n",
       "      <th>7</th>\n",
       "      <td>122</td>\n",
       "      <td>5.271487</td>\n",
       "      <td>34.931619</td>\n",
       "      <td>45.486260</td>\n",
       "      <td>MULTIPOLYGON (((416066.508 5651463.834, 416066...</td>\n",
       "    </tr>\n",
       "  </tbody>\n",
       "</table>\n",
       "</div>"
      ],
      "text/plain": [
       "  CLC_st1  Biotpkt2018  Shape_Length  Shape_Area  \\\n",
       "1     122     5.271487     31.935928   50.075513   \n",
       "3     122     5.271487     24.509066   36.443441   \n",
       "4     122     5.271487     29.937138   40.494155   \n",
       "6     122     5.271487    390.293053  764.349833   \n",
       "7     122     5.271487     34.931619   45.486260   \n",
       "\n",
       "                                            geometry  \n",
       "1  MULTIPOLYGON (((417850.525 5650376.33, 417846....  \n",
       "3  MULTIPOLYGON (((423453.146 5650332.06, 423453....  \n",
       "4  MULTIPOLYGON (((417331.434 5650889.039, 417330...  \n",
       "6  MULTIPOLYGON (((407613.154 5651943.2, 407618.7...  \n",
       "7  MULTIPOLYGON (((416066.508 5651463.834, 416066...  "
      ]
     },
     "execution_count": 192,
     "metadata": {},
     "output_type": "execute_result"
    }
   ],
   "source": [
    "filter_db.head()"
   ]
  },
  {
   "cell_type": "markdown",
   "id": "8dd5d59d-681c-47f6-8eff-3604dfa4024d",
   "metadata": {
    "editable": true,
    "slideshow": {
     "slide_type": ""
    },
    "tags": []
   },
   "source": [
    "In the chapter [Creating Maps](https://stag.training.fdz.ioer.info/notebooks/309_merging_data.html#merging-similar-datasets-using-concat), it is explained how to plot this data."
   ]
  },
  {
   "cell_type": "code",
   "execution_count": null,
   "id": "39a93eaa-4c73-4ea4-909a-2fa54b42bffc",
   "metadata": {
    "editable": true,
    "slideshow": {
     "slide_type": ""
    },
    "tags": []
   },
   "outputs": [],
   "source": []
  }
 ],
 "metadata": {
  "kernelspec": {
   "display_name": "worker_env",
   "language": "python",
   "name": "worker_env"
  },
  "language_info": {
   "codemirror_mode": {
    "name": "ipython",
    "version": 3
   },
   "file_extension": ".py",
   "mimetype": "text/x-python",
   "name": "python",
   "nbconvert_exporter": "python",
   "pygments_lexer": "ipython3",
   "version": "3.12.7"
  }
 },
 "nbformat": 4,
 "nbformat_minor": 5
}
