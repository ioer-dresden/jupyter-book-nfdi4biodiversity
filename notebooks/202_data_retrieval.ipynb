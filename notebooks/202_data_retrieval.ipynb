{
 "cells": [
  {
   "cell_type": "markdown",
   "id": "0da08b15-c87b-4c6e-bd0d-4930a983fc0f",
   "metadata": {},
   "source": [
    "# Data retrieval\n",
    "\n",
    "- explain how to access the IOER and NFDI-Data"
   ]
  },
  {
   "cell_type": "code",
   "execution_count": null,
   "id": "ebcd8dd8-ed69-4921-9ab1-1c3975ad0051",
   "metadata": {},
   "outputs": [],
   "source": []
  }
 ],
 "metadata": {
  "kernelspec": {
   "display_name": "worker_env",
   "language": "python",
   "name": "worker_env"
  },
  "language_info": {
   "codemirror_mode": {
    "name": "ipython",
    "version": 3
   },
   "file_extension": ".py",
   "mimetype": "text/x-python",
   "name": "python",
   "nbconvert_exporter": "python",
   "pygments_lexer": "ipython3",
   "version": "3.12.7"
  }
 },
 "nbformat": 4,
 "nbformat_minor": 5
}
