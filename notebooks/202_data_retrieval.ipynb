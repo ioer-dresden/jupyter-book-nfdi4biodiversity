{
 "cells": [
  {
   "cell_type": "markdown",
   "id": "0da08b15-c87b-4c6e-bd0d-4930a983fc0f",
   "metadata": {
    "editable": true,
    "slideshow": {
     "slide_type": ""
    },
    "tags": []
   },
   "source": [
    "# Data retrieval\n",
    "\n",
    "Both IOER and NFDI provide standardized ways to access data. NFDI provides a [RESTful Application Programming Interface (API)](https://techdocs.gbif.org/en/openapi/), the IOER monitor allows to query spatial raster data as a [Web Coverage Service (WCS)](https://de.wikipedia.org/wiki/Web_Coverage_Service)."
   ]
  },
  {
   "cell_type": "markdown",
   "id": "02a86e30-57c5-4a51-bf74-4a89d93057da",
   "metadata": {},
   "source": [
    ":::{tip}\n",
    "Finding your way through the Python spatial package software ecosystem can be daunting. Before getting started, it is best to take some time to review the available packages and weigh the alternatives before jumping into writing code.\n",
    ":::\n",
    "\n",
    "For RESTful APIs, the go-to package in Python is the `requests' library. We have already used this library in the [previous section](201_example_introduction). For WCS queries in Python, it is necessary to check the available alternatives. For example, a quick search with one of the major web search engines may lead us to [GemGIS](https://gemgis.readthedocs.io/). This package provides a routine to query WCS, which we can find out by looking at its [docs](https://gemgis.readthedocs.io/en/stable/getting_started/tutorial/21_working_with_web_coverage_services.html). However, on a close look, we see that _GemGIS_ uses [OWSLib](https://github.com/geopython/OWSLib) under the hood. With OWSLib we can query the WCS directly in our Jupyter notebook. A web search can show some examples like the [ISIRC SoilGrids notebooks](https://www.isric.org/web-coverage-services-wcs) or the [NASAMAAP documentation](https://docs.maap-project.org/en/stable/technical_tutorials/access/edav_wcs_data.html)."
   ]
  },
  {
   "cell_type": "markdown",
   "id": "9862d578-70f7-4c58-a166-afbee10ec7c2",
   "metadata": {},
   "source": [
    "# NFDI Occurrence Query"
   ]
  },
  {
   "cell_type": "markdown",
   "id": "801716ae-065e-479c-b9db-d1a9c30cc2af",
   "metadata": {},
   "source": [
    "```{figure} https://techdocs.gbif.org/en/data-processing/_images/data-processing.png\n",
    ":name: gbif-graphic\n",
    "\n",
    "GBIF Data Processing Documentation (https://techdocs.gbif.org/en/data-processing/).\n",
    "```\n",
    "\n",
    "The RESTful service API from GBIF/NFDI is available at [techdocs.gbif.org](https://techdocs.gbif.org/). If you find API documentation like this, which is automatically build using [Swagger](https://swagger.io/), you are a big step further! Swagger based interactive API documentations allow to _test_ API endpoints before implementing any code.\n",
    "\n",
    "We can test this for the occurence query by goijng to the following URL:\n",
    "\n",
    "https://techdocs.gbif.org/en/openapi/v1/occurrence#/Searching%20occurrences/searchOccurrence\n",
    "\n",
    "1. Click on **Try it out**\n",
    "2. Enter `420` for the taxon-id of the English Sparrow (first line, `acceptedTaxonKey`). You can find the number 420 in the API response of the [previous section](201_example_introduction) (`json_data[\"results\"][0][\"taxonID\"]`). \n",
    "3. Further down, click on **Execute**"
   ]
  },
  {
   "cell_type": "markdown",
   "id": "c1d6ade9-acb1-41b9-9dbe-da6c6d9f5853",
   "metadata": {},
   "source": [
    "# IÖR-Monitor WCS Query"
   ]
  },
  {
   "cell_type": "code",
   "execution_count": null,
   "id": "7f2b4f8a-0502-48a0-84e1-ec25de74fa8f",
   "metadata": {},
   "outputs": [],
   "source": []
  }
 ],
 "metadata": {
  "kernelspec": {
   "display_name": "worker_env",
   "language": "python",
   "name": "worker_env"
  },
  "language_info": {
   "codemirror_mode": {
    "name": "ipython",
    "version": 3
   },
   "file_extension": ".py",
   "mimetype": "text/x-python",
   "name": "python",
   "nbconvert_exporter": "python",
   "pygments_lexer": "ipython3",
   "version": "3.12.7"
  }
 },
 "nbformat": 4,
 "nbformat_minor": 5
}
