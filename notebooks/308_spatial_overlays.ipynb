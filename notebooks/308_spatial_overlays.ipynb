{
 "cells": [
  {
   "cell_type": "markdown",
   "id": "95ae5174-b6c5-430a-9aff-18899dc23f9f",
   "metadata": {
    "editable": true,
    "slideshow": {
     "slide_type": ""
    },
    "tags": []
   },
   "source": [
    "## Spatial Overlays"
   ]
  },
  {
   "cell_type": "markdown",
   "id": "4ce2b4a5-d3d6-4cad-9e49-7b072d541f51",
   "metadata": {},
   "source": [
    "```{admonition} Summary\n",
    ":class: hint\n",
    "\n",
    "Just like in GIS software, Python allows you to perform spatial overlay operations, which combine multiple spatial datasets based on their locations. In this section explores different types of spatial operations using the `overlay()` function in `GeoPandas`.\n",
    "\n",
    "```"
   ]
  },
  {
   "cell_type": "markdown",
   "id": "1a65cb57-691e-4065-a067-d86fda46c05a",
   "metadata": {},
   "source": [
    "Load required libraries: "
   ]
  },
  {
   "cell_type": "code",
   "execution_count": 1,
   "id": "168b07e6-ec0b-48e6-aea6-821ee64e0efc",
   "metadata": {
    "editable": true,
    "slideshow": {
     "slide_type": ""
    },
    "tags": []
   },
   "outputs": [],
   "source": [
    "import geopandas as gp\n",
    "import matplotlib.pyplot as plt\n",
    "from pathlib import Path"
   ]
  },
  {
   "cell_type": "markdown",
   "id": "8272540b-a894-4f70-ad84-4f660f319e35",
   "metadata": {},
   "source": [
    "Define file paths: "
   ]
  },
  {
   "cell_type": "code",
   "execution_count": 2,
   "id": "7956e57a-dfe8-468f-a5e7-022c395189b1",
   "metadata": {},
   "outputs": [],
   "source": [
    "INPUT = Path.cwd().parents[0] / \"00_data\"\n",
    "OUTPUT = Path.cwd().parents[0] / \"out\""
   ]
  },
  {
   "cell_type": "markdown",
   "id": "5a60428c-2937-422f-bf3c-933bfd3eb71c",
   "metadata": {
    "editable": true,
    "slideshow": {
     "slide_type": ""
    },
    "tags": []
   },
   "source": [
    "Load spatial data:"
   ]
  },
  {
   "cell_type": "code",
   "execution_count": 3,
   "id": "15d79042-7077-4554-88ae-894bde6f232f",
   "metadata": {
    "editable": true,
    "slideshow": {
     "slide_type": ""
    },
    "tags": []
   },
   "outputs": [],
   "source": [
    "input_data = gp.read_file (OUTPUT / \"clipped.shp\")\n",
    "overlay_data = gp.read_file(INPUT / \"layers\" / \"border.shp\")"
   ]
  },
  {
   "cell_type": "markdown",
   "id": "6ad8e8e4-5098-45c8-a74c-e6b947a7420d",
   "metadata": {
    "editable": true,
    "slideshow": {
     "slide_type": ""
    },
    "tags": []
   },
   "source": [
    "The `overlay()`  function in GeoPandas allows different types of spatial operations, defined by the `how` parameter.\n",
    "\n",
    "The following list explains available operations:\n",
    "- `intersection` – Returns the overlapping (shared) area between two geometries.\n",
    "- `union` - Merges both geometries into a single geometry.\n",
    "- `difference` - Subtract second geometry from the first geometry.\n",
    "- `symmetric_difference` - The areas that are in either of the two geometries, but not in both\n",
    "- `identity`- Keeps the shape of the first geometry while adding overlapping parts from the second geometry.\n"
   ]
  },
  {
   "cell_type": "markdown",
   "id": "f4e9e71a-20cb-4286-a054-05886daf9f48",
   "metadata": {},
   "source": [
    "```{admonition} Overlay Analysis\n",
    ":class: tip\n",
    "For more information, check the [GeoPandas spatial overlay documentation](https://geopandas.org/en/stable/docs/user_guide/set_operations.html).\n",
    "```"
   ]
  },
  {
   "cell_type": "markdown",
   "id": "927ccd09-eb54-4ad8-88e0-0d8600993ad3",
   "metadata": {},
   "source": [
    "Examples how to apply these operations: "
   ]
  },
  {
   "cell_type": "code",
   "execution_count": 4,
   "id": "adc7ed79-4061-4a32-994b-83dbddcfea65",
   "metadata": {
    "editable": true,
    "slideshow": {
     "slide_type": ""
    },
    "tags": []
   },
   "outputs": [
    {
     "name": "stderr",
     "output_type": "stream",
     "text": [
      "/tmp/ipykernel_2608/1074488158.py:7: UserWarning: `keep_geom_type=True` in overlay resulted in 5 dropped geometries of different geometry types than df1 has. Set `keep_geom_type=False` to retain all geometries\n",
      "  out_union = gp.overlay(\n",
      "/tmp/ipykernel_2608/1074488158.py:17: UserWarning: `keep_geom_type=True` in overlay resulted in 5 dropped geometries of different geometry types than df1 has. Set `keep_geom_type=False` to retain all geometries\n",
      "  out_symmetric = gp.overlay(\n"
     ]
    }
   ],
   "source": [
    "# Intersection: Find the overlapping (shared) area between input_data and overlay_data\n",
    "out_intersection = gp.overlay(\n",
    "    input_data, overlay_data,\n",
    "    how='intersection')\n",
    "\n",
    "# Union: Merge input_data and overlay_data into one geometry\n",
    "out_union = gp.overlay(\n",
    "    input_data, overlay_data,\n",
    "    how='union')\n",
    "\n",
    "# Difference: Subtract overlay_data from input_data\n",
    "out_difference = gp.overlay(\n",
    "    input_data, overlay_data,\n",
    "    how='difference')\n",
    "\n",
    "# Symmetric Difference: Get areas that are in either geometry, but not both\n",
    "out_symmetric = gp.overlay(\n",
    "    input_data, overlay_data,\n",
    "    how='symmetric_difference')\n",
    "\n",
    "# Identity: Retain the first geometry but mark overlapping areas with the second geometry\n",
    "out_identity = gp.overlay(\n",
    "    input_data, overlay_data,\n",
    "    how='identity')"
   ]
  },
  {
   "cell_type": "markdown",
   "id": "b55fda66-744d-44b4-8d78-e6825a5c8e52",
   "metadata": {
    "editable": true,
    "slideshow": {
     "slide_type": ""
    },
    "tags": []
   },
   "source": [
    "The results can be inspected by using the `print` function, which will show the first few rows of the overlayed dataset.\n",
    "\n",
    "Example:"
   ]
  },
  {
   "cell_type": "code",
   "execution_count": 6,
   "id": "572f965b-d3c2-4970-8373-32d7e250d166",
   "metadata": {
    "editable": true,
    "scrolled": true,
    "slideshow": {
     "slide_type": ""
    },
    "tags": []
   },
   "outputs": [
    {
     "name": "stdout",
     "output_type": "stream",
     "text": [
      "  KS_IS CLC_st1 CLC18    CLC  Biotpkt201   Shape_Leng    Shape_Area  Id  \\\n",
      "0    SV     122  None    NaN    5.271487  1765.048621   6984.236836 NaN   \n",
      "1    BL     322  None    NaN   18.055116   204.848619    582.329680 NaN   \n",
      "2  None     142   142  142.0    7.000000   481.434416  11886.564349 NaN   \n",
      "3  None     112   112  112.0    7.700000   113.533226    316.857160 NaN   \n",
      "4    WP     122  None    NaN    5.271487   400.304410    591.147541 NaN   \n",
      "\n",
      "                                            geometry  \n",
      "0  POLYGON ((404092.96 5654379.53, 404098.204 565...  \n",
      "1  POLYGON ((404867.05 5654106.356, 404862.483 56...  \n",
      "2  POLYGON ((405339.13 5654136.481, 405172.058 56...  \n",
      "3  POLYGON ((405337.399 5654208.987, 405336.192 5...  \n",
      "4  POLYGON ((405336.192 5654214.027, 405335.975 5...  \n"
     ]
    }
   ],
   "source": [
    "print(out_symmetric.head())"
   ]
  },
  {
   "cell_type": "markdown",
   "id": "c93d69d5-d857-419e-88c9-5ca0b0aa541e",
   "metadata": {
    "editable": true,
    "slideshow": {
     "slide_type": ""
    },
    "tags": []
   },
   "source": [
    "The results can be visualized by using the `plot` function.\n",
    "\n",
    "Example:"
   ]
  },
  {
   "cell_type": "code",
   "execution_count": 7,
   "id": "f1be87e9-e788-47e8-b24e-654b43922e45",
   "metadata": {
    "editable": true,
    "slideshow": {
     "slide_type": ""
    },
    "tags": []
   },
   "outputs": [
    {
     "data": {
      "image/png": "[encoded data removed]",
      "text/plain": [
       "<Figure size 640x480 with 1 Axes>"
      ]
     },
     "metadata": {},
     "output_type": "display_data"
    }
   ],
   "source": [
    "ax = out_symmetric.plot(\n",
    "    color=\"green\", \n",
    "    edgecolor=\"black\")\n",
    "ax.set_title(\"overlayed data\")\n",
    "ax.set_axis_off()"
   ]
  },
  {
   "cell_type": "code",
   "execution_count": null,
   "id": "459393c9-ceb2-4787-92a6-5cdf6de56143",
   "metadata": {},
   "outputs": [],
   "source": []
  }
 ],
 "metadata": {
  "kernelspec": {
   "display_name": "worker_env",
   "language": "python",
   "name": "worker_env"
  },
  "language_info": {
   "codemirror_mode": {
    "name": "ipython",
    "version": 3
   },
   "file_extension": ".py",
   "mimetype": "text/x-python",
   "name": "python",
   "nbconvert_exporter": "python",
   "pygments_lexer": "ipython3",
   "version": "3.12.7"
  }
 },
 "nbformat": 4,
 "nbformat_minor": 5
}
