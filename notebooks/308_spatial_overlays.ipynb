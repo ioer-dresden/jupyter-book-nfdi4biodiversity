{
 "cells": [
  {
   "cell_type": "markdown",
   "id": "95ae5174-b6c5-430a-9aff-18899dc23f9f",
   "metadata": {},
   "source": [
    "## Spatial overlays"
   ]
  },
  {
   "cell_type": "markdown",
   "id": "d67e86c8-9e31-4f5d-b136-87a2a9145bc3",
   "metadata": {},
   "source": [
    "Similar to consumer GIS software, any spatial overlay operation is available through Python. This section analyzes the different types of spatial operations that can be performed using the **overlay** function in GeoPandas. "
   ]
  },
  {
   "cell_type": "markdown",
   "id": "f7942069-bbd8-4baa-b078-a241df3bb1d2",
   "metadata": {},
   "source": [
    "For this purpose, the geopandas and matplotlib packages are imported."
   ]
  },
  {
   "cell_type": "code",
   "execution_count": null,
   "id": "f5f8e488-e943-4c71-9b42-2ed8c86a427d",
   "metadata": {},
   "outputs": [],
   "source": [
    "import geopandas as gpd\n",
    "import matplotlib.pyplot as plt"
   ]
  },
  {
   "cell_type": "markdown",
   "id": "5a60428c-2937-422f-bf3c-933bfd3eb71c",
   "metadata": {},
   "source": [
    "The paths to both files for performing the overlay operation are defined."
   ]
  },
  {
   "cell_type": "code",
   "execution_count": null,
   "id": "15d79042-7077-4554-88ae-894bde6f232f",
   "metadata": {},
   "outputs": [],
   "source": [
    "input_layer = gpd.read_file (r\"C:\\Users\\Fatem\\files\\layers\\output\\clipped.shp\")\n",
    "overlay_layer = gpd.read_file(r\"C:\\Users\\Fatem\\files\\layers\\border.shp\")"
   ]
  },
  {
   "cell_type": "markdown",
   "id": "6ad8e8e4-5098-45c8-a74c-e6b947a7420d",
   "metadata": {},
   "source": [
    "For performing the overlay, the interested layers are defined in the overlay function. The `how` parameter in this function determines the type of analysis. \n",
    "The types of analysis are `intersection`, `union`, `difference`, `symmetric_difference`, `identity` that is defined in the following cells."
   ]
  },
  {
   "cell_type": "markdown",
   "id": "f4e9e71a-20cb-4286-a054-05886daf9f48",
   "metadata": {},
   "source": [
    "```{tip} \n",
    "you can also visit [here](https://geopandas.org/en/stable/docs/user_guide/set_operations.html) for getting more familiar with overlay function analysis such as intersection.\n",
    "```"
   ]
  },
  {
   "cell_type": "markdown",
   "id": "71b2ffe7-e665-4179-9bd0-bdd06e4ff261",
   "metadata": {},
   "source": [
    "- intersection"
   ]
  },
  {
   "cell_type": "code",
   "execution_count": null,
   "id": "adc7ed79-4061-4a32-994b-83dbddcfea65",
   "metadata": {},
   "outputs": [],
   "source": [
    "out_intersection = gpd.overlay(input_layer, overlay_layer, how='intersection')"
   ]
  },
  {
   "cell_type": "markdown",
   "id": "7c0b8caf-104f-46e5-9b7f-9051d8981cf6",
   "metadata": {},
   "source": [
    "- union"
   ]
  },
  {
   "cell_type": "code",
   "execution_count": null,
   "id": "15943fcf-b678-425e-8030-f2dfb95fedd4",
   "metadata": {},
   "outputs": [],
   "source": [
    "out_union = gpd.overlay(input_layer, overlay_layer, how='union')"
   ]
  },
  {
   "cell_type": "markdown",
   "id": "c600fc7d-4b78-4673-94ae-6d39b18870c8",
   "metadata": {},
   "source": [
    "- difference"
   ]
  },
  {
   "cell_type": "code",
   "execution_count": null,
   "id": "bae85d2c-d8c5-4334-8f7e-53cb75da254b",
   "metadata": {},
   "outputs": [],
   "source": [
    "out_difference = gpd.overlay(input_layer, overlay_layer, how='difference')"
   ]
  },
  {
   "cell_type": "markdown",
   "id": "2e789bcd-e74b-4dbc-9628-0a05253d0a26",
   "metadata": {},
   "source": [
    "- symmetric_difference"
   ]
  },
  {
   "cell_type": "code",
   "execution_count": null,
   "id": "732263c6-abe9-4d8c-b9bc-3aa78fc7e757",
   "metadata": {},
   "outputs": [],
   "source": [
    "out_symmetric = gpd.overlay(input_layer, overlay_layer, how='symmetric_difference')"
   ]
  },
  {
   "cell_type": "markdown",
   "id": "7233f168-2910-4de2-afa5-aae1b2754509",
   "metadata": {},
   "source": [
    "- identity"
   ]
  },
  {
   "cell_type": "code",
   "execution_count": null,
   "id": "38b3d601-e382-4ee1-be56-34a89445eebd",
   "metadata": {},
   "outputs": [],
   "source": [
    "out_identity = gpd.overlay(input_layer, overlay_layer, how='identity')"
   ]
  },
  {
   "cell_type": "markdown",
   "id": "b55fda66-744d-44b4-8d78-e6825a5c8e52",
   "metadata": {},
   "source": [
    "Then the result will be printed using the print function."
   ]
  },
  {
   "cell_type": "code",
   "execution_count": null,
   "id": "572f965b-d3c2-4970-8373-32d7e250d166",
   "metadata": {},
   "outputs": [],
   "source": [
    "print(out_symmetric.head())"
   ]
  },
  {
   "cell_type": "markdown",
   "id": "c93d69d5-d857-419e-88c9-5ca0b0aa541e",
   "metadata": {},
   "source": [
    "It is also possible to visualize the output using plot function, just needed to define the interested layer for the plot function."
   ]
  },
  {
   "cell_type": "code",
   "execution_count": null,
   "id": "f1be87e9-e788-47e8-b24e-654b43922e45",
   "metadata": {},
   "outputs": [],
   "source": [
    "out_symmetric.plot(color=\"green\", alpha=0.5, edgecolor=\"black\")\n",
    "plt.title(\"overlayed Layer\")\n",
    "plt.show()"
   ]
  }
 ],
 "metadata": {
  "kernelspec": {
   "display_name": "Python 3 (ipykernel)",
   "language": "python",
   "name": "python3"
  },
  "language_info": {
   "codemirror_mode": {
    "name": "ipython",
    "version": 3
   },
   "file_extension": ".py",
   "mimetype": "text/x-python",
   "name": "python",
   "nbconvert_exporter": "python",
   "pygments_lexer": "ipython3",
   "version": "3.12.7"
  }
 },
 "nbformat": 4,
 "nbformat_minor": 5
}
