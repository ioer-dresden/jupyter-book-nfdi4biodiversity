{
 "cells": [
  {
   "cell_type": "markdown",
   "id": "95ae5174-b6c5-430a-9aff-18899dc23f9f",
   "metadata": {
    "editable": true,
    "slideshow": {
     "slide_type": ""
    },
    "tags": []
   },
   "source": [
    "## Spatial overlays"
   ]
  },
  {
   "cell_type": "markdown",
   "id": "d67e86c8-9e31-4f5d-b136-87a2a9145bc3",
   "metadata": {},
   "source": [
    "Similar to GIS software, any spatial overlay operation is available in Python. This section analyzes the different types of spatial operations that can be performed using the `overlay` function in `GeoPandas`. "
   ]
  },
  {
   "cell_type": "code",
   "execution_count": 4,
   "id": "168b07e6-ec0b-48e6-aea6-821ee64e0efc",
   "metadata": {
    "editable": true,
    "slideshow": {
     "slide_type": ""
    },
    "tags": []
   },
   "outputs": [],
   "source": [
    "import geopandas as gp\n",
    "import matplotlib.pyplot as plt\n",
    "from pathlib import Path\n",
    "\n",
    "INPUT = Path.cwd().parents[0] / \"00_data\"\n",
    "OUTPUT = Path.cwd().parents[0] / \"out\""
   ]
  },
  {
   "cell_type": "markdown",
   "id": "5a60428c-2937-422f-bf3c-933bfd3eb71c",
   "metadata": {
    "editable": true,
    "slideshow": {
     "slide_type": ""
    },
    "tags": []
   },
   "source": [
    "The paths to both files are defined for the execution of the overlay operation."
   ]
  },
  {
   "cell_type": "code",
   "execution_count": 5,
   "id": "15d79042-7077-4554-88ae-894bde6f232f",
   "metadata": {
    "editable": true,
    "slideshow": {
     "slide_type": ""
    },
    "tags": []
   },
   "outputs": [],
   "source": [
    "input_layer = gp.read_file (OUTPUT / \"clipped.shp\")\n",
    "overlay_layer = gp.read_file(INPUT / \"layers\" / \"border.shp\")"
   ]
  },
  {
   "cell_type": "markdown",
   "id": "6ad8e8e4-5098-45c8-a74c-e6b947a7420d",
   "metadata": {
    "editable": true,
    "slideshow": {
     "slide_type": ""
    },
    "tags": []
   },
   "source": [
    "For performing the overlay, the interested layers are defined in the overlay function. The `how` parameter in this function determines the type of analysis. \n",
    "The types of analysis are `intersection`, `union`, `difference`, `symmetric_difference`, `identity` that is defined in the following cells."
   ]
  },
  {
   "cell_type": "markdown",
   "id": "f4e9e71a-20cb-4286-a054-05886daf9f48",
   "metadata": {},
   "source": [
    "```{admonition} **Overlay Analysis**\n",
    ":class: tip, dropdown\n",
    "you can also visit [here](https://geopandas.org/en/stable/docs/user_guide/set_operations.html) for getting more familiar with overlay function analysis such as intersection.\n",
    "```"
   ]
  },
  {
   "cell_type": "markdown",
   "id": "71b2ffe7-e665-4179-9bd0-bdd06e4ff261",
   "metadata": {},
   "source": [
    "- **intersection:** The shared area between two geometries."
   ]
  },
  {
   "cell_type": "code",
   "execution_count": 6,
   "id": "adc7ed79-4061-4a32-994b-83dbddcfea65",
   "metadata": {
    "editable": true,
    "slideshow": {
     "slide_type": ""
    },
    "tags": []
   },
   "outputs": [],
   "source": [
    "out_intersection = gp.overlay(\n",
    "    input_layer, overlay_layer,\n",
    "    how='intersection')"
   ]
  },
  {
   "cell_type": "markdown",
   "id": "7c0b8caf-104f-46e5-9b7f-9051d8981cf6",
   "metadata": {
    "editable": true,
    "slideshow": {
     "slide_type": ""
    },
    "tags": []
   },
   "source": [
    "- **union:** Merges two geometries into a single geometry."
   ]
  },
  {
   "cell_type": "code",
   "execution_count": 7,
   "id": "15943fcf-b678-425e-8030-f2dfb95fedd4",
   "metadata": {
    "editable": true,
    "slideshow": {
     "slide_type": ""
    },
    "tags": []
   },
   "outputs": [
    {
     "name": "stderr",
     "output_type": "stream",
     "text": [
      "/tmp/ipykernel_1626/4203413818.py:1: UserWarning: `keep_geom_type=True` in overlay resulted in 6 dropped geometries of different geometry types than df1 has. Set `keep_geom_type=False` to retain all geometries\n",
      "  out_union = gp.overlay(\n"
     ]
    }
   ],
   "source": [
    "out_union = gp.overlay(\n",
    "    input_layer, overlay_layer,\n",
    "    how='union')"
   ]
  },
  {
   "cell_type": "markdown",
   "id": "c600fc7d-4b78-4673-94ae-6d39b18870c8",
   "metadata": {
    "editable": true,
    "slideshow": {
     "slide_type": ""
    },
    "tags": []
   },
   "source": [
    "- **difference:** The portion of the first geometry that does not intersect with the second geometry."
   ]
  },
  {
   "cell_type": "code",
   "execution_count": 8,
   "id": "bae85d2c-d8c5-4334-8f7e-53cb75da254b",
   "metadata": {
    "editable": true,
    "slideshow": {
     "slide_type": ""
    },
    "tags": []
   },
   "outputs": [],
   "source": [
    "out_difference = gp.overlay(\n",
    "    input_layer, overlay_layer,\n",
    "    how='difference')"
   ]
  },
  {
   "cell_type": "markdown",
   "id": "2e789bcd-e74b-4dbc-9628-0a05253d0a26",
   "metadata": {
    "editable": true,
    "slideshow": {
     "slide_type": ""
    },
    "tags": []
   },
   "source": [
    "- **symmetric_difference:** The areas that are in either of the two geometries, but not in both."
   ]
  },
  {
   "cell_type": "code",
   "execution_count": 9,
   "id": "732263c6-abe9-4d8c-b9bc-3aa78fc7e757",
   "metadata": {
    "editable": true,
    "slideshow": {
     "slide_type": ""
    },
    "tags": []
   },
   "outputs": [
    {
     "name": "stderr",
     "output_type": "stream",
     "text": [
      "/tmp/ipykernel_1626/1844746403.py:1: UserWarning: `keep_geom_type=True` in overlay resulted in 6 dropped geometries of different geometry types than df1 has. Set `keep_geom_type=False` to retain all geometries\n",
      "  out_symmetric = gp.overlay(\n"
     ]
    }
   ],
   "source": [
    "out_symmetric = gp.overlay(\n",
    "    input_layer, overlay_layer,\n",
    "    how='symmetric_difference')"
   ]
  },
  {
   "cell_type": "markdown",
   "id": "7233f168-2910-4de2-afa5-aae1b2754509",
   "metadata": {
    "editable": true,
    "slideshow": {
     "slide_type": ""
    },
    "tags": []
   },
   "source": [
    "- **identity:** The portion of the first geometry that overlaps with the second geometry, preserving the first shape of the first geometry."
   ]
  },
  {
   "cell_type": "code",
   "execution_count": 10,
   "id": "38b3d601-e382-4ee1-be56-34a89445eebd",
   "metadata": {
    "editable": true,
    "slideshow": {
     "slide_type": ""
    },
    "tags": []
   },
   "outputs": [],
   "source": [
    "out_identity = gp.overlay(\n",
    "    input_layer, overlay_layer,\n",
    "    how='identity')"
   ]
  },
  {
   "cell_type": "markdown",
   "id": "b55fda66-744d-44b4-8d78-e6825a5c8e52",
   "metadata": {
    "editable": true,
    "slideshow": {
     "slide_type": ""
    },
    "tags": []
   },
   "source": [
    "The result will be printed out by using the `print` function."
   ]
  },
  {
   "cell_type": "code",
   "execution_count": 11,
   "id": "572f965b-d3c2-4970-8373-32d7e250d166",
   "metadata": {
    "editable": true,
    "scrolled": true,
    "slideshow": {
     "slide_type": ""
    },
    "tags": []
   },
   "outputs": [
    {
     "data": {
      "text/html": [
       "<div>\n",
       "<style scoped>\n",
       "    .dataframe tbody tr th:only-of-type {\n",
       "        vertical-align: middle;\n",
       "    }\n",
       "\n",
       "    .dataframe tbody tr th {\n",
       "        vertical-align: top;\n",
       "    }\n",
       "\n",
       "    .dataframe thead th {\n",
       "        text-align: right;\n",
       "    }\n",
       "</style>\n",
       "<table border=\"1\" class=\"dataframe\">\n",
       "  <thead>\n",
       "    <tr style=\"text-align: right;\">\n",
       "      <th></th>\n",
       "      <th>KS_IS</th>\n",
       "      <th>CLC_st1</th>\n",
       "      <th>CLC18</th>\n",
       "      <th>CLC</th>\n",
       "      <th>Biotpkt201</th>\n",
       "      <th>Shape_Leng</th>\n",
       "      <th>Shape_Area</th>\n",
       "      <th>Id</th>\n",
       "      <th>geometry</th>\n",
       "    </tr>\n",
       "  </thead>\n",
       "  <tbody>\n",
       "    <tr>\n",
       "      <th>0</th>\n",
       "      <td>None</td>\n",
       "      <td>231</td>\n",
       "      <td>231</td>\n",
       "      <td>231.0</td>\n",
       "      <td>10.981298</td>\n",
       "      <td>1385.654150</td>\n",
       "      <td>12351.546010</td>\n",
       "      <td>NaN</td>\n",
       "      <td>POLYGON ((403073.546 5657985.516, 403073.546 5...</td>\n",
       "    </tr>\n",
       "    <tr>\n",
       "      <th>1</th>\n",
       "      <td>None</td>\n",
       "      <td>231</td>\n",
       "      <td>231</td>\n",
       "      <td>231.0</td>\n",
       "      <td>10.981298</td>\n",
       "      <td>2978.763179</td>\n",
       "      <td>42370.388201</td>\n",
       "      <td>NaN</td>\n",
       "      <td>POLYGON ((402946.976 5658011.263, 402946.976 5...</td>\n",
       "    </tr>\n",
       "    <tr>\n",
       "      <th>2</th>\n",
       "      <td>None</td>\n",
       "      <td>324</td>\n",
       "      <td>324</td>\n",
       "      <td>324.0</td>\n",
       "      <td>14.000424</td>\n",
       "      <td>637.802661</td>\n",
       "      <td>5121.556248</td>\n",
       "      <td>NaN</td>\n",
       "      <td>POLYGON ((402650.192 5658099.787, 402650.192 5...</td>\n",
       "    </tr>\n",
       "    <tr>\n",
       "      <th>3</th>\n",
       "      <td>None</td>\n",
       "      <td>122</td>\n",
       "      <td>122</td>\n",
       "      <td>122.0</td>\n",
       "      <td>5.271487</td>\n",
       "      <td>346.752729</td>\n",
       "      <td>5474.275433</td>\n",
       "      <td>NaN</td>\n",
       "      <td>POLYGON ((403391.503 5657950.47, 403391.503 56...</td>\n",
       "    </tr>\n",
       "    <tr>\n",
       "      <th>4</th>\n",
       "      <td>HW</td>\n",
       "      <td>122</td>\n",
       "      <td>None</td>\n",
       "      <td>NaN</td>\n",
       "      <td>5.271487</td>\n",
       "      <td>1096.631901</td>\n",
       "      <td>2365.341424</td>\n",
       "      <td>NaN</td>\n",
       "      <td>POLYGON ((403391.503 5657950.47, 403389.219 56...</td>\n",
       "    </tr>\n",
       "  </tbody>\n",
       "</table>\n",
       "</div>"
      ],
      "text/plain": [
       "  KS_IS CLC_st1 CLC18    CLC  Biotpkt201   Shape_Leng    Shape_Area  Id  \\\n",
       "0  None     231   231  231.0   10.981298  1385.654150  12351.546010 NaN   \n",
       "1  None     231   231  231.0   10.981298  2978.763179  42370.388201 NaN   \n",
       "2  None     324   324  324.0   14.000424   637.802661   5121.556248 NaN   \n",
       "3  None     122   122  122.0    5.271487   346.752729   5474.275433 NaN   \n",
       "4    HW     122  None    NaN    5.271487  1096.631901   2365.341424 NaN   \n",
       "\n",
       "                                            geometry  \n",
       "0  POLYGON ((403073.546 5657985.516, 403073.546 5...  \n",
       "1  POLYGON ((402946.976 5658011.263, 402946.976 5...  \n",
       "2  POLYGON ((402650.192 5658099.787, 402650.192 5...  \n",
       "3  POLYGON ((403391.503 5657950.47, 403391.503 56...  \n",
       "4  POLYGON ((403391.503 5657950.47, 403389.219 56...  "
      ]
     },
     "execution_count": 11,
     "metadata": {},
     "output_type": "execute_result"
    }
   ],
   "source": [
    "out_symmetric.head()"
   ]
  },
  {
   "cell_type": "markdown",
   "id": "c93d69d5-d857-419e-88c9-5ca0b0aa541e",
   "metadata": {
    "editable": true,
    "slideshow": {
     "slide_type": ""
    },
    "tags": []
   },
   "source": [
    "Then visualize the output using the `Plot` function."
   ]
  },
  {
   "cell_type": "code",
   "execution_count": 12,
   "id": "f1be87e9-e788-47e8-b24e-654b43922e45",
   "metadata": {
    "editable": true,
    "slideshow": {
     "slide_type": ""
    },
    "tags": []
   },
   "outputs": [
    {
     "data": {
      "image/png": "[encoded data removed]",
      "text/plain": [
       "<Figure size 640x480 with 1 Axes>"
      ]
     },
     "metadata": {},
     "output_type": "display_data"
    }
   ],
   "source": [
    "ax = out_symmetric.plot(color=\"green\", alpha=0.5, edgecolor=\"black\")\n",
    "ax.set_title(\"overlayed Layer\")\n",
    "ax.set_axis_off()"
   ]
  },
  {
   "cell_type": "code",
   "execution_count": null,
   "id": "35f8da48-5e47-4ac2-a094-83a17fbc4f06",
   "metadata": {
    "editable": true,
    "slideshow": {
     "slide_type": ""
    },
    "tags": []
   },
   "outputs": [],
   "source": []
  }
 ],
 "metadata": {
  "kernelspec": {
   "display_name": "worker_env",
   "language": "python",
   "name": "worker_env"
  },
  "language_info": {
   "codemirror_mode": {
    "name": "ipython",
    "version": 3
   },
   "file_extension": ".py",
   "mimetype": "text/x-python",
   "name": "python",
   "nbconvert_exporter": "python",
   "pygments_lexer": "ipython3",
   "version": "3.12.7"
  }
 },
 "nbformat": 4,
 "nbformat_minor": 5
}
