{
 "cells": [
  {
   "cell_type": "markdown",
   "id": "a3e69efe-8103-4dac-90c4-47946a4352ed",
   "metadata": {},
   "source": [
    "# Clipping data\n"
   ]
  },
  {
   "cell_type": "markdown",
   "id": "4e686e17-9613-4767-94db-4e4f703a3ed5",
   "metadata": {},
   "source": [
    "Another way to limit the data except selecting, is clipping the data based on another feature."
   ]
  },
  {
   "cell_type": "markdown",
   "id": "8ffbafc9-807a-4183-9e62-4fc7d39a369c",
   "metadata": {},
   "source": [
    "For this reason the packages geopandas and matplotlib are imported."
   ]
  },
  {
   "cell_type": "code",
   "execution_count": null,
   "id": "9f037921-867f-4dbc-a990-329a12c274d9",
   "metadata": {},
   "outputs": [],
   "source": [
    "import geopandas as gpd\n",
    "import matplotlib.pyplot as plt"
   ]
  },
  {
   "cell_type": "markdown",
   "id": "36379a17-539c-4c60-8ddf-dc53914fb6d5",
   "metadata": {},
   "source": [
    "Then the path to the original dataset and the fetaure that based on that the layer should be limited will be defined:"
   ]
  },
  {
   "cell_type": "code",
   "execution_count": null,
   "id": "d01d2423-b931-4872-a7f5-f6f361133f7b",
   "metadata": {},
   "outputs": [],
   "source": [
    "original_layer = gpd.read_file(r\"C:\\Users\\Fatem\\files\\LBM_2018_IS_DD_gdb\\LBM_2018_IS_DD.gdb\")\n",
    "clipping_layer = gpd.read_file(r\"C:\\Users\\Fatem\\files\\layers\\border.shp\")"
   ]
  },
  {
   "cell_type": "markdown",
   "id": "05af4cbe-ba81-4c7f-b8b4-852ed4d74718",
   "metadata": {},
   "source": [
    "Then using the function clip in geopandas package the dataset will be clipped, by defining the original layer and the clip layer. "
   ]
  },
  {
   "cell_type": "code",
   "execution_count": null,
   "id": "64d2252c-1761-4589-a080-0a69bea64e2d",
   "metadata": {},
   "outputs": [],
   "source": [
    "clipped_layer = gpd.clip(original_layer, clipping_layer)"
   ]
  },
  {
   "cell_type": "markdown",
   "id": "5d4eed84-233f-4459-b5f3-8515cf5f9441",
   "metadata": {},
   "source": [
    "Then the interested part of the dataset will be printed."
   ]
  },
  {
   "cell_type": "code",
   "execution_count": null,
   "id": "fbb9127c-191c-417f-9f71-7e1df2c687e1",
   "metadata": {},
   "outputs": [],
   "source": [
    "print(clipped_layer.head())"
   ]
  },
  {
   "cell_type": "code",
   "execution_count": null,
   "id": "37d2ca37-a810-4b8a-9b70-d8813a806886",
   "metadata": {},
   "outputs": [],
   "source": [
    "clipped_layer.plot()"
   ]
  },
  {
   "cell_type": "code",
   "execution_count": null,
   "id": "52f1eb8d-b35b-4611-a4a6-10d2cd2a2bf5",
   "metadata": {},
   "outputs": [],
   "source": [
    "clipped_layer.plot(color=\"green\", alpha=0.5, edgecolor=\"black\")\n",
    "plt.title(\"Clipped Layer\")\n",
    "plt.show()"
   ]
  },
  {
   "cell_type": "markdown",
   "id": "e919cb6a-5192-4b3d-9c38-9008739f7e27",
   "metadata": {},
   "source": [
    "The result could be saved as different formats. It is just needed to define the output path and export it based on the interested format."
   ]
  },
  {
   "cell_type": "markdown",
   "id": "cbbdefda-69ff-4275-91a5-a2b1483376a7",
   "metadata": {},
   "source": [
    "- shapefile format"
   ]
  },
  {
   "cell_type": "code",
   "execution_count": null,
   "id": "f53c8e1c-439a-43c1-95dc-cc0a3588f741",
   "metadata": {},
   "outputs": [],
   "source": [
    "output_shp = r\"C:\\Users\\Fatem\\files\\layers\\output\\clipped.shp\"\n",
    "clipped_layer.to_file(output_shp)"
   ]
  },
  {
   "cell_type": "markdown",
   "id": "b2ee9490-e8cd-4703-adb3-5170291ef54e",
   "metadata": {},
   "source": [
    "- Geodatabase format"
   ]
  },
  {
   "cell_type": "code",
   "execution_count": null,
   "id": "614d4d4f-0572-47e2-978e-68e90ea694f7",
   "metadata": {},
   "outputs": [],
   "source": [
    "output_gdb= r\"C:\\Users\\Fatem\\files\\layers\\output\\clipped.gdb\"\n",
    "clipped_layer.to_file(output_gdb, layer=\"clipped_layer\", driver=\"FileGDB\")"
   ]
  },
  {
   "cell_type": "markdown",
   "id": "9c27f816-65f0-4753-a2a8-ad5ec0e592f6",
   "metadata": {},
   "source": [
    "- CSV format"
   ]
  },
  {
   "cell_type": "markdown",
   "id": "1638a797-bde0-47d1-bc35-267ea5a07d8e",
   "metadata": {},
   "source": [
    "```{caution} \n",
    "If the layer doesn't have a geometry column as Well Known Text format, first it should be converted.\n",
    "```"
   ]
  },
  {
   "cell_type": "markdown",
   "id": "12dff29a-00a4-4d08-9c31-361ded797edf",
   "metadata": {},
   "source": [
    "For converting the geometry first an accesses to the geometry column of the GeoDataFrame is needed, then using apply function, to each geometry in the column, the geometry converts to the string format for spatial data. "
   ]
  },
  {
   "cell_type": "code",
   "execution_count": null,
   "id": "3433d637-b5a3-4585-953a-1b9ed3530bd7",
   "metadata": {},
   "outputs": [],
   "source": [
    "clipped_layer[\"geometry\"] = clipped_layer[\"geometry\"].apply(lambda geom: geom.wkt)"
   ]
  },
  {
   "cell_type": "markdown",
   "id": "cfa6419e-d468-4e91-b346-0ba0dcb5e2c3",
   "metadata": {},
   "source": [
    "Then the path for the output defined:"
   ]
  },
  {
   "cell_type": "code",
   "execution_count": null,
   "id": "657a63c7-b31b-498b-b702-a478d7580978",
   "metadata": {},
   "outputs": [],
   "source": [
    "csv_path = r\"C:\\Users\\Fatem\\files\\layers\\output\\clipped_layer.csv\""
   ]
  },
  {
   "cell_type": "markdown",
   "id": "72139647-c392-4ede-b7d3-8be8bade8c63",
   "metadata": {},
   "source": [
    "Then the data executed as csv file, if the index as a unique value is not needed, the index parameter can change to `False`."
   ]
  },
  {
   "cell_type": "code",
   "execution_count": null,
   "id": "b73a8c7e-5002-4ec6-ab36-ee476aad8518",
   "metadata": {},
   "outputs": [],
   "source": [
    "clipped_layer.to_csv(csv_path, index=True)"
   ]
  },
  {
   "cell_type": "code",
   "execution_count": null,
   "id": "0927458d-dfec-48ce-88e8-1cc9e925b93d",
   "metadata": {},
   "outputs": [],
   "source": []
  }
 ],
 "metadata": {
  "kernelspec": {
   "display_name": "Python 3 (ipykernel)",
   "language": "python",
   "name": "python3"
  },
  "language_info": {
   "codemirror_mode": {
    "name": "ipython",
    "version": 3
   },
   "file_extension": ".py",
   "mimetype": "text/x-python",
   "name": "python",
   "nbconvert_exporter": "python",
   "pygments_lexer": "ipython3",
   "version": "3.12.7"
  }
 },
 "nbformat": 4,
 "nbformat_minor": 5
}
