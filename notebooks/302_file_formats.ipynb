{
 "cells": [
  {
   "cell_type": "markdown",
   "id": "0da08b15-c87b-4c6e-bd0d-4930a983fc0f",
   "metadata": {
    "editable": true,
    "slideshow": {
     "slide_type": ""
    },
    "tags": []
   },
   "source": [
    "# Common Spatial File Formats"
   ]
  },
  {
   "cell_type": "markdown",
   "id": "f493dd01-8af7-4e17-9d89-b3608d55fb66",
   "metadata": {},
   "source": [
    "```{admonition} Summary\n",
    ":class: hint\n",
    "\n",
    "This section explains XY common spatial file formats.\n",
    "\n",
    "- JSON\n",
    "- Shapefiles (.shp)\n",
    "\n",
    "\n",
    "```"
   ]
  },
  {
   "cell_type": "markdown",
   "id": "4b3e65c7-1d7a-4f78-bc9b-a8436ba25255",
   "metadata": {},
   "source": [
    "Let's continue from the previous section by referencing our example data."
   ]
  },
  {
   "cell_type": "code",
   "execution_count": 2,
   "id": "3c8e0f1c-8cd8-4b65-8a2d-d3e7aba97485",
   "metadata": {
    "editable": true,
    "slideshow": {
     "slide_type": ""
    },
    "tags": []
   },
   "outputs": [],
   "source": [
    "from pathlib import Path\n",
    "\n",
    "INPUT = Path.cwd().parents[0] / \"00_data\"\n",
    "mydata = INPUT / \"Biotopwerte_Dresden_2028.geojson\""
   ]
  },
  {
   "cell_type": "markdown",
   "id": "2897c8b0-d1a0-429d-b63f-4c8b98635ddf",
   "metadata": {
    "editable": true,
    "slideshow": {
     "slide_type": ""
    },
    "tags": []
   },
   "source": [
    "Using `pathlib`, the size of the files are accessible:\n",
    "- `stat`: Returns information about the file\n",
    "- `st_size`: Extracts the size of the file from information, in bytes"
   ]
  },
  {
   "cell_type": "code",
   "execution_count": 3,
   "id": "628edf74-a735-4d81-b268-128aa4a2c7f8",
   "metadata": {
    "editable": true,
    "slideshow": {
     "slide_type": ""
    },
    "tags": []
   },
   "outputs": [
    {
     "data": {
      "text/plain": [
       "82371724"
      ]
     },
     "execution_count": 3,
     "metadata": {},
     "output_type": "execute_result"
    }
   ],
   "source": [
    "size = mydata.stat().st_size\n",
    "size"
   ]
  },
  {
   "cell_type": "markdown",
   "id": "f6a482d8-f781-47ee-90f6-089f5141d2af",
   "metadata": {
    "editable": true,
    "slideshow": {
     "slide_type": ""
    },
    "tags": []
   },
   "source": [
    "Convert it to Megabyte, and format to showing two decimals by using f-strings."
   ]
  },
  {
   "cell_type": "markdown",
   "id": "d00d0652-56d1-4b22-afbf-c843d64da8f4",
   "metadata": {
    "editable": true,
    "slideshow": {
     "slide_type": ""
    },
    "tags": []
   },
   "source": [
    "- `f'`: Put variables inside {}\n",
    "- `:f`: Treats the value as a float\n",
    "- `:.2f`: Rounds the number to 2 decimal places"
   ]
  },
  {
   "cell_type": "code",
   "execution_count": 4,
   "id": "8ff95a61-3341-4fec-85f6-b517c5e59717",
   "metadata": {
    "editable": true,
    "slideshow": {
     "slide_type": ""
    },
    "tags": []
   },
   "outputs": [
    {
     "name": "stdout",
     "output_type": "stream",
     "text": [
      "78.56 MB\n"
     ]
    }
   ],
   "source": [
    "size_gb = size / 1024 / 1024\n",
    "print(f'{size_gb:.2f} MB')"
   ]
  },
  {
   "cell_type": "markdown",
   "id": "2af138bc-1afb-4c1e-8aa3-0ac4d373ea20",
   "metadata": {
    "editable": true,
    "slideshow": {
     "slide_type": ""
    },
    "tags": []
   },
   "source": [
    "## JSON Format"
   ]
  },
  {
   "cell_type": "markdown",
   "id": "21247f48-4305-4770-813c-3d1de44857d3",
   "metadata": {
    "editable": true,
    "slideshow": {
     "slide_type": ""
    },
    "tags": []
   },
   "source": [
    "For retriving a json files, the [json package](https://docs.python.org/3/library/json.html) is suitable."
   ]
  },
  {
   "cell_type": "code",
   "execution_count": 5,
   "id": "6a398b01-2eb3-41f8-8b06-412d2c692dd7",
   "metadata": {
    "editable": true,
    "slideshow": {
     "slide_type": ""
    },
    "tags": []
   },
   "outputs": [],
   "source": [
    "import json"
   ]
  },
  {
   "cell_type": "markdown",
   "id": "52bba730-1e4d-4f20-a962-e7ece935f661",
   "metadata": {
    "editable": true,
    "slideshow": {
     "slide_type": ""
    },
    "tags": []
   },
   "source": [
    "To access the content the following code is used:\n",
    "- `with`: Ensures the file is properly closed after reading\n",
    "- `open`: Opens the file for reading\n",
    "- `load`: Reads the file (source) and parses the contents of the JSON file into `data` variable, as a Python dictionary or list, depending on the JSON structure."
   ]
  },
  {
   "cell_type": "code",
   "execution_count": 6,
   "id": "0877fed2-8386-4027-9112-3b7ba9284a1e",
   "metadata": {
    "editable": true,
    "slideshow": {
     "slide_type": ""
    },
    "tags": []
   },
   "outputs": [],
   "source": [
    "with mydata.open() as source:\n",
    "    data = json.load(source)"
   ]
  },
  {
   "cell_type": "markdown",
   "id": "f4cef235-d9a6-4f98-b556-d4951155604e",
   "metadata": {
    "editable": true,
    "slideshow": {
     "slide_type": ""
    },
    "tags": []
   },
   "source": [
    "Below, preview the json:"
   ]
  },
  {
   "cell_type": "markdown",
   "id": "545667a4-0bf5-442b-af12-4e664bea786b",
   "metadata": {
    "editable": true,
    "slideshow": {
     "slide_type": ""
    },
    "tags": []
   },
   "source": [
    "`````{admonition} Print!\n",
    ":class: danger\n",
    "\n",
    "For printing the content of the data `print` is used but if the data is too large it will show the following error:\n",
    "\n",
    "```{figure} ../resources/10.png\n",
    ":width: 700px\n",
    ":name: figure-example\n",
    "\n",
    "Printing error for large datasets\n",
    "```\n",
    "`````"
   ]
  },
  {
   "cell_type": "markdown",
   "id": "fa945817-0e62-4bad-b640-7bc1d5a29536",
   "metadata": {
    "editable": true,
    "slideshow": {
     "slide_type": ""
    },
    "tags": []
   },
   "source": [
    "**!** In this case it is better to print just some subset of the data."
   ]
  },
  {
   "cell_type": "markdown",
   "id": "1c0fb55a-947d-4721-822a-0f244110fe22",
   "metadata": {
    "editable": true,
    "slideshow": {
     "slide_type": ""
    },
    "tags": []
   },
   "source": [
    "- `indent=2` will prettify the output\n",
    "- `[0:200]` limits output to the first `200` characters"
   ]
  },
  {
   "cell_type": "code",
   "execution_count": 7,
   "id": "c3df17f6-425f-40b7-8215-bf145f4ae1be",
   "metadata": {
    "editable": true,
    "slideshow": {
     "slide_type": ""
    },
    "tags": []
   },
   "outputs": [
    {
     "name": "stdout",
     "output_type": "stream",
     "text": [
      "{\n",
      "  \"displayFieldName\": \"\",\n",
      "  \"fieldAliases\": {\n",
      "    \"FID\": \"FID\",\n",
      "    \"CLC_st1\": \"CLC_st1\",\n",
      "    \"Biotpkt201\": \"Biotpkt201\",\n",
      "    \"Shape_Leng\": \"Shape_Leng\",\n",
      "    \"Shape_Area\": \"Shape_Area\"\n",
      "  },\n",
      "  \"geome\n"
     ]
    }
   ],
   "source": [
    "print(json.dumps(data, indent=2)[0:200])"
   ]
  },
  {
   "cell_type": "markdown",
   "id": "8f19371c-a7e9-475b-a00b-1682d285d8ef",
   "metadata": {
    "editable": true,
    "slideshow": {
     "slide_type": ""
    },
    "tags": []
   },
   "source": [
    "Often, a better way is to use the [Pandas library](https://pandas.pydata.org/) for viewing and working with data."
   ]
  },
  {
   "cell_type": "code",
   "execution_count": 8,
   "id": "023619ba-a98c-48ff-a039-a4b5ee437c11",
   "metadata": {
    "editable": true,
    "slideshow": {
     "slide_type": ""
    },
    "tags": []
   },
   "outputs": [],
   "source": [
    "import pandas as pd"
   ]
  },
  {
   "cell_type": "markdown",
   "id": "ac6cce2f-0b59-4d92-82b9-13363e3cfbdd",
   "metadata": {
    "editable": true,
    "slideshow": {
     "slide_type": ""
    },
    "tags": []
   },
   "source": [
    "- Preview the top-level json structure using `pd.json_normalize()`.\n",
    "- Transpose the view using `.T`, similar to Excel"
   ]
  },
  {
   "cell_type": "code",
   "execution_count": 9,
   "id": "661e5df8-661a-4ace-ba67-22b164263bbc",
   "metadata": {
    "editable": true,
    "slideshow": {
     "slide_type": ""
    },
    "tags": []
   },
   "outputs": [
    {
     "data": {
      "text/html": [
       "<div>\n",
       "<style scoped>\n",
       "    .dataframe tbody tr th:only-of-type {\n",
       "        vertical-align: middle;\n",
       "    }\n",
       "\n",
       "    .dataframe tbody tr th {\n",
       "        vertical-align: top;\n",
       "    }\n",
       "\n",
       "    .dataframe thead th {\n",
       "        text-align: right;\n",
       "    }\n",
       "</style>\n",
       "<table border=\"1\" class=\"dataframe\">\n",
       "  <thead>\n",
       "    <tr style=\"text-align: right;\">\n",
       "      <th></th>\n",
       "      <th>0</th>\n",
       "    </tr>\n",
       "  </thead>\n",
       "  <tbody>\n",
       "    <tr>\n",
       "      <th>displayFieldName</th>\n",
       "      <td></td>\n",
       "    </tr>\n",
       "    <tr>\n",
       "      <th>geometryType</th>\n",
       "      <td>esriGeometryPolygon</td>\n",
       "    </tr>\n",
       "    <tr>\n",
       "      <th>fields</th>\n",
       "      <td>[{'name': 'FID', 'type': 'esriFieldTypeOID', '...</td>\n",
       "    </tr>\n",
       "    <tr>\n",
       "      <th>features</th>\n",
       "      <td>[{'attributes': {'FID': 0, 'CLC_st1': '122', '...</td>\n",
       "    </tr>\n",
       "    <tr>\n",
       "      <th>fieldAliases.FID</th>\n",
       "      <td>FID</td>\n",
       "    </tr>\n",
       "    <tr>\n",
       "      <th>fieldAliases.CLC_st1</th>\n",
       "      <td>CLC_st1</td>\n",
       "    </tr>\n",
       "    <tr>\n",
       "      <th>fieldAliases.Biotpkt201</th>\n",
       "      <td>Biotpkt201</td>\n",
       "    </tr>\n",
       "    <tr>\n",
       "      <th>fieldAliases.Shape_Leng</th>\n",
       "      <td>Shape_Leng</td>\n",
       "    </tr>\n",
       "    <tr>\n",
       "      <th>fieldAliases.Shape_Area</th>\n",
       "      <td>Shape_Area</td>\n",
       "    </tr>\n",
       "    <tr>\n",
       "      <th>spatialReference.wkid</th>\n",
       "      <td>25833</td>\n",
       "    </tr>\n",
       "    <tr>\n",
       "      <th>spatialReference.latestWkid</th>\n",
       "      <td>25833</td>\n",
       "    </tr>\n",
       "  </tbody>\n",
       "</table>\n",
       "</div>"
      ],
      "text/plain": [
       "                                                                             0\n",
       "displayFieldName                                                              \n",
       "geometryType                                               esriGeometryPolygon\n",
       "fields                       [{'name': 'FID', 'type': 'esriFieldTypeOID', '...\n",
       "features                     [{'attributes': {'FID': 0, 'CLC_st1': '122', '...\n",
       "fieldAliases.FID                                                           FID\n",
       "fieldAliases.CLC_st1                                                   CLC_st1\n",
       "fieldAliases.Biotpkt201                                             Biotpkt201\n",
       "fieldAliases.Shape_Leng                                             Shape_Leng\n",
       "fieldAliases.Shape_Area                                             Shape_Area\n",
       "spatialReference.wkid                                                    25833\n",
       "spatialReference.latestWkid                                              25833"
      ]
     },
     "execution_count": 9,
     "metadata": {},
     "output_type": "execute_result"
    }
   ],
   "source": [
    "pd.json_normalize(data, errors=\"ignore\").T"
   ]
  },
  {
   "cell_type": "markdown",
   "id": "3216ed65-4256-4574-8023-6702a7a8656a",
   "metadata": {
    "editable": true,
    "slideshow": {
     "slide_type": ""
    },
    "tags": []
   },
   "source": [
    "The type of the data can be determined using the following code:"
   ]
  },
  {
   "cell_type": "code",
   "execution_count": 10,
   "id": "a689f1b0-2c99-4494-8fa6-b78c3f72bc3e",
   "metadata": {
    "editable": true,
    "slideshow": {
     "slide_type": ""
    },
    "tags": []
   },
   "outputs": [
    {
     "name": "stdout",
     "output_type": "stream",
     "text": [
      "<class 'dict'>\n"
     ]
    }
   ],
   "source": [
    "print(type(data))"
   ]
  },
  {
   "cell_type": "markdown",
   "id": "9d14b796-efc5-4570-ab23-1b3006b821b4",
   "metadata": {
    "editable": true,
    "slideshow": {
     "slide_type": ""
    },
    "tags": []
   },
   "source": [
    "If the data is a dictionary (`dict`), For visualizing only the key of the file the following code is using:"
   ]
  },
  {
   "cell_type": "code",
   "execution_count": 11,
   "id": "009342cc-02d0-4d62-949a-f397c0b38041",
   "metadata": {
    "editable": true,
    "slideshow": {
     "slide_type": ""
    },
    "tags": []
   },
   "outputs": [
    {
     "name": "stdout",
     "output_type": "stream",
     "text": [
      "dict_keys(['displayFieldName', 'fieldAliases', 'geometryType', 'spatialReference', 'fields', 'features'])\n"
     ]
    }
   ],
   "source": [
    "print(data.keys()) "
   ]
  },
  {
   "cell_type": "markdown",
   "id": "bfad3412-228f-4e82-9d0a-4191df2498ff",
   "metadata": {
    "editable": true,
    "slideshow": {
     "slide_type": ""
    },
    "tags": []
   },
   "source": [
    "It is also possible to see the value of the key elements."
   ]
  },
  {
   "cell_type": "markdown",
   "id": "84a2ab83-c162-47df-b88e-075e665e06b2",
   "metadata": {
    "editable": true,
    "slideshow": {
     "slide_type": ""
    },
    "tags": []
   },
   "source": [
    "**ex**: below the value for the key `spatialReference` is extracted:"
   ]
  },
  {
   "cell_type": "code",
   "execution_count": 12,
   "id": "dfad9482-ae56-473f-92cc-921aafcc04ac",
   "metadata": {
    "editable": true,
    "slideshow": {
     "slide_type": ""
    },
    "tags": []
   },
   "outputs": [
    {
     "data": {
      "text/plain": [
       "{'wkid': 25833, 'latestWkid': 25833}"
      ]
     },
     "execution_count": 12,
     "metadata": {},
     "output_type": "execute_result"
    }
   ],
   "source": [
    "data['spatialReference']"
   ]
  },
  {
   "cell_type": "markdown",
   "id": "35808ae0-c174-48a0-a887-cc617ed86e7a",
   "metadata": {
    "editable": true,
    "slideshow": {
     "slide_type": ""
    },
    "tags": []
   },
   "source": [
    "## Temporary data and ZIP files"
   ]
  },
  {
   "cell_type": "code",
   "execution_count": 13,
   "id": "4f9129d9-2976-455e-a703-df2a3bdb9eb6",
   "metadata": {
    "editable": true,
    "slideshow": {
     "slide_type": ""
    },
    "tags": []
   },
   "outputs": [],
   "source": [
    "import zipfile\n",
    "import tempfile\n",
    "import requests"
   ]
  },
  {
   "cell_type": "code",
   "execution_count": 14,
   "id": "e94145f6-8c7a-4fb2-b9bb-63932b6f6f00",
   "metadata": {
    "editable": true,
    "slideshow": {
     "slide_type": ""
    },
    "tags": []
   },
   "outputs": [],
   "source": [
    "sample_data_url = 'https://datashare.tu-dresden.de/s/KEL6bZMn6GegEW4/download'"
   ]
  },
  {
   "cell_type": "markdown",
   "id": "7cce3d1b-27e2-44f7-9e52-c595217dd3ce",
   "metadata": {
    "editable": true,
    "slideshow": {
     "slide_type": ""
    },
    "tags": []
   },
   "source": [
    "A temporary directory is created for preventing downloading and storing the data in local system. "
   ]
  },
  {
   "cell_type": "markdown",
   "id": "20ba2cf3-7501-4961-98e7-208af464b7ee",
   "metadata": {
    "editable": true,
    "slideshow": {
     "slide_type": ""
    },
    "tags": []
   },
   "source": [
    "The file path will be defined by joining `folder` and `file name`. The [tempfile](https://docs.python.org/3/library/tempfile.html) library that comes with Python is used for this reason."
   ]
  },
  {
   "cell_type": "code",
   "execution_count": 15,
   "id": "3953004e-ada5-4c2f-a163-9cc38cfd270c",
   "metadata": {
    "editable": true,
    "slideshow": {
     "slide_type": ""
    },
    "tags": []
   },
   "outputs": [],
   "source": [
    "temp = Path(tempfile.mkdtemp())\n",
    "zip_path = temp / \"data.zip\""
   ]
  },
  {
   "cell_type": "markdown",
   "id": "99f1432d-7240-4588-a794-a7ec1f021099",
   "metadata": {
    "editable": true,
    "slideshow": {
     "slide_type": ""
    },
    "tags": []
   },
   "source": [
    "Then the request for accessing the data in the API will send and the content of the API file will be written in the temporary file."
   ]
  },
  {
   "cell_type": "code",
   "execution_count": 16,
   "id": "cd4f5966-b89f-4233-a98f-dfd80a43b01a",
   "metadata": {
    "editable": true,
    "slideshow": {
     "slide_type": ""
    },
    "tags": []
   },
   "outputs": [],
   "source": [
    "response = requests.get(sample_data_url)\n",
    "with open(zip_path, 'wb') as file:\n",
    "    file.write(response.content)"
   ]
  },
  {
   "cell_type": "markdown",
   "id": "ec66558a-e40b-462b-9c12-08f5a6eb93e0",
   "metadata": {
    "editable": true,
    "slideshow": {
     "slide_type": ""
    },
    "tags": []
   },
   "source": [
    "As the content of the API file was in zip format, the zip file needs to be extracted."
   ]
  },
  {
   "cell_type": "code",
   "execution_count": 17,
   "id": "3eb03f82-a17f-453e-aa64-82ed7b4764d3",
   "metadata": {
    "editable": true,
    "slideshow": {
     "slide_type": ""
    },
    "tags": []
   },
   "outputs": [],
   "source": [
    "with zipfile.ZipFile(zip_path, 'r') as zip_ref:\n",
    "    zip_ref.extractall(temp)"
   ]
  },
  {
   "cell_type": "markdown",
   "id": "62728813-e15e-4a9a-b7ba-ef26c4842651",
   "metadata": {
    "editable": true,
    "slideshow": {
     "slide_type": ""
    },
    "tags": []
   },
   "source": [
    "Have a look what is in the `temp` folder.\n",
    "- use `.glob(*)` to get a list of files. This will return a [generator](https://wiki.python.org/moin/Generators) object that can be looped over\n",
    "- in order to display these files, we turn the generator into a list using `list()`"
   ]
  },
  {
   "cell_type": "code",
   "execution_count": 18,
   "id": "f2eaff81-8bec-4f8d-93dc-3c74e0439bd0",
   "metadata": {
    "editable": true,
    "slideshow": {
     "slide_type": ""
    },
    "tags": []
   },
   "outputs": [
    {
     "data": {
      "text/plain": [
       "[PosixPath('/tmp/tmp73pp0lp0/data.zip'),\n",
       " PosixPath('/tmp/tmp73pp0lp0/layers'),\n",
       " PosixPath('/tmp/tmp73pp0lp0/LBM2018IS_DD.json'),\n",
       " PosixPath('/tmp/tmp73pp0lp0/LBM2018_IS_DD_shp - Copy'),\n",
       " PosixPath('/tmp/tmp73pp0lp0/LBM2018_IS_DD_shp.zip'),\n",
       " PosixPath('/tmp/tmp73pp0lp0/LBM_2018_IS_DD.gdb.zip'),\n",
       " PosixPath('/tmp/tmp73pp0lp0/LBM_2018_IS_DD_gdb')]"
      ]
     },
     "execution_count": 18,
     "metadata": {},
     "output_type": "execute_result"
    }
   ],
   "source": [
    "list(temp.glob(\"*\"))"
   ]
  },
  {
   "cell_type": "markdown",
   "id": "a8dfec6c-d587-49be-9a33-e66413d69954",
   "metadata": {
    "editable": true,
    "slideshow": {
     "slide_type": ""
    },
    "tags": []
   },
   "source": [
    "## Geodatabase Format"
   ]
  },
  {
   "cell_type": "markdown",
   "id": "b3e56079-200d-405a-be36-0801f9df63ae",
   "metadata": {
    "editable": true,
    "slideshow": {
     "slide_type": ""
    },
    "tags": []
   },
   "source": [
    "Considering the Geodatabase as a zip format file stored in an API, For handling the HTTP requests and zip files, creating a temporary folder for preventing storing data in local system, loading the geospatial data and working with the path of the files the packages `request`, `zipfile`, `tempfile`,`geopandas` and `os`, imported."
   ]
  },
  {
   "cell_type": "code",
   "execution_count": 19,
   "id": "0faa6171-e912-42a8-a712-26e6fef834ae",
   "metadata": {
    "editable": true,
    "slideshow": {
     "slide_type": ""
    },
    "tags": []
   },
   "outputs": [],
   "source": [
    "import geopandas as gp"
   ]
  },
  {
   "cell_type": "markdown",
   "id": "d8b82619-63c2-457d-8c80-88e511823923",
   "metadata": {
    "editable": true,
    "slideshow": {
     "slide_type": ""
    },
    "tags": []
   },
   "source": [
    "Then the same as the method mentioned in the locally stored geodatabases the file path is generated and the file loaded in the defined path. "
   ]
  },
  {
   "cell_type": "code",
   "execution_count": 20,
   "id": "3014d447-5743-4371-89f9-6ccd1f79c3e4",
   "metadata": {
    "editable": true,
    "slideshow": {
     "slide_type": ""
    },
    "tags": []
   },
   "outputs": [
    {
     "ename": "DriverError",
     "evalue": "/tmp/tmp73pp0lp0/Biotopwerte_Dresden_2018.gdb: No such file or directory",
     "output_type": "error",
     "traceback": [
      "\u001b[31m---------------------------------------------------------------------------\u001b[39m",
      "\u001b[31mCPLE_OpenFailedError\u001b[39m                      Traceback (most recent call last)",
      "\u001b[36mFile \u001b[39m\u001b[32mfiona/_shim.pyx:83\u001b[39m, in \u001b[36mfiona._shim.gdal_open_vector\u001b[39m\u001b[34m()\u001b[39m\n",
      "\u001b[36mFile \u001b[39m\u001b[32mfiona/_err.pyx:291\u001b[39m, in \u001b[36mfiona._err.exc_wrap_pointer\u001b[39m\u001b[34m()\u001b[39m\n",
      "\u001b[31mCPLE_OpenFailedError\u001b[39m: /tmp/tmp73pp0lp0/Biotopwerte_Dresden_2018.gdb: No such file or directory",
      "\nDuring handling of the above exception, another exception occurred:\n",
      "\u001b[31mDriverError\u001b[39m                               Traceback (most recent call last)",
      "\u001b[36mCell\u001b[39m\u001b[36m \u001b[39m\u001b[32mIn[20]\u001b[39m\u001b[32m, line 2\u001b[39m\n\u001b[32m      1\u001b[39m gdb_path = temp / \u001b[33m\"\u001b[39m\u001b[33mBiotopwerte_Dresden_2018.gdb\u001b[39m\u001b[33m\"\u001b[39m\n\u001b[32m----> \u001b[39m\u001b[32m2\u001b[39m gdf = \u001b[43mgp\u001b[49m\u001b[43m.\u001b[49m\u001b[43mread_file\u001b[49m\u001b[43m(\u001b[49m\u001b[43mgdb_path\u001b[49m\u001b[43m)\u001b[49m\n",
      "\u001b[36mFile \u001b[39m\u001b[32m/opt/conda/envs/worker_env/lib/python3.11/site-packages/geopandas/io/file.py:289\u001b[39m, in \u001b[36m_read_file\u001b[39m\u001b[34m(filename, bbox, mask, rows, engine, **kwargs)\u001b[39m\n\u001b[32m    286\u001b[39m     \u001b[38;5;28;01melse\u001b[39;00m:\n\u001b[32m    287\u001b[39m         path_or_bytes = filename\n\u001b[32m--> \u001b[39m\u001b[32m289\u001b[39m     \u001b[38;5;28;01mreturn\u001b[39;00m \u001b[43m_read_file_fiona\u001b[49m\u001b[43m(\u001b[49m\n\u001b[32m    290\u001b[39m \u001b[43m        \u001b[49m\u001b[43mpath_or_bytes\u001b[49m\u001b[43m,\u001b[49m\u001b[43m \u001b[49m\u001b[43mfrom_bytes\u001b[49m\u001b[43m,\u001b[49m\u001b[43m \u001b[49m\u001b[43mbbox\u001b[49m\u001b[43m=\u001b[49m\u001b[43mbbox\u001b[49m\u001b[43m,\u001b[49m\u001b[43m \u001b[49m\u001b[43mmask\u001b[49m\u001b[43m=\u001b[49m\u001b[43mmask\u001b[49m\u001b[43m,\u001b[49m\u001b[43m \u001b[49m\u001b[43mrows\u001b[49m\u001b[43m=\u001b[49m\u001b[43mrows\u001b[49m\u001b[43m,\u001b[49m\u001b[43m \u001b[49m\u001b[43m*\u001b[49m\u001b[43m*\u001b[49m\u001b[43mkwargs\u001b[49m\n\u001b[32m    291\u001b[39m \u001b[43m    \u001b[49m\u001b[43m)\u001b[49m\n\u001b[32m    293\u001b[39m \u001b[38;5;28;01melse\u001b[39;00m:\n\u001b[32m    294\u001b[39m     \u001b[38;5;28;01mraise\u001b[39;00m \u001b[38;5;167;01mValueError\u001b[39;00m(\u001b[33mf\u001b[39m\u001b[33m\"\u001b[39m\u001b[33munknown engine \u001b[39m\u001b[33m'\u001b[39m\u001b[38;5;132;01m{\u001b[39;00mengine\u001b[38;5;132;01m}\u001b[39;00m\u001b[33m'\u001b[39m\u001b[33m\"\u001b[39m)\n",
      "\u001b[36mFile \u001b[39m\u001b[32m/opt/conda/envs/worker_env/lib/python3.11/site-packages/geopandas/io/file.py:315\u001b[39m, in \u001b[36m_read_file_fiona\u001b[39m\u001b[34m(path_or_bytes, from_bytes, bbox, mask, rows, where, **kwargs)\u001b[39m\n\u001b[32m    312\u001b[39m     reader = fiona.open\n\u001b[32m    314\u001b[39m \u001b[38;5;28;01mwith\u001b[39;00m fiona_env():\n\u001b[32m--> \u001b[39m\u001b[32m315\u001b[39m     \u001b[38;5;28;01mwith\u001b[39;00m \u001b[43mreader\u001b[49m\u001b[43m(\u001b[49m\u001b[43mpath_or_bytes\u001b[49m\u001b[43m,\u001b[49m\u001b[43m \u001b[49m\u001b[43m*\u001b[49m\u001b[43m*\u001b[49m\u001b[43mkwargs\u001b[49m\u001b[43m)\u001b[49m \u001b[38;5;28;01mas\u001b[39;00m features:\n\u001b[32m    316\u001b[39m         crs = features.crs_wkt\n\u001b[32m    317\u001b[39m         \u001b[38;5;66;03m# attempt to get EPSG code\u001b[39;00m\n",
      "\u001b[36mFile \u001b[39m\u001b[32m/opt/conda/envs/worker_env/lib/python3.11/site-packages/fiona/env.py:408\u001b[39m, in \u001b[36mensure_env_with_credentials.<locals>.wrapper\u001b[39m\u001b[34m(*args, **kwargs)\u001b[39m\n\u001b[32m    405\u001b[39m \u001b[38;5;129m@wraps\u001b[39m(f)\n\u001b[32m    406\u001b[39m \u001b[38;5;28;01mdef\u001b[39;00m\u001b[38;5;250m \u001b[39m\u001b[34mwrapper\u001b[39m(*args, **kwargs):\n\u001b[32m    407\u001b[39m     \u001b[38;5;28;01mif\u001b[39;00m local._env:\n\u001b[32m--> \u001b[39m\u001b[32m408\u001b[39m         \u001b[38;5;28;01mreturn\u001b[39;00m \u001b[43mf\u001b[49m\u001b[43m(\u001b[49m\u001b[43m*\u001b[49m\u001b[43margs\u001b[49m\u001b[43m,\u001b[49m\u001b[43m \u001b[49m\u001b[43m*\u001b[49m\u001b[43m*\u001b[49m\u001b[43mkwargs\u001b[49m\u001b[43m)\u001b[49m\n\u001b[32m    409\u001b[39m     \u001b[38;5;28;01melse\u001b[39;00m:\n\u001b[32m    410\u001b[39m         \u001b[38;5;28;01mif\u001b[39;00m \u001b[38;5;28misinstance\u001b[39m(args[\u001b[32m0\u001b[39m], \u001b[38;5;28mstr\u001b[39m):\n",
      "\u001b[36mFile \u001b[39m\u001b[32m/opt/conda/envs/worker_env/lib/python3.11/site-packages/fiona/__init__.py:264\u001b[39m, in \u001b[36mopen\u001b[39m\u001b[34m(fp, mode, driver, schema, crs, encoding, layer, vfs, enabled_drivers, crs_wkt, **kwargs)\u001b[39m\n\u001b[32m    261\u001b[39m     path = parse_path(fp)\n\u001b[32m    263\u001b[39m \u001b[38;5;28;01mif\u001b[39;00m mode \u001b[38;5;129;01min\u001b[39;00m (\u001b[33m'\u001b[39m\u001b[33ma\u001b[39m\u001b[33m'\u001b[39m, \u001b[33m'\u001b[39m\u001b[33mr\u001b[39m\u001b[33m'\u001b[39m):\n\u001b[32m--> \u001b[39m\u001b[32m264\u001b[39m     c = \u001b[43mCollection\u001b[49m\u001b[43m(\u001b[49m\u001b[43mpath\u001b[49m\u001b[43m,\u001b[49m\u001b[43m \u001b[49m\u001b[43mmode\u001b[49m\u001b[43m,\u001b[49m\u001b[43m \u001b[49m\u001b[43mdriver\u001b[49m\u001b[43m=\u001b[49m\u001b[43mdriver\u001b[49m\u001b[43m,\u001b[49m\u001b[43m \u001b[49m\u001b[43mencoding\u001b[49m\u001b[43m=\u001b[49m\u001b[43mencoding\u001b[49m\u001b[43m,\u001b[49m\n\u001b[32m    265\u001b[39m \u001b[43m                   \u001b[49m\u001b[43mlayer\u001b[49m\u001b[43m=\u001b[49m\u001b[43mlayer\u001b[49m\u001b[43m,\u001b[49m\u001b[43m \u001b[49m\u001b[43menabled_drivers\u001b[49m\u001b[43m=\u001b[49m\u001b[43menabled_drivers\u001b[49m\u001b[43m,\u001b[49m\u001b[43m \u001b[49m\u001b[43m*\u001b[49m\u001b[43m*\u001b[49m\u001b[43mkwargs\u001b[49m\u001b[43m)\u001b[49m\n\u001b[32m    266\u001b[39m \u001b[38;5;28;01melif\u001b[39;00m mode == \u001b[33m'\u001b[39m\u001b[33mw\u001b[39m\u001b[33m'\u001b[39m:\n\u001b[32m    267\u001b[39m     \u001b[38;5;28;01mif\u001b[39;00m schema:\n\u001b[32m    268\u001b[39m         \u001b[38;5;66;03m# Make an ordered dict of schema properties.\u001b[39;00m\n",
      "\u001b[36mFile \u001b[39m\u001b[32m/opt/conda/envs/worker_env/lib/python3.11/site-packages/fiona/collection.py:162\u001b[39m, in \u001b[36mCollection.__init__\u001b[39m\u001b[34m(self, path, mode, driver, schema, crs, encoding, layer, vsi, archive, enabled_drivers, crs_wkt, ignore_fields, ignore_geometry, **kwargs)\u001b[39m\n\u001b[32m    160\u001b[39m \u001b[38;5;28;01mif\u001b[39;00m \u001b[38;5;28mself\u001b[39m.mode == \u001b[33m'\u001b[39m\u001b[33mr\u001b[39m\u001b[33m'\u001b[39m:\n\u001b[32m    161\u001b[39m     \u001b[38;5;28mself\u001b[39m.session = Session()\n\u001b[32m--> \u001b[39m\u001b[32m162\u001b[39m     \u001b[38;5;28;43mself\u001b[39;49m\u001b[43m.\u001b[49m\u001b[43msession\u001b[49m\u001b[43m.\u001b[49m\u001b[43mstart\u001b[49m\u001b[43m(\u001b[49m\u001b[38;5;28;43mself\u001b[39;49m\u001b[43m,\u001b[49m\u001b[43m \u001b[49m\u001b[43m*\u001b[49m\u001b[43m*\u001b[49m\u001b[43mkwargs\u001b[49m\u001b[43m)\u001b[49m\n\u001b[32m    163\u001b[39m \u001b[38;5;28;01melif\u001b[39;00m \u001b[38;5;28mself\u001b[39m.mode \u001b[38;5;129;01min\u001b[39;00m (\u001b[33m'\u001b[39m\u001b[33ma\u001b[39m\u001b[33m'\u001b[39m, \u001b[33m'\u001b[39m\u001b[33mw\u001b[39m\u001b[33m'\u001b[39m):\n\u001b[32m    164\u001b[39m     \u001b[38;5;28mself\u001b[39m.session = WritingSession()\n",
      "\u001b[36mFile \u001b[39m\u001b[32mfiona/ogrext.pyx:540\u001b[39m, in \u001b[36mfiona.ogrext.Session.start\u001b[39m\u001b[34m()\u001b[39m\n",
      "\u001b[36mFile \u001b[39m\u001b[32mfiona/_shim.pyx:90\u001b[39m, in \u001b[36mfiona._shim.gdal_open_vector\u001b[39m\u001b[34m()\u001b[39m\n",
      "\u001b[31mDriverError\u001b[39m: /tmp/tmp73pp0lp0/Biotopwerte_Dresden_2018.gdb: No such file or directory"
     ]
    }
   ],
   "source": [
    "gdb_path = temp / \"Biotopwerte_Dresden_2018.gdb\"\n",
    "gdf = gp.read_file(gdb_path)"
   ]
  },
  {
   "cell_type": "markdown",
   "id": "5528f68a-3fe6-496a-be2a-e820a1e96f86",
   "metadata": {
    "editable": true,
    "slideshow": {
     "slide_type": ""
    },
    "tags": []
   },
   "source": [
    "If there is more than one layer in the geodatabase, without defining the name of the layer, one layer by default will be added. So it is important to know which layers needed.\n",
    "\n",
    "For this reason the `listlayers` function from the `fiona` library imported. "
   ]
  },
  {
   "cell_type": "code",
   "execution_count": 21,
   "id": "ecc3baea-7d8d-43b6-8d48-99191d9265bd",
   "metadata": {
    "editable": true,
    "slideshow": {
     "slide_type": ""
    },
    "tags": []
   },
   "outputs": [],
   "source": [
    "from fiona import listlayers"
   ]
  },
  {
   "cell_type": "markdown",
   "id": "9bc33f39-9b93-4215-b468-f5204df84369",
   "metadata": {
    "editable": true,
    "slideshow": {
     "slide_type": ""
    },
    "tags": []
   },
   "source": [
    "Then by calling the path of the geodatabase using this function, the list of the layers are prepared."
   ]
  },
  {
   "cell_type": "code",
   "execution_count": 22,
   "id": "b3492aff-65dd-4a91-a6fa-162abb043cc1",
   "metadata": {
    "editable": true,
    "slideshow": {
     "slide_type": ""
    },
    "tags": []
   },
   "outputs": [
    {
     "ename": "DriverError",
     "evalue": "/tmp/tmp73pp0lp0/Biotopwerte_Dresden_2018.gdb: No such file or directory",
     "output_type": "error",
     "traceback": [
      "\u001b[31m---------------------------------------------------------------------------\u001b[39m",
      "\u001b[31mCPLE_OpenFailedError\u001b[39m                      Traceback (most recent call last)",
      "\u001b[36mFile \u001b[39m\u001b[32mfiona/_shim.pyx:83\u001b[39m, in \u001b[36mfiona._shim.gdal_open_vector\u001b[39m\u001b[34m()\u001b[39m\n",
      "\u001b[36mFile \u001b[39m\u001b[32mfiona/_err.pyx:291\u001b[39m, in \u001b[36mfiona._err.exc_wrap_pointer\u001b[39m\u001b[34m()\u001b[39m\n",
      "\u001b[31mCPLE_OpenFailedError\u001b[39m: /tmp/tmp73pp0lp0/Biotopwerte_Dresden_2018.gdb: No such file or directory",
      "\nDuring handling of the above exception, another exception occurred:\n",
      "\u001b[31mDriverError\u001b[39m                               Traceback (most recent call last)",
      "\u001b[36mCell\u001b[39m\u001b[36m \u001b[39m\u001b[32mIn[22]\u001b[39m\u001b[32m, line 1\u001b[39m\n\u001b[32m----> \u001b[39m\u001b[32m1\u001b[39m layers = \u001b[43mlistlayers\u001b[49m\u001b[43m(\u001b[49m\u001b[43mgdb_path\u001b[49m\u001b[43m)\u001b[49m\n",
      "\u001b[36mFile \u001b[39m\u001b[32m/opt/conda/envs/worker_env/lib/python3.11/site-packages/fiona/env.py:417\u001b[39m, in \u001b[36mensure_env_with_credentials.<locals>.wrapper\u001b[39m\u001b[34m(*args, **kwargs)\u001b[39m\n\u001b[32m    415\u001b[39m \u001b[38;5;28;01mwith\u001b[39;00m Env.from_defaults(session=session):\n\u001b[32m    416\u001b[39m     log.debug(\u001b[33m\"\u001b[39m\u001b[33mCredentialized: \u001b[39m\u001b[38;5;132;01m{!r}\u001b[39;00m\u001b[33m\"\u001b[39m.format(getenv()))\n\u001b[32m--> \u001b[39m\u001b[32m417\u001b[39m     \u001b[38;5;28;01mreturn\u001b[39;00m \u001b[43mf\u001b[49m\u001b[43m(\u001b[49m\u001b[43m*\u001b[49m\u001b[43margs\u001b[49m\u001b[43m,\u001b[49m\u001b[43m \u001b[49m\u001b[43m*\u001b[49m\u001b[43m*\u001b[49m\u001b[43mkwargs\u001b[49m\u001b[43m)\u001b[49m\n",
      "\u001b[36mFile \u001b[39m\u001b[32m/opt/conda/envs/worker_env/lib/python3.11/site-packages/fiona/__init__.py:362\u001b[39m, in \u001b[36mlistlayers\u001b[39m\u001b[34m(fp, vfs)\u001b[39m\n\u001b[32m    359\u001b[39m \u001b[38;5;28;01melse\u001b[39;00m:\n\u001b[32m    360\u001b[39m     pobj = parse_path(fp)\n\u001b[32m--> \u001b[39m\u001b[32m362\u001b[39m \u001b[38;5;28;01mreturn\u001b[39;00m \u001b[43m_listlayers\u001b[49m\u001b[43m(\u001b[49m\u001b[43mvsi_path\u001b[49m\u001b[43m(\u001b[49m\u001b[43mpobj\u001b[49m\u001b[43m)\u001b[49m\u001b[43m)\u001b[49m\n",
      "\u001b[36mFile \u001b[39m\u001b[32mfiona/ogrext.pyx:1659\u001b[39m, in \u001b[36mfiona.ogrext._listlayers\u001b[39m\u001b[34m()\u001b[39m\n",
      "\u001b[36mFile \u001b[39m\u001b[32mfiona/_shim.pyx:90\u001b[39m, in \u001b[36mfiona._shim.gdal_open_vector\u001b[39m\u001b[34m()\u001b[39m\n",
      "\u001b[31mDriverError\u001b[39m: /tmp/tmp73pp0lp0/Biotopwerte_Dresden_2018.gdb: No such file or directory"
     ]
    }
   ],
   "source": [
    "layers = listlayers(gdb_path)"
   ]
  },
  {
   "cell_type": "markdown",
   "id": "d369c060-997d-4026-ac60-4df78406f65f",
   "metadata": {
    "editable": true,
    "slideshow": {
     "slide_type": ""
    },
    "tags": []
   },
   "source": [
    "And then it is possible to print them to see the layer names in the output."
   ]
  },
  {
   "cell_type": "code",
   "execution_count": 23,
   "id": "3d75b115-203f-498f-9e63-8d22bdebd391",
   "metadata": {
    "editable": true,
    "slideshow": {
     "slide_type": ""
    },
    "tags": []
   },
   "outputs": [
    {
     "ename": "NameError",
     "evalue": "name 'layers' is not defined",
     "output_type": "error",
     "traceback": [
      "\u001b[31m---------------------------------------------------------------------------\u001b[39m",
      "\u001b[31mNameError\u001b[39m                                 Traceback (most recent call last)",
      "\u001b[36mCell\u001b[39m\u001b[36m \u001b[39m\u001b[32mIn[23]\u001b[39m\u001b[32m, line 1\u001b[39m\n\u001b[32m----> \u001b[39m\u001b[32m1\u001b[39m \u001b[38;5;28mprint\u001b[39m(\u001b[43mlayers\u001b[49m)\n",
      "\u001b[31mNameError\u001b[39m: name 'layers' is not defined"
     ]
    }
   ],
   "source": [
    "print(layers)"
   ]
  },
  {
   "cell_type": "markdown",
   "id": "79a946fd-afd3-4b74-a8f7-4290916c2f39",
   "metadata": {
    "editable": true,
    "slideshow": {
     "slide_type": ""
    },
    "tags": []
   },
   "source": [
    "Now the required layers are called specifically to load."
   ]
  },
  {
   "cell_type": "code",
   "execution_count": 24,
   "id": "7085d0bf-18b0-4272-8675-71c6966a5cb0",
   "metadata": {
    "editable": true,
    "slideshow": {
     "slide_type": ""
    },
    "tags": []
   },
   "outputs": [
    {
     "ename": "DriverError",
     "evalue": "/tmp/tmp73pp0lp0/Biotopwerte_Dresden_2018.gdb: No such file or directory",
     "output_type": "error",
     "traceback": [
      "\u001b[31m---------------------------------------------------------------------------\u001b[39m",
      "\u001b[31mCPLE_OpenFailedError\u001b[39m                      Traceback (most recent call last)",
      "\u001b[36mFile \u001b[39m\u001b[32mfiona/_shim.pyx:83\u001b[39m, in \u001b[36mfiona._shim.gdal_open_vector\u001b[39m\u001b[34m()\u001b[39m\n",
      "\u001b[36mFile \u001b[39m\u001b[32mfiona/_err.pyx:291\u001b[39m, in \u001b[36mfiona._err.exc_wrap_pointer\u001b[39m\u001b[34m()\u001b[39m\n",
      "\u001b[31mCPLE_OpenFailedError\u001b[39m: /tmp/tmp73pp0lp0/Biotopwerte_Dresden_2018.gdb: No such file or directory",
      "\nDuring handling of the above exception, another exception occurred:\n",
      "\u001b[31mDriverError\u001b[39m                               Traceback (most recent call last)",
      "\u001b[36mCell\u001b[39m\u001b[36m \u001b[39m\u001b[32mIn[24]\u001b[39m\u001b[32m, line 1\u001b[39m\n\u001b[32m----> \u001b[39m\u001b[32m1\u001b[39m gdf = \u001b[43mgp\u001b[49m\u001b[43m.\u001b[49m\u001b[43mread_file\u001b[49m\u001b[43m(\u001b[49m\u001b[43mgdb_path\u001b[49m\u001b[43m,\u001b[49m\u001b[43m \u001b[49m\u001b[43mlayer\u001b[49m\u001b[43m=\u001b[49m\u001b[33;43m\"\u001b[39;49m\u001b[33;43mBiotopwerte_Dresden_2018\u001b[39;49m\u001b[33;43m\"\u001b[39;49m\u001b[43m)\u001b[49m\n",
      "\u001b[36mFile \u001b[39m\u001b[32m/opt/conda/envs/worker_env/lib/python3.11/site-packages/geopandas/io/file.py:289\u001b[39m, in \u001b[36m_read_file\u001b[39m\u001b[34m(filename, bbox, mask, rows, engine, **kwargs)\u001b[39m\n\u001b[32m    286\u001b[39m     \u001b[38;5;28;01melse\u001b[39;00m:\n\u001b[32m    287\u001b[39m         path_or_bytes = filename\n\u001b[32m--> \u001b[39m\u001b[32m289\u001b[39m     \u001b[38;5;28;01mreturn\u001b[39;00m \u001b[43m_read_file_fiona\u001b[49m\u001b[43m(\u001b[49m\n\u001b[32m    290\u001b[39m \u001b[43m        \u001b[49m\u001b[43mpath_or_bytes\u001b[49m\u001b[43m,\u001b[49m\u001b[43m \u001b[49m\u001b[43mfrom_bytes\u001b[49m\u001b[43m,\u001b[49m\u001b[43m \u001b[49m\u001b[43mbbox\u001b[49m\u001b[43m=\u001b[49m\u001b[43mbbox\u001b[49m\u001b[43m,\u001b[49m\u001b[43m \u001b[49m\u001b[43mmask\u001b[49m\u001b[43m=\u001b[49m\u001b[43mmask\u001b[49m\u001b[43m,\u001b[49m\u001b[43m \u001b[49m\u001b[43mrows\u001b[49m\u001b[43m=\u001b[49m\u001b[43mrows\u001b[49m\u001b[43m,\u001b[49m\u001b[43m \u001b[49m\u001b[43m*\u001b[49m\u001b[43m*\u001b[49m\u001b[43mkwargs\u001b[49m\n\u001b[32m    291\u001b[39m \u001b[43m    \u001b[49m\u001b[43m)\u001b[49m\n\u001b[32m    293\u001b[39m \u001b[38;5;28;01melse\u001b[39;00m:\n\u001b[32m    294\u001b[39m     \u001b[38;5;28;01mraise\u001b[39;00m \u001b[38;5;167;01mValueError\u001b[39;00m(\u001b[33mf\u001b[39m\u001b[33m\"\u001b[39m\u001b[33munknown engine \u001b[39m\u001b[33m'\u001b[39m\u001b[38;5;132;01m{\u001b[39;00mengine\u001b[38;5;132;01m}\u001b[39;00m\u001b[33m'\u001b[39m\u001b[33m\"\u001b[39m)\n",
      "\u001b[36mFile \u001b[39m\u001b[32m/opt/conda/envs/worker_env/lib/python3.11/site-packages/geopandas/io/file.py:315\u001b[39m, in \u001b[36m_read_file_fiona\u001b[39m\u001b[34m(path_or_bytes, from_bytes, bbox, mask, rows, where, **kwargs)\u001b[39m\n\u001b[32m    312\u001b[39m     reader = fiona.open\n\u001b[32m    314\u001b[39m \u001b[38;5;28;01mwith\u001b[39;00m fiona_env():\n\u001b[32m--> \u001b[39m\u001b[32m315\u001b[39m     \u001b[38;5;28;01mwith\u001b[39;00m \u001b[43mreader\u001b[49m\u001b[43m(\u001b[49m\u001b[43mpath_or_bytes\u001b[49m\u001b[43m,\u001b[49m\u001b[43m \u001b[49m\u001b[43m*\u001b[49m\u001b[43m*\u001b[49m\u001b[43mkwargs\u001b[49m\u001b[43m)\u001b[49m \u001b[38;5;28;01mas\u001b[39;00m features:\n\u001b[32m    316\u001b[39m         crs = features.crs_wkt\n\u001b[32m    317\u001b[39m         \u001b[38;5;66;03m# attempt to get EPSG code\u001b[39;00m\n",
      "\u001b[36mFile \u001b[39m\u001b[32m/opt/conda/envs/worker_env/lib/python3.11/site-packages/fiona/env.py:408\u001b[39m, in \u001b[36mensure_env_with_credentials.<locals>.wrapper\u001b[39m\u001b[34m(*args, **kwargs)\u001b[39m\n\u001b[32m    405\u001b[39m \u001b[38;5;129m@wraps\u001b[39m(f)\n\u001b[32m    406\u001b[39m \u001b[38;5;28;01mdef\u001b[39;00m\u001b[38;5;250m \u001b[39m\u001b[34mwrapper\u001b[39m(*args, **kwargs):\n\u001b[32m    407\u001b[39m     \u001b[38;5;28;01mif\u001b[39;00m local._env:\n\u001b[32m--> \u001b[39m\u001b[32m408\u001b[39m         \u001b[38;5;28;01mreturn\u001b[39;00m \u001b[43mf\u001b[49m\u001b[43m(\u001b[49m\u001b[43m*\u001b[49m\u001b[43margs\u001b[49m\u001b[43m,\u001b[49m\u001b[43m \u001b[49m\u001b[43m*\u001b[49m\u001b[43m*\u001b[49m\u001b[43mkwargs\u001b[49m\u001b[43m)\u001b[49m\n\u001b[32m    409\u001b[39m     \u001b[38;5;28;01melse\u001b[39;00m:\n\u001b[32m    410\u001b[39m         \u001b[38;5;28;01mif\u001b[39;00m \u001b[38;5;28misinstance\u001b[39m(args[\u001b[32m0\u001b[39m], \u001b[38;5;28mstr\u001b[39m):\n",
      "\u001b[36mFile \u001b[39m\u001b[32m/opt/conda/envs/worker_env/lib/python3.11/site-packages/fiona/__init__.py:264\u001b[39m, in \u001b[36mopen\u001b[39m\u001b[34m(fp, mode, driver, schema, crs, encoding, layer, vfs, enabled_drivers, crs_wkt, **kwargs)\u001b[39m\n\u001b[32m    261\u001b[39m     path = parse_path(fp)\n\u001b[32m    263\u001b[39m \u001b[38;5;28;01mif\u001b[39;00m mode \u001b[38;5;129;01min\u001b[39;00m (\u001b[33m'\u001b[39m\u001b[33ma\u001b[39m\u001b[33m'\u001b[39m, \u001b[33m'\u001b[39m\u001b[33mr\u001b[39m\u001b[33m'\u001b[39m):\n\u001b[32m--> \u001b[39m\u001b[32m264\u001b[39m     c = \u001b[43mCollection\u001b[49m\u001b[43m(\u001b[49m\u001b[43mpath\u001b[49m\u001b[43m,\u001b[49m\u001b[43m \u001b[49m\u001b[43mmode\u001b[49m\u001b[43m,\u001b[49m\u001b[43m \u001b[49m\u001b[43mdriver\u001b[49m\u001b[43m=\u001b[49m\u001b[43mdriver\u001b[49m\u001b[43m,\u001b[49m\u001b[43m \u001b[49m\u001b[43mencoding\u001b[49m\u001b[43m=\u001b[49m\u001b[43mencoding\u001b[49m\u001b[43m,\u001b[49m\n\u001b[32m    265\u001b[39m \u001b[43m                   \u001b[49m\u001b[43mlayer\u001b[49m\u001b[43m=\u001b[49m\u001b[43mlayer\u001b[49m\u001b[43m,\u001b[49m\u001b[43m \u001b[49m\u001b[43menabled_drivers\u001b[49m\u001b[43m=\u001b[49m\u001b[43menabled_drivers\u001b[49m\u001b[43m,\u001b[49m\u001b[43m \u001b[49m\u001b[43m*\u001b[49m\u001b[43m*\u001b[49m\u001b[43mkwargs\u001b[49m\u001b[43m)\u001b[49m\n\u001b[32m    266\u001b[39m \u001b[38;5;28;01melif\u001b[39;00m mode == \u001b[33m'\u001b[39m\u001b[33mw\u001b[39m\u001b[33m'\u001b[39m:\n\u001b[32m    267\u001b[39m     \u001b[38;5;28;01mif\u001b[39;00m schema:\n\u001b[32m    268\u001b[39m         \u001b[38;5;66;03m# Make an ordered dict of schema properties.\u001b[39;00m\n",
      "\u001b[36mFile \u001b[39m\u001b[32m/opt/conda/envs/worker_env/lib/python3.11/site-packages/fiona/collection.py:162\u001b[39m, in \u001b[36mCollection.__init__\u001b[39m\u001b[34m(self, path, mode, driver, schema, crs, encoding, layer, vsi, archive, enabled_drivers, crs_wkt, ignore_fields, ignore_geometry, **kwargs)\u001b[39m\n\u001b[32m    160\u001b[39m \u001b[38;5;28;01mif\u001b[39;00m \u001b[38;5;28mself\u001b[39m.mode == \u001b[33m'\u001b[39m\u001b[33mr\u001b[39m\u001b[33m'\u001b[39m:\n\u001b[32m    161\u001b[39m     \u001b[38;5;28mself\u001b[39m.session = Session()\n\u001b[32m--> \u001b[39m\u001b[32m162\u001b[39m     \u001b[38;5;28;43mself\u001b[39;49m\u001b[43m.\u001b[49m\u001b[43msession\u001b[49m\u001b[43m.\u001b[49m\u001b[43mstart\u001b[49m\u001b[43m(\u001b[49m\u001b[38;5;28;43mself\u001b[39;49m\u001b[43m,\u001b[49m\u001b[43m \u001b[49m\u001b[43m*\u001b[49m\u001b[43m*\u001b[49m\u001b[43mkwargs\u001b[49m\u001b[43m)\u001b[49m\n\u001b[32m    163\u001b[39m \u001b[38;5;28;01melif\u001b[39;00m \u001b[38;5;28mself\u001b[39m.mode \u001b[38;5;129;01min\u001b[39;00m (\u001b[33m'\u001b[39m\u001b[33ma\u001b[39m\u001b[33m'\u001b[39m, \u001b[33m'\u001b[39m\u001b[33mw\u001b[39m\u001b[33m'\u001b[39m):\n\u001b[32m    164\u001b[39m     \u001b[38;5;28mself\u001b[39m.session = WritingSession()\n",
      "\u001b[36mFile \u001b[39m\u001b[32mfiona/ogrext.pyx:540\u001b[39m, in \u001b[36mfiona.ogrext.Session.start\u001b[39m\u001b[34m()\u001b[39m\n",
      "\u001b[36mFile \u001b[39m\u001b[32mfiona/_shim.pyx:90\u001b[39m, in \u001b[36mfiona._shim.gdal_open_vector\u001b[39m\u001b[34m()\u001b[39m\n",
      "\u001b[31mDriverError\u001b[39m: /tmp/tmp73pp0lp0/Biotopwerte_Dresden_2018.gdb: No such file or directory"
     ]
    }
   ],
   "source": [
    "gdf = gp.read_file(gdb_path, layer=\"Biotopwerte_Dresden_2018\")"
   ]
  },
  {
   "cell_type": "markdown",
   "id": "9e7c498e-d2c7-4360-91ab-897a3d65856d",
   "metadata": {
    "editable": true,
    "slideshow": {
     "slide_type": ""
    },
    "tags": []
   },
   "source": [
    "Preview the data"
   ]
  },
  {
   "cell_type": "code",
   "execution_count": 25,
   "id": "54fe1e8b-420a-4ac9-95d6-3bb3d03e76e8",
   "metadata": {
    "editable": true,
    "slideshow": {
     "slide_type": ""
    },
    "tags": [
     "hide-output"
    ]
   },
   "outputs": [
    {
     "ename": "NameError",
     "evalue": "name 'gdf' is not defined",
     "output_type": "error",
     "traceback": [
      "\u001b[31m---------------------------------------------------------------------------\u001b[39m",
      "\u001b[31mNameError\u001b[39m                                 Traceback (most recent call last)",
      "\u001b[36mCell\u001b[39m\u001b[36m \u001b[39m\u001b[32mIn[25]\u001b[39m\u001b[32m, line 1\u001b[39m\n\u001b[32m----> \u001b[39m\u001b[32m1\u001b[39m \u001b[43mgdf\u001b[49m.head()\n",
      "\u001b[31mNameError\u001b[39m: name 'gdf' is not defined"
     ]
    }
   ],
   "source": [
    "gdf.head()"
   ]
  },
  {
   "cell_type": "markdown",
   "id": "0cca40aa-071b-4d12-bb1c-3a85c8ac5ba6",
   "metadata": {
    "editable": true,
    "slideshow": {
     "slide_type": ""
    },
    "tags": []
   },
   "source": [
    "For visualizing, the function `plot` is using which explained in the [Creating Map Chapter](https://stag.training.fdz.ioer.info/notebooks/305_mapping.html#creating-maps)"
   ]
  },
  {
   "cell_type": "code",
   "execution_count": 26,
   "id": "194173de-e409-4e35-b97b-13e654569ca8",
   "metadata": {
    "editable": true,
    "slideshow": {
     "slide_type": ""
    },
    "tags": [
     "hide-input"
    ]
   },
   "outputs": [
    {
     "ename": "NameError",
     "evalue": "name 'gdf' is not defined",
     "output_type": "error",
     "traceback": [
      "\u001b[31m---------------------------------------------------------------------------\u001b[39m",
      "\u001b[31mNameError\u001b[39m                                 Traceback (most recent call last)",
      "\u001b[36mCell\u001b[39m\u001b[36m \u001b[39m\u001b[32mIn[26]\u001b[39m\u001b[32m, line 3\u001b[39m\n\u001b[32m      1\u001b[39m \u001b[38;5;28;01mimport\u001b[39;00m\u001b[38;5;250m \u001b[39m\u001b[34;01mmatplotlib\u001b[39;00m\u001b[34;01m.\u001b[39;00m\u001b[34;01mpyplot\u001b[39;00m\u001b[38;5;250m \u001b[39m\u001b[38;5;28;01mas\u001b[39;00m\u001b[38;5;250m \u001b[39m\u001b[34;01mplt\u001b[39;00m\n\u001b[32m----> \u001b[39m\u001b[32m3\u001b[39m ax = \u001b[43mgdf\u001b[49m.plot()\n\u001b[32m      4\u001b[39m ax.set_title(\u001b[33m'\u001b[39m\u001b[33mDresden\u001b[39m\u001b[33m'\u001b[39m)\n\u001b[32m      5\u001b[39m ax.set_axis_off()\n",
      "\u001b[31mNameError\u001b[39m: name 'gdf' is not defined"
     ]
    }
   ],
   "source": [
    "import matplotlib.pyplot as plt\n",
    "\n",
    "ax = gdf.plot()\n",
    "ax.set_title('Dresden')\n",
    "ax.set_axis_off()"
   ]
  },
  {
   "cell_type": "markdown",
   "id": "0b1d8e97-32f0-4aa8-9536-85a07bd090c0",
   "metadata": {
    "editable": true,
    "slideshow": {
     "slide_type": ""
    },
    "tags": []
   },
   "source": [
    "## Shapefile Format"
   ]
  },
  {
   "cell_type": "markdown",
   "id": "e6d83651-1b12-453e-a953-952e959ecf34",
   "metadata": {
    "editable": true,
    "slideshow": {
     "slide_type": ""
    },
    "tags": []
   },
   "source": [
    "Similarly, shapefiles can be loaded and plotted."
   ]
  },
  {
   "cell_type": "code",
   "execution_count": 28,
   "id": "e67ea3cd-ecf1-47ae-b4fa-51cdc8e8d3c1",
   "metadata": {
    "editable": true,
    "slideshow": {
     "slide_type": ""
    },
    "tags": []
   },
   "outputs": [
    {
     "data": {
      "text/html": [
       "<div>\n",
       "<style scoped>\n",
       "    .dataframe tbody tr th:only-of-type {\n",
       "        vertical-align: middle;\n",
       "    }\n",
       "\n",
       "    .dataframe tbody tr th {\n",
       "        vertical-align: top;\n",
       "    }\n",
       "\n",
       "    .dataframe thead th {\n",
       "        text-align: right;\n",
       "    }\n",
       "</style>\n",
       "<table border=\"1\" class=\"dataframe\">\n",
       "  <thead>\n",
       "    <tr style=\"text-align: right;\">\n",
       "      <th></th>\n",
       "      <th>CLC_st1</th>\n",
       "      <th>Biotpkt201</th>\n",
       "      <th>Shape_Leng</th>\n",
       "      <th>Shape_Area</th>\n",
       "      <th>geometry</th>\n",
       "    </tr>\n",
       "  </thead>\n",
       "  <tbody>\n",
       "    <tr>\n",
       "      <th>0</th>\n",
       "      <td>122</td>\n",
       "      <td>5.271487</td>\n",
       "      <td>210.523801</td>\n",
       "      <td>3371.947771</td>\n",
       "      <td>POLYGON ((415775.635 5650481.473, 415776.403 5...</td>\n",
       "    </tr>\n",
       "    <tr>\n",
       "      <th>1</th>\n",
       "      <td>122</td>\n",
       "      <td>5.271487</td>\n",
       "      <td>31.935928</td>\n",
       "      <td>50.075513</td>\n",
       "      <td>POLYGON ((417850.525 5650376.330, 417846.393 5...</td>\n",
       "    </tr>\n",
       "    <tr>\n",
       "      <th>2</th>\n",
       "      <td>122</td>\n",
       "      <td>5.271487</td>\n",
       "      <td>810.640513</td>\n",
       "      <td>1543.310127</td>\n",
       "      <td>POLYGON ((417886.917 5650544.364, 417909.326 5...</td>\n",
       "    </tr>\n",
       "    <tr>\n",
       "      <th>3</th>\n",
       "      <td>122</td>\n",
       "      <td>5.271487</td>\n",
       "      <td>24.509066</td>\n",
       "      <td>36.443441</td>\n",
       "      <td>POLYGON ((423453.146 5650332.060, 423453.576 5...</td>\n",
       "    </tr>\n",
       "    <tr>\n",
       "      <th>4</th>\n",
       "      <td>122</td>\n",
       "      <td>5.271487</td>\n",
       "      <td>29.937138</td>\n",
       "      <td>40.494155</td>\n",
       "      <td>POLYGON ((417331.434 5650889.039, 417330.611 5...</td>\n",
       "    </tr>\n",
       "    <tr>\n",
       "      <th>...</th>\n",
       "      <td>...</td>\n",
       "      <td>...</td>\n",
       "      <td>...</td>\n",
       "      <td>...</td>\n",
       "      <td>...</td>\n",
       "    </tr>\n",
       "    <tr>\n",
       "      <th>33918</th>\n",
       "      <td>124</td>\n",
       "      <td>8.000000</td>\n",
       "      <td>9.072443</td>\n",
       "      <td>4.947409</td>\n",
       "      <td>POLYGON ((414814.645 5666810.533, 414814.225 5...</td>\n",
       "    </tr>\n",
       "    <tr>\n",
       "      <th>33919</th>\n",
       "      <td>124</td>\n",
       "      <td>8.000000</td>\n",
       "      <td>1369.670301</td>\n",
       "      <td>63201.087919</td>\n",
       "      <td>POLYGON ((414791.962 5666543.765, 414803.055 5...</td>\n",
       "    </tr>\n",
       "    <tr>\n",
       "      <th>33920</th>\n",
       "      <td>124</td>\n",
       "      <td>8.000000</td>\n",
       "      <td>395.094767</td>\n",
       "      <td>708.068118</td>\n",
       "      <td>POLYGON ((415006.509 5666816.796, 415004.399 5...</td>\n",
       "    </tr>\n",
       "    <tr>\n",
       "      <th>33921</th>\n",
       "      <td>231</td>\n",
       "      <td>10.981298</td>\n",
       "      <td>110.373766</td>\n",
       "      <td>99.282910</td>\n",
       "      <td>POLYGON ((417478.532 5665012.465, 417477.463 5...</td>\n",
       "    </tr>\n",
       "    <tr>\n",
       "      <th>33922</th>\n",
       "      <td>231</td>\n",
       "      <td>10.981298</td>\n",
       "      <td>1401.832280</td>\n",
       "      <td>38939.551849</td>\n",
       "      <td>POLYGON ((417482.897 5665014.048, 417475.749 5...</td>\n",
       "    </tr>\n",
       "  </tbody>\n",
       "</table>\n",
       "<p>33923 rows × 5 columns</p>\n",
       "</div>"
      ],
      "text/plain": [
       "      CLC_st1  Biotpkt201   Shape_Leng    Shape_Area  \\\n",
       "0         122    5.271487   210.523801   3371.947771   \n",
       "1         122    5.271487    31.935928     50.075513   \n",
       "2         122    5.271487   810.640513   1543.310127   \n",
       "3         122    5.271487    24.509066     36.443441   \n",
       "4         122    5.271487    29.937138     40.494155   \n",
       "...       ...         ...          ...           ...   \n",
       "33918     124    8.000000     9.072443      4.947409   \n",
       "33919     124    8.000000  1369.670301  63201.087919   \n",
       "33920     124    8.000000   395.094767    708.068118   \n",
       "33921     231   10.981298   110.373766     99.282910   \n",
       "33922     231   10.981298  1401.832280  38939.551849   \n",
       "\n",
       "                                                geometry  \n",
       "0      POLYGON ((415775.635 5650481.473, 415776.403 5...  \n",
       "1      POLYGON ((417850.525 5650376.330, 417846.393 5...  \n",
       "2      POLYGON ((417886.917 5650544.364, 417909.326 5...  \n",
       "3      POLYGON ((423453.146 5650332.060, 423453.576 5...  \n",
       "4      POLYGON ((417331.434 5650889.039, 417330.611 5...  \n",
       "...                                                  ...  \n",
       "33918  POLYGON ((414814.645 5666810.533, 414814.225 5...  \n",
       "33919  POLYGON ((414791.962 5666543.765, 414803.055 5...  \n",
       "33920  POLYGON ((415006.509 5666816.796, 415004.399 5...  \n",
       "33921  POLYGON ((417478.532 5665012.465, 417477.463 5...  \n",
       "33922  POLYGON ((417482.897 5665014.048, 417475.749 5...  \n",
       "\n",
       "[33923 rows x 5 columns]"
      ]
     },
     "execution_count": 28,
     "metadata": {},
     "output_type": "execute_result"
    }
   ],
   "source": [
    "shapefile_path = INPUT / \"Biotopwert_Biodiversität\" / \"Biotopwerte_Dresden_2018.shp\"\n",
    "shapes = gp.read_file(shapefile_path)\n",
    "\n",
    "shapes #for printing"
   ]
  },
  {
   "cell_type": "markdown",
   "id": "17bac294-1bba-4e9e-af3c-dcbe2b63eff0",
   "metadata": {
    "editable": true,
    "slideshow": {
     "slide_type": ""
    },
    "tags": []
   },
   "source": [
    "**Tabular structure**"
   ]
  },
  {
   "cell_type": "markdown",
   "id": "6bec4e64-3fdf-4742-b524-e7935e017cab",
   "metadata": {
    "editable": true,
    "slideshow": {
     "slide_type": ""
    },
    "tags": []
   },
   "source": [
    "By the means of the `geopandas`, it is possible to indicate the data as a tabular structure:"
   ]
  },
  {
   "cell_type": "code",
   "execution_count": 29,
   "id": "00aa3314-4033-4f63-a129-8275610bf1dd",
   "metadata": {
    "editable": true,
    "slideshow": {
     "slide_type": ""
    },
    "tags": []
   },
   "outputs": [],
   "source": [
    "import geopandas as gpd"
   ]
  },
  {
   "cell_type": "markdown",
   "id": "9650a025-f486-4f0c-b07a-5f6f421575cd",
   "metadata": {
    "editable": true,
    "slideshow": {
     "slide_type": ""
    },
    "tags": []
   },
   "source": [
    "Now using the geopandas, the json file read and loads in the jupyter as GeoDataFrame.\n",
    "\n",
    "A GeoDataFrame is a specialized data structure from the geopandas library that is designed to handle geographic data. Unlike a regular DataFrame, a GeoDataFrame can store and process spatial information, such as points, lines, and polygons, along with other attributes. This makes it ideal for loading, analyzing, and visualizing geographic data."
   ]
  },
  {
   "cell_type": "markdown",
   "id": "075d3a01-6975-408b-b7af-5c515d96d341",
   "metadata": {
    "editable": true,
    "slideshow": {
     "slide_type": ""
    },
    "tags": []
   },
   "source": [
    "After loading the data it is possible to print the data (Considering that if the data is large by defult some of the features will be printed and the size of the data is shown below the table)."
   ]
  },
  {
   "cell_type": "markdown",
   "id": "44a72f0e-d83d-418c-a009-fae01ef7a271",
   "metadata": {
    "editable": true,
    "slideshow": {
     "slide_type": ""
    },
    "tags": []
   },
   "source": [
    "After loading the data it is possible to print the data (Considering that if the data is large by defult some of the features will be printed and the size of the data is shown below the table)."
   ]
  }
 ],
 "metadata": {
  "kernelspec": {
   "display_name": "worker_env",
   "language": "python",
   "name": "worker_env"
  },
  "language_info": {
   "codemirror_mode": {
    "name": "ipython",
    "version": 3
   },
   "file_extension": ".py",
   "mimetype": "text/x-python",
   "name": "python",
   "nbconvert_exporter": "python",
   "pygments_lexer": "ipython3",
   "version": "3.11.6"
  }
 },
 "nbformat": 4,
 "nbformat_minor": 5
}
